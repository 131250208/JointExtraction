{
 "cells": [
  {
   "cell_type": "code",
   "execution_count": 1,
   "metadata": {},
   "outputs": [],
   "source": [
    "import json\n",
    "from pprint import pprint\n",
    "from tqdm import tqdm\n",
    "from IPython.core.debugger import set_trace\n",
    "import re\n",
    "import copy\n",
    "import os"
   ]
  },
  {
   "cell_type": "code",
   "execution_count": 2,
   "metadata": {},
   "outputs": [],
   "source": [
    "ace05_ee_path = \"../extra_data/ace2005_lu/\"\n",
    "save_dir = \"../ori_data/ace2005_lu\"\n",
    "train_data_lu = json.load(open(ace05_ee_path + \"train_data.json\", \"r\", encoding = \"utf-8\"))\n",
    "dev_data_lu = json.load(open(ace05_ee_path + \"dev_data.json\", \"r\", encoding = \"utf-8\"))\n",
    "test_data_lu = json.load(open(ace05_ee_path + \"test_data.json\", \"r\", encoding = \"utf-8\"))"
   ]
  },
  {
   "cell_type": "code",
   "execution_count": 4,
   "metadata": {},
   "outputs": [
    {
     "name": "stdout",
     "output_type": "stream",
     "text": [
      "2\n",
      "3\n",
      "4\n",
      "5\n",
      "6\n",
      "7\n",
      "8\n",
      "9\n"
     ]
    }
   ],
   "source": [
    "for i in range(*[2,10]):\n",
    "    print(i)"
   ]
  },
  {
   "cell_type": "code",
   "execution_count": 3,
   "metadata": {},
   "outputs": [],
   "source": [
    "# from lu\n",
    "train_data, dev_data, test_data = train_data_lu, dev_data_lu, test_data_lu"
   ]
  },
  {
   "cell_type": "code",
   "execution_count": 4,
   "metadata": {},
   "outputs": [],
   "source": [
    "# from hmeae\n",
    "# save_dir = \"../ori_data/ace05_hmeae\"\n",
    "# hmeae_split_path = \"hmeae_github_published_split.json\"\n",
    "# total_data_lu = {**train_data_lu, **dev_data_lu, **test_data_lu}\n",
    "# total_data = {}\n",
    "# for key, doc in total_data_lu.items():\n",
    "#     total_data[key.split(\"/\")[-1]] = doc\n",
    "\n",
    "# hmeae_split = json.load(open(ace05_ee_path + hmeae_split_path, \"r\", encoding = \"utf-8\"))\n",
    "# train_data, dev_data, test_data = {}, {}, {}\n",
    "# for filename in hmeae_split[\"train\"]:\n",
    "#     train_data[filename] = total_data[filename]\n",
    "# for filename in hmeae_split[\"dev\"]:\n",
    "#     dev_data[filename] = total_data[filename]\n",
    "# for filename in hmeae_split[\"test\"]:\n",
    "#     test_data[filename] = total_data[filename]"
   ]
  },
  {
   "cell_type": "code",
   "execution_count": 5,
   "metadata": {},
   "outputs": [],
   "source": [
    "def get_tok2char_span_map(tokens):\n",
    "    tok2char_span = []\n",
    "    char_num = 0\n",
    "    for tok in tokens:\n",
    "        tok2char_span.append((char_num, char_num + len(tok)))\n",
    "        char_num += len(tok) + 1 # +1: whitespace\n",
    "    return tok2char_span"
   ]
  },
  {
   "cell_type": "code",
   "execution_count": 6,
   "metadata": {
    "scrolled": true
   },
   "outputs": [],
   "source": [
    "def parse_data(data):\n",
    "    example_list = []\n",
    "    for k, article in tqdm(data.items()):\n",
    "        bio_tags = [lab.split(\"_\")[0] for lab in article[\"event_label_list\"]]\n",
    "        bio_str = \"\".join(bio_tags)\n",
    "        text = \" \".join(article[\"word_list\"])\n",
    "        \n",
    "        # find all events\n",
    "        event_list = []\n",
    "        for m in re.finditer(\"BI*\", bio_str):\n",
    "            trigger_word_span = [m.span()[0], m.span()[1]]\n",
    "            trigger_type = article[\"event_label_list\"][trigger_word_span[0]].split(\"_\")[1]\n",
    "            even_word_idx_list = [m.span()[0], m.span()[1]]\n",
    "            trigger_start = trigger_word_span[0]\n",
    "            arguments = article[\"event_argument_list\"][trigger_start]\n",
    "            arguments_new = []\n",
    "            for arg in arguments:\n",
    "                arg_start = trigger_start + arg[\"start\"]\n",
    "                arg_end = trigger_start + arg[\"end\"]\n",
    "                even_word_idx_list.append(arg_start)\n",
    "                even_word_idx_list.append(arg_end)\n",
    "                arg_text = \" \".join(article[\"word_list\"][arg_start:arg_end])\n",
    "    #             assert arg_text == arg[\"text\"].lower()\n",
    "                arguments_new.append({\n",
    "                    \"text\": arg_text,\n",
    "                    \"char_span\": [arg_start, arg_end],\n",
    "                    \"type\": arg[\"type\"],\n",
    "                })\n",
    "            even_word_idx_list = sorted(even_word_idx_list)\n",
    "            event_list.append({\n",
    "                \"event_span\": [even_word_idx_list[0], even_word_idx_list[-1]],\n",
    "                \"trigger\": \" \".join(article[\"word_list\"][trigger_word_span[0]:trigger_word_span[1]]),\n",
    "                \"trigger_type\": trigger_type,\n",
    "                \"trigger_word_span\": trigger_word_span,\n",
    "                \"argument_list\": arguments_new,\n",
    "            })\n",
    "\n",
    "        for sent_idx, sen_ext in enumerate(article[\"sentence_extents\"]):\n",
    "            word_list = article[\"word_list\"][sen_ext[0]:sen_ext[1]]\n",
    "            ner_tag_list = article[\"entity_label_list\"][sen_ext[0]:sen_ext[1]]\n",
    "            pos_tag_list = article[\"pos_tag_list\"][sen_ext[0]:sen_ext[1]]\n",
    "            dep_list = article[\"dependencies\"][sen_ext[0]:sen_ext[1]]\n",
    "            sent = \" \".join(word_list)\n",
    "            \n",
    "            tok2char_span = get_tok2char_span_map(word_list)\n",
    "            \n",
    "            event_list_sent = []\n",
    "            for event_ in event_list:\n",
    "                event = copy.copy(event_)\n",
    "                if event[\"event_span\"][0] >=  sen_ext[0] and event[\"event_span\"][1] <= sen_ext[1]:\n",
    "                    for arg in event[\"argument_list\"]:\n",
    "                        arg[\"char_span\"] = [arg[\"char_span\"][0] - sen_ext[0], arg[\"char_span\"][1] - sen_ext[0]]\n",
    "                        char_span_list = tok2char_span[arg[\"char_span\"][0]:arg[\"char_span\"][1]]\n",
    "                        arg[\"char_span\"] = [char_span_list[0][0], char_span_list[-1][1]]\n",
    "                        assert sent[arg[\"char_span\"][0]:arg[\"char_span\"][1]] == arg[\"text\"]\n",
    "                      \n",
    "                    del event[\"event_span\"]\n",
    "                    \n",
    "                    event[\"trigger_word_span\"] = [event[\"trigger_word_span\"][0] - sen_ext[0], event[\"trigger_word_span\"][1] - sen_ext[0]]\n",
    "                    char_span_list = tok2char_span[event[\"trigger_word_span\"][0]:event[\"trigger_word_span\"][1]]\n",
    "                    event[\"trigger_char_span\"] = [char_span_list[0][0], char_span_list[-1][1]]\n",
    "                    assert sent[event[\"trigger_char_span\"][0]:event[\"trigger_char_span\"][1]] == event[\"trigger\"]\n",
    "                    \n",
    "                    event_list_sent.append(event)\n",
    "            example_list.append({\n",
    "                \"id\": \"{}_{}\".format(article[\"docid\"], sent_idx),\n",
    "                \"text\": sent,\n",
    "                \"word_list\": word_list,\n",
    "                \"word2char_span\": tok2char_span,\n",
    "                \"ner_tag_list\": ner_tag_list,\n",
    "                \"pos_tag_list\": pos_tag_list,\n",
    "                \"dependency_list\": dep_list,\n",
    "                \"event_list\": event_list_sent,\n",
    "            })      \n",
    "    return example_list"
   ]
  },
  {
   "cell_type": "code",
   "execution_count": 7,
   "metadata": {},
   "outputs": [
    {
     "name": "stderr",
     "output_type": "stream",
     "text": [
      "100%|██████████| 529/529 [00:00<00:00, 1098.10it/s]\n",
      "100%|██████████| 30/30 [00:00<00:00, 2166.29it/s]\n",
      "100%|██████████| 40/40 [00:00<00:00, 1341.03it/s]\n"
     ]
    }
   ],
   "source": [
    "normal_train_data = parse_data(train_data)\n",
    "normal_dev_data = parse_data(dev_data)\n",
    "normal_test_data = parse_data(test_data)"
   ]
  },
  {
   "cell_type": "code",
   "execution_count": 8,
   "metadata": {},
   "outputs": [
    {
     "name": "stdout",
     "output_type": "stream",
     "text": [
      "0.741718770786218\n"
     ]
    }
   ],
   "source": [
    "count_neg = 0\n",
    "for example in normal_train_data + normal_dev_data + normal_test_data:\n",
    "    if len(example[\"event_list\"]) == 0:\n",
    "        count_neg += 1\n",
    "print(count_neg/len(normal_train_data + normal_dev_data + normal_test_data))"
   ]
  },
  {
   "cell_type": "code",
   "execution_count": 9,
   "metadata": {},
   "outputs": [],
   "source": [
    "# save \n",
    "if not os.path.exists(save_dir):\n",
    "    os.makedirs(save_dir)\n",
    "    \n",
    "json.dump(normal_train_data, open(save_dir + \"/train_data.json\", \"w\", encoding = \"utf-8\"), ensure_ascii = False)\n",
    "json.dump(normal_dev_data, open(save_dir + \"/valid_data.json\", \"w\", encoding = \"utf-8\"), ensure_ascii = False)\n",
    "json.dump(normal_test_data, open(save_dir + \"/test_data.json\", \"w\", encoding = \"utf-8\"), ensure_ascii = False)"
   ]
  }
 ],
 "metadata": {
  "kernelspec": {
   "display_name": "Python 3",
   "language": "python",
   "name": "python3"
  },
  "language_info": {
   "codemirror_mode": {
    "name": "ipython",
    "version": 3
   },
   "file_extension": ".py",
   "mimetype": "text/x-python",
   "name": "python",
   "nbconvert_exporter": "python",
   "pygments_lexer": "ipython3",
   "version": "3.8.3"
  }
 },
 "nbformat": 4,
 "nbformat_minor": 4
}
