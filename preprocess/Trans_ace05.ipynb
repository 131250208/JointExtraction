{
 "cells": [
  {
   "cell_type": "code",
   "execution_count": 1,
   "metadata": {},
   "outputs": [],
   "source": [
    "import json\n",
    "from pprint import pprint\n",
    "from tqdm import tqdm\n",
    "from IPython.core.debugger import set_trace\n",
    "import re\n",
    "import copy"
   ]
  },
  {
   "cell_type": "code",
   "execution_count": 2,
   "metadata": {},
   "outputs": [],
   "source": [
    "ace05_ee_path = \"../ori_data/ace2005\"\n",
    "train_data = json.load(open(ace05_ee_path + \"/train_data.json\", \"r\", encoding = \"utf-8\"))\n",
    "dev_data = json.load(open(ace05_ee_path + \"/dev_data.json\", \"r\", encoding = \"utf-8\"))\n",
    "test_data = json.load(open(ace05_ee_path + \"/test_data.json\", \"r\", encoding = \"utf-8\"))"
   ]
  },
  {
   "cell_type": "code",
   "execution_count": 3,
   "metadata": {},
   "outputs": [
    {
     "data": {
      "text/plain": [
       "dict_keys(['word_list', 'lemma_list', 'entities', 'events', 'entity_label_list', 'entity_sublabel_list', 'event_label_list', 'event_argument_list', 'pos_tag_list', 'dependencies', 'num_events', 'num_mw_events', 'sentence_extents', 'docid', 'domain'])"
      ]
     },
     "execution_count": 3,
     "metadata": {},
     "output_type": "execute_result"
    }
   ],
   "source": [
    "test_data[\"nw/timex2norm/AFP_ENG_20030417.0307\"].keys()"
   ]
  },
  {
   "cell_type": "code",
   "execution_count": 4,
   "metadata": {},
   "outputs": [],
   "source": [
    "tokenize = lambda text: text.split(\" \")\n",
    "def get_tok2char_span_map(text):\n",
    "    tokens = tokenize(text)\n",
    "    tok2char_span = []\n",
    "    char_num = 0\n",
    "    for tok in tokens:\n",
    "        tok2char_span.append((char_num, char_num + len(tok)))\n",
    "        char_num += len(tok) + 1 # +1: whitespace\n",
    "    return tok2char_span"
   ]
  },
  {
   "cell_type": "code",
   "execution_count": 5,
   "metadata": {
    "scrolled": true
   },
   "outputs": [],
   "source": [
    "def parse_data(data):\n",
    "    example_list = []\n",
    "    for k, article in tqdm(data.items()):\n",
    "        bio_tags = [lab.split(\"_\")[0] for lab in article[\"event_label_list\"]]\n",
    "        bio_str = \"\".join(bio_tags)\n",
    "        text = \" \".join(article[\"word_list\"])\n",
    "        \n",
    "        # find all events\n",
    "        event_list = []\n",
    "        for m in re.finditer(\"BI*\", bio_str):\n",
    "            trigger_span = [m.span()[0], m.span()[1]]\n",
    "            trigger_type = article[\"event_label_list\"][trigger_span[0]].split(\"_\")[1]\n",
    "            even_word_idx_list = [m.span()[0], m.span()[1]]\n",
    "            trigger_start = trigger_span[0]\n",
    "            arguments = article[\"event_argument_list\"][trigger_start]\n",
    "            arguments_new = []\n",
    "            for arg in arguments:\n",
    "                arg_start = trigger_start + arg[\"start\"]\n",
    "                arg_end = trigger_start + arg[\"end\"]\n",
    "                even_word_idx_list.append(arg_start)\n",
    "                even_word_idx_list.append(arg_end)\n",
    "                arg_text = \" \".join(article[\"word_list\"][arg_start:arg_end])\n",
    "    #             assert arg_text == arg[\"text\"].lower()\n",
    "                arguments_new.append({\n",
    "                    \"text\": arg_text,\n",
    "                    \"span\": [arg_start, arg_end],\n",
    "                    \"type\": arg[\"type\"],\n",
    "                })\n",
    "            even_word_idx_list = sorted(even_word_idx_list)\n",
    "            event_list.append({\n",
    "                \"event_span\": [even_word_idx_list[0], even_word_idx_list[-1]],\n",
    "                \"trigger\": \" \".join(article[\"word_list\"][trigger_span[0]:trigger_span[1]]),\n",
    "                \"trigger_type\": trigger_type,\n",
    "                \"trigger_span\": trigger_span,\n",
    "                \"argument_list\": arguments_new,\n",
    "            })\n",
    "\n",
    "        for sent_idx, sen_ext in enumerate(article[\"sentence_extents\"]):\n",
    "            sent = \" \".join(article[\"word_list\"][sen_ext[0]:sen_ext[1]])\n",
    "            tok2char_span = get_tok2char_span_map(sent)\n",
    "            \n",
    "            event_list_sent = []\n",
    "            for event_ in event_list:\n",
    "                event = copy.copy(event_)\n",
    "                if event[\"event_span\"][0] >=  sen_ext[0] and event[\"event_span\"][1] <= sen_ext[1]:\n",
    "                    for arg in event[\"argument_list\"]:\n",
    "                        arg[\"span\"] = [arg[\"span\"][0] - sen_ext[0], arg[\"span\"][1] - sen_ext[0]]\n",
    "                        char_span_list = tok2char_span[arg[\"span\"][0]:arg[\"span\"][1]]\n",
    "                        arg[\"span\"] = [char_span_list[0][0], char_span_list[-1][1]]\n",
    "                        assert sent[arg[\"span\"][0]:arg[\"span\"][1]] == arg[\"text\"]\n",
    "                      \n",
    "                    del event[\"event_span\"]\n",
    "#                     event[\"event_span\"] = [event[\"event_span\"][0] - sen_ext[0], event[\"event_span\"][1] - sen_ext[0]]\n",
    "#                     char_span_list = tok2char_span[event[\"event_span\"][0]:event[\"event_span\"][1]]\n",
    "#                     event[\"event_span\"] = [char_span_list[0][0], char_span_list[-1][1]]\n",
    "                    \n",
    "                    event[\"trigger_span\"] = [event[\"trigger_span\"][0] - sen_ext[0], event[\"trigger_span\"][1] - sen_ext[0]]\n",
    "                    char_span_list = tok2char_span[event[\"trigger_span\"][0]:event[\"trigger_span\"][1]]\n",
    "                    event[\"trigger_span\"] = [char_span_list[0][0], char_span_list[-1][1]]\n",
    "                    assert sent[event[\"trigger_span\"][0]:event[\"trigger_span\"][1]] == event[\"trigger\"]\n",
    "                    \n",
    "                    event_list_sent.append(event)\n",
    "            example_list.append({\n",
    "                \"id\": \"{}_{}\".format(article[\"docid\"], sent_idx),\n",
    "                \"text\": sent,\n",
    "                \"event_list\": event_list_sent,\n",
    "            })      \n",
    "    return example_list"
   ]
  },
  {
   "cell_type": "code",
   "execution_count": 6,
   "metadata": {},
   "outputs": [
    {
     "name": "stderr",
     "output_type": "stream",
     "text": [
      "100%|██████████| 529/529 [00:00<00:00, 1109.21it/s]\n",
      "100%|██████████| 30/30 [00:00<00:00, 2250.73it/s]\n",
      "100%|██████████| 40/40 [00:00<00:00, 1407.53it/s]\n"
     ]
    }
   ],
   "source": [
    "train_data_ = parse_data(train_data)\n",
    "dev_data_ = parse_data(dev_data)\n",
    "test_data_ = parse_data(test_data)"
   ]
  },
  {
   "cell_type": "code",
   "execution_count": 7,
   "metadata": {},
   "outputs": [],
   "source": [
    "# transform to tplinker style\n",
    "def trans_data(data):\n",
    "    for sent in data:\n",
    "        entity_list, rel_list = [], []\n",
    "        for event in sent[\"event_list\"]:\n",
    "            entity_list.append({\n",
    "                \"text\": event[\"trigger\"],\n",
    "                \"type\": event[\"trigger_type\"],\n",
    "                \"char_span\": event[\"trigger_span\"],\n",
    "            })\n",
    "            for arg in event[\"argument_list\"]:\n",
    "                entity_list.append({\n",
    "                    \"text\": arg[\"text\"],\n",
    "                    \"type\": arg[\"type\"],\n",
    "                    \"char_span\": arg[\"span\"],\n",
    "                })\n",
    "                rel_list.append({\n",
    "                    \"subject\": arg[\"text\"],\n",
    "                    \"subj_char_span\": arg[\"span\"],\n",
    "                    \"object\": event[\"trigger\"],\n",
    "                    \"obj_char_span\": event[\"trigger_span\"],\n",
    "                    \"predicate\": \"{}_{}\".format(arg[\"type\"], event[\"trigger_type\"]),\n",
    "                })\n",
    "        sent[\"entity_list\"] = entity_list\n",
    "        sent[\"relation_list\"] = rel_list\n",
    "    return data"
   ]
  },
  {
   "cell_type": "code",
   "execution_count": 8,
   "metadata": {},
   "outputs": [],
   "source": [
    "normal_train_data = trans_data(train_data_)\n",
    "normal_dev_data = trans_data(dev_data_)\n",
    "normal_test_data = trans_data(test_data_)"
   ]
  },
  {
   "cell_type": "code",
   "execution_count": 9,
   "metadata": {},
   "outputs": [
    {
     "data": {
      "text/plain": [
       "{'id': 'APW_ENG_20030407.0030_45',\n",
       " 'text': 'a correspondent for state - run russian television said the convoy was caught in a crossfire and three diplomats were hurt , one with a serious stomach wound .',\n",
       " 'event_list': [{'trigger': 'crossfire',\n",
       "   'trigger_type': 'Attack',\n",
       "   'trigger_span': [83, 92],\n",
       "   'argument_list': [{'text': 'convoy', 'span': [60, 66], 'type': 'Target'},\n",
       "    {'text': 'diplomats', 'span': [103, 112], 'type': 'Target'},\n",
       "    {'text': 'one', 'span': [125, 128], 'type': 'Target'}]},\n",
       "  {'trigger': 'hurt',\n",
       "   'trigger_type': 'Injure',\n",
       "   'trigger_span': [118, 122],\n",
       "   'argument_list': [{'text': 'diplomats',\n",
       "     'span': [103, 112],\n",
       "     'type': 'Victim'},\n",
       "    {'text': 'one', 'span': [125, 128], 'type': 'Victim'}]}],\n",
       " 'entity_list': [{'text': 'crossfire',\n",
       "   'type': 'Attack',\n",
       "   'char_span': [83, 92]},\n",
       "  {'text': 'convoy', 'type': 'Target', 'char_span': [60, 66]},\n",
       "  {'text': 'diplomats', 'type': 'Target', 'char_span': [103, 112]},\n",
       "  {'text': 'one', 'type': 'Target', 'char_span': [125, 128]},\n",
       "  {'text': 'hurt', 'type': 'Injure', 'char_span': [118, 122]},\n",
       "  {'text': 'diplomats', 'type': 'Victim', 'char_span': [103, 112]},\n",
       "  {'text': 'one', 'type': 'Victim', 'char_span': [125, 128]}],\n",
       " 'relation_list': [{'subject': 'convoy',\n",
       "   'subj_char_span': [60, 66],\n",
       "   'object': 'crossfire',\n",
       "   'obj_char_span': [83, 92],\n",
       "   'predicate': 'Target_Attack'},\n",
       "  {'subject': 'diplomats',\n",
       "   'subj_char_span': [103, 112],\n",
       "   'object': 'crossfire',\n",
       "   'obj_char_span': [83, 92],\n",
       "   'predicate': 'Target_Attack'},\n",
       "  {'subject': 'one',\n",
       "   'subj_char_span': [125, 128],\n",
       "   'object': 'crossfire',\n",
       "   'obj_char_span': [83, 92],\n",
       "   'predicate': 'Target_Attack'},\n",
       "  {'subject': 'diplomats',\n",
       "   'subj_char_span': [103, 112],\n",
       "   'object': 'hurt',\n",
       "   'obj_char_span': [118, 122],\n",
       "   'predicate': 'Victim_Injure'},\n",
       "  {'subject': 'one',\n",
       "   'subj_char_span': [125, 128],\n",
       "   'object': 'hurt',\n",
       "   'obj_char_span': [118, 122],\n",
       "   'predicate': 'Victim_Injure'}]}"
      ]
     },
     "execution_count": 9,
     "metadata": {},
     "output_type": "execute_result"
    }
   ],
   "source": [
    "normal_test_data[-2]"
   ]
  }
 ],
 "metadata": {
  "kernelspec": {
   "display_name": "Python 3",
   "language": "python",
   "name": "python3"
  },
  "language_info": {
   "codemirror_mode": {
    "name": "ipython",
    "version": 3
   },
   "file_extension": ".py",
   "mimetype": "text/x-python",
   "name": "python",
   "nbconvert_exporter": "python",
   "pygments_lexer": "ipython3",
   "version": "3.8.3"
  }
 },
 "nbformat": 4,
 "nbformat_minor": 4
}
