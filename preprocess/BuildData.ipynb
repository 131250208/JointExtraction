{
 "cells": [
  {
   "cell_type": "code",
   "execution_count": 1,
   "metadata": {},
   "outputs": [],
   "source": [
    "import json\n",
    "import os\n",
    "from tqdm import tqdm\n",
    "import re\n",
    "from transformers import BertTokenizerFast\n",
    "import copy\n",
    "import torch\n",
    "from common.utils import Preprocessor\n",
    "import yaml\n",
    "import logging"
   ]
  },
  {
   "cell_type": "code",
   "execution_count": 2,
   "metadata": {},
   "outputs": [],
   "source": [
    "logger = logging.getLogger()\n",
    "logger.setLevel(logging.DEBUG)"
   ]
  },
  {
   "cell_type": "code",
   "execution_count": 3,
   "metadata": {},
   "outputs": [],
   "source": [
    "try:\n",
    "    from yaml import CLoader as Loader, CDumper as Dumper\n",
    "except ImportError:\n",
    "    from yaml import Loader, Dumper\n",
    "config = yaml.load(open(\"build_data_config.yaml\", \"r\"), Loader = yaml.FullLoader)"
   ]
  },
  {
   "cell_type": "code",
   "execution_count": 4,
   "metadata": {},
   "outputs": [],
   "source": [
    "train_data_path = os.path.join(*config[\"train_data\"])\n",
    "valid_data_path = os.path.join(*config[\"valid_data\"])\n",
    "test_data_dir = os.path.join(*config[\"test_data_dir\"])\n",
    "test_data_path_dict = {}\n",
    "for path, folds, files in os.walk(test_data_dir):\n",
    "    for file_name in files:\n",
    "        file_path = os.path.join(path, file_name)\n",
    "        file_name = re.match(\"(.*?)\\.json\", file_name).group(1)\n",
    "        test_data_path_dict[file_name] = file_path"
   ]
  },
  {
   "cell_type": "code",
   "execution_count": 5,
   "metadata": {},
   "outputs": [],
   "source": [
    "output_dir = config[\"output_dir\"]\n",
    "if not os.path.exists(output_dir):\n",
    "    os.makedirs(output_dir)"
   ]
  },
  {
   "cell_type": "markdown",
   "metadata": {},
   "source": [
    "# Load Data"
   ]
  },
  {
   "cell_type": "code",
   "execution_count": 6,
   "metadata": {},
   "outputs": [],
   "source": [
    "train_data = json.load(open(train_data_path, \"r\", encoding = \"utf-8\"))\n",
    "valid_data = json.load(open(valid_data_path, \"r\", encoding = \"utf-8\"))\n",
    "test_data_dict = {}\n",
    "for file_name, path in test_data_path_dict.items():\n",
    "    test_data_dict[file_name] = json.load(open(path, \"r\", encoding = \"utf-8\"))"
   ]
  },
  {
   "cell_type": "markdown",
   "metadata": {},
   "source": [
    "# Preprocess"
   ]
  },
  {
   "cell_type": "code",
   "execution_count": 7,
   "metadata": {},
   "outputs": [],
   "source": [
    "# @specific\n",
    "if config[\"encoder\"] == \"BERT\":\n",
    "    tokenizer = BertTokenizerFast.from_pretrained(config[\"bert_path\"], add_special_tokens = False, do_lower_case = False)\n",
    "    tokenize = tokenizer.tokenize\n",
    "    get_tok2char_span_map = lambda text: tokenizer.encode_plus(text, return_offsets_mapping = True, add_special_tokens = False)[\"offset_mapping\"]\n",
    "elif config[\"encoder\"] == \"BiLSTM\":\n",
    "    tokenize = lambda text: text.split(\" \")\n",
    "    def get_tok2char_span_map(text):\n",
    "        tokens = text.split(\" \")\n",
    "        tok2char_span = []\n",
    "        char_num = 0\n",
    "        for tok in tokens:\n",
    "            tok2char_span.append((char_num, char_num + len(tok)))\n",
    "            char_num += len(tok) + 1 # +1: whitespace\n",
    "        return tok2char_span"
   ]
  },
  {
   "cell_type": "code",
   "execution_count": 8,
   "metadata": {},
   "outputs": [],
   "source": [
    "preprocessor = Preprocessor(tokenize_func = tokenize, \n",
    "                            get_tok2char_span_map_func = get_tok2char_span_map)"
   ]
  },
  {
   "cell_type": "markdown",
   "metadata": {
    "scrolled": true
   },
   "source": [
    "## Transform"
   ]
  },
  {
   "cell_type": "code",
   "execution_count": 9,
   "metadata": {},
   "outputs": [
    {
     "name": "stderr",
     "output_type": "stream",
     "text": [
      "Transforming data format: 56196it [00:00, 78440.32it/s] \n",
      "Clean: 100%|██████████| 56196/56196 [00:00<00:00, 80326.20it/s]\n",
      "Transforming data format: 5000it [00:00, 137376.73it/s]\n",
      "Clean: 100%|██████████| 5000/5000 [00:00<00:00, 78086.73it/s]\n",
      "Transforming data format: 5000it [00:00, 135068.33it/s]\n",
      "Clean: 100%|██████████| 5000/5000 [00:00<00:00, 77368.55it/s]\n"
     ]
    }
   ],
   "source": [
    "ori_format = config[\"data_format\"]\n",
    "train_data = preprocessor.transform_data(train_data, ori_format = ori_format, dataset_type = \"train\", add_id = True)\n",
    "valid_data = preprocessor.transform_data(valid_data, ori_format = ori_format, dataset_type = \"valid\", add_id = True)\n",
    "for file_name, data in test_data_dict.items():\n",
    "    data = preprocessor.transform_data(data, ori_format = ori_format, dataset_type = \"test\", add_id = True)\n",
    "    test_data_dict[file_name] = data"
   ]
  },
  {
   "cell_type": "markdown",
   "metadata": {
    "scrolled": true
   },
   "source": [
    "## Add Token Level Span"
   ]
  },
  {
   "cell_type": "code",
   "execution_count": null,
   "metadata": {
    "scrolled": true
   },
   "outputs": [
    {
     "name": "stderr",
     "output_type": "stream",
     "text": [
      "Adding char level spans: 100%|██████████| 56196/56196 [00:09<00:00, 5623.38it/s]\n",
      "Adding token level spans:  41%|████      | 23135/56196 [00:03<00:05, 5857.41it/s]"
     ]
    }
   ],
   "source": [
    "preprocessor.add_char_spans(train_data)\n",
    "preprocessor.add_tok_spans(train_data)\n",
    "preprocessor.add_char_spans(valid_data)\n",
    "preprocessor.add_tok_spans(valid_data)\n",
    "for file_name, data in test_data_dict.items():\n",
    "    preprocessor.add_char_spans(test_data_dict[file_name])\n",
    "    preprocessor.add_tok_spans(test_data_dict[file_name])"
   ]
  },
  {
   "cell_type": "code",
   "execution_count": null,
   "metadata": {},
   "outputs": [],
   "source": [
    "# check token level span\n",
    "def extr_ent(text, tok_span, tok2char_span):\n",
    "    char_span_list = tok2char_span[tok_span[0]:tok_span[1]]\n",
    "    char_span = (char_span_list[0][0], char_span_list[-1][1])\n",
    "    decoded_ent = text[char_span[0]:char_span[1]]\n",
    "    return decoded_ent\n",
    "\n",
    "all_data = train_data + valid_data\n",
    "for data in list(test_data_dict.values()):\n",
    "    all_data.extend(data)\n",
    "    \n",
    "bad_samples = []\n",
    "for sample in tqdm(all_data):\n",
    "    text = sample[\"text\"]\n",
    "    tok2char_span = get_tok2char_span_map(text)\n",
    "    for rel in sample[\"relation_list\"]:\n",
    "        subj_tok_span, obj_tok_span = rel[\"subj_tok_span\"], rel[\"obj_tok_span\"]\n",
    "        if extr_ent(text, subj_tok_span, tok2char_span) != rel[\"subject\"] or extr_ent(text, obj_tok_span, tok2char_span) != rel[\"object\"]:\n",
    "            bad_samples.append(sample)\n",
    "print(\"bad samples: {}\".format(len(bad_samples)))"
   ]
  },
  {
   "cell_type": "markdown",
   "metadata": {},
   "source": [
    "# Generate Relation to ID Map"
   ]
  },
  {
   "cell_type": "code",
   "execution_count": null,
   "metadata": {},
   "outputs": [],
   "source": [
    "rel_set = set()\n",
    "all_data = train_data + valid_data \n",
    "for data in list(test_data_dict.values()):\n",
    "    all_data.extend(data)\n",
    "    \n",
    "for sample in tqdm(all_data):\n",
    "    for rel in sample[\"relation_list\"]:\n",
    "        rel_set.add(rel[\"predicate\"])\n",
    "rel_set = sorted(rel_set)"
   ]
  },
  {
   "cell_type": "code",
   "execution_count": null,
   "metadata": {},
   "outputs": [],
   "source": [
    "rel2id = {rel:ind for ind, rel in enumerate(rel_set)}"
   ]
  },
  {
   "cell_type": "code",
   "execution_count": null,
   "metadata": {},
   "outputs": [],
   "source": [
    "len(rel2id)"
   ]
  },
  {
   "cell_type": "markdown",
   "metadata": {},
   "source": [
    "# Genrate WordDict"
   ]
  },
  {
   "cell_type": "code",
   "execution_count": null,
   "metadata": {
    "scrolled": false
   },
   "outputs": [],
   "source": [
    "if config[\"encoder\"] in {\"BiLSTM\", }:\n",
    "    all_data = train_data + valid_data \n",
    "    for data in list(test_data_dict.values()):\n",
    "        all_data.extend(data)\n",
    "        \n",
    "    token2num = {}\n",
    "    for sample in tqdm(all_data, desc = \"Tokenizing\"):\n",
    "        text = sample['text']\n",
    "        for tok in tokenize(text):\n",
    "            token2num[tok] = token2num.get(tok, 0) + 1\n",
    "\n",
    "    token_set = set()\n",
    "    for tok, num in tqdm(token2num.items(), desc = \"Filter uncommon words\"):\n",
    "        if num < 3: # filter words with a frequency of less than 3\n",
    "            continue\n",
    "        token_set.add(tok)\n",
    "\n",
    "    token2idx = {tok:idx + 2 for idx, tok in enumerate(token_set)}\n",
    "    token2idx[\"<PAD>\"] = 0\n",
    "    token2idx[\"<UNK>\"] = 1\n",
    "#     idx2token = {idx:tok for tok, idx in token2idx.items()}\n",
    "    \n",
    "    dict_path = os.path.join(config[\"output_dir\"], \"token2idx.json\")\n",
    "    json.dump(token2idx, open(dict_path, \"w\", encoding = \"utf-8\"), ensure_ascii = False, indent = 4)\n",
    "    logging.info(\"token2idx is output to {}, total token num: {}\".format(dict_path, len(token2idx))) "
   ]
  },
  {
   "cell_type": "markdown",
   "metadata": {},
   "source": [
    "# Output to Disk"
   ]
  },
  {
   "cell_type": "code",
   "execution_count": null,
   "metadata": {},
   "outputs": [],
   "source": [
    "train_data_path = os.path.join(output_dir, \"train_data.json\")\n",
    "valid_data_path = os.path.join(output_dir, \"valid_data.json\")\n",
    "test_data_dir = os.path.join(output_dir, \"test_data\")\n",
    "rel2id_path = os.path.join(output_dir, \"rel2id.json\")\n",
    "data_statistics_path = os.path.join(output_dir, \"data_statistics.txt\")\n",
    "\n",
    "if not os.path.exists(test_data_dir):\n",
    "    os.mkdir(test_data_dir)\n",
    "    \n",
    "data_statistics = {\n",
    "    \"train_data\": len(train_data),\n",
    "    \"valid_data\": len(valid_data),\n",
    "    \"relation_num\": len(rel2id),\n",
    "}\n",
    "\n",
    "json.dump(train_data, open(train_data_path, \"w\", encoding = \"utf-8\"), ensure_ascii = False)\n",
    "logging.info(\"train_data is output to {}\".format(train_data_path))\n",
    "\n",
    "json.dump(valid_data, open(valid_data_path, \"w\", encoding = \"utf-8\"), ensure_ascii = False)\n",
    "logging.info(\"valid_data is output to {}\".format(valid_data_path))\n",
    "\n",
    "for file_name, test_data in test_data_dict.items():\n",
    "    test_data_path = os.path.join(test_data_dir, \"{}.json\".format(file_name))\n",
    "    json.dump(test_data, open(test_data_path, \"w\", encoding = \"utf-8\"), ensure_ascii = False)\n",
    "    logging.info(\"{} is output to {}\".format(file_name, test_data_path))\n",
    "    data_statistics[file_name] = len(test_data)\n",
    "    \n",
    "json.dump(rel2id, open(rel2id_path, \"w\", encoding = \"utf-8\"), ensure_ascii = False)\n",
    "logging.info(\"rel2id is output to {}\".format(rel2id_path))\n",
    "\n",
    "json.dump(data_statistics, open(data_statistics_path, \"w\", encoding = \"utf-8\"), ensure_ascii = False, indent = 4)\n",
    "logging.info(\"data_statistics is output to {}\".format(data_statistics_path)) "
   ]
  }
 ],
 "metadata": {
  "kernelspec": {
   "display_name": "Python 3",
   "language": "python",
   "name": "python3"
  },
  "language_info": {
   "codemirror_mode": {
    "name": "ipython",
    "version": 3
   },
   "file_extension": ".py",
   "mimetype": "text/x-python",
   "name": "python",
   "nbconvert_exporter": "python",
   "pygments_lexer": "ipython3",
   "version": "3.7.4"
  }
 },
 "nbformat": 4,
 "nbformat_minor": 2
}
