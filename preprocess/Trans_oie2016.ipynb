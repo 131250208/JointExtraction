{
 "cells": [
  {
   "cell_type": "code",
   "execution_count": 31,
   "metadata": {},
   "outputs": [],
   "source": [
    "import json\n",
    "import os\n",
    "import pandas as pd\n",
    "from IPython.core.debugger import set_trace\n",
    "from tqdm import tqdm\n",
    "import re"
   ]
  },
  {
   "cell_type": "code",
   "execution_count": 2,
   "metadata": {},
   "outputs": [],
   "source": [
    "oie16_path = \"../extra_data/test.oie.conll.txt\""
   ]
  },
  {
   "cell_type": "code",
   "execution_count": 32,
   "metadata": {},
   "outputs": [],
   "source": [
    "id2samples = {}\n",
    "id2sent = {}\n",
    "with open(oie16_path, \"r\", encoding = \"utf-8\") as file_in:\n",
    "    words, labels = [], []\n",
    "    sent_id = -1\n",
    "    for line in file_in:\n",
    "        if \"word_id\" in line:\n",
    "            continue\n",
    "        if line == \"\\n\":\n",
    "            if sent_id not in id2samples:\n",
    "                id2samples[sent_id] = []\n",
    "            id2samples[sent_id].append({\n",
    "                \"word_list\": words,\n",
    "                \"label_list\": labels,\n",
    "            })\n",
    "#             print(\" \".join(labels))\n",
    "            id2sent[sent_id] = \" \".join(words)\n",
    "            words.clear()\n",
    "            labels.clear()\n",
    "            continue\n",
    "        word_id, word, pred, pred_id, head_pred_id, sent_id, run_id, label = line.strip(\"\\n\").split(\"\\t\")\n",
    "        sent_id = int(sent_id)\n",
    "        words.append(word)\n",
    "        labels.append(label)"
   ]
  },
  {
   "cell_type": "code",
   "execution_count": 25,
   "metadata": {},
   "outputs": [
    {
     "data": {
      "text/plain": [
       "603"
      ]
     },
     "execution_count": 25,
     "metadata": {},
     "output_type": "execute_result"
    }
   ],
   "source": [
    "len(id2sent)"
   ]
  },
  {
   "cell_type": "code",
   "execution_count": 38,
   "metadata": {},
   "outputs": [],
   "source": [
    "data = []\n",
    "for idx, samples in id2sample.items():\n",
    "    spo_list = []\n",
    "    for sample in samples:\n",
    "        words = sample[\"word_list\"]\n",
    "        labels = sample[\"label_list\"]\n",
    "        type_labels = []\n",
    "        pos_labels = []\n",
    "        for l in labels:\n",
    "            type_labels.append(l.split(\"-\")[0])\n",
    "            pos_labels.append(l.split(\"-\")[-1])\n",
    "#         set_trace()\n",
    "        ent_it = re.finditer(\"BI*\", \"\".join(pos_labels))\n",
    "        type2ent = {}\n",
    "        for m in ent_it:\n",
    "            start_id, end_id = m.span()[0], m.span()[1] + 1\n",
    "            type_ = type_labels[start_id]\n",
    "            text = \" \".join(words[start_id:end_id])\n",
    "            assert type_ not in type2ent\n",
    "            type2ent[type_] = {\n",
    "                \"text\": text,\n",
    "                \"word_span\": [start_id, end_id],\n",
    "            }\n",
    "        assert len(type2ent) == 3"
   ]
  },
  {
   "cell_type": "code",
   "execution_count": 26,
   "metadata": {},
   "outputs": [
    {
     "data": {
      "text/plain": [
       "'The effect is that lawsuits that might have been barred because they were filed too late could proceed because of the one - year extension .'"
      ]
     },
     "execution_count": 26,
     "metadata": {},
     "output_type": "execute_result"
    }
   ],
   "source": [
    "id2sent[1]"
   ]
  }
 ],
 "metadata": {
  "kernelspec": {
   "display_name": "Python 3",
   "language": "python",
   "name": "python3"
  },
  "language_info": {
   "codemirror_mode": {
    "name": "ipython",
    "version": 3
   },
   "file_extension": ".py",
   "mimetype": "text/x-python",
   "name": "python",
   "nbconvert_exporter": "python",
   "pygments_lexer": "ipython3",
   "version": "3.8.3"
  }
 },
 "nbformat": 4,
 "nbformat_minor": 4
}
