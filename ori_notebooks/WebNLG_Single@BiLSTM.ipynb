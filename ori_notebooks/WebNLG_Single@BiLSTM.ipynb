{
 "cells": [
  {
   "cell_type": "code",
   "execution_count": 1,
   "metadata": {},
   "outputs": [],
   "source": [
    "import json\n",
    "import os\n",
    "from tqdm import tqdm\n",
    "import re\n",
    "from IPython.core.debugger import set_trace\n",
    "from pprint import pprint\n",
    "import unicodedata\n",
    "from transformers import AutoModel, BasicTokenizer, BertTokenizerFast\n",
    "import copy\n",
    "import torch\n",
    "import torch.nn as nn\n",
    "import torch.nn.functional as F\n",
    "from torch.utils.data import DataLoader, Dataset\n",
    "import torch.optim as optim\n",
    "import glob\n",
    "import time\n",
    "from layers import LayerNorm\n",
    "import wandb\n",
    "from utils import Preprocessor, HandshakingTaggingScheme\n",
    "import logging\n",
    "from glove import Glove\n",
    "import numpy as np"
   ]
  },
  {
   "cell_type": "code",
   "execution_count": 2,
   "metadata": {},
   "outputs": [],
   "source": [
    "logger = logging.getLogger()\n",
    "logger.setLevel(logging.WARNING)"
   ]
  },
  {
   "cell_type": "code",
   "execution_count": 3,
   "metadata": {},
   "outputs": [
    {
     "name": "stdout",
     "output_type": "stream",
     "text": [
      "device cuda:0 will be used\n"
     ]
    }
   ],
   "source": [
    "os.environ[\"CUDA_VISIBLE_DEVICES\"] = \"1\"\n",
    "torch.cuda.is_available()\n",
    "device = torch.device(\"cuda:0\" if torch.cuda.is_available() else \"cpu\")\n",
    "print(\"device {} will be used\".format(device))"
   ]
  },
  {
   "cell_type": "code",
   "execution_count": 4,
   "metadata": {},
   "outputs": [],
   "source": [
    "pretrained_model_home = \"/data/yubowen/experiments/relextr/pretrained_model\"\n",
    "project_root = \"/data/yubowen/experiments/relextr\"\n",
    "data_home = os.path.join(project_root, \"data\")\n",
    "\n",
    "experiment_dir = os.path.join(project_root, \"exp\")\n",
    "experiment_name = \"webnlg_single\"\n",
    "    \n",
    "webnlg_data_dir = os.path.join(data_home, experiment_name, \"triples\")\n",
    "webnlg_train_data_path = os.path.join(webnlg_data_dir, \"train_triples.json\")\n",
    "webnlg_valid_data_path = os.path.join(webnlg_data_dir, \"valid_triples.json\")\n",
    "webnlg_test_data_path_dict = {\n",
    "    \"test_triples\": os.path.join(webnlg_data_dir, \"test_triples.json\"),\n",
    "    \"test_triples_epo\": os.path.join(webnlg_data_dir, \"test_split_by_type\", \"test_triples_epo.json\"),\n",
    "    \"test_triples_seo\": os.path.join(webnlg_data_dir, \"test_split_by_type\", \"test_triples_seo.json\"),\n",
    "    \"test_triples_normal\": os.path.join(webnlg_data_dir, \"test_split_by_type\", \"test_triples_normal.json\"),\n",
    "    \"test_triples_1\": os.path.join(webnlg_data_dir, \"test_split_by_num\", \"test_triples_1.json\"),\n",
    "    \"test_triples_2\": os.path.join(webnlg_data_dir, \"test_split_by_num\", \"test_triples_2.json\"),\n",
    "    \"test_triples_3\": os.path.join(webnlg_data_dir, \"test_split_by_num\", \"test_triples_3.json\"),\n",
    "    \"test_triples_4\": os.path.join(webnlg_data_dir, \"test_split_by_num\", \"test_triples_4.json\"),\n",
    "    \"test_triples_5\": os.path.join(webnlg_data_dir, \"test_split_by_num\", \"test_triples_5.json\"),\n",
    "}"
   ]
  },
  {
   "cell_type": "code",
   "execution_count": 5,
   "metadata": {},
   "outputs": [
    {
     "data": {
      "text/html": [
       "\n",
       "                Logging results to <a href=\"https://wandb.com\" target=\"_blank\">Weights & Biases</a> <a href=\"https://docs.wandb.com/integrations/jupyter.html\" target=\"_blank\">(Documentation)</a>.<br/>\n",
       "                Project page: <a href=\"https://app.wandb.ai/wycheng/webnlg_single\" target=\"_blank\">https://app.wandb.ai/wycheng/webnlg_single</a><br/>\n",
       "                Run page: <a href=\"https://app.wandb.ai/wycheng/webnlg_single/runs/2w4et4vj\" target=\"_blank\">https://app.wandb.ai/wycheng/webnlg_single/runs/2w4et4vj</a><br/>\n",
       "            "
      ],
      "text/plain": [
       "<IPython.core.display.HTML object>"
      ]
     },
     "metadata": {},
     "output_type": "display_data"
    },
    {
     "name": "stderr",
     "output_type": "stream",
     "text": [
      "Failed to query for notebook name, you can set it manually with the WANDB_NOTEBOOK_NAME environment variable\n"
     ]
    },
    {
     "data": {
      "text/plain": [
       "W&B Run: https://app.wandb.ai/wycheng/webnlg_single/runs/2w4et4vj"
      ]
     },
     "execution_count": 5,
     "metadata": {},
     "output_type": "execute_result"
    }
   ],
   "source": [
    "wandb.init(project = experiment_name, name = \"BiLSTM\")"
   ]
  },
  {
   "cell_type": "code",
   "execution_count": 6,
   "metadata": {},
   "outputs": [
    {
     "name": "stderr",
     "output_type": "stream",
     "text": [
      "Failed to query for notebook name, you can set it manually with the WANDB_NOTEBOOK_NAME environment variable\n"
     ]
    }
   ],
   "source": [
    "# hyperparameters\n",
    "config = wandb.config          # Initialize config\n",
    "config.batch_size = 6          # input batch size for training (default: 64)\n",
    "config.test_batch_size = 100    # input batch size for testing (default: 1000)\n",
    "config.epochs = 50             # number of epochs to train (default: 10)\n",
    "config.lr = 1e-3               # learning rate (default: 0.01)\n",
    "config.seed = 2333               # random seed (default: 42)\n",
    "config.log_interval = 10  \n",
    "config.max_seq_len = 100\n",
    "config.sliding_len = 20\n",
    "config.loss_weight_recover_steps = 10000\n",
    "\n",
    "config.word_embedding_dim = 100\n",
    "config.rnn_hidden_size = 256\n",
    "config.dropout = 0.1\n",
    "\n",
    "config.word_embedding_path = os.path.join(data_home, \"pretrained_word_embeddings\", \"glove_100_webnlg.emb\")\n",
    "\n",
    "torch.manual_seed(config.seed) # pytorch random seed\n",
    "torch.backends.cudnn.deterministic = True\n",
    "\n",
    "model_state_dict_dir = wandb.run.dir\n",
    "schedule_state_dict_dir = wandb.run.dir"
   ]
  },
  {
   "cell_type": "markdown",
   "metadata": {},
   "source": [
    "# Load Data"
   ]
  },
  {
   "cell_type": "code",
   "execution_count": 7,
   "metadata": {},
   "outputs": [],
   "source": [
    "webnlg_train_data = json.load(open(webnlg_train_data_path, \"r\", encoding = \"utf-8\"))\n",
    "webnlg_valid_data = json.load(open(webnlg_valid_data_path, \"r\", encoding = \"utf-8\"))\n",
    "webnlg_test_data_dict = {}\n",
    "for file_name, path in webnlg_test_data_path_dict.items():\n",
    "    webnlg_test_data_dict[file_name] = json.load(open(path, \"r\", encoding = \"utf-8\"))"
   ]
  },
  {
   "cell_type": "markdown",
   "metadata": {},
   "source": [
    "# Preprocess"
   ]
  },
  {
   "cell_type": "code",
   "execution_count": 8,
   "metadata": {},
   "outputs": [],
   "source": [
    "def get_tok2char_span_map(text):\n",
    "    tokens = text.split(\" \")\n",
    "    tok2char_span = []\n",
    "    char_num = 0\n",
    "    for tok in tokens:\n",
    "        tok2char_span.append((char_num, char_num + len(tok)))\n",
    "        char_num += len(tok) + 1 # +1: whitespace\n",
    "    return tok2char_span"
   ]
  },
  {
   "cell_type": "code",
   "execution_count": 9,
   "metadata": {},
   "outputs": [],
   "source": [
    "def tran2normal_samples(data):\n",
    "    normal_sample_list = []\n",
    "    for sample in tqdm(data, desc = \"Transforming data format\"):\n",
    "        text = sample[\"text\"]\n",
    "        spo_list = sample[\"triple_list\"]\n",
    "        normal_sample = {\n",
    "            \"text\": text,\n",
    "            \"id\": sample[\"id\"],\n",
    "        }\n",
    "        normal_rel_list = []\n",
    "        for rel in spo_list:\n",
    "            normal_rel_list.append({\n",
    "                \"subject\": rel[0],\n",
    "                \"predicate\": rel[1],\n",
    "                \"object\": rel[2],\n",
    "            })\n",
    "        normal_sample[\"relation_list\"] = normal_rel_list\n",
    "        normal_sample_list.append(normal_sample)\n",
    "    return normal_sample_list"
   ]
  },
  {
   "cell_type": "code",
   "execution_count": 10,
   "metadata": {
    "scrolled": true
   },
   "outputs": [
    {
     "name": "stderr",
     "output_type": "stream",
     "text": [
      "5019it [00:00, 531033.04it/s]\n",
      "Transforming data format: 100%|██████████| 5019/5019 [00:00<00:00, 154668.91it/s]\n",
      "Adding token level spans: 100%|██████████| 5019/5019 [00:01<00:00, 4952.29it/s]\n",
      "500it [00:00, 365548.54it/s]\n",
      "Transforming data format: 100%|██████████| 500/500 [00:00<00:00, 139623.97it/s]\n",
      "Adding token level spans: 100%|██████████| 500/500 [00:00<00:00, 4825.71it/s]\n",
      "703it [00:00, 407940.75it/s]\n",
      "Transforming data format: 100%|██████████| 703/703 [00:00<00:00, 101679.22it/s]\n",
      "Adding token level spans: 100%|██████████| 703/703 [00:00<00:00, 4626.74it/s]\n",
      "26it [00:00, 78398.21it/s]\n",
      "Transforming data format: 100%|██████████| 26/26 [00:00<00:00, 62854.12it/s]\n",
      "Adding token level spans: 100%|██████████| 26/26 [00:00<00:00, 3041.64it/s]\n",
      "457it [00:00, 318246.21it/s]\n",
      "Transforming data format: 100%|██████████| 457/457 [00:00<00:00, 80254.44it/s]\n",
      "Adding token level spans: 100%|██████████| 457/457 [00:00<00:00, 4854.97it/s]\n",
      "246it [00:00, 371685.44it/s]\n",
      "Transforming data format: 100%|██████████| 246/246 [00:00<00:00, 181686.70it/s]\n",
      "Adding token level spans: 100%|██████████| 246/246 [00:00<00:00, 9102.53it/s]\n",
      "266it [00:00, 357247.80it/s]\n",
      "Transforming data format: 100%|██████████| 266/266 [00:00<00:00, 185792.65it/s]\n",
      "Adding token level spans: 100%|██████████| 266/266 [00:00<00:00, 9976.35it/s]\n",
      "171it [00:00, 234005.22it/s]\n",
      "Transforming data format: 100%|██████████| 171/171 [00:00<00:00, 136849.07it/s]\n",
      "Adding token level spans: 100%|██████████| 171/171 [00:00<00:00, 5789.78it/s]\n",
      "131it [00:00, 295723.26it/s]\n",
      "Transforming data format: 100%|██████████| 131/131 [00:00<00:00, 103106.37it/s]\n",
      "Adding token level spans: 100%|██████████| 131/131 [00:00<00:00, 4443.08it/s]\n",
      "90it [00:00, 232873.14it/s]\n",
      "Transforming data format: 100%|██████████| 90/90 [00:00<00:00, 89920.76it/s]\n",
      "Adding token level spans: 100%|██████████| 90/90 [00:00<00:00, 3685.25it/s]\n",
      "45it [00:00, 155986.51it/s]\n",
      "Transforming data format: 100%|██████████| 45/45 [00:00<00:00, 60301.50it/s]\n",
      "Adding token level spans: 100%|██████████| 45/45 [00:00<00:00, 2852.28it/s]\n"
     ]
    }
   ],
   "source": [
    "preprocessor = Preprocessor(transform_func = tran2normal_samples, \n",
    "                            get_tok2char_span_map_func = get_tok2char_span_map)\n",
    "\n",
    "train_data = preprocessor.get_normal_dataset(webnlg_train_data, add_id = True, dataset_name = \"train\")\n",
    "valid_data = preprocessor.get_normal_dataset(webnlg_valid_data, add_id = True, dataset_name = \"valid\")\n",
    "test_data_dict = {}\n",
    "for file_name, data in webnlg_test_data_dict.items():\n",
    "    preprocessed_data = preprocessor.get_normal_dataset(data, add_id = True, dataset_name = \"file_name\")\n",
    "    test_data_dict[file_name] = preprocessed_data"
   ]
  },
  {
   "cell_type": "markdown",
   "metadata": {},
   "source": [
    "# Split"
   ]
  },
  {
   "cell_type": "code",
   "execution_count": 11,
   "metadata": {},
   "outputs": [],
   "source": [
    "def split_into_short_samples(sample_list, sliding_len = 50):\n",
    "    new_sample_list = []\n",
    "    for sample in tqdm(sample_list, desc = \"Splitting\"):\n",
    "        text_id = sample[\"id\"]\n",
    "        text = sample[\"text\"]\n",
    "        \n",
    "        offset_map = get_tok2char_span_map(text)\n",
    "        tokens = [text[a:b] for a,b in offset_map]\n",
    "        \n",
    "        # sliding on token level\n",
    "        split_sample_list = []\n",
    "        for start_ind in range(0, len(tokens), sliding_len):\n",
    "            end_ind = start_ind + config.max_seq_len\n",
    "#             while \"##\" in tokens[end_ind]:\n",
    "#                 end_ind += 1\n",
    "            char_span_list = offset_map[start_ind:end_ind]\n",
    "            char_level_span = (char_span_list[0][0], char_span_list[-1][1])\n",
    "            sub_text = text[char_level_span[0]:char_level_span[1]]\n",
    "\n",
    "            new_sample = {\n",
    "                \"id\": text_id,\n",
    "                \"text\": sub_text,\n",
    "                \"relation_list\": []\n",
    "            }\n",
    "            for rel in sample[\"relation_list\"]:\n",
    "                subj_span = rel[\"subj_span\"]\n",
    "                obj_span = rel[\"obj_span\"]\n",
    "                if subj_span[0] >= start_ind and subj_span[1] <= end_ind \\\n",
    "                    and obj_span[0] >= start_ind and obj_span[1] <= end_ind:\n",
    "                    new_rel = copy.deepcopy(rel)\n",
    "                    new_rel[\"subj_span\"] = (subj_span[0] - start_ind, subj_span[1] - start_ind)\n",
    "                    new_rel[\"obj_span\"] = (obj_span[0] - start_ind, obj_span[1] - start_ind)\n",
    "                    new_sample[\"relation_list\"].append(new_rel)\n",
    "#                 else:\n",
    "#                     set_trace()\n",
    "            if len(new_sample[\"relation_list\"]) > 0:\n",
    "                split_sample_list.append(new_sample)\n",
    "#         if len(split_sample_list) == 0:\n",
    "#             set_trace()\n",
    "        new_sample_list.extend(split_sample_list)\n",
    "    return new_sample_list"
   ]
  },
  {
   "cell_type": "code",
   "execution_count": 12,
   "metadata": {},
   "outputs": [
    {
     "name": "stderr",
     "output_type": "stream",
     "text": [
      "Splitting: 100%|██████████| 5019/5019 [00:00<00:00, 5093.94it/s]\n",
      "Splitting: 100%|██████████| 500/500 [00:00<00:00, 7473.76it/s]\n"
     ]
    }
   ],
   "source": [
    "short_train_data = split_into_short_samples(train_data, sliding_len = config.sliding_len)\n",
    "short_valid_data = split_into_short_samples(valid_data, sliding_len = config.sliding_len)"
   ]
  },
  {
   "cell_type": "code",
   "execution_count": 13,
   "metadata": {},
   "outputs": [
    {
     "name": "stderr",
     "output_type": "stream",
     "text": [
      "Splitting: 100%|██████████| 703/703 [00:00<00:00, 7418.19it/s]\n",
      "Splitting: 100%|██████████| 26/26 [00:00<00:00, 3073.18it/s]\n",
      "Splitting: 100%|██████████| 457/457 [00:00<00:00, 5398.77it/s]\n",
      "Splitting: 100%|██████████| 246/246 [00:00<00:00, 16120.85it/s]\n",
      "Splitting: 100%|██████████| 266/266 [00:00<00:00, 15762.94it/s]\n",
      "Splitting: 100%|██████████| 171/171 [00:00<00:00, 8309.88it/s]\n",
      "Splitting: 100%|██████████| 131/131 [00:00<00:00, 5844.38it/s]\n",
      "Splitting: 100%|██████████| 90/90 [00:00<00:00, 4064.82it/s]\n",
      "Splitting: 100%|██████████| 45/45 [00:00<00:00, 2782.93it/s]\n"
     ]
    }
   ],
   "source": [
    "short_test_data_dict = {}\n",
    "for file_name, data in test_data_dict.items():\n",
    "    short_test_data = split_into_short_samples(data, sliding_len = config.sliding_len)\n",
    "    short_test_data_dict[file_name] = short_test_data"
   ]
  },
  {
   "cell_type": "code",
   "execution_count": 14,
   "metadata": {},
   "outputs": [
    {
     "name": "stdout",
     "output_type": "stream",
     "text": [
      "train: 5882 valid: 580\n",
      "test_triples: 827\n",
      "test_triples_epo: 36\n",
      "test_triples_seo: 576\n",
      "test_triples_normal: 251\n",
      "test_triples_1: 271\n",
      "test_triples_2: 185\n",
      "test_triples_3: 154\n",
      "test_triples_4: 137\n",
      "test_triples_5: 80\n"
     ]
    }
   ],
   "source": [
    "print(\"train: {}\".format(len(short_train_data)), \"valid: {}\".format(len(short_valid_data)))\n",
    "for fil_name, data in short_test_data_dict.items():\n",
    "        print(\"{}: {}\".format(fil_name, len(data)))"
   ]
  },
  {
   "cell_type": "markdown",
   "metadata": {},
   "source": [
    "# Tagging"
   ]
  },
  {
   "cell_type": "code",
   "execution_count": 15,
   "metadata": {},
   "outputs": [
    {
     "name": "stderr",
     "output_type": "stream",
     "text": [
      "100%|██████████| 8036/8036 [00:00<00:00, 24785.95it/s]\n"
     ]
    }
   ],
   "source": [
    "from collections import defaultdict\n",
    "rel_set = set()\n",
    "word2num = defaultdict(int)\n",
    "word2idx = {'<PAD>':0, '<UNK>':1}\n",
    "idx2word = {}\n",
    "idx = 2\n",
    "\n",
    "all_data = train_data + valid_data \n",
    "for data in list(short_test_data_dict.values()):\n",
    "    all_data.extend(data)\n",
    "    \n",
    "for sample in tqdm(all_data):\n",
    "    for rel in sample[\"relation_list\"]:\n",
    "        rel_set.add(rel[\"predicate\"])\n",
    "    text = sample['text']\n",
    "    span_list = get_tok2char_span_map(text)\n",
    "    for span in span_list:\n",
    "        word = text[span[0]:span[1]]\n",
    "        word2num[word] += 1\n",
    "\n",
    "#过滤出现次数小于3的word\n",
    "for k,v in word2num.items():\n",
    "    if v < 3:\n",
    "        continue\n",
    "    word2idx[k] = idx\n",
    "    idx += 1\n",
    "for k,v in word2idx.items():\n",
    "    idx2word[v] = k\n",
    "rel_set = sorted(rel_set)"
   ]
  },
  {
   "cell_type": "code",
   "execution_count": 16,
   "metadata": {},
   "outputs": [
    {
     "data": {
      "text/plain": [
       "2895"
      ]
     },
     "execution_count": 16,
     "metadata": {},
     "output_type": "execute_result"
    }
   ],
   "source": [
    "len(word2idx)"
   ]
  },
  {
   "cell_type": "code",
   "execution_count": 17,
   "metadata": {},
   "outputs": [],
   "source": [
    "rel2id = {rel:ind for ind, rel in enumerate(rel_set)}"
   ]
  },
  {
   "cell_type": "code",
   "execution_count": 18,
   "metadata": {},
   "outputs": [],
   "source": [
    "handshaking_tagger = HandshakingTaggingScheme(rel2id = rel2id, max_seq_len = config.max_seq_len)"
   ]
  },
  {
   "cell_type": "code",
   "execution_count": 19,
   "metadata": {},
   "outputs": [],
   "source": [
    "def sample_equal_to(sample1, sample2):\n",
    "    assert sample1[\"id\"] == sample2[\"id\"]\n",
    "    assert sample1[\"text\"] == sample2[\"text\"]\n",
    "    memory_set = set()\n",
    "    for rel in sample2[\"relation_list\"]:\n",
    "        memory = \"{}\\u2E80{}\\u2E80{}\\u2E80{}\\u2E80{}\".format(rel[\"subject\"], \n",
    "                                                             rel[\"predicate\"], \n",
    "                                                             rel[\"object\"], \n",
    "                                                             str(rel[\"subj_span\"]), \n",
    "                                                             str(rel[\"obj_span\"]))\n",
    "        memory_set.add(memory)\n",
    "    for rel in sample1[\"relation_list\"]:\n",
    "        memory = \"{}\\u2E80{}\\u2E80{}\\u2E80{}\\u2E80{}\".format(rel[\"subject\"], \n",
    "                                                             rel[\"predicate\"], \n",
    "                                                             rel[\"object\"], \n",
    "                                                             str(rel[\"subj_span\"]), \n",
    "                                                             str(rel[\"obj_span\"]))\n",
    "        if memory not in memory_set:\n",
    "            set_trace()\n",
    "            return False\n",
    "    return True"
   ]
  },
  {
   "cell_type": "markdown",
   "metadata": {},
   "source": [
    "# Dataset"
   ]
  },
  {
   "cell_type": "code",
   "execution_count": 20,
   "metadata": {},
   "outputs": [],
   "source": [
    "# @specific\n",
    "def get_indexed_train_valid_data(data):\n",
    "    indexed_samples = []\n",
    "    for ind, sample in tqdm(enumerate(data), desc = \"Generate indexed train or valid data\"):\n",
    "        text = sample[\"text\"]\n",
    "        text_id = sample[\"id\"]\n",
    "        \n",
    "        \n",
    "        # tagging\n",
    "        spots_tuple = handshaking_tagger.get_spots(sample)\n",
    "        offset_map = get_tok2char_span_map(text)\n",
    "        input_ids = []\n",
    "        for idx in offset_map:\n",
    "            word = text[idx[0]:idx[1]]\n",
    "            if word not in word2idx:\n",
    "                input_ids.append(word2idx['<UNK>'])\n",
    "            else:\n",
    "                input_ids.append(word2idx[word])\n",
    "        if len(input_ids) < config.max_seq_len:\n",
    "            input_ids.extend([word2idx['<PAD>']] * (config.max_seq_len - len(input_ids)))\n",
    "        input_ids = torch.tensor(input_ids[:config.max_seq_len])\n",
    "        \n",
    "        sample_tp = (text_id,\n",
    "                     text, \n",
    "                     input_ids,\n",
    "                     offset_map,\n",
    "                     spots_tuple,\n",
    "                    )\n",
    "        indexed_samples.append(sample_tp)       \n",
    "    return indexed_samples"
   ]
  },
  {
   "cell_type": "code",
   "execution_count": 21,
   "metadata": {},
   "outputs": [],
   "source": [
    "# @specific\n",
    "def get_indexed_pred_data(data):\n",
    "    indexed_samples = []\n",
    "    for ind, sample in tqdm(enumerate(data), desc = \"Generate indexed pred data\"):\n",
    "        text = sample[\"text\"] \n",
    "        text_id = sample[\"id\"]\n",
    "        # @specific\n",
    "        codes = tokenizer.encode_plus(text, \n",
    "                                    return_offsets_mapping = True, \n",
    "                                    add_special_tokens = False,\n",
    "                                    max_length = max_seq_len, \n",
    "                                    pad_to_max_length = True)\n",
    "        \n",
    "        input_ids = torch.tensor(codes[\"input_ids\"]).long()\n",
    "        attention_mask = torch.tensor(codes[\"attention_mask\"]).long()\n",
    "        token_type_ids = torch.tensor(codes[\"token_type_ids\"]).long()\n",
    "        offset_map = codes[\"offset_mapping\"]\n",
    "\n",
    "        sample_tp = (text_id,\n",
    "                     text, \n",
    "                     input_ids,\n",
    "                     attention_mask,\n",
    "                     token_type_ids,\n",
    "                     offset_map,\n",
    "                     )\n",
    "        indexed_samples.append(sample_tp)       \n",
    "    return indexed_samples"
   ]
  },
  {
   "cell_type": "code",
   "execution_count": 22,
   "metadata": {},
   "outputs": [],
   "source": [
    "class MyDataset(Dataset):\n",
    "    def __init__(self, data):\n",
    "        self.data = data\n",
    "        \n",
    "    def __getitem__(self, index):\n",
    "        return self.data[index]\n",
    "    \n",
    "    def __len__(self):\n",
    "        return len(self.data)"
   ]
  },
  {
   "cell_type": "code",
   "execution_count": 23,
   "metadata": {},
   "outputs": [],
   "source": [
    "def generate_train_dev_batch(batch_data):\n",
    "    text_id_list = []\n",
    "    text_list = []\n",
    "    input_ids_list = []\n",
    "    attention_mask_list = []\n",
    "    token_type_ids_list = [] \n",
    "    offset_map_list = []\n",
    "    ent_spots_list = []\n",
    "    head_rel_spots_list = []\n",
    "    tail_rel_spots_list = []\n",
    "    \n",
    "    for sample in batch_data:\n",
    "        text_id_list.append(sample[0])\n",
    "        text_list.append(sample[1])\n",
    "        input_ids_list.append(sample[2])    \n",
    "        offset_map_list.append(sample[3])\n",
    "        \n",
    "        ent_matrix_spots, head_rel_matrix_spots, tail_rel_matrix_spots = sample[4]\n",
    "        ent_spots_list.append(ent_matrix_spots)\n",
    "        head_rel_spots_list.append(head_rel_matrix_spots)\n",
    "        tail_rel_spots_list.append(tail_rel_matrix_spots)\n",
    "    \n",
    "    # @specific: codes indexed by bert tokenizer\n",
    "    batch_input_ids = torch.stack(input_ids_list, dim = 0)\n",
    "    batch_attention_mask = None\n",
    "    batch_token_type_ids = None\n",
    "\n",
    "    batch_ent_shaking_tag = handshaking_tagger.sharing_spots2shaking_tag4batch(ent_spots_list)\n",
    "    batch_head_rel_shaking_tag = handshaking_tagger.spots2shaking_tag4batch(head_rel_spots_list)\n",
    "    batch_tail_rel_shaking_tag = handshaking_tagger.spots2shaking_tag4batch(tail_rel_spots_list)\n",
    "\n",
    "    return text_id_list, text_list, batch_input_ids, batch_attention_mask, batch_token_type_ids, offset_map_list, batch_ent_shaking_tag, batch_head_rel_shaking_tag, batch_tail_rel_shaking_tag"
   ]
  },
  {
   "cell_type": "code",
   "execution_count": 24,
   "metadata": {},
   "outputs": [],
   "source": [
    "def generate_pred_batch(batch_data):\n",
    "    text_ids = []\n",
    "    text_list = []\n",
    "    input_ids = []\n",
    "    attention_mask = []\n",
    "    token_type_ids = [] \n",
    "    offset_map = []\n",
    "    for sample in batch_data:\n",
    "        text_ids.append(sample[0])\n",
    "        text_list.append(sample[1])\n",
    "        input_ids.append(sample[2])\n",
    "        attention_mask.append(sample[3])        \n",
    "        token_type_ids.append(sample[4])        \n",
    "        offset_map.append(sample[5])\n",
    "    input_ids = torch.stack(input_ids, dim = 0)\n",
    "    attention_mask = torch.stack(attention_mask, dim = 0)\n",
    "    token_type_ids = torch.stack(token_type_ids, dim = 0)\n",
    "    return text_ids, text_list, input_ids, attention_mask, token_type_ids, offset_map"
   ]
  },
  {
   "cell_type": "code",
   "execution_count": 25,
   "metadata": {},
   "outputs": [],
   "source": [
    "# @uni\n",
    "def get_train_dev_dataloader_gen(indexed_train_sample_list, indexed_dev_sample_list, batch_size):\n",
    "    train_dataloader = DataLoader(MyDataset(indexed_train_sample_list), \n",
    "                                      batch_size = batch_size, \n",
    "                                      shuffle = True, \n",
    "                                      num_workers = 6,\n",
    "                                      drop_last = False,\n",
    "                                      collate_fn = generate_train_dev_batch,\n",
    "                                     )\n",
    "    dev_dataloader = DataLoader(MyDataset(indexed_dev_sample_list), \n",
    "                              batch_size = batch_size, \n",
    "                              shuffle = True, \n",
    "                              num_workers = 6,\n",
    "                              drop_last = False,\n",
    "                              collate_fn = generate_train_dev_batch,\n",
    "                             )\n",
    "    return train_dataloader, dev_dataloader"
   ]
  },
  {
   "cell_type": "code",
   "execution_count": 26,
   "metadata": {},
   "outputs": [
    {
     "name": "stderr",
     "output_type": "stream",
     "text": [
      "Generate indexed train or valid data: 5882it [00:00, 7797.31it/s] \n"
     ]
    }
   ],
   "source": [
    "indexed_train_data = get_indexed_train_valid_data(short_train_data)"
   ]
  },
  {
   "cell_type": "code",
   "execution_count": 27,
   "metadata": {},
   "outputs": [
    {
     "name": "stderr",
     "output_type": "stream",
     "text": [
      "Generate indexed train or valid data: 580it [00:00, 11233.93it/s]\n"
     ]
    }
   ],
   "source": [
    "indexed_valid_data = get_indexed_train_valid_data(short_valid_data)"
   ]
  },
  {
   "cell_type": "code",
   "execution_count": 28,
   "metadata": {},
   "outputs": [],
   "source": [
    "# have a look at dataloader\n",
    "train_dataloader, dev_dataloader = get_train_dev_dataloader_gen(indexed_train_data, indexed_valid_data, 32)"
   ]
  },
  {
   "cell_type": "code",
   "execution_count": 29,
   "metadata": {},
   "outputs": [
    {
     "name": "stdout",
     "output_type": "stream",
     "text": [
      "los Reyes , in Spain .\n",
      "\n",
      "[973, 974, 4, 12, 966, 23, 0, 0, 0, 0, 0, 0, 0, 0, 0, 0, 0, 0, 0, 0, 0, 0, 0, 0, 0, 0, 0, 0, 0, 0, 0, 0, 0, 0, 0, 0, 0, 0, 0, 0, 0, 0, 0, 0, 0, 0, 0, 0, 0, 0, 0, 0, 0, 0, 0, 0, 0, 0, 0, 0, 0, 0, 0, 0, 0, 0, 0, 0, 0, 0, 0, 0, 0, 0, 0, 0, 0, 0, 0, 0, 0, 0, 0, 0, 0, 0, 0, 0, 0, 0, 0, 0, 0, 0, 0, 0, 0, 0, 0, 0]\n",
      "torch.Size([32, 100])\n",
      "32\n",
      "torch.Size([32, 5050])\n",
      "torch.Size([32, 171, 5050])\n",
      "torch.Size([32, 171, 5050])\n"
     ]
    }
   ],
   "source": [
    "train_data_iter = iter(train_dataloader)\n",
    "batch_data = next(train_data_iter)\n",
    "text_id_list, text_list, batch_input_ids, \\\n",
    "batch_attention_mask, batch_token_type_ids, \\\n",
    "offset_map_list, batch_ent_shaking_tag, \\\n",
    "batch_head_rel_shaking_tag, batch_tail_rel_shaking_tag = batch_data\n",
    "\n",
    "print(text_list[0])\n",
    "print()\n",
    "print(batch_input_ids[0].tolist())\n",
    "print(batch_input_ids.size())\n",
    "# print(batch_attention_mask.size())\n",
    "# print(batch_token_type_ids.size())\n",
    "print(len(offset_map_list))\n",
    "print(batch_ent_shaking_tag.size())\n",
    "print(batch_head_rel_shaking_tag.size())\n",
    "print(batch_tail_rel_shaking_tag.size())"
   ]
  },
  {
   "cell_type": "markdown",
   "metadata": {},
   "source": [
    "# Load Word Embedding Matrix"
   ]
  },
  {
   "cell_type": "code",
   "execution_count": 30,
   "metadata": {},
   "outputs": [],
   "source": [
    "glove = Glove()\n",
    "glove = glove.load(config.word_embedding_path)"
   ]
  },
  {
   "cell_type": "code",
   "execution_count": 31,
   "metadata": {},
   "outputs": [
    {
     "name": "stderr",
     "output_type": "stream",
     "text": [
      "Embedding matrix initializing...: 100%|██████████| 2895/2895 [00:00<00:00, 239956.33it/s]"
     ]
    },
    {
     "name": "stdout",
     "output_type": "stream",
     "text": [
      "0.9993091537132988\n"
     ]
    },
    {
     "name": "stderr",
     "output_type": "stream",
     "text": [
      "\n"
     ]
    }
   ],
   "source": [
    "# prepare embedding matrix\n",
    "word_embedding_init_matrix = np.random.normal(-1, 1, size=(len(word2idx), config.word_embedding_dim))\n",
    "count_in = 0\n",
    "\n",
    "# 在预训练词向量中的用该预训练向量\n",
    "# 不在预训练集里的用随机向量\n",
    "for ind, tok in tqdm(idx2word.items(), desc=\"Embedding matrix initializing...\"):\n",
    "    if tok in glove.dictionary:\n",
    "        count_in += 1\n",
    "        word_embedding_init_matrix[ind] = glove.word_vectors[glove.dictionary[tok]]\n",
    "        \n",
    "print(count_in / len(idx2word)) # 命中预训练词向量的比例"
   ]
  },
  {
   "cell_type": "code",
   "execution_count": 32,
   "metadata": {},
   "outputs": [
    {
     "data": {
      "text/plain": [
       "torch.Size([2895, 100])"
      ]
     },
     "execution_count": 32,
     "metadata": {},
     "output_type": "execute_result"
    }
   ],
   "source": [
    "word_embedding_init_matrix = torch.FloatTensor(word_embedding_init_matrix)\n",
    "word_embedding_init_matrix.size()"
   ]
  },
  {
   "cell_type": "markdown",
   "metadata": {},
   "source": [
    "# Model"
   ]
  },
  {
   "cell_type": "code",
   "execution_count": 33,
   "metadata": {},
   "outputs": [],
   "source": [
    "class RelExtractor(nn.Module):\n",
    "    def __init__(self, init_word_embedding_matrix, hidden_size, dropout, rel_size):\n",
    "        super().__init__()\n",
    "        # BiLSTM encoder\n",
    "        self.word_embeds = nn.Embedding.from_pretrained(init_word_embedding_matrix, freeze = False)\n",
    "        self.dropout = nn.Dropout(dropout)\n",
    "        self.lstm = nn.LSTM(init_word_embedding_matrix.size()[-1], \n",
    "                            hidden_size // 2, \n",
    "                            num_layers = 2, \n",
    "                            bidirectional = True, \n",
    "                            batch_first = True)\n",
    "\n",
    "\n",
    "        self.ent_fc = nn.Linear(hidden_size, 2)\n",
    "        self.head_rel_fc_list = [nn.Linear(hidden_size, 3) for _ in range(rel_size)]\n",
    "        self.tail_rel_fc_list = [nn.Linear(hidden_size, 3) for _ in range(rel_size)]\n",
    "        \n",
    "        for ind, fc in enumerate(self.head_rel_fc_list):\n",
    "            self.register_parameter(\"weight_4_head_rel{}\".format(ind), fc.weight)\n",
    "            self.register_parameter(\"bias_4_head_rel{}\".format(ind), fc.bias)\n",
    "        for ind, fc in enumerate(self.tail_rel_fc_list):\n",
    "            self.register_parameter(\"weight_4_tail_rel{}\".format(ind), fc.weight)\n",
    "            self.register_parameter(\"bias_4_tail_rel{}\".format(ind), fc.bias)\n",
    "            \n",
    "        # conditional layer normaliztion\n",
    "        fake_inputs = torch.zeros([config.batch_size, config.max_seq_len, hidden_size])\n",
    "        self.cond_layer_norm = LayerNorm(fake_inputs.size(), hidden_size, conditional = True)\n",
    "        \n",
    "    def forward(self, input_ids, attention_mask, token_type_ids):\n",
    "        # BiLSTM encoder\n",
    "        embedding = self.word_embeds(input_ids)\n",
    "        outputs, hidden = self.lstm(embedding)\n",
    "        last_hidden_state = self.dropout(outputs)  # last_hidden_state: (batch_size, seq_len, hidden_size) \n",
    "        \n",
    "        # shaking_hiddens: (batch_size, 1 + ... + seq_len, hidden_size)\n",
    "        shaking_hiddens = self.shake_hands_afterwards(last_hidden_state)\n",
    "        \n",
    "        ent_shaking_outputs = self.ent_fc(shaking_hiddens)\n",
    "            \n",
    "        head_rel_shaking_outputs_list = []\n",
    "        for fc in self.head_rel_fc_list:\n",
    "            head_rel_shaking_outputs_list.append(fc(shaking_hiddens))\n",
    "            \n",
    "        tail_rel_shaking_outputs_list = []\n",
    "        for fc in self.tail_rel_fc_list:\n",
    "            tail_rel_shaking_outputs_list.append(fc(shaking_hiddens))\n",
    "        \n",
    "        head_rel_shaking_outputs = torch.stack(head_rel_shaking_outputs_list, dim = 1)\n",
    "        tail_rel_shaking_outputs = torch.stack(tail_rel_shaking_outputs_list, dim = 1)\n",
    "        \n",
    "        return ent_shaking_outputs, head_rel_shaking_outputs, tail_rel_shaking_outputs\n",
    "\n",
    "    def shake_hands_afterwards(self, seq_hiddens):\n",
    "        '''\n",
    "        seq_hiddens: (batch_size, seq_len, hidden_size) (32, 3, 5)\n",
    "        return shake_hands_matrix_hiddens: (batch_size, (1 + seq_len) * seq_len / 2, hidden_size) (32, 5+4+3+2+1, 5)\n",
    "        '''\n",
    "        seq_len = seq_hiddens.size()[-2]\n",
    "        shake_hands_hidden_list = []\n",
    "        for ind in range(seq_len):\n",
    "            hidden_each_step = seq_hiddens[:, ind, :]\n",
    "            # seq_len - ind: only shake afterwards\n",
    "            repeat_hidden_each_step = hidden_each_step[:, None, :].repeat(1, seq_len - ind, 1) \n",
    "    #         shake_hands_hidden = torch.cat([repeat_hidden_each_step, seq_hiddens[:, ind:, :]], dim = -1)\n",
    "            shake_hands_hidden = self.cond_layer_norm(seq_hiddens[:, ind:, :], repeat_hidden_each_step)\n",
    "            shake_hands_hidden_list.append(shake_hands_hidden)\n",
    "        shake_hands_matrix_hiddens = torch.cat(shake_hands_hidden_list, dim = 1)\n",
    "        return shake_hands_matrix_hiddens"
   ]
  },
  {
   "cell_type": "code",
   "execution_count": 34,
   "metadata": {},
   "outputs": [],
   "source": [
    "rel_extractor = RelExtractor(word_embedding_init_matrix, config.rnn_hidden_size, config.dropout, len(rel2id))\n",
    "rel_extractor = rel_extractor.to(device)"
   ]
  },
  {
   "cell_type": "code",
   "execution_count": 35,
   "metadata": {},
   "outputs": [],
   "source": [
    "def bias_loss(weights = None):\n",
    "    if weights is not None:\n",
    "        weights = torch.FloatTensor(weights).to(device)\n",
    "    cross_en = nn.CrossEntropyLoss(weight = weights)  \n",
    "    return lambda pred, target: cross_en(pred.view(-1, pred.size()[-1]), target.view(-1))\n",
    "loss_func = bias_loss()"
   ]
  },
  {
   "cell_type": "code",
   "execution_count": 36,
   "metadata": {},
   "outputs": [],
   "source": [
    "def get_sample_accuracy(pred, truth):\n",
    "    '''\n",
    "    计算所有抽取字段都正确的样本比例\n",
    "    即该batch的输出与truth全等的样本比例\n",
    "    '''\n",
    "    # (batch_size, ..., seq_len, tag_size) -> (batch_size, ..., seq_len)\n",
    "    pred_id = torch.argmax(pred, dim = -1)\n",
    "    # (batch_size, ..., seq_len) -> (batch_size, )，把每个sample压成一条seq\n",
    "    pred_id = pred_id.view(pred_id.size()[0], -1)\n",
    "    truth = truth.view(truth.size()[0], -1)\n",
    "    \n",
    "    # (batch_size, )，每个元素是pred与truth之间tag相同的数量\n",
    "    correct_tag_num = torch.sum(torch.eq(truth, pred_id).float(), dim = 1)\n",
    "\n",
    "    # seq维上所有tag必须正确，所以correct_tag_num必须等于seq的长度才算一个correct的sample\n",
    "    sample_acc_ = torch.eq(correct_tag_num, torch.ones_like(correct_tag_num) * truth.size()[-1]).float()\n",
    "    sample_acc = torch.mean(sample_acc_)\n",
    "    \n",
    "    return sample_acc"
   ]
  },
  {
   "cell_type": "code",
   "execution_count": 37,
   "metadata": {},
   "outputs": [],
   "source": [
    "def get_rel_cpg(text_list, offset_map_list, \n",
    "                 batch_pred_ent_shaking_outputs,\n",
    "                 batch_pred_head_rel_shaking_outputs,\n",
    "                 batch_pred_tail_rel_shaking_outputs,\n",
    "                 batch_gold_ent_shaking_tag,\n",
    "                 batch_gold_head_rel_shaking_tag,\n",
    "                 batch_gold_tail_rel_shaking_tag):\n",
    "    batch_pred_ent_shaking_tag = torch.argmax(batch_pred_ent_shaking_outputs, dim = -1)\n",
    "    batch_pred_head_rel_shaking_tag = torch.argmax(batch_pred_head_rel_shaking_outputs, dim = -1)\n",
    "    batch_pred_tail_rel_shaking_tag = torch.argmax(batch_pred_tail_rel_shaking_outputs, dim = -1)\n",
    "    \n",
    "    correct_num, pred_num, gold_num = 0, 0, 0\n",
    "    for ind in range(len(text_list)):\n",
    "        text = text_list[ind]\n",
    "        offset_map = offset_map_list[ind]\n",
    "        gold_ent_shaking_tag, pred_ent_shaking_tag = batch_gold_ent_shaking_tag[ind], batch_pred_ent_shaking_tag[ind]\n",
    "        gold_head_rel_shaking_tag, pred_head_rel_shaking_tag = batch_gold_head_rel_shaking_tag[ind], batch_pred_head_rel_shaking_tag[ind]\n",
    "        gold_tail_rel_shaking_tag, pred_tail_rel_shaking_tag = batch_gold_tail_rel_shaking_tag[ind], batch_pred_tail_rel_shaking_tag[ind]\n",
    "        \n",
    "        pred_rel_list = handshaking_tagger.decode_rel_fr_shaking_tag(text, \n",
    "                                                  pred_ent_shaking_tag, \n",
    "                                                  pred_head_rel_shaking_tag, \n",
    "                                                  pred_tail_rel_shaking_tag, \n",
    "                                                  offset_map)\n",
    "        gold_rel_list = handshaking_tagger.decode_rel_fr_shaking_tag(text, \n",
    "                                                  gold_ent_shaking_tag, \n",
    "                                                  gold_head_rel_shaking_tag, \n",
    "                                                  gold_tail_rel_shaking_tag, \n",
    "                                                  offset_map)\n",
    "\n",
    "        gold_rel_set = set([\"{}\\u2E80{}\\u2E80{}\".format(rel[\"subject\"], rel[\"predicate\"], rel[\"object\"]) for rel in gold_rel_list])\n",
    "        pred_rel_set = set([\"{}\\u2E80{}\\u2E80{}\".format(rel[\"subject\"], rel[\"predicate\"], rel[\"object\"]) for rel in pred_rel_list])\n",
    "        \n",
    "        for rel_str in pred_rel_set:\n",
    "            if rel_str in gold_rel_set:\n",
    "                correct_num += 1\n",
    "        \n",
    "        pred_num += len(gold_rel_set)\n",
    "        gold_num += len(pred_rel_set)\n",
    "        \n",
    "    return correct_num, pred_num, gold_num"
   ]
  },
  {
   "cell_type": "code",
   "execution_count": 38,
   "metadata": {},
   "outputs": [],
   "source": [
    "def get_scores(correct_num, pred_num, gold_num):\n",
    "    minimini = 1e-10\n",
    "    precision = correct_num / (pred_num + minimini)\n",
    "    recall = correct_num / (gold_num + minimini)\n",
    "    f1 = 2 * precision * recall / (precision + recall + minimini)\n",
    "    return precision, recall, f1"
   ]
  },
  {
   "cell_type": "markdown",
   "metadata": {},
   "source": [
    "# Train"
   ]
  },
  {
   "cell_type": "code",
   "execution_count": 39,
   "metadata": {},
   "outputs": [],
   "source": [
    "# train step\n",
    "def train_step(batch_train_data, optimizer, loss_weights):\n",
    "    text_id_list, text_list, batch_input_ids, \\\n",
    "    batch_attention_mask, batch_token_type_ids, \\\n",
    "    offset_map_list, batch_ent_shaking_tag, \\\n",
    "    batch_head_rel_shaking_tag, batch_tail_rel_shaking_tag = batch_train_data\n",
    "    \n",
    "    batch_input_ids, \\\n",
    "    batch_attention_mask, \\\n",
    "    batch_token_type_ids, \\\n",
    "    batch_ent_shaking_tag, \\\n",
    "    batch_head_rel_shaking_tag, \\\n",
    "    batch_tail_rel_shaking_tag = (batch_input_ids.to(device), \n",
    "                                  None,\n",
    "                                  None,\n",
    "                              batch_ent_shaking_tag.to(device), \n",
    "                              batch_head_rel_shaking_tag.to(device), \n",
    "                              batch_tail_rel_shaking_tag.to(device)\n",
    "                             )\n",
    "\n",
    "    # zero the parameter gradients\n",
    "    optimizer.zero_grad()\n",
    "    \n",
    "    ent_shaking_outputs, \\\n",
    "    head_rel_shaking_outputs, \\\n",
    "    tail_rel_shaking_outputs = rel_extractor(batch_input_ids, \n",
    "                                              batch_attention_mask, \n",
    "                                              batch_token_type_ids, \n",
    "                                             )\n",
    "\n",
    "    w_ent, w_rel = loss_weights[\"ent\"], loss_weights[\"rel\"]\n",
    "    loss = w_ent * loss_func(ent_shaking_outputs, batch_ent_shaking_tag) + \\\n",
    "            w_rel * loss_func(head_rel_shaking_outputs, batch_head_rel_shaking_tag) + \\\n",
    "            w_rel * loss_func(tail_rel_shaking_outputs, batch_tail_rel_shaking_tag)\n",
    "    \n",
    "    # bp time: 2s\n",
    "    loss.backward()\n",
    "    optimizer.step()\n",
    "    \n",
    "    ent_sample_acc = get_sample_accuracy(ent_shaking_outputs, \n",
    "                                          batch_ent_shaking_tag)\n",
    "    head_rel_sample_acc = get_sample_accuracy(head_rel_shaking_outputs, \n",
    "                                             batch_head_rel_shaking_tag)\n",
    "    tail_rel_sample_acc = get_sample_accuracy(tail_rel_shaking_outputs, \n",
    "                                             batch_tail_rel_shaking_tag)\n",
    "    \n",
    "    return loss.item(), ent_sample_acc.item(), head_rel_sample_acc.item(), tail_rel_sample_acc.item()\n",
    "\n",
    "# valid step\n",
    "def valid_step(batch_valid_data):\n",
    "    text_id_list, text_list, batch_input_ids, \\\n",
    "    batch_attention_mask, batch_token_type_ids, \\\n",
    "    offset_map_list, batch_ent_shaking_tag, \\\n",
    "    batch_head_rel_shaking_tag, batch_tail_rel_shaking_tag = batch_valid_data\n",
    "    \n",
    "    batch_input_ids, \\\n",
    "    batch_attention_mask, \\\n",
    "    batch_token_type_ids, \\\n",
    "    batch_ent_shaking_tag, \\\n",
    "    batch_head_rel_shaking_tag, \\\n",
    "    batch_tail_rel_shaking_tag = (batch_input_ids.to(device), \n",
    "                                  None,\n",
    "                                  None,\n",
    "                              batch_ent_shaking_tag.to(device), \n",
    "                              batch_head_rel_shaking_tag.to(device), \n",
    "                              batch_tail_rel_shaking_tag.to(device)\n",
    "                             )\n",
    "    with torch.no_grad():\n",
    "        ent_shaking_outputs, \\\n",
    "        head_rel_shaking_outputs, \\\n",
    "        tail_rel_shaking_outputs = rel_extractor(batch_input_ids, \n",
    "                                                  batch_attention_mask, \n",
    "                                                  batch_token_type_ids, \n",
    "                                                 )\n",
    "    \n",
    "    ent_sample_acc = get_sample_accuracy(ent_shaking_outputs, \n",
    "                                          batch_ent_shaking_tag)\n",
    "    head_rel_sample_acc = get_sample_accuracy(head_rel_shaking_outputs, \n",
    "                                             batch_head_rel_shaking_tag)\n",
    "    tail_rel_sample_acc = get_sample_accuracy(tail_rel_shaking_outputs, \n",
    "                                             batch_tail_rel_shaking_tag)\n",
    "    \n",
    "    rel_cpg = get_rel_cpg(text_list, offset_map_list, \n",
    "                            ent_shaking_outputs,\n",
    "                            head_rel_shaking_outputs,\n",
    "                            tail_rel_shaking_outputs,\n",
    "                            batch_ent_shaking_tag,\n",
    "                            batch_head_rel_shaking_tag,\n",
    "                            batch_tail_rel_shaking_tag)\n",
    "    \n",
    "    return ent_sample_acc.item(), head_rel_sample_acc.item(), tail_rel_sample_acc.item(), rel_cpg"
   ]
  },
  {
   "cell_type": "code",
   "execution_count": 40,
   "metadata": {},
   "outputs": [],
   "source": [
    "max_f1 = 0.\n",
    "def train_n_valid(train_dataloader, dev_dataloader, optimizer, scheduler, num_epoch):  \n",
    "    def train(dataloader, ep):\n",
    "        # train\n",
    "        rel_extractor.train()\n",
    "        \n",
    "        t_ep = time.time()\n",
    "        start_lr = optimizer.param_groups[0]['lr']\n",
    "        total_loss, total_ent_sample_acc, total_head_rel_sample_acc, total_tail_rel_sample_acc = 0., 0., 0., 0.\n",
    "        for batch_ind, batch_train_data in enumerate(dataloader):\n",
    "            t_batch = time.time()\n",
    "            z = (2 * len(rel2id) + 1)\n",
    "            steps_per_ep = len(dataloader)\n",
    "            total_steps = config.loss_weight_recover_steps\n",
    "            current_step = steps_per_ep * ep + batch_ind\n",
    "            w_ent = max(1 / z + 1 - current_step / total_steps, 1 / z)\n",
    "            w_rel = min((len(rel2id) / z) * current_step / total_steps, (len(rel2id) / z))\n",
    "            loss_weights = {\"ent\": w_ent, \"rel\": w_rel}\n",
    "            loss, ent_sample_acc, head_rel_sample_acc, tail_rel_sample_acc = train_step(batch_train_data, optimizer, loss_weights)\n",
    "            scheduler.step()\n",
    "            \n",
    "            total_loss += loss\n",
    "            total_ent_sample_acc += ent_sample_acc\n",
    "            total_head_rel_sample_acc += head_rel_sample_acc\n",
    "            total_tail_rel_sample_acc += tail_rel_sample_acc\n",
    "            \n",
    "            avg_loss = total_loss / (batch_ind + 1)\n",
    "            avg_ent_sample_acc = total_ent_sample_acc / (batch_ind + 1)\n",
    "            avg_head_rel_sample_acc = total_head_rel_sample_acc / (batch_ind + 1)\n",
    "            avg_tail_rel_sample_acc = total_tail_rel_sample_acc / (batch_ind + 1)\n",
    "            \n",
    "            batch_print_format = \"\\rEpoch: {}/{}, batch: {}/{}, train_loss: {}, \" + \\\n",
    "                                \"t_ent_sample_acc: {}, t_head_rel_sample_acc: {}, t_tail_rel_sample_acc: {},\" + \\\n",
    "                                 \"lr: {}, batch_time: {}, total_time: {} -------------\"\n",
    "                    \n",
    "            print(batch_print_format.format(ep + 1, num_epoch, \n",
    "                                            batch_ind + 1, len(dataloader), \n",
    "                                            avg_loss, \n",
    "                                            avg_ent_sample_acc,\n",
    "                                            avg_head_rel_sample_acc,\n",
    "                                            avg_tail_rel_sample_acc,\n",
    "                                            optimizer.param_groups[0]['lr'],\n",
    "                                            time.time() - t_batch,\n",
    "                                            time.time() - t_ep,\n",
    "                                           ), end=\"\")\n",
    "            \n",
    "            if batch_ind % config.log_interval == 0:\n",
    "                wandb.log({\n",
    "                    \"train_loss\": avg_loss,\n",
    "                    \"train_ent_seq_acc\": avg_ent_sample_acc,\n",
    "                    \"train_head_rel_acc\": avg_head_rel_sample_acc,\n",
    "                    \"train_tail_rel_acc\": avg_tail_rel_sample_acc,\n",
    "                    \"learning_rate\": optimizer.param_groups[0]['lr'],\n",
    "                    \"time\": time.time() - t_ep,\n",
    "                })\n",
    "        \n",
    "    def valid(dataloader, ep):\n",
    "        # valid\n",
    "        rel_extractor.eval()\n",
    "        \n",
    "        t_ep = time.time()\n",
    "        total_ent_sample_acc, total_head_rel_sample_acc, total_tail_rel_sample_acc = 0., 0., 0.\n",
    "        total_rel_correct_num, total_rel_pred_num, total_rel_gold_num = 0, 0, 0\n",
    "        for batch_ind, batch_valid_data in enumerate(tqdm(dataloader, desc = \"Validating\")):\n",
    "            ent_sample_acc, head_rel_sample_acc, tail_rel_sample_acc, rel_cpg = valid_step(batch_valid_data)\n",
    "\n",
    "            total_ent_sample_acc += ent_sample_acc\n",
    "            total_head_rel_sample_acc += head_rel_sample_acc\n",
    "            total_tail_rel_sample_acc += tail_rel_sample_acc\n",
    "            \n",
    "            total_rel_correct_num += rel_cpg[0]\n",
    "            total_rel_pred_num += rel_cpg[1]\n",
    "            total_rel_gold_num += rel_cpg[2]\n",
    "\n",
    "        avg_ent_sample_acc = total_ent_sample_acc / len(dataloader)\n",
    "        avg_head_rel_sample_acc = total_head_rel_sample_acc / len(dataloader)\n",
    "        avg_tail_rel_sample_acc = total_tail_rel_sample_acc / len(dataloader)\n",
    "        \n",
    "        rel_prf = get_scores(total_rel_correct_num, total_rel_pred_num, total_rel_gold_num)\n",
    "        \n",
    "        log_dict = {\n",
    "                        \"val_ent_seq_acc\": avg_ent_sample_acc,\n",
    "                        \"val_head_rel_acc\": avg_head_rel_sample_acc,\n",
    "                        \"val_tail_rel_acc\": avg_tail_rel_sample_acc,\n",
    "                        \"val_prec\": rel_prf[0],\n",
    "                        \"val_recall\": rel_prf[1],\n",
    "                        \"val_f1\": rel_prf[2],\n",
    "                        \"time\": time.time() - t_ep,\n",
    "                    }\n",
    "        pprint(log_dict)\n",
    "        wandb.log(log_dict)\n",
    "        \n",
    "        return rel_prf[2]\n",
    "        \n",
    "    for ep in range(num_epoch):\n",
    "        train(train_dataloader, ep)   \n",
    "        valid_f1 = valid(dev_dataloader, ep)\n",
    "        \n",
    "        global max_f1\n",
    "        if valid_f1 >= max_f1: \n",
    "            max_f1 = valid_f1\n",
    "            if valid_f1 > 0.5: # save the best model\n",
    "                modle_state_num = len(glob.glob(model_state_dict_dir + \"/model_state_dict_*.pt\"))\n",
    "                torch.save(rel_extractor.state_dict(), os.path.join(model_state_dict_dir, \"model_state_dict_{}.pt\".format(modle_state_num)))\n",
    "                scheduler_state_num = len(glob.glob(schedule_state_dict_dir + \"/scheduler_state_dict_*.pt\"))\n",
    "                torch.save(scheduler.state_dict(), os.path.join(schedule_state_dict_dir, \"scheduler_state_dict_{}.pt\".format(scheduler_state_num))) \n",
    "        print(\"Current avf_f1: {}, Best f1: {}\".format(valid_f1, max_f1))"
   ]
  },
  {
   "cell_type": "code",
   "execution_count": 41,
   "metadata": {},
   "outputs": [],
   "source": [
    "def get_last_state_path(state_dir, pre_fix):\n",
    "    max_file_num = -1\n",
    "    last_state_path = None\n",
    "    for path in glob.glob(state_dir + \"/{}_*.pt\".format(pre_fix)):\n",
    "        file_num = re.search(\"state_dict_(\\d+)\\.pt\", path).group(1)\n",
    "        if int(file_num) > max_file_num:\n",
    "            max_file_num = int(file_num)\n",
    "            last_state_path = path\n",
    "    return last_state_path\n",
    "\n",
    "def get_model_state_path(state_dict_dir, state_dict_num):\n",
    "    return os.path.join(state_dict_dir, \"model_state_dict_{}.pt\".format(state_dict_num))"
   ]
  },
  {
   "cell_type": "code",
   "execution_count": 42,
   "metadata": {},
   "outputs": [
    {
     "name": "stdout",
     "output_type": "stream",
     "text": [
      "preparing dataloader...\n",
      "dataloaders done!\n"
     ]
    }
   ],
   "source": [
    "# dataloader\n",
    "print(\"preparing dataloader...\")\n",
    "train_dataloader, \\\n",
    "dev_dataloader = get_train_dev_dataloader_gen(indexed_train_data, \n",
    "                                            indexed_valid_data, \n",
    "                                            config.batch_size, \n",
    "                                            )\n",
    "print(\"dataloaders done!\")"
   ]
  },
  {
   "cell_type": "code",
   "execution_count": 45,
   "metadata": {},
   "outputs": [],
   "source": [
    "# optimizer\n",
    "init_learning_rate = config.lr\n",
    "optimizer = torch.optim.Adam(rel_extractor.parameters(), lr = init_learning_rate)\n",
    "scheduler = torch.optim.lr_scheduler.CosineAnnealingWarmRestarts(optimizer, len(train_dataloader) * 2)\n",
    "\n",
    "# decay_rate = 0.99\n",
    "# scheduler = torch.optim.lr_scheduler.StepLR(optimizer, step_size = 10, gamma = decay_rate)"
   ]
  },
  {
   "cell_type": "code",
   "execution_count": null,
   "metadata": {
    "scrolled": true
   },
   "outputs": [
    {
     "name": "stderr",
     "output_type": "stream",
     "text": [
      "Failed to query for notebook name, you can set it manually with the WANDB_NOTEBOOK_NAME environment variable\n"
     ]
    },
    {
     "name": "stdout",
     "output_type": "stream",
     "text": [
      "Epoch: 1/50, batch: 648/981, train_loss: 0.10525941145304521, t_ent_sample_acc: 0.0, t_head_rel_sample_acc: 0.0, t_tail_rel_sample_acc: 0.0,lr: 0.0007548376332955956, batch_time: 1.987919807434082, total_time: 1372.7446355819702 --------------"
     ]
    },
    {
     "name": "stderr",
     "output_type": "stream",
     "text": [
      "requests_with_retry encountered retryable exception: ('Connection aborted.', RemoteDisconnected('Remote end closed connection without response')). args: ('https://api.wandb.ai/files/wycheng/webnlg_single/2w4et4vj/file_stream',), kwargs: {'json': {'files': {'output.log': {'offset': 1, 'content': ['2020-05-31T23:09:50.192969 Epoch: 1/50, batch: 553/981, train_loss: 0.12268471762211236, t_ent_sample_acc: 0.0, t_head_rel_sample_acc: 0.0, t_tail_rel_sample_acc: 0.0,lr: 0.0008170805878433099, batch_time: 1.7877914905548096, total_time: 1162.7392621040344 -------------\\r']}, 'wandb-events.jsonl': {'offset': 70, 'content': ['{\"system.gpu.0.gpu\": 0.0, \"system.gpu.0.memory\": 0.0, \"system.gpu.0.memoryAllocated\": 49.98, \"system.gpu.0.temp\": 39.0, \"system.gpu.process.0.gpu\": 0.0, \"system.gpu.process.0.memory\": 0.0, \"system.gpu.process.0.memoryAllocated\": 49.98, \"system.gpu.process.0.temp\": 39.0, \"system.gpu.0.powerWatts\": 38.64, \"system.gpu.0.powerPercent\": 15.45, \"system.gpu.process.0.powerWatts\": 38.64, \"system.gpu.process.0.powerPercent\": 15.45, \"system.gpu.1.gpu\": 98.87, \"system.gpu.1.memory\": 16.93, \"system.gpu.1.memoryAllocated\": 56.28, \"system.gpu.1.temp\": 47.13, \"system.gpu.process.1.gpu\": 98.87, \"system.gpu.process.1.memory\": 16.93, \"system.gpu.process.1.memoryAllocated\": 56.28, \"system.gpu.process.1.temp\": 47.13, \"system.gpu.1.powerWatts\": 80.51, \"system.gpu.1.powerPercent\": 32.2, \"system.gpu.process.1.powerWatts\": 80.51, \"system.gpu.process.1.powerPercent\": 32.2, \"system.cpu\": 60.48, \"system.memory\": 40.7, \"system.disk\": 83.1, \"system.proc.memory.availableMB\": 76146.6, \"system.proc.memory.rssMB\": 3216.87, \"system.proc.memory.percent\": 2.51, \"system.proc.cpu.threads\": 49.0, \"system.network.sent\": 59912087, \"system.network.recv\": 43345534, \"_wandb\": true, \"_timestamp\": 1590966584, \"_runtime\": 3298}\\n']}, 'wandb-history.jsonl': {'offset': 102, 'content': ['{\"train_loss\": 0.12532062863056545, \"train_ent_seq_acc\": 0.0, \"train_head_rel_acc\": 0.0, \"train_tail_rel_acc\": 0.0, \"learning_rate\": 0.0008244499850989453, \"time\": 1135.5508041381836, \"_runtime\": 3274.6403017044067, \"_timestamp\": 1590966560.638894, \"_step\": 102}\\n', '{\"train_loss\": 0.12311481884697591, \"train_ent_seq_acc\": 0.0, \"train_head_rel_acc\": 0.0, \"train_tail_rel_acc\": 0.0, \"learning_rate\": 0.0008183170241270633, \"time\": 1159.0942823886871, \"_runtime\": 3298.183745622635, \"_timestamp\": 1590966584.182338, \"_step\": 103}\\n']}, 'wandb-summary.json': {'offset': 0, 'content': ['{\"train_loss\": 2.6292428713125786, \"learning_rate\": 4.324831200938678e-05, \"_step\": 47, \"train_ent_seq_acc\": 0, \"_runtime\": 1054.6992835998535, \"train_head_rel_acc\": 0, \"train_tail_rel_acc\": 0, \"time\": 1032.7262411117554, \"_timestamp\": 1590965373.4304588}\\n']}}}}\n"
     ]
    },
    {
     "name": "stdout",
     "output_type": "stream",
     "text": [
      "Epoch: 1/50, batch: 981/981, train_loss: 0.07069820342974682, t_ent_sample_acc: 0.0, t_head_rel_sample_acc: 0.0, t_tail_rel_sample_acc: 0.0,lr: 0.000500800609406507, batch_time: 1.0636672973632812, total_time: 2012.4023225307465 --------------"
     ]
    },
    {
     "name": "stderr",
     "output_type": "stream",
     "text": [
      "Validating: 100%|██████████| 97/97 [00:42<00:00,  2.30it/s]"
     ]
    },
    {
     "name": "stdout",
     "output_type": "stream",
     "text": [
      "{'time': 42.24754452705383,\n",
      " 'val_ent_seq_acc': 0.0,\n",
      " 'val_f1': 0.0,\n",
      " 'val_head_rel_acc': 0.0,\n",
      " 'val_prec': 0.0,\n",
      " 'val_recall': 0.0,\n",
      " 'val_tail_rel_acc': 0.0}\n",
      "Current avf_f1: 0.0, Best f1: 0.0\n"
     ]
    },
    {
     "name": "stderr",
     "output_type": "stream",
     "text": [
      "\n"
     ]
    },
    {
     "name": "stdout",
     "output_type": "stream",
     "text": [
      "Epoch: 2/50, batch: 814/981, train_loss: 0.002853785712999596, t_ent_sample_acc: 0.0010237510542611817, t_head_rel_sample_acc: 0.0, t_tail_rel_sample_acc: 0.0,lr: 1.7982074949055793e-05, batch_time: 2.4107165336608887, total_time: 1814.8526718616486 ---------------"
     ]
    },
    {
     "name": "stderr",
     "output_type": "stream",
     "text": [
      "requests_with_retry encountered retryable exception: ('Connection aborted.', RemoteDisconnected('Remote end closed connection without response')). args: ('https://api.wandb.ai/files/wycheng/webnlg_single/2w4et4vj/file_stream',), kwargs: {'json': {'files': {'output.log': {'offset': 11, 'content': ['2020-05-31T23:51:26.278219 Epoch: 2/50, batch: 720/981, train_loss: 0.0028847315932378275, t_ent_sample_acc: 0.0009259259535206689, t_head_rel_sample_acc: 0.0, t_tail_rel_sample_acc: 0.0,lr: 4.335761978812763e-05, batch_time: 2.4674410820007324, total_time: 1603.8712542057037 -------------\\r']}, 'wandb-events.jsonl': {'offset': 147, 'content': ['{\"system.gpu.0.gpu\": 0.0, \"system.gpu.0.memory\": 0.0, \"system.gpu.0.memoryAllocated\": 49.98, \"system.gpu.0.temp\": 39.0, \"system.gpu.process.0.gpu\": 0.0, \"system.gpu.process.0.memory\": 0.0, \"system.gpu.process.0.memoryAllocated\": 49.98, \"system.gpu.process.0.temp\": 39.0, \"system.gpu.0.powerWatts\": 38.68, \"system.gpu.0.powerPercent\": 15.47, \"system.gpu.process.0.powerWatts\": 38.68, \"system.gpu.process.0.powerPercent\": 15.47, \"system.gpu.1.gpu\": 99.6, \"system.gpu.1.memory\": 15.33, \"system.gpu.1.memoryAllocated\": 56.28, \"system.gpu.1.temp\": 46.73, \"system.gpu.process.1.gpu\": 99.6, \"system.gpu.process.1.memory\": 15.33, \"system.gpu.process.1.memoryAllocated\": 56.28, \"system.gpu.process.1.temp\": 46.73, \"system.gpu.1.powerWatts\": 77.97, \"system.gpu.1.powerPercent\": 31.19, \"system.gpu.process.1.powerWatts\": 77.97, \"system.gpu.process.1.powerPercent\": 31.19, \"system.cpu\": 60.45, \"system.memory\": 38.6, \"system.disk\": 83.1, \"system.proc.memory.availableMB\": 78859.41, \"system.proc.memory.rssMB\": 3216.92, \"system.proc.memory.percent\": 2.51, \"system.proc.cpu.threads\": 49.0, \"system.network.sent\": 153413301, \"system.network.recv\": 98139677, \"_wandb\": true, \"_timestamp\": 1590969060, \"_runtime\": 5774}\\n']}, 'wandb-history.jsonl': {'offset': 219, 'content': ['{\"train_loss\": 0.0028847135957422157, \"train_ent_seq_acc\": 0.0009376465352108039, \"train_head_rel_acc\": 0.0, \"train_tail_rel_acc\": 0.0, \"learning_rate\": 4.6339885591977604e-05, \"time\": 1581.2909002304077, \"_runtime\": 5775.273760557175, \"_timestamp\": 1590969061.272353, \"_step\": 219}\\n']}, 'wandb-summary.json': {'offset': 0, 'content': ['{\"train_loss\": 2.6292428713125786, \"learning_rate\": 4.324831200938678e-05, \"_step\": 47, \"train_ent_seq_acc\": 0, \"_runtime\": 1054.6992835998535, \"train_head_rel_acc\": 0, \"train_tail_rel_acc\": 0, \"time\": 1032.7262411117554, \"_timestamp\": 1590965373.4304588, \"val_head_rel_acc\": 0.0, \"val_prec\": 0.0, \"val_tail_rel_acc\": 0.0, \"val_f1\": 0.0, \"val_recall\": 0.0, \"val_ent_seq_acc\": 0.0}\\n']}}}}\n"
     ]
    },
    {
     "name": "stdout",
     "output_type": "stream",
     "text": [
      "Epoch: 2/50, batch: 981/981, train_loss: 0.002811742359326125, t_ent_sample_acc: 0.0008494733518538246, t_head_rel_sample_acc: 0.0, t_tail_rel_sample_acc: 0.0,lr: 6.409758326331172e-10, batch_time: 1.2008121013641357, total_time: 2191.7397031784058 ---------------"
     ]
    },
    {
     "name": "stderr",
     "output_type": "stream",
     "text": [
      "Validating: 100%|██████████| 97/97 [00:50<00:00,  1.91it/s]"
     ]
    },
    {
     "name": "stdout",
     "output_type": "stream",
     "text": [
      "{'time': 50.77512216567993,\n",
      " 'val_ent_seq_acc': 0.0,\n",
      " 'val_f1': 0.0,\n",
      " 'val_head_rel_acc': 0.0,\n",
      " 'val_prec': 0.0,\n",
      " 'val_recall': 0.0,\n",
      " 'val_tail_rel_acc': 0.0}\n",
      "Current avf_f1: 0.0, Best f1: 0.0\n"
     ]
    },
    {
     "name": "stderr",
     "output_type": "stream",
     "text": [
      "\n"
     ]
    },
    {
     "name": "stdout",
     "output_type": "stream",
     "text": [
      "Epoch: 3/50, batch: 981/981, train_loss: 0.0020560365302913523, t_ent_sample_acc: 0.003058104066673769, t_head_rel_sample_acc: 0.0, t_tail_rel_sample_acc: 0.0,lr: 0.000500800609406507, batch_time: 1.2323575019836426, total_time: 2192.593568086624 ----------------"
     ]
    },
    {
     "name": "stderr",
     "output_type": "stream",
     "text": [
      "Validating: 100%|██████████| 97/97 [00:46<00:00,  2.10it/s]"
     ]
    },
    {
     "name": "stdout",
     "output_type": "stream",
     "text": [
      "{'time': 46.25279355049133,\n",
      " 'val_ent_seq_acc': 0.0,\n",
      " 'val_f1': 0.0,\n",
      " 'val_head_rel_acc': 0.0,\n",
      " 'val_prec': 0.0,\n",
      " 'val_recall': 0.0,\n",
      " 'val_tail_rel_acc': 0.0}\n",
      "Current avf_f1: 0.0, Best f1: 0.0\n"
     ]
    },
    {
     "name": "stderr",
     "output_type": "stream",
     "text": [
      "\n"
     ]
    },
    {
     "name": "stdout",
     "output_type": "stream",
     "text": [
      "Epoch: 4/50, batch: 190/981, train_loss: 0.0016870900008239245, t_ent_sample_acc: 0.0008771930085985284, t_head_rel_sample_acc: 0.0, t_tail_rel_sample_acc: 0.0,lr: 0.00035098391018530817, batch_time: 2.1076157093048096, total_time: 414.7561867237091 --------------"
     ]
    },
    {
     "name": "stderr",
     "output_type": "stream",
     "text": [
      "requests_with_retry encountered retryable exception: ('Connection aborted.', OSError(\"(104, 'ECONNRESET')\")). args: ('https://api.wandb.ai/files/wycheng/webnlg_single/2w4et4vj/file_stream',), kwargs: {'json': {'files': {'output.log': {'offset': 21, 'content': ['2020-06-01T00:32:14.297944 Epoch: 3/50, batch: 806/981, train_loss: 0.0021220223858135594, t_ent_sample_acc: 0.002274607181105365, t_head_rel_sample_acc: 0.0, t_tail_rel_sample_acc: 0.0,lr: 0.0006390495770444032, batch_time: 2.317578077316284, total_time: 1809.062795639038 -------------\\r']}, 'wandb-events.jsonl': {'offset': 223, 'content': ['{\"system.gpu.0.gpu\": 0.0, \"system.gpu.0.memory\": 0.0, \"system.gpu.0.memoryAllocated\": 49.98, \"system.gpu.0.temp\": 39.0, \"system.gpu.process.0.gpu\": 0.0, \"system.gpu.process.0.memory\": 0.0, \"system.gpu.process.0.memoryAllocated\": 49.98, \"system.gpu.process.0.temp\": 39.0, \"system.gpu.0.powerWatts\": 38.69, \"system.gpu.0.powerPercent\": 15.48, \"system.gpu.process.0.powerWatts\": 38.69, \"system.gpu.process.0.powerPercent\": 15.48, \"system.gpu.1.gpu\": 98.47, \"system.gpu.1.memory\": 18.27, \"system.gpu.1.memoryAllocated\": 56.28, \"system.gpu.1.temp\": 47.0, \"system.gpu.process.1.gpu\": 98.47, \"system.gpu.process.1.memory\": 18.27, \"system.gpu.process.1.memoryAllocated\": 56.28, \"system.gpu.process.1.temp\": 47.0, \"system.gpu.1.powerWatts\": 79.07, \"system.gpu.1.powerPercent\": 31.63, \"system.gpu.process.1.powerWatts\": 79.07, \"system.gpu.process.1.powerPercent\": 31.63, \"system.cpu\": 60.49, \"system.memory\": 39.7, \"system.disk\": 83.1, \"system.proc.memory.availableMB\": 77456.38, \"system.proc.memory.rssMB\": 3217.7, \"system.proc.memory.percent\": 2.51, \"system.proc.cpu.threads\": 49.0, \"system.network.sent\": 258040794, \"system.network.recv\": 131867267, \"_wandb\": true, \"_timestamp\": 1590971507, \"_runtime\": 8221}\\n']}, 'wandb-history.jsonl': {'offset': 328, 'content': ['{\"train_loss\": 0.002121802830656458, \"train_ent_seq_acc\": 0.0022888057278039006, \"train_head_rel_acc\": 0.0, \"train_tail_rel_acc\": 0.0, \"learning_rate\": 0.0006428902175869127, \"time\": 1796.8408868312836, \"_runtime\": 8233.62968826294, \"_timestamp\": 1590971519.6282806, \"_step\": 328}\\n']}, 'wandb-summary.json': {'offset': 0, 'content': ['{\"train_loss\": 2.6292428713125786, \"learning_rate\": 4.324831200938678e-05, \"_step\": 47, \"train_ent_seq_acc\": 0, \"_runtime\": 1054.6992835998535, \"train_head_rel_acc\": 0, \"train_tail_rel_acc\": 0, \"time\": 1032.7262411117554, \"_timestamp\": 1590965373.4304588, \"val_head_rel_acc\": 0.0, \"val_prec\": 0.0, \"val_tail_rel_acc\": 0.0, \"val_f1\": 0.0, \"val_recall\": 0.0, \"val_ent_seq_acc\": 0.0}\\n']}}}}\n"
     ]
    },
    {
     "name": "stdout",
     "output_type": "stream",
     "text": [
      "Epoch: 4/50, batch: 874/981, train_loss: 0.001537167775997193, t_ent_sample_acc: 0.00457665917529667, t_head_rel_sample_acc: 0.0001906941323040279, t_tail_rel_sample_acc: 0.0001906941323040279,lr: 7.4577303674025485e-06, batch_time: 2.2854623794555664, total_time: 1869.7455115318298 ------------------"
     ]
    },
    {
     "name": "stderr",
     "output_type": "stream",
     "text": [
      "requests_with_retry encountered retryable exception: ('Connection aborted.', RemoteDisconnected('Remote end closed connection without response')). args: ('https://api.wandb.ai/files/wycheng/webnlg_single/2w4et4vj/file_stream',), kwargs: {'json': {'files': {'output.log': {'offset': 31, 'content': ['2020-06-01T01:07:03.407252 Epoch: 4/50, batch: 773/981, train_loss: 0.0015527771789319138, t_ent_sample_acc: 0.00409659348129455, t_head_rel_sample_acc: 0.00021561018322602897, t_tail_rel_sample_acc: 0.00021561018322602897,lr: 2.7738140064872076e-05, batch_time: 2.1358847618103027, total_time: 1659.330600976944 -------------\\r']}, 'wandb-events.jsonl': {'offset': 288, 'content': ['{\"system.gpu.0.gpu\": 0.0, \"system.gpu.0.memory\": 0.0, \"system.gpu.0.memoryAllocated\": 49.98, \"system.gpu.0.temp\": 39.0, \"system.gpu.process.0.gpu\": 0.0, \"system.gpu.process.0.memory\": 0.0, \"system.gpu.process.0.memoryAllocated\": 49.98, \"system.gpu.process.0.temp\": 39.0, \"system.gpu.0.powerWatts\": 38.72, \"system.gpu.0.powerPercent\": 15.49, \"system.gpu.process.0.powerWatts\": 38.72, \"system.gpu.process.0.powerPercent\": 15.49, \"system.gpu.1.gpu\": 97.67, \"system.gpu.1.memory\": 13.87, \"system.gpu.1.memoryAllocated\": 56.28, \"system.gpu.1.temp\": 46.87, \"system.gpu.process.1.gpu\": 97.67, \"system.gpu.process.1.memory\": 13.87, \"system.gpu.process.1.memoryAllocated\": 56.28, \"system.gpu.process.1.temp\": 46.87, \"system.gpu.1.powerWatts\": 71.4, \"system.gpu.1.powerPercent\": 28.56, \"system.gpu.process.1.powerWatts\": 71.4, \"system.gpu.process.1.powerPercent\": 28.56, \"system.cpu\": 66.95, \"system.memory\": 40.31, \"system.disk\": 83.1, \"system.proc.memory.availableMB\": 76664.07, \"system.proc.memory.rssMB\": 3217.89, \"system.proc.memory.percent\": 2.51, \"system.proc.cpu.threads\": 49.0, \"system.network.sent\": 365983880, \"system.network.recv\": 174186354, \"_wandb\": true, \"_timestamp\": 1590973594, \"_runtime\": 10309}\\n']}, 'wandb-history.jsonl': {'offset': 424, 'content': ['{\"train_loss\": 0.001554286267358134, \"train_ent_seq_acc\": 0.003942181457827815, \"train_head_rel_acc\": 0.00021901008099043417, \"train_tail_rel_acc\": 0.00021901008099043417, \"learning_rate\": 3.098058130376757e-05, \"time\": 1636.522620677948, \"_runtime\": 10312.382027626038, \"_timestamp\": 1590973598.38062, \"_step\": 424}\\n', '{\"train_loss\": 0.0015535480906762877, \"train_ent_seq_acc\": 0.00410722018293215, \"train_head_rel_acc\": 0.00021616948331221842, \"train_tail_rel_acc\": 0.00021616948331221842, \"learning_rate\": 2.826647050449216e-05, \"time\": 1654.9032998085022, \"_runtime\": 10330.762669086456, \"_timestamp\": 1590973616.7612615, \"_step\": 425}\\n']}, 'wandb-summary.json': {'offset': 0, 'content': ['{\"train_loss\": 2.6292428713125786, \"learning_rate\": 4.324831200938678e-05, \"_step\": 47, \"train_ent_seq_acc\": 0, \"_runtime\": 1054.6992835998535, \"train_head_rel_acc\": 0, \"train_tail_rel_acc\": 0, \"time\": 1032.7262411117554, \"_timestamp\": 1590965373.4304588, \"val_head_rel_acc\": 0.0, \"val_prec\": 0.0, \"val_tail_rel_acc\": 0.0, \"val_f1\": 0.0, \"val_recall\": 0.0, \"val_ent_seq_acc\": 0.0}\\n']}}}}\n"
     ]
    },
    {
     "name": "stdout",
     "output_type": "stream",
     "text": [
      "Epoch: 4/50, batch: 980/981, train_loss: 0.001523046307942868, t_ent_sample_acc: 0.004591836871541276, t_head_rel_sample_acc: 0.00017006803227930653, t_tail_rel_sample_acc: 0.00017006803227930653,lr: 2.5639016871248365e-09, batch_time: 2.2513272762298584, total_time: 2102.0691912174225 ---------------"
     ]
    },
    {
     "name": "stderr",
     "output_type": "stream",
     "text": [
      "\r",
      "Validating:   0%|          | 0/97 [00:00<?, ?it/s]"
     ]
    },
    {
     "name": "stdout",
     "output_type": "stream",
     "text": [
      "\r",
      "Epoch: 4/50, batch: 981/981, train_loss: 0.0015220041871550289, t_ent_sample_acc: 0.005096840095933182, t_head_rel_sample_acc: 0.00016989467037076495, t_tail_rel_sample_acc: 0.00016989467037076495,lr: 6.409758326331172e-10, batch_time: 1.1080141067504883, total_time: 2103.2121245861053 -------------"
     ]
    },
    {
     "name": "stderr",
     "output_type": "stream",
     "text": [
      "Validating: 100%|██████████| 97/97 [00:41<00:00,  2.33it/s]"
     ]
    },
    {
     "name": "stdout",
     "output_type": "stream",
     "text": [
      "{'time': 41.65100598335266,\n",
      " 'val_ent_seq_acc': 0.0,\n",
      " 'val_f1': 0.0,\n",
      " 'val_head_rel_acc': 0.0,\n",
      " 'val_prec': 0.0,\n",
      " 'val_recall': 0.0,\n",
      " 'val_tail_rel_acc': 0.0}\n",
      "Current avf_f1: 0.0, Best f1: 0.0\n"
     ]
    },
    {
     "name": "stderr",
     "output_type": "stream",
     "text": [
      "\n"
     ]
    },
    {
     "name": "stdout",
     "output_type": "stream",
     "text": [
      "Epoch: 5/50, batch: 981/981, train_loss: 0.0008003613781996255, t_ent_sample_acc: 0.1413523646092439, t_head_rel_sample_acc: 0.0005096840111122948, t_tail_rel_sample_acc: 0.0003397893407415299,lr: 0.000500800609406507, batch_time: 1.1717591285705566, total_time: 2024.1995029449463 ------------------"
     ]
    },
    {
     "name": "stderr",
     "output_type": "stream",
     "text": [
      "Validating: 100%|██████████| 97/97 [00:54<00:00,  1.79it/s]\n"
     ]
    },
    {
     "name": "stdout",
     "output_type": "stream",
     "text": [
      "{'time': 54.211540937423706,\n",
      " 'val_ent_seq_acc': 0.402061864733696,\n",
      " 'val_f1': 0.0,\n",
      " 'val_head_rel_acc': 0.0,\n",
      " 'val_prec': 0.0,\n",
      " 'val_recall': 0.0,\n",
      " 'val_tail_rel_acc': 0.0}\n",
      "Current avf_f1: 0.0, Best f1: 0.0\n",
      "Epoch: 6/50, batch: 981/981, train_loss: 0.00029637683575604325, t_ent_sample_acc: 0.40299015451947967, t_head_rel_sample_acc: 0.0006795786814830598, t_tail_rel_sample_acc: 0.0006795786814830598,lr: 6.409758326331172e-10, batch_time: 1.1538288593292236, total_time: 2202.0729405879974 --------------"
     ]
    },
    {
     "name": "stderr",
     "output_type": "stream",
     "text": [
      "Validating: 100%|██████████| 97/97 [01:10<00:00,  1.37it/s]\n"
     ]
    },
    {
     "name": "stdout",
     "output_type": "stream",
     "text": [
      "{'time': 70.8852527141571,\n",
      " 'val_ent_seq_acc': 0.44501719201348494,\n",
      " 'val_f1': 0.0,\n",
      " 'val_head_rel_acc': 0.0,\n",
      " 'val_prec': 0.0,\n",
      " 'val_recall': 0.0,\n",
      " 'val_tail_rel_acc': 0.0}\n",
      "Current avf_f1: 0.0, Best f1: 0.0\n",
      "Epoch: 7/50, batch: 70/981, train_loss: 0.0002498073136458905, t_ent_sample_acc: 0.40476191363164354, t_head_rel_sample_acc: 0.0, t_tail_rel_sample_acc: 0.0,lr: 0.0009969514164096546, batch_time: 3.0315797328948975, total_time: 195.3593442440033 ---------------"
     ]
    },
    {
     "name": "stderr",
     "output_type": "stream",
     "text": [
      "requests_with_retry encountered retryable exception: ('Connection aborted.', RemoteDisconnected('Remote end closed connection without response')). args: ('https://api.wandb.ai/files/wycheng/webnlg_single/2w4et4vj/file_stream',), kwargs: {'json': {'files': {'output.log': {'offset': 50, 'content': ['ERROR 2020-06-01T02:27:27.179828 Validating:  85%|████████▍ | 82/97 [00:58<00:12,  1.20it/s]\\r']}, 'wandb-events.jsonl': {'offset': 439, 'content': ['{\"system.gpu.0.gpu\": 0.0, \"system.gpu.0.memory\": 0.0, \"system.gpu.0.memoryAllocated\": 49.98, \"system.gpu.0.temp\": 39.0, \"system.gpu.process.0.gpu\": 0.0, \"system.gpu.process.0.memory\": 0.0, \"system.gpu.process.0.memoryAllocated\": 49.98, \"system.gpu.process.0.temp\": 39.0, \"system.gpu.0.powerWatts\": 38.67, \"system.gpu.0.powerPercent\": 15.47, \"system.gpu.process.0.powerWatts\": 38.67, \"system.gpu.process.0.powerPercent\": 15.47, \"system.gpu.1.gpu\": 99.4, \"system.gpu.1.memory\": 15.93, \"system.gpu.1.memoryAllocated\": 65.3, \"system.gpu.1.temp\": 47.27, \"system.gpu.process.1.gpu\": 99.4, \"system.gpu.process.1.memory\": 15.93, \"system.gpu.process.1.memoryAllocated\": 65.3, \"system.gpu.process.1.temp\": 47.27, \"system.gpu.1.powerWatts\": 80.23, \"system.gpu.1.powerPercent\": 32.09, \"system.gpu.process.1.powerWatts\": 80.23, \"system.gpu.process.1.powerPercent\": 32.09, \"system.cpu\": 64.25, \"system.memory\": 44.4, \"system.disk\": 83.1, \"system.proc.memory.availableMB\": 71393.24, \"system.proc.memory.rssMB\": 3217.86, \"system.proc.memory.percent\": 2.51, \"system.proc.cpu.threads\": 50.0, \"system.network.sent\": 619604655, \"system.network.recv\": 293694266, \"_wandb\": true, \"_timestamp\": 1590978441, \"_runtime\": 15155}\\n']}}}}\n"
     ]
    },
    {
     "name": "stdout",
     "output_type": "stream",
     "text": [
      "Epoch: 7/50, batch: 124/981, train_loss: 0.0002444412928584385, t_ent_sample_acc: 0.42876345027358304, t_head_rel_sample_acc: 0.0, t_tail_rel_sample_acc: 0.0,lr: 0.0009903339800947284, batch_time: 2.9977424144744873, total_time: 350.43902564048767 -------------"
     ]
    },
    {
     "name": "stderr",
     "output_type": "stream",
     "text": [
      "requests_with_retry encountered retryable exception: 408 Client Error: Request Timeout for url: https://api.wandb.ai/files/wycheng/webnlg_single/2w4et4vj/file_stream. args: ('https://api.wandb.ai/files/wycheng/webnlg_single/2w4et4vj/file_stream',), kwargs: {'json': {'files': {'output.log': {'offset': 60, 'content': ['2020-06-01T02:32:31.479805 Epoch: 7/50, batch: 103/981, train_loss: 0.00024160730475345085, t_ent_sample_acc: 0.43527509084025634, t_head_rel_sample_acc: 0.0, t_tail_rel_sample_acc: 0.0,lr: 0.0009933460967532454, batch_time: 1.9075875282287598, total_time: 290.2091944217682 -------------\\r']}, 'wandb-events.jsonl': {'offset': 448, 'content': ['{\"system.gpu.0.gpu\": 0.0, \"system.gpu.0.memory\": 0.0, \"system.gpu.0.memoryAllocated\": 49.98, \"system.gpu.0.temp\": 39.0, \"system.gpu.process.0.gpu\": 0.0, \"system.gpu.process.0.memory\": 0.0, \"system.gpu.process.0.memoryAllocated\": 49.98, \"system.gpu.process.0.temp\": 39.0, \"system.gpu.0.powerWatts\": 38.72, \"system.gpu.0.powerPercent\": 15.49, \"system.gpu.process.0.powerWatts\": 38.72, \"system.gpu.process.0.powerPercent\": 15.49, \"system.gpu.1.gpu\": 99.13, \"system.gpu.1.memory\": 15.93, \"system.gpu.1.memoryAllocated\": 65.3, \"system.gpu.1.temp\": 47.0, \"system.gpu.process.1.gpu\": 99.13, \"system.gpu.process.1.memory\": 15.93, \"system.gpu.process.1.memoryAllocated\": 65.3, \"system.gpu.process.1.temp\": 47.0, \"system.gpu.1.powerWatts\": 78.78, \"system.gpu.1.powerPercent\": 31.51, \"system.gpu.process.1.powerWatts\": 78.78, \"system.gpu.process.1.powerPercent\": 31.51, \"system.cpu\": 63.67, \"system.memory\": 44.5, \"system.disk\": 83.1, \"system.proc.memory.availableMB\": 71237.22, \"system.proc.memory.rssMB\": 3217.9, \"system.proc.memory.percent\": 2.51, \"system.proc.cpu.threads\": 49.0, \"system.network.sent\": 639216957, \"system.network.recv\": 305610771, \"_wandb\": true, \"_timestamp\": 1590978730, \"_runtime\": 15445}\\n']}, 'wandb-history.jsonl': {'offset': 657, 'content': ['{\"train_loss\": 0.0002509106869603364, \"train_ent_seq_acc\": 0.4120879209303594, \"train_head_rel_acc\": 0.0, \"train_tail_rel_acc\": 0.0, \"learning_rate\": 0.0009948170737222762, \"time\": 259.9908118247986, \"_runtime\": 15432.936293363571, \"_timestamp\": 1590978718.9348857, \"_step\": 657}\\n', '{\"train_loss\": 0.00024291814201439979, \"train_ent_seq_acc\": 0.4323432439624673, \"train_head_rel_acc\": 0.0, \"train_tail_rel_acc\": 0.0, \"learning_rate\": 0.0009936039236117095, \"time\": 286.2810204029083, \"_runtime\": 15459.22642660141, \"_timestamp\": 1590978745.225019, \"_step\": 658}\\n']}, 'wandb-summary.json': {'offset': 0, 'content': ['{\"train_loss\": 2.6292428713125786, \"learning_rate\": 4.324831200938678e-05, \"_step\": 47, \"train_ent_seq_acc\": 0, \"_runtime\": 1054.6992835998535, \"train_head_rel_acc\": 0, \"train_tail_rel_acc\": 0, \"time\": 1032.7262411117554, \"_timestamp\": 1590965373.4304588, \"val_head_rel_acc\": 0.0, \"val_prec\": 0.0, \"val_tail_rel_acc\": 0.0, \"val_f1\": 0.0, \"val_recall\": 0.0, \"val_ent_seq_acc\": 0.44501719201348494}\\n']}}}}\n"
     ]
    },
    {
     "name": "stdout",
     "output_type": "stream",
     "text": [
      "Epoch: 7/50, batch: 776/981, train_loss: 0.000197830406925521, t_ent_sample_acc: 0.48367698698006956, t_head_rel_sample_acc: 0.0006443299161097439, t_tail_rel_sample_acc: 0.0006443299161097439,lr: 0.0006619511346266997, batch_time: 2.9478836059570312, total_time: 2192.1189062595367 ----------------"
     ]
    },
    {
     "name": "stderr",
     "output_type": "stream",
     "text": [
      "requests_with_retry encountered retryable exception: ('Connection aborted.', RemoteDisconnected('Remote end closed connection without response')). args: ('https://api.wandb.ai/files/wycheng/webnlg_single/2w4et4vj/file_stream',), kwargs: {'json': {'files': {'output.log': {'offset': 61, 'content': ['2020-06-01T03:00:43.400702 Epoch: 7/50, batch: 701/981, train_loss: 0.00020468214502546985, t_ent_sample_acc: 0.47123158483974603, t_head_rel_sample_acc: 0.00047551118868393834, t_tail_rel_sample_acc: 0.0007132667830259075,lr: 0.0007174569593104108, batch_time: 3.030891180038452, total_time: 1981.3023533821106 -------------\\r']}, 'wandb-events.jsonl': {'offset': 501, 'content': ['{\"system.gpu.0.gpu\": 0.0, \"system.gpu.0.memory\": 0.0, \"system.gpu.0.memoryAllocated\": 49.98, \"system.gpu.0.temp\": 39.0, \"system.gpu.process.0.gpu\": 0.0, \"system.gpu.process.0.memory\": 0.0, \"system.gpu.process.0.memoryAllocated\": 49.98, \"system.gpu.process.0.temp\": 39.0, \"system.gpu.0.powerWatts\": 38.69, \"system.gpu.0.powerPercent\": 15.48, \"system.gpu.process.0.powerWatts\": 38.69, \"system.gpu.process.0.powerPercent\": 15.48, \"system.gpu.1.gpu\": 99.4, \"system.gpu.1.memory\": 16.27, \"system.gpu.1.memoryAllocated\": 65.3, \"system.gpu.1.temp\": 46.93, \"system.gpu.process.1.gpu\": 99.4, \"system.gpu.process.1.memory\": 16.27, \"system.gpu.process.1.memoryAllocated\": 65.3, \"system.gpu.process.1.temp\": 46.93, \"system.gpu.1.powerWatts\": 71.42, \"system.gpu.1.powerPercent\": 28.57, \"system.gpu.process.1.powerWatts\": 71.42, \"system.gpu.process.1.powerPercent\": 28.57, \"system.cpu\": 63.57, \"system.memory\": 45.19, \"system.disk\": 83.1, \"system.proc.memory.availableMB\": 70421.37, \"system.proc.memory.rssMB\": 3217.94, \"system.proc.memory.percent\": 2.51, \"system.proc.cpu.threads\": 49.0, \"system.network.sent\": 725865739, \"system.network.recv\": 372864762, \"_wandb\": true, \"_timestamp\": 1590980434, \"_runtime\": 17148}\\n']}, 'wandb-history.jsonl': {'offset': 718, 'content': ['{\"train_loss\": 0.00020468214502546985, \"train_ent_seq_acc\": 0.47123158483974603, \"train_head_rel_acc\": 0.00047551118868393834, \"train_tail_rel_acc\": 0.0007132667830259075, \"learning_rate\": 0.0007174569593104108, \"time\": 1981.3049285411835, \"_runtime\": 17154.250376939774, \"_timestamp\": 1590980440.2489693, \"_step\": 718}\\n']}, 'wandb-summary.json': {'offset': 0, 'content': ['{\"train_loss\": 2.6292428713125786, \"learning_rate\": 4.324831200938678e-05, \"_step\": 47, \"train_ent_seq_acc\": 0, \"_runtime\": 1054.6992835998535, \"train_head_rel_acc\": 0, \"train_tail_rel_acc\": 0, \"time\": 1032.7262411117554, \"_timestamp\": 1590965373.4304588, \"val_head_rel_acc\": 0.0, \"val_prec\": 0.0, \"val_tail_rel_acc\": 0.0, \"val_f1\": 0.0, \"val_recall\": 0.0, \"val_ent_seq_acc\": 0.44501719201348494}\\n']}}}}\n"
     ]
    },
    {
     "name": "stdout",
     "output_type": "stream",
     "text": [
      "Epoch: 7/50, batch: 980/981, train_loss: 0.00018687286682859627, t_ent_sample_acc: 0.4967687188210536, t_head_rel_sample_acc: 0.0010204081936758392, t_tail_rel_sample_acc: 0.0008503401613965326,lr: 0.0005016012167603286, batch_time: 2.786871910095215, total_time: 2761.8176488876343 ---------------"
     ]
    },
    {
     "name": "stderr",
     "output_type": "stream",
     "text": [
      "\r",
      "Validating:   0%|          | 0/97 [00:00<?, ?it/s]"
     ]
    },
    {
     "name": "stdout",
     "output_type": "stream",
     "text": [
      "\r",
      "Epoch: 7/50, batch: 981/981, train_loss: 0.00018704841763871304, t_ent_sample_acc: 0.4962623286897375, t_head_rel_sample_acc: 0.0010193680222245897, t_tail_rel_sample_acc: 0.0008494733518538246,lr: 0.000500800609406507, batch_time: 1.3990917205810547, total_time: 2763.2507259845734 -------------"
     ]
    },
    {
     "name": "stderr",
     "output_type": "stream",
     "text": [
      "Validating: 100%|██████████| 97/97 [01:17<00:00,  1.25it/s]"
     ]
    },
    {
     "name": "stdout",
     "output_type": "stream",
     "text": [
      "{'time': 77.77986669540405,\n",
      " 'val_ent_seq_acc': 0.5584192577096605,\n",
      " 'val_f1': 0.0,\n",
      " 'val_head_rel_acc': 0.0,\n",
      " 'val_prec': 0.0,\n",
      " 'val_recall': 0.0,\n",
      " 'val_tail_rel_acc': 0.0}\n",
      "Current avf_f1: 0.0, Best f1: 0.0\n"
     ]
    },
    {
     "name": "stderr",
     "output_type": "stream",
     "text": [
      "\n"
     ]
    },
    {
     "name": "stdout",
     "output_type": "stream",
     "text": [
      "Epoch: 8/50, batch: 980/981, train_loss: 0.0001046459397058447, t_ent_sample_acc: 0.6197279069040503, t_head_rel_sample_acc: 0.0020408163873516785, t_tail_rel_sample_acc: 0.002891156548748211,lr: 2.5639016871248365e-09, batch_time: 3.1375083923339844, total_time: 2765.862104654312 ----------------"
     ]
    },
    {
     "name": "stderr",
     "output_type": "stream",
     "text": [
      "\r",
      "Validating:   0%|          | 0/97 [00:00<?, ?it/s]"
     ]
    },
    {
     "name": "stdout",
     "output_type": "stream",
     "text": [
      "\r",
      "Epoch: 8/50, batch: 981/981, train_loss: 0.00010455616184330625, t_ent_sample_acc: 0.6201155441039442, t_head_rel_sample_acc: 0.0020387360444491793, t_tail_rel_sample_acc: 0.002888209396303004,lr: 6.409758326331172e-10, batch_time: 1.4464895725250244, total_time: 2767.341563940048 -------------"
     ]
    },
    {
     "name": "stderr",
     "output_type": "stream",
     "text": [
      "Validating: 100%|██████████| 97/97 [01:00<00:00,  1.61it/s]"
     ]
    },
    {
     "name": "stdout",
     "output_type": "stream",
     "text": [
      "{'time': 60.071879863739014,\n",
      " 'val_ent_seq_acc': 0.6099656526882624,\n",
      " 'val_f1': 0.0,\n",
      " 'val_head_rel_acc': 0.0,\n",
      " 'val_prec': 0.0,\n",
      " 'val_recall': 0.0,\n",
      " 'val_tail_rel_acc': 0.0}\n",
      "Current avf_f1: 0.0, Best f1: 0.0\n"
     ]
    },
    {
     "name": "stderr",
     "output_type": "stream",
     "text": [
      "\n"
     ]
    },
    {
     "name": "stdout",
     "output_type": "stream",
     "text": [
      "Epoch: 9/50, batch: 652/981, train_loss: 7.992781645372782e-05, t_ent_sample_acc: 0.6275562536817021, t_head_rel_sample_acc: 0.0005112474589991423, t_tail_rel_sample_acc: 0.0005112474589991423,lr: 0.0007520771527566093, batch_time: 3.01727294921875, total_time: 1592.9317939281464 ----------------"
     ]
    },
    {
     "name": "stderr",
     "output_type": "stream",
     "text": [
      "requests_with_retry encountered retryable exception: 408 Client Error: Request Timeout for url: https://api.wandb.ai/files/wycheng/webnlg_single/2w4et4vj/file_stream. args: ('https://api.wandb.ai/files/wycheng/webnlg_single/2w4et4vj/file_stream',), kwargs: {'json': {'files': {'output.log': {'offset': 80, 'content': ['2020-06-01T04:27:41.855042 Epoch: 9/50, batch: 632/981, train_loss: 8.01295669744728e-05, t_ent_sample_acc: 0.6279008604256036, t_head_rel_sample_acc: 0.0005274261760560772, t_tail_rel_sample_acc: 0.0005274261760560772,lr: 0.0007657738891847679, batch_time: 3.203542709350586, total_time: 1530.804307937622 -------------\\r']}, 'wandb-events.jsonl': {'offset': 663, 'content': ['{\"system.gpu.0.gpu\": 0.0, \"system.gpu.0.memory\": 0.0, \"system.gpu.0.memoryAllocated\": 49.98, \"system.gpu.0.temp\": 39.0, \"system.gpu.process.0.gpu\": 0.0, \"system.gpu.process.0.memory\": 0.0, \"system.gpu.process.0.memoryAllocated\": 49.98, \"system.gpu.process.0.temp\": 39.0, \"system.gpu.0.powerWatts\": 38.69, \"system.gpu.0.powerPercent\": 15.48, \"system.gpu.process.0.powerWatts\": 38.69, \"system.gpu.process.0.powerPercent\": 15.48, \"system.gpu.1.gpu\": 99.33, \"system.gpu.1.memory\": 9.53, \"system.gpu.1.memoryAllocated\": 58.92, \"system.gpu.1.temp\": 45.53, \"system.gpu.process.1.gpu\": 99.33, \"system.gpu.process.1.memory\": 9.53, \"system.gpu.process.1.memoryAllocated\": 58.92, \"system.gpu.process.1.temp\": 45.53, \"system.gpu.1.powerWatts\": 61.0, \"system.gpu.1.powerPercent\": 24.4, \"system.gpu.process.1.powerWatts\": 61.0, \"system.gpu.process.1.powerPercent\": 24.4, \"system.cpu\": 79.01, \"system.memory\": 39.86, \"system.disk\": 83.1, \"system.proc.memory.availableMB\": 77227.47, \"system.proc.memory.rssMB\": 3217.91, \"system.proc.memory.percent\": 2.51, \"system.proc.cpu.threads\": 49.0, \"system.network.sent\": 962604654, \"system.network.recv\": 639114445, \"_wandb\": true, \"_timestamp\": 1590985637, \"_runtime\": 22351}\\n']}, 'wandb-history.jsonl': {'offset': 910, 'content': ['{\"train_loss\": 8.050199650880305e-05, \"train_ent_seq_acc\": 0.6269458028189419, \"train_head_rel_acc\": 0.0005367686687076342, \"train_tail_rel_acc\": 0.0005367686687076342, \"learning_rate\": 0.0007731918090798115, \"time\": 1502.4245793819427, \"_runtime\": 22344.21933865547, \"_timestamp\": 1590985630.217931, \"_step\": 910}\\n', '{\"train_loss\": 8.020530494630411e-05, \"train_ent_seq_acc\": 0.6278394248850183, \"train_head_rel_acc\": 0.0005282620337043436, \"train_tail_rel_acc\": 0.0005282620337043436, \"learning_rate\": 0.0007664516873086987, \"time\": 1527.5654859542847, \"_runtime\": 22369.360194683075, \"_timestamp\": 1590985655.358787, \"_step\": 911}\\n']}, 'wandb-summary.json': {'offset': 0, 'content': ['{\"train_loss\": 2.6292428713125786, \"learning_rate\": 4.324831200938678e-05, \"_step\": 47, \"train_ent_seq_acc\": 0, \"_runtime\": 1054.6992835998535, \"train_head_rel_acc\": 0, \"train_tail_rel_acc\": 0, \"time\": 1032.7262411117554, \"_timestamp\": 1590965373.4304588, \"val_head_rel_acc\": 0.0, \"val_prec\": 0.0, \"val_tail_rel_acc\": 0.0, \"val_f1\": 0.0, \"val_recall\": 0.0, \"val_ent_seq_acc\": 0.6099656526882624}\\n']}}}}\n"
     ]
    },
    {
     "name": "stdout",
     "output_type": "stream",
     "text": [
      "Epoch: 9/50, batch: 981/981, train_loss: 7.27736074367071e-05, t_ent_sample_acc: 0.6423717464389664, t_head_rel_sample_acc: 0.0013591573629661196, t_tail_rel_sample_acc: 0.0010193680222245897,lr: 0.000500800609406507, batch_time: 1.4261517524719238, total_time: 2522.0325191020966 ---------------"
     ]
    },
    {
     "name": "stderr",
     "output_type": "stream",
     "text": [
      "Validating: 100%|██████████| 97/97 [01:14<00:00,  1.30it/s]"
     ]
    },
    {
     "name": "stdout",
     "output_type": "stream",
     "text": [
      "{'time': 74.70183658599854,\n",
      " 'val_ent_seq_acc': 0.694158095367176,\n",
      " 'val_f1': 0.0,\n",
      " 'val_head_rel_acc': 0.0,\n",
      " 'val_prec': 0.0,\n",
      " 'val_recall': 0.0,\n",
      " 'val_tail_rel_acc': 0.0}\n",
      "Current avf_f1: 0.0, Best f1: 0.0\n"
     ]
    },
    {
     "name": "stderr",
     "output_type": "stream",
     "text": [
      "\n"
     ]
    },
    {
     "name": "stdout",
     "output_type": "stream",
     "text": [
      "Epoch: 10/50, batch: 980/981, train_loss: 3.78839739981658e-05, t_ent_sample_acc: 0.695578251581411, t_head_rel_sample_acc: 0.0020408163873516785, t_tail_rel_sample_acc: 0.0023809524519102913,lr: 2.5639016871248365e-09, batch_time: 3.1325490474700928, total_time: 2676.5970635414124 ----------------"
     ]
    },
    {
     "name": "stderr",
     "output_type": "stream",
     "text": [
      "\r",
      "Validating:   0%|          | 0/97 [00:00<?, ?it/s]"
     ]
    },
    {
     "name": "stdout",
     "output_type": "stream",
     "text": [
      "\r",
      "Epoch: 10/50, batch: 981/981, train_loss: 3.7859206969501946e-05, t_ent_sample_acc: 0.6953788853718479, t_head_rel_sample_acc: 0.0025484200403717073, t_tail_rel_sample_acc: 0.002888209381113237,lr: 6.409758326331172e-10, batch_time: 1.4172897338867188, total_time: 2678.0520572662354 -------------"
     ]
    },
    {
     "name": "stderr",
     "output_type": "stream",
     "text": [
      "Validating: 100%|██████████| 97/97 [01:10<00:00,  1.37it/s]"
     ]
    },
    {
     "name": "stdout",
     "output_type": "stream",
     "text": [
      "{'time': 70.650625705719,\n",
      " 'val_ent_seq_acc': 0.6769759621202331,\n",
      " 'val_f1': 0.0,\n",
      " 'val_head_rel_acc': 0.0,\n",
      " 'val_prec': 0.0,\n",
      " 'val_recall': 0.0,\n",
      " 'val_tail_rel_acc': 0.0}\n",
      "Current avf_f1: 0.0, Best f1: 0.0\n"
     ]
    },
    {
     "name": "stderr",
     "output_type": "stream",
     "text": [
      "\n"
     ]
    },
    {
     "name": "stdout",
     "output_type": "stream",
     "text": [
      "Epoch: 11/50, batch: 290/981, train_loss: 2.5968105678500784e-05, t_ent_sample_acc: 0.6994253060427206, t_head_rel_sample_acc: 0.0045977012864474595, t_tail_rel_sample_acc: 0.002873563304029662,lr: 0.0009474135833469724, batch_time: 3.133308172225952, total_time: 819.8492159843445 ----------------"
     ]
    },
    {
     "name": "stderr",
     "output_type": "stream",
     "text": [
      "requests_with_retry encountered retryable exception: ('Connection aborted.', RemoteDisconnected('Remote end closed connection without response')). args: ('https://api.wandb.ai/files/wycheng/webnlg_single/2w4et4vj/file_stream',), kwargs: {'json': {'files': {'output.log': {'offset': 99, 'content': ['2020-06-01T05:41:25.086511 Epoch: 11/50, batch: 216/981, train_loss: 2.6851142992941107e-05, t_ent_sample_acc: 0.6921296479801337, t_head_rel_sample_acc: 0.006172839690137793, t_tail_rel_sample_acc: 0.0038580248063361205,lr: 0.000970662360343527, batch_time: 2.151212692260742, total_time: 608.9408457279205 -------------\\r']}, 'wandb-events.jsonl': {'offset': 801, 'content': ['{\"system.gpu.0.gpu\": 0.0, \"system.gpu.0.memory\": 0.0, \"system.gpu.0.memoryAllocated\": 49.98, \"system.gpu.0.temp\": 39.0, \"system.gpu.process.0.gpu\": 0.0, \"system.gpu.process.0.memory\": 0.0, \"system.gpu.process.0.memoryAllocated\": 49.98, \"system.gpu.process.0.temp\": 39.0, \"system.gpu.0.powerWatts\": 38.71, \"system.gpu.0.powerPercent\": 15.48, \"system.gpu.process.0.powerWatts\": 38.71, \"system.gpu.process.0.powerPercent\": 15.48, \"system.gpu.1.gpu\": 99.07, \"system.gpu.1.memory\": 13.93, \"system.gpu.1.memoryAllocated\": 58.92, \"system.gpu.1.temp\": 46.73, \"system.gpu.process.1.gpu\": 99.07, \"system.gpu.process.1.memory\": 13.93, \"system.gpu.process.1.memoryAllocated\": 58.92, \"system.gpu.process.1.temp\": 46.73, \"system.gpu.1.powerWatts\": 79.41, \"system.gpu.1.powerPercent\": 31.77, \"system.gpu.process.1.powerWatts\": 79.41, \"system.gpu.process.1.powerPercent\": 31.77, \"system.cpu\": 63.86, \"system.memory\": 41.2, \"system.disk\": 83.1, \"system.proc.memory.availableMB\": 75534.81, \"system.proc.memory.rssMB\": 3217.97, \"system.proc.memory.percent\": 2.51, \"system.proc.cpu.threads\": 49.0, \"system.network.sent\": 1193945896, \"system.network.recv\": 880509731, \"_wandb\": true, \"_timestamp\": 1590990070, \"_runtime\": 26785}\\n']}, 'wandb-history.jsonl': {'offset': 1069, 'content': ['{\"train_loss\": 2.693427758333709e-05, \"train_ent_seq_acc\": 0.6911532569553049, \"train_head_rel_acc\": 0.006319115512178972, \"train_tail_rel_acc\": 0.003949447195111858, \"learning_rate\": 0.0009719982997943244, \"time\": 597.1029148101807, \"_runtime\": 26784.848374843597, \"_timestamp\": 1590990070.8469672, \"_step\": 1069}\\n']}, 'wandb-summary.json': {'offset': 0, 'content': ['{\"train_loss\": 2.6292428713125786, \"learning_rate\": 4.324831200938678e-05, \"_step\": 47, \"train_ent_seq_acc\": 0, \"_runtime\": 1054.6992835998535, \"train_head_rel_acc\": 0, \"train_tail_rel_acc\": 0, \"time\": 1032.7262411117554, \"_timestamp\": 1590965373.4304588, \"val_head_rel_acc\": 0.0, \"val_prec\": 0.0, \"val_tail_rel_acc\": 0.0, \"val_f1\": 0.0, \"val_recall\": 0.0, \"val_ent_seq_acc\": 0.6769759621202331}\\n']}}}}\n"
     ]
    },
    {
     "name": "stdout",
     "output_type": "stream",
     "text": [
      "Epoch: 11/50, batch: 619/981, train_loss: 2.4703104059052615e-05, t_ent_sample_acc: 0.6943995870517413, t_head_rel_sample_acc: 0.004038772333611965, t_tail_rel_sample_acc: 0.0032310178668895715,lr: 0.0007745314833479833, batch_time: 3.0763261318206787, total_time: 1750.0499844551086 --------------"
     ]
    },
    {
     "name": "stderr",
     "output_type": "stream",
     "text": [
      "requests_with_retry encountered retryable exception: 408 Client Error: Request Timeout for url: https://api.wandb.ai/files/wycheng/webnlg_single/2w4et4vj/file_stream. args: ('https://api.wandb.ai/files/wycheng/webnlg_single/2w4et4vj/file_stream',), kwargs: {'json': {'files': {'output.log': {'offset': 100, 'content': ['2020-06-01T05:59:24.046156 Epoch: 11/50, batch: 595/981, train_loss: 2.473454854324922e-05, t_ent_sample_acc: 0.6955182251559586, t_head_rel_sample_acc: 0.00420168079748875, t_tail_rel_sample_acc: 0.0033613446379909995,lr: 0.0007903840663659185, batch_time: 2.961010217666626, total_time: 1687.1171216964722 -------------\\r']}, 'wandb-events.jsonl': {'offset': 835, 'content': ['{\"system.gpu.0.gpu\": 0.0, \"system.gpu.0.memory\": 0.0, \"system.gpu.0.memoryAllocated\": 49.98, \"system.gpu.0.temp\": 39.0, \"system.gpu.process.0.gpu\": 0.0, \"system.gpu.process.0.memory\": 0.0, \"system.gpu.process.0.memoryAllocated\": 49.98, \"system.gpu.process.0.temp\": 39.0, \"system.gpu.0.powerWatts\": 38.67, \"system.gpu.0.powerPercent\": 15.47, \"system.gpu.process.0.powerWatts\": 38.67, \"system.gpu.process.0.powerPercent\": 15.47, \"system.gpu.1.gpu\": 99.27, \"system.gpu.1.memory\": 17.47, \"system.gpu.1.memoryAllocated\": 58.92, \"system.gpu.1.temp\": 46.93, \"system.gpu.process.1.gpu\": 99.27, \"system.gpu.process.1.memory\": 17.47, \"system.gpu.process.1.memoryAllocated\": 58.92, \"system.gpu.process.1.temp\": 46.93, \"system.gpu.1.powerWatts\": 73.95, \"system.gpu.1.powerPercent\": 29.58, \"system.gpu.process.1.powerWatts\": 73.95, \"system.gpu.process.1.powerPercent\": 29.58, \"system.cpu\": 63.51, \"system.memory\": 41.6, \"system.disk\": 83.1, \"system.proc.memory.availableMB\": 74947.6, \"system.proc.memory.rssMB\": 3217.95, \"system.proc.memory.percent\": 2.51, \"system.proc.cpu.threads\": 49.0, \"system.network.sent\": 1224797174, \"system.network.recv\": 929283751, \"_wandb\": true, \"_timestamp\": 1590991162, \"_runtime\": 27877}\\n']}, 'wandb-history.jsonl': {'offset': 1107, 'content': ['{\"train_loss\": 2.4763067873200133e-05, \"train_ent_seq_acc\": 0.6945854663193327, \"train_head_rel_acc\": 0.004230118569383766, \"train_tail_rel_acc\": 0.003384094855507013, \"learning_rate\": 0.0007929850988143292, \"time\": 1674.9251973628998, \"_runtime\": 27862.67058467865, \"_timestamp\": 1590991148.669177, \"_step\": 1107}\\n']}, 'wandb-summary.json': {'offset': 0, 'content': ['{\"train_loss\": 2.6292428713125786, \"learning_rate\": 4.324831200938678e-05, \"_step\": 47, \"train_ent_seq_acc\": 0, \"_runtime\": 1054.6992835998535, \"train_head_rel_acc\": 0, \"train_tail_rel_acc\": 0, \"time\": 1032.7262411117554, \"_timestamp\": 1590965373.4304588, \"val_head_rel_acc\": 0.0, \"val_prec\": 0.0, \"val_tail_rel_acc\": 0.0, \"val_f1\": 0.0, \"val_recall\": 0.0, \"val_ent_seq_acc\": 0.6769759621202331}\\n']}}}}\n"
     ]
    },
    {
     "name": "stdout",
     "output_type": "stream",
     "text": [
      "Epoch: 11/50, batch: 980/981, train_loss: 2.4001289803352996e-05, t_ent_sample_acc: 0.6860544397818799, t_head_rel_sample_acc: 0.004421768839261969, t_tail_rel_sample_acc: 0.003231292613306824,lr: 0.0005016012167603286, batch_time: 3.146695852279663, total_time: 2777.939968109131 -----------------"
     ]
    },
    {
     "name": "stderr",
     "output_type": "stream",
     "text": [
      "\r",
      "Validating:   0%|          | 0/97 [00:00<?, ?it/s]"
     ]
    },
    {
     "name": "stdout",
     "output_type": "stream",
     "text": [
      "\r",
      "Epoch: 11/50, batch: 981/981, train_loss: 2.4010215785334678e-05, t_ent_sample_acc: 0.6858647818412256, t_head_rel_sample_acc: 0.004417261429639888, t_tail_rel_sample_acc: 0.0032279987370445336,lr: 0.000500800609406507, batch_time: 1.3562374114990234, total_time: 2779.329046010971 -------------"
     ]
    },
    {
     "name": "stderr",
     "output_type": "stream",
     "text": [
      "Validating: 100%|██████████| 97/97 [01:03<00:00,  1.52it/s]"
     ]
    },
    {
     "name": "stdout",
     "output_type": "stream",
     "text": [
      "{'time': 63.86064577102661,\n",
      " 'val_ent_seq_acc': 0.7018900533619615,\n",
      " 'val_f1': 0.006488240064234629,\n",
      " 'val_head_rel_acc': 0.003436426219251967,\n",
      " 'val_prec': 0.0032546786004879367,\n",
      " 'val_recall': 0.999999999975,\n",
      " 'val_tail_rel_acc': 0.003436426219251967}\n",
      "Current avf_f1: 0.006488240064234629, Best f1: 0.006488240064234629\n"
     ]
    },
    {
     "name": "stderr",
     "output_type": "stream",
     "text": [
      "\n"
     ]
    },
    {
     "name": "stdout",
     "output_type": "stream",
     "text": [
      "Epoch: 12/50, batch: 779/981, train_loss: 2.0716643014149413e-05, t_ent_sample_acc: 0.6668806339641591, t_head_rel_sample_acc: 0.004920838828723452, t_tail_rel_sample_acc: 0.006632434943062044,lr: 2.6182230162504484e-05, batch_time: 3.0075995922088623, total_time: 2073.6457896232605 --------------"
     ]
    },
    {
     "name": "stderr",
     "output_type": "stream",
     "text": [
      "requests_with_retry encountered retryable exception: ('Connection aborted.', RemoteDisconnected('Remote end closed connection without response')). args: ('https://api.wandb.ai/files/wycheng/webnlg_single/2w4et4vj/file_stream',), kwargs: {'json': {'files': {'output.log': {'offset': 110, 'content': ['2020-06-01T06:49:44.688900 Epoch: 12/50, batch: 689/981, train_loss: 2.0885896206094336e-05, t_ent_sample_acc: 0.665699098470076, t_head_rel_sample_acc: 0.004596033034892144, t_tail_rel_sample_acc: 0.006289308363536619,lr: 5.4025193443136054e-05, batch_time: 2.2961416244506836, total_time: 1865.635240316391 -------------\\r']}, 'wandb-events.jsonl': {'offset': 929, 'content': ['{\"system.gpu.0.gpu\": 0.0, \"system.gpu.0.memory\": 0.0, \"system.gpu.0.memoryAllocated\": 49.98, \"system.gpu.0.temp\": 39.0, \"system.gpu.process.0.gpu\": 0.0, \"system.gpu.process.0.memory\": 0.0, \"system.gpu.process.0.memoryAllocated\": 49.98, \"system.gpu.process.0.temp\": 39.0, \"system.gpu.0.powerWatts\": 38.66, \"system.gpu.0.powerPercent\": 15.46, \"system.gpu.process.0.powerWatts\": 38.66, \"system.gpu.process.0.powerPercent\": 15.46, \"system.gpu.1.gpu\": 99.2, \"system.gpu.1.memory\": 18.0, \"system.gpu.1.memoryAllocated\": 58.92, \"system.gpu.1.temp\": 47.6, \"system.gpu.process.1.gpu\": 99.2, \"system.gpu.process.1.memory\": 18.0, \"system.gpu.process.1.memoryAllocated\": 58.92, \"system.gpu.process.1.temp\": 47.6, \"system.gpu.1.powerWatts\": 76.23, \"system.gpu.1.powerPercent\": 30.49, \"system.gpu.process.1.powerWatts\": 76.23, \"system.gpu.process.1.powerPercent\": 30.49, \"system.cpu\": 63.97, \"system.memory\": 41.6, \"system.disk\": 83.1, \"system.proc.memory.availableMB\": 74990.25, \"system.proc.memory.rssMB\": 3217.89, \"system.proc.memory.percent\": 2.51, \"system.proc.cpu.threads\": 49.0, \"system.network.sent\": 1388413808, \"system.network.recv\": 1118562725, \"_wandb\": true, \"_timestamp\": 1590994180, \"_runtime\": 30894}\\n']}, 'wandb-history.jsonl': {'offset': 1216, 'content': ['{\"train_loss\": 2.0873476454794995e-05, \"train_ent_seq_acc\": 0.6647087792030341, \"train_head_rel_acc\": 0.004405286474900099, \"train_tail_rel_acc\": 0.006118453437361248, \"learning_rate\": 5.695757201699875e-05, \"time\": 1846.185426235199, \"_runtime\": 30877.333522319794, \"_timestamp\": 1590994163.3321147, \"_step\": 1216}\\n']}, 'wandb-summary.json': {'offset': 0, 'content': ['{\"train_loss\": 2.6292428713125786, \"learning_rate\": 4.324831200938678e-05, \"_step\": 47, \"train_ent_seq_acc\": 0, \"_runtime\": 1054.6992835998535, \"train_head_rel_acc\": 0, \"train_tail_rel_acc\": 0, \"time\": 1032.7262411117554, \"_timestamp\": 1590965373.4304588, \"val_head_rel_acc\": 0.003436426219251967, \"val_prec\": 0.0032546786004879367, \"val_tail_rel_acc\": 0.003436426219251967, \"val_f1\": 0.006488240064234629, \"val_recall\": 0.999999999975, \"val_ent_seq_acc\": 0.7018900533619615}\\n']}}}}\n"
     ]
    },
    {
     "name": "stdout",
     "output_type": "stream",
     "text": [
      "Epoch: 12/50, batch: 981/981, train_loss: 2.066678886248963e-05, t_ent_sample_acc: 0.6695548937134786, t_head_rel_sample_acc: 0.005266734781493713, t_tail_rel_sample_acc: 0.0066258921444598325,lr: 6.409758326331172e-10, batch_time: 1.4399232864379883, total_time: 2640.0754656791687 ---------------"
     ]
    },
    {
     "name": "stderr",
     "output_type": "stream",
     "text": [
      "Validating: 100%|██████████| 97/97 [01:15<00:00,  1.28it/s]"
     ]
    },
    {
     "name": "stdout",
     "output_type": "stream",
     "text": [
      "{'time': 75.75732946395874,\n",
      " 'val_ent_seq_acc': 0.6804123898756873,\n",
      " 'val_f1': 0.009700889246894428,\n",
      " 'val_head_rel_acc': 0.0,\n",
      " 'val_prec': 0.0048820179007319055,\n",
      " 'val_recall': 0.749999999990625,\n",
      " 'val_tail_rel_acc': 0.0}\n",
      "Current avf_f1: 0.009700889246894428, Best f1: 0.009700889246894428\n"
     ]
    },
    {
     "name": "stderr",
     "output_type": "stream",
     "text": [
      "\n"
     ]
    },
    {
     "name": "stdout",
     "output_type": "stream",
     "text": [
      "Epoch: 13/50, batch: 980/981, train_loss: 2.0876739065953393e-05, t_ent_sample_acc: 0.6352040982976251, t_head_rel_sample_acc: 0.008163265549406714, t_tail_rel_sample_acc: 0.008503401613965327,lr: 0.0005016012167603286, batch_time: 3.0763120651245117, total_time: 2775.413981437683 ----------------"
     ]
    },
    {
     "name": "stderr",
     "output_type": "stream",
     "text": [
      "\r",
      "Validating:   0%|          | 0/97 [00:00<?, ?it/s]"
     ]
    },
    {
     "name": "stdout",
     "output_type": "stream",
     "text": [
      "\r",
      "Epoch: 13/50, batch: 981/981, train_loss: 2.087938082880895e-05, t_ent_sample_acc: 0.6355759595633769, t_head_rel_sample_acc: 0.008154944177796717, t_tail_rel_sample_acc: 0.008494733518538246,lr: 0.000500800609406507, batch_time: 1.442861795425415, total_time: 2776.8914198875427 -------------"
     ]
    },
    {
     "name": "stderr",
     "output_type": "stream",
     "text": [
      "Validating: 100%|██████████| 97/97 [01:04<00:00,  1.50it/s]\n"
     ]
    },
    {
     "name": "stdout",
     "output_type": "stream",
     "text": [
      "{'time': 64.77010726928711,\n",
      " 'val_ent_seq_acc': 0.6580756216012326,\n",
      " 'val_f1': 0.14587892047739776,\n",
      " 'val_head_rel_acc': 0.030927835973267703,\n",
      " 'val_prec': 0.08136696501219842,\n",
      " 'val_recall': 0.7042253521121802,\n",
      " 'val_tail_rel_acc': 0.030927835973267703}\n",
      "Current avf_f1: 0.14587892047739776, Best f1: 0.14587892047739776\n",
      "Epoch: 14/50, batch: 980/981, train_loss: 1.7615596125695597e-05, t_ent_sample_acc: 0.6309523971865372, t_head_rel_sample_acc: 0.02159864009947193, t_tail_rel_sample_acc: 0.022789116325427076,lr: 2.5639016871248365e-09, batch_time: 2.96329665184021, total_time: 2701.584529876709 -----------------"
     ]
    },
    {
     "name": "stderr",
     "output_type": "stream",
     "text": [
      "\r",
      "Validating:   0%|          | 0/97 [00:00<?, ?it/s]"
     ]
    },
    {
     "name": "stdout",
     "output_type": "stream",
     "text": [
      "\r",
      "Epoch: 14/50, batch: 981/981, train_loss: 1.761140440389445e-05, t_ent_sample_acc: 0.6313285925003124, t_head_rel_sample_acc: 0.021576623137087147, t_tail_rel_sample_acc: 0.0227658858296825,lr: 6.409758326331172e-10, batch_time: 1.2564895153045654, total_time: 2702.8729269504547 -------------"
     ]
    },
    {
     "name": "stderr",
     "output_type": "stream",
     "text": [
      "Validating: 100%|██████████| 97/97 [01:06<00:00,  1.46it/s]\n"
     ]
    },
    {
     "name": "stdout",
     "output_type": "stream",
     "text": [
      "{'time': 66.5579948425293,\n",
      " 'val_ent_seq_acc': 0.6417525912990275,\n",
      " 'val_f1': 0.1249059443051015,\n",
      " 'val_head_rel_acc': 0.017182131096259833,\n",
      " 'val_prec': 0.06753458096012468,\n",
      " 'val_recall': 0.82999999999917,\n",
      " 'val_tail_rel_acc': 0.017182131096259833}\n",
      "Current avf_f1: 0.1249059443051015, Best f1: 0.14587892047739776\n",
      "Epoch: 15/50, batch: 139/981, train_loss: 2.775263336509937e-05, t_ent_sample_acc: 0.489208645421824, t_head_rel_sample_acc: 0.008393285621842035, t_tail_rel_sample_acc: 0.010791367228082615,lr: 0.0009878428410862482, batch_time: 2.848259687423706, total_time: 399.06385827064514 -----------------"
     ]
    },
    {
     "name": "stderr",
     "output_type": "stream",
     "text": [
      "requests_with_retry encountered retryable exception: 500 Server Error: Internal Server Error for url: https://api.wandb.ai/files/wycheng/webnlg_single/2w4et4vj/file_stream. args: ('https://api.wandb.ai/files/wycheng/webnlg_single/2w4et4vj/file_stream',), kwargs: {'json': {'files': {'output.log': {'offset': 138, 'content': ['2020-06-01T08:43:36.406702 Epoch: 15/50, batch: 129/981, train_loss: 2.8461725145631178e-05, t_ent_sample_acc: 0.48320414657278576, t_head_rel_sample_acc: 0.009043927918108858, t_tail_rel_sample_acc: 0.011627907323282819,lr: 0.0009895349605301633, batch_time: 3.098073959350586, total_time: 368.5563175678253 -------------\\r']}, 'wandb-events.jsonl': {'offset': 1141, 'content': ['{\"system.gpu.0.gpu\": 0.0, \"system.gpu.0.memory\": 0.0, \"system.gpu.0.memoryAllocated\": 49.98, \"system.gpu.0.temp\": 39.0, \"system.gpu.process.0.gpu\": 0.0, \"system.gpu.process.0.memory\": 0.0, \"system.gpu.process.0.memoryAllocated\": 49.98, \"system.gpu.process.0.temp\": 39.0, \"system.gpu.0.powerWatts\": 38.82, \"system.gpu.0.powerPercent\": 15.53, \"system.gpu.process.0.powerWatts\": 38.82, \"system.gpu.process.0.powerPercent\": 15.53, \"system.gpu.1.gpu\": 95.93, \"system.gpu.1.memory\": 18.87, \"system.gpu.1.memoryAllocated\": 58.92, \"system.gpu.1.temp\": 46.87, \"system.gpu.process.1.gpu\": 95.93, \"system.gpu.process.1.memory\": 18.87, \"system.gpu.process.1.memoryAllocated\": 58.92, \"system.gpu.process.1.temp\": 46.87, \"system.gpu.1.powerWatts\": 74.96, \"system.gpu.1.powerPercent\": 29.98, \"system.gpu.process.1.powerWatts\": 74.96, \"system.gpu.process.1.powerPercent\": 29.98, \"system.cpu\": 68.62, \"system.memory\": 43.0, \"system.disk\": 83.1, \"system.proc.memory.availableMB\": 73181.58, \"system.proc.memory.rssMB\": 3217.9, \"system.proc.memory.percent\": 2.51, \"system.proc.cpu.threads\": 49.0, \"system.network.sent\": 1755064889, \"system.network.recv\": 1571070329, \"_wandb\": true, \"_timestamp\": 1591000991, \"_runtime\": 37706}\\n']}, 'wandb-history.jsonl': {'offset': 1460, 'content': ['{\"train_loss\": 2.8966140287458293e-05, \"train_ent_seq_acc\": 0.47245180249706775, \"train_head_rel_acc\": 0.00964187356558713, \"train_tail_rel_acc\": 0.012396694584326311, \"learning_rate\": 0.0009907983090777206, \"time\": 343.82938528060913, \"_runtime\": 37702.60654401779, \"_timestamp\": 1591000988.6051364, \"_step\": 1460}\\n']}, 'wandb-summary.json': {'offset': 0, 'content': ['{\"train_loss\": 2.6292428713125786, \"learning_rate\": 4.324831200938678e-05, \"_step\": 47, \"train_ent_seq_acc\": 0, \"_runtime\": 1054.6992835998535, \"train_head_rel_acc\": 0, \"train_tail_rel_acc\": 0, \"time\": 1032.7262411117554, \"_timestamp\": 1590965373.4304588, \"val_head_rel_acc\": 0.017182131096259833, \"val_prec\": 0.06753458096012468, \"val_tail_rel_acc\": 0.017182131096259833, \"val_f1\": 0.1249059443051015, \"val_recall\": 0.82999999999917, \"val_ent_seq_acc\": 0.6417525912990275}\\n']}}}}\n"
     ]
    },
    {
     "name": "stdout",
     "output_type": "stream",
     "text": [
      "Epoch: 15/50, batch: 156/981, train_loss: 2.690809104677054e-05, t_ent_sample_acc: 0.5064102694965326, t_head_rel_sample_acc: 0.007478632701513095, t_tail_rel_sample_acc: 0.010683761002161564,lr: 0.000984679437866531, batch_time: 2.124236583709717, total_time: 442.39676904678345 ----------------"
     ]
    },
    {
     "name": "stderr",
     "output_type": "stream",
     "text": [
      "requests_with_retry encountered retryable exception: 500 Server Error: Internal Server Error for url: https://api.wandb.ai/files/wycheng/webnlg_single/2w4et4vj/file_stream. args: ('https://api.wandb.ai/files/wycheng/webnlg_single/2w4et4vj/file_stream',), kwargs: {'json': {'files': {'output.log': {'offset': 138, 'content': ['2020-06-01T08:43:36.406702 Epoch: 15/50, batch: 129/981, train_loss: 2.8461725145631178e-05, t_ent_sample_acc: 0.48320414657278576, t_head_rel_sample_acc: 0.009043927918108858, t_tail_rel_sample_acc: 0.011627907323282819,lr: 0.0009895349605301633, batch_time: 3.098073959350586, total_time: 368.5563175678253 -------------\\r']}, 'wandb-events.jsonl': {'offset': 1141, 'content': ['{\"system.gpu.0.gpu\": 0.0, \"system.gpu.0.memory\": 0.0, \"system.gpu.0.memoryAllocated\": 49.98, \"system.gpu.0.temp\": 39.0, \"system.gpu.process.0.gpu\": 0.0, \"system.gpu.process.0.memory\": 0.0, \"system.gpu.process.0.memoryAllocated\": 49.98, \"system.gpu.process.0.temp\": 39.0, \"system.gpu.0.powerWatts\": 38.82, \"system.gpu.0.powerPercent\": 15.53, \"system.gpu.process.0.powerWatts\": 38.82, \"system.gpu.process.0.powerPercent\": 15.53, \"system.gpu.1.gpu\": 95.93, \"system.gpu.1.memory\": 18.87, \"system.gpu.1.memoryAllocated\": 58.92, \"system.gpu.1.temp\": 46.87, \"system.gpu.process.1.gpu\": 95.93, \"system.gpu.process.1.memory\": 18.87, \"system.gpu.process.1.memoryAllocated\": 58.92, \"system.gpu.process.1.temp\": 46.87, \"system.gpu.1.powerWatts\": 74.96, \"system.gpu.1.powerPercent\": 29.98, \"system.gpu.process.1.powerWatts\": 74.96, \"system.gpu.process.1.powerPercent\": 29.98, \"system.cpu\": 68.62, \"system.memory\": 43.0, \"system.disk\": 83.1, \"system.proc.memory.availableMB\": 73181.58, \"system.proc.memory.rssMB\": 3217.9, \"system.proc.memory.percent\": 2.51, \"system.proc.cpu.threads\": 49.0, \"system.network.sent\": 1755064889, \"system.network.recv\": 1571070329, \"_wandb\": true, \"_timestamp\": 1591000991, \"_runtime\": 37706}\\n']}, 'wandb-history.jsonl': {'offset': 1460, 'content': ['{\"train_loss\": 2.8966140287458293e-05, \"train_ent_seq_acc\": 0.47245180249706775, \"train_head_rel_acc\": 0.00964187356558713, \"train_tail_rel_acc\": 0.012396694584326311, \"learning_rate\": 0.0009907983090777206, \"time\": 343.82938528060913, \"_runtime\": 37702.60654401779, \"_timestamp\": 1591000988.6051364, \"_step\": 1460}\\n']}, 'wandb-summary.json': {'offset': 0, 'content': ['{\"train_loss\": 2.6292428713125786, \"learning_rate\": 4.324831200938678e-05, \"_step\": 47, \"train_ent_seq_acc\": 0, \"_runtime\": 1054.6992835998535, \"train_head_rel_acc\": 0, \"train_tail_rel_acc\": 0, \"time\": 1032.7262411117554, \"_timestamp\": 1590965373.4304588, \"val_head_rel_acc\": 0.017182131096259833, \"val_prec\": 0.06753458096012468, \"val_tail_rel_acc\": 0.017182131096259833, \"val_f1\": 0.1249059443051015, \"val_recall\": 0.82999999999917, \"val_ent_seq_acc\": 0.6417525912990275}\\n']}}}}\n"
     ]
    },
    {
     "name": "stdout",
     "output_type": "stream",
     "text": [
      "Epoch: 15/50, batch: 158/981, train_loss: 2.7009059660393845e-05, t_ent_sample_acc: 0.5063291268446778, t_head_rel_sample_acc: 0.007383966464785081, t_tail_rel_sample_acc: 0.010548523521121544,lr: 0.0009842836154290576, batch_time: 2.269378900527954, total_time: 446.4353606700897 ---------------"
     ]
    },
    {
     "name": "stderr",
     "output_type": "stream",
     "text": [
      "requests_with_retry encountered retryable exception: 500 Server Error: Internal Server Error for url: https://api.wandb.ai/files/wycheng/webnlg_single/2w4et4vj/file_stream. args: ('https://api.wandb.ai/files/wycheng/webnlg_single/2w4et4vj/file_stream',), kwargs: {'json': {'files': {'output.log': {'offset': 138, 'content': ['2020-06-01T08:43:36.406702 Epoch: 15/50, batch: 129/981, train_loss: 2.8461725145631178e-05, t_ent_sample_acc: 0.48320414657278576, t_head_rel_sample_acc: 0.009043927918108858, t_tail_rel_sample_acc: 0.011627907323282819,lr: 0.0009895349605301633, batch_time: 3.098073959350586, total_time: 368.5563175678253 -------------\\r']}, 'wandb-events.jsonl': {'offset': 1141, 'content': ['{\"system.gpu.0.gpu\": 0.0, \"system.gpu.0.memory\": 0.0, \"system.gpu.0.memoryAllocated\": 49.98, \"system.gpu.0.temp\": 39.0, \"system.gpu.process.0.gpu\": 0.0, \"system.gpu.process.0.memory\": 0.0, \"system.gpu.process.0.memoryAllocated\": 49.98, \"system.gpu.process.0.temp\": 39.0, \"system.gpu.0.powerWatts\": 38.82, \"system.gpu.0.powerPercent\": 15.53, \"system.gpu.process.0.powerWatts\": 38.82, \"system.gpu.process.0.powerPercent\": 15.53, \"system.gpu.1.gpu\": 95.93, \"system.gpu.1.memory\": 18.87, \"system.gpu.1.memoryAllocated\": 58.92, \"system.gpu.1.temp\": 46.87, \"system.gpu.process.1.gpu\": 95.93, \"system.gpu.process.1.memory\": 18.87, \"system.gpu.process.1.memoryAllocated\": 58.92, \"system.gpu.process.1.temp\": 46.87, \"system.gpu.1.powerWatts\": 74.96, \"system.gpu.1.powerPercent\": 29.98, \"system.gpu.process.1.powerWatts\": 74.96, \"system.gpu.process.1.powerPercent\": 29.98, \"system.cpu\": 68.62, \"system.memory\": 43.0, \"system.disk\": 83.1, \"system.proc.memory.availableMB\": 73181.58, \"system.proc.memory.rssMB\": 3217.9, \"system.proc.memory.percent\": 2.51, \"system.proc.cpu.threads\": 49.0, \"system.network.sent\": 1755064889, \"system.network.recv\": 1571070329, \"_wandb\": true, \"_timestamp\": 1591000991, \"_runtime\": 37706}\\n']}, 'wandb-history.jsonl': {'offset': 1460, 'content': ['{\"train_loss\": 2.8966140287458293e-05, \"train_ent_seq_acc\": 0.47245180249706775, \"train_head_rel_acc\": 0.00964187356558713, \"train_tail_rel_acc\": 0.012396694584326311, \"learning_rate\": 0.0009907983090777206, \"time\": 343.82938528060913, \"_runtime\": 37702.60654401779, \"_timestamp\": 1591000988.6051364, \"_step\": 1460}\\n']}, 'wandb-summary.json': {'offset': 0, 'content': ['{\"train_loss\": 2.6292428713125786, \"learning_rate\": 4.324831200938678e-05, \"_step\": 47, \"train_ent_seq_acc\": 0, \"_runtime\": 1054.6992835998535, \"train_head_rel_acc\": 0, \"train_tail_rel_acc\": 0, \"time\": 1032.7262411117554, \"_timestamp\": 1590965373.4304588, \"val_head_rel_acc\": 0.017182131096259833, \"val_prec\": 0.06753458096012468, \"val_tail_rel_acc\": 0.017182131096259833, \"val_f1\": 0.1249059443051015, \"val_recall\": 0.82999999999917, \"val_ent_seq_acc\": 0.6417525912990275}\\n']}}}}\n"
     ]
    },
    {
     "name": "stdout",
     "output_type": "stream",
     "text": [
      "Epoch: 15/50, batch: 161/981, train_loss: 2.6805830626325142e-05, t_ent_sample_acc: 0.5072463896148693, t_head_rel_sample_acc: 0.0072463770275530606, t_tail_rel_sample_acc: 0.010351967182218659,lr: 0.0009836805706384983, batch_time: 2.955505847930908, total_time: 455.78450751304626 -------------"
     ]
    },
    {
     "name": "stderr",
     "output_type": "stream",
     "text": [
      "requests_with_retry encountered retryable exception: 500 Server Error: Internal Server Error for url: https://api.wandb.ai/files/wycheng/webnlg_single/2w4et4vj/file_stream. args: ('https://api.wandb.ai/files/wycheng/webnlg_single/2w4et4vj/file_stream',), kwargs: {'json': {'files': {'output.log': {'offset': 138, 'content': ['2020-06-01T08:43:36.406702 Epoch: 15/50, batch: 129/981, train_loss: 2.8461725145631178e-05, t_ent_sample_acc: 0.48320414657278576, t_head_rel_sample_acc: 0.009043927918108858, t_tail_rel_sample_acc: 0.011627907323282819,lr: 0.0009895349605301633, batch_time: 3.098073959350586, total_time: 368.5563175678253 -------------\\r']}, 'wandb-events.jsonl': {'offset': 1141, 'content': ['{\"system.gpu.0.gpu\": 0.0, \"system.gpu.0.memory\": 0.0, \"system.gpu.0.memoryAllocated\": 49.98, \"system.gpu.0.temp\": 39.0, \"system.gpu.process.0.gpu\": 0.0, \"system.gpu.process.0.memory\": 0.0, \"system.gpu.process.0.memoryAllocated\": 49.98, \"system.gpu.process.0.temp\": 39.0, \"system.gpu.0.powerWatts\": 38.82, \"system.gpu.0.powerPercent\": 15.53, \"system.gpu.process.0.powerWatts\": 38.82, \"system.gpu.process.0.powerPercent\": 15.53, \"system.gpu.1.gpu\": 95.93, \"system.gpu.1.memory\": 18.87, \"system.gpu.1.memoryAllocated\": 58.92, \"system.gpu.1.temp\": 46.87, \"system.gpu.process.1.gpu\": 95.93, \"system.gpu.process.1.memory\": 18.87, \"system.gpu.process.1.memoryAllocated\": 58.92, \"system.gpu.process.1.temp\": 46.87, \"system.gpu.1.powerWatts\": 74.96, \"system.gpu.1.powerPercent\": 29.98, \"system.gpu.process.1.powerWatts\": 74.96, \"system.gpu.process.1.powerPercent\": 29.98, \"system.cpu\": 68.62, \"system.memory\": 43.0, \"system.disk\": 83.1, \"system.proc.memory.availableMB\": 73181.58, \"system.proc.memory.rssMB\": 3217.9, \"system.proc.memory.percent\": 2.51, \"system.proc.cpu.threads\": 49.0, \"system.network.sent\": 1755064889, \"system.network.recv\": 1571070329, \"_wandb\": true, \"_timestamp\": 1591000991, \"_runtime\": 37706}\\n']}, 'wandb-history.jsonl': {'offset': 1460, 'content': ['{\"train_loss\": 2.8966140287458293e-05, \"train_ent_seq_acc\": 0.47245180249706775, \"train_head_rel_acc\": 0.00964187356558713, \"train_tail_rel_acc\": 0.012396694584326311, \"learning_rate\": 0.0009907983090777206, \"time\": 343.82938528060913, \"_runtime\": 37702.60654401779, \"_timestamp\": 1591000988.6051364, \"_step\": 1460}\\n']}, 'wandb-summary.json': {'offset': 0, 'content': ['{\"train_loss\": 2.6292428713125786, \"learning_rate\": 4.324831200938678e-05, \"_step\": 47, \"train_ent_seq_acc\": 0, \"_runtime\": 1054.6992835998535, \"train_head_rel_acc\": 0, \"train_tail_rel_acc\": 0, \"time\": 1032.7262411117554, \"_timestamp\": 1590965373.4304588, \"val_head_rel_acc\": 0.017182131096259833, \"val_prec\": 0.06753458096012468, \"val_tail_rel_acc\": 0.017182131096259833, \"val_f1\": 0.1249059443051015, \"val_recall\": 0.82999999999917, \"val_ent_seq_acc\": 0.6417525912990275}\\n']}}}}\n"
     ]
    },
    {
     "name": "stdout",
     "output_type": "stream",
     "text": [
      "Epoch: 15/50, batch: 167/981, train_loss: 2.6375003662525013e-05, t_ent_sample_acc: 0.5169660813972622, t_head_rel_sample_acc: 0.007984032174070439, t_tail_rel_sample_acc: 0.010978044239346852,lr: 0.0009824410123113634, batch_time: 2.9752581119537354, total_time: 473.1154000759125 -------------"
     ]
    },
    {
     "name": "stderr",
     "output_type": "stream",
     "text": [
      "requests_with_retry encountered retryable exception: 500 Server Error: Internal Server Error for url: https://api.wandb.ai/files/wycheng/webnlg_single/2w4et4vj/file_stream. args: ('https://api.wandb.ai/files/wycheng/webnlg_single/2w4et4vj/file_stream',), kwargs: {'json': {'files': {'output.log': {'offset': 138, 'content': ['2020-06-01T08:43:36.406702 Epoch: 15/50, batch: 129/981, train_loss: 2.8461725145631178e-05, t_ent_sample_acc: 0.48320414657278576, t_head_rel_sample_acc: 0.009043927918108858, t_tail_rel_sample_acc: 0.011627907323282819,lr: 0.0009895349605301633, batch_time: 3.098073959350586, total_time: 368.5563175678253 -------------\\r']}, 'wandb-events.jsonl': {'offset': 1141, 'content': ['{\"system.gpu.0.gpu\": 0.0, \"system.gpu.0.memory\": 0.0, \"system.gpu.0.memoryAllocated\": 49.98, \"system.gpu.0.temp\": 39.0, \"system.gpu.process.0.gpu\": 0.0, \"system.gpu.process.0.memory\": 0.0, \"system.gpu.process.0.memoryAllocated\": 49.98, \"system.gpu.process.0.temp\": 39.0, \"system.gpu.0.powerWatts\": 38.82, \"system.gpu.0.powerPercent\": 15.53, \"system.gpu.process.0.powerWatts\": 38.82, \"system.gpu.process.0.powerPercent\": 15.53, \"system.gpu.1.gpu\": 95.93, \"system.gpu.1.memory\": 18.87, \"system.gpu.1.memoryAllocated\": 58.92, \"system.gpu.1.temp\": 46.87, \"system.gpu.process.1.gpu\": 95.93, \"system.gpu.process.1.memory\": 18.87, \"system.gpu.process.1.memoryAllocated\": 58.92, \"system.gpu.process.1.temp\": 46.87, \"system.gpu.1.powerWatts\": 74.96, \"system.gpu.1.powerPercent\": 29.98, \"system.gpu.process.1.powerWatts\": 74.96, \"system.gpu.process.1.powerPercent\": 29.98, \"system.cpu\": 68.62, \"system.memory\": 43.0, \"system.disk\": 83.1, \"system.proc.memory.availableMB\": 73181.58, \"system.proc.memory.rssMB\": 3217.9, \"system.proc.memory.percent\": 2.51, \"system.proc.cpu.threads\": 49.0, \"system.network.sent\": 1755064889, \"system.network.recv\": 1571070329, \"_wandb\": true, \"_timestamp\": 1591000991, \"_runtime\": 37706}\\n']}, 'wandb-history.jsonl': {'offset': 1460, 'content': ['{\"train_loss\": 2.8966140287458293e-05, \"train_ent_seq_acc\": 0.47245180249706775, \"train_head_rel_acc\": 0.00964187356558713, \"train_tail_rel_acc\": 0.012396694584326311, \"learning_rate\": 0.0009907983090777206, \"time\": 343.82938528060913, \"_runtime\": 37702.60654401779, \"_timestamp\": 1591000988.6051364, \"_step\": 1460}\\n']}, 'wandb-summary.json': {'offset': 0, 'content': ['{\"train_loss\": 2.6292428713125786, \"learning_rate\": 4.324831200938678e-05, \"_step\": 47, \"train_ent_seq_acc\": 0, \"_runtime\": 1054.6992835998535, \"train_head_rel_acc\": 0, \"train_tail_rel_acc\": 0, \"time\": 1032.7262411117554, \"_timestamp\": 1590965373.4304588, \"val_head_rel_acc\": 0.017182131096259833, \"val_prec\": 0.06753458096012468, \"val_tail_rel_acc\": 0.017182131096259833, \"val_f1\": 0.1249059443051015, \"val_recall\": 0.82999999999917, \"val_ent_seq_acc\": 0.6417525912990275}\\n']}}}}\n"
     ]
    },
    {
     "name": "stdout",
     "output_type": "stream",
     "text": [
      "Epoch: 15/50, batch: 179/981, train_loss: 2.5768681715609044e-05, t_ent_sample_acc: 0.5204841849191228, t_head_rel_sample_acc: 0.010242085966318013, t_tail_rel_sample_acc: 0.013035382138950198,lr: 0.000979828426508364, batch_time: 2.884810209274292, total_time: 509.4636404514313 ----------------"
     ]
    },
    {
     "name": "stderr",
     "output_type": "stream",
     "text": [
      "requests_with_retry encountered retryable exception: 500 Server Error: Internal Server Error for url: https://api.wandb.ai/files/wycheng/webnlg_single/2w4et4vj/file_stream. args: ('https://api.wandb.ai/files/wycheng/webnlg_single/2w4et4vj/file_stream',), kwargs: {'json': {'files': {'output.log': {'offset': 138, 'content': ['2020-06-01T08:43:36.406702 Epoch: 15/50, batch: 129/981, train_loss: 2.8461725145631178e-05, t_ent_sample_acc: 0.48320414657278576, t_head_rel_sample_acc: 0.009043927918108858, t_tail_rel_sample_acc: 0.011627907323282819,lr: 0.0009895349605301633, batch_time: 3.098073959350586, total_time: 368.5563175678253 -------------\\r']}, 'wandb-events.jsonl': {'offset': 1141, 'content': ['{\"system.gpu.0.gpu\": 0.0, \"system.gpu.0.memory\": 0.0, \"system.gpu.0.memoryAllocated\": 49.98, \"system.gpu.0.temp\": 39.0, \"system.gpu.process.0.gpu\": 0.0, \"system.gpu.process.0.memory\": 0.0, \"system.gpu.process.0.memoryAllocated\": 49.98, \"system.gpu.process.0.temp\": 39.0, \"system.gpu.0.powerWatts\": 38.82, \"system.gpu.0.powerPercent\": 15.53, \"system.gpu.process.0.powerWatts\": 38.82, \"system.gpu.process.0.powerPercent\": 15.53, \"system.gpu.1.gpu\": 95.93, \"system.gpu.1.memory\": 18.87, \"system.gpu.1.memoryAllocated\": 58.92, \"system.gpu.1.temp\": 46.87, \"system.gpu.process.1.gpu\": 95.93, \"system.gpu.process.1.memory\": 18.87, \"system.gpu.process.1.memoryAllocated\": 58.92, \"system.gpu.process.1.temp\": 46.87, \"system.gpu.1.powerWatts\": 74.96, \"system.gpu.1.powerPercent\": 29.98, \"system.gpu.process.1.powerWatts\": 74.96, \"system.gpu.process.1.powerPercent\": 29.98, \"system.cpu\": 68.62, \"system.memory\": 43.0, \"system.disk\": 83.1, \"system.proc.memory.availableMB\": 73181.58, \"system.proc.memory.rssMB\": 3217.9, \"system.proc.memory.percent\": 2.51, \"system.proc.cpu.threads\": 49.0, \"system.network.sent\": 1755064889, \"system.network.recv\": 1571070329, \"_wandb\": true, \"_timestamp\": 1591000991, \"_runtime\": 37706}\\n']}, 'wandb-history.jsonl': {'offset': 1460, 'content': ['{\"train_loss\": 2.8966140287458293e-05, \"train_ent_seq_acc\": 0.47245180249706775, \"train_head_rel_acc\": 0.00964187356558713, \"train_tail_rel_acc\": 0.012396694584326311, \"learning_rate\": 0.0009907983090777206, \"time\": 343.82938528060913, \"_runtime\": 37702.60654401779, \"_timestamp\": 1591000988.6051364, \"_step\": 1460}\\n']}, 'wandb-summary.json': {'offset': 0, 'content': ['{\"train_loss\": 2.6292428713125786, \"learning_rate\": 4.324831200938678e-05, \"_step\": 47, \"train_ent_seq_acc\": 0, \"_runtime\": 1054.6992835998535, \"train_head_rel_acc\": 0, \"train_tail_rel_acc\": 0, \"time\": 1032.7262411117554, \"_timestamp\": 1590965373.4304588, \"val_head_rel_acc\": 0.017182131096259833, \"val_prec\": 0.06753458096012468, \"val_tail_rel_acc\": 0.017182131096259833, \"val_f1\": 0.1249059443051015, \"val_recall\": 0.82999999999917, \"val_ent_seq_acc\": 0.6417525912990275}\\n']}}}}\n"
     ]
    },
    {
     "name": "stdout",
     "output_type": "stream",
     "text": [
      "Epoch: 15/50, batch: 367/981, train_loss: 2.240297205615167e-05, t_ent_sample_acc: 0.5540417946408165, t_head_rel_sample_acc: 0.014986376427824556, t_tail_rel_sample_acc: 0.015894641668335294,lr: 0.0009165669217613919, batch_time: 1.853548526763916, total_time: 1044.6151278018951 --------------"
     ]
    },
    {
     "name": "stderr",
     "output_type": "stream",
     "text": [
      "requests_with_retry encountered retryable exception: 408 Client Error: Request Timeout for url: https://api.wandb.ai/files/wycheng/webnlg_single/2w4et4vj/file_stream. args: ('https://api.wandb.ai/files/wycheng/webnlg_single/2w4et4vj/file_stream',), kwargs: {'json': {'files': {'output.log': {'offset': 144, 'content': ['2020-06-01T08:53:49.966679 Epoch: 15/50, batch: 345/981, train_loss: 2.25895992986372e-05, t_ent_sample_acc: 0.5545893865219061, t_head_rel_sample_acc: 0.014009662210077479, t_tail_rel_sample_acc: 0.015458937615588092,lr: 0.0009260479449817143, batch_time: 2.8797380924224854, total_time: 982.1079840660095 -------------\\r']}, 'wandb-events.jsonl': {'offset': 1160, 'content': ['{\"system.gpu.0.gpu\": 0.0, \"system.gpu.0.memory\": 0.0, \"system.gpu.0.memoryAllocated\": 49.98, \"system.gpu.0.temp\": 39.0, \"system.gpu.process.0.gpu\": 0.0, \"system.gpu.process.0.memory\": 0.0, \"system.gpu.process.0.memoryAllocated\": 49.98, \"system.gpu.process.0.temp\": 39.0, \"system.gpu.0.powerWatts\": 38.76, \"system.gpu.0.powerPercent\": 15.5, \"system.gpu.process.0.powerWatts\": 38.76, \"system.gpu.process.0.powerPercent\": 15.5, \"system.gpu.1.gpu\": 99.4, \"system.gpu.1.memory\": 15.53, \"system.gpu.1.memoryAllocated\": 58.92, \"system.gpu.1.temp\": 46.4, \"system.gpu.process.1.gpu\": 99.4, \"system.gpu.process.1.memory\": 15.53, \"system.gpu.process.1.memoryAllocated\": 58.92, \"system.gpu.process.1.temp\": 46.4, \"system.gpu.1.powerWatts\": 66.61, \"system.gpu.1.powerPercent\": 26.64, \"system.gpu.process.1.powerWatts\": 66.61, \"system.gpu.process.1.powerPercent\": 26.64, \"system.cpu\": 74.48, \"system.memory\": 43.2, \"system.disk\": 83.1, \"system.proc.memory.availableMB\": 72895.51, \"system.proc.memory.rssMB\": 3217.91, \"system.proc.memory.percent\": 2.51, \"system.proc.cpu.threads\": 49.0, \"system.network.sent\": 1809202549, \"system.network.recv\": 1631103215, \"_wandb\": true, \"_timestamp\": 1591001601, \"_runtime\": 38315}\\n']}, 'wandb-history.jsonl': {'offset': 1482, 'content': ['{\"train_loss\": 2.2553255533978077e-05, \"train_ent_seq_acc\": 0.556696006847966, \"train_head_rel_acc\": 0.014173998423685425, \"train_tail_rel_acc\": 0.015640274127207893, \"learning_rate\": 0.0009277153055691481, \"time\": 969.7054870128632, \"_runtime\": 38328.482741594315, \"_timestamp\": 1591001614.481334, \"_step\": 1482}\\n']}, 'wandb-summary.json': {'offset': 0, 'content': ['{\"train_loss\": 2.6292428713125786, \"learning_rate\": 4.324831200938678e-05, \"_step\": 47, \"train_ent_seq_acc\": 0, \"_runtime\": 1054.6992835998535, \"train_head_rel_acc\": 0, \"train_tail_rel_acc\": 0, \"time\": 1032.7262411117554, \"_timestamp\": 1590965373.4304588, \"val_head_rel_acc\": 0.017182131096259833, \"val_prec\": 0.06753458096012468, \"val_tail_rel_acc\": 0.017182131096259833, \"val_f1\": 0.1249059443051015, \"val_recall\": 0.82999999999917, \"val_ent_seq_acc\": 0.6417525912990275}\\n']}}}}\n"
     ]
    },
    {
     "name": "stdout",
     "output_type": "stream",
     "text": [
      "Epoch: 15/50, batch: 554/981, train_loss: 2.1370504134214216e-05, t_ent_sample_acc: 0.560469328200559, t_head_rel_sample_acc: 0.01624548782187679, t_tail_rel_sample_acc: 0.016847172557016572,lr: 0.0008164611494624226, batch_time: 2.948953866958618, total_time: 1565.9805595874786 ----------------"
     ]
    },
    {
     "name": "stderr",
     "output_type": "stream",
     "text": [
      "requests_with_retry encountered retryable exception: ('Connection aborted.', RemoteDisconnected('Remote end closed connection without response')). args: ('https://api.wandb.ai/files/wycheng/webnlg_single/2w4et4vj/file_stream',), kwargs: {'json': {'files': {'output.log': {'offset': 145, 'content': ['2020-06-01T09:00:04.563032 Epoch: 15/50, batch: 478/981, train_loss: 2.196285001130236e-05, t_ent_sample_acc: 0.5568340446597363, t_head_rel_sample_acc: 0.016387727095990998, t_tail_rel_sample_acc: 0.01673640214124983,lr: 0.0008611127697839648, batch_time: 3.087697744369507, total_time: 1356.717055797577 -------------\\r']}, 'wandb-events.jsonl': {'offset': 1172, 'content': ['{\"system.gpu.0.gpu\": 0.0, \"system.gpu.0.memory\": 0.0, \"system.gpu.0.memoryAllocated\": 49.98, \"system.gpu.0.temp\": 39.0, \"system.gpu.process.0.gpu\": 0.0, \"system.gpu.process.0.memory\": 0.0, \"system.gpu.process.0.memoryAllocated\": 49.98, \"system.gpu.process.0.temp\": 39.0, \"system.gpu.0.powerWatts\": 38.53, \"system.gpu.0.powerPercent\": 15.41, \"system.gpu.process.0.powerWatts\": 38.53, \"system.gpu.process.0.powerPercent\": 15.41, \"system.gpu.1.gpu\": 99.27, \"system.gpu.1.memory\": 16.93, \"system.gpu.1.memoryAllocated\": 58.92, \"system.gpu.1.temp\": 46.87, \"system.gpu.process.1.gpu\": 99.27, \"system.gpu.process.1.memory\": 16.93, \"system.gpu.process.1.memoryAllocated\": 58.92, \"system.gpu.process.1.temp\": 46.87, \"system.gpu.1.powerWatts\": 71.14, \"system.gpu.1.powerPercent\": 28.46, \"system.gpu.process.1.powerWatts\": 71.14, \"system.gpu.process.1.powerPercent\": 28.46, \"system.cpu\": 63.73, \"system.memory\": 43.39, \"system.disk\": 83.1, \"system.proc.memory.availableMB\": 72722.65, \"system.proc.memory.rssMB\": 3213.8, \"system.proc.memory.percent\": 2.5, \"system.proc.cpu.threads\": 49.0, \"system.network.sent\": 1825518302, \"system.network.recv\": 1659081223, \"_wandb\": true, \"_timestamp\": 1591001985, \"_runtime\": 38700}\\n']}, 'wandb-history.jsonl': {'offset': 1495, 'content': ['{\"train_loss\": 2.1981511173757845e-05, \"train_ent_seq_acc\": 0.5576787118635866, \"train_head_rel_acc\": 0.016277424374203774, \"train_tail_rel_acc\": 0.016631281426504666, \"learning_rate\": 0.0008649662401877356, \"time\": 1334.7029747962952, \"_runtime\": 38693.48012757301, \"_timestamp\": 1591001979.47872, \"_step\": 1495}\\n']}, 'wandb-summary.json': {'offset': 0, 'content': ['{\"train_loss\": 2.6292428713125786, \"learning_rate\": 4.324831200938678e-05, \"_step\": 47, \"train_ent_seq_acc\": 0, \"_runtime\": 1054.6992835998535, \"train_head_rel_acc\": 0, \"train_tail_rel_acc\": 0, \"time\": 1032.7262411117554, \"_timestamp\": 1590965373.4304588, \"val_head_rel_acc\": 0.017182131096259833, \"val_prec\": 0.06753458096012468, \"val_tail_rel_acc\": 0.017182131096259833, \"val_f1\": 0.1249059443051015, \"val_recall\": 0.82999999999917, \"val_ent_seq_acc\": 0.6417525912990275}\\n']}}}}\n"
     ]
    },
    {
     "name": "stdout",
     "output_type": "stream",
     "text": [
      "Epoch: 15/50, batch: 980/981, train_loss: 1.984196282072454e-05, t_ent_sample_acc: 0.5683673606995417, t_head_rel_sample_acc: 0.01836734747095984, t_tail_rel_sample_acc: 0.01836734747095984,lr: 0.0005016012167603286, batch_time: 2.993910312652588, total_time: 2791.19801902771 -------------------"
     ]
    },
    {
     "name": "stderr",
     "output_type": "stream",
     "text": [
      "\r",
      "Validating:   0%|          | 0/97 [00:00<?, ?it/s]"
     ]
    },
    {
     "name": "stdout",
     "output_type": "stream",
     "text": [
      "\r",
      "Epoch: 15/50, batch: 981/981, train_loss: 1.983039379516602e-05, t_ent_sample_acc: 0.5688073531962802, t_head_rel_sample_acc: 0.018348624384852845, t_tail_rel_sample_acc: 0.018348624384852845,lr: 0.000500800609406507, batch_time: 1.3164246082305908, total_time: 2792.5558507442474 -------------"
     ]
    },
    {
     "name": "stderr",
     "output_type": "stream",
     "text": [
      "Validating: 100%|██████████| 97/97 [01:17<00:00,  1.26it/s]"
     ]
    },
    {
     "name": "stdout",
     "output_type": "stream",
     "text": [
      "{'time': 77.21701288223267,\n",
      " 'val_ent_seq_acc': 0.6340206357621655,\n",
      " 'val_f1': 0.26588845651754445,\n",
      " 'val_head_rel_acc': 0.042955327740649585,\n",
      " 'val_prec': 0.16680227827500677,\n",
      " 'val_recall': 0.6549520766771071,\n",
      " 'val_tail_rel_acc': 0.04467354085027557}\n",
      "Current avf_f1: 0.26588845651754445, Best f1: 0.26588845651754445\n"
     ]
    },
    {
     "name": "stderr",
     "output_type": "stream",
     "text": [
      "\n"
     ]
    },
    {
     "name": "stdout",
     "output_type": "stream",
     "text": [
      "Epoch: 16/50, batch: 980/981, train_loss: 1.4562589794831164e-05, t_ent_sample_acc: 0.6108843694536054, t_head_rel_sample_acc: 0.05272108993055869, t_tail_rel_sample_acc: 0.05255102188307412,lr: 2.5639016871248365e-09, batch_time: 3.1410889625549316, total_time: 2535.740625858307 ----------------"
     ]
    },
    {
     "name": "stderr",
     "output_type": "stream",
     "text": [
      "\r",
      "Validating:   0%|          | 0/97 [00:00<?, ?it/s]"
     ]
    },
    {
     "name": "stdout",
     "output_type": "stream",
     "text": [
      "\r",
      "Epoch: 16/50, batch: 981/981, train_loss: 1.4554619984719596e-05, t_ent_sample_acc: 0.6107713374765884, t_head_rel_sample_acc: 0.0526673477389883, t_tail_rel_sample_acc: 0.05300713704935029,lr: 6.409758326331172e-10, batch_time: 1.4912447929382324, total_time: 2537.2656486034393 -------------"
     ]
    },
    {
     "name": "stderr",
     "output_type": "stream",
     "text": [
      "Validating:  56%|█████▌    | 54/97 [00:42<00:29,  1.43it/s]requests_with_retry encountered retryable exception: 408 Client Error: Request Timeout for url: https://api.wandb.ai/files/wycheng/webnlg_single/2w4et4vj/file_stream. args: ('https://api.wandb.ai/files/wycheng/webnlg_single/2w4et4vj/file_stream',), kwargs: {'json': {'files': {'output.log': {'offset': 155, 'content': ['2020-06-01T10:07:15.252006 Epoch: 16/50, batch: 974/981, train_loss: 1.4583659321709388e-05, t_ent_sample_acc: 0.6108829725449579, t_head_rel_sample_acc: 0.052532513467193384, t_tail_rel_sample_acc: 0.05236139777259905,lr: 4.102190110921722e-08, batch_time: 3.001534938812256, total_time: 2517.2938804626465 -------------\\r']}, 'wandb-events.jsonl': {'offset': 1297, 'content': ['{\"system.gpu.0.gpu\": 0.0, \"system.gpu.0.memory\": 0.0, \"system.gpu.0.memoryAllocated\": 49.98, \"system.gpu.0.temp\": 39.0, \"system.gpu.process.0.gpu\": 0.0, \"system.gpu.process.0.memory\": 0.0, \"system.gpu.process.0.memoryAllocated\": 49.98, \"system.gpu.process.0.temp\": 39.0, \"system.gpu.0.powerWatts\": 38.57, \"system.gpu.0.powerPercent\": 15.43, \"system.gpu.process.0.powerWatts\": 38.57, \"system.gpu.process.0.powerPercent\": 15.43, \"system.gpu.1.gpu\": 99.2, \"system.gpu.1.memory\": 18.6, \"system.gpu.1.memoryAllocated\": 58.92, \"system.gpu.1.temp\": 45.8, \"system.gpu.process.1.gpu\": 99.2, \"system.gpu.process.1.memory\": 18.6, \"system.gpu.process.1.memoryAllocated\": 58.92, \"system.gpu.process.1.temp\": 45.8, \"system.gpu.1.powerWatts\": 71.3, \"system.gpu.1.powerPercent\": 28.52, \"system.gpu.process.1.powerWatts\": 71.3, \"system.gpu.process.1.powerPercent\": 28.52, \"system.cpu\": 81.05, \"system.memory\": 41.1, \"system.disk\": 83.1, \"system.proc.memory.availableMB\": 75624.18, \"system.proc.memory.rssMB\": 3217.9, \"system.proc.memory.percent\": 2.51, \"system.proc.cpu.threads\": 49.0, \"system.network.sent\": 2039429679, \"system.network.recv\": 2001256168, \"_wandb\": true, \"_timestamp\": 1591006009, \"_runtime\": 42723}\\n']}, 'wandb-history.jsonl': {'offset': 1645, 'content': ['{\"train_loss\": 1.4576063291272136e-05, \"train_ent_seq_acc\": 0.6107106232741343, \"train_head_rel_acc\": 0.05235152911820692, \"train_tail_rel_acc\": 0.05217988474484452, \"learning_rate\": 7.755608725490416e-08, \"time\": 2508.2062005996704, \"_runtime\": 42736.975759506226, \"_timestamp\": 1591006022.974352, \"_step\": 1645}\\n']}, 'wandb-summary.json': {'offset': 0, 'content': ['{\"train_loss\": 2.6292428713125786, \"learning_rate\": 4.324831200938678e-05, \"_step\": 47, \"train_ent_seq_acc\": 0, \"_runtime\": 1054.6992835998535, \"train_head_rel_acc\": 0, \"train_tail_rel_acc\": 0, \"time\": 1032.7262411117554, \"_timestamp\": 1590965373.4304588, \"val_head_rel_acc\": 0.042955327740649585, \"val_prec\": 0.16680227827500677, \"val_tail_rel_acc\": 0.04467354085027557, \"val_f1\": 0.26588845651754445, \"val_recall\": 0.6549520766771071, \"val_ent_seq_acc\": 0.6340206357621655}\\n']}}}}\n",
      "Validating: 100%|██████████| 97/97 [01:05<00:00,  1.48it/s]\n"
     ]
    },
    {
     "name": "stdout",
     "output_type": "stream",
     "text": [
      "{'time': 65.42906427383423,\n",
      " 'val_ent_seq_acc': 0.6202749298098161,\n",
      " 'val_f1': 0.2961487383497547,\n",
      " 'val_head_rel_acc': 0.06357388505616139,\n",
      " 'val_prec': 0.18144833197720248,\n",
      " 'val_recall': 0.8050541516242581,\n",
      " 'val_tail_rel_acc': 0.06357388505616139}\n",
      "Current avf_f1: 0.2961487383497547, Best f1: 0.2961487383497547\n",
      "Epoch: 17/50, batch: 981/981, train_loss: 1.590171156738295e-05, t_ent_sample_acc: 0.5732246146866792, t_head_rel_sample_acc: 0.05793408250529224, t_tail_rel_sample_acc: 0.059802923909750186,lr: 0.000500800609406507, batch_time: 0.9456641674041748, total_time: 2772.3775458335876 ----------------"
     ]
    },
    {
     "name": "stderr",
     "output_type": "stream",
     "text": [
      "Validating: 100%|██████████| 97/97 [01:02<00:00,  1.55it/s]"
     ]
    },
    {
     "name": "stdout",
     "output_type": "stream",
     "text": [
      "{'time': 62.57852220535278,\n",
      " 'val_ent_seq_acc': 0.6219931436875432,\n",
      " 'val_f1': 0.4789961810796015,\n",
      " 'val_head_rel_acc': 0.13316151576558338,\n",
      " 'val_prec': 0.3572009764035511,\n",
      " 'val_recall': 0.7268211920528598,\n",
      " 'val_tail_rel_acc': 0.13487972872158915}\n",
      "Current avf_f1: 0.4789961810796015, Best f1: 0.4789961810796015\n"
     ]
    },
    {
     "name": "stderr",
     "output_type": "stream",
     "text": [
      "\n"
     ]
    },
    {
     "name": "stdout",
     "output_type": "stream",
     "text": [
      "Epoch: 18/50, batch: 865/981, train_loss: 1.130558852352117e-05, t_ent_sample_acc: 0.619653195986858, t_head_rel_sample_acc: 0.13082851984597355, t_tail_rel_sample_acc: 0.1265895987693974,lr: 8.748687154702673e-06, batch_time: 3.0294017791748047, total_time: 2366.555083990097 ------------------"
     ]
    },
    {
     "name": "stderr",
     "output_type": "stream",
     "text": [
      "requests_with_retry encountered retryable exception: ('Connection aborted.', RemoteDisconnected('Remote end closed connection without response')). args: ('https://api.wandb.ai/files/wycheng/webnlg_single/2w4et4vj/file_stream',), kwargs: {'json': {'files': {'output.log': {'offset': 174, 'content': ['2020-06-01T11:31:51.453527 Epoch: 18/50, batch: 788/981, train_loss: 1.140740793056152e-05, t_ent_sample_acc: 0.6188663447909246, t_head_rel_sample_acc: 0.1292301218975619, t_tail_rel_sample_acc: 0.12415397965212159,lr: 2.3930409020223086e-05, batch_time: 3.08392333984375, total_time: 2155.293935060501 -------------\\r']}, 'wandb-events.jsonl': {'offset': 1456, 'content': ['{\"system.gpu.0.gpu\": 0.0, \"system.gpu.0.memory\": 0.0, \"system.gpu.0.memoryAllocated\": 31.67, \"system.gpu.0.temp\": 39.0, \"system.gpu.process.0.gpu\": 0.0, \"system.gpu.process.0.memory\": 0.0, \"system.gpu.process.0.memoryAllocated\": 31.67, \"system.gpu.process.0.temp\": 39.0, \"system.gpu.0.powerWatts\": 38.68, \"system.gpu.0.powerPercent\": 15.47, \"system.gpu.process.0.powerWatts\": 38.68, \"system.gpu.process.0.powerPercent\": 15.47, \"system.gpu.1.gpu\": 99.33, \"system.gpu.1.memory\": 19.07, \"system.gpu.1.memoryAllocated\": 58.92, \"system.gpu.1.temp\": 46.87, \"system.gpu.process.1.gpu\": 99.33, \"system.gpu.process.1.memory\": 19.07, \"system.gpu.process.1.memoryAllocated\": 58.92, \"system.gpu.process.1.temp\": 46.87, \"system.gpu.1.powerWatts\": 70.91, \"system.gpu.1.powerPercent\": 28.37, \"system.gpu.process.1.powerWatts\": 70.91, \"system.gpu.process.1.powerPercent\": 28.37, \"system.cpu\": 63.41, \"system.memory\": 37.0, \"system.disk\": 83.1, \"system.proc.memory.availableMB\": 80920.55, \"system.proc.memory.rssMB\": 3217.9, \"system.proc.memory.percent\": 2.51, \"system.proc.cpu.threads\": 49.0, \"system.network.sent\": 2312487081, \"system.network.recv\": 2064923574, \"_wandb\": true, \"_timestamp\": 1591011101, \"_runtime\": 47816}\\n']}, 'wandb-history.jsonl': {'offset': 1826, 'content': ['{\"train_loss\": 1.1425190231387085e-05, \"train_ent_seq_acc\": 0.6192915231447367, \"train_head_rel_acc\": 0.12889458303949133, \"train_tail_rel_acc\": 0.12377294400055797, \"learning_rate\": 2.5673305063663387e-05, \"time\": 2134.205582857132, \"_runtime\": 47801.2548892498, \"_timestamp\": 1591011087.2534816, \"_step\": 1826}\\n']}, 'wandb-summary.json': {'offset': 0, 'content': ['{\"train_loss\": 2.6292428713125786, \"learning_rate\": 4.324831200938678e-05, \"_step\": 47, \"train_ent_seq_acc\": 0, \"_runtime\": 1054.6992835998535, \"train_head_rel_acc\": 0, \"train_tail_rel_acc\": 0, \"time\": 1032.7262411117554, \"_timestamp\": 1590965373.4304588, \"val_head_rel_acc\": 0.13316151576558338, \"val_prec\": 0.3572009764035511, \"val_tail_rel_acc\": 0.13487972872158915, \"val_f1\": 0.4789961810796015, \"val_recall\": 0.7268211920528598, \"val_ent_seq_acc\": 0.6219931436875432}\\n']}}}}\n"
     ]
    },
    {
     "name": "stdout",
     "output_type": "stream",
     "text": [
      "Epoch: 18/50, batch: 981/981, train_loss: 1.1131099118579459e-05, t_ent_sample_acc: 0.6228338599235397, t_head_rel_sample_acc: 0.1357458411553584, t_tail_rel_sample_acc: 0.1326877371038744,lr: 6.409758326331172e-10, batch_time: 0.9210188388824463, total_time: 2694.391699552536 -----------------"
     ]
    },
    {
     "name": "stderr",
     "output_type": "stream",
     "text": [
      "Validating: 100%|██████████| 97/97 [01:18<00:00,  1.23it/s]"
     ]
    },
    {
     "name": "stdout",
     "output_type": "stream",
     "text": [
      "{'time': 78.76416850090027,\n",
      " 'val_ent_seq_acc': 0.6529209838085568,\n",
      " 'val_f1': 0.549544724111352,\n",
      " 'val_head_rel_acc': 0.1958762934220206,\n",
      " 'val_prec': 0.41741253051257793,\n",
      " 'val_recall': 0.8040752351095918,\n",
      " 'val_tail_rel_acc': 0.1941580803123946}\n",
      "Current avf_f1: 0.549544724111352, Best f1: 0.549544724111352\n"
     ]
    },
    {
     "name": "stderr",
     "output_type": "stream",
     "text": [
      "\n"
     ]
    },
    {
     "name": "stdout",
     "output_type": "stream",
     "text": [
      "Epoch: 19/50, batch: 505/981, train_loss: 1.5132100409096209e-05, t_ent_sample_acc: 0.5511551285144126, t_head_rel_sample_acc: 0.07623762588689822, t_tail_rel_sample_acc: 0.07458746082121782,lr: 0.0008458288124187359, batch_time: 3.171355724334717, total_time: 1434.5346801280975 ---------------"
     ]
    },
    {
     "name": "stderr",
     "output_type": "stream",
     "text": [
      "requests_with_retry encountered retryable exception: 408 Client Error: Request Timeout for url: https://api.wandb.ai/files/wycheng/webnlg_single/2w4et4vj/file_stream. args: ('https://api.wandb.ai/files/wycheng/webnlg_single/2w4et4vj/file_stream',), kwargs: {'json': {'files': {'output.log': {'offset': 184, 'content': ['2020-06-01T12:05:03.536730 Epoch: 19/50, batch: 484/981, train_loss: 1.5347061382407228e-05, t_ent_sample_acc: 0.5475206739338468, t_head_rel_sample_acc: 0.07403581475546538, t_tail_rel_sample_acc: 0.07162534636406859,lr: 0.0008577736685484625, batch_time: 2.0537681579589844, total_time: 1374.8670127391815 -------------\\r']}, 'wandb-events.jsonl': {'offset': 1518, 'content': ['{\"system.gpu.0.gpu\": 0.0, \"system.gpu.0.memory\": 0.0, \"system.gpu.0.memoryAllocated\": 31.67, \"system.gpu.0.temp\": 39.0, \"system.gpu.process.0.gpu\": 0.0, \"system.gpu.process.0.memory\": 0.0, \"system.gpu.process.0.memoryAllocated\": 31.67, \"system.gpu.process.0.temp\": 39.0, \"system.gpu.0.powerWatts\": 38.59, \"system.gpu.0.powerPercent\": 15.44, \"system.gpu.process.0.powerWatts\": 38.59, \"system.gpu.process.0.powerPercent\": 15.44, \"system.gpu.1.gpu\": 99.27, \"system.gpu.1.memory\": 15.0, \"system.gpu.1.memoryAllocated\": 58.92, \"system.gpu.1.temp\": 46.73, \"system.gpu.process.1.gpu\": 99.27, \"system.gpu.process.1.memory\": 15.0, \"system.gpu.process.1.memoryAllocated\": 58.92, \"system.gpu.process.1.temp\": 46.73, \"system.gpu.1.powerWatts\": 74.96, \"system.gpu.1.powerPercent\": 29.99, \"system.gpu.process.1.powerWatts\": 74.96, \"system.gpu.process.1.powerPercent\": 29.99, \"system.cpu\": 63.53, \"system.memory\": 37.68, \"system.disk\": 83.1, \"system.proc.memory.availableMB\": 80061.37, \"system.proc.memory.rssMB\": 3220.9, \"system.proc.memory.percent\": 2.51, \"system.proc.cpu.threads\": 49.0, \"system.network.sent\": 2416877486, \"system.network.recv\": 2096977505, \"_wandb\": true, \"_timestamp\": 1591013087, \"_runtime\": 49801}\\n']}, 'wandb-history.jsonl': {'offset': 1896, 'content': ['{\"train_loss\": 1.5361860718628563e-05, \"train_ent_seq_acc\": 0.5471240598979462, \"train_head_rel_acc\": 0.07415107623703018, \"train_tail_rel_acc\": 0.07172557373924215, \"learning_rate\": 0.0008594473663064735, \"time\": 1367.8353822231293, \"_runtime\": 49808.48797369003, \"_timestamp\": 1591013094.486566, \"_step\": 1896}\\n']}, 'wandb-summary.json': {'offset': 0, 'content': ['{\"train_loss\": 2.6292428713125786, \"learning_rate\": 4.324831200938678e-05, \"_step\": 47, \"train_ent_seq_acc\": 0, \"_runtime\": 1054.6992835998535, \"train_head_rel_acc\": 0, \"train_tail_rel_acc\": 0, \"time\": 1032.7262411117554, \"_timestamp\": 1590965373.4304588, \"val_head_rel_acc\": 0.1958762934220206, \"val_prec\": 0.41741253051257793, \"val_tail_rel_acc\": 0.1941580803123946, \"val_f1\": 0.549544724111352, \"val_recall\": 0.8040752351095918, \"val_ent_seq_acc\": 0.6529209838085568}\\n']}}}}\n"
     ]
    },
    {
     "name": "stdout",
     "output_type": "stream",
     "text": [
      "Epoch: 19/50, batch: 981/981, train_loss: 1.3027037906262997e-05, t_ent_sample_acc: 0.5834182945747501, t_head_rel_sample_acc: 0.11331974474236628, t_tail_rel_sample_acc: 0.11196058739458992,lr: 0.000500800609406507, batch_time: 1.452570915222168, total_time: 2662.3712134361267 ---------------"
     ]
    },
    {
     "name": "stderr",
     "output_type": "stream",
     "text": [
      "Validating:  14%|█▍        | 14/97 [00:13<01:08,  1.21it/s]requests_with_retry encountered retryable exception: ('Connection aborted.', RemoteDisconnected('Remote end closed connection without response')). args: ('https://api.wandb.ai/files/wycheng/webnlg_single/2w4et4vj/file_stream',), kwargs: {'json': {'files': {'output.log': {'offset': 185, 'content': ['2020-06-01T12:23:12.740534 Epoch: 19/50, batch: 911/981, train_loss: 1.3269220068523822e-05, t_ent_sample_acc: 0.5793999403747847, t_head_rel_sample_acc: 0.10867179212140984, t_tail_rel_sample_acc: 0.10757409726421867,lr: 0.0005567209247472357, batch_time: 3.0268280506134033, total_time: 2463.068875312805 -------------\\r']}, 'wandb-events.jsonl': {'offset': 1552, 'content': ['{\"system.gpu.0.gpu\": 0.0, \"system.gpu.0.memory\": 0.0, \"system.gpu.0.memoryAllocated\": 31.67, \"system.gpu.0.temp\": 39.0, \"system.gpu.process.0.gpu\": 0.0, \"system.gpu.process.0.memory\": 0.0, \"system.gpu.process.0.memoryAllocated\": 31.67, \"system.gpu.process.0.temp\": 39.0, \"system.gpu.0.powerWatts\": 38.68, \"system.gpu.0.powerPercent\": 15.47, \"system.gpu.process.0.powerWatts\": 38.68, \"system.gpu.process.0.powerPercent\": 15.47, \"system.gpu.1.gpu\": 99.33, \"system.gpu.1.memory\": 18.2, \"system.gpu.1.memoryAllocated\": 58.92, \"system.gpu.1.temp\": 46.73, \"system.gpu.process.1.gpu\": 99.33, \"system.gpu.process.1.memory\": 18.2, \"system.gpu.process.1.memoryAllocated\": 58.92, \"system.gpu.process.1.temp\": 46.73, \"system.gpu.1.powerWatts\": 77.59, \"system.gpu.1.powerPercent\": 31.03, \"system.gpu.process.1.powerWatts\": 77.59, \"system.gpu.process.1.powerPercent\": 31.03, \"system.cpu\": 63.65, \"system.memory\": 36.99, \"system.disk\": 83.1, \"system.proc.memory.availableMB\": 80920.15, \"system.proc.memory.rssMB\": 3216.84, \"system.proc.memory.percent\": 2.51, \"system.proc.cpu.threads\": 49.0, \"system.network.sent\": 2482549017, \"system.network.recv\": 2123414004, \"_wandb\": true, \"_timestamp\": 1591014176, \"_runtime\": 50891}\\n']}, 'wandb-history.jsonl': {'offset': 1939, 'content': ['{\"train_loss\": 1.3269220068523822e-05, \"train_ent_seq_acc\": 0.5793999403747847, \"train_head_rel_acc\": 0.10867179212140984, \"train_tail_rel_acc\": 0.10757409726421867, \"learning_rate\": 0.0005567209247472357, \"time\": 2463.071669101715, \"_runtime\": 50903.7242603302, \"_timestamp\": 1591014189.7228527, \"_step\": 1939}\\n']}, 'wandb-summary.json': {'offset': 0, 'content': ['{\"train_loss\": 2.6292428713125786, \"learning_rate\": 4.324831200938678e-05, \"_step\": 47, \"train_ent_seq_acc\": 0, \"_runtime\": 1054.6992835998535, \"train_head_rel_acc\": 0, \"train_tail_rel_acc\": 0, \"time\": 1032.7262411117554, \"_timestamp\": 1590965373.4304588, \"val_head_rel_acc\": 0.1958762934220206, \"val_prec\": 0.41741253051257793, \"val_tail_rel_acc\": 0.1941580803123946, \"val_f1\": 0.549544724111352, \"val_recall\": 0.8040752351095918, \"val_ent_seq_acc\": 0.6529209838085568}\\n']}}}}\n",
      "Validating: 100%|██████████| 97/97 [01:20<00:00,  1.21it/s]\n"
     ]
    },
    {
     "name": "stdout",
     "output_type": "stream",
     "text": [
      "{'time': 80.07452726364136,\n",
      " 'val_ent_seq_acc': 0.6357388479500702,\n",
      " 'val_f1': 0.6420966420465916,\n",
      " 'val_head_rel_acc': 0.25171821894719426,\n",
      " 'val_prec': 0.6379170056956356,\n",
      " 'val_recall': 0.6463314097278939,\n",
      " 'val_tail_rel_acc': 0.24828179288156255}\n",
      "Current avf_f1: 0.6420966420465916, Best f1: 0.6420966420465916\n",
      "Epoch: 20/50, batch: 631/981, train_loss: 8.55115417824085e-06, t_ent_sample_acc: 0.645800332944669, t_head_rel_sample_acc: 0.2150026458993011, t_tail_rel_sample_acc: 0.21368199105119176,lr: 7.691194967200099e-05, batch_time: 2.9376981258392334, total_time: 1790.3107388019562 -----------------"
     ]
    },
    {
     "name": "stderr",
     "output_type": "stream",
     "text": [
      "requests_with_retry encountered retryable exception: ('Connection aborted.', RemoteDisconnected('Remote end closed connection without response')). args: ('https://api.wandb.ai/files/wycheng/webnlg_single/2w4et4vj/file_stream',), kwargs: {'json': {'files': {'output.log': {'offset': 195, 'content': ['2020-06-01T12:54:09.797235 Epoch: 20/50, batch: 554/981, train_loss: 8.645250599229159e-06, t_ent_sample_acc: 0.6419976091933595, t_head_rel_sample_acc: 0.2099879706809667, t_tail_rel_sample_acc: 0.20908544390102587,lr: 0.00011289233941844785, batch_time: 2.855889320373535, total_time: 1577.9740104675293 -------------\\r']}, 'wandb-events.jsonl': {'offset': 1610, 'content': ['{\"system.gpu.0.gpu\": 0.0, \"system.gpu.0.memory\": 0.0, \"system.gpu.0.memoryAllocated\": 31.67, \"system.gpu.0.temp\": 39.0, \"system.gpu.process.0.gpu\": 0.0, \"system.gpu.process.0.memory\": 0.0, \"system.gpu.process.0.memoryAllocated\": 31.67, \"system.gpu.process.0.temp\": 39.0, \"system.gpu.0.powerWatts\": 38.57, \"system.gpu.0.powerPercent\": 15.43, \"system.gpu.process.0.powerWatts\": 38.57, \"system.gpu.process.0.powerPercent\": 15.43, \"system.gpu.1.gpu\": 99.4, \"system.gpu.1.memory\": 17.93, \"system.gpu.1.memoryAllocated\": 58.92, \"system.gpu.1.temp\": 46.93, \"system.gpu.process.1.gpu\": 99.4, \"system.gpu.process.1.memory\": 17.93, \"system.gpu.process.1.memoryAllocated\": 58.92, \"system.gpu.process.1.temp\": 46.93, \"system.gpu.1.powerWatts\": 70.85, \"system.gpu.1.powerPercent\": 28.34, \"system.gpu.process.1.powerWatts\": 70.85, \"system.gpu.process.1.powerPercent\": 28.34, \"system.cpu\": 63.69, \"system.memory\": 37.9, \"system.disk\": 83.1, \"system.proc.memory.availableMB\": 79695.89, \"system.proc.memory.rssMB\": 3220.88, \"system.proc.memory.percent\": 2.51, \"system.proc.cpu.threads\": 49.0, \"system.network.sent\": 2580585637, \"system.network.recv\": 2172349295, \"_wandb\": true, \"_timestamp\": 1591016034, \"_runtime\": 52748}\\n']}, 'wandb-history.jsonl': {'offset': 2003, 'content': ['{\"train_loss\": 8.658460614739197e-06, \"train_ent_seq_acc\": 0.6412583340479977, \"train_head_rel_acc\": 0.2096188791542434, \"train_tail_rel_acc\": 0.2087114384353918, \"learning_rate\": 0.00011441697113216893, \"time\": 1568.9649600982666, \"_runtime\": 52752.3913898468, \"_timestamp\": 1591016038.3899822, \"_step\": 2003}\\n']}, 'wandb-summary.json': {'offset': 0, 'content': ['{\"train_loss\": 2.6292428713125786, \"learning_rate\": 4.324831200938678e-05, \"_step\": 47, \"train_ent_seq_acc\": 0, \"_runtime\": 1054.6992835998535, \"train_head_rel_acc\": 0, \"train_tail_rel_acc\": 0, \"time\": 1032.7262411117554, \"_timestamp\": 1590965373.4304588, \"val_head_rel_acc\": 0.25171821894719426, \"val_prec\": 0.6379170056956356, \"val_tail_rel_acc\": 0.24828179288156255, \"val_f1\": 0.6420966420465916, \"val_recall\": 0.6463314097278939, \"val_ent_seq_acc\": 0.6357388479500702}\\n']}}}}\n"
     ]
    },
    {
     "name": "stdout",
     "output_type": "stream",
     "text": [
      "Epoch: 20/50, batch: 980/981, train_loss: 8.34426320883889e-06, t_ent_sample_acc: 0.6534013772041214, t_head_rel_sample_acc: 0.2270408212378317, t_tail_rel_sample_acc: 0.22602041315059274,lr: 2.5639016871248365e-09, batch_time: 2.951669692993164, total_time: 2777.3143944740295 ----------------"
     ]
    },
    {
     "name": "stderr",
     "output_type": "stream",
     "text": [
      "\r",
      "Validating:   0%|          | 0/97 [00:00<?, ?it/s]"
     ]
    },
    {
     "name": "stdout",
     "output_type": "stream",
     "text": [
      "\r",
      "Epoch: 20/50, batch: 981/981, train_loss: 8.343699143726228e-06, t_ent_sample_acc: 0.6532450047502946, t_head_rel_sample_acc: 0.22680938309181964, t_tail_rel_sample_acc: 0.22579001517592343,lr: 6.409758326331172e-10, batch_time: 1.4291002750396729, total_time: 2778.778292655945 -------------"
     ]
    },
    {
     "name": "stderr",
     "output_type": "stream",
     "text": [
      "Validating: 100%|██████████| 97/97 [01:06<00:00,  1.47it/s]\n"
     ]
    },
    {
     "name": "stdout",
     "output_type": "stream",
     "text": [
      "{'time': 66.01268863677979,\n",
      " 'val_ent_seq_acc': 0.6829897080807342,\n",
      " 'val_f1': 0.6929274842834756,\n",
      " 'val_head_rel_acc': 0.34793815124280675,\n",
      " 'val_prec': 0.6297803091944157,\n",
      " 'val_recall': 0.7701492537312666,\n",
      " 'val_tail_rel_acc': 0.3290378068833007}\n",
      "Current avf_f1: 0.6929274842834756, Best f1: 0.6929274842834756\n",
      "Epoch: 21/50, batch: 305/981, train_loss: 1.3231296951162818e-05, t_ent_sample_acc: 0.580327883704764, t_head_rel_sample_acc: 0.12295082294550098, t_tail_rel_sample_acc: 0.12677595976923334,lr: 0.0009419240173986226, batch_time: 2.7729990482330322, total_time: 868.5096707344055 ---------------"
     ]
    },
    {
     "name": "stderr",
     "output_type": "stream",
     "text": [
      "requests_with_retry encountered retryable exception: ('Connection aborted.', OSError(\"(104, 'ECONNRESET')\")). args: ('https://api.wandb.ai/files/wycheng/webnlg_single/2w4et4vj/file_stream',), kwargs: {'json': {'files': {'output.log': {'offset': 205, 'content': ['2020-06-01T13:27:44.685050 Epoch: 21/50, batch: 262/981, train_loss: 1.2913321347001912e-05, t_ent_sample_acc: 0.5820610830915793, t_head_rel_sample_acc: 0.13167939278233143, t_tail_rel_sample_acc: 0.13422392223400015,lr: 0.0009569679003823542, batch_time: 2.9285004138946533, total_time: 747.1467778682709 -------------\\r']}, 'wandb-events.jsonl': {'offset': 1673, 'content': ['{\"system.gpu.0.gpu\": 0.0, \"system.gpu.0.memory\": 0.0, \"system.gpu.0.memoryAllocated\": 31.67, \"system.gpu.0.temp\": 39.0, \"system.gpu.process.0.gpu\": 0.0, \"system.gpu.process.0.memory\": 0.0, \"system.gpu.process.0.memoryAllocated\": 31.67, \"system.gpu.process.0.temp\": 39.0, \"system.gpu.0.powerWatts\": 38.64, \"system.gpu.0.powerPercent\": 15.46, \"system.gpu.process.0.powerWatts\": 38.64, \"system.gpu.process.0.powerPercent\": 15.46, \"system.gpu.1.gpu\": 99.6, \"system.gpu.1.memory\": 14.2, \"system.gpu.1.memoryAllocated\": 58.92, \"system.gpu.1.temp\": 46.07, \"system.gpu.process.1.gpu\": 99.6, \"system.gpu.process.1.memory\": 14.2, \"system.gpu.process.1.memoryAllocated\": 58.92, \"system.gpu.process.1.temp\": 46.07, \"system.gpu.1.powerWatts\": 72.16, \"system.gpu.1.powerPercent\": 28.87, \"system.gpu.process.1.powerWatts\": 72.16, \"system.gpu.process.1.powerPercent\": 28.87, \"system.cpu\": 68.45, \"system.memory\": 38.59, \"system.disk\": 83.1, \"system.proc.memory.availableMB\": 78885.66, \"system.proc.memory.rssMB\": 3217.21, \"system.proc.memory.percent\": 2.51, \"system.proc.cpu.threads\": 49.0, \"system.network.sent\": 2690163634, \"system.network.recv\": 2242981897, \"_wandb\": true, \"_timestamp\": 1591018051, \"_runtime\": 54765}\\n']}, 'wandb-history.jsonl': {'offset': 2074, 'content': ['{\"train_loss\": 1.291128745540992e-05, \"train_ent_seq_acc\": 0.5823754933716236, \"train_head_rel_acc\": 0.13218391152862388, \"train_tail_rel_acc\": 0.13473819013527982, \"learning_rate\": 0.0009572922489313143, \"time\": 744.183087348938, \"_runtime\": 54772.68336224556, \"_timestamp\": 1591018058.6819546, \"_step\": 2074}\\n']}, 'wandb-summary.json': {'offset': 0, 'content': ['{\"train_loss\": 2.6292428713125786, \"learning_rate\": 4.324831200938678e-05, \"_step\": 47, \"train_ent_seq_acc\": 0, \"_runtime\": 1054.6992835998535, \"train_head_rel_acc\": 0, \"train_tail_rel_acc\": 0, \"time\": 1032.7262411117554, \"_timestamp\": 1590965373.4304588, \"val_head_rel_acc\": 0.34793815124280675, \"val_prec\": 0.6297803091944157, \"val_tail_rel_acc\": 0.3290378068833007, \"val_f1\": 0.6929274842834756, \"val_recall\": 0.7701492537312666, \"val_ent_seq_acc\": 0.6829897080807342}\\n']}}}}\n"
     ]
    },
    {
     "name": "stdout",
     "output_type": "stream",
     "text": [
      "Epoch: 21/50, batch: 461/981, train_loss: 1.1996811291636083e-05, t_ent_sample_acc: 0.59942156273605, t_head_rel_sample_acc: 0.14099783451981243, t_tail_rel_sample_acc: 0.1456977623533013,lr: 0.0008703915422323985, batch_time: 1.9895858764648438, total_time: 1307.0373861789703 ----------------"
     ]
    },
    {
     "name": "stderr",
     "output_type": "stream",
     "text": [
      "requests_with_retry encountered retryable exception: 408 Client Error: Request Timeout for url: https://api.wandb.ai/files/wycheng/webnlg_single/2w4et4vj/file_stream. args: ('https://api.wandb.ai/files/wycheng/webnlg_single/2w4et4vj/file_stream',), kwargs: {'json': {'files': {'output.log': {'offset': 206, 'content': ['2020-06-01T13:36:02.567549 Epoch: 21/50, batch: 439/981, train_loss: 1.2162563579438188e-05, t_ent_sample_acc: 0.5983295522138035, t_head_rel_sample_acc: 0.13591496188168103, t_tail_rel_sample_acc: 0.14123007210484942,lr: 0.0008819910152028872, batch_time: 3.076282501220703, total_time: 1245.001119852066 -------------\\r']}, 'wandb-history.jsonl': {'offset': 2091, 'content': ['{\"train_loss\": 1.2227758973889535e-05, \"train_ent_seq_acc\": 0.5974478111051351, \"train_head_rel_acc\": 0.13534416451946488, \"train_tail_rel_acc\": 0.1411446286948817, \"learning_rate\": 0.0008860922297765599, \"time\": 1220.7413876056671, \"_runtime\": 55249.24163269997, \"_timestamp\": 1591018535.240225, \"_step\": 2091}\\n']}, 'wandb-summary.json': {'offset': 0, 'content': ['{\"train_loss\": 2.6292428713125786, \"learning_rate\": 4.324831200938678e-05, \"_step\": 47, \"train_ent_seq_acc\": 0, \"_runtime\": 1054.6992835998535, \"train_head_rel_acc\": 0, \"train_tail_rel_acc\": 0, \"time\": 1032.7262411117554, \"_timestamp\": 1590965373.4304588, \"val_head_rel_acc\": 0.34793815124280675, \"val_prec\": 0.6297803091944157, \"val_tail_rel_acc\": 0.3290378068833007, \"val_f1\": 0.6929274842834756, \"val_recall\": 0.7701492537312666, \"val_ent_seq_acc\": 0.6829897080807342}\\n']}}}}\n"
     ]
    },
    {
     "name": "stdout",
     "output_type": "stream",
     "text": [
      "Epoch: 21/50, batch: 980/981, train_loss: 1.0594500347405283e-05, t_ent_sample_acc: 0.622789132351778, t_head_rel_sample_acc: 0.1690476233101621, t_tail_rel_sample_acc: 0.17057823557026533,lr: 0.0005016012167603286, batch_time: 2.415224313735962, total_time: 2667.322118997574 -----------------"
     ]
    },
    {
     "name": "stderr",
     "output_type": "stream",
     "text": [
      "\r",
      "Validating:   0%|          | 0/97 [00:00<?, ?it/s]"
     ]
    },
    {
     "name": "stdout",
     "output_type": "stream",
     "text": [
      "\r",
      "Epoch: 21/50, batch: 981/981, train_loss: 1.0586330994978955e-05, t_ent_sample_acc: 0.6231736490364347, t_head_rel_sample_acc: 0.16887530157386224, t_tail_rel_sample_acc: 0.1704043535768196,lr: 0.000500800609406507, batch_time: 1.211759328842163, total_time: 2668.568452358246 -------------"
     ]
    },
    {
     "name": "stderr",
     "output_type": "stream",
     "text": [
      "Validating: 100%|██████████| 97/97 [01:11<00:00,  1.35it/s]\n"
     ]
    },
    {
     "name": "stdout",
     "output_type": "stream",
     "text": [
      "{'time': 71.9177839756012,\n",
      " 'val_ent_seq_acc': 0.7036082646281449,\n",
      " 'val_f1': 0.7212967131427601,\n",
      " 'val_head_rel_acc': 0.32302406123004007,\n",
      " 'val_prec': 0.6517493897477094,\n",
      " 'val_recall': 0.8074596774192734,\n",
      " 'val_tail_rel_acc': 0.319587635625269}\n",
      "Current avf_f1: 0.7212967131427601, Best f1: 0.7212967131427601\n",
      "Epoch: 22/50, batch: 981/981, train_loss: 6.272242306514809e-06, t_ent_sample_acc: 0.718314664899756, t_head_rel_sample_acc: 0.31889229350619847, t_tail_rel_sample_acc: 0.31396534811101556,lr: 6.409758326331172e-10, batch_time: 1.3453576564788818, total_time: 2779.4664232730865 ----------------"
     ]
    },
    {
     "name": "stderr",
     "output_type": "stream",
     "text": [
      "Validating: 100%|██████████| 97/97 [01:19<00:00,  1.22it/s]\n"
     ]
    },
    {
     "name": "stdout",
     "output_type": "stream",
     "text": [
      "{'time': 79.23456358909607,\n",
      " 'val_ent_seq_acc': 0.7173539716558358,\n",
      " 'val_f1': 0.7733887733387332,\n",
      " 'val_head_rel_acc': 0.4072165017582707,\n",
      " 'val_prec': 0.7567127746134453,\n",
      " 'val_recall': 0.790816326530545,\n",
      " 'val_tail_rel_acc': 0.4140893540431544}\n",
      "Current avf_f1: 0.7733887733387332, Best f1: 0.7733887733387332\n",
      "Epoch: 23/50, batch: 516/981, train_loss: 9.887276856829004e-06, t_ent_sample_acc: 0.6469638410002686, t_head_rel_sample_acc: 0.17990956504562106, t_tail_rel_sample_acc: 0.18572351876501889,lr: 0.0008394150701385248, batch_time: 3.14919114112854, total_time: 1375.4810934066772 ----------------"
     ]
    },
    {
     "name": "stderr",
     "output_type": "stream",
     "text": [
      "requests_with_retry encountered retryable exception: ('Connection aborted.', RemoteDisconnected('Remote end closed connection without response')). args: ('https://api.wandb.ai/files/wycheng/webnlg_single/2w4et4vj/file_stream',), kwargs: {'json': {'files': {'output.log': {'offset': 225, 'content': ['2020-06-01T15:08:04.427272 Epoch: 23/50, batch: 447/981, train_loss: 9.73571263123568e-06, t_ent_sample_acc: 0.647278167257373, t_head_rel_sample_acc: 0.18269948244628223, t_tail_rel_sample_acc: 0.1890380360202768,lr: 0.0008778271206386134, batch_time: 2.218101739883423, total_time: 1166.8901913166046 -------------\\r']}, 'wandb-events.jsonl': {'offset': 1861, 'content': ['{\"system.gpu.0.gpu\": 0.0, \"system.gpu.0.memory\": 0.0, \"system.gpu.0.memoryAllocated\": 31.67, \"system.gpu.0.temp\": 39.0, \"system.gpu.process.0.gpu\": 0.0, \"system.gpu.process.0.memory\": 0.0, \"system.gpu.process.0.memoryAllocated\": 31.67, \"system.gpu.process.0.temp\": 39.0, \"system.gpu.0.powerWatts\": 38.62, \"system.gpu.0.powerPercent\": 15.45, \"system.gpu.process.0.powerWatts\": 38.62, \"system.gpu.process.0.powerPercent\": 15.45, \"system.gpu.1.gpu\": 99.53, \"system.gpu.1.memory\": 17.53, \"system.gpu.1.memoryAllocated\": 58.92, \"system.gpu.1.temp\": 47.0, \"system.gpu.process.1.gpu\": 99.53, \"system.gpu.process.1.memory\": 17.53, \"system.gpu.process.1.memoryAllocated\": 58.92, \"system.gpu.process.1.temp\": 47.0, \"system.gpu.1.powerWatts\": 67.84, \"system.gpu.1.powerPercent\": 27.14, \"system.gpu.process.1.powerWatts\": 67.84, \"system.gpu.process.1.powerPercent\": 27.14, \"system.cpu\": 63.74, \"system.memory\": 42.19, \"system.disk\": 83.1, \"system.proc.memory.availableMB\": 74262.77, \"system.proc.memory.rssMB\": 3220.95, \"system.proc.memory.percent\": 2.51, \"system.proc.cpu.threads\": 49.0, \"system.network.sent\": 3022694450, \"system.network.recv\": 2468319899, \"_wandb\": true, \"_timestamp\": 1591024073, \"_runtime\": 60788}\\n']}, 'wandb-history.jsonl': {'offset': 2292, 'content': ['{\"train_loss\": 9.69072853132644e-06, \"train_ent_seq_acc\": 0.6473923069414368, \"train_head_rel_acc\": 0.18329554488734592, \"train_tail_rel_acc\": 0.18972033728547646, \"learning_rate\": 0.000880955891296652, \"time\": 1150.452532529831, \"_runtime\": 60778.84271645546, \"_timestamp\": 1591024064.8413088, \"_step\": 2292}\\n']}, 'wandb-summary.json': {'offset': 0, 'content': ['{\"train_loss\": 2.6292428713125786, \"learning_rate\": 4.324831200938678e-05, \"_step\": 47, \"train_ent_seq_acc\": 0, \"_runtime\": 1054.6992835998535, \"train_head_rel_acc\": 0, \"train_tail_rel_acc\": 0, \"time\": 1032.7262411117554, \"_timestamp\": 1590965373.4304588, \"val_head_rel_acc\": 0.4072165017582707, \"val_prec\": 0.7567127746134453, \"val_tail_rel_acc\": 0.4140893540431544, \"val_f1\": 0.7733887733387332, \"val_recall\": 0.790816326530545, \"val_ent_seq_acc\": 0.7173539716558358}\\n']}}}}\n"
     ]
    },
    {
     "name": "stdout",
     "output_type": "stream",
     "text": [
      "Epoch: 23/50, batch: 808/981, train_loss: 8.926457196048207e-06, t_ent_sample_acc: 0.6608911064628622, t_head_rel_sample_acc: 0.21699670469849416, t_tail_rel_sample_acc: 0.22174092911478907,lr: 0.0006375108114673424, batch_time: 2.6507489681243896, total_time: 2159.0561690330505 -------------"
     ]
    },
    {
     "name": "stderr",
     "output_type": "stream",
     "text": [
      "requests_with_retry encountered retryable exception: 408 Client Error: Request Timeout for url: https://api.wandb.ai/files/wycheng/webnlg_single/2w4et4vj/file_stream. args: ('https://api.wandb.ai/files/wycheng/webnlg_single/2w4et4vj/file_stream',), kwargs: {'json': {'files': {'output.log': {'offset': 226, 'content': ['2020-06-01T15:23:36.058724 Epoch: 23/50, batch: 783/981, train_loss: 8.991190117065327e-06, t_ent_sample_acc: 0.6600681314409007, t_head_rel_sample_acc: 0.21306939615295917, t_tail_rel_sample_acc: 0.2181779530046848,lr: 0.0006566389274910309, batch_time: 2.312624454498291, total_time: 2099.249093770981 -------------\\r']}, 'wandb-events.jsonl': {'offset': 1890, 'content': ['{\"system.gpu.0.gpu\": 0.0, \"system.gpu.0.memory\": 0.0, \"system.gpu.0.memoryAllocated\": 40.43, \"system.gpu.0.temp\": 39.0, \"system.gpu.process.0.gpu\": 0.0, \"system.gpu.process.0.memory\": 0.0, \"system.gpu.process.0.memoryAllocated\": 40.43, \"system.gpu.process.0.temp\": 39.0, \"system.gpu.0.powerWatts\": 38.67, \"system.gpu.0.powerPercent\": 15.47, \"system.gpu.process.0.powerWatts\": 38.67, \"system.gpu.process.0.powerPercent\": 15.47, \"system.gpu.1.gpu\": 99.33, \"system.gpu.1.memory\": 12.13, \"system.gpu.1.memoryAllocated\": 58.92, \"system.gpu.1.temp\": 45.73, \"system.gpu.process.1.gpu\": 99.33, \"system.gpu.process.1.memory\": 12.13, \"system.gpu.process.1.memoryAllocated\": 58.92, \"system.gpu.process.1.temp\": 45.73, \"system.gpu.1.powerWatts\": 67.98, \"system.gpu.1.powerPercent\": 27.19, \"system.gpu.process.1.powerWatts\": 67.98, \"system.gpu.process.1.powerPercent\": 27.19, \"system.cpu\": 73.35, \"system.memory\": 40.5, \"system.disk\": 83.1, \"system.proc.memory.availableMB\": 76429.57, \"system.proc.memory.rssMB\": 3219.96, \"system.proc.memory.percent\": 2.51, \"system.proc.cpu.threads\": 49.0, \"system.network.sent\": 3067909162, \"system.network.recv\": 2506091478, \"_wandb\": true, \"_timestamp\": 1591025006, \"_runtime\": 61720}\\n']}, 'wandb-history.jsonl': {'offset': 2325, 'content': ['{\"train_loss\": 8.993317191281756e-06, \"train_ent_seq_acc\": 0.6599654302909371, \"train_head_rel_acc\": 0.21249460070436257, \"train_tail_rel_acc\": 0.21768266814923937, \"learning_rate\": 0.0006657331504247439, \"time\": 2069.867605447769, \"_runtime\": 61698.25776267052, \"_timestamp\": 1591024984.256355, \"_step\": 2325}\\n', '{\"train_loss\": 9.000146728788967e-06, \"train_ent_seq_acc\": 0.6598378320853017, \"train_head_rel_acc\": 0.21318822515300845, \"train_tail_rel_acc\": 0.21809646248741124, \"learning_rate\": 0.0006581587382055491, \"time\": 2094.443671941757, \"_runtime\": 61722.833796978, \"_timestamp\": 1591025008.8323894, \"_step\": 2326}\\n']}, 'wandb-summary.json': {'offset': 0, 'content': ['{\"train_loss\": 2.6292428713125786, \"learning_rate\": 4.324831200938678e-05, \"_step\": 47, \"train_ent_seq_acc\": 0, \"_runtime\": 1054.6992835998535, \"train_head_rel_acc\": 0, \"train_tail_rel_acc\": 0, \"time\": 1032.7262411117554, \"_timestamp\": 1590965373.4304588, \"val_head_rel_acc\": 0.4072165017582707, \"val_prec\": 0.7567127746134453, \"val_tail_rel_acc\": 0.4140893540431544, \"val_f1\": 0.7733887733387332, \"val_recall\": 0.790816326530545, \"val_ent_seq_acc\": 0.7173539716558358}\\n']}}}}\n"
     ]
    },
    {
     "name": "stdout",
     "output_type": "stream",
     "text": [
      "Epoch: 23/50, batch: 981/981, train_loss: 8.54486269467576e-06, t_ent_sample_acc: 0.6690452095504686, t_head_rel_sample_acc: 0.2351342221678336, t_tail_rel_sample_acc: 0.2375127474770755,lr: 0.000500800609406507, batch_time: 1.289499282836914, total_time: 2580.276881456375 -------------------"
     ]
    },
    {
     "name": "stderr",
     "output_type": "stream",
     "text": [
      "Validating: 100%|██████████| 97/97 [01:04<00:00,  1.50it/s]\n"
     ]
    },
    {
     "name": "stdout",
     "output_type": "stream",
     "text": [
      "{'time': 64.4647421836853,\n",
      " 'val_ent_seq_acc': 0.712199330329895,\n",
      " 'val_f1': 0.7547018807022539,\n",
      " 'val_head_rel_acc': 0.3591065360713251,\n",
      " 'val_prec': 0.7672904800650311,\n",
      " 'val_recall': 0.7425196850393115,\n",
      " 'val_tail_rel_acc': 0.3745704540579589}\n",
      "Current avf_f1: 0.7547018807022539, Best f1: 0.7733887733387332\n",
      "Epoch: 24/50, batch: 425/981, train_loss: 5.38493978076397e-06, t_ent_sample_acc: 0.7274509994422689, t_head_rel_sample_acc: 0.3737254974070717, t_tail_rel_sample_acc: 0.3701960854319965,lr: 0.00018602470190609671, batch_time: 3.2740142345428467, total_time: 1227.0891292095184 -----------------"
     ]
    },
    {
     "name": "stderr",
     "output_type": "stream",
     "text": [
      "requests_with_retry encountered retryable exception: ('Connection aborted.', RemoteDisconnected('Remote end closed connection without response')). args: ('https://api.wandb.ai/files/wycheng/webnlg_single/2w4et4vj/file_stream',), kwargs: {'json': {'files': {'output.log': {'offset': 236, 'content': ['2020-06-01T15:49:40.582194 Epoch: 24/50, batch: 353/981, train_loss: 5.438036308377024e-06, t_ent_sample_acc: 0.7304060623345227, t_head_rel_sample_acc: 0.3701605357377455, t_tail_rel_sample_acc: 0.3663833871610442,lr: 0.00023287119772373905, batch_time: 2.3651013374328613, total_time: 1018.1215300559998 -------------\\r']}, 'wandb-events.jsonl': {'offset': 1938, 'content': ['{\"system.gpu.0.gpu\": 0.0, \"system.gpu.0.memory\": 0.0, \"system.gpu.0.memoryAllocated\": 40.43, \"system.gpu.0.temp\": 39.0, \"system.gpu.process.0.gpu\": 0.0, \"system.gpu.process.0.memory\": 0.0, \"system.gpu.process.0.memoryAllocated\": 40.43, \"system.gpu.process.0.temp\": 39.0, \"system.gpu.0.powerWatts\": 38.62, \"system.gpu.0.powerPercent\": 15.45, \"system.gpu.process.0.powerWatts\": 38.62, \"system.gpu.process.0.powerPercent\": 15.45, \"system.gpu.1.gpu\": 98.87, \"system.gpu.1.memory\": 12.27, \"system.gpu.1.memoryAllocated\": 58.92, \"system.gpu.1.temp\": 46.6, \"system.gpu.process.1.gpu\": 98.87, \"system.gpu.process.1.memory\": 12.27, \"system.gpu.process.1.memoryAllocated\": 58.92, \"system.gpu.process.1.temp\": 46.6, \"system.gpu.1.powerWatts\": 76.38, \"system.gpu.1.powerPercent\": 30.55, \"system.gpu.process.1.powerWatts\": 76.38, \"system.gpu.process.1.powerPercent\": 30.55, \"system.cpu\": 63.6, \"system.memory\": 41.2, \"system.disk\": 83.1, \"system.proc.memory.availableMB\": 75521.97, \"system.proc.memory.rssMB\": 3220.69, \"system.proc.memory.percent\": 2.51, \"system.proc.cpu.threads\": 49.0, \"system.network.sent\": 3127247250, \"system.network.recv\": 2572743880, \"_wandb\": true, \"_timestamp\": 1591026548, \"_runtime\": 63263}\\n']}, 'wandb-history.jsonl': {'offset': 2383, 'content': ['{\"train_loss\": 5.45064317605095e-06, \"train_ent_seq_acc\": 0.7288699145415569, \"train_head_rel_acc\": 0.3703703772902828, \"train_tail_rel_acc\": 0.3660968727196044, \"learning_rate\": 0.00023422611081523216, \"time\": 1013.3703236579895, \"_runtime\": 63286.752660512924, \"_timestamp\": 1591026572.751253, \"_step\": 2383}\\n']}, 'wandb-summary.json': {'offset': 0, 'content': ['{\"train_loss\": 2.6292428713125786, \"learning_rate\": 4.324831200938678e-05, \"_step\": 47, \"train_ent_seq_acc\": 0, \"_runtime\": 1054.6992835998535, \"train_head_rel_acc\": 0, \"train_tail_rel_acc\": 0, \"time\": 1032.7262411117554, \"_timestamp\": 1590965373.4304588, \"val_head_rel_acc\": 0.3591065360713251, \"val_prec\": 0.7672904800650311, \"val_tail_rel_acc\": 0.3745704540579589, \"val_f1\": 0.7547018807022539, \"val_recall\": 0.7425196850393115, \"val_ent_seq_acc\": 0.712199330329895}\\n']}}}}\n"
     ]
    },
    {
     "name": "stdout",
     "output_type": "stream",
     "text": [
      "Epoch: 24/50, batch: 682/981, train_loss: 5.271426680491114e-06, t_ent_sample_acc: 0.7304496772128466, t_head_rel_sample_acc: 0.3844086098487426, t_tail_rel_sample_acc: 0.3829423338830296,lr: 5.658703905325174e-05, batch_time: 3.1486706733703613, total_time: 1974.964429616928 ------------------"
     ]
    },
    {
     "name": "stderr",
     "output_type": "stream",
     "text": [
      "requests_with_retry encountered retryable exception: 408 Client Error: Request Timeout for url: https://api.wandb.ai/files/wycheng/webnlg_single/2w4et4vj/file_stream. args: ('https://api.wandb.ai/files/wycheng/webnlg_single/2w4et4vj/file_stream',), kwargs: {'json': {'files': {'output.log': {'offset': 237, 'content': ['2020-06-01T16:04:37.268462 Epoch: 24/50, batch: 663/981, train_loss: 5.28766242114161e-06, t_ent_sample_acc: 0.7300151022850658, t_head_rel_sample_acc: 0.3821015661838008, t_tail_rel_sample_acc: 0.3803418876089122,lr: 6.382047270233738e-05, batch_time: 3.1649386882781982, total_time: 1914.6098518371582 -------------\\r']}, 'wandb-events.jsonl': {'offset': 1966, 'content': ['{\"system.gpu.0.gpu\": 0.0, \"system.gpu.0.memory\": 0.0, \"system.gpu.0.memoryAllocated\": 40.43, \"system.gpu.0.temp\": 39.0, \"system.gpu.process.0.gpu\": 0.0, \"system.gpu.process.0.memory\": 0.0, \"system.gpu.process.0.memoryAllocated\": 40.43, \"system.gpu.process.0.temp\": 39.0, \"system.gpu.0.powerWatts\": 38.68, \"system.gpu.0.powerPercent\": 15.47, \"system.gpu.process.0.powerWatts\": 38.68, \"system.gpu.process.0.powerPercent\": 15.47, \"system.gpu.1.gpu\": 99.53, \"system.gpu.1.memory\": 15.4, \"system.gpu.1.memoryAllocated\": 58.92, \"system.gpu.1.temp\": 46.8, \"system.gpu.process.1.gpu\": 99.53, \"system.gpu.process.1.memory\": 15.4, \"system.gpu.process.1.memoryAllocated\": 58.92, \"system.gpu.process.1.temp\": 46.8, \"system.gpu.1.powerWatts\": 71.95, \"system.gpu.1.powerPercent\": 28.78, \"system.gpu.process.1.powerWatts\": 71.95, \"system.gpu.process.1.powerPercent\": 28.78, \"system.cpu\": 66.03, \"system.memory\": 41.81, \"system.disk\": 83.1, \"system.proc.memory.availableMB\": 74754.16, \"system.proc.memory.rssMB\": 3221.5, \"system.proc.memory.percent\": 2.51, \"system.proc.cpu.threads\": 49.0, \"system.network.sent\": 3137415374, \"system.network.recv\": 2607215061, \"_wandb\": true, \"_timestamp\": 1591027446, \"_runtime\": 64160}\\n']}, 'wandb-history.jsonl': {'offset': 2413, 'content': ['{\"train_loss\": 5.29392024559589e-06, \"train_ent_seq_acc\": 0.7296467167990548, \"train_head_rel_acc\": 0.3819764541911273, \"train_tail_rel_acc\": 0.3801843391448122, \"learning_rate\": 6.859738825058859e-05, \"time\": 1885.649427652359, \"_runtime\": 64159.03183174133, \"_timestamp\": 1591027445.030424, \"_step\": 2413}\\n', '{\"train_loss\": 5.28736340189252e-06, \"train_ent_seq_acc\": 0.729954633517994, \"train_head_rel_acc\": 0.38224912512590953, \"train_tail_rel_acc\": 0.3804841222588125, \"learning_rate\": 6.46054893094179e-05, \"time\": 1908.26495718956, \"_runtime\": 64181.64730286598, \"_timestamp\": 1591027467.6458952, \"_step\": 2414}\\n']}, 'wandb-summary.json': {'offset': 0, 'content': ['{\"train_loss\": 2.6292428713125786, \"learning_rate\": 4.324831200938678e-05, \"_step\": 47, \"train_ent_seq_acc\": 0, \"_runtime\": 1054.6992835998535, \"train_head_rel_acc\": 0, \"train_tail_rel_acc\": 0, \"time\": 1032.7262411117554, \"_timestamp\": 1590965373.4304588, \"val_head_rel_acc\": 0.3591065360713251, \"val_prec\": 0.7672904800650311, \"val_tail_rel_acc\": 0.3745704540579589, \"val_f1\": 0.7547018807022539, \"val_recall\": 0.7425196850393115, \"val_ent_seq_acc\": 0.712199330329895}\\n']}}}}\n"
     ]
    },
    {
     "name": "stdout",
     "output_type": "stream",
     "text": [
      "Epoch: 24/50, batch: 981/981, train_loss: 5.016570748659459e-06, t_ent_sample_acc: 0.73836223510731, t_head_rel_sample_acc: 0.4023105755342013, t_tail_rel_sample_acc: 0.4009514178978194,lr: 6.409758326331172e-10, batch_time: 1.1667487621307373, total_time: 2802.278261899948 --------------------"
     ]
    },
    {
     "name": "stderr",
     "output_type": "stream",
     "text": [
      "Validating: 100%|██████████| 97/97 [00:51<00:00,  1.89it/s]"
     ]
    },
    {
     "name": "stdout",
     "output_type": "stream",
     "text": [
      "{'time': 51.28088450431824,\n",
      " 'val_ent_seq_acc': 0.7362543172443036,\n",
      " 'val_f1': 0.8160965794268014,\n",
      " 'val_head_rel_acc': 0.45017182949892026,\n",
      " 'val_prec': 0.825061025223692,\n",
      " 'val_recall': 0.8073248407642669,\n",
      " 'val_tail_rel_acc': 0.4587628953542906}\n",
      "Current avf_f1: 0.8160965794268014, Best f1: 0.8160965794268014\n"
     ]
    },
    {
     "name": "stderr",
     "output_type": "stream",
     "text": [
      "\n"
     ]
    },
    {
     "name": "stdout",
     "output_type": "stream",
     "text": [
      "Epoch: 25/50, batch: 596/981, train_loss: 8.00038925078279e-06, t_ent_sample_acc: 0.6926733969191977, t_head_rel_sample_acc: 0.2732102967198663, t_tail_rel_sample_acc: 0.2732102964448449,lr: 0.0007897319427893388, batch_time: 1.8562812805175781, total_time: 1252.2970128059387 -----------------"
     ]
    }
   ],
   "source": [
    "epoch_num = config.epochs\n",
    "\n",
    "# load the last best state (if any)\n",
    "model_last_state_path = get_last_state_path(model_state_dict_dir, \"model_state_dict\")\n",
    "if model_last_state_path is not None:\n",
    "    rel_extractor.load_state_dict(torch.load(model_last_state_path))\n",
    "    print(\"------------model state {} loaded ----------------\".format(model_last_state_path.split(\"/\")[-1]))\n",
    "    \n",
    "scheduler_last_state_path = get_last_state_path(schedule_state_dict_dir, \"scheduler_state_dict\")  \n",
    "if scheduler_last_state_path is not None:\n",
    "    scheduler.load_state_dict(torch.load(scheduler_last_state_path))\n",
    "    print(\"------------scheduler state {} loaded ----------------\".format(scheduler_last_state_path.split(\"/\")[-1]))\n",
    "\n",
    "train_n_valid(train_dataloader, dev_dataloader, optimizer, scheduler, epoch_num)"
   ]
  },
  {
   "cell_type": "markdown",
   "metadata": {},
   "source": [
    "# Prediction"
   ]
  },
  {
   "cell_type": "code",
   "execution_count": null,
   "metadata": {},
   "outputs": [],
   "source": [
    "model_state_path = get_last_state_path(model_state_dict_dir)\n",
    "# model_state_path = get_state_path(model_state_dict_dir, 16)\n",
    "rel_extractor.load_state_dict(torch.load(model_state_path))\n",
    "rel_extractor.eval()\n",
    "print(\"------------model state {} loaded ----------------\".format(model_state_path.split(\"/\")[-1]))"
   ]
  },
  {
   "cell_type": "code",
   "execution_count": null,
   "metadata": {},
   "outputs": [],
   "source": [
    "def filter_duplicates(rel_list):\n",
    "    rel_memory_set = set()\n",
    "    filtered_rel_list = []\n",
    "    for rel in rel_list:\n",
    "        rel_memory = \"{}\\u2E80\\{}\\u2E80\\{}\\u2E80\\{}\\u2E80{}\".format(*rel.values())\n",
    "        if rel_memory not in rel_memory_set:\n",
    "            filtered_rel_list.append(rel)\n",
    "            rel_memory_set.add(rel_memory)\n",
    "    return filtered_rel_list"
   ]
  },
  {
   "cell_type": "code",
   "execution_count": null,
   "metadata": {},
   "outputs": [],
   "source": [
    "def predict(short_test_data):\n",
    "    '''\n",
    "    short_test_data: seq_len <= max_seq_len\n",
    "    '''\n",
    "    indexed_test_data = get_indexed_train_valid_data(short_test_data)\n",
    "    test_dataloader = DataLoader(MyDataset(indexed_test_data), \n",
    "                              batch_size = batch_size, \n",
    "                              shuffle = False, \n",
    "                              num_workers = 0,\n",
    "                              drop_last = False,\n",
    "                              collate_fn = generate_pred_batch,\n",
    "                             )\n",
    "    short_pred_sample_list = []\n",
    "    for batch_test_data in tqdm(test_dataloader, desc = \"Predicting\"):\n",
    "        text_id_list, text_list, batch_input_ids, \\\n",
    "        batch_attention_mask, batch_token_type_ids, \\\n",
    "        offset_map_list = batch_test_data\n",
    "\n",
    "        batch_input_ids, \\\n",
    "        batch_attention_mask, \\\n",
    "        batch_token_type_ids = (batch_input_ids.to(device), \n",
    "                                  batch_attention_mask.to(device), \n",
    "                                  batch_token_type_ids.to(device)\n",
    "                                 )\n",
    "        with torch.no_grad():\n",
    "            batch_ent_shaking_outputs, \\\n",
    "            batch_head_rel_shaking_outputs, \\\n",
    "            batch_tail_rel_shaking_outputs = rel_extractor(batch_input_ids, \n",
    "                                                              batch_attention_mask, \n",
    "                                                              batch_token_type_ids, \n",
    "                                                             )\n",
    "\n",
    "        batch_ent_shaking_tag, \\\n",
    "        batch_head_rel_shaking_tag, \\\n",
    "        batch_tail_rel_shaking_tag = torch.argmax(batch_ent_shaking_outputs, dim = -1), \\\n",
    "                                     torch.argmax(batch_head_rel_shaking_outputs, dim = -1), \\\n",
    "                                     torch.argmax(batch_tail_rel_shaking_outputs, dim = -1)\n",
    "\n",
    "        for ind in range(len(text_list)):\n",
    "            text, offset_map = text_list[ind], offset_map_list[ind]\n",
    "            ent_shaking_tag, \\\n",
    "            head_rel_shaking_tag, \\\n",
    "            tail_rel_shaking_tag = batch_ent_shaking_tag[ind], \\\n",
    "                                    batch_head_rel_shaking_tag[ind], \\\n",
    "                                    batch_tail_rel_shaking_tag[ind]\n",
    "            rel_list = handshaking_tagger.decode_rel_fr_shaking_tag(text, \n",
    "                                                  ent_shaking_tag, \n",
    "                                                  head_rel_shaking_tag, \n",
    "                                                  tail_rel_shaking_tag, \n",
    "                                                  offset_map)\n",
    "            short_pred_sample_list.append({\n",
    "                \"text\": text,\n",
    "                \"id\": text_id_list[ind],\n",
    "                \"relation_list\": rel_list,\n",
    "            })\n",
    "    # merge\n",
    "    text_id2rel_list = {}\n",
    "    for sample in short_pred_sample_list:\n",
    "        text_id = sample[\"id\"]\n",
    "        if text_id not in text_id2rel_list:\n",
    "            text_id2rel_list[text_id] = sample[\"relation_list\"]\n",
    "        else:\n",
    "            text_id2rel_list[text_id].extend(sample[\"relation_list\"])\n",
    "\n",
    "    text_id2text = {sample[\"id\"]:sample[\"text\"] for sample in test_data}\n",
    "    merged_pred_sample_list = []\n",
    "    for text_id, rel_list in text_id2rel_list.items():\n",
    "        merged_pred_sample_list.append({\n",
    "            \"id\": text_id,\n",
    "            \"text\": text_id2text[text_id],\n",
    "            \"relation_list\": filter_duplicates(rel_list),\n",
    "        })\n",
    "    return merged_pred_sample_list"
   ]
  },
  {
   "cell_type": "code",
   "execution_count": null,
   "metadata": {},
   "outputs": [],
   "source": [
    "pred_sample_list = predict(short_test_data)"
   ]
  },
  {
   "cell_type": "code",
   "execution_count": null,
   "metadata": {},
   "outputs": [],
   "source": [
    "len([s for s in pred_sample_list if len(s[\"relation_list\"]) > 0])"
   ]
  },
  {
   "cell_type": "code",
   "execution_count": null,
   "metadata": {},
   "outputs": [],
   "source": [
    "text_id2gold_n_pred = {}\n",
    "for sample in test_data:\n",
    "    text_id = sample[\"id\"]\n",
    "    text_id2gold_n_pred[text_id] = {\n",
    "        \"gold_relation_list\": sample[\"relation_list\"],\n",
    "    }\n",
    "def get_test_prf(pred_sample_list):\n",
    "    for sample in pred_sample_list:\n",
    "        text_id = sample[\"id\"]\n",
    "        text_id2gold_n_pred[text_id][\"pred_relation_list\"] = sample[\"relation_list\"]\n",
    "\n",
    "    correct_num, pred_num, gold_num = 0, 0, 0\n",
    "    for gold_n_pred in text_id2gold_n_pred.values():\n",
    "        gold_rel_list = gold_n_pred[\"gold_relation_list\"]\n",
    "        pred_rel_list = gold_n_pred[\"pred_relation_list\"] if \"pred_relation_list\" in gold_n_pred else []\n",
    "        gold_rel_set = set([\"{}\\u2E80{}\\u2E80{}\".format(rel[\"subject\"], rel[\"predicate\"], rel[\"object\"]) for rel in gold_rel_list])\n",
    "        pred_rel_set = set([\"{}\\u2E80{}\\u2E80{}\".format(rel[\"subject\"], rel[\"predicate\"], rel[\"object\"]) for rel in pred_rel_list])\n",
    "\n",
    "        for rel_str in pred_rel_set:\n",
    "            if rel_str in gold_rel_set:\n",
    "                correct_num += 1\n",
    "\n",
    "        pred_num += len(gold_rel_set)\n",
    "        gold_num += len(pred_rel_set)\n",
    "\n",
    "    prf = get_scores(correct_num, pred_num, gold_num)\n",
    "#     print(prf)\n",
    "    return prf"
   ]
  },
  {
   "cell_type": "code",
   "execution_count": null,
   "metadata": {},
   "outputs": [],
   "source": [
    "# model state 16: (0.9112068965517129, 0.9034188034187924, 0.9072961372890456)\n",
    "# model state 17: (0.9060344827586095, 0.9096191889218483, 0.9078232970872052)\n",
    "# 18: (0.9178571428571316, 0.904600072824361, 0.9111803899493801)\n",
    "get_test_prf(pred_sample_list)"
   ]
  }
 ],
 "metadata": {
  "kernelspec": {
   "display_name": "Python 3",
   "language": "python",
   "name": "python3"
  },
  "language_info": {
   "codemirror_mode": {
    "name": "ipython",
    "version": 3
   },
   "file_extension": ".py",
   "mimetype": "text/x-python",
   "name": "python",
   "nbconvert_exporter": "python",
   "pygments_lexer": "ipython3",
   "version": "3.7.4"
  }
 },
 "nbformat": 4,
 "nbformat_minor": 2
}
