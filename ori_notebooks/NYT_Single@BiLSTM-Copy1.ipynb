{
 "cells": [
  {
   "cell_type": "code",
   "execution_count": 1,
   "metadata": {},
   "outputs": [],
   "source": [
    "import json\n",
    "import os\n",
    "from tqdm import tqdm\n",
    "import re\n",
    "from IPython.core.debugger import set_trace\n",
    "from pprint import pprint\n",
    "import unicodedata\n",
    "from transformers import AutoModel, BasicTokenizer, BertTokenizerFast\n",
    "import copy\n",
    "import torch\n",
    "import torch.nn as nn\n",
    "import torch.nn.functional as F\n",
    "from torch.utils.data import DataLoader, Dataset\n",
    "import torch.optim as optim\n",
    "import glob\n",
    "import time\n",
    "from layers import LayerNorm\n",
    "import wandb\n",
    "from utils import Preprocessor, HandshakingTaggingScheme\n",
    "import logging\n",
    "from glove import Glove\n",
    "import numpy as np"
   ]
  },
  {
   "cell_type": "code",
   "execution_count": 2,
   "metadata": {},
   "outputs": [],
   "source": [
    "logger = logging.getLogger()\n",
    "logger.setLevel(logging.WARNING)"
   ]
  },
  {
   "cell_type": "code",
   "execution_count": 3,
   "metadata": {},
   "outputs": [
    {
     "name": "stdout",
     "output_type": "stream",
     "text": [
      "device cuda:0 will be used\n"
     ]
    }
   ],
   "source": [
    "os.environ[\"CUDA_VISIBLE_DEVICES\"] = \"1\"\n",
    "torch.cuda.is_available()\n",
    "device = torch.device(\"cuda:0\" if torch.cuda.is_available() else \"cpu\")\n",
    "print(\"device {} will be used\".format(device))"
   ]
  },
  {
   "cell_type": "code",
   "execution_count": 9,
   "metadata": {},
   "outputs": [],
   "source": [
    "pretrained_model_home = \"/data/yubowen/experiments/relextr/pretrained_model\"\n",
    "project_root = \"/data/yubowen/experiments/relextr\"\n",
    "data_home = os.path.join(project_root, \"data\")\n",
    "\n",
    "experiment_dir = os.path.join(project_root, \"exp\")\n",
    "experiment_name = \"nyt_single\"\n",
    "    \n",
    "nyt_data_dir = os.path.join(data_home, experiment_name)\n",
    "nyt_train_data_path = os.path.join(nyt_data_dir, \"train_triples.json\")\n",
    "nyt_valid_data_path = os.path.join(nyt_data_dir, \"valid_triples.json\")\n",
    "nyt_test_data_path_dict = {\n",
    "    \"test_triples\": os.path.join(nyt_data_dir, \"test_triples.json\"),\n",
    "    \"test_triples_epo\": os.path.join(nyt_data_dir, \"test_split_by_type\", \"test_triples_epo.json\"),\n",
    "    \"test_triples_seo\": os.path.join(nyt_data_dir, \"test_split_by_type\", \"test_triples_seo.json\"),\n",
    "    \"test_triples_normal\": os.path.join(nyt_data_dir, \"test_split_by_type\", \"test_triples_normal.json\"),\n",
    "    \"test_triples_1\": os.path.join(nyt_data_dir, \"test_split_by_num\", \"test_triples_1.json\"),\n",
    "    \"test_triples_2\": os.path.join(nyt_data_dir, \"test_split_by_num\", \"test_triples_2.json\"),\n",
    "    \"test_triples_3\": os.path.join(nyt_data_dir, \"test_split_by_num\", \"test_triples_3.json\"),\n",
    "    \"test_triples_4\": os.path.join(nyt_data_dir, \"test_split_by_num\", \"test_triples_4.json\"),\n",
    "    \"test_triples_5\": os.path.join(nyt_data_dir, \"test_split_by_num\", \"test_triples_5.json\"),\n",
    "}"
   ]
  },
  {
   "cell_type": "code",
   "execution_count": 5,
   "metadata": {},
   "outputs": [
    {
     "data": {
      "text/html": [
       "\n",
       "                Logging results to <a href=\"https://wandb.com\" target=\"_blank\">Weights & Biases</a> <a href=\"https://docs.wandb.com/integrations/jupyter.html\" target=\"_blank\">(Documentation)</a>.<br/>\n",
       "                Project page: <a href=\"https://app.wandb.ai/wycheng/nyt_single\" target=\"_blank\">https://app.wandb.ai/wycheng/nyt_single</a><br/>\n",
       "                Run page: <a href=\"https://app.wandb.ai/wycheng/nyt_single/runs/33ahq1zb\" target=\"_blank\">https://app.wandb.ai/wycheng/nyt_single/runs/33ahq1zb</a><br/>\n",
       "            "
      ],
      "text/plain": [
       "<IPython.core.display.HTML object>"
      ]
     },
     "metadata": {},
     "output_type": "display_data"
    },
    {
     "name": "stderr",
     "output_type": "stream",
     "text": [
      "Failed to query for notebook name, you can set it manually with the WANDB_NOTEBOOK_NAME environment variable\n"
     ]
    },
    {
     "data": {
      "text/plain": [
       "W&B Run: https://app.wandb.ai/wycheng/nyt_single/runs/33ahq1zb"
      ]
     },
     "execution_count": 5,
     "metadata": {},
     "output_type": "execute_result"
    }
   ],
   "source": [
    "wandb.init(project = experiment_name, name = \"BiLSTM\")"
   ]
  },
  {
   "cell_type": "code",
   "execution_count": 6,
   "metadata": {},
   "outputs": [
    {
     "name": "stderr",
     "output_type": "stream",
     "text": [
      "Failed to query for notebook name, you can set it manually with the WANDB_NOTEBOOK_NAME environment variable\n"
     ]
    }
   ],
   "source": [
    "# hyperparameters\n",
    "config = wandb.config          # Initialize config\n",
    "config.batch_size = 6          # input batch size for training (default: 64)\n",
    "config.test_batch_size = 100    # input batch size for testing (default: 1000)\n",
    "config.epochs = 50             # number of epochs to train (default: 10)\n",
    "config.lr = 1e-3               # learning rate (default: 0.01)\n",
    "config.seed = 2333               # random seed (default: 42)\n",
    "config.log_interval = 10  \n",
    "config.max_seq_len = 100\n",
    "config.sliding_len = 20\n",
    "config.loss_weight_recover_steps = 10000\n",
    "\n",
    "config.word_embedding_dim = 100\n",
    "config.rnn_hidden_size = 256\n",
    "config.dropout = 0.1\n",
    "\n",
    "config.word_embedding_path = os.path.join(data_home, \"pretrained_word_embeddings\", \"glove_100_nyt.emb\")\n",
    "\n",
    "torch.manual_seed(config.seed) # pytorch random seed\n",
    "torch.backends.cudnn.deterministic = True\n",
    "\n",
    "model_state_dict_dir = wandb.run.dir\n",
    "schedule_state_dict_dir = wandb.run.dir"
   ]
  },
  {
   "cell_type": "markdown",
   "metadata": {},
   "source": [
    "# Load Data"
   ]
  },
  {
   "cell_type": "code",
   "execution_count": 10,
   "metadata": {},
   "outputs": [],
   "source": [
    "nyt_train_data = json.load(open(nyt_train_data_path, \"r\", encoding = \"utf-8\"))\n",
    "nyt_valid_data = json.load(open(nyt_valid_data_path, \"r\", encoding = \"utf-8\"))\n",
    "nyt_test_data_dict = {}\n",
    "for file_name, path in nyt_test_data_path_dict.items():\n",
    "    nyt_test_data_dict[file_name] = json.load(open(path, \"r\", encoding = \"utf-8\"))"
   ]
  },
  {
   "cell_type": "markdown",
   "metadata": {},
   "source": [
    "# Preprocess"
   ]
  },
  {
   "cell_type": "code",
   "execution_count": 11,
   "metadata": {},
   "outputs": [],
   "source": [
    "# miss the last token\n",
    "# def get_tok2char_span_map(text):\n",
    "#     res = []\n",
    "#     left = 0\n",
    "#     sign = False\n",
    "#     for i,c in enumerate(text):\n",
    "#         if text[i].isalnum():\n",
    "#             if sign == False:\n",
    "#                 left = i\n",
    "#                 sign = True\n",
    "#         else:\n",
    "#             if text[i] == ' ':\n",
    "#                 if sign == True:\n",
    "#                     res.append((left, i))\n",
    "#                     sign = False\n",
    "#             else:\n",
    "#                 if sign == True:\n",
    "#                     res.append((left, i))  \n",
    "#                     sign = False\n",
    "#                 res.append((i, i+1))\n",
    "#     return res"
   ]
  },
  {
   "cell_type": "code",
   "execution_count": 12,
   "metadata": {},
   "outputs": [],
   "source": [
    "def get_tok2char_span_map(text):\n",
    "    tokens = text.split(\" \")\n",
    "    tok2char_span = []\n",
    "    char_num = 0\n",
    "    for tok in tokens:\n",
    "        tok2char_span.append((char_num, char_num + len(tok)))\n",
    "        char_num += len(tok) + 1 # +1: whitespace\n",
    "    return tok2char_span"
   ]
  },
  {
   "cell_type": "code",
   "execution_count": 13,
   "metadata": {},
   "outputs": [],
   "source": [
    "def tran2normal_samples(data):\n",
    "    normal_sample_list = []\n",
    "    for sample in tqdm(data, desc = \"Transforming data format\"):\n",
    "        text = sample[\"text\"]\n",
    "        spo_list = sample[\"triple_list\"]\n",
    "        normal_sample = {\n",
    "            \"text\": text,\n",
    "            \"id\": sample[\"id\"],\n",
    "        }\n",
    "        normal_rel_list = []\n",
    "        for rel in spo_list:\n",
    "            normal_rel_list.append({\n",
    "                \"subject\": rel[0],\n",
    "                \"predicate\": rel[1],\n",
    "                \"object\": rel[2],\n",
    "            })\n",
    "        normal_sample[\"relation_list\"] = normal_rel_list\n",
    "        normal_sample_list.append(normal_sample)\n",
    "    return normal_sample_list"
   ]
  },
  {
   "cell_type": "code",
   "execution_count": 14,
   "metadata": {
    "scrolled": true
   },
   "outputs": [
    {
     "name": "stderr",
     "output_type": "stream",
     "text": [
      "56195it [00:00, 526419.16it/s]\n",
      "Transforming data format: 100%|██████████| 56195/56195 [00:00<00:00, 69666.28it/s] \n",
      "Adding token level spans: 100%|██████████| 56195/56195 [00:16<00:00, 3344.33it/s]\n",
      "4999it [00:00, 468031.11it/s]\n",
      "Transforming data format: 100%|██████████| 4999/4999 [00:00<00:00, 144721.02it/s]\n",
      "Adding token level spans: 100%|██████████| 4999/4999 [00:01<00:00, 3538.75it/s]\n",
      "5000it [00:00, 487075.44it/s]\n",
      "Transforming data format: 100%|██████████| 5000/5000 [00:00<00:00, 154476.09it/s]\n",
      "Adding token level spans: 100%|██████████| 5000/5000 [00:01<00:00, 3552.82it/s]\n",
      "978it [00:00, 359385.78it/s]\n",
      "Transforming data format: 100%|██████████| 978/978 [00:00<00:00, 104873.68it/s]\n",
      "Adding token level spans: 100%|██████████| 978/978 [00:00<00:00, 3600.68it/s]\n",
      "1297it [00:00, 389993.00it/s]\n",
      "Transforming data format: 100%|██████████| 1297/1297 [00:00<00:00, 88573.58it/s]\n",
      "Adding token level spans: 100%|██████████| 1297/1297 [00:00<00:00, 3350.38it/s]\n",
      "3266it [00:00, 418674.07it/s]\n",
      "Transforming data format: 100%|██████████| 3266/3266 [00:00<00:00, 178186.18it/s]\n",
      "Adding token level spans: 100%|██████████| 3266/3266 [00:00<00:00, 3726.04it/s]\n",
      "3244it [00:00, 413252.00it/s]\n",
      "Transforming data format: 100%|██████████| 3244/3244 [00:00<00:00, 174484.77it/s]\n",
      "Adding token level spans: 100%|██████████| 3244/3244 [00:00<00:00, 3841.25it/s]\n",
      "1045it [00:00, 396476.50it/s]\n",
      "Transforming data format: 100%|██████████| 1045/1045 [00:00<00:00, 101886.32it/s]\n",
      "Adding token level spans: 100%|██████████| 1045/1045 [00:00<00:00, 3641.16it/s]\n",
      "312it [00:00, 322877.58it/s]\n",
      "Transforming data format: 100%|██████████| 312/312 [00:00<00:00, 101609.04it/s]\n",
      "Adding token level spans: 100%|██████████| 312/312 [00:00<00:00, 3234.67it/s]\n",
      "291it [00:00, 293894.16it/s]\n",
      "Transforming data format: 100%|██████████| 291/291 [00:00<00:00, 85990.03it/s]\n",
      "Adding token level spans: 100%|██████████| 291/291 [00:00<00:00, 3593.22it/s]\n",
      "108it [00:00, 187261.20it/s]\n",
      "Transforming data format: 100%|██████████| 108/108 [00:00<00:00, 56327.39it/s]\n",
      "Adding token level spans: 100%|██████████| 108/108 [00:00<00:00, 2307.10it/s]\n"
     ]
    }
   ],
   "source": [
    "preprocessor = Preprocessor(transform_func = tran2normal_samples, \n",
    "                            get_tok2char_span_map_func = get_tok2char_span_map)\n",
    "\n",
    "train_data = preprocessor.get_normal_dataset(nyt_train_data, add_id = True, dataset_name = \"train\")\n",
    "valid_data = preprocessor.get_normal_dataset(nyt_valid_data, add_id = True, dataset_name = \"valid\")\n",
    "test_data_dict = {}\n",
    "for file_name, data in nyt_test_data_dict.items():\n",
    "    preprocessed_data = preprocessor.get_normal_dataset(data, add_id = True, dataset_name = \"file_name\")\n",
    "    test_data_dict[file_name] = preprocessed_data"
   ]
  },
  {
   "cell_type": "markdown",
   "metadata": {},
   "source": [
    "# Split"
   ]
  },
  {
   "cell_type": "code",
   "execution_count": 15,
   "metadata": {},
   "outputs": [],
   "source": [
    "def split_into_short_samples(sample_list, sliding_len = 50):\n",
    "    new_sample_list = []\n",
    "    for sample in tqdm(sample_list, desc = \"Splitting\"):\n",
    "        text_id = sample[\"id\"]\n",
    "        text = sample[\"text\"]\n",
    "        \n",
    "        offset_map = get_tok2char_span_map(text)\n",
    "        tokens = [text[a:b] for a,b in offset_map]\n",
    "        \n",
    "        # sliding on token level\n",
    "        split_sample_list = []\n",
    "        for start_ind in range(0, len(tokens), sliding_len):\n",
    "            end_ind = start_ind + config.max_seq_len\n",
    "#             while \"##\" in tokens[end_ind]:\n",
    "#                 end_ind += 1\n",
    "            char_span_list = offset_map[start_ind:end_ind]\n",
    "            char_level_span = (char_span_list[0][0], char_span_list[-1][1])\n",
    "            sub_text = text[char_level_span[0]:char_level_span[1]]\n",
    "\n",
    "            new_sample = {\n",
    "                \"id\": text_id,\n",
    "                \"text\": sub_text,\n",
    "                \"relation_list\": []\n",
    "            }\n",
    "            for rel in sample[\"relation_list\"]:\n",
    "                subj_span = rel[\"subj_span\"]\n",
    "                obj_span = rel[\"obj_span\"]\n",
    "                if subj_span[0] >= start_ind and subj_span[1] <= end_ind \\\n",
    "                    and obj_span[0] >= start_ind and obj_span[1] <= end_ind:\n",
    "                    new_rel = copy.deepcopy(rel)\n",
    "                    new_rel[\"subj_span\"] = (subj_span[0] - start_ind, subj_span[1] - start_ind)\n",
    "                    new_rel[\"obj_span\"] = (obj_span[0] - start_ind, obj_span[1] - start_ind)\n",
    "                    new_sample[\"relation_list\"].append(new_rel)\n",
    "#                 else:\n",
    "#                     set_trace()\n",
    "            if len(new_sample[\"relation_list\"]) > 0:\n",
    "                split_sample_list.append(new_sample)\n",
    "#         if len(split_sample_list) == 0:\n",
    "#             set_trace()\n",
    "        new_sample_list.extend(split_sample_list)\n",
    "    return new_sample_list"
   ]
  },
  {
   "cell_type": "code",
   "execution_count": 16,
   "metadata": {},
   "outputs": [
    {
     "name": "stderr",
     "output_type": "stream",
     "text": [
      "Splitting: 100%|██████████| 56195/56195 [00:08<00:00, 6752.46it/s]\n",
      "Splitting: 100%|██████████| 4999/4999 [00:01<00:00, 4512.29it/s]\n"
     ]
    }
   ],
   "source": [
    "short_train_data = split_into_short_samples(train_data, sliding_len = config.sliding_len)\n",
    "short_valid_data = split_into_short_samples(valid_data, sliding_len = config.sliding_len)"
   ]
  },
  {
   "cell_type": "code",
   "execution_count": 17,
   "metadata": {},
   "outputs": [
    {
     "name": "stderr",
     "output_type": "stream",
     "text": [
      "Splitting: 100%|██████████| 5000/5000 [00:00<00:00, 7786.09it/s]\n",
      "Splitting: 100%|██████████| 978/978 [00:00<00:00, 2500.67it/s]\n",
      "Splitting: 100%|██████████| 1297/1297 [00:00<00:00, 2753.30it/s]\n",
      "Splitting: 100%|██████████| 3266/3266 [00:00<00:00, 9862.15it/s] \n",
      "Splitting: 100%|██████████| 3244/3244 [00:00<00:00, 9727.61it/s]\n",
      "Splitting: 100%|██████████| 1045/1045 [00:00<00:00, 6995.80it/s]\n",
      "Splitting: 100%|██████████| 312/312 [00:00<00:00, 4922.24it/s]\n",
      "Splitting: 100%|██████████| 291/291 [00:00<00:00, 4375.99it/s]\n",
      "Splitting: 100%|██████████| 108/108 [00:00<00:00, 2577.17it/s]\n"
     ]
    }
   ],
   "source": [
    "short_test_data_dict = {}\n",
    "for file_name, data in test_data_dict.items():\n",
    "    short_test_data = split_into_short_samples(data, sliding_len = config.sliding_len)\n",
    "    short_test_data_dict[file_name] = short_test_data"
   ]
  },
  {
   "cell_type": "code",
   "execution_count": 18,
   "metadata": {},
   "outputs": [
    {
     "name": "stdout",
     "output_type": "stream",
     "text": [
      "train: 75129 valid: 6724\n",
      "test_triples: 6677\n",
      "test_triples_epo: 1294\n",
      "test_triples_seo: 1851\n",
      "test_triples_normal: 4283\n",
      "test_triples_1: 4243\n",
      "test_triples_2: 1415\n",
      "test_triples_3: 448\n",
      "test_triples_4: 387\n",
      "test_triples_5: 184\n"
     ]
    }
   ],
   "source": [
    "print(\"train: {}\".format(len(short_train_data)), \"valid: {}\".format(len(short_valid_data)))\n",
    "for fil_name, data in short_test_data_dict.items():\n",
    "        print(\"{}: {}\".format(fil_name, len(data)))"
   ]
  },
  {
   "cell_type": "markdown",
   "metadata": {},
   "source": [
    "# Tagging"
   ]
  },
  {
   "cell_type": "code",
   "execution_count": 19,
   "metadata": {},
   "outputs": [
    {
     "name": "stderr",
     "output_type": "stream",
     "text": [
      "100%|██████████| 81976/81976 [00:05<00:00, 14907.94it/s]\n"
     ]
    }
   ],
   "source": [
    "from collections import defaultdict\n",
    "rel_set = set()\n",
    "word2num = defaultdict(int)\n",
    "word2idx = {'<PAD>':0, '<UNK>':1}\n",
    "idx2word = {}\n",
    "idx = 2\n",
    "\n",
    "all_data = train_data + valid_data \n",
    "for data in list(short_test_data_dict.values()):\n",
    "    all_data.extend(data)\n",
    "    \n",
    "for sample in tqdm(all_data):\n",
    "    for rel in sample[\"relation_list\"]:\n",
    "        rel_set.add(rel[\"predicate\"])\n",
    "    text = sample['text']\n",
    "    span_list = get_tok2char_span_map(text)\n",
    "    for span in span_list:\n",
    "        word = text[span[0]:span[1]]\n",
    "        word2num[word] += 1\n",
    "\n",
    "#过滤出现次数小于3的word\n",
    "for k,v in word2num.items():\n",
    "    if v < 3:\n",
    "        continue\n",
    "    word2idx[k] = idx\n",
    "    idx += 1\n",
    "for k,v in word2idx.items():\n",
    "    idx2word[v] = k\n",
    "rel_set = sorted(rel_set)"
   ]
  },
  {
   "cell_type": "code",
   "execution_count": 20,
   "metadata": {},
   "outputs": [
    {
     "data": {
      "text/plain": [
       "39708"
      ]
     },
     "execution_count": 20,
     "metadata": {},
     "output_type": "execute_result"
    }
   ],
   "source": [
    "len(word2idx)"
   ]
  },
  {
   "cell_type": "code",
   "execution_count": 21,
   "metadata": {},
   "outputs": [],
   "source": [
    "rel2id = {rel:ind for ind, rel in enumerate(rel_set)}"
   ]
  },
  {
   "cell_type": "code",
   "execution_count": 22,
   "metadata": {},
   "outputs": [],
   "source": [
    "handshaking_tagger = HandshakingTaggingScheme(rel2id = rel2id, max_seq_len = config.max_seq_len)"
   ]
  },
  {
   "cell_type": "code",
   "execution_count": 23,
   "metadata": {},
   "outputs": [],
   "source": [
    "def sample_equal_to(sample1, sample2):\n",
    "    assert sample1[\"id\"] == sample2[\"id\"]\n",
    "    assert sample1[\"text\"] == sample2[\"text\"]\n",
    "    memory_set = set()\n",
    "    for rel in sample2[\"relation_list\"]:\n",
    "        memory = \"{}\\u2E80{}\\u2E80{}\\u2E80{}\\u2E80{}\".format(rel[\"subject\"], \n",
    "                                                             rel[\"predicate\"], \n",
    "                                                             rel[\"object\"], \n",
    "                                                             str(rel[\"subj_span\"]), \n",
    "                                                             str(rel[\"obj_span\"]))\n",
    "        memory_set.add(memory)\n",
    "    for rel in sample1[\"relation_list\"]:\n",
    "        memory = \"{}\\u2E80{}\\u2E80{}\\u2E80{}\\u2E80{}\".format(rel[\"subject\"], \n",
    "                                                             rel[\"predicate\"], \n",
    "                                                             rel[\"object\"], \n",
    "                                                             str(rel[\"subj_span\"]), \n",
    "                                                             str(rel[\"obj_span\"]))\n",
    "        if memory not in memory_set:\n",
    "            set_trace()\n",
    "            return False\n",
    "    return True"
   ]
  },
  {
   "cell_type": "markdown",
   "metadata": {},
   "source": [
    "# Dataset"
   ]
  },
  {
   "cell_type": "code",
   "execution_count": 24,
   "metadata": {},
   "outputs": [],
   "source": [
    "# @specific\n",
    "def get_indexed_train_valid_data(data):\n",
    "    indexed_samples = []\n",
    "    for ind, sample in tqdm(enumerate(data), desc = \"Generate indexed train or valid data\"):\n",
    "        text = sample[\"text\"]\n",
    "        text_id = sample[\"id\"]\n",
    "        \n",
    "        \n",
    "        # tagging\n",
    "        spots_tuple = handshaking_tagger.get_spots(sample)\n",
    "        offset_map = get_tok2char_span_map(text)\n",
    "        input_ids = []\n",
    "        for idx in offset_map:\n",
    "            word = text[idx[0]:idx[1]]\n",
    "            if word not in word2idx:\n",
    "                input_ids.append(word2idx['<UNK>'])\n",
    "            else:\n",
    "                input_ids.append(word2idx[word])\n",
    "        if len(input_ids) < config.max_seq_len:\n",
    "            input_ids.extend([word2idx['<PAD>']] * (config.max_seq_len - len(input_ids)))\n",
    "        input_ids = torch.tensor(input_ids[:config.max_seq_len])\n",
    "        \n",
    "        sample_tp = (text_id,\n",
    "                     text, \n",
    "                     input_ids,\n",
    "                     offset_map,\n",
    "                     spots_tuple,\n",
    "                    )\n",
    "        indexed_samples.append(sample_tp)       \n",
    "    return indexed_samples"
   ]
  },
  {
   "cell_type": "code",
   "execution_count": 25,
   "metadata": {},
   "outputs": [],
   "source": [
    "# @specific\n",
    "def get_indexed_pred_data(data):\n",
    "    indexed_samples = []\n",
    "    for ind, sample in tqdm(enumerate(data), desc = \"Generate indexed pred data\"):\n",
    "        text = sample[\"text\"] \n",
    "        text_id = sample[\"id\"]\n",
    "        # @specific\n",
    "        codes = tokenizer.encode_plus(text, \n",
    "                                    return_offsets_mapping = True, \n",
    "                                    add_special_tokens = False,\n",
    "                                    max_length = max_seq_len, \n",
    "                                    pad_to_max_length = True)\n",
    "        \n",
    "        input_ids = torch.tensor(codes[\"input_ids\"]).long()\n",
    "        attention_mask = torch.tensor(codes[\"attention_mask\"]).long()\n",
    "        token_type_ids = torch.tensor(codes[\"token_type_ids\"]).long()\n",
    "        offset_map = codes[\"offset_mapping\"]\n",
    "\n",
    "        sample_tp = (text_id,\n",
    "                     text, \n",
    "                     input_ids,\n",
    "                     attention_mask,\n",
    "                     token_type_ids,\n",
    "                     offset_map,\n",
    "                     )\n",
    "        indexed_samples.append(sample_tp)       \n",
    "    return indexed_samples"
   ]
  },
  {
   "cell_type": "code",
   "execution_count": 26,
   "metadata": {},
   "outputs": [],
   "source": [
    "class MyDataset(Dataset):\n",
    "    def __init__(self, data):\n",
    "        self.data = data\n",
    "        \n",
    "    def __getitem__(self, index):\n",
    "        return self.data[index]\n",
    "    \n",
    "    def __len__(self):\n",
    "        return len(self.data)"
   ]
  },
  {
   "cell_type": "code",
   "execution_count": 27,
   "metadata": {},
   "outputs": [],
   "source": [
    "def generate_train_dev_batch(batch_data):\n",
    "    text_id_list = []\n",
    "    text_list = []\n",
    "    input_ids_list = []\n",
    "    attention_mask_list = []\n",
    "    token_type_ids_list = [] \n",
    "    offset_map_list = []\n",
    "    ent_spots_list = []\n",
    "    head_rel_spots_list = []\n",
    "    tail_rel_spots_list = []\n",
    "    \n",
    "    for sample in batch_data:\n",
    "        text_id_list.append(sample[0])\n",
    "        text_list.append(sample[1])\n",
    "        input_ids_list.append(sample[2])    \n",
    "        offset_map_list.append(sample[3])\n",
    "        \n",
    "        ent_matrix_spots, head_rel_matrix_spots, tail_rel_matrix_spots = sample[4]\n",
    "        ent_spots_list.append(ent_matrix_spots)\n",
    "        head_rel_spots_list.append(head_rel_matrix_spots)\n",
    "        tail_rel_spots_list.append(tail_rel_matrix_spots)\n",
    "    \n",
    "    # @specific: codes indexed by bert tokenizer\n",
    "    batch_input_ids = torch.stack(input_ids_list, dim = 0)\n",
    "    batch_attention_mask = None\n",
    "    batch_token_type_ids = None\n",
    "\n",
    "    batch_ent_shaking_tag = handshaking_tagger.sharing_spots2shaking_tag4batch(ent_spots_list)\n",
    "    batch_head_rel_shaking_tag = handshaking_tagger.spots2shaking_tag4batch(head_rel_spots_list)\n",
    "    batch_tail_rel_shaking_tag = handshaking_tagger.spots2shaking_tag4batch(tail_rel_spots_list)\n",
    "\n",
    "    return text_id_list, text_list, batch_input_ids, batch_attention_mask, batch_token_type_ids, offset_map_list, batch_ent_shaking_tag, batch_head_rel_shaking_tag, batch_tail_rel_shaking_tag"
   ]
  },
  {
   "cell_type": "code",
   "execution_count": 28,
   "metadata": {},
   "outputs": [],
   "source": [
    "def generate_pred_batch(batch_data):\n",
    "    text_ids = []\n",
    "    text_list = []\n",
    "    input_ids = []\n",
    "    attention_mask = []\n",
    "    token_type_ids = [] \n",
    "    offset_map = []\n",
    "    for sample in batch_data:\n",
    "        text_ids.append(sample[0])\n",
    "        text_list.append(sample[1])\n",
    "        input_ids.append(sample[2])\n",
    "        attention_mask.append(sample[3])        \n",
    "        token_type_ids.append(sample[4])        \n",
    "        offset_map.append(sample[5])\n",
    "    input_ids = torch.stack(input_ids, dim = 0)\n",
    "    attention_mask = torch.stack(attention_mask, dim = 0)\n",
    "    token_type_ids = torch.stack(token_type_ids, dim = 0)\n",
    "    return text_ids, text_list, input_ids, attention_mask, token_type_ids, offset_map"
   ]
  },
  {
   "cell_type": "code",
   "execution_count": 29,
   "metadata": {},
   "outputs": [],
   "source": [
    "# @uni\n",
    "def get_train_dev_dataloader_gen(indexed_train_sample_list, indexed_dev_sample_list, batch_size):\n",
    "    train_dataloader = DataLoader(MyDataset(indexed_train_sample_list), \n",
    "                                      batch_size = batch_size, \n",
    "                                      shuffle = True, \n",
    "                                      num_workers = 6,\n",
    "                                      drop_last = False,\n",
    "                                      collate_fn = generate_train_dev_batch,\n",
    "                                     )\n",
    "    dev_dataloader = DataLoader(MyDataset(indexed_dev_sample_list), \n",
    "                              batch_size = batch_size, \n",
    "                              shuffle = True, \n",
    "                              num_workers = 6,\n",
    "                              drop_last = False,\n",
    "                              collate_fn = generate_train_dev_batch,\n",
    "                             )\n",
    "    return train_dataloader, dev_dataloader"
   ]
  },
  {
   "cell_type": "code",
   "execution_count": 30,
   "metadata": {},
   "outputs": [
    {
     "name": "stderr",
     "output_type": "stream",
     "text": [
      "Generate indexed train or valid data: 75129it [00:11, 6723.32it/s]\n"
     ]
    }
   ],
   "source": [
    "indexed_train_data = get_indexed_train_valid_data(short_train_data)"
   ]
  },
  {
   "cell_type": "code",
   "execution_count": 31,
   "metadata": {},
   "outputs": [
    {
     "name": "stderr",
     "output_type": "stream",
     "text": [
      "Generate indexed train or valid data: 6724it [00:00, 8828.21it/s]\n"
     ]
    }
   ],
   "source": [
    "indexed_valid_data = get_indexed_train_valid_data(short_valid_data)"
   ]
  },
  {
   "cell_type": "code",
   "execution_count": 32,
   "metadata": {},
   "outputs": [],
   "source": [
    "# have a look at dataloader\n",
    "train_dataloader, dev_dataloader = get_train_dev_dataloader_gen(indexed_train_data, indexed_valid_data, 32)"
   ]
  },
  {
   "cell_type": "code",
   "execution_count": 33,
   "metadata": {},
   "outputs": [
    {
     "name": "stdout",
     "output_type": "stream",
     "text": [
      "By comparison , just 57 percent of blacks in Atlanta were born in Georgia .\n",
      "\n",
      "[633, 10365, 12, 1178, 8994, 1330, 39, 5703, 49, 1758, 309, 897, 49, 2054, 16, 0, 0, 0, 0, 0, 0, 0, 0, 0, 0, 0, 0, 0, 0, 0, 0, 0, 0, 0, 0, 0, 0, 0, 0, 0, 0, 0, 0, 0, 0, 0, 0, 0, 0, 0, 0, 0, 0, 0, 0, 0, 0, 0, 0, 0, 0, 0, 0, 0, 0, 0, 0, 0, 0, 0, 0, 0, 0, 0, 0, 0, 0, 0, 0, 0, 0, 0, 0, 0, 0, 0, 0, 0, 0, 0, 0, 0, 0, 0, 0, 0, 0, 0, 0, 0]\n",
      "torch.Size([32, 100])\n",
      "32\n",
      "torch.Size([32, 5050])\n",
      "torch.Size([32, 24, 5050])\n",
      "torch.Size([32, 24, 5050])\n"
     ]
    }
   ],
   "source": [
    "train_data_iter = iter(train_dataloader)\n",
    "batch_data = next(train_data_iter)\n",
    "text_id_list, text_list, batch_input_ids, \\\n",
    "batch_attention_mask, batch_token_type_ids, \\\n",
    "offset_map_list, batch_ent_shaking_tag, \\\n",
    "batch_head_rel_shaking_tag, batch_tail_rel_shaking_tag = batch_data\n",
    "\n",
    "print(text_list[0])\n",
    "print()\n",
    "print(batch_input_ids[0].tolist())\n",
    "print(batch_input_ids.size())\n",
    "# print(batch_attention_mask.size())\n",
    "# print(batch_token_type_ids.size())\n",
    "print(len(offset_map_list))\n",
    "print(batch_ent_shaking_tag.size())\n",
    "print(batch_head_rel_shaking_tag.size())\n",
    "print(batch_tail_rel_shaking_tag.size())"
   ]
  },
  {
   "cell_type": "markdown",
   "metadata": {},
   "source": [
    "# Load Word Embedding Matrix"
   ]
  },
  {
   "cell_type": "code",
   "execution_count": 34,
   "metadata": {},
   "outputs": [],
   "source": [
    "glove = Glove()\n",
    "glove = glove.load(config.word_embedding_path)"
   ]
  },
  {
   "cell_type": "code",
   "execution_count": 35,
   "metadata": {},
   "outputs": [
    {
     "name": "stderr",
     "output_type": "stream",
     "text": [
      "Embedding matrix initializing...: 100%|██████████| 39708/39708 [00:00<00:00, 233891.93it/s]"
     ]
    },
    {
     "name": "stdout",
     "output_type": "stream",
     "text": [
      "0.9999496323159062\n"
     ]
    },
    {
     "name": "stderr",
     "output_type": "stream",
     "text": [
      "\n"
     ]
    }
   ],
   "source": [
    "# prepare embedding matrix\n",
    "word_embedding_init_matrix = np.random.normal(-1, 1, size=(len(word2idx), config.word_embedding_dim))\n",
    "count_in = 0\n",
    "\n",
    "# 在预训练词向量中的用该预训练向量\n",
    "# 不在预训练集里的用随机向量\n",
    "for ind, tok in tqdm(idx2word.items(), desc=\"Embedding matrix initializing...\"):\n",
    "    if tok in glove.dictionary:\n",
    "        count_in += 1\n",
    "        word_embedding_init_matrix[ind] = glove.word_vectors[glove.dictionary[tok]]\n",
    "        \n",
    "print(count_in / len(idx2word)) # 命中预训练词向量的比例"
   ]
  },
  {
   "cell_type": "code",
   "execution_count": 36,
   "metadata": {},
   "outputs": [
    {
     "data": {
      "text/plain": [
       "torch.Size([39708, 100])"
      ]
     },
     "execution_count": 36,
     "metadata": {},
     "output_type": "execute_result"
    }
   ],
   "source": [
    "word_embedding_init_matrix = torch.FloatTensor(word_embedding_init_matrix)\n",
    "word_embedding_init_matrix.size()"
   ]
  },
  {
   "cell_type": "markdown",
   "metadata": {},
   "source": [
    "# Model"
   ]
  },
  {
   "cell_type": "code",
   "execution_count": 37,
   "metadata": {},
   "outputs": [],
   "source": [
    "class RelExtractor(nn.Module):\n",
    "    def __init__(self, init_word_embedding_matrix, hidden_size, dropout, rel_size):\n",
    "        super().__init__()\n",
    "        # BiLSTM encoder\n",
    "        self.word_embeds = nn.Embedding.from_pretrained(init_word_embedding_matrix, freeze = False)\n",
    "        self.dropout = nn.Dropout(dropout)\n",
    "        self.lstm = nn.LSTM(init_word_embedding_matrix.size()[-1], \n",
    "                            hidden_size // 2, \n",
    "                            num_layers = 2, \n",
    "                            bidirectional = True, \n",
    "                            batch_first = True)\n",
    "\n",
    "\n",
    "        self.ent_fc = nn.Linear(hidden_size, 2)\n",
    "        self.head_rel_fc_list = [nn.Linear(hidden_size, 3) for _ in range(rel_size)]\n",
    "        self.tail_rel_fc_list = [nn.Linear(hidden_size, 3) for _ in range(rel_size)]\n",
    "        \n",
    "        for ind, fc in enumerate(self.head_rel_fc_list):\n",
    "            self.register_parameter(\"weight_4_head_rel{}\".format(ind), fc.weight)\n",
    "            self.register_parameter(\"bias_4_head_rel{}\".format(ind), fc.bias)\n",
    "        for ind, fc in enumerate(self.tail_rel_fc_list):\n",
    "            self.register_parameter(\"weight_4_tail_rel{}\".format(ind), fc.weight)\n",
    "            self.register_parameter(\"bias_4_tail_rel{}\".format(ind), fc.bias)\n",
    "            \n",
    "        # conditional layer normaliztion\n",
    "        fake_inputs = torch.zeros([config.batch_size, config.max_seq_len, hidden_size])\n",
    "        self.cond_layer_norm = LayerNorm(fake_inputs.size(), hidden_size, conditional = True)\n",
    "        \n",
    "    def forward(self, input_ids, attention_mask, token_type_ids):\n",
    "        # BiLSTM encoder\n",
    "        embedding = self.word_embeds(input_ids)\n",
    "        outputs, hidden = self.lstm(embedding)\n",
    "        last_hidden_state = self.dropout(outputs)  # last_hidden_state: (batch_size, seq_len, hidden_size) \n",
    "        \n",
    "        # shaking_hiddens: (batch_size, 1 + ... + seq_len, hidden_size)\n",
    "        shaking_hiddens = self.shake_hands_afterwards(last_hidden_state)\n",
    "        \n",
    "        ent_shaking_outputs = self.ent_fc(shaking_hiddens)\n",
    "            \n",
    "        head_rel_shaking_outputs_list = []\n",
    "        for fc in self.head_rel_fc_list:\n",
    "            head_rel_shaking_outputs_list.append(fc(shaking_hiddens))\n",
    "            \n",
    "        tail_rel_shaking_outputs_list = []\n",
    "        for fc in self.tail_rel_fc_list:\n",
    "            tail_rel_shaking_outputs_list.append(fc(shaking_hiddens))\n",
    "        \n",
    "        head_rel_shaking_outputs = torch.stack(head_rel_shaking_outputs_list, dim = 1)\n",
    "        tail_rel_shaking_outputs = torch.stack(tail_rel_shaking_outputs_list, dim = 1)\n",
    "        \n",
    "        return ent_shaking_outputs, head_rel_shaking_outputs, tail_rel_shaking_outputs\n",
    "\n",
    "    def shake_hands_afterwards(self, seq_hiddens):\n",
    "        '''\n",
    "        seq_hiddens: (batch_size, seq_len, hidden_size) (32, 3, 5)\n",
    "        return shake_hands_matrix_hiddens: (batch_size, (1 + seq_len) * seq_len / 2, hidden_size) (32, 5+4+3+2+1, 5)\n",
    "        '''\n",
    "        seq_len = seq_hiddens.size()[-2]\n",
    "        shake_hands_hidden_list = []\n",
    "        for ind in range(seq_len):\n",
    "            hidden_each_step = seq_hiddens[:, ind, :]\n",
    "            # seq_len - ind: only shake afterwards\n",
    "            repeat_hidden_each_step = hidden_each_step[:, None, :].repeat(1, seq_len - ind, 1) \n",
    "    #         shake_hands_hidden = torch.cat([repeat_hidden_each_step, seq_hiddens[:, ind:, :]], dim = -1)\n",
    "            shake_hands_hidden = self.cond_layer_norm(seq_hiddens[:, ind:, :], repeat_hidden_each_step)\n",
    "            shake_hands_hidden_list.append(shake_hands_hidden)\n",
    "        shake_hands_matrix_hiddens = torch.cat(shake_hands_hidden_list, dim = 1)\n",
    "        return shake_hands_matrix_hiddens"
   ]
  },
  {
   "cell_type": "code",
   "execution_count": 38,
   "metadata": {},
   "outputs": [],
   "source": [
    "rel_extractor = RelExtractor(word_embedding_init_matrix, config.rnn_hidden_size, config.dropout, len(rel2id))\n",
    "rel_extractor = rel_extractor.to(device)"
   ]
  },
  {
   "cell_type": "code",
   "execution_count": 39,
   "metadata": {},
   "outputs": [],
   "source": [
    "def bias_loss(weights = None):\n",
    "    if weights is not None:\n",
    "        weights = torch.FloatTensor(weights).to(device)\n",
    "    cross_en = nn.CrossEntropyLoss(weight = weights)  \n",
    "    return lambda pred, target: cross_en(pred.view(-1, pred.size()[-1]), target.view(-1))\n",
    "loss_func = bias_loss()"
   ]
  },
  {
   "cell_type": "code",
   "execution_count": 40,
   "metadata": {},
   "outputs": [],
   "source": [
    "def get_sample_accuracy(pred, truth):\n",
    "    '''\n",
    "    计算所有抽取字段都正确的样本比例\n",
    "    即该batch的输出与truth全等的样本比例\n",
    "    '''\n",
    "    # (batch_size, ..., seq_len, tag_size) -> (batch_size, ..., seq_len)\n",
    "    pred_id = torch.argmax(pred, dim = -1)\n",
    "    # (batch_size, ..., seq_len) -> (batch_size, )，把每个sample压成一条seq\n",
    "    pred_id = pred_id.view(pred_id.size()[0], -1)\n",
    "    truth = truth.view(truth.size()[0], -1)\n",
    "    \n",
    "    # (batch_size, )，每个元素是pred与truth之间tag相同的数量\n",
    "    correct_tag_num = torch.sum(torch.eq(truth, pred_id).float(), dim = 1)\n",
    "\n",
    "    # seq维上所有tag必须正确，所以correct_tag_num必须等于seq的长度才算一个correct的sample\n",
    "    sample_acc_ = torch.eq(correct_tag_num, torch.ones_like(correct_tag_num) * truth.size()[-1]).float()\n",
    "    sample_acc = torch.mean(sample_acc_)\n",
    "    \n",
    "    return sample_acc"
   ]
  },
  {
   "cell_type": "code",
   "execution_count": 41,
   "metadata": {},
   "outputs": [],
   "source": [
    "def get_rel_cpg(text_list, offset_map_list, \n",
    "                 batch_pred_ent_shaking_outputs,\n",
    "                 batch_pred_head_rel_shaking_outputs,\n",
    "                 batch_pred_tail_rel_shaking_outputs,\n",
    "                 batch_gold_ent_shaking_tag,\n",
    "                 batch_gold_head_rel_shaking_tag,\n",
    "                 batch_gold_tail_rel_shaking_tag):\n",
    "    batch_pred_ent_shaking_tag = torch.argmax(batch_pred_ent_shaking_outputs, dim = -1)\n",
    "    batch_pred_head_rel_shaking_tag = torch.argmax(batch_pred_head_rel_shaking_outputs, dim = -1)\n",
    "    batch_pred_tail_rel_shaking_tag = torch.argmax(batch_pred_tail_rel_shaking_outputs, dim = -1)\n",
    "    \n",
    "    correct_num, pred_num, gold_num = 0, 0, 0\n",
    "    for ind in range(len(text_list)):\n",
    "        text = text_list[ind]\n",
    "        offset_map = offset_map_list[ind]\n",
    "        gold_ent_shaking_tag, pred_ent_shaking_tag = batch_gold_ent_shaking_tag[ind], batch_pred_ent_shaking_tag[ind]\n",
    "        gold_head_rel_shaking_tag, pred_head_rel_shaking_tag = batch_gold_head_rel_shaking_tag[ind], batch_pred_head_rel_shaking_tag[ind]\n",
    "        gold_tail_rel_shaking_tag, pred_tail_rel_shaking_tag = batch_gold_tail_rel_shaking_tag[ind], batch_pred_tail_rel_shaking_tag[ind]\n",
    "        \n",
    "        pred_rel_list = handshaking_tagger.decode_rel_fr_shaking_tag(text, \n",
    "                                                  pred_ent_shaking_tag, \n",
    "                                                  pred_head_rel_shaking_tag, \n",
    "                                                  pred_tail_rel_shaking_tag, \n",
    "                                                  offset_map)\n",
    "        gold_rel_list = handshaking_tagger.decode_rel_fr_shaking_tag(text, \n",
    "                                                  gold_ent_shaking_tag, \n",
    "                                                  gold_head_rel_shaking_tag, \n",
    "                                                  gold_tail_rel_shaking_tag, \n",
    "                                                  offset_map)\n",
    "\n",
    "        gold_rel_set = set([\"{}\\u2E80{}\\u2E80{}\".format(rel[\"subject\"], rel[\"predicate\"], rel[\"object\"]) for rel in gold_rel_list])\n",
    "        pred_rel_set = set([\"{}\\u2E80{}\\u2E80{}\".format(rel[\"subject\"], rel[\"predicate\"], rel[\"object\"]) for rel in pred_rel_list])\n",
    "        \n",
    "        for rel_str in pred_rel_set:\n",
    "            if rel_str in gold_rel_set:\n",
    "                correct_num += 1\n",
    "        \n",
    "        pred_num += len(gold_rel_set)\n",
    "        gold_num += len(pred_rel_set)\n",
    "        \n",
    "    return correct_num, pred_num, gold_num"
   ]
  },
  {
   "cell_type": "code",
   "execution_count": 42,
   "metadata": {},
   "outputs": [],
   "source": [
    "def get_scores(correct_num, pred_num, gold_num):\n",
    "    minimini = 1e-10\n",
    "    precision = correct_num / (pred_num + minimini)\n",
    "    recall = correct_num / (gold_num + minimini)\n",
    "    f1 = 2 * precision * recall / (precision + recall + minimini)\n",
    "    return precision, recall, f1"
   ]
  },
  {
   "cell_type": "markdown",
   "metadata": {},
   "source": [
    "# Train"
   ]
  },
  {
   "cell_type": "code",
   "execution_count": 43,
   "metadata": {},
   "outputs": [],
   "source": [
    "# train step\n",
    "def train_step(batch_train_data, optimizer, loss_weights):\n",
    "    text_id_list, text_list, batch_input_ids, \\\n",
    "    batch_attention_mask, batch_token_type_ids, \\\n",
    "    offset_map_list, batch_ent_shaking_tag, \\\n",
    "    batch_head_rel_shaking_tag, batch_tail_rel_shaking_tag = batch_train_data\n",
    "    \n",
    "    batch_input_ids, \\\n",
    "    batch_attention_mask, \\\n",
    "    batch_token_type_ids, \\\n",
    "    batch_ent_shaking_tag, \\\n",
    "    batch_head_rel_shaking_tag, \\\n",
    "    batch_tail_rel_shaking_tag = (batch_input_ids.to(device), \n",
    "                                  None,\n",
    "                                  None,\n",
    "                              batch_ent_shaking_tag.to(device), \n",
    "                              batch_head_rel_shaking_tag.to(device), \n",
    "                              batch_tail_rel_shaking_tag.to(device)\n",
    "                             )\n",
    "\n",
    "    # zero the parameter gradients\n",
    "    optimizer.zero_grad()\n",
    "    \n",
    "    ent_shaking_outputs, \\\n",
    "    head_rel_shaking_outputs, \\\n",
    "    tail_rel_shaking_outputs = rel_extractor(batch_input_ids, \n",
    "                                              batch_attention_mask, \n",
    "                                              batch_token_type_ids, \n",
    "                                             )\n",
    "\n",
    "    w_ent, w_rel = loss_weights[\"ent\"], loss_weights[\"rel\"]\n",
    "    loss = w_ent * loss_func(ent_shaking_outputs, batch_ent_shaking_tag) + \\\n",
    "            w_rel * loss_func(head_rel_shaking_outputs, batch_head_rel_shaking_tag) + \\\n",
    "            w_rel * loss_func(tail_rel_shaking_outputs, batch_tail_rel_shaking_tag)\n",
    "    \n",
    "    # bp time: 2s\n",
    "    loss.backward()\n",
    "    optimizer.step()\n",
    "    \n",
    "    ent_sample_acc = get_sample_accuracy(ent_shaking_outputs, \n",
    "                                          batch_ent_shaking_tag)\n",
    "    head_rel_sample_acc = get_sample_accuracy(head_rel_shaking_outputs, \n",
    "                                             batch_head_rel_shaking_tag)\n",
    "    tail_rel_sample_acc = get_sample_accuracy(tail_rel_shaking_outputs, \n",
    "                                             batch_tail_rel_shaking_tag)\n",
    "    \n",
    "    return loss.item(), ent_sample_acc.item(), head_rel_sample_acc.item(), tail_rel_sample_acc.item()\n",
    "\n",
    "# valid step\n",
    "def valid_step(batch_valid_data):\n",
    "    text_id_list, text_list, batch_input_ids, \\\n",
    "    batch_attention_mask, batch_token_type_ids, \\\n",
    "    offset_map_list, batch_ent_shaking_tag, \\\n",
    "    batch_head_rel_shaking_tag, batch_tail_rel_shaking_tag = batch_valid_data\n",
    "    \n",
    "    batch_input_ids, \\\n",
    "    batch_attention_mask, \\\n",
    "    batch_token_type_ids, \\\n",
    "    batch_ent_shaking_tag, \\\n",
    "    batch_head_rel_shaking_tag, \\\n",
    "    batch_tail_rel_shaking_tag = (batch_input_ids.to(device), \n",
    "                                  None,\n",
    "                                  None,\n",
    "                              batch_ent_shaking_tag.to(device), \n",
    "                              batch_head_rel_shaking_tag.to(device), \n",
    "                              batch_tail_rel_shaking_tag.to(device)\n",
    "                             )\n",
    "    with torch.no_grad():\n",
    "        ent_shaking_outputs, \\\n",
    "        head_rel_shaking_outputs, \\\n",
    "        tail_rel_shaking_outputs = rel_extractor(batch_input_ids, \n",
    "                                                  batch_attention_mask, \n",
    "                                                  batch_token_type_ids, \n",
    "                                                 )\n",
    "    \n",
    "    ent_sample_acc = get_sample_accuracy(ent_shaking_outputs, \n",
    "                                          batch_ent_shaking_tag)\n",
    "    head_rel_sample_acc = get_sample_accuracy(head_rel_shaking_outputs, \n",
    "                                             batch_head_rel_shaking_tag)\n",
    "    tail_rel_sample_acc = get_sample_accuracy(tail_rel_shaking_outputs, \n",
    "                                             batch_tail_rel_shaking_tag)\n",
    "    \n",
    "    rel_cpg = get_rel_cpg(text_list, offset_map_list, \n",
    "                            ent_shaking_outputs,\n",
    "                            head_rel_shaking_outputs,\n",
    "                            tail_rel_shaking_outputs,\n",
    "                            batch_ent_shaking_tag,\n",
    "                            batch_head_rel_shaking_tag,\n",
    "                            batch_tail_rel_shaking_tag)\n",
    "    \n",
    "    return ent_sample_acc.item(), head_rel_sample_acc.item(), tail_rel_sample_acc.item(), rel_cpg"
   ]
  },
  {
   "cell_type": "code",
   "execution_count": 44,
   "metadata": {},
   "outputs": [],
   "source": [
    "max_f1 = 0.\n",
    "def train_n_valid(train_dataloader, dev_dataloader, optimizer, scheduler, num_epoch):  \n",
    "    def train(dataloader, ep):\n",
    "        # train\n",
    "        rel_extractor.train()\n",
    "        \n",
    "        t_ep = time.time()\n",
    "        start_lr = optimizer.param_groups[0]['lr']\n",
    "        total_loss, total_ent_sample_acc, total_head_rel_sample_acc, total_tail_rel_sample_acc = 0., 0., 0., 0.\n",
    "        for batch_ind, batch_train_data in enumerate(dataloader):\n",
    "            t_batch = time.time()\n",
    "            z = (2 * len(rel2id) + 1)\n",
    "            steps_per_ep = len(dataloader)\n",
    "            total_steps = config.loss_weight_recover_steps\n",
    "            current_step = steps_per_ep * ep + batch_ind\n",
    "            w_ent = max(1 / z + 1 - current_step / total_steps, 1 / z)\n",
    "            w_rel = min((len(rel2id) / z) * current_step / total_steps, (len(rel2id) / z))\n",
    "            loss_weights = {\"ent\": w_ent, \"rel\": w_rel}\n",
    "            loss, ent_sample_acc, head_rel_sample_acc, tail_rel_sample_acc = train_step(batch_train_data, optimizer, loss_weights)\n",
    "            scheduler.step()\n",
    "            \n",
    "            total_loss += loss\n",
    "            total_ent_sample_acc += ent_sample_acc\n",
    "            total_head_rel_sample_acc += head_rel_sample_acc\n",
    "            total_tail_rel_sample_acc += tail_rel_sample_acc\n",
    "            \n",
    "            avg_loss = total_loss / (batch_ind + 1)\n",
    "            avg_ent_sample_acc = total_ent_sample_acc / (batch_ind + 1)\n",
    "            avg_head_rel_sample_acc = total_head_rel_sample_acc / (batch_ind + 1)\n",
    "            avg_tail_rel_sample_acc = total_tail_rel_sample_acc / (batch_ind + 1)\n",
    "            \n",
    "            batch_print_format = \"\\rEpoch: {}/{}, batch: {}/{}, train_loss: {}, \" + \\\n",
    "                                \"t_ent_sample_acc: {}, t_head_rel_sample_acc: {}, t_tail_rel_sample_acc: {},\" + \\\n",
    "                                 \"lr: {}, batch_time: {}, total_time: {} -------------\"\n",
    "                    \n",
    "            print(batch_print_format.format(ep + 1, num_epoch, \n",
    "                                            batch_ind + 1, len(dataloader), \n",
    "                                            avg_loss, \n",
    "                                            avg_ent_sample_acc,\n",
    "                                            avg_head_rel_sample_acc,\n",
    "                                            avg_tail_rel_sample_acc,\n",
    "                                            optimizer.param_groups[0]['lr'],\n",
    "                                            time.time() - t_batch,\n",
    "                                            time.time() - t_ep,\n",
    "                                           ), end=\"\")\n",
    "            \n",
    "            if batch_ind % config.log_interval == 0:\n",
    "                wandb.log({\n",
    "                    \"train_loss\": avg_loss,\n",
    "                    \"train_ent_seq_acc\": avg_ent_sample_acc,\n",
    "                    \"train_head_rel_acc\": avg_head_rel_sample_acc,\n",
    "                    \"train_tail_rel_acc\": avg_tail_rel_sample_acc,\n",
    "                    \"learning_rate\": optimizer.param_groups[0]['lr'],\n",
    "                    \"time\": time.time() - t_ep,\n",
    "                })\n",
    "        \n",
    "    def valid(dataloader, ep):\n",
    "        # valid\n",
    "        rel_extractor.eval()\n",
    "        \n",
    "        t_ep = time.time()\n",
    "        total_ent_sample_acc, total_head_rel_sample_acc, total_tail_rel_sample_acc = 0., 0., 0.\n",
    "        total_rel_correct_num, total_rel_pred_num, total_rel_gold_num = 0, 0, 0\n",
    "        for batch_ind, batch_valid_data in enumerate(tqdm(dataloader, desc = \"Validating\")):\n",
    "            ent_sample_acc, head_rel_sample_acc, tail_rel_sample_acc, rel_cpg = valid_step(batch_valid_data)\n",
    "\n",
    "            total_ent_sample_acc += ent_sample_acc\n",
    "            total_head_rel_sample_acc += head_rel_sample_acc\n",
    "            total_tail_rel_sample_acc += tail_rel_sample_acc\n",
    "            \n",
    "            total_rel_correct_num += rel_cpg[0]\n",
    "            total_rel_pred_num += rel_cpg[1]\n",
    "            total_rel_gold_num += rel_cpg[2]\n",
    "\n",
    "        avg_ent_sample_acc = total_ent_sample_acc / len(dataloader)\n",
    "        avg_head_rel_sample_acc = total_head_rel_sample_acc / len(dataloader)\n",
    "        avg_tail_rel_sample_acc = total_tail_rel_sample_acc / len(dataloader)\n",
    "        \n",
    "        rel_prf = get_scores(total_rel_correct_num, total_rel_pred_num, total_rel_gold_num)\n",
    "        \n",
    "        log_dict = {\n",
    "                        \"val_ent_seq_acc\": avg_ent_sample_acc,\n",
    "                        \"val_head_rel_acc\": avg_head_rel_sample_acc,\n",
    "                        \"val_tail_rel_acc\": avg_tail_rel_sample_acc,\n",
    "                        \"val_prec\": rel_prf[0],\n",
    "                        \"val_recall\": rel_prf[1],\n",
    "                        \"val_f1\": rel_prf[2],\n",
    "                        \"time\": time.time() - t_ep,\n",
    "                    }\n",
    "        pprint(log_dict)\n",
    "        wandb.log(log_dict)\n",
    "        \n",
    "        return rel_prf[2]\n",
    "        \n",
    "    for ep in range(num_epoch):\n",
    "        train(train_dataloader, ep)   \n",
    "        valid_f1 = valid(dev_dataloader, ep)\n",
    "        \n",
    "        global max_f1\n",
    "        if valid_f1 >= max_f1: \n",
    "            max_f1 = valid_f1\n",
    "            if valid_f1 > 0.5: # save the best model\n",
    "                modle_state_num = len(glob.glob(model_state_dict_dir + \"/model_state_dict_*.pt\"))\n",
    "                torch.save(rel_extractor.state_dict(), os.path.join(model_state_dict_dir, \"model_state_dict_{}.pt\".format(modle_state_num)))\n",
    "                scheduler_state_num = len(glob.glob(schedule_state_dict_dir + \"/scheduler_state_dict_*.pt\"))\n",
    "                torch.save(scheduler.state_dict(), os.path.join(schedule_state_dict_dir, \"scheduler_state_dict_{}.pt\".format(scheduler_state_num))) \n",
    "        print(\"Current avf_f1: {}, Best f1: {}\".format(valid_f1, max_f1))"
   ]
  },
  {
   "cell_type": "code",
   "execution_count": 45,
   "metadata": {},
   "outputs": [],
   "source": [
    "def get_last_state_path(state_dir, pre_fix):\n",
    "    max_file_num = -1\n",
    "    last_state_path = None\n",
    "    for path in glob.glob(state_dir + \"/{}_*.pt\".format(pre_fix)):\n",
    "        file_num = re.search(\"state_dict_(\\d+)\\.pt\", path).group(1)\n",
    "        if int(file_num) > max_file_num:\n",
    "            max_file_num = int(file_num)\n",
    "            last_state_path = path\n",
    "    return last_state_path\n",
    "\n",
    "def get_model_state_path(state_dict_dir, state_dict_num):\n",
    "    return os.path.join(state_dict_dir, \"model_state_dict_{}.pt\".format(state_dict_num))"
   ]
  },
  {
   "cell_type": "code",
   "execution_count": 46,
   "metadata": {},
   "outputs": [
    {
     "name": "stdout",
     "output_type": "stream",
     "text": [
      "preparing dataloader...\n",
      "dataloaders done!\n"
     ]
    }
   ],
   "source": [
    "# dataloader\n",
    "print(\"preparing dataloader...\")\n",
    "train_dataloader, \\\n",
    "dev_dataloader = get_train_dev_dataloader_gen(indexed_train_data, \n",
    "                                            indexed_valid_data, \n",
    "                                            config.batch_size, \n",
    "                                            )\n",
    "print(\"dataloaders done!\")"
   ]
  },
  {
   "cell_type": "code",
   "execution_count": 47,
   "metadata": {},
   "outputs": [],
   "source": [
    "# optimizer\n",
    "init_learning_rate = config.lr\n",
    "optimizer = torch.optim.Adam(rel_extractor.parameters(), lr = init_learning_rate)\n",
    "scheduler = torch.optim.lr_scheduler.CosineAnnealingWarmRestarts(optimizer, len(train_dataloader) * 2)\n",
    "\n",
    "# decay_rate = 0.99\n",
    "# scheduler = torch.optim.lr_scheduler.StepLR(optimizer, step_size = 10, gamma = decay_rate)"
   ]
  },
  {
   "cell_type": "code",
   "execution_count": null,
   "metadata": {},
   "outputs": [
    {
     "name": "stderr",
     "output_type": "stream",
     "text": [
      "Failed to query for notebook name, you can set it manually with the WANDB_NOTEBOOK_NAME environment variable\n"
     ]
    },
    {
     "name": "stdout",
     "output_type": "stream",
     "text": [
      "Epoch: 1/50, batch: 908/12522, train_loss: 2.927136591668723, t_ent_sample_acc: 0.0, t_head_rel_sample_acc: 0.0, t_tail_rel_sample_acc: 0.0,lr: 0.0009967672033531418, batch_time: 0.7537217140197754, total_time: 718.4217524528503 ---------------"
     ]
    },
    {
     "name": "stderr",
     "output_type": "stream",
     "text": [
      "requests_with_retry encountered retryable exception: ('Connection aborted.', OSError(\"(104, 'ECONNRESET')\")). args: ('https://api.wandb.ai/files/wycheng/nyt_single/33ahq1zb/file_stream',), kwargs: {'json': {'files': {'output.log': {'offset': 0, 'content': ['2020-06-01T02:27:17.106680 Epoch: 1/50, batch: 606/12522, train_loss: 4.382330671613636, t_ent_sample_acc: 0.0, t_head_rel_sample_acc: 0.0, t_tail_rel_sample_acc: 0.0,lr: 0.000998560755259447, batch_time: 0.7810513973236084, total_time: 476.4979655742645 -------------\\r']}, 'wandb-events.jsonl': {'offset': 15, 'content': ['{\"system.gpu.0.gpu\": 0.0, \"system.gpu.0.memory\": 0.0, \"system.gpu.0.memoryAllocated\": 49.98, \"system.gpu.0.temp\": 39.0, \"system.gpu.process.0.gpu\": 0.0, \"system.gpu.process.0.memory\": 0.0, \"system.gpu.process.0.memoryAllocated\": 49.98, \"system.gpu.process.0.temp\": 39.0, \"system.gpu.0.powerWatts\": 38.68, \"system.gpu.0.powerPercent\": 15.47, \"system.gpu.process.0.powerWatts\": 38.68, \"system.gpu.process.0.powerPercent\": 15.47, \"system.gpu.1.gpu\": 90.27, \"system.gpu.1.memory\": 15.53, \"system.gpu.1.memoryAllocated\": 65.3, \"system.gpu.1.temp\": 46.33, \"system.gpu.process.1.gpu\": 90.27, \"system.gpu.process.1.memory\": 15.53, \"system.gpu.process.1.memoryAllocated\": 65.3, \"system.gpu.process.1.temp\": 46.33, \"system.gpu.1.powerWatts\": 76.45, \"system.gpu.1.powerPercent\": 30.58, \"system.gpu.process.1.powerWatts\": 76.45, \"system.gpu.process.1.powerPercent\": 30.58, \"system.cpu\": 82.83, \"system.memory\": 44.19, \"system.disk\": 83.1, \"system.proc.memory.availableMB\": 71665.3, \"system.proc.memory.rssMB\": 3769.82, \"system.proc.memory.percent\": 2.94, \"system.proc.cpu.threads\": 49.0, \"system.network.sent\": 28812924, \"system.network.recv\": 18609361, \"_wandb\": true, \"_timestamp\": 1590978411, \"_runtime\": 954}\\n']}, 'wandb-history.jsonl': {'offset': 57, 'content': ['{\"train_loss\": 4.650440379721969, \"train_ent_seq_acc\": 0.0, \"train_head_rel_acc\": 0.0, \"train_tail_rel_acc\": 0.0, \"learning_rate\": 0.0009987223937254742, \"time\": 448.8862738609314, \"_runtime\": 949.0282909870148, \"_timestamp\": 1590978408.6770225, \"_step\": 57}\\n', '{\"train_loss\": 4.570546571033079, \"train_ent_seq_acc\": 0.0, \"train_head_rel_acc\": 0.0, \"train_tail_rel_acc\": 0.0, \"learning_rate\": 0.0009986771921546953, \"time\": 456.54083490371704, \"_runtime\": 956.6828582286835, \"_timestamp\": 1590978416.3315897, \"_step\": 58}\\n', '{\"train_loss\": 4.493364876200793, \"train_ent_seq_acc\": 0.0, \"train_head_rel_acc\": 0.0, \"train_tail_rel_acc\": 0.0, \"learning_rate\": 0.0009986312058691885, \"time\": 464.20677733421326, \"_runtime\": 964.348824262619, \"_timestamp\": 1590978423.9975557, \"_step\": 59}\\n', '{\"train_loss\": 4.418720693080322, \"train_ent_seq_acc\": 0.0, \"train_head_rel_acc\": 0.0, \"train_tail_rel_acc\": 0.0, \"learning_rate\": 0.0009985844349413176, \"time\": 472.6595661640167, \"_runtime\": 972.8017208576202, \"_timestamp\": 1590978432.4504523, \"_step\": 60}\\n']}, 'wandb-summary.json': {'offset': 0, 'content': ['{\"learning_rate\": 0.0009985844349413176, \"_step\": 60, \"_timestamp\": 1590978432.4504523, \"time\": 472.6595661640167, \"train_loss\": 4.418720693080322, \"_runtime\": 972.8017208576202, \"train_ent_seq_acc\": 0.0, \"train_head_rel_acc\": 0.0, \"train_tail_rel_acc\": 0.0}\\n']}}}}\n"
     ]
    },
    {
     "name": "stdout",
     "output_type": "stream",
     "text": [
      "Epoch: 1/50, batch: 1252/12522, train_loss: 2.124385475890507, t_ent_sample_acc: 0.0, t_head_rel_sample_acc: 0.0, t_tail_rel_sample_acc: 0.0,lr: 0.000993855938860604, batch_time: 0.7679905891418457, total_time: 991.7341613769531 ---------------"
     ]
    },
    {
     "name": "stderr",
     "output_type": "stream",
     "text": [
      "requests_with_retry encountered retryable exception: ('Connection aborted.', RemoteDisconnected('Remote end closed connection without response')). args: ('https://api.wandb.ai/files/wycheng/nyt_single/33ahq1zb/file_stream',), kwargs: {'json': {'files': {'output.log': {'offset': 1, 'content': ['2020-06-01T02:32:22.385921 Epoch: 1/50, batch: 986/12522, train_loss: 2.696053864032457, t_ent_sample_acc: 0.0, t_head_rel_sample_acc: 0.0, t_tail_rel_sample_acc: 0.0,lr: 0.0009961880059927454, batch_time: 0.6412737369537354, total_time: 781.8273639678955 -------------\\r']}, 'wandb-events.jsonl': {'offset': 25, 'content': ['{\"system.gpu.0.gpu\": 0.0, \"system.gpu.0.memory\": 0.0, \"system.gpu.0.memoryAllocated\": 49.98, \"system.gpu.0.temp\": 39.0, \"system.gpu.process.0.gpu\": 0.0, \"system.gpu.process.0.memory\": 0.0, \"system.gpu.process.0.memoryAllocated\": 49.98, \"system.gpu.process.0.temp\": 39.0, \"system.gpu.0.powerWatts\": 38.73, \"system.gpu.0.powerPercent\": 15.49, \"system.gpu.process.0.powerWatts\": 38.73, \"system.gpu.process.0.powerPercent\": 15.49, \"system.gpu.1.gpu\": 99.33, \"system.gpu.1.memory\": 19.4, \"system.gpu.1.memoryAllocated\": 65.3, \"system.gpu.1.temp\": 47.0, \"system.gpu.process.1.gpu\": 99.33, \"system.gpu.process.1.memory\": 19.4, \"system.gpu.process.1.memoryAllocated\": 65.3, \"system.gpu.process.1.temp\": 47.0, \"system.gpu.1.powerWatts\": 72.78, \"system.gpu.1.powerPercent\": 29.11, \"system.gpu.process.1.powerWatts\": 72.78, \"system.gpu.process.1.powerPercent\": 29.11, \"system.cpu\": 63.69, \"system.memory\": 44.5, \"system.disk\": 83.1, \"system.proc.memory.availableMB\": 71238.73, \"system.proc.memory.rssMB\": 3770.78, \"system.proc.memory.percent\": 2.94, \"system.proc.cpu.threads\": 49.0, \"system.network.sent\": 48861297, \"system.network.recv\": 30907754, \"_wandb\": true, \"_timestamp\": 1590978732, \"_runtime\": 1275}\\n']}, 'wandb-history.jsonl': {'offset': 95, 'content': ['{\"train_loss\": 2.795068632846318, \"train_ent_seq_acc\": 0.0, \"train_head_rel_acc\": 0.0, \"train_tail_rel_acc\": 0.0, \"learning_rate\": 0.00099645378111863, \"time\": 755.8728427886963, \"_runtime\": 1256.0148553848267, \"_timestamp\": 1590978715.6635869, \"_step\": 95}\\n', '{\"train_loss\": 2.7660461629197703, \"train_ent_seq_acc\": 0.0, \"train_head_rel_acc\": 0.0, \"train_tail_rel_acc\": 0.0, \"learning_rate\": 0.0009963788216663272, \"time\": 763.5218753814697, \"_runtime\": 1263.663893699646, \"_timestamp\": 1590978723.3126252, \"_step\": 96}\\n', '{\"train_loss\": 2.7376154925279517, \"train_ent_seq_acc\": 0.0, \"train_head_rel_acc\": 0.0, \"train_tail_rel_acc\": 0.0, \"learning_rate\": 0.0009963030811159952, \"time\": 771.0739347934723, \"_runtime\": 1271.215946674347, \"_timestamp\": 1590978730.8646781, \"_step\": 97}\\n', '{\"train_loss\": 2.709769170103067, \"train_ent_seq_acc\": 0.0, \"train_head_rel_acc\": 0.0, \"train_tail_rel_acc\": 0.0, \"learning_rate\": 0.000996226559586819, \"time\": 778.4306049346924, \"_runtime\": 1278.5726244449615, \"_timestamp\": 1590978738.221356, \"_step\": 98}\\n']}, 'wandb-summary.json': {'offset': 0, 'content': ['{\"learning_rate\": 0.000996226559586819, \"_step\": 98, \"_timestamp\": 1590978738.221356, \"time\": 778.4306049346924, \"train_loss\": 2.709769170103067, \"_runtime\": 1278.5726244449615, \"train_ent_seq_acc\": 0.0, \"train_head_rel_acc\": 0.0, \"train_tail_rel_acc\": 0.0}\\n']}}}}\n"
     ]
    },
    {
     "name": "stdout",
     "output_type": "stream",
     "text": [
      "Epoch: 1/50, batch: 3378/12522, train_loss: 0.7894555139235087, t_ent_sample_acc: 4.933886075598591e-05, t_head_rel_sample_acc: 0.0, t_tail_rel_sample_acc: 0.0,lr: 0.0009558032771385767, batch_time: 0.9431967735290527, total_time: 2693.2807099819183 --------------"
     ]
    },
    {
     "name": "stderr",
     "output_type": "stream",
     "text": [
      "requests_with_retry encountered retryable exception: ('Connection aborted.', RemoteDisconnected('Remote end closed connection without response')). args: ('https://api.wandb.ai/files/wycheng/nyt_single/33ahq1zb/file_stream',), kwargs: {'json': {'files': {'output.log': {'offset': 2, 'content': ['2020-06-01T03:00:43.682316 Epoch: 1/50, batch: 3113/12522, train_loss: 0.8564584258270435, t_ent_sample_acc: 5.353892439245757e-05, t_head_rel_sample_acc: 0.0, t_tail_rel_sample_acc: 0.0,lr: 0.0009623825675411611, batch_time: 0.8159642219543457, total_time: 2483.1148495674133 -------------\\r']}, 'wandb-events.jsonl': {'offset': 78, 'content': ['{\"system.gpu.0.gpu\": 0.0, \"system.gpu.0.memory\": 0.0, \"system.gpu.0.memoryAllocated\": 49.98, \"system.gpu.0.temp\": 39.0, \"system.gpu.process.0.gpu\": 0.0, \"system.gpu.process.0.memory\": 0.0, \"system.gpu.process.0.memoryAllocated\": 49.98, \"system.gpu.process.0.temp\": 39.0, \"system.gpu.0.powerWatts\": 38.71, \"system.gpu.0.powerPercent\": 15.48, \"system.gpu.process.0.powerWatts\": 38.71, \"system.gpu.process.0.powerPercent\": 15.48, \"system.gpu.1.gpu\": 99.07, \"system.gpu.1.memory\": 15.73, \"system.gpu.1.memoryAllocated\": 65.3, \"system.gpu.1.temp\": 47.0, \"system.gpu.process.1.gpu\": 99.07, \"system.gpu.process.1.memory\": 15.73, \"system.gpu.process.1.memoryAllocated\": 65.3, \"system.gpu.process.1.temp\": 47.0, \"system.gpu.1.powerWatts\": 69.73, \"system.gpu.1.powerPercent\": 27.89, \"system.gpu.process.1.powerWatts\": 69.73, \"system.gpu.process.1.powerPercent\": 27.89, \"system.cpu\": 63.56, \"system.memory\": 45.2, \"system.disk\": 83.1, \"system.proc.memory.availableMB\": 70418.26, \"system.proc.memory.rssMB\": 3770.82, \"system.proc.memory.percent\": 2.94, \"system.proc.cpu.threads\": 49.0, \"system.network.sent\": 135556426, \"system.network.recv\": 98194002, \"_wandb\": true, \"_timestamp\": 1590980439, \"_runtime\": 2982}\\n']}, 'wandb-history.jsonl': {'offset': 308, 'content': ['{\"train_loss\": 0.8653276921249926, \"train_ent_seq_acc\": 5.409499241600792e-05, \"train_head_rel_acc\": 0.0, \"train_tail_rel_acc\": 0.0, \"learning_rate\": 0.0009631426137063104, \"time\": 2458.1058971881866, \"_runtime\": 2958.24790930748, \"_timestamp\": 1590980417.8966408, \"_step\": 308}\\n', '{\"train_loss\": 0.862536280018498, \"train_ent_seq_acc\": 5.391998435254623e-05, \"train_head_rel_acc\": 0.0, \"train_tail_rel_acc\": 0.0, \"learning_rate\": 0.0009629059003830935, \"time\": 2465.7421140670776, \"_runtime\": 2965.8841247558594, \"_timestamp\": 1590980425.5328562, \"_step\": 309}\\n', '{\"train_loss\": 0.8597629130090025, \"train_ent_seq_acc\": 5.374610500926166e-05, \"train_head_rel_acc\": 0.0, \"train_tail_rel_acc\": 0.0, \"learning_rate\": 0.000962668458634588, \"time\": 2473.638569355011, \"_runtime\": 2973.7805783748627, \"_timestamp\": 1590980433.4293098, \"_step\": 310}\\n', '{\"train_loss\": 0.8570073681675231, \"train_ent_seq_acc\": 5.357334350167805e-05, \"train_head_rel_acc\": 0.0, \"train_tail_rel_acc\": 0.0, \"learning_rate\": 0.0009624302888344302, \"time\": 2481.457288980484, \"_runtime\": 2981.599296808243, \"_timestamp\": 1590980441.2480283, \"_step\": 311}\\n']}, 'wandb-summary.json': {'offset': 0, 'content': ['{\"learning_rate\": 0.0009624302888344302, \"_step\": 311, \"_timestamp\": 1590980441.2480283, \"time\": 2481.457288980484, \"train_loss\": 0.8570073681675231, \"_runtime\": 2981.599296808243, \"train_ent_seq_acc\": 5.357334350167805e-05, \"train_head_rel_acc\": 0.0, \"train_tail_rel_acc\": 0.0}\\n']}}}}\n"
     ]
    },
    {
     "name": "stdout",
     "output_type": "stream",
     "text": [
      "Epoch: 1/50, batch: 10021/12522, train_loss: 0.2666869108274467, t_ent_sample_acc: 0.031450621204549424, t_head_rel_sample_acc: 0.00024947610762456903, t_tail_rel_sample_acc: 0.0002827395886411782,lr: 0.0006543653262120819, batch_time: 1.029634952545166, total_time: 7915.689510583878 ----------------"
     ]
    },
    {
     "name": "stderr",
     "output_type": "stream",
     "text": [
      "requests_with_retry encountered retryable exception: ('Connection aborted.', RemoteDisconnected('Remote end closed connection without response')). args: ('https://api.wandb.ai/files/wycheng/nyt_single/33ahq1zb/file_stream',), kwargs: {'json': {'files': {'output.log': {'offset': 3, 'content': ['2020-06-01T04:27:46.361190 Epoch: 1/50, batch: 9758/12522, train_loss: 0.2738715800962235, t_ent_sample_acc: 0.027755005190083667, t_head_rel_sample_acc: 0.00025620004862736276, t_tail_rel_sample_acc: 0.00027328005186918694,lr: 0.0006699683987361997, batch_time: 0.5889179706573486, total_time: 7705.772531986237 -------------\\r']}, 'wandb-events.jsonl': {'offset': 240, 'content': ['{\"system.gpu.0.gpu\": 0.0, \"system.gpu.0.memory\": 0.0, \"system.gpu.0.memoryAllocated\": 49.98, \"system.gpu.0.temp\": 39.0, \"system.gpu.process.0.gpu\": 0.0, \"system.gpu.process.0.memory\": 0.0, \"system.gpu.process.0.memoryAllocated\": 49.98, \"system.gpu.process.0.temp\": 39.0, \"system.gpu.0.powerWatts\": 38.7, \"system.gpu.0.powerPercent\": 15.48, \"system.gpu.process.0.powerWatts\": 38.7, \"system.gpu.process.0.powerPercent\": 15.48, \"system.gpu.1.gpu\": 99.6, \"system.gpu.1.memory\": 12.2, \"system.gpu.1.memoryAllocated\": 58.92, \"system.gpu.1.temp\": 45.53, \"system.gpu.process.1.gpu\": 99.6, \"system.gpu.process.1.memory\": 12.2, \"system.gpu.process.1.memoryAllocated\": 58.92, \"system.gpu.process.1.temp\": 45.53, \"system.gpu.1.powerWatts\": 64.45, \"system.gpu.1.powerPercent\": 25.78, \"system.gpu.process.1.powerWatts\": 64.45, \"system.gpu.process.1.powerPercent\": 25.78, \"system.cpu\": 78.58, \"system.memory\": 39.9, \"system.disk\": 83.1, \"system.proc.memory.availableMB\": 77169.26, \"system.proc.memory.rssMB\": 3770.86, \"system.proc.memory.percent\": 2.94, \"system.proc.cpu.threads\": 49.0, \"system.network.sent\": 372476533, \"system.network.recv\": 364576352, \"_wandb\": true, \"_timestamp\": 1590985659, \"_runtime\": 8202}\\n']}, 'wandb-history.jsonl': {'offset': 972, 'content': ['{\"train_loss\": 0.27491349660002895, \"train_ent_seq_acc\": 0.02732915068657454, \"train_head_rel_acc\": 0.0002571751954023049, \"train_tail_rel_acc\": 0.00027432020842912524, \"learning_rate\": 0.0006721490529546613, \"time\": 7676.273017406464, \"_runtime\": 8176.415037870407, \"_timestamp\": 1590985636.0637693, \"_step\": 972}\\n', '{\"train_loss\": 0.27463111093155895, \"train_ent_seq_acc\": 0.02747234000005429, \"train_head_rel_acc\": 0.0002569109109552776, \"train_tail_rel_acc\": 0.0002740383050189627, \"learning_rate\": 0.0006715600506938402, \"time\": 7685.103319883347, \"_runtime\": 8185.24533033371, \"_timestamp\": 1590985644.8940618, \"_step\": 973}\\n', '{\"train_loss\": 0.2743493065753475, \"train_ent_seq_acc\": 0.02758101569793636, \"train_head_rel_acc\": 0.00025664716913107545, \"train_tail_rel_acc\": 0.0002737569804064805, \"learning_rate\": 0.0006709707784673968, \"time\": 7692.826190233231, \"_runtime\": 8192.968199014664, \"_timestamp\": 1590985652.6169305, \"_step\": 974}\\n', '{\"train_loss\": 0.27406809874751853, \"train_ent_seq_acc\": 0.027689468494171657, \"train_head_rel_acc\": 0.0002563839682602611, \"train_tail_rel_acc\": 0.00027347623281094515, \"learning_rate\": 0.0006703812372026054, \"time\": 7700.590190649033, \"_runtime\": 8200.732206583023, \"_timestamp\": 1590985660.380938, \"_step\": 975}\\n']}, 'wandb-summary.json': {'offset': 0, 'content': ['{\"learning_rate\": 0.0006703812372026054, \"_step\": 975, \"_timestamp\": 1590985660.380938, \"time\": 7700.590190649033, \"train_loss\": 0.27406809874751853, \"_runtime\": 8200.732206583023, \"train_ent_seq_acc\": 0.027689468494171657, \"train_head_rel_acc\": 0.0002563839682602611, \"train_tail_rel_acc\": 0.00027347623281094515}\\n']}}}}\n"
     ]
    },
    {
     "name": "stdout",
     "output_type": "stream",
     "text": [
      "Epoch: 1/50, batch: 12522/12522, train_loss: 0.21344221384965473, t_ent_sample_acc: 0.06159825529382549, t_head_rel_sample_acc: 0.00067880532289728, t_tail_rel_sample_acc: 0.0007985944975262118,lr: 0.000500062721463132, batch_time: 0.6430239677429199, total_time: 9918.337591409683 -------------------"
     ]
    },
    {
     "name": "stderr",
     "output_type": "stream",
     "text": [
      "Validating: 100%|██████████| 1121/1121 [08:08<00:00,  2.29it/s]"
     ]
    },
    {
     "name": "stdout",
     "output_type": "stream",
     "text": [
      "{'time': 488.9634954929352,\n",
      " 'val_ent_seq_acc': 0.2468034549417717,\n",
      " 'val_f1': 0.007253115117204482,\n",
      " 'val_head_rel_acc': 0.0002973535622367893,\n",
      " 'val_prec': 0.0036778574122972117,\n",
      " 'val_recall': 0.2599999999998267,\n",
      " 'val_tail_rel_acc': 0.0002973535622367893}\n",
      "Current avf_f1: 0.007253115117204482, Best f1: 0.007253115117204482\n"
     ]
    },
    {
     "name": "stderr",
     "output_type": "stream",
     "text": [
      "\n"
     ]
    },
    {
     "name": "stdout",
     "output_type": "stream",
     "text": [
      "Epoch: 2/50, batch: 3180/12522, train_loss: 8.90295035845059e-05, t_ent_sample_acc: 0.2394130033563893, t_head_rel_sample_acc: 0.01058700240258151, t_tail_rel_sample_acc: 0.01006289338165859,lr: 0.0003058514091904477, batch_time: 0.8183455467224121, total_time: 2544.6383781433105 --------------------"
     ]
    },
    {
     "name": "stderr",
     "output_type": "stream",
     "text": [
      "requests_with_retry encountered retryable exception: ('Connection aborted.', OSError(\"(104, 'ECONNRESET')\")). args: ('https://api.wandb.ai/files/wycheng/nyt_single/33ahq1zb/file_stream',), kwargs: {'json': {'files': {'output.log': {'offset': 13, 'content': ['2020-06-01T05:41:08.872935 Epoch: 2/50, batch: 2127/12522, train_loss: 9.11448772579304e-05, t_ent_sample_acc: 0.22598339337724221, t_head_rel_sample_acc: 0.0076006897666054144, t_tail_rel_sample_acc: 0.007287259267482838,lr: 0.0003682292485679278, batch_time: 0.684828519821167, total_time: 1700.826170682907 -------------\\r']}, 'wandb-events.jsonl': {'offset': 377, 'content': ['{\"system.gpu.0.gpu\": 0.0, \"system.gpu.0.memory\": 0.0, \"system.gpu.0.memoryAllocated\": 49.98, \"system.gpu.0.temp\": 39.0, \"system.gpu.process.0.gpu\": 0.0, \"system.gpu.process.0.memory\": 0.0, \"system.gpu.process.0.memoryAllocated\": 49.98, \"system.gpu.process.0.temp\": 39.0, \"system.gpu.0.powerWatts\": 38.7, \"system.gpu.0.powerPercent\": 15.48, \"system.gpu.process.0.powerWatts\": 38.7, \"system.gpu.process.0.powerPercent\": 15.48, \"system.gpu.1.gpu\": 99.47, \"system.gpu.1.memory\": 16.67, \"system.gpu.1.memoryAllocated\": 58.92, \"system.gpu.1.temp\": 46.87, \"system.gpu.process.1.gpu\": 99.47, \"system.gpu.process.1.memory\": 16.67, \"system.gpu.process.1.memoryAllocated\": 58.92, \"system.gpu.process.1.temp\": 46.87, \"system.gpu.1.powerWatts\": 67.09, \"system.gpu.1.powerPercent\": 26.83, \"system.gpu.process.1.powerWatts\": 67.09, \"system.gpu.process.1.powerPercent\": 26.83, \"system.cpu\": 63.76, \"system.memory\": 41.2, \"system.disk\": 83.1, \"system.proc.memory.availableMB\": 75537.1, \"system.proc.memory.rssMB\": 3771.66, \"system.proc.memory.percent\": 2.94, \"system.proc.cpu.threads\": 49.0, \"system.network.sent\": 603510677, \"system.network.recv\": 605758978, \"_wandb\": true, \"_timestamp\": 1590990066, \"_runtime\": 12609}\\n']}, 'wandb-history.jsonl': {'offset': 1463, 'content': ['{\"train_loss\": 9.114304453470588e-05, \"train_ent_seq_acc\": 0.22549020128065408, \"train_head_rel_acc\": 0.007333014725156517, \"train_tail_rel_acc\": 0.007093894679770978, \"learning_rate\": 0.0003704087337729529, \"time\": 1673.3474249839783, \"_runtime\": 12581.172024965286, \"_timestamp\": 1590990040.8207564, \"_step\": 1463}\\n', '{\"train_loss\": 9.117720720387782e-05, \"train_ent_seq_acc\": 0.225606859070752, \"train_head_rel_acc\": 0.0073774395344769145, \"train_tail_rel_acc\": 0.007139457614009917, \"learning_rate\": 0.0003698030542154159, \"time\": 1681.0776636600494, \"_runtime\": 12588.902265071869, \"_timestamp\": 1590990048.5509965, \"_step\": 1464}\\n', '{\"train_loss\": 9.117893443423249e-05, \"train_ent_seq_acc\": 0.2251697509619705, \"train_head_rel_acc\": 0.00734249192891331, \"train_tail_rel_acc\": 0.007105637350561267, \"learning_rate\": 0.00036919757953482647, \"time\": 1688.9871468544006, \"_runtime\": 12596.811753988266, \"_timestamp\": 1590990056.4604855, \"_step\": 1465}\\n', '{\"train_loss\": 9.117947021443675e-05, \"train_ent_seq_acc\": 0.22536539886004517, \"train_head_rel_acc\": 0.0076221910106410735, \"train_tail_rel_acc\": 0.007307873862298914, \"learning_rate\": 0.0003685923106839548, \"time\": 1696.522379875183, \"_runtime\": 12604.346978187561, \"_timestamp\": 1590990063.9957097, \"_step\": 1466}\\n']}, 'wandb-summary.json': {'offset': 0, 'content': ['{\"learning_rate\": 0.0003685923106839548, \"_step\": 1466, \"_timestamp\": 1590990063.9957097, \"time\": 1696.522379875183, \"train_loss\": 9.117947021443675e-05, \"_runtime\": 12604.346978187561, \"train_ent_seq_acc\": 0.22536539886004517, \"train_head_rel_acc\": 0.0076221910106410735, \"train_tail_rel_acc\": 0.007307873862298914, \"val_ent_seq_acc\": 0.2468034549417717, \"val_f1\": 0.007253115117204482, \"val_head_rel_acc\": 0.0002973535622367893, \"val_recall\": 0.2599999999998267, \"val_tail_rel_acc\": 0.0002973535622367893, \"val_prec\": 0.0036778574122972117}\\n']}}}}\n"
     ]
    },
    {
     "name": "stdout",
     "output_type": "stream",
     "text": [
      "Epoch: 2/50, batch: 3751/12522, train_loss: 8.931135063842537e-05, t_ent_sample_acc: 0.23935839873461748, t_head_rel_sample_acc: 0.011152581858240869, t_tail_rel_sample_acc: 0.01048609291003946,lr: 0.0002733736704236526, batch_time: 0.8042082786560059, total_time: 2998.8418617248535 ---------------"
     ]
    },
    {
     "name": "stderr",
     "output_type": "stream",
     "text": [
      "requests_with_retry encountered retryable exception: ('Connection aborted.', RemoteDisconnected('Remote end closed connection without response')). args: ('https://api.wandb.ai/files/wycheng/nyt_single/33ahq1zb/file_stream',), kwargs: {'json': {'files': {'output.log': {'offset': 14, 'content': ['2020-06-01T05:59:17.091024 Epoch: 2/50, batch: 3483/12522, train_loss: 8.946477320597094e-05, t_ent_sample_acc: 0.24045363736844014, t_head_rel_sample_acc: 0.011245095550996833, t_tail_rel_sample_acc: 0.010575174973026761,lr: 0.0002884824600038317, batch_time: 0.8718113899230957, total_time: 2788.7366518974304 -------------\\r']}, 'wandb-events.jsonl': {'offset': 410, 'content': ['{\"system.gpu.0.gpu\": 0.0, \"system.gpu.0.memory\": 0.0, \"system.gpu.0.memoryAllocated\": 49.98, \"system.gpu.0.temp\": 39.0, \"system.gpu.process.0.gpu\": 0.0, \"system.gpu.process.0.memory\": 0.0, \"system.gpu.process.0.memoryAllocated\": 49.98, \"system.gpu.process.0.temp\": 39.0, \"system.gpu.0.powerWatts\": 38.62, \"system.gpu.0.powerPercent\": 15.45, \"system.gpu.process.0.powerWatts\": 38.62, \"system.gpu.process.0.powerPercent\": 15.45, \"system.gpu.1.gpu\": 99.33, \"system.gpu.1.memory\": 17.33, \"system.gpu.1.memoryAllocated\": 58.92, \"system.gpu.1.temp\": 46.4, \"system.gpu.process.1.gpu\": 99.33, \"system.gpu.process.1.memory\": 17.33, \"system.gpu.process.1.memoryAllocated\": 58.92, \"system.gpu.process.1.temp\": 46.4, \"system.gpu.1.powerWatts\": 76.79, \"system.gpu.1.powerPercent\": 30.71, \"system.gpu.process.1.powerWatts\": 76.79, \"system.gpu.process.1.powerPercent\": 30.71, \"system.cpu\": 63.55, \"system.memory\": 41.6, \"system.disk\": 83.1, \"system.proc.memory.availableMB\": 74967.15, \"system.proc.memory.rssMB\": 3772.37, \"system.proc.memory.percent\": 2.94, \"system.proc.cpu.threads\": 49.0, \"system.network.sent\": 633522766, \"system.network.recv\": 654136160, \"_wandb\": true, \"_timestamp\": 1590991128, \"_runtime\": 13671}\\n']}, 'wandb-history.jsonl': {'offset': 1599, 'content': ['{\"train_loss\": 8.938087619261484e-05, \"train_ent_seq_acc\": 0.2402685266392917, \"train_head_rel_acc\": 0.011107891754840154, \"train_tail_rel_acc\": 0.010528349584512039, \"learning_rate\": 0.0002903028073472745, \"time\": 2761.2420506477356, \"_runtime\": 13669.066643238068, \"_timestamp\": 1590991128.7153747, \"_step\": 1599}\\n', '{\"train_loss\": 8.942314493214258e-05, \"train_ent_seq_acc\": 0.2403447998117691, \"train_head_rel_acc\": 0.011075797297299442, \"train_tail_rel_acc\": 0.010497929620384584, \"learning_rate\": 0.0002897335844475326, \"time\": 2769.594287633896, \"_runtime\": 13677.418880701065, \"_timestamp\": 1590991137.0676122, \"_step\": 1600}\\n', '{\"train_loss\": 8.940252972088019e-05, \"train_ent_seq_acc\": 0.24032459970219133, \"train_head_rel_acc\": 0.011187938479070738, \"train_tail_rel_acc\": 0.01051570184032981, \"learning_rate\": 0.00028916469242146116, \"time\": 2777.9208421707153, \"_runtime\": 13685.745447397232, \"_timestamp\": 1590991145.3941789, \"_step\": 1601}\\n', '{\"train_loss\": 8.947511483869233e-05, \"train_ent_seq_acc\": 0.24030451564328556, \"train_head_rel_acc\": 0.011155798466203543, \"train_tail_rel_acc\": 0.010485492987010849, \"learning_rate\": 0.0002885961321642646, \"time\": 2787.07084441185, \"_runtime\": 13694.895456552505, \"_timestamp\": 1590991154.544188, \"_step\": 1602}\\n']}, 'wandb-summary.json': {'offset': 0, 'content': ['{\"learning_rate\": 0.0002885961321642646, \"_step\": 1602, \"_timestamp\": 1590991154.544188, \"time\": 2787.07084441185, \"train_loss\": 8.947511483869233e-05, \"_runtime\": 13694.895456552505, \"train_ent_seq_acc\": 0.24030451564328556, \"train_head_rel_acc\": 0.011155798466203543, \"train_tail_rel_acc\": 0.010485492987010849, \"val_ent_seq_acc\": 0.2468034549417717, \"val_f1\": 0.007253115117204482, \"val_head_rel_acc\": 0.0002973535622367893, \"val_recall\": 0.2599999999998267, \"val_tail_rel_acc\": 0.0002973535622367893, \"val_prec\": 0.0036778574122972117}\\n']}}}}\n"
     ]
    },
    {
     "name": "stdout",
     "output_type": "stream",
     "text": [
      "Epoch: 2/50, batch: 8495/12522, train_loss: 8.0314490642591e-05, t_ent_sample_acc: 0.2996076186679264, t_head_rel_sample_acc: 0.02878163709157772, t_tail_rel_sample_acc: 0.02878163709333183,lr: 6.248150730496549e-05, batch_time: 0.6181893348693848, total_time: 6790.400936365128 --------------------"
     ]
    },
    {
     "name": "stderr",
     "output_type": "stream",
     "text": [
      "requests_with_retry encountered retryable exception: ('Connection aborted.', OSError(\"(110, 'ETIMEDOUT')\")). args: ('https://api.wandb.ai/files/wycheng/nyt_single/33ahq1zb/file_stream',), kwargs: {'json': {'files': {'output.log': {'offset': 15, 'content': ['2020-06-01T06:49:54.561027 Epoch: 2/50, batch: 7264/12522, train_loss: 8.280002716128165e-05, t_ent_sample_acc: 0.28434747305292524, t_head_rel_sample_acc: 0.022416483766772674, t_tail_rel_sample_acc: 0.022462372169604256,lr: 0.00010491326780865851, batch_time: 0.804511308670044, total_time: 5826.207480669022 -------------\\r']}, 'wandb-events.jsonl': {'offset': 505, 'content': ['{\"system.gpu.0.gpu\": 0.0, \"system.gpu.0.memory\": 0.0, \"system.gpu.0.memoryAllocated\": 49.98, \"system.gpu.0.temp\": 39.0, \"system.gpu.process.0.gpu\": 0.0, \"system.gpu.process.0.memory\": 0.0, \"system.gpu.process.0.memoryAllocated\": 49.98, \"system.gpu.process.0.temp\": 39.0, \"system.gpu.0.powerWatts\": 38.66, \"system.gpu.0.powerPercent\": 15.47, \"system.gpu.process.0.powerWatts\": 38.66, \"system.gpu.process.0.powerPercent\": 15.47, \"system.gpu.1.gpu\": 99.6, \"system.gpu.1.memory\": 18.8, \"system.gpu.1.memoryAllocated\": 58.92, \"system.gpu.1.temp\": 47.33, \"system.gpu.process.1.gpu\": 99.6, \"system.gpu.process.1.memory\": 18.8, \"system.gpu.process.1.memoryAllocated\": 58.92, \"system.gpu.process.1.temp\": 47.33, \"system.gpu.1.powerWatts\": 77.71, \"system.gpu.1.powerPercent\": 31.08, \"system.gpu.process.1.powerWatts\": 77.71, \"system.gpu.process.1.powerPercent\": 31.08, \"system.cpu\": 63.97, \"system.memory\": 41.6, \"system.disk\": 83.1, \"system.proc.memory.availableMB\": 74983.41, \"system.proc.memory.rssMB\": 3771.91, \"system.proc.memory.percent\": 2.94, \"system.proc.cpu.threads\": 49.0, \"system.network.sent\": 798084016, \"system.network.recv\": 843877475, \"_wandb\": true, \"_timestamp\": 1590994183, \"_runtime\": 16727}\\n']}, 'wandb-history.jsonl': {'offset': 1977, 'content': ['{\"train_loss\": 8.28776690983338e-05, \"train_ent_seq_acc\": 0.2838934279299264, \"train_head_rel_acc\": 0.022196100771534312, \"train_tail_rel_acc\": 0.022242198594542004, \"learning_rate\": 0.00010618520022930673, \"time\": 5802.057328939438, \"_runtime\": 16709.881983041763, \"_timestamp\": 1590994169.5307145, \"_step\": 1977}\\n', '{\"train_loss\": 8.285416460453155e-05, \"train_ent_seq_acc\": 0.2840077398318379, \"train_head_rel_acc\": 0.02225751572510696, \"train_tail_rel_acc\": 0.022303549885881523, \"learning_rate\": 0.00010579905250172223, \"time\": 5810.0299599170685, \"_runtime\": 16717.854561567307, \"_timestamp\": 1590994177.503293, \"_step\": 1978}\\n', '{\"train_loss\": 8.282473441437218e-05, \"train_ent_seq_acc\": 0.2842366631039914, \"train_head_rel_acc\": 0.0222957759454421, \"train_tail_rel_acc\": 0.022341746619579265, \"learning_rate\": 0.00010541352508582247, \"time\": 5817.010571718216, \"_runtime\": 16724.835164785385, \"_timestamp\": 1590994184.4838963, \"_step\": 1979}\\n', '{\"train_loss\": 8.280722194526392e-05, \"train_ent_seq_acc\": 0.2843501874277897, \"train_head_rel_acc\": 0.022379838140554918, \"train_tail_rel_acc\": 0.02242574550292492, \"learning_rate\": 0.00010502861858827068, \"time\": 5823.825258016586, \"_runtime\": 16731.649850845337, \"_timestamp\": 1590994191.2985823, \"_step\": 1980}\\n']}, 'wandb-summary.json': {'offset': 0, 'content': ['{\"learning_rate\": 0.00010502861858827068, \"_step\": 1980, \"_timestamp\": 1590994191.2985823, \"time\": 5823.825258016586, \"train_loss\": 8.280722194526392e-05, \"_runtime\": 16731.649850845337, \"train_ent_seq_acc\": 0.2843501874277897, \"train_head_rel_acc\": 0.022379838140554918, \"train_tail_rel_acc\": 0.02242574550292492, \"val_ent_seq_acc\": 0.2468034549417717, \"val_f1\": 0.007253115117204482, \"val_head_rel_acc\": 0.0002973535622367893, \"val_recall\": 0.2599999999998267, \"val_tail_rel_acc\": 0.0002973535622367893, \"val_prec\": 0.0036778574122972117}\\n']}}}}\n"
     ]
    },
    {
     "name": "stdout",
     "output_type": "stream",
     "text": [
      "Epoch: 2/50, batch: 12522/12522, train_loss: 7.478649492281683e-05, t_ent_sample_acc: 0.3431427426799249, t_head_rel_sample_acc: 0.047303413991596044, t_tail_rel_sample_acc: 0.047170314917005,lr: 3.933981973514023e-12, batch_time: 0.6021895408630371, total_time: 10021.204030752182 -----------------"
     ]
    },
    {
     "name": "stderr",
     "output_type": "stream",
     "text": [
      "Validating: 100%|██████████| 1121/1121 [08:32<00:00,  2.19it/s]"
     ]
    },
    {
     "name": "stdout",
     "output_type": "stream",
     "text": [
      "{'time': 512.8701512813568,\n",
      " 'val_ent_seq_acc': 0.45376153171966377,\n",
      " 'val_f1': 0.13568661212357924,\n",
      " 'val_head_rel_acc': 0.05835563650256709,\n",
      " 'val_prec': 0.07431158053564622,\n",
      " 'val_recall': 0.7794263105835035,\n",
      " 'val_tail_rel_acc': 0.05850431324380727}\n",
      "Current avf_f1: 0.13568661212357924, Best f1: 0.13568661212357924\n"
     ]
    },
    {
     "name": "stderr",
     "output_type": "stream",
     "text": [
      "\n"
     ]
    },
    {
     "name": "stdout",
     "output_type": "stream",
     "text": [
      "Epoch: 3/50, batch: 398/12522, train_loss: 0.00042603906673211345, t_ent_sample_acc: 0.02010050311160447, t_head_rel_sample_acc: 0.0004187604814917598, t_tail_rel_sample_acc: 0.0004187604814917598,lr: 0.000999380097173113, batch_time: 0.8122684955596924, total_time: 319.0021708011627 ------------------"
     ]
    },
    {
     "name": "stderr",
     "output_type": "stream",
     "text": [
      "requests_with_retry encountered retryable exception: ('Connection aborted.', RemoteDisconnected('Remote end closed connection without response')). args: ('https://api.wandb.ai/files/wycheng/nyt_single/33ahq1zb/file_stream',), kwargs: {'json': {'files': {'output.log': {'offset': 25, 'content': ['2020-06-01T08:10:11.446885 Epoch: 3/50, batch: 136/12522, train_loss: 0.0004152763802481144, t_ent_sample_acc: 0.0330882362802239, t_head_rel_sample_acc: 0.0012254902326008853, t_tail_rel_sample_acc: 0.0012254902326008853,lr: 0.0009999283048922763, batch_time: 0.996302604675293, total_time: 108.78156280517578 -------------\\r']}, 'wandb-events.jsonl': {'offset': 655, 'content': ['{\"system.gpu.0.gpu\": 0.0, \"system.gpu.0.memory\": 0.0, \"system.gpu.0.memoryAllocated\": 49.98, \"system.gpu.0.temp\": 39.0, \"system.gpu.process.0.gpu\": 0.0, \"system.gpu.process.0.memory\": 0.0, \"system.gpu.process.0.memoryAllocated\": 49.98, \"system.gpu.process.0.temp\": 39.0, \"system.gpu.0.powerWatts\": 38.69, \"system.gpu.0.powerPercent\": 15.48, \"system.gpu.process.0.powerWatts\": 38.69, \"system.gpu.process.0.powerPercent\": 15.48, \"system.gpu.1.gpu\": 91.93, \"system.gpu.1.memory\": 11.2, \"system.gpu.1.memoryAllocated\": 58.92, \"system.gpu.1.temp\": 46.73, \"system.gpu.process.1.gpu\": 91.93, \"system.gpu.process.1.memory\": 11.2, \"system.gpu.process.1.memoryAllocated\": 58.92, \"system.gpu.process.1.temp\": 46.73, \"system.gpu.1.powerWatts\": 65.5, \"system.gpu.1.powerPercent\": 26.2, \"system.gpu.process.1.powerWatts\": 65.5, \"system.gpu.process.1.powerPercent\": 26.2, \"system.cpu\": 78.87, \"system.memory\": 42.31, \"system.disk\": 83.1, \"system.proc.memory.availableMB\": 74052.34, \"system.proc.memory.rssMB\": 3771.82, \"system.proc.memory.percent\": 2.94, \"system.proc.cpu.threads\": 49.0, \"system.network.sent\": 1056706459, \"system.network.recv\": 1168152099, \"_wandb\": true, \"_timestamp\": 1590999010, \"_runtime\": 21553}\\n']}, 'wandb-history.jsonl': {'offset': 2518, 'content': ['{\"train_loss\": 0.0005007262908194288, \"train_ent_seq_acc\": 0.021452145853845198, \"train_head_rel_acc\": 0.0016501650656804, \"train_tail_rel_acc\": 0.0016501650656804, \"learning_rate\": 0.0009999606606962907, \"time\": 81.41457939147949, \"_runtime\": 21523.673174381256, \"_timestamp\": 1590998983.3219059, \"_step\": 2518}\\n', '{\"train_loss\": 0.0004743522850886776, \"train_ent_seq_acc\": 0.024024024739995733, \"train_head_rel_acc\": 0.0015015015462497333, \"train_tail_rel_acc\": 0.0015015015462497333, \"learning_rate\": 0.0009999523995735937, \"time\": 89.21828389167786, \"_runtime\": 21531.476883649826, \"_timestamp\": 1590998991.1256151, \"_step\": 2519}\\n', '{\"train_loss\": 0.0004474014964547347, \"train_ent_seq_acc\": 0.02341597865928303, \"train_head_rel_acc\": 0.00137741050936959, \"train_tail_rel_acc\": 0.00137741050936959, \"learning_rate\": 0.000999943351729512, \"time\": 97.01856184005737, \"_runtime\": 21539.277156829834, \"_timestamp\": 1590998998.9258883, \"_step\": 2520}\\n', '{\"train_loss\": 0.0004257968849527387, \"train_ent_seq_acc\": 0.029262087386073048, \"train_head_rel_acc\": 0.0012722646689596977, \"train_tail_rel_acc\": 0.0012722646689596977, \"learning_rate\": 0.0009999335171782832, \"time\": 104.99756979942322, \"_runtime\": 21547.256167411804, \"_timestamp\": 1590999006.904899, \"_step\": 2521}\\n']}, 'wandb-summary.json': {'offset': 0, 'content': ['{\"learning_rate\": 0.0009999335171782832, \"_step\": 2521, \"_timestamp\": 1590999006.904899, \"time\": 104.99756979942322, \"train_loss\": 0.0004257968849527387, \"_runtime\": 21547.256167411804, \"train_ent_seq_acc\": 0.029262087386073048, \"train_head_rel_acc\": 0.0012722646689596977, \"train_tail_rel_acc\": 0.0012722646689596977, \"val_ent_seq_acc\": 0.45376153171966377, \"val_f1\": 0.13568661212357924, \"val_head_rel_acc\": 0.05835563650256709, \"val_recall\": 0.7794263105835035, \"val_tail_rel_acc\": 0.05850431324380727, \"val_prec\": 0.07431158053564622}\\n']}}}}\n"
     ]
    },
    {
     "name": "stdout",
     "output_type": "stream",
     "text": [
      "Epoch: 3/50, batch: 2673/12522, train_loss: 0.00013524545477271174, t_ent_sample_acc: 0.2574510596193627, t_head_rel_sample_acc: 0.055742612808909346, t_tail_rel_sample_acc: 0.05599202049545612,lr: 0.0009721749823187451, batch_time: 0.7539916038513184, total_time: 2140.920558452606 --------------------"
     ]
    },
    {
     "name": "stderr",
     "output_type": "stream",
     "text": [
      "requests_with_retry encountered retryable exception: 500 Server Error: Internal Server Error for url: https://api.wandb.ai/files/wycheng/nyt_single/33ahq1zb/file_stream. args: ('https://api.wandb.ai/files/wycheng/nyt_single/33ahq1zb/file_stream',), kwargs: {'json': {'files': {'output.log': {'offset': 26, 'content': ['2020-06-01T08:43:33.569801 Epoch: 3/50, batch: 2635/12522, train_loss: 0.000136390538821907, t_ent_sample_acc: 0.2531309355368424, t_head_rel_sample_acc: 0.05433270229447273, t_tail_rel_sample_acc: 0.054206200105189374,lr: 0.0009729536214200448, batch_time: 0.7968289852142334, total_time: 2110.9469542503357 -------------\\r']}, 'wandb-events.jsonl': {'offset': 717, 'content': ['{\"system.gpu.0.gpu\": 0.0, \"system.gpu.0.memory\": 0.0, \"system.gpu.0.memoryAllocated\": 49.98, \"system.gpu.0.temp\": 39.0, \"system.gpu.process.0.gpu\": 0.0, \"system.gpu.process.0.memory\": 0.0, \"system.gpu.process.0.memoryAllocated\": 49.98, \"system.gpu.process.0.temp\": 39.0, \"system.gpu.0.powerWatts\": 38.85, \"system.gpu.0.powerPercent\": 15.54, \"system.gpu.process.0.powerWatts\": 38.85, \"system.gpu.process.0.powerPercent\": 15.54, \"system.gpu.1.gpu\": 99.47, \"system.gpu.1.memory\": 13.07, \"system.gpu.1.memoryAllocated\": 58.92, \"system.gpu.1.temp\": 47.0, \"system.gpu.process.1.gpu\": 99.47, \"system.gpu.process.1.memory\": 13.07, \"system.gpu.process.1.memoryAllocated\": 58.92, \"system.gpu.process.1.temp\": 47.0, \"system.gpu.1.powerWatts\": 70.69, \"system.gpu.1.powerPercent\": 28.28, \"system.gpu.process.1.powerWatts\": 70.69, \"system.gpu.process.1.powerPercent\": 28.28, \"system.cpu\": 63.65, \"system.memory\": 43.0, \"system.disk\": 83.1, \"system.proc.memory.availableMB\": 73182.39, \"system.proc.memory.rssMB\": 3771.92, \"system.proc.memory.percent\": 2.94, \"system.proc.cpu.threads\": 49.0, \"system.network.sent\": 1166335169, \"system.network.recv\": 1296483893, \"_wandb\": true, \"_timestamp\": 1591001004, \"_runtime\": 23547}\\n']}, 'wandb-history.jsonl': {'offset': 2768, 'content': ['{\"train_loss\": 0.00013736581059254835, \"train_ent_seq_acc\": 0.2506728238415049, \"train_head_rel_acc\": 0.053761375283837454, \"train_tail_rel_acc\": 0.05363321947689379, \"learning_rate\": 0.00097364118959529, \"time\": 2083.8563117980957, \"_runtime\": 23526.11490058899, \"_timestamp\": 1591000985.763632, \"_step\": 2768}\\n', '{\"train_loss\": 0.00013703636801972165, \"train_ent_seq_acc\": 0.2518192320742492, \"train_head_rel_acc\": 0.05406613193654959, \"train_tail_rel_acc\": 0.05387463445455258, \"learning_rate\": 0.0009734398574849904, \"time\": 2091.8564240932465, \"_runtime\": 23534.11510515213, \"_timestamp\": 1591000993.7638366, \"_step\": 2769}\\n', '{\"train_loss\": 0.0001368034761728489, \"train_ent_seq_acc\": 0.25251176970371625, \"train_head_rel_acc\": 0.05417779620164044, \"train_tail_rel_acc\": 0.05424138519291839, \"learning_rate\": 0.0009732377803732455, \"time\": 2099.595886707306, \"_runtime\": 23541.85447382927, \"_timestamp\": 1591001001.5032053, \"_step\": 2770}\\n', '{\"train_loss\": 0.00013651669304114378, \"train_ent_seq_acc\": 0.25281895924230713, \"train_head_rel_acc\": 0.05435195890319343, \"train_tail_rel_acc\": 0.05422526438827072, \"learning_rate\": 0.0009730349585780423, \"time\": 2107.79541683197, \"_runtime\": 23550.05401301384, \"_timestamp\": 1591001009.7027445, \"_step\": 2771}\\n']}, 'wandb-summary.json': {'offset': 0, 'content': ['{\"learning_rate\": 0.0009730349585780423, \"_step\": 2771, \"_timestamp\": 1591001009.7027445, \"time\": 2107.79541683197, \"train_loss\": 0.00013651669304114378, \"_runtime\": 23550.05401301384, \"train_ent_seq_acc\": 0.25281895924230713, \"train_head_rel_acc\": 0.05435195890319343, \"train_tail_rel_acc\": 0.05422526438827072, \"val_ent_seq_acc\": 0.45376153171966377, \"val_f1\": 0.13568661212357924, \"val_head_rel_acc\": 0.05835563650256709, \"val_recall\": 0.7794263105835035, \"val_tail_rel_acc\": 0.05850431324380727, \"val_prec\": 0.07431158053564622}\\n']}}}}\n"
     ]
    },
    {
     "name": "stdout",
     "output_type": "stream",
     "text": [
      "Epoch: 3/50, batch: 2746/12522, train_loss: 0.0001333079223215029, t_ent_sample_acc: 0.26323137282022835, t_head_rel_sample_acc: 0.05784171070830282, t_tail_rel_sample_acc: 0.058266571145681074,lr: 0.000970649088031254, batch_time: 0.7930846214294434, total_time: 2198.3573830127716 ----------------"
     ]
    },
    {
     "name": "stderr",
     "output_type": "stream",
     "text": [
      "requests_with_retry encountered retryable exception: 500 Server Error: Internal Server Error for url: https://api.wandb.ai/files/wycheng/nyt_single/33ahq1zb/file_stream. args: ('https://api.wandb.ai/files/wycheng/nyt_single/33ahq1zb/file_stream',), kwargs: {'json': {'files': {'output.log': {'offset': 26, 'content': ['2020-06-01T08:43:33.569801 Epoch: 3/50, batch: 2635/12522, train_loss: 0.000136390538821907, t_ent_sample_acc: 0.2531309355368424, t_head_rel_sample_acc: 0.05433270229447273, t_tail_rel_sample_acc: 0.054206200105189374,lr: 0.0009729536214200448, batch_time: 0.7968289852142334, total_time: 2110.9469542503357 -------------\\r']}, 'wandb-events.jsonl': {'offset': 717, 'content': ['{\"system.gpu.0.gpu\": 0.0, \"system.gpu.0.memory\": 0.0, \"system.gpu.0.memoryAllocated\": 49.98, \"system.gpu.0.temp\": 39.0, \"system.gpu.process.0.gpu\": 0.0, \"system.gpu.process.0.memory\": 0.0, \"system.gpu.process.0.memoryAllocated\": 49.98, \"system.gpu.process.0.temp\": 39.0, \"system.gpu.0.powerWatts\": 38.85, \"system.gpu.0.powerPercent\": 15.54, \"system.gpu.process.0.powerWatts\": 38.85, \"system.gpu.process.0.powerPercent\": 15.54, \"system.gpu.1.gpu\": 99.47, \"system.gpu.1.memory\": 13.07, \"system.gpu.1.memoryAllocated\": 58.92, \"system.gpu.1.temp\": 47.0, \"system.gpu.process.1.gpu\": 99.47, \"system.gpu.process.1.memory\": 13.07, \"system.gpu.process.1.memoryAllocated\": 58.92, \"system.gpu.process.1.temp\": 47.0, \"system.gpu.1.powerWatts\": 70.69, \"system.gpu.1.powerPercent\": 28.28, \"system.gpu.process.1.powerWatts\": 70.69, \"system.gpu.process.1.powerPercent\": 28.28, \"system.cpu\": 63.65, \"system.memory\": 43.0, \"system.disk\": 83.1, \"system.proc.memory.availableMB\": 73182.39, \"system.proc.memory.rssMB\": 3771.92, \"system.proc.memory.percent\": 2.94, \"system.proc.cpu.threads\": 49.0, \"system.network.sent\": 1166335169, \"system.network.recv\": 1296483893, \"_wandb\": true, \"_timestamp\": 1591001004, \"_runtime\": 23547}\\n']}, 'wandb-history.jsonl': {'offset': 2768, 'content': ['{\"train_loss\": 0.00013736581059254835, \"train_ent_seq_acc\": 0.2506728238415049, \"train_head_rel_acc\": 0.053761375283837454, \"train_tail_rel_acc\": 0.05363321947689379, \"learning_rate\": 0.00097364118959529, \"time\": 2083.8563117980957, \"_runtime\": 23526.11490058899, \"_timestamp\": 1591000985.763632, \"_step\": 2768}\\n', '{\"train_loss\": 0.00013703636801972165, \"train_ent_seq_acc\": 0.2518192320742492, \"train_head_rel_acc\": 0.05406613193654959, \"train_tail_rel_acc\": 0.05387463445455258, \"learning_rate\": 0.0009734398574849904, \"time\": 2091.8564240932465, \"_runtime\": 23534.11510515213, \"_timestamp\": 1591000993.7638366, \"_step\": 2769}\\n', '{\"train_loss\": 0.0001368034761728489, \"train_ent_seq_acc\": 0.25251176970371625, \"train_head_rel_acc\": 0.05417779620164044, \"train_tail_rel_acc\": 0.05424138519291839, \"learning_rate\": 0.0009732377803732455, \"time\": 2099.595886707306, \"_runtime\": 23541.85447382927, \"_timestamp\": 1591001001.5032053, \"_step\": 2770}\\n', '{\"train_loss\": 0.00013651669304114378, \"train_ent_seq_acc\": 0.25281895924230713, \"train_head_rel_acc\": 0.05435195890319343, \"train_tail_rel_acc\": 0.05422526438827072, \"learning_rate\": 0.0009730349585780423, \"time\": 2107.79541683197, \"_runtime\": 23550.05401301384, \"_timestamp\": 1591001009.7027445, \"_step\": 2771}\\n']}, 'wandb-summary.json': {'offset': 0, 'content': ['{\"learning_rate\": 0.0009730349585780423, \"_step\": 2771, \"_timestamp\": 1591001009.7027445, \"time\": 2107.79541683197, \"train_loss\": 0.00013651669304114378, \"_runtime\": 23550.05401301384, \"train_ent_seq_acc\": 0.25281895924230713, \"train_head_rel_acc\": 0.05435195890319343, \"train_tail_rel_acc\": 0.05422526438827072, \"val_ent_seq_acc\": 0.45376153171966377, \"val_f1\": 0.13568661212357924, \"val_head_rel_acc\": 0.05835563650256709, \"val_recall\": 0.7794263105835035, \"val_tail_rel_acc\": 0.05850431324380727, \"val_prec\": 0.07431158053564622}\\n']}}}}\n"
     ]
    },
    {
     "name": "stdout",
     "output_type": "stream",
     "text": [
      "Epoch: 3/50, batch: 2752/12522, train_loss: 0.00013319963816784788, t_ent_sample_acc: 0.26380814552350446, t_head_rel_sample_acc: 0.058018412413941914, t_tail_rel_sample_acc: 0.05838178453945317,lr: 0.0009705219150645193, batch_time: 0.7654774188995361, total_time: 2203.0928170681 ---------------"
     ]
    },
    {
     "name": "stderr",
     "output_type": "stream",
     "text": [
      "requests_with_retry encountered retryable exception: 500 Server Error: Internal Server Error for url: https://api.wandb.ai/files/wycheng/nyt_single/33ahq1zb/file_stream. args: ('https://api.wandb.ai/files/wycheng/nyt_single/33ahq1zb/file_stream',), kwargs: {'json': {'files': {'output.log': {'offset': 26, 'content': ['2020-06-01T08:43:33.569801 Epoch: 3/50, batch: 2635/12522, train_loss: 0.000136390538821907, t_ent_sample_acc: 0.2531309355368424, t_head_rel_sample_acc: 0.05433270229447273, t_tail_rel_sample_acc: 0.054206200105189374,lr: 0.0009729536214200448, batch_time: 0.7968289852142334, total_time: 2110.9469542503357 -------------\\r']}, 'wandb-events.jsonl': {'offset': 717, 'content': ['{\"system.gpu.0.gpu\": 0.0, \"system.gpu.0.memory\": 0.0, \"system.gpu.0.memoryAllocated\": 49.98, \"system.gpu.0.temp\": 39.0, \"system.gpu.process.0.gpu\": 0.0, \"system.gpu.process.0.memory\": 0.0, \"system.gpu.process.0.memoryAllocated\": 49.98, \"system.gpu.process.0.temp\": 39.0, \"system.gpu.0.powerWatts\": 38.85, \"system.gpu.0.powerPercent\": 15.54, \"system.gpu.process.0.powerWatts\": 38.85, \"system.gpu.process.0.powerPercent\": 15.54, \"system.gpu.1.gpu\": 99.47, \"system.gpu.1.memory\": 13.07, \"system.gpu.1.memoryAllocated\": 58.92, \"system.gpu.1.temp\": 47.0, \"system.gpu.process.1.gpu\": 99.47, \"system.gpu.process.1.memory\": 13.07, \"system.gpu.process.1.memoryAllocated\": 58.92, \"system.gpu.process.1.temp\": 47.0, \"system.gpu.1.powerWatts\": 70.69, \"system.gpu.1.powerPercent\": 28.28, \"system.gpu.process.1.powerWatts\": 70.69, \"system.gpu.process.1.powerPercent\": 28.28, \"system.cpu\": 63.65, \"system.memory\": 43.0, \"system.disk\": 83.1, \"system.proc.memory.availableMB\": 73182.39, \"system.proc.memory.rssMB\": 3771.92, \"system.proc.memory.percent\": 2.94, \"system.proc.cpu.threads\": 49.0, \"system.network.sent\": 1166335169, \"system.network.recv\": 1296483893, \"_wandb\": true, \"_timestamp\": 1591001004, \"_runtime\": 23547}\\n']}, 'wandb-history.jsonl': {'offset': 2768, 'content': ['{\"train_loss\": 0.00013736581059254835, \"train_ent_seq_acc\": 0.2506728238415049, \"train_head_rel_acc\": 0.053761375283837454, \"train_tail_rel_acc\": 0.05363321947689379, \"learning_rate\": 0.00097364118959529, \"time\": 2083.8563117980957, \"_runtime\": 23526.11490058899, \"_timestamp\": 1591000985.763632, \"_step\": 2768}\\n', '{\"train_loss\": 0.00013703636801972165, \"train_ent_seq_acc\": 0.2518192320742492, \"train_head_rel_acc\": 0.05406613193654959, \"train_tail_rel_acc\": 0.05387463445455258, \"learning_rate\": 0.0009734398574849904, \"time\": 2091.8564240932465, \"_runtime\": 23534.11510515213, \"_timestamp\": 1591000993.7638366, \"_step\": 2769}\\n', '{\"train_loss\": 0.0001368034761728489, \"train_ent_seq_acc\": 0.25251176970371625, \"train_head_rel_acc\": 0.05417779620164044, \"train_tail_rel_acc\": 0.05424138519291839, \"learning_rate\": 0.0009732377803732455, \"time\": 2099.595886707306, \"_runtime\": 23541.85447382927, \"_timestamp\": 1591001001.5032053, \"_step\": 2770}\\n', '{\"train_loss\": 0.00013651669304114378, \"train_ent_seq_acc\": 0.25281895924230713, \"train_head_rel_acc\": 0.05435195890319343, \"train_tail_rel_acc\": 0.05422526438827072, \"learning_rate\": 0.0009730349585780423, \"time\": 2107.79541683197, \"_runtime\": 23550.05401301384, \"_timestamp\": 1591001009.7027445, \"_step\": 2771}\\n']}, 'wandb-summary.json': {'offset': 0, 'content': ['{\"learning_rate\": 0.0009730349585780423, \"_step\": 2771, \"_timestamp\": 1591001009.7027445, \"time\": 2107.79541683197, \"train_loss\": 0.00013651669304114378, \"_runtime\": 23550.05401301384, \"train_ent_seq_acc\": 0.25281895924230713, \"train_head_rel_acc\": 0.05435195890319343, \"train_tail_rel_acc\": 0.05422526438827072, \"val_ent_seq_acc\": 0.45376153171966377, \"val_f1\": 0.13568661212357924, \"val_head_rel_acc\": 0.05835563650256709, \"val_recall\": 0.7794263105835035, \"val_tail_rel_acc\": 0.05850431324380727, \"val_prec\": 0.07431158053564622}\\n']}}}}\n"
     ]
    },
    {
     "name": "stdout",
     "output_type": "stream",
     "text": [
      "Epoch: 3/50, batch: 2763/12522, train_loss: 0.00013289412510967744, t_ent_sample_acc: 0.26468814693194476, t_head_rel_sample_acc: 0.05857160249526113, t_tail_rel_sample_acc: 0.05881288615293016,lr: 0.0009702880723943708, batch_time: 0.6937253475189209, total_time: 2211.6190333366394 --------------"
     ]
    },
    {
     "name": "stderr",
     "output_type": "stream",
     "text": [
      "requests_with_retry encountered retryable exception: 500 Server Error: Internal Server Error for url: https://api.wandb.ai/files/wycheng/nyt_single/33ahq1zb/file_stream. args: ('https://api.wandb.ai/files/wycheng/nyt_single/33ahq1zb/file_stream',), kwargs: {'json': {'files': {'output.log': {'offset': 26, 'content': ['2020-06-01T08:43:33.569801 Epoch: 3/50, batch: 2635/12522, train_loss: 0.000136390538821907, t_ent_sample_acc: 0.2531309355368424, t_head_rel_sample_acc: 0.05433270229447273, t_tail_rel_sample_acc: 0.054206200105189374,lr: 0.0009729536214200448, batch_time: 0.7968289852142334, total_time: 2110.9469542503357 -------------\\r']}, 'wandb-events.jsonl': {'offset': 717, 'content': ['{\"system.gpu.0.gpu\": 0.0, \"system.gpu.0.memory\": 0.0, \"system.gpu.0.memoryAllocated\": 49.98, \"system.gpu.0.temp\": 39.0, \"system.gpu.process.0.gpu\": 0.0, \"system.gpu.process.0.memory\": 0.0, \"system.gpu.process.0.memoryAllocated\": 49.98, \"system.gpu.process.0.temp\": 39.0, \"system.gpu.0.powerWatts\": 38.85, \"system.gpu.0.powerPercent\": 15.54, \"system.gpu.process.0.powerWatts\": 38.85, \"system.gpu.process.0.powerPercent\": 15.54, \"system.gpu.1.gpu\": 99.47, \"system.gpu.1.memory\": 13.07, \"system.gpu.1.memoryAllocated\": 58.92, \"system.gpu.1.temp\": 47.0, \"system.gpu.process.1.gpu\": 99.47, \"system.gpu.process.1.memory\": 13.07, \"system.gpu.process.1.memoryAllocated\": 58.92, \"system.gpu.process.1.temp\": 47.0, \"system.gpu.1.powerWatts\": 70.69, \"system.gpu.1.powerPercent\": 28.28, \"system.gpu.process.1.powerWatts\": 70.69, \"system.gpu.process.1.powerPercent\": 28.28, \"system.cpu\": 63.65, \"system.memory\": 43.0, \"system.disk\": 83.1, \"system.proc.memory.availableMB\": 73182.39, \"system.proc.memory.rssMB\": 3771.92, \"system.proc.memory.percent\": 2.94, \"system.proc.cpu.threads\": 49.0, \"system.network.sent\": 1166335169, \"system.network.recv\": 1296483893, \"_wandb\": true, \"_timestamp\": 1591001004, \"_runtime\": 23547}\\n']}, 'wandb-history.jsonl': {'offset': 2768, 'content': ['{\"train_loss\": 0.00013736581059254835, \"train_ent_seq_acc\": 0.2506728238415049, \"train_head_rel_acc\": 0.053761375283837454, \"train_tail_rel_acc\": 0.05363321947689379, \"learning_rate\": 0.00097364118959529, \"time\": 2083.8563117980957, \"_runtime\": 23526.11490058899, \"_timestamp\": 1591000985.763632, \"_step\": 2768}\\n', '{\"train_loss\": 0.00013703636801972165, \"train_ent_seq_acc\": 0.2518192320742492, \"train_head_rel_acc\": 0.05406613193654959, \"train_tail_rel_acc\": 0.05387463445455258, \"learning_rate\": 0.0009734398574849904, \"time\": 2091.8564240932465, \"_runtime\": 23534.11510515213, \"_timestamp\": 1591000993.7638366, \"_step\": 2769}\\n', '{\"train_loss\": 0.0001368034761728489, \"train_ent_seq_acc\": 0.25251176970371625, \"train_head_rel_acc\": 0.05417779620164044, \"train_tail_rel_acc\": 0.05424138519291839, \"learning_rate\": 0.0009732377803732455, \"time\": 2099.595886707306, \"_runtime\": 23541.85447382927, \"_timestamp\": 1591001001.5032053, \"_step\": 2770}\\n', '{\"train_loss\": 0.00013651669304114378, \"train_ent_seq_acc\": 0.25281895924230713, \"train_head_rel_acc\": 0.05435195890319343, \"train_tail_rel_acc\": 0.05422526438827072, \"learning_rate\": 0.0009730349585780423, \"time\": 2107.79541683197, \"_runtime\": 23550.05401301384, \"_timestamp\": 1591001009.7027445, \"_step\": 2771}\\n']}, 'wandb-summary.json': {'offset': 0, 'content': ['{\"learning_rate\": 0.0009730349585780423, \"_step\": 2771, \"_timestamp\": 1591001009.7027445, \"time\": 2107.79541683197, \"train_loss\": 0.00013651669304114378, \"_runtime\": 23550.05401301384, \"train_ent_seq_acc\": 0.25281895924230713, \"train_head_rel_acc\": 0.05435195890319343, \"train_tail_rel_acc\": 0.05422526438827072, \"val_ent_seq_acc\": 0.45376153171966377, \"val_f1\": 0.13568661212357924, \"val_head_rel_acc\": 0.05835563650256709, \"val_recall\": 0.7794263105835035, \"val_tail_rel_acc\": 0.05850431324380727, \"val_prec\": 0.07431158053564622}\\n']}}}}\n"
     ]
    },
    {
     "name": "stdout",
     "output_type": "stream",
     "text": [
      "Epoch: 3/50, batch: 2787/12522, train_loss: 0.0001322591519213298, t_ent_sample_acc: 0.26617630076827564, t_head_rel_sample_acc: 0.05890443885801169, t_tail_rel_sample_acc: 0.05926324763967865,lr: 0.0009697747626406643, batch_time: 0.7905662059783936, total_time: 2230.4373519420624 ---------------"
     ]
    },
    {
     "name": "stderr",
     "output_type": "stream",
     "text": [
      "requests_with_retry encountered retryable exception: 500 Server Error: Internal Server Error for url: https://api.wandb.ai/files/wycheng/nyt_single/33ahq1zb/file_stream. args: ('https://api.wandb.ai/files/wycheng/nyt_single/33ahq1zb/file_stream',), kwargs: {'json': {'files': {'output.log': {'offset': 26, 'content': ['2020-06-01T08:43:33.569801 Epoch: 3/50, batch: 2635/12522, train_loss: 0.000136390538821907, t_ent_sample_acc: 0.2531309355368424, t_head_rel_sample_acc: 0.05433270229447273, t_tail_rel_sample_acc: 0.054206200105189374,lr: 0.0009729536214200448, batch_time: 0.7968289852142334, total_time: 2110.9469542503357 -------------\\r']}, 'wandb-events.jsonl': {'offset': 717, 'content': ['{\"system.gpu.0.gpu\": 0.0, \"system.gpu.0.memory\": 0.0, \"system.gpu.0.memoryAllocated\": 49.98, \"system.gpu.0.temp\": 39.0, \"system.gpu.process.0.gpu\": 0.0, \"system.gpu.process.0.memory\": 0.0, \"system.gpu.process.0.memoryAllocated\": 49.98, \"system.gpu.process.0.temp\": 39.0, \"system.gpu.0.powerWatts\": 38.85, \"system.gpu.0.powerPercent\": 15.54, \"system.gpu.process.0.powerWatts\": 38.85, \"system.gpu.process.0.powerPercent\": 15.54, \"system.gpu.1.gpu\": 99.47, \"system.gpu.1.memory\": 13.07, \"system.gpu.1.memoryAllocated\": 58.92, \"system.gpu.1.temp\": 47.0, \"system.gpu.process.1.gpu\": 99.47, \"system.gpu.process.1.memory\": 13.07, \"system.gpu.process.1.memoryAllocated\": 58.92, \"system.gpu.process.1.temp\": 47.0, \"system.gpu.1.powerWatts\": 70.69, \"system.gpu.1.powerPercent\": 28.28, \"system.gpu.process.1.powerWatts\": 70.69, \"system.gpu.process.1.powerPercent\": 28.28, \"system.cpu\": 63.65, \"system.memory\": 43.0, \"system.disk\": 83.1, \"system.proc.memory.availableMB\": 73182.39, \"system.proc.memory.rssMB\": 3771.92, \"system.proc.memory.percent\": 2.94, \"system.proc.cpu.threads\": 49.0, \"system.network.sent\": 1166335169, \"system.network.recv\": 1296483893, \"_wandb\": true, \"_timestamp\": 1591001004, \"_runtime\": 23547}\\n']}, 'wandb-history.jsonl': {'offset': 2768, 'content': ['{\"train_loss\": 0.00013736581059254835, \"train_ent_seq_acc\": 0.2506728238415049, \"train_head_rel_acc\": 0.053761375283837454, \"train_tail_rel_acc\": 0.05363321947689379, \"learning_rate\": 0.00097364118959529, \"time\": 2083.8563117980957, \"_runtime\": 23526.11490058899, \"_timestamp\": 1591000985.763632, \"_step\": 2768}\\n', '{\"train_loss\": 0.00013703636801972165, \"train_ent_seq_acc\": 0.2518192320742492, \"train_head_rel_acc\": 0.05406613193654959, \"train_tail_rel_acc\": 0.05387463445455258, \"learning_rate\": 0.0009734398574849904, \"time\": 2091.8564240932465, \"_runtime\": 23534.11510515213, \"_timestamp\": 1591000993.7638366, \"_step\": 2769}\\n', '{\"train_loss\": 0.0001368034761728489, \"train_ent_seq_acc\": 0.25251176970371625, \"train_head_rel_acc\": 0.05417779620164044, \"train_tail_rel_acc\": 0.05424138519291839, \"learning_rate\": 0.0009732377803732455, \"time\": 2099.595886707306, \"_runtime\": 23541.85447382927, \"_timestamp\": 1591001001.5032053, \"_step\": 2770}\\n', '{\"train_loss\": 0.00013651669304114378, \"train_ent_seq_acc\": 0.25281895924230713, \"train_head_rel_acc\": 0.05435195890319343, \"train_tail_rel_acc\": 0.05422526438827072, \"learning_rate\": 0.0009730349585780423, \"time\": 2107.79541683197, \"_runtime\": 23550.05401301384, \"_timestamp\": 1591001009.7027445, \"_step\": 2771}\\n']}, 'wandb-summary.json': {'offset': 0, 'content': ['{\"learning_rate\": 0.0009730349585780423, \"_step\": 2771, \"_timestamp\": 1591001009.7027445, \"time\": 2107.79541683197, \"train_loss\": 0.00013651669304114378, \"_runtime\": 23550.05401301384, \"train_ent_seq_acc\": 0.25281895924230713, \"train_head_rel_acc\": 0.05435195890319343, \"train_tail_rel_acc\": 0.05422526438827072, \"val_ent_seq_acc\": 0.45376153171966377, \"val_f1\": 0.13568661212357924, \"val_head_rel_acc\": 0.05835563650256709, \"val_recall\": 0.7794263105835035, \"val_tail_rel_acc\": 0.05850431324380727, \"val_prec\": 0.07431158053564622}\\n']}}}}\n"
     ]
    },
    {
     "name": "stdout",
     "output_type": "stream",
     "text": [
      "Epoch: 3/50, batch: 2829/12522, train_loss: 0.0001311384810970858, t_ent_sample_acc: 0.269824443514712, t_head_rel_sample_acc: 0.06091669775458687, t_tail_rel_sample_acc: 0.061211265947507774,lr: 0.0009688662276143198, batch_time: 0.9676027297973633, total_time: 2266.4697387218475 ----------------"
     ]
    },
    {
     "name": "stderr",
     "output_type": "stream",
     "text": [
      "requests_with_retry encountered retryable exception: 500 Server Error: Internal Server Error for url: https://api.wandb.ai/files/wycheng/nyt_single/33ahq1zb/file_stream. args: ('https://api.wandb.ai/files/wycheng/nyt_single/33ahq1zb/file_stream',), kwargs: {'json': {'files': {'output.log': {'offset': 26, 'content': ['2020-06-01T08:43:33.569801 Epoch: 3/50, batch: 2635/12522, train_loss: 0.000136390538821907, t_ent_sample_acc: 0.2531309355368424, t_head_rel_sample_acc: 0.05433270229447273, t_tail_rel_sample_acc: 0.054206200105189374,lr: 0.0009729536214200448, batch_time: 0.7968289852142334, total_time: 2110.9469542503357 -------------\\r']}, 'wandb-events.jsonl': {'offset': 717, 'content': ['{\"system.gpu.0.gpu\": 0.0, \"system.gpu.0.memory\": 0.0, \"system.gpu.0.memoryAllocated\": 49.98, \"system.gpu.0.temp\": 39.0, \"system.gpu.process.0.gpu\": 0.0, \"system.gpu.process.0.memory\": 0.0, \"system.gpu.process.0.memoryAllocated\": 49.98, \"system.gpu.process.0.temp\": 39.0, \"system.gpu.0.powerWatts\": 38.85, \"system.gpu.0.powerPercent\": 15.54, \"system.gpu.process.0.powerWatts\": 38.85, \"system.gpu.process.0.powerPercent\": 15.54, \"system.gpu.1.gpu\": 99.47, \"system.gpu.1.memory\": 13.07, \"system.gpu.1.memoryAllocated\": 58.92, \"system.gpu.1.temp\": 47.0, \"system.gpu.process.1.gpu\": 99.47, \"system.gpu.process.1.memory\": 13.07, \"system.gpu.process.1.memoryAllocated\": 58.92, \"system.gpu.process.1.temp\": 47.0, \"system.gpu.1.powerWatts\": 70.69, \"system.gpu.1.powerPercent\": 28.28, \"system.gpu.process.1.powerWatts\": 70.69, \"system.gpu.process.1.powerPercent\": 28.28, \"system.cpu\": 63.65, \"system.memory\": 43.0, \"system.disk\": 83.1, \"system.proc.memory.availableMB\": 73182.39, \"system.proc.memory.rssMB\": 3771.92, \"system.proc.memory.percent\": 2.94, \"system.proc.cpu.threads\": 49.0, \"system.network.sent\": 1166335169, \"system.network.recv\": 1296483893, \"_wandb\": true, \"_timestamp\": 1591001004, \"_runtime\": 23547}\\n']}, 'wandb-history.jsonl': {'offset': 2768, 'content': ['{\"train_loss\": 0.00013736581059254835, \"train_ent_seq_acc\": 0.2506728238415049, \"train_head_rel_acc\": 0.053761375283837454, \"train_tail_rel_acc\": 0.05363321947689379, \"learning_rate\": 0.00097364118959529, \"time\": 2083.8563117980957, \"_runtime\": 23526.11490058899, \"_timestamp\": 1591000985.763632, \"_step\": 2768}\\n', '{\"train_loss\": 0.00013703636801972165, \"train_ent_seq_acc\": 0.2518192320742492, \"train_head_rel_acc\": 0.05406613193654959, \"train_tail_rel_acc\": 0.05387463445455258, \"learning_rate\": 0.0009734398574849904, \"time\": 2091.8564240932465, \"_runtime\": 23534.11510515213, \"_timestamp\": 1591000993.7638366, \"_step\": 2769}\\n', '{\"train_loss\": 0.0001368034761728489, \"train_ent_seq_acc\": 0.25251176970371625, \"train_head_rel_acc\": 0.05417779620164044, \"train_tail_rel_acc\": 0.05424138519291839, \"learning_rate\": 0.0009732377803732455, \"time\": 2099.595886707306, \"_runtime\": 23541.85447382927, \"_timestamp\": 1591001001.5032053, \"_step\": 2770}\\n', '{\"train_loss\": 0.00013651669304114378, \"train_ent_seq_acc\": 0.25281895924230713, \"train_head_rel_acc\": 0.05435195890319343, \"train_tail_rel_acc\": 0.05422526438827072, \"learning_rate\": 0.0009730349585780423, \"time\": 2107.79541683197, \"_runtime\": 23550.05401301384, \"_timestamp\": 1591001009.7027445, \"_step\": 2771}\\n']}, 'wandb-summary.json': {'offset': 0, 'content': ['{\"learning_rate\": 0.0009730349585780423, \"_step\": 2771, \"_timestamp\": 1591001009.7027445, \"time\": 2107.79541683197, \"train_loss\": 0.00013651669304114378, \"_runtime\": 23550.05401301384, \"train_ent_seq_acc\": 0.25281895924230713, \"train_head_rel_acc\": 0.05435195890319343, \"train_tail_rel_acc\": 0.05422526438827072, \"val_ent_seq_acc\": 0.45376153171966377, \"val_f1\": 0.13568661212357924, \"val_head_rel_acc\": 0.05835563650256709, \"val_recall\": 0.7794263105835035, \"val_tail_rel_acc\": 0.05850431324380727, \"val_prec\": 0.07431158053564622}\\n']}}}}\n"
     ]
    },
    {
     "name": "stdout",
     "output_type": "stream",
     "text": [
      "Epoch: 3/50, batch: 3461/12522, train_loss: 0.00011717135685489423, t_ent_sample_acc: 0.3186458707613533, t_head_rel_sample_acc: 0.08032360793933879, t_tail_rel_sample_acc: 0.08070885306732808,lr: 0.0009536386607099499, batch_time: 0.7860622406005859, total_time: 2771.5501346588135 ----------------"
     ]
    },
    {
     "name": "stderr",
     "output_type": "stream",
     "text": [
      "requests_with_retry encountered retryable exception: 408 Client Error: Request Timeout for url: https://api.wandb.ai/files/wycheng/nyt_single/33ahq1zb/file_stream. args: ('https://api.wandb.ai/files/wycheng/nyt_single/33ahq1zb/file_stream',), kwargs: {'json': {'files': {'output.log': {'offset': 32, 'content': ['2020-06-01T08:53:34.065444 Epoch: 3/50, batch: 3384/12522, train_loss: 0.00011878353513972624, t_ent_sample_acc: 0.3135342861461865, t_head_rel_sample_acc: 0.07821119192714669, t_tail_rel_sample_acc: 0.07894996262153271,lr: 0.0009556484528906814, batch_time: 0.795285701751709, total_time: 2711.379138469696 -------------\\r']}, 'wandb-events.jsonl': {'offset': 735, 'content': ['{\"system.gpu.0.gpu\": 0.0, \"system.gpu.0.memory\": 0.0, \"system.gpu.0.memoryAllocated\": 49.98, \"system.gpu.0.temp\": 39.0, \"system.gpu.process.0.gpu\": 0.0, \"system.gpu.process.0.memory\": 0.0, \"system.gpu.process.0.memoryAllocated\": 49.98, \"system.gpu.process.0.temp\": 39.0, \"system.gpu.0.powerWatts\": 38.72, \"system.gpu.0.powerPercent\": 15.49, \"system.gpu.process.0.powerWatts\": 38.72, \"system.gpu.process.0.powerPercent\": 15.49, \"system.gpu.1.gpu\": 99.53, \"system.gpu.1.memory\": 8.27, \"system.gpu.1.memoryAllocated\": 58.92, \"system.gpu.1.temp\": 46.33, \"system.gpu.process.1.gpu\": 99.53, \"system.gpu.process.1.memory\": 8.27, \"system.gpu.process.1.memoryAllocated\": 58.92, \"system.gpu.process.1.temp\": 46.33, \"system.gpu.1.powerWatts\": 60.77, \"system.gpu.1.powerPercent\": 24.31, \"system.gpu.process.1.powerWatts\": 60.77, \"system.gpu.process.1.powerPercent\": 24.31, \"system.cpu\": 82.71, \"system.memory\": 43.21, \"system.disk\": 83.1, \"system.proc.memory.availableMB\": 72888.01, \"system.proc.memory.rssMB\": 3771.97, \"system.proc.memory.percent\": 2.94, \"system.proc.cpu.threads\": 49.0, \"system.network.sent\": 1218318450, \"system.network.recv\": 1356251071, \"_wandb\": true, \"_timestamp\": 1591001583, \"_runtime\": 24127}\\n']}, 'wandb-history.jsonl': {'offset': 2843, 'content': ['{\"train_loss\": 0.00011941280717694006, \"train_ent_seq_acc\": 0.311648271348682, \"train_head_rel_acc\": 0.07729036308284733, \"train_tail_rel_acc\": 0.07783746345386118, \"learning_rate\": 0.0009564967896482501, \"time\": 2684.7301545143127, \"_runtime\": 24126.98875451088, \"_timestamp\": 1591001586.637486, \"_step\": 2843}\\n', '{\"train_loss\": 0.00011920051434270095, \"train_ent_seq_acc\": 0.3123078520579623, \"train_head_rel_acc\": 0.07765546169301578, \"train_tail_rel_acc\": 0.07820093427357734, \"learning_rate\": 0.0009562405433292277, \"time\": 2692.8691132068634, \"_runtime\": 24135.127710342407, \"_timestamp\": 1591001594.7764418, \"_step\": 2844}\\n', '{\"train_loss\": 0.00011901307246420522, \"train_ent_seq_acc\": 0.3126668716018046, \"train_head_rel_acc\": 0.07772174630080936, \"train_tail_rel_acc\": 0.07841392469243458, \"learning_rate\": 0.0009559835790734728, \"time\": 2700.9850194454193, \"_runtime\": 24143.243654489517, \"_timestamp\": 1591001602.892386, \"_step\": 2845}\\n', '{\"train_loss\": 0.00011883078811751707, \"train_ent_seq_acc\": 0.3133688329751236, \"train_head_rel_acc\": 0.0782312945311537, \"train_tail_rel_acc\": 0.07887213058159288, \"learning_rate\": 0.0009557258972853429, \"time\": 2709.108691215515, \"_runtime\": 24151.367351531982, \"_timestamp\": 1591001611.016083, \"_step\": 2846}\\n']}, 'wandb-summary.json': {'offset': 0, 'content': ['{\"learning_rate\": 0.0009557258972853429, \"_step\": 2846, \"_timestamp\": 1591001611.016083, \"time\": 2709.108691215515, \"train_loss\": 0.00011883078811751707, \"_runtime\": 24151.367351531982, \"train_ent_seq_acc\": 0.3133688329751236, \"train_head_rel_acc\": 0.0782312945311537, \"train_tail_rel_acc\": 0.07887213058159288, \"val_ent_seq_acc\": 0.45376153171966377, \"val_f1\": 0.13568661212357924, \"val_head_rel_acc\": 0.05835563650256709, \"val_recall\": 0.7794263105835035, \"val_tail_rel_acc\": 0.05850431324380727, \"val_prec\": 0.07431158053564622}\\n']}}}}\n"
     ]
    },
    {
     "name": "stdout",
     "output_type": "stream",
     "text": [
      "Epoch: 3/50, batch: 4118/12522, train_loss: 0.00010653125025101956, t_ent_sample_acc: 0.35502672028619725, t_head_rel_sample_acc: 0.09867249718347529, t_tail_rel_sample_acc: 0.10053424239375743,lr: 0.0009347891793014522, batch_time: 0.8084201812744141, total_time: 3319.139408826828 --------------"
     ]
    },
    {
     "name": "stderr",
     "output_type": "stream",
     "text": [
      "requests_with_retry encountered retryable exception: ('Connection aborted.', RemoteDisconnected('Remote end closed connection without response')). args: ('https://api.wandb.ai/files/wycheng/nyt_single/33ahq1zb/file_stream',), kwargs: {'json': {'files': {'output.log': {'offset': 33, 'content': ['2020-06-01T09:00:12.045701 Epoch: 3/50, batch: 3866/12522, train_loss: 0.00011006269985144283, t_ent_sample_acc: 0.3423866263546909, t_head_rel_sample_acc: 0.09247284246135486, t_tail_rel_sample_acc: 0.0935506144807367,lr: 0.0009423754853335001, batch_time: 0.7707746028900146, total_time: 3109.229909658432 -------------\\r']}, 'wandb-events.jsonl': {'offset': 748, 'content': ['{\"system.gpu.0.gpu\": 0.0, \"system.gpu.0.memory\": 0.0, \"system.gpu.0.memoryAllocated\": 49.98, \"system.gpu.0.temp\": 39.0, \"system.gpu.process.0.gpu\": 0.0, \"system.gpu.process.0.memory\": 0.0, \"system.gpu.process.0.memoryAllocated\": 49.98, \"system.gpu.process.0.temp\": 39.0, \"system.gpu.0.powerWatts\": 38.51, \"system.gpu.0.powerPercent\": 15.41, \"system.gpu.process.0.powerWatts\": 38.51, \"system.gpu.process.0.powerPercent\": 15.41, \"system.gpu.1.gpu\": 99.33, \"system.gpu.1.memory\": 18.07, \"system.gpu.1.memoryAllocated\": 58.92, \"system.gpu.1.temp\": 46.93, \"system.gpu.process.1.gpu\": 99.33, \"system.gpu.process.1.memory\": 18.07, \"system.gpu.process.1.memoryAllocated\": 58.92, \"system.gpu.process.1.temp\": 46.93, \"system.gpu.1.powerWatts\": 89.2, \"system.gpu.1.powerPercent\": 35.68, \"system.gpu.process.1.powerWatts\": 89.2, \"system.gpu.process.1.powerPercent\": 35.68, \"system.cpu\": 63.73, \"system.memory\": 43.4, \"system.disk\": 83.1, \"system.proc.memory.availableMB\": 72710.65, \"system.proc.memory.rssMB\": 3771.92, \"system.proc.memory.percent\": 2.94, \"system.proc.cpu.threads\": 49.0, \"system.network.sent\": 1236357775, \"system.network.recv\": 1384510457, \"_wandb\": true, \"_timestamp\": 1591002001, \"_runtime\": 24544}\\n']}, 'wandb-history.jsonl': {'offset': 2892, 'content': ['{\"train_loss\": 0.00011053750658244307, \"train_ent_seq_acc\": 0.3405797180875581, \"train_head_rel_acc\": 0.09164280365823738, \"train_tail_rel_acc\": 0.09259741616199427, \"learning_rate\": 0.000943104114281716, \"time\": 3086.963770866394, \"_runtime\": 24529.222489118576, \"_timestamp\": 1591001988.8712206, \"_step\": 2892}\\n', '{\"train_loss\": 0.00011034548628201993, \"train_ent_seq_acc\": 0.3414264772773191, \"train_head_rel_acc\": 0.09209729305446009, \"train_tail_rel_acc\": 0.09304942668908232, \"learning_rate\": 0.0009428131852507402, \"time\": 3095.8857460021973, \"_runtime\": 24538.14434981346, \"_timestamp\": 1591001997.7930813, \"_step\": 2893}\\n', '{\"train_loss\": 0.00011016237716193849, \"train_ent_seq_acc\": 0.34205301668677296, \"train_head_rel_acc\": 0.09237676135649554, \"train_tail_rel_acc\": 0.09336959566979852, \"learning_rate\": 0.0009425215594122231, \"time\": 3104.776995897293, \"_runtime\": 24547.035583496094, \"_timestamp\": 1591002006.684315, \"_step\": 2894}\\n']}, 'wandb-summary.json': {'offset': 0, 'content': ['{\"learning_rate\": 0.0009425215594122231, \"_step\": 2894, \"_timestamp\": 1591002006.684315, \"time\": 3104.776995897293, \"train_loss\": 0.00011016237716193849, \"_runtime\": 24547.035583496094, \"train_ent_seq_acc\": 0.34205301668677296, \"train_head_rel_acc\": 0.09237676135649554, \"train_tail_rel_acc\": 0.09336959566979852, \"val_ent_seq_acc\": 0.45376153171966377, \"val_f1\": 0.13568661212357924, \"val_head_rel_acc\": 0.05835563650256709, \"val_recall\": 0.7794263105835035, \"val_tail_rel_acc\": 0.05850431324380727, \"val_prec\": 0.07431158053564622}\\n']}}}}\n"
     ]
    },
    {
     "name": "stdout",
     "output_type": "stream",
     "text": [
      "Epoch: 3/50, batch: 9392/12522, train_loss: 6.883118530607706e-05, t_ent_sample_acc: 0.486264918237493, t_head_rel_sample_acc: 0.24872232233753247, t_tail_rel_sample_acc: 0.250763066189151,lr: 0.0006913706893442529, batch_time: 0.970381498336792, total_time: 7324.600524902344 --------------------"
     ]
    },
    {
     "name": "stderr",
     "output_type": "stream",
     "text": [
      "requests_with_retry encountered retryable exception: ('Connection aborted.', RemoteDisconnected('Remote end closed connection without response')). args: ('https://api.wandb.ai/files/wycheng/nyt_single/33ahq1zb/file_stream',), kwargs: {'json': {'files': {'output.log': {'offset': 34, 'content': ['2020-06-01T10:06:57.247203 Epoch: 3/50, batch: 9120/12522, train_loss: 6.987054800917074e-05, t_ent_sample_acc: 0.48278509953892546, t_head_rel_sample_acc: 0.24283626264843503, t_tail_rel_sample_acc: 0.2449561456463447,lr: 0.0007070174397815256, batch_time: 0.7972805500030518, total_time: 7114.6274082660675 -------------\\r']}, 'wandb-history.jsonl': {'offset': 3417, 'content': ['{\"train_loss\": 6.99830355455485e-05, \"train_ent_seq_acc\": 0.4824735204069518, \"train_head_rel_acc\": 0.2422175831496945, \"train_tail_rel_acc\": 0.24430756220892572, \"learning_rate\": 0.0007086717604910251, \"time\": 7091.848155260086, \"_runtime\": 28534.10676431656, \"_timestamp\": 1591005993.7554958, \"_step\": 3417}\\n', '{\"train_loss\": 6.994700101796615e-05, \"train_ent_seq_acc\": 0.48263928222631364, \"train_head_rel_acc\": 0.24240926438249766, \"train_tail_rel_acc\": 0.24447863400571884, \"learning_rate\": 0.0007081016159119182, \"time\": 7099.858120679855, \"_runtime\": 28542.116971492767, \"_timestamp\": 1591006001.765703, \"_step\": 3418}\\n', '{\"train_loss\": 6.99066914104524e-05, \"train_ent_seq_acc\": 0.48273150854596925, \"train_head_rel_acc\": 0.2426919893809043, \"train_tail_rel_acc\": 0.24481396643511746, \"learning_rate\": 0.0007075311438656534, \"time\": 7107.524166345596, \"_runtime\": 28549.782986164093, \"_timestamp\": 1591006009.4317176, \"_step\": 3419}\\n']}, 'wandb-summary.json': {'offset': 0, 'content': ['{\"learning_rate\": 0.0007075311438656534, \"_step\": 3419, \"_timestamp\": 1591006009.4317176, \"time\": 7107.524166345596, \"train_loss\": 6.99066914104524e-05, \"_runtime\": 28549.782986164093, \"train_ent_seq_acc\": 0.48273150854596925, \"train_head_rel_acc\": 0.2426919893809043, \"train_tail_rel_acc\": 0.24481396643511746, \"val_ent_seq_acc\": 0.45376153171966377, \"val_f1\": 0.13568661212357924, \"val_head_rel_acc\": 0.05835563650256709, \"val_recall\": 0.7794263105835035, \"val_tail_rel_acc\": 0.05850431324380727, \"val_prec\": 0.07431158053564622}\\n']}}}}\n"
     ]
    },
    {
     "name": "stdout",
     "output_type": "stream",
     "text": [
      "Epoch: 3/50, batch: 12522/12522, train_loss: 5.9389115647569825e-05, t_ent_sample_acc: 0.5208566386780406, t_head_rel_sample_acc: 0.31077304633232833, t_tail_rel_sample_acc: 0.31258319383625444,lr: 0.000500062721463132, batch_time: 0.5248210430145264, total_time: 9863.859137296677 ---------------"
     ]
    },
    {
     "name": "stderr",
     "output_type": "stream",
     "text": [
      "Validating: 100%|██████████| 1121/1121 [08:47<00:00,  2.13it/s]"
     ]
    },
    {
     "name": "stdout",
     "output_type": "stream",
     "text": [
      "{'time': 527.2157592773438,\n",
      " 'val_ent_seq_acc': 0.6259292456637952,\n",
      " 'val_f1': 0.7601860276522033,\n",
      " 'val_head_rel_acc': 0.5443056925107708,\n",
      " 'val_prec': 0.7090720482836599,\n",
      " 'val_recall': 0.819241664850721,\n",
      " 'val_tail_rel_acc': 0.5420012026227659}\n",
      "Current avf_f1: 0.7601860276522033, Best f1: 0.7601860276522033\n"
     ]
    },
    {
     "name": "stderr",
     "output_type": "stream",
     "text": [
      "\n"
     ]
    },
    {
     "name": "stdout",
     "output_type": "stream",
     "text": [
      "Epoch: 4/50, batch: 2518/12522, train_loss: 2.4904311343373314e-05, t_ent_sample_acc: 0.6744771166700897, t_head_rel_sample_acc: 0.5727429317933307, t_tail_rel_sample_acc: 0.5723457911404662,lr: 0.0003447400852543908, batch_time: 0.803868293762207, total_time: 2064.985038995743 ----------------"
     ]
    },
    {
     "name": "stderr",
     "output_type": "stream",
     "text": [
      "requests_with_retry encountered retryable exception: ('Connection aborted.', OSError(\"(104, 'ECONNRESET')\")). args: ('https://api.wandb.ai/files/wycheng/nyt_single/33ahq1zb/file_stream',), kwargs: {'json': {'files': {'output.log': {'offset': 44, 'content': ['2020-06-01T11:31:57.482768 Epoch: 4/50, batch: 2225/12522, train_loss: 2.4893407472222095e-05, t_ent_sample_acc: 0.6738576963644349, t_head_rel_sample_acc: 0.5725093774916081, t_tail_rel_sample_acc: 0.5722097520747881,lr: 0.0003623099494040241, batch_time: 0.7974627017974854, total_time: 1823.2837853431702 -------------\\r']}, 'wandb-events.jsonl': {'offset': 1031, 'content': ['{\"system.gpu.0.gpu\": 0.0, \"system.gpu.0.memory\": 0.0, \"system.gpu.0.memoryAllocated\": 31.67, \"system.gpu.0.temp\": 39.0, \"system.gpu.process.0.gpu\": 0.0, \"system.gpu.process.0.memory\": 0.0, \"system.gpu.process.0.memoryAllocated\": 31.67, \"system.gpu.process.0.temp\": 39.0, \"system.gpu.0.powerWatts\": 38.66, \"system.gpu.0.powerPercent\": 15.47, \"system.gpu.process.0.powerWatts\": 38.66, \"system.gpu.process.0.powerPercent\": 15.47, \"system.gpu.1.gpu\": 99.53, \"system.gpu.1.memory\": 19.53, \"system.gpu.1.memoryAllocated\": 58.92, \"system.gpu.1.temp\": 46.8, \"system.gpu.process.1.gpu\": 99.53, \"system.gpu.process.1.memory\": 19.53, \"system.gpu.process.1.memoryAllocated\": 58.92, \"system.gpu.process.1.temp\": 46.8, \"system.gpu.1.powerWatts\": 70.87, \"system.gpu.1.powerPercent\": 28.35, \"system.gpu.process.1.powerWatts\": 70.87, \"system.gpu.process.1.powerPercent\": 28.35, \"system.cpu\": 63.73, \"system.memory\": 37.0, \"system.disk\": 83.1, \"system.proc.memory.availableMB\": 80927.17, \"system.proc.memory.rssMB\": 3785.98, \"system.proc.memory.percent\": 2.95, \"system.proc.cpu.threads\": 49.0, \"system.network.sent\": 1721628887, \"system.network.recv\": 1790121041, \"_wandb\": true, \"_timestamp\": 1591011090, \"_runtime\": 33633}\\n']}, 'wandb-history.jsonl': {'offset': 3981, 'content': ['{\"train_loss\": 2.4960714830199175e-05, \"train_ent_seq_acc\": 0.6725239801194667, \"train_head_rel_acc\": 0.5713525168199836, \"train_tail_rel_acc\": 0.5710482417802624, \"learning_rate\": 0.00036436127192427835, \"time\": 1795.4339802265167, \"_runtime\": 33629.187237501144, \"_timestamp\": 1591011088.835969, \"_step\": 3981}\\n', '{\"train_loss\": 2.4939075247580275e-05, \"train_ent_seq_acc\": 0.6728002607741176, \"train_head_rel_acc\": 0.5716341198749946, \"train_tail_rel_acc\": 0.5713312272752539, \"learning_rate\": 0.00036375768397170494, \"time\": 1804.2529821395874, \"_runtime\": 33638.00625729561, \"_timestamp\": 1591011097.6549888, \"_step\": 3982}\\n', '{\"train_loss\": 2.490699702136157e-05, \"train_ent_seq_acc\": 0.6731494229635682, \"train_head_rel_acc\": 0.5721393176828343, \"train_tail_rel_acc\": 0.5719131756993453, \"learning_rate\": 0.0003631543104090285, \"time\": 1812.1641564369202, \"_runtime\": 33645.917394161224, \"_timestamp\": 1591011105.5661256, \"_step\": 3983}\\n', '{\"train_loss\": 2.489120209698897e-05, \"train_ent_seq_acc\": 0.6736455234870455, \"train_head_rel_acc\": 0.5724898836181702, \"train_tail_rel_acc\": 0.5721897185788075, \"learning_rate\": 0.00036255115218571343, \"time\": 1820.078378200531, \"_runtime\": 33653.831629514694, \"_timestamp\": 1591011113.480361, \"_step\": 3984}\\n']}, 'wandb-summary.json': {'offset': 0, 'content': ['{\"learning_rate\": 0.00036255115218571343, \"_step\": 3984, \"_timestamp\": 1591011113.480361, \"time\": 1820.078378200531, \"train_loss\": 2.489120209698897e-05, \"_runtime\": 33653.831629514694, \"train_ent_seq_acc\": 0.6736455234870455, \"train_head_rel_acc\": 0.5724898836181702, \"train_tail_rel_acc\": 0.5721897185788075, \"val_ent_seq_acc\": 0.6259292456637952, \"val_f1\": 0.7601860276522033, \"val_head_rel_acc\": 0.5443056925107708, \"val_recall\": 0.819241664850721, \"val_tail_rel_acc\": 0.5420012026227659, \"val_prec\": 0.7090720482836599}\\n']}}}}\n"
     ]
    },
    {
     "name": "stdout",
     "output_type": "stream",
     "text": [
      "Epoch: 4/50, batch: 4945/12522, train_loss: 2.4283667427234087e-05, t_ent_sample_acc: 0.6795079389133154, t_head_rel_sample_acc: 0.5828109345855559, t_tail_rel_sample_acc: 0.5826761182386304,lr: 0.00020940517606903136, batch_time: 0.7115352153778076, total_time: 4008.5340819358826 -------------"
     ]
    },
    {
     "name": "stderr",
     "output_type": "stream",
     "text": [
      "requests_with_retry encountered retryable exception: ('Connection aborted.', RemoteDisconnected('Remote end closed connection without response')). args: ('https://api.wandb.ai/files/wycheng/nyt_single/33ahq1zb/file_stream',), kwargs: {'json': {'files': {'output.log': {'offset': 45, 'content': ['2020-06-01T12:04:52.245022 Epoch: 4/50, batch: 4685/12522, train_loss: 2.4337786228377773e-05, t_ent_sample_acc: 0.6795090898855519, t_head_rel_sample_acc: 0.5829598152141306, t_tail_rel_sample_acc: 0.5827819425338361,lr: 0.0002228279591596653, batch_time: 0.8143208026885986, total_time: 3798.1882536411285 -------------\\r']}, 'wandb-events.jsonl': {'offset': 1093, 'content': ['{\"system.gpu.0.gpu\": 0.0, \"system.gpu.0.memory\": 0.0, \"system.gpu.0.memoryAllocated\": 31.67, \"system.gpu.0.temp\": 39.0, \"system.gpu.process.0.gpu\": 0.0, \"system.gpu.process.0.memory\": 0.0, \"system.gpu.process.0.memoryAllocated\": 31.67, \"system.gpu.process.0.temp\": 39.0, \"system.gpu.0.powerWatts\": 38.62, \"system.gpu.0.powerPercent\": 15.45, \"system.gpu.process.0.powerWatts\": 38.62, \"system.gpu.process.0.powerPercent\": 15.45, \"system.gpu.1.gpu\": 99.33, \"system.gpu.1.memory\": 16.27, \"system.gpu.1.memoryAllocated\": 58.92, \"system.gpu.1.temp\": 46.87, \"system.gpu.process.1.gpu\": 99.33, \"system.gpu.process.1.memory\": 16.27, \"system.gpu.process.1.memoryAllocated\": 58.92, \"system.gpu.process.1.temp\": 46.87, \"system.gpu.1.powerWatts\": 74.46, \"system.gpu.1.powerPercent\": 29.79, \"system.gpu.process.1.powerWatts\": 74.46, \"system.gpu.process.1.powerPercent\": 29.79, \"system.cpu\": 63.56, \"system.memory\": 37.67, \"system.disk\": 83.1, \"system.proc.memory.availableMB\": 80060.55, \"system.proc.memory.rssMB\": 3785.99, \"system.proc.memory.percent\": 2.95, \"system.proc.cpu.threads\": 49.0, \"system.network.sent\": 1826404738, \"system.network.recv\": 1822193241, \"_wandb\": true, \"_timestamp\": 1591013077, \"_runtime\": 35621}\\n']}, 'wandb-history.jsonl': {'offset': 4227, 'content': ['{\"train_loss\": 2.4344125958018764e-05, \"train_ent_seq_acc\": 0.6797104749281517, \"train_head_rel_acc\": 0.5829212500110439, \"train_tail_rel_acc\": 0.5827779116277617, \"learning_rate\": 0.00022460535281249277, \"time\": 3772.6386511325836, \"_runtime\": 35606.391902685165, \"_timestamp\": 1591013066.0406342, \"_step\": 4227}\\n', '{\"train_loss\": 2.4349209733374016e-05, \"train_ent_seq_acc\": 0.6796467322676357, \"train_head_rel_acc\": 0.5828863764475456, \"train_tail_rel_acc\": 0.5827433455913678, \"learning_rate\": 0.00022408206849383185, \"time\": 3780.766882419586, \"_runtime\": 35614.520125865936, \"_timestamp\": 1591013074.1688573, \"_step\": 4228}\\n', '{\"train_loss\": 2.4345696057912346e-05, \"train_ent_seq_acc\": 0.6796189436684633, \"train_head_rel_acc\": 0.5830300579653438, \"train_tail_rel_acc\": 0.5828159710109629, \"learning_rate\": 0.00022355921835757976, \"time\": 3788.0434992313385, \"_runtime\": 35621.79676270485, \"_timestamp\": 1591013081.4454942, \"_step\": 4229}\\n', '{\"train_loss\": 2.4335876285192588e-05, \"train_ent_seq_acc\": 0.6795556688857521, \"train_head_rel_acc\": 0.58292389109562, \"train_tail_rel_acc\": 0.5827458664198713, \"learning_rate\": 0.0002230368032264898, \"time\": 3795.0235233306885, \"_runtime\": 35628.776765823364, \"_timestamp\": 1591013088.4254973, \"_step\": 4230}\\n']}, 'wandb-summary.json': {'offset': 0, 'content': ['{\"learning_rate\": 0.0002230368032264898, \"_step\": 4230, \"_timestamp\": 1591013088.4254973, \"time\": 3795.0235233306885, \"train_loss\": 2.4335876285192588e-05, \"_runtime\": 35628.776765823364, \"train_ent_seq_acc\": 0.6795556688857521, \"train_head_rel_acc\": 0.58292389109562, \"train_tail_rel_acc\": 0.5827458664198713, \"val_ent_seq_acc\": 0.6259292456637952, \"val_f1\": 0.7601860276522033, \"val_head_rel_acc\": 0.5443056925107708, \"val_recall\": 0.819241664850721, \"val_tail_rel_acc\": 0.5420012026227659, \"val_prec\": 0.7090720482836599}\\n']}}}}\n"
     ]
    },
    {
     "name": "stdout",
     "output_type": "stream",
     "text": [
      "Epoch: 4/50, batch: 6365/12522, train_loss: 2.390560076504111e-05, t_ent_sample_acc: 0.6814349489870356, t_head_rel_sample_acc: 0.5901021357300894, t_tail_rel_sample_acc: 0.5900235811299633,lr: 0.00014190811811531362, batch_time: 0.6270740032196045, total_time: 5102.4829177856445 --------------"
     ]
    },
    {
     "name": "stderr",
     "output_type": "stream",
     "text": [
      "requests_with_retry encountered retryable exception: ('Connection aborted.', RemoteDisconnected('Remote end closed connection without response')). args: ('https://api.wandb.ai/files/wycheng/nyt_single/33ahq1zb/file_stream',), kwargs: {'json': {'files': {'output.log': {'offset': 46, 'content': ['2020-06-01T12:23:06.429319 Epoch: 4/50, batch: 6099/12522, train_loss: 2.396558646875849e-05, t_ent_sample_acc: 0.6813412219393467, t_head_rel_sample_acc: 0.5886757539166527, t_tail_rel_sample_acc: 0.5885391194720916,lr: 0.00015374918713494852, batch_time: 0.760833740234375, total_time: 4892.25328373909 -------------\\r']}, 'wandb-events.jsonl': {'offset': 1127, 'content': ['{\"system.gpu.0.gpu\": 0.0, \"system.gpu.0.memory\": 0.0, \"system.gpu.0.memoryAllocated\": 31.67, \"system.gpu.0.temp\": 39.0, \"system.gpu.process.0.gpu\": 0.0, \"system.gpu.process.0.memory\": 0.0, \"system.gpu.process.0.memoryAllocated\": 31.67, \"system.gpu.process.0.temp\": 39.0, \"system.gpu.0.powerWatts\": 38.7, \"system.gpu.0.powerPercent\": 15.48, \"system.gpu.process.0.powerWatts\": 38.7, \"system.gpu.process.0.powerPercent\": 15.48, \"system.gpu.1.gpu\": 99.2, \"system.gpu.1.memory\": 15.93, \"system.gpu.1.memoryAllocated\": 58.92, \"system.gpu.1.temp\": 46.4, \"system.gpu.process.1.gpu\": 99.2, \"system.gpu.process.1.memory\": 15.93, \"system.gpu.process.1.memoryAllocated\": 58.92, \"system.gpu.process.1.temp\": 46.4, \"system.gpu.1.powerWatts\": 83.66, \"system.gpu.1.powerPercent\": 33.46, \"system.gpu.process.1.powerWatts\": 83.66, \"system.gpu.process.1.powerPercent\": 33.46, \"system.cpu\": 63.61, \"system.memory\": 37.0, \"system.disk\": 83.1, \"system.proc.memory.availableMB\": 80920.17, \"system.proc.memory.rssMB\": 3785.99, \"system.proc.memory.percent\": 2.95, \"system.proc.cpu.threads\": 49.0, \"system.network.sent\": 1890569302, \"system.network.recv\": 1848589769, \"_wandb\": true, \"_timestamp\": 1591014168, \"_runtime\": 36711}\\n']}, 'wandb-history.jsonl': {'offset': 4368, 'content': ['{\"train_loss\": 2.3961332472890276e-05, \"train_ent_seq_acc\": 0.6813782288766187, \"train_head_rel_acc\": 0.588599255761186, \"train_tail_rel_acc\": 0.5884342664584451, \"learning_rate\": 0.0001554725493900873, \"time\": 4861.71090221405, \"_runtime\": 36695.4641597271, \"_timestamp\": 1591014155.1128912, \"_step\": 4368}\\n', '{\"train_loss\": 2.3965602330488165e-05, \"train_ent_seq_acc\": 0.681491260973513, \"train_head_rel_acc\": 0.5887278464888647, \"train_tail_rel_acc\": 0.588590581873912, \"learning_rate\": 0.00015501827240258604, \"time\": 4870.067219734192, \"_runtime\": 36703.82046341896, \"_timestamp\": 1591014163.469195, \"_step\": 4369}\\n', '{\"train_loss\": 2.3973265316866227e-05, \"train_ent_seq_acc\": 0.6813572513647445, \"train_head_rel_acc\": 0.5886367520960983, \"train_tail_rel_acc\": 0.5884997132081888, \"learning_rate\": 0.00015456453827577028, \"time\": 4878.31042098999, \"_runtime\": 36712.06371641159, \"_timestamp\": 1591014171.712448, \"_step\": 4370}\\n', '{\"train_loss\": 2.3964472438077083e-05, \"train_ent_seq_acc\": 0.681469946771865, \"train_head_rel_acc\": 0.5887101334786498, \"train_tail_rel_acc\": 0.5885733195766012, \"learning_rate\": 0.0001541113477236329, \"time\": 4886.092072963715, \"_runtime\": 36719.84545946121, \"_timestamp\": 1591014179.494191, \"_step\": 4371}\\n']}, 'wandb-summary.json': {'offset': 0, 'content': ['{\"learning_rate\": 0.0001541113477236329, \"_step\": 4371, \"_timestamp\": 1591014179.494191, \"time\": 4886.092072963715, \"train_loss\": 2.3964472438077083e-05, \"_runtime\": 36719.84545946121, \"train_ent_seq_acc\": 0.681469946771865, \"train_head_rel_acc\": 0.5887101334786498, \"train_tail_rel_acc\": 0.5885733195766012, \"val_ent_seq_acc\": 0.6259292456637952, \"val_f1\": 0.7601860276522033, \"val_head_rel_acc\": 0.5443056925107708, \"val_recall\": 0.819241664850721, \"val_tail_rel_acc\": 0.5420012026227659, \"val_prec\": 0.7090720482836599}\\n']}}}}\n"
     ]
    },
    {
     "name": "stdout",
     "output_type": "stream",
     "text": [
      "Epoch: 4/50, batch: 9440/12522, train_loss: 2.318571841748478e-05, t_ent_sample_acc: 0.6879767134627801, t_head_rel_sample_acc: 0.6033545350782195, t_tail_rel_sample_acc: 0.6029308062757097,lr: 3.6928323783813945e-05, batch_time: 0.7831687927246094, total_time: 7586.55038189888 ----------------"
     ]
    },
    {
     "name": "stderr",
     "output_type": "stream",
     "text": [
      "requests_with_retry encountered retryable exception: ('Connection aborted.', OSError(\"(104, 'ECONNRESET')\")). args: ('https://api.wandb.ai/files/wycheng/nyt_single/33ahq1zb/file_stream',), kwargs: {'json': {'files': {'output.log': {'offset': 47, 'content': ['2020-06-01T12:53:57.467135 Epoch: 4/50, batch: 8387/12522, train_loss: 2.3463719413202905e-05, t_ent_sample_acc: 0.6857239562901266, t_head_rel_sample_acc: 0.599538984188693, t_tail_rel_sample_acc: 0.5991415437273179,lr: 6.580051441344598e-05, batch_time: 0.7865791320800781, total_time: 6743.249205350876 -------------\\r']}, 'wandb-events.jsonl': {'offset': 1185, 'content': ['{\"system.gpu.0.gpu\": 0.0, \"system.gpu.0.memory\": 0.0, \"system.gpu.0.memoryAllocated\": 31.67, \"system.gpu.0.temp\": 39.0, \"system.gpu.process.0.gpu\": 0.0, \"system.gpu.process.0.memory\": 0.0, \"system.gpu.process.0.memoryAllocated\": 31.67, \"system.gpu.process.0.temp\": 39.0, \"system.gpu.0.powerWatts\": 38.59, \"system.gpu.0.powerPercent\": 15.43, \"system.gpu.process.0.powerWatts\": 38.59, \"system.gpu.process.0.powerPercent\": 15.43, \"system.gpu.1.gpu\": 99.4, \"system.gpu.1.memory\": 13.4, \"system.gpu.1.memoryAllocated\": 58.92, \"system.gpu.1.temp\": 46.6, \"system.gpu.process.1.gpu\": 99.4, \"system.gpu.process.1.memory\": 13.4, \"system.gpu.process.1.memoryAllocated\": 58.92, \"system.gpu.process.1.temp\": 46.6, \"system.gpu.1.powerWatts\": 84.31, \"system.gpu.1.powerPercent\": 33.72, \"system.gpu.process.1.powerWatts\": 84.31, \"system.gpu.process.1.powerPercent\": 33.72, \"system.cpu\": 63.69, \"system.memory\": 37.9, \"system.disk\": 83.1, \"system.proc.memory.availableMB\": 79706.03, \"system.proc.memory.rssMB\": 3785.99, \"system.proc.memory.percent\": 2.95, \"system.proc.cpu.threads\": 49.0, \"system.network.sent\": 1990152271, \"system.network.recv\": 1897589810, \"_wandb\": true, \"_timestamp\": 1591016028, \"_runtime\": 38571}\\n']}, 'wandb-history.jsonl': {'offset': 4597, 'content': ['{\"train_loss\": 2.3450104953809045e-05, \"train_ent_seq_acc\": 0.6858859403006917, \"train_head_rel_acc\": 0.5997685059582084, \"train_tail_rel_acc\": 0.5993893098747669, \"learning_rate\": 6.692459027285552e-05, \"time\": 6714.545464515686, \"_runtime\": 38548.29872369766, \"_timestamp\": 1591016007.9474552, \"_step\": 4597}\\n', '{\"train_loss\": 2.3450236619109357e-05, \"train_ent_seq_acc\": 0.6858629535087457, \"train_head_rel_acc\": 0.5997289152072528, \"train_tail_rel_acc\": 0.5993302388348629, \"learning_rate\": 6.661146006771201e-05, \"time\": 6722.621404647827, \"_runtime\": 38556.3746650219, \"_timestamp\": 1591016016.0233965, \"_step\": 4598}\\n', '{\"train_loss\": 2.3447471367627582e-05, \"train_ent_seq_acc\": 0.6858201116312791, \"train_head_rel_acc\": 0.5996495990318261, \"train_tail_rel_acc\": 0.5992713089275354, \"learning_rate\": 6.6299011839558e-05, \"time\": 6730.676798343658, \"_runtime\": 38564.430052280426, \"_timestamp\": 1591016024.0787838, \"_step\": 4599}\\n', '{\"train_loss\": 2.3449581603137326e-05, \"train_ent_seq_acc\": 0.6857375994852741, \"train_head_rel_acc\": 0.5995306996318609, \"train_tail_rel_acc\": 0.59915286089388, \"learning_rate\": 6.598724608005929e-05, \"time\": 6738.6091232299805, \"_runtime\": 38572.362518787384, \"_timestamp\": 1591016032.0112503, \"_step\": 4600}\\n']}, 'wandb-summary.json': {'offset': 0, 'content': ['{\"learning_rate\": 6.598724608005929e-05, \"_step\": 4600, \"_timestamp\": 1591016032.0112503, \"time\": 6738.6091232299805, \"train_loss\": 2.3449581603137326e-05, \"_runtime\": 38572.362518787384, \"train_ent_seq_acc\": 0.6857375994852741, \"train_head_rel_acc\": 0.5995306996318609, \"train_tail_rel_acc\": 0.59915286089388, \"val_ent_seq_acc\": 0.6259292456637952, \"val_f1\": 0.7601860276522033, \"val_head_rel_acc\": 0.5443056925107708, \"val_recall\": 0.819241664850721, \"val_tail_rel_acc\": 0.5420012026227659, \"val_prec\": 0.7090720482836599}\\n']}}}}\n"
     ]
    },
    {
     "name": "stdout",
     "output_type": "stream",
     "text": [
      "Epoch: 4/50, batch: 11793/12522, train_loss: 2.281792128197077e-05, t_ent_sample_acc: 0.6909324928068138, t_head_rel_sample_acc: 0.6101218393290608, t_tail_rel_sample_acc: 0.6094858688507272,lr: 2.094954404022464e-06, batch_time: 0.7645599842071533, total_time: 9469.119141578674 ----------------"
     ]
    },
    {
     "name": "stderr",
     "output_type": "stream",
     "text": [
      "requests_with_retry encountered retryable exception: ('Connection aborted.', RemoteDisconnected('Remote end closed connection without response')). args: ('https://api.wandb.ai/files/wycheng/nyt_single/33ahq1zb/file_stream',), kwargs: {'json': {'files': {'output.log': {'offset': 48, 'content': ['2020-06-01T13:35:53.193328 Epoch: 4/50, batch: 11524/12522, train_loss: 2.2874389080019242e-05, t_ent_sample_acc: 0.6905010021804046, t_head_rel_sample_acc: 0.6092213507714536, t_tail_rel_sample_acc: 0.608570535088922,lr: 3.920982483080149e-06, batch_time: 0.8224115371704102, total_time: 9258.855890512466 -------------\\r']}, 'wandb-events.jsonl': {'offset': 1263, 'content': ['{\"system.gpu.0.gpu\": 0.0, \"system.gpu.0.memory\": 0.0, \"system.gpu.0.memoryAllocated\": 31.67, \"system.gpu.0.temp\": 39.0, \"system.gpu.process.0.gpu\": 0.0, \"system.gpu.process.0.memory\": 0.0, \"system.gpu.process.0.memoryAllocated\": 31.67, \"system.gpu.process.0.temp\": 39.0, \"system.gpu.0.powerWatts\": 38.62, \"system.gpu.0.powerPercent\": 15.45, \"system.gpu.process.0.powerWatts\": 38.62, \"system.gpu.process.0.powerPercent\": 15.45, \"system.gpu.1.gpu\": 90.8, \"system.gpu.1.memory\": 9.47, \"system.gpu.1.memoryAllocated\": 58.92, \"system.gpu.1.temp\": 46.07, \"system.gpu.process.1.gpu\": 90.8, \"system.gpu.process.1.memory\": 9.47, \"system.gpu.process.1.memoryAllocated\": 58.92, \"system.gpu.process.1.temp\": 46.07, \"system.gpu.1.powerWatts\": 72.69, \"system.gpu.1.powerPercent\": 29.07, \"system.gpu.process.1.powerWatts\": 72.69, \"system.gpu.process.1.powerPercent\": 29.07, \"system.cpu\": 79.75, \"system.memory\": 38.7, \"system.disk\": 83.1, \"system.proc.memory.availableMB\": 78674.08, \"system.proc.memory.rssMB\": 3786.49, \"system.proc.memory.percent\": 2.95, \"system.proc.cpu.threads\": 49.0, \"system.network.sent\": 2131544008, \"system.network.recv\": 1983862702, \"_wandb\": true, \"_timestamp\": 1591018529, \"_runtime\": 41072}\\n']}, 'wandb-history.jsonl': {'offset': 4911, 'content': ['{\"train_loss\": 2.2872772494618502e-05, \"train_ent_seq_acc\": 0.6904244088307548, \"train_head_rel_acc\": 0.6093029483158173, \"train_tail_rel_acc\": 0.6086502636125283, \"learning_rate\": 4.1839370353924935e-06, \"time\": 9231.858284235, \"_runtime\": 41065.61153507233, \"_timestamp\": 1591018525.2602665, \"_step\": 4911}\\n', '{\"train_loss\": 2.2868607728376614e-05, \"train_ent_seq_acc\": 0.6905196836842898, \"train_head_rel_acc\": 0.6093962999732377, \"train_tail_rel_acc\": 0.6087441827725166, \"learning_rate\": 4.103356385021795e-06, \"time\": 9239.748454809189, \"_runtime\": 41073.501705408096, \"_timestamp\": 1591018533.1504369, \"_step\": 4912}\\n', '{\"train_loss\": 2.286795319692982e-05, \"train_ent_seq_acc\": 0.6904844828652275, \"train_head_rel_acc\": 0.6092867847632683, \"train_tail_rel_acc\": 0.6086352340790971, \"learning_rate\": 4.023556073928458e-06, \"time\": 9247.939250946045, \"_runtime\": 41081.692492723465, \"_timestamp\": 1591018541.3412242, \"_step\": 4913}\\n', '{\"train_loss\": 2.2869687661551238e-05, \"train_ent_seq_acc\": 0.6904927421613096, \"train_head_rel_acc\": 0.6092208586830448, \"train_tail_rel_acc\": 0.6085698735319733, \"learning_rate\": 3.94453622768548e-06, \"time\": 9256.367370843887, \"_runtime\": 41090.120646476746, \"_timestamp\": 1591018549.769378, \"_step\": 4914}\\n']}, 'wandb-summary.json': {'offset': 0, 'content': ['{\"learning_rate\": 3.94453622768548e-06, \"_step\": 4914, \"_timestamp\": 1591018549.769378, \"time\": 9256.367370843887, \"train_loss\": 2.2869687661551238e-05, \"_runtime\": 41090.120646476746, \"train_ent_seq_acc\": 0.6904927421613096, \"train_head_rel_acc\": 0.6092208586830448, \"train_tail_rel_acc\": 0.6085698735319733, \"val_ent_seq_acc\": 0.6259292456637952, \"val_f1\": 0.7601860276522033, \"val_head_rel_acc\": 0.5443056925107708, \"val_recall\": 0.819241664850721, \"val_tail_rel_acc\": 0.5420012026227659, \"val_prec\": 0.7090720482836599}\\n']}}}}\n"
     ]
    },
    {
     "name": "stdout",
     "output_type": "stream",
     "text": [
      "Epoch: 4/50, batch: 12238/12522, train_loss: 2.2783883838798392e-05, t_ent_sample_acc: 0.691180494827789, t_head_rel_sample_acc: 0.6108296719407271, t_tail_rel_sample_acc: 0.6101078764590432,lr: 3.1950365121463654e-07, batch_time: 0.8205771446228027, total_time: 9833.19199848175 ---------------"
     ]
    },
    {
     "name": "stderr",
     "output_type": "stream",
     "text": [
      "requests_with_retry encountered retryable exception: ('Connection aborted.', RemoteDisconnected('Remote end closed connection without response')). args: ('https://api.wandb.ai/files/wycheng/nyt_single/33ahq1zb/file_stream',), kwargs: {'json': {'files': {'output.log': {'offset': 49, 'content': ['2020-06-01T13:41:57.479720 Epoch: 4/50, batch: 11983/12522, train_loss: 2.2808574203597033e-05, t_ent_sample_acc: 0.6908398195485643, t_head_rel_sample_acc: 0.6103090645760474, t_tail_rel_sample_acc: 0.6096553607368712,lr: 1.1467105556698942e-06, batch_time: 0.922905683517456, total_time: 9623.18696641922 -------------\\r']}, 'wandb-events.jsonl': {'offset': 1275, 'content': ['{\"system.gpu.0.gpu\": 0.0, \"system.gpu.0.memory\": 0.0, \"system.gpu.0.memoryAllocated\": 31.67, \"system.gpu.0.temp\": 39.0, \"system.gpu.process.0.gpu\": 0.0, \"system.gpu.process.0.memory\": 0.0, \"system.gpu.process.0.memoryAllocated\": 31.67, \"system.gpu.process.0.temp\": 39.0, \"system.gpu.0.powerWatts\": 38.62, \"system.gpu.0.powerPercent\": 15.45, \"system.gpu.process.0.powerWatts\": 38.62, \"system.gpu.process.0.powerPercent\": 15.45, \"system.gpu.1.gpu\": 98.93, \"system.gpu.1.memory\": 19.47, \"system.gpu.1.memoryAllocated\": 58.92, \"system.gpu.1.temp\": 46.33, \"system.gpu.process.1.gpu\": 98.93, \"system.gpu.process.1.memory\": 19.47, \"system.gpu.process.1.memoryAllocated\": 58.92, \"system.gpu.process.1.temp\": 46.33, \"system.gpu.1.powerWatts\": 80.02, \"system.gpu.1.powerPercent\": 32.01, \"system.gpu.process.1.powerWatts\": 80.02, \"system.gpu.process.1.powerPercent\": 32.01, \"system.cpu\": 63.76, \"system.memory\": 38.86, \"system.disk\": 83.1, \"system.proc.memory.availableMB\": 78524.41, \"system.proc.memory.rssMB\": 3786.49, \"system.proc.memory.percent\": 2.95, \"system.proc.cpu.threads\": 49.0, \"system.network.sent\": 2151018233, \"system.network.recv\": 2002439463, \"_wandb\": true, \"_timestamp\": 1591018914, \"_runtime\": 41457}\\n']}, 'wandb-history.jsonl': {'offset': 4957, 'content': ['{\"train_loss\": 2.2816603050061015e-05, \"train_ent_seq_acc\": 0.6907371955293061, \"train_head_rel_acc\": 0.6102139447428334, \"train_tail_rel_acc\": 0.6095305988740426, \"learning_rate\": 1.2865838080715063e-06, \"time\": 9596.977720975876, \"_runtime\": 41430.73098063469, \"_timestamp\": 1591018890.379712, \"_step\": 4957}\\n', '{\"train_loss\": 2.2810959772488115e-05, \"train_ent_seq_acc\": 0.6908006764230157, \"train_head_rel_acc\": 0.6102472079065808, \"train_tail_rel_acc\": 0.6095783675260622, \"learning_rate\": 1.2420100603468543e-06, \"time\": 9604.910662412643, \"_runtime\": 41438.663927555084, \"_timestamp\": 1591018898.312659, \"_step\": 4958}\\n', '{\"train_loss\": 2.280701305313783e-05, \"train_ent_seq_acc\": 0.6908640512489713, \"train_head_rel_acc\": 0.6102943380340957, \"train_tail_rel_acc\": 0.6096539014416543, \"learning_rate\": 1.1982211544929178e-06, \"time\": 9613.123953580856, \"_runtime\": 41446.87720656395, \"_timestamp\": 1591018906.525938, \"_step\": 4959}\\n', '{\"train_loss\": 2.280850692035408e-05, \"train_ent_seq_acc\": 0.6908299438820171, \"train_head_rel_acc\": 0.610313567659481, \"train_tail_rel_acc\": 0.6096597546968862, \"learning_rate\": 1.1552171594154115e-06, \"time\": 9621.405387163162, \"_runtime\": 41455.158732414246, \"_timestamp\": 1591018914.807464, \"_step\": 4960}\\n']}, 'wandb-summary.json': {'offset': 0, 'content': ['{\"learning_rate\": 1.1552171594154115e-06, \"_step\": 4960, \"_timestamp\": 1591018914.807464, \"time\": 9621.405387163162, \"train_loss\": 2.280850692035408e-05, \"_runtime\": 41455.158732414246, \"train_ent_seq_acc\": 0.6908299438820171, \"train_head_rel_acc\": 0.610313567659481, \"train_tail_rel_acc\": 0.6096597546968862, \"val_ent_seq_acc\": 0.6259292456637952, \"val_f1\": 0.7601860276522033, \"val_head_rel_acc\": 0.5443056925107708, \"val_recall\": 0.819241664850721, \"val_tail_rel_acc\": 0.5420012026227659, \"val_prec\": 0.7090720482836599}\\n']}}}}\n"
     ]
    },
    {
     "name": "stdout",
     "output_type": "stream",
     "text": [
      "Epoch: 4/50, batch: 12522/12522, train_loss: 2.2762913136907708e-05, t_ent_sample_acc: 0.6911968456346508, t_head_rel_sample_acc: 0.6112176060707515, t_tail_rel_sample_acc: 0.6105521106870863,lr: 3.933981973514023e-12, batch_time: 0.4957880973815918, total_time: 10057.934579849243 --------------"
     ]
    },
    {
     "name": "stderr",
     "output_type": "stream",
     "text": [
      "Validating: 100%|██████████| 1121/1121 [09:05<00:00,  2.05it/s]"
     ]
    },
    {
     "name": "stdout",
     "output_type": "stream",
     "text": [
      "{'time': 545.7005305290222,\n",
      " 'val_ent_seq_acc': 0.6328427165374492,\n",
      " 'val_f1': 0.80289629696627,\n",
      " 'val_head_rel_acc': 0.6071216333109177,\n",
      " 'val_prec': 0.7790456431535197,\n",
      " 'val_recall': 0.8282534589933744,\n",
      " 'val_tail_rel_acc': 0.6071216333242105}\n",
      "Current avf_f1: 0.80289629696627, Best f1: 0.80289629696627\n"
     ]
    },
    {
     "name": "stderr",
     "output_type": "stream",
     "text": [
      "\n"
     ]
    },
    {
     "name": "stdout",
     "output_type": "stream",
     "text": [
      "Epoch: 5/50, batch: 5456/12522, train_loss: 2.6687543656576243e-05, t_ent_sample_acc: 0.6718902917485957, t_head_rel_sample_acc: 0.5700757713972037, t_tail_rel_sample_acc: 0.5693120861868443,lr: 0.0008874336567760226, batch_time: 0.6323835849761963, total_time: 4239.50582075119 ---------------"
     ]
    },
    {
     "name": "stderr",
     "output_type": "stream",
     "text": [
      "requests_with_retry encountered retryable exception: 408 Client Error: Request Timeout for url: https://api.wandb.ai/files/wycheng/nyt_single/33ahq1zb/file_stream. args: ('https://api.wandb.ai/files/wycheng/nyt_single/33ahq1zb/file_stream',), kwargs: {'json': {'files': {'output.log': {'offset': 59, 'content': ['2020-06-01T15:07:57.327771 Epoch: 5/50, batch: 5377/12522, train_loss: 2.6727320810695185e-05, t_ent_sample_acc: 0.67224600407045, t_head_rel_sample_acc: 0.5697725015805516, t_tail_rel_sample_acc: 0.5690905848095048,lr: 0.0008905467523641983, batch_time: 0.6288461685180664, total_time: 4179.140299081802 -------------\\r']}, 'wandb-events.jsonl': {'offset': 1435, 'content': ['{\"system.gpu.0.gpu\": 0.0, \"system.gpu.0.memory\": 0.0, \"system.gpu.0.memoryAllocated\": 31.67, \"system.gpu.0.temp\": 39.0, \"system.gpu.process.0.gpu\": 0.0, \"system.gpu.process.0.memory\": 0.0, \"system.gpu.process.0.memoryAllocated\": 31.67, \"system.gpu.process.0.temp\": 39.0, \"system.gpu.0.powerWatts\": 38.62, \"system.gpu.0.powerPercent\": 15.45, \"system.gpu.process.0.powerWatts\": 38.62, \"system.gpu.process.0.powerPercent\": 15.45, \"system.gpu.1.gpu\": 99.27, \"system.gpu.1.memory\": 16.6, \"system.gpu.1.memoryAllocated\": 58.92, \"system.gpu.1.temp\": 46.93, \"system.gpu.process.1.gpu\": 99.27, \"system.gpu.process.1.memory\": 16.6, \"system.gpu.process.1.memoryAllocated\": 58.92, \"system.gpu.process.1.temp\": 46.93, \"system.gpu.1.powerWatts\": 78.56, \"system.gpu.1.powerPercent\": 31.42, \"system.gpu.process.1.powerWatts\": 78.56, \"system.gpu.process.1.powerPercent\": 31.42, \"system.cpu\": 63.71, \"system.memory\": 42.13, \"system.disk\": 83.1, \"system.proc.memory.availableMB\": 74284.66, \"system.proc.memory.rssMB\": 3785.99, \"system.proc.memory.percent\": 2.95, \"system.proc.cpu.threads\": 49.0, \"system.network.sent\": 2432052120, \"system.network.recv\": 2193412084, \"_wandb\": true, \"_timestamp\": 1591024051, \"_runtime\": 46595}\\n']}, 'wandb-history.jsonl': {'offset': 5550, 'content': ['{\"train_loss\": 2.6753118775954393e-05, \"train_ent_seq_acc\": 0.672127584689812, \"train_head_rel_acc\": 0.5694938663925443, \"train_tail_rel_acc\": 0.5688385584424261, \"learning_rate\": 0.0008919526751410814, \"time\": 4150.740004777908, \"_runtime\": 46588.621343135834, \"_timestamp\": 1591024048.2700746, \"_step\": 5550}\\n', '{\"train_loss\": 2.6737246945664836e-05, \"train_ent_seq_acc\": 0.6722108198006428, \"train_head_rel_acc\": 0.5696754638886056, \"train_tail_rel_acc\": 0.5690213805842547, \"learning_rate\": 0.0008915629416191098, \"time\": 4158.899856328964, \"_runtime\": 46596.78119444847, \"_timestamp\": 1591024056.429926, \"_step\": 5551}\\n', '{\"train_loss\": 2.6727422523650992e-05, \"train_ent_seq_acc\": 0.6722004781867159, \"train_head_rel_acc\": 0.5698252951719716, \"train_tail_rel_acc\": 0.5691413432137331, \"learning_rate\": 0.0008911725919365999, \"time\": 4166.799210071564, \"_runtime\": 46604.680547475815, \"_timestamp\": 1591024064.329279, \"_step\": 5552}\\n', '{\"train_loss\": 2.6732446713362486e-05, \"train_ent_seq_acc\": 0.672128113390702, \"train_head_rel_acc\": 0.5697883834659754, \"train_tail_rel_acc\": 0.5690746740757964, \"learning_rate\": 0.0008907816267078029, \"time\": 4174.910564899445, \"_runtime\": 46612.7919921875, \"_timestamp\": 1591024072.4407237, \"_step\": 5553}\\n']}, 'wandb-summary.json': {'offset': 0, 'content': ['{\"learning_rate\": 0.0008907816267078029, \"_step\": 5553, \"_timestamp\": 1591024072.4407237, \"time\": 4174.910564899445, \"train_loss\": 2.6732446713362486e-05, \"_runtime\": 46612.7919921875, \"train_ent_seq_acc\": 0.672128113390702, \"train_head_rel_acc\": 0.5697883834659754, \"train_tail_rel_acc\": 0.5690746740757964, \"val_ent_seq_acc\": 0.6328427165374492, \"val_f1\": 0.80289629696627, \"val_head_rel_acc\": 0.6071216333109177, \"val_recall\": 0.8282534589933744, \"val_tail_rel_acc\": 0.6071216333242105, \"val_prec\": 0.7790456431535197}\\n']}}}}\n"
     ]
    },
    {
     "name": "stdout",
     "output_type": "stream",
     "text": [
      "Epoch: 5/50, batch: 7909/12522, train_loss: 2.5881381424818405e-05, t_ent_sample_acc: 0.6771399854166738, t_head_rel_sample_acc: 0.5814262375316572, t_tail_rel_sample_acc: 0.5809204846428384,lr: 0.0007735072413438614, batch_time: 0.7040383815765381, total_time: 6084.407439470291 --------------"
     ]
    },
    {
     "name": "stderr",
     "output_type": "stream",
     "text": [
      "requests_with_retry encountered retryable exception: ('Connection aborted.', OSError(\"(110, 'ETIMEDOUT')\")). args: ('https://api.wandb.ai/files/wycheng/nyt_single/33ahq1zb/file_stream',), kwargs: {'json': {'files': {'output.log': {'offset': 60, 'content': ['2020-06-01T15:23:38.573026 Epoch: 5/50, batch: 6620/12522, train_loss: 2.6276710301912388e-05, t_ent_sample_acc: 0.6739929688030859, t_head_rel_sample_acc: 0.5747230753550177, t_tail_rel_sample_acc: 0.5741691982390478,lr: 0.0008373246909065484, batch_time: 0.6973292827606201, total_time: 5120.379776239395 -------------\\r']}, 'wandb-events.jsonl': {'offset': 1465, 'content': ['{\"system.gpu.0.gpu\": 0.0, \"system.gpu.0.memory\": 0.0, \"system.gpu.0.memoryAllocated\": 40.43, \"system.gpu.0.temp\": 39.0, \"system.gpu.process.0.gpu\": 0.0, \"system.gpu.process.0.memory\": 0.0, \"system.gpu.process.0.memoryAllocated\": 40.43, \"system.gpu.process.0.temp\": 39.0, \"system.gpu.0.powerWatts\": 38.69, \"system.gpu.0.powerPercent\": 15.48, \"system.gpu.process.0.powerWatts\": 38.69, \"system.gpu.process.0.powerPercent\": 15.48, \"system.gpu.1.gpu\": 99.67, \"system.gpu.1.memory\": 13.73, \"system.gpu.1.memoryAllocated\": 58.92, \"system.gpu.1.temp\": 45.8, \"system.gpu.process.1.gpu\": 99.67, \"system.gpu.process.1.memory\": 13.73, \"system.gpu.process.1.memoryAllocated\": 58.92, \"system.gpu.process.1.temp\": 45.8, \"system.gpu.1.powerWatts\": 69.9, \"system.gpu.1.powerPercent\": 27.96, \"system.gpu.process.1.powerWatts\": 69.9, \"system.gpu.process.1.powerPercent\": 27.96, \"system.cpu\": 65.49, \"system.memory\": 40.5, \"system.disk\": 83.1, \"system.proc.memory.availableMB\": 76427.76, \"system.proc.memory.rssMB\": 3786.04, \"system.proc.memory.percent\": 2.95, \"system.proc.cpu.threads\": 49.0, \"system.network.sent\": 2477633440, \"system.network.recv\": 2231441187, \"_wandb\": true, \"_timestamp\": 1591025013, \"_runtime\": 47556}\\n']}, 'wandb-history.jsonl': {'offset': 5674, 'content': ['{\"train_loss\": 2.628342996098372e-05, \"train_ent_seq_acc\": 0.673935083737219, \"train_head_rel_acc\": 0.5745580851388655, \"train_tail_rel_acc\": 0.5739756002286306, \"learning_rate\": 0.0008391262344486183, \"time\": 5091.594586849213, \"_runtime\": 47529.47592306137, \"_timestamp\": 1591024989.1246545, \"_step\": 5674}\\n', '{\"train_loss\": 2.6281938325976534e-05, \"train_ent_seq_acc\": 0.6739746299838644, \"train_head_rel_acc\": 0.5746219731678534, \"train_tail_rel_acc\": 0.5740656590261873, \"learning_rate\": 0.0008386650722749249, \"time\": 5098.892349481583, \"_runtime\": 47536.77368474007, \"_timestamp\": 1591024996.4224162, \"_step\": 5675}\\n', '{\"train_loss\": 2.628121401300751e-05, \"train_ent_seq_acc\": 0.6738120668125124, \"train_head_rel_acc\": 0.5745594241148305, \"train_tail_rel_acc\": 0.5740039527456863, \"learning_rate\": 0.0008382033771803877, \"time\": 5106.016233921051, \"_runtime\": 47543.89757037163, \"_timestamp\": 1591025003.5463018, \"_step\": 5676}\\n', '{\"train_loss\": 2.628233178240957e-05, \"train_ent_seq_acc\": 0.6739021005175727, \"train_head_rel_acc\": 0.5745726958212487, \"train_tail_rel_acc\": 0.5740180646750195, \"learning_rate\": 0.0008377411498915265, \"time\": 5113.815262079239, \"_runtime\": 47551.69666457176, \"_timestamp\": 1591025011.345396, \"_step\": 5677}\\n']}, 'wandb-summary.json': {'offset': 0, 'content': ['{\"learning_rate\": 0.0008377411498915265, \"_step\": 5677, \"_timestamp\": 1591025011.345396, \"time\": 5113.815262079239, \"train_loss\": 2.628233178240957e-05, \"_runtime\": 47551.69666457176, \"train_ent_seq_acc\": 0.6739021005175727, \"train_head_rel_acc\": 0.5745726958212487, \"train_tail_rel_acc\": 0.5740180646750195, \"val_ent_seq_acc\": 0.6328427165374492, \"val_f1\": 0.80289629696627, \"val_head_rel_acc\": 0.6071216333109177, \"val_recall\": 0.8282534589933744, \"val_tail_rel_acc\": 0.6071216333242105, \"val_prec\": 0.7790456431535197}\\n']}}}}\n"
     ]
    },
    {
     "name": "stdout",
     "output_type": "stream",
     "text": [
      "Epoch: 5/50, batch: 9919/12522, train_loss: 2.5054834242704273e-05, t_ent_sample_acc: 0.6821084299302892, t_head_rel_sample_acc: 0.591944767162016, t_tail_rel_sample_acc: 0.5915583035123602,lr: 0.0006604375881311916, batch_time: 0.7412741184234619, total_time: 7627.5588574409485 --------------"
     ]
    },
    {
     "name": "stderr",
     "output_type": "stream",
     "text": [
      "requests_with_retry encountered retryable exception: ('Connection aborted.', OSError(\"(110, 'ETIMEDOUT')\")). args: ('https://api.wandb.ai/files/wycheng/nyt_single/33ahq1zb/file_stream',), kwargs: {'json': {'files': {'output.log': {'offset': 61, 'content': ['2020-06-01T15:49:22.072106 Epoch: 5/50, batch: 8658/12522, train_loss: 2.55763157609319e-05, t_ent_sample_acc: 0.6786594470314463, t_head_rel_sample_acc: 0.5854315998789537, t_tail_rel_sample_acc: 0.5850850995909702,lr: 0.0007330320363725775, batch_time: 0.6473555564880371, total_time: 6663.741533994675 -------------\\r']}, 'wandb-events.jsonl': {'offset': 1513, 'content': ['{\"system.gpu.0.gpu\": 0.0, \"system.gpu.0.memory\": 0.0, \"system.gpu.0.memoryAllocated\": 40.43, \"system.gpu.0.temp\": 39.0, \"system.gpu.process.0.gpu\": 0.0, \"system.gpu.process.0.memory\": 0.0, \"system.gpu.process.0.memoryAllocated\": 40.43, \"system.gpu.process.0.temp\": 39.0, \"system.gpu.0.powerWatts\": 38.58, \"system.gpu.0.powerPercent\": 15.43, \"system.gpu.process.0.powerWatts\": 38.58, \"system.gpu.process.0.powerPercent\": 15.43, \"system.gpu.1.gpu\": 99.33, \"system.gpu.1.memory\": 15.53, \"system.gpu.1.memoryAllocated\": 58.92, \"system.gpu.1.temp\": 46.67, \"system.gpu.process.1.gpu\": 99.33, \"system.gpu.process.1.memory\": 15.53, \"system.gpu.process.1.memoryAllocated\": 58.92, \"system.gpu.process.1.temp\": 46.67, \"system.gpu.1.powerWatts\": 73.76, \"system.gpu.1.powerPercent\": 29.5, \"system.gpu.process.1.powerWatts\": 73.76, \"system.gpu.process.1.powerPercent\": 29.5, \"system.cpu\": 63.58, \"system.memory\": 41.2, \"system.disk\": 83.1, \"system.proc.memory.availableMB\": 75514.85, \"system.proc.memory.rssMB\": 3786.71, \"system.proc.memory.percent\": 2.95, \"system.proc.cpu.threads\": 49.0, \"system.network.sent\": 2536926297, \"system.network.recv\": 2298065254, \"_wandb\": true, \"_timestamp\": 1591026552, \"_runtime\": 49096}\\n']}, 'wandb-history.jsonl': {'offset': 5878, 'content': ['{\"train_loss\": 2.5585854733582617e-05, \"train_ent_seq_acc\": 0.6786142549306939, \"train_head_rel_acc\": 0.5853729410281301, \"train_tail_rel_acc\": 0.5850056209747841, \"learning_rate\": 0.0007350827553552509, \"time\": 6634.8599588871, \"_runtime\": 49072.741309165955, \"_timestamp\": 1591026532.3900406, \"_step\": 5878}\\n', '{\"train_loss\": 2.5582428398875337e-05, \"train_ent_seq_acc\": 0.6786197225511758, \"train_head_rel_acc\": 0.5853126472095918, \"train_tail_rel_acc\": 0.5849457527385113, \"learning_rate\": 0.000734529004536115, \"time\": 6642.989521741867, \"_runtime\": 49080.87086606026, \"_timestamp\": 1591026540.5195975, \"_step\": 5879}\\n', '{\"train_loss\": 2.558096249927458e-05, \"train_ent_seq_acc\": 0.6786637532929692, \"train_head_rel_acc\": 0.5853489323934876, \"train_tail_rel_acc\": 0.5850017504130037, \"learning_rate\": 0.0007339748846638785, \"time\": 6650.9709804058075, \"_runtime\": 49088.85234928131, \"_timestamp\": 1591026548.5010808, \"_step\": 5880}\\n', '{\"train_loss\": 2.5579688728376678e-05, \"train_ent_seq_acc\": 0.6786113542506439, \"train_head_rel_acc\": 0.5853851336993147, \"train_tail_rel_acc\": 0.585038353038887, \"learning_rate\": 0.0007334203966105004, \"time\": 6658.483476161957, \"_runtime\": 49096.364877700806, \"_timestamp\": 1591026556.0136092, \"_step\": 5881}\\n']}, 'wandb-summary.json': {'offset': 0, 'content': ['{\"learning_rate\": 0.0007334203966105004, \"_step\": 5881, \"_timestamp\": 1591026556.0136092, \"time\": 6658.483476161957, \"train_loss\": 2.5579688728376678e-05, \"_runtime\": 49096.364877700806, \"train_ent_seq_acc\": 0.6786113542506439, \"train_head_rel_acc\": 0.5853851336993147, \"train_tail_rel_acc\": 0.585038353038887, \"val_ent_seq_acc\": 0.6328427165374492, \"val_f1\": 0.80289629696627, \"val_head_rel_acc\": 0.6071216333109177, \"val_recall\": 0.8282534589933744, \"val_tail_rel_acc\": 0.6071216333242105, \"val_prec\": 0.7790456431535197}\\n']}}}}\n"
     ]
    },
    {
     "name": "stdout",
     "output_type": "stream",
     "text": [
      "Epoch: 5/50, batch: 12522/12522, train_loss: 2.4206393254654794e-05, t_ent_sample_acc: 0.6875898606398105, t_head_rel_sample_acc: 0.6033514499952286, t_tail_rel_sample_acc: 0.6029787726154097,lr: 0.000500062721463132, batch_time: 0.4984614849090576, total_time: 9500.345129728317 ---------------"
     ]
    },
    {
     "name": "stderr",
     "output_type": "stream",
     "text": [
      "Validating: 100%|██████████| 1121/1121 [05:42<00:00,  3.27it/s]"
     ]
    },
    {
     "name": "stdout",
     "output_type": "stream",
     "text": [
      "{'time': 342.47619676589966,\n",
      " 'val_ent_seq_acc': 0.6699375740578938,\n",
      " 'val_f1': 0.820606468305049,\n",
      " 'val_head_rel_acc': 0.6387154497172979,\n",
      " 'val_prec': 0.805167861184451,\n",
      " 'val_recall': 0.8366487016168462,\n",
      " 'val_tail_rel_acc': 0.6366339747949331}\n",
      "Current avf_f1: 0.820606468305049, Best f1: 0.820606468305049\n"
     ]
    },
    {
     "name": "stderr",
     "output_type": "stream",
     "text": [
      "\n"
     ]
    },
    {
     "name": "stdout",
     "output_type": "stream",
     "text": [
      "Epoch: 6/50, batch: 2/12522, train_loss: 1.6303388292726595e-05, t_ent_sample_acc: 0.8333333730697632, t_head_rel_sample_acc: 0.7500000298023224, t_tail_rel_sample_acc: 0.7500000298023224,lr: 0.0004999372785368682, batch_time: 0.6811408996582031, total_time: 2.8166308403015137 -------------"
     ]
    }
   ],
   "source": [
    "epoch_num = config.epochs\n",
    "\n",
    "# load the last best state (if any)\n",
    "model_last_state_path = get_last_state_path(model_state_dict_dir, \"model_state_dict\")\n",
    "if model_last_state_path is not None:\n",
    "    rel_extractor.load_state_dict(torch.load(model_last_state_path))\n",
    "    print(\"------------model state {} loaded ----------------\".format(model_last_state_path.split(\"/\")[-1]))\n",
    "    \n",
    "scheduler_last_state_path = get_last_state_path(schedule_state_dict_dir, \"scheduler_state_dict\")  \n",
    "if scheduler_last_state_path is not None:\n",
    "    scheduler.load_state_dict(torch.load(scheduler_last_state_path))\n",
    "    print(\"------------scheduler state {} loaded ----------------\".format(scheduler_last_state_path.split(\"/\")[-1]))\n",
    "\n",
    "train_n_valid(train_dataloader, dev_dataloader, optimizer, scheduler, epoch_num)"
   ]
  },
  {
   "cell_type": "markdown",
   "metadata": {},
   "source": [
    "# Prediction"
   ]
  },
  {
   "cell_type": "code",
   "execution_count": null,
   "metadata": {},
   "outputs": [],
   "source": [
    "model_state_path = get_last_state_path(model_state_dict_dir)\n",
    "# model_state_path = get_state_path(model_state_dict_dir, 16)\n",
    "rel_extractor.load_state_dict(torch.load(model_state_path))\n",
    "rel_extractor.eval()\n",
    "print(\"------------model state {} loaded ----------------\".format(model_state_path.split(\"/\")[-1]))"
   ]
  },
  {
   "cell_type": "code",
   "execution_count": null,
   "metadata": {},
   "outputs": [],
   "source": [
    "def filter_duplicates(rel_list):\n",
    "    rel_memory_set = set()\n",
    "    filtered_rel_list = []\n",
    "    for rel in rel_list:\n",
    "        rel_memory = \"{}\\u2E80\\{}\\u2E80\\{}\\u2E80\\{}\\u2E80{}\".format(*rel.values())\n",
    "        if rel_memory not in rel_memory_set:\n",
    "            filtered_rel_list.append(rel)\n",
    "            rel_memory_set.add(rel_memory)\n",
    "    return filtered_rel_list"
   ]
  },
  {
   "cell_type": "code",
   "execution_count": null,
   "metadata": {},
   "outputs": [],
   "source": [
    "def predict(short_test_data):\n",
    "    '''\n",
    "    short_test_data: seq_len <= max_seq_len\n",
    "    '''\n",
    "    indexed_test_data = get_indexed_train_valid_data(short_test_data)\n",
    "    test_dataloader = DataLoader(MyDataset(indexed_test_data), \n",
    "                              batch_size = batch_size, \n",
    "                              shuffle = False, \n",
    "                              num_workers = 0,\n",
    "                              drop_last = False,\n",
    "                              collate_fn = generate_pred_batch,\n",
    "                             )\n",
    "    short_pred_sample_list = []\n",
    "    for batch_test_data in tqdm(test_dataloader, desc = \"Predicting\"):\n",
    "        text_id_list, text_list, batch_input_ids, \\\n",
    "        batch_attention_mask, batch_token_type_ids, \\\n",
    "        offset_map_list = batch_test_data\n",
    "\n",
    "        batch_input_ids, \\\n",
    "        batch_attention_mask, \\\n",
    "        batch_token_type_ids = (batch_input_ids.to(device), \n",
    "                                  batch_attention_mask.to(device), \n",
    "                                  batch_token_type_ids.to(device)\n",
    "                                 )\n",
    "        with torch.no_grad():\n",
    "            batch_ent_shaking_outputs, \\\n",
    "            batch_head_rel_shaking_outputs, \\\n",
    "            batch_tail_rel_shaking_outputs = rel_extractor(batch_input_ids, \n",
    "                                                              batch_attention_mask, \n",
    "                                                              batch_token_type_ids, \n",
    "                                                             )\n",
    "\n",
    "        batch_ent_shaking_tag, \\\n",
    "        batch_head_rel_shaking_tag, \\\n",
    "        batch_tail_rel_shaking_tag = torch.argmax(batch_ent_shaking_outputs, dim = -1), \\\n",
    "                                     torch.argmax(batch_head_rel_shaking_outputs, dim = -1), \\\n",
    "                                     torch.argmax(batch_tail_rel_shaking_outputs, dim = -1)\n",
    "\n",
    "        for ind in range(len(text_list)):\n",
    "            text, offset_map = text_list[ind], offset_map_list[ind]\n",
    "            ent_shaking_tag, \\\n",
    "            head_rel_shaking_tag, \\\n",
    "            tail_rel_shaking_tag = batch_ent_shaking_tag[ind], \\\n",
    "                                    batch_head_rel_shaking_tag[ind], \\\n",
    "                                    batch_tail_rel_shaking_tag[ind]\n",
    "            rel_list = handshaking_tagger.decode_rel_fr_shaking_tag(text, \n",
    "                                                  ent_shaking_tag, \n",
    "                                                  head_rel_shaking_tag, \n",
    "                                                  tail_rel_shaking_tag, \n",
    "                                                  offset_map)\n",
    "            short_pred_sample_list.append({\n",
    "                \"text\": text,\n",
    "                \"id\": text_id_list[ind],\n",
    "                \"relation_list\": rel_list,\n",
    "            })\n",
    "    # merge\n",
    "    text_id2rel_list = {}\n",
    "    for sample in short_pred_sample_list:\n",
    "        text_id = sample[\"id\"]\n",
    "        if text_id not in text_id2rel_list:\n",
    "            text_id2rel_list[text_id] = sample[\"relation_list\"]\n",
    "        else:\n",
    "            text_id2rel_list[text_id].extend(sample[\"relation_list\"])\n",
    "\n",
    "    text_id2text = {sample[\"id\"]:sample[\"text\"] for sample in test_data}\n",
    "    merged_pred_sample_list = []\n",
    "    for text_id, rel_list in text_id2rel_list.items():\n",
    "        merged_pred_sample_list.append({\n",
    "            \"id\": text_id,\n",
    "            \"text\": text_id2text[text_id],\n",
    "            \"relation_list\": filter_duplicates(rel_list),\n",
    "        })\n",
    "    return merged_pred_sample_list"
   ]
  },
  {
   "cell_type": "code",
   "execution_count": null,
   "metadata": {},
   "outputs": [],
   "source": [
    "pred_sample_list = predict(short_test_data)"
   ]
  },
  {
   "cell_type": "code",
   "execution_count": null,
   "metadata": {},
   "outputs": [],
   "source": [
    "len([s for s in pred_sample_list if len(s[\"relation_list\"]) > 0])"
   ]
  },
  {
   "cell_type": "code",
   "execution_count": null,
   "metadata": {},
   "outputs": [],
   "source": [
    "text_id2gold_n_pred = {}\n",
    "for sample in test_data:\n",
    "    text_id = sample[\"id\"]\n",
    "    text_id2gold_n_pred[text_id] = {\n",
    "        \"gold_relation_list\": sample[\"relation_list\"],\n",
    "    }\n",
    "def get_test_prf(pred_sample_list):\n",
    "    for sample in pred_sample_list:\n",
    "        text_id = sample[\"id\"]\n",
    "        text_id2gold_n_pred[text_id][\"pred_relation_list\"] = sample[\"relation_list\"]\n",
    "\n",
    "    correct_num, pred_num, gold_num = 0, 0, 0\n",
    "    for gold_n_pred in text_id2gold_n_pred.values():\n",
    "        gold_rel_list = gold_n_pred[\"gold_relation_list\"]\n",
    "        pred_rel_list = gold_n_pred[\"pred_relation_list\"] if \"pred_relation_list\" in gold_n_pred else []\n",
    "        gold_rel_set = set([\"{}\\u2E80{}\\u2E80{}\".format(rel[\"subject\"], rel[\"predicate\"], rel[\"object\"]) for rel in gold_rel_list])\n",
    "        pred_rel_set = set([\"{}\\u2E80{}\\u2E80{}\".format(rel[\"subject\"], rel[\"predicate\"], rel[\"object\"]) for rel in pred_rel_list])\n",
    "\n",
    "        for rel_str in pred_rel_set:\n",
    "            if rel_str in gold_rel_set:\n",
    "                correct_num += 1\n",
    "\n",
    "        pred_num += len(gold_rel_set)\n",
    "        gold_num += len(pred_rel_set)\n",
    "\n",
    "    prf = get_scores(correct_num, pred_num, gold_num)\n",
    "#     print(prf)\n",
    "    return prf"
   ]
  },
  {
   "cell_type": "code",
   "execution_count": null,
   "metadata": {},
   "outputs": [],
   "source": [
    "# model state 16: (0.9112068965517129, 0.9034188034187924, 0.9072961372890456)\n",
    "# model state 17: (0.9060344827586095, 0.9096191889218483, 0.9078232970872052)\n",
    "# 18: (0.9178571428571316, 0.904600072824361, 0.9111803899493801)\n",
    "get_test_prf(pred_sample_list)"
   ]
  }
 ],
 "metadata": {
  "kernelspec": {
   "display_name": "Python 3",
   "language": "python",
   "name": "python3"
  },
  "language_info": {
   "codemirror_mode": {
    "name": "ipython",
    "version": 3
   },
   "file_extension": ".py",
   "mimetype": "text/x-python",
   "name": "python",
   "nbconvert_exporter": "python",
   "pygments_lexer": "ipython3",
   "version": "3.6.9"
  }
 },
 "nbformat": 4,
 "nbformat_minor": 2
}
