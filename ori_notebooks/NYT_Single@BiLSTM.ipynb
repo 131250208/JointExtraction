{
 "cells": [
  {
   "cell_type": "code",
   "execution_count": 1,
   "metadata": {},
   "outputs": [],
   "source": [
    "import json\n",
    "import os\n",
    "from tqdm import tqdm\n",
    "import re\n",
    "from IPython.core.debugger import set_trace\n",
    "from pprint import pprint\n",
    "import unicodedata\n",
    "from transformers import AutoModel, BasicTokenizer, BertTokenizerFast\n",
    "import copy\n",
    "import torch\n",
    "import torch.nn as nn\n",
    "import torch.nn.functional as F\n",
    "from torch.utils.data import DataLoader, Dataset\n",
    "import torch.optim as optim\n",
    "import glob\n",
    "import time\n",
    "from layers import LayerNorm\n",
    "import wandb\n",
    "from utils import Preprocessor, HandshakingTaggingScheme\n",
    "import logging\n",
    "from glove import Glove\n",
    "import numpy as np"
   ]
  },
  {
   "cell_type": "code",
   "execution_count": 2,
   "metadata": {},
   "outputs": [],
   "source": [
    "logger = logging.getLogger()\n",
    "logger.setLevel(logging.WARNING)"
   ]
  },
  {
   "cell_type": "code",
   "execution_count": 3,
   "metadata": {},
   "outputs": [
    {
     "name": "stdout",
     "output_type": "stream",
     "text": [
      "device cuda:0 will be used\n"
     ]
    }
   ],
   "source": [
    "os.environ[\"CUDA_VISIBLE_DEVICES\"] = \"1\"\n",
    "torch.cuda.is_available()\n",
    "device = torch.device(\"cuda:0\" if torch.cuda.is_available() else \"cpu\")\n",
    "print(\"device {} will be used\".format(device))"
   ]
  },
  {
   "cell_type": "code",
   "execution_count": 4,
   "metadata": {},
   "outputs": [],
   "source": [
    "pretrained_model_home = \"/data/yubowen/experiments/relextr/pretrained_model\"\n",
    "project_root = \"/data/yubowen/experiments/relextr\"\n",
    "data_home = os.path.join(project_root, \"data\")\n",
    "\n",
    "experiment_dir = os.path.join(project_root, \"exp\")\n",
    "experiment_name = \"nyt_single\"\n",
    "    \n",
    "nyt_data_dir = os.path.join(data_home, experiment_name)\n",
    "nyt_train_data_path = os.path.join(nyt_data_dir, \"train_triples.json\")\n",
    "nyt_valid_data_path = os.path.join(nyt_data_dir, \"valid_triples.json\")\n",
    "nyt_test_data_path_dict = {\n",
    "    \"test_triples\": os.path.join(nyt_data_dir, \"test_triples.json\"),\n",
    "    \"test_epo_triples\": os.path.join(nyt_data_dir, \"test_split_by_type\", \"test_epo_triples.json\"),\n",
    "    \"test_seo_triples\": os.path.join(nyt_data_dir, \"test_split_by_type\", \"test_seo_triples.json\"),\n",
    "    \"test_normal_triples\": os.path.join(nyt_data_dir, \"test_split_by_type\", \"test_normal_triples.json\"),\n",
    "    \"test_triples_1\": os.path.join(nyt_data_dir, \"test_split_by_num\", \"test_triples_1.json\"),\n",
    "    \"test_triples_2\": os.path.join(nyt_data_dir, \"test_split_by_num\", \"test_triples_2.json\"),\n",
    "    \"test_triples_3\": os.path.join(nyt_data_dir, \"test_split_by_num\", \"test_triples_3.json\"),\n",
    "    \"test_triples_4\": os.path.join(nyt_data_dir, \"test_split_by_num\", \"test_triples_4.json\"),\n",
    "    \"test_triples_5\": os.path.join(nyt_data_dir, \"test_split_by_num\", \"test_triples_5.json\"),\n",
    "}"
   ]
  },
  {
   "cell_type": "code",
   "execution_count": 5,
   "metadata": {},
   "outputs": [
    {
     "data": {
      "text/html": [
       "\n",
       "                Logging results to <a href=\"https://wandb.com\" target=\"_blank\">Weights & Biases</a> <a href=\"https://docs.wandb.com/integrations/jupyter.html\" target=\"_blank\">(Documentation)</a>.<br/>\n",
       "                Project page: <a href=\"https://app.wandb.ai/wycheng/nyt_single\" target=\"_blank\">https://app.wandb.ai/wycheng/nyt_single</a><br/>\n",
       "                Run page: <a href=\"https://app.wandb.ai/wycheng/nyt_single/runs/1b7r0hef\" target=\"_blank\">https://app.wandb.ai/wycheng/nyt_single/runs/1b7r0hef</a><br/>\n",
       "            "
      ],
      "text/plain": [
       "<IPython.core.display.HTML object>"
      ]
     },
     "metadata": {},
     "output_type": "display_data"
    },
    {
     "name": "stderr",
     "output_type": "stream",
     "text": [
      "Failed to query for notebook name, you can set it manually with the WANDB_NOTEBOOK_NAME environment variable\n"
     ]
    },
    {
     "data": {
      "text/plain": [
       "W&B Run: https://app.wandb.ai/wycheng/nyt_single/runs/1b7r0hef"
      ]
     },
     "execution_count": 5,
     "metadata": {},
     "output_type": "execute_result"
    }
   ],
   "source": [
    "wandb.init(project = experiment_name, name = \"BiLSTM\")"
   ]
  },
  {
   "cell_type": "code",
   "execution_count": 6,
   "metadata": {},
   "outputs": [
    {
     "name": "stderr",
     "output_type": "stream",
     "text": [
      "Failed to query for notebook name, you can set it manually with the WANDB_NOTEBOOK_NAME environment variable\n"
     ]
    }
   ],
   "source": [
    "# hyperparameters\n",
    "config = wandb.config          # Initialize config\n",
    "config.batch_size = 6          # input batch size for training (default: 64)\n",
    "config.test_batch_size = 100    # input batch size for testing (default: 1000)\n",
    "config.epochs = 50             # number of epochs to train (default: 10)\n",
    "config.lr = 5e-5               # learning rate (default: 0.01)\n",
    "config.seed = 2333               # random seed (default: 42)\n",
    "config.log_interval = 10  \n",
    "config.max_seq_len = 100\n",
    "config.sliding_len = 20\n",
    "config.loss_weight_recover_steps = 10000\n",
    "\n",
    "config.word_embedding_dim = 100\n",
    "config.rnn_hidden_size = 256\n",
    "config.dropout = 0.1\n",
    "\n",
    "config.word_embedding_path = os.path.join(data_home, \"pretrained_word_embeddings\", \"glove_100_nyt.emb\")\n",
    "\n",
    "torch.manual_seed(config.seed) # pytorch random seed\n",
    "torch.backends.cudnn.deterministic = True\n",
    "\n",
    "model_state_dict_dir = wandb.run.dir\n",
    "schedule_state_dict_dir = wandb.run.dir"
   ]
  },
  {
   "cell_type": "markdown",
   "metadata": {},
   "source": [
    "# Load Data"
   ]
  },
  {
   "cell_type": "code",
   "execution_count": 7,
   "metadata": {},
   "outputs": [],
   "source": [
    "nyt_train_data = json.load(open(nyt_train_data_path, \"r\", encoding = \"utf-8\"))\n",
    "nyt_valid_data = json.load(open(nyt_valid_data_path, \"r\", encoding = \"utf-8\"))\n",
    "nyt_test_data_dict = {}\n",
    "for file_name, path in nyt_test_data_path_dict.items():\n",
    "    nyt_test_data_dict[file_name] = json.load(open(path, \"r\", encoding = \"utf-8\"))"
   ]
  },
  {
   "cell_type": "markdown",
   "metadata": {},
   "source": [
    "# Preprocess"
   ]
  },
  {
   "cell_type": "code",
   "execution_count": 8,
   "metadata": {},
   "outputs": [],
   "source": [
    "# miss the last token\n",
    "# def get_tok2char_span_map(text):\n",
    "#     res = []\n",
    "#     left = 0\n",
    "#     sign = False\n",
    "#     for i,c in enumerate(text):\n",
    "#         if text[i].isalnum():\n",
    "#             if sign == False:\n",
    "#                 left = i\n",
    "#                 sign = True\n",
    "#         else:\n",
    "#             if text[i] == ' ':\n",
    "#                 if sign == True:\n",
    "#                     res.append((left, i))\n",
    "#                     sign = False\n",
    "#             else:\n",
    "#                 if sign == True:\n",
    "#                     res.append((left, i))  \n",
    "#                     sign = False\n",
    "#                 res.append((i, i+1))\n",
    "#     return res"
   ]
  },
  {
   "cell_type": "code",
   "execution_count": 9,
   "metadata": {},
   "outputs": [],
   "source": [
    "def get_tok2char_span_map(text):\n",
    "    tokens = text.split(\" \")\n",
    "    tok2char_span = []\n",
    "    char_num = 0\n",
    "    for tok in tokens:\n",
    "        tok2char_span.append((char_num, char_num + len(tok)))\n",
    "        char_num += len(tok) + 1 # +1: whitespace\n",
    "    return tok2char_span"
   ]
  },
  {
   "cell_type": "code",
   "execution_count": 10,
   "metadata": {},
   "outputs": [],
   "source": [
    "def tran2normal_samples(data):\n",
    "    normal_sample_list = []\n",
    "    for sample in tqdm(data, desc = \"Transforming data format\"):\n",
    "        text = sample[\"text\"]\n",
    "        spo_list = sample[\"triple_list\"]\n",
    "        normal_sample = {\n",
    "            \"text\": text,\n",
    "            \"id\": sample[\"id\"],\n",
    "        }\n",
    "        normal_rel_list = []\n",
    "        for rel in spo_list:\n",
    "            normal_rel_list.append({\n",
    "                \"subject\": rel[0],\n",
    "                \"predicate\": rel[1],\n",
    "                \"object\": rel[2],\n",
    "            })\n",
    "        normal_sample[\"relation_list\"] = normal_rel_list\n",
    "        normal_sample_list.append(normal_sample)\n",
    "    return normal_sample_list"
   ]
  },
  {
   "cell_type": "code",
   "execution_count": 11,
   "metadata": {
    "scrolled": true
   },
   "outputs": [
    {
     "name": "stderr",
     "output_type": "stream",
     "text": [
      "56195it [00:00, 532385.82it/s]\n",
      "Transforming data format: 100%|██████████| 56195/56195 [00:00<00:00, 100949.67it/s]\n",
      "Adding token level spans: 100%|██████████| 56195/56195 [00:22<00:00, 2468.91it/s]\n",
      "4999it [00:00, 239950.17it/s]\n",
      "Transforming data format: 100%|██████████| 4999/4999 [00:00<00:00, 105402.11it/s]\n",
      "Adding token level spans: 100%|██████████| 4999/4999 [00:02<00:00, 1706.71it/s]\n",
      "5000it [00:00, 257101.59it/s]\n",
      "Transforming data format: 100%|██████████| 5000/5000 [00:00<00:00, 80123.48it/s]\n",
      "Adding token level spans: 100%|██████████| 5000/5000 [00:02<00:00, 1706.09it/s]\n",
      "978it [00:00, 392801.81it/s]\n",
      "Transforming data format: 100%|██████████| 978/978 [00:00<00:00, 129573.23it/s]\n",
      "Adding token level spans: 100%|██████████| 978/978 [00:00<00:00, 1873.67it/s]\n",
      "1297it [00:00, 404702.60it/s]\n",
      "Transforming data format: 100%|██████████| 1297/1297 [00:00<00:00, 94062.53it/s]\n",
      "Adding token level spans: 100%|██████████| 1297/1297 [00:00<00:00, 1568.25it/s]\n",
      "3266it [00:00, 435498.23it/s]\n",
      "Transforming data format: 100%|██████████| 3266/3266 [00:01<00:00, 2760.64it/s]\n",
      "Adding token level spans: 100%|██████████| 3266/3266 [00:01<00:00, 3020.37it/s]\n",
      "3244it [00:00, 817638.49it/s]\n",
      "Transforming data format: 100%|██████████| 3244/3244 [00:00<00:00, 218414.06it/s]\n",
      "Adding token level spans: 100%|██████████| 3244/3244 [00:01<00:00, 1642.31it/s]\n",
      "1045it [00:00, 161646.60it/s]\n",
      "Transforming data format: 100%|██████████| 1045/1045 [00:00<00:00, 68896.35it/s]\n",
      "Adding token level spans: 100%|██████████| 1045/1045 [00:00<00:00, 1799.01it/s]\n",
      "312it [00:00, 355025.19it/s]\n",
      "Transforming data format: 100%|██████████| 312/312 [00:00<00:00, 116987.56it/s]\n",
      "Adding token level spans: 100%|██████████| 312/312 [00:00<00:00, 3518.88it/s]\n",
      "291it [00:00, 272017.49it/s]\n",
      "Transforming data format: 100%|██████████| 291/291 [00:00<00:00, 100464.44it/s]\n",
      "Adding token level spans: 100%|██████████| 291/291 [00:00<00:00, 2184.16it/s]\n",
      "108it [00:00, 164721.76it/s]\n",
      "Transforming data format: 100%|██████████| 108/108 [00:00<00:00, 6463.27it/s]\n",
      "Adding token level spans: 100%|██████████| 108/108 [00:00<00:00, 1778.18it/s]\n"
     ]
    }
   ],
   "source": [
    "preprocessor = Preprocessor(transform_func = tran2normal_samples, \n",
    "                            get_tok2char_span_map_func = get_tok2char_span_map)\n",
    "\n",
    "train_data = preprocessor.get_normal_dataset(nyt_train_data, add_id = True, dataset_name = \"train\")\n",
    "valid_data = preprocessor.get_normal_dataset(nyt_valid_data, add_id = True, dataset_name = \"valid\")\n",
    "test_data_dict = {}\n",
    "for file_name, data in nyt_test_data_dict.items():\n",
    "    preprocessed_data = preprocessor.get_normal_dataset(data, add_id = True, dataset_name = \"file_name\")\n",
    "    test_data_dict[file_name] = preprocessed_data"
   ]
  },
  {
   "cell_type": "markdown",
   "metadata": {},
   "source": [
    "# Split"
   ]
  },
  {
   "cell_type": "code",
   "execution_count": 12,
   "metadata": {},
   "outputs": [],
   "source": [
    "def split_into_short_samples(sample_list, sliding_len = 50):\n",
    "    new_sample_list = []\n",
    "    for sample in tqdm(sample_list, desc = \"Splitting\"):\n",
    "        text_id = sample[\"id\"]\n",
    "        text = sample[\"text\"]\n",
    "        \n",
    "        offset_map = get_tok2char_span_map(text)\n",
    "        tokens = [text[a:b] for a,b in offset_map]\n",
    "        \n",
    "        # sliding on token level\n",
    "        split_sample_list = []\n",
    "        for start_ind in range(0, len(tokens), sliding_len):\n",
    "            end_ind = start_ind + config.max_seq_len\n",
    "#             while \"##\" in tokens[end_ind]:\n",
    "#                 end_ind += 1\n",
    "            char_span_list = offset_map[start_ind:end_ind]\n",
    "            char_level_span = (char_span_list[0][0], char_span_list[-1][1])\n",
    "            sub_text = text[char_level_span[0]:char_level_span[1]]\n",
    "\n",
    "            new_sample = {\n",
    "                \"id\": text_id,\n",
    "                \"text\": sub_text,\n",
    "                \"relation_list\": []\n",
    "            }\n",
    "            for rel in sample[\"relation_list\"]:\n",
    "                subj_span = rel[\"subj_span\"]\n",
    "                obj_span = rel[\"obj_span\"]\n",
    "                if subj_span[0] >= start_ind and subj_span[1] <= end_ind \\\n",
    "                    and obj_span[0] >= start_ind and obj_span[1] <= end_ind:\n",
    "                    new_rel = copy.deepcopy(rel)\n",
    "                    new_rel[\"subj_span\"] = (subj_span[0] - start_ind, subj_span[1] - start_ind)\n",
    "                    new_rel[\"obj_span\"] = (obj_span[0] - start_ind, obj_span[1] - start_ind)\n",
    "                    new_sample[\"relation_list\"].append(new_rel)\n",
    "#                 else:\n",
    "#                     set_trace()\n",
    "            if len(new_sample[\"relation_list\"]) > 0:\n",
    "                split_sample_list.append(new_sample)\n",
    "#         if len(split_sample_list) == 0:\n",
    "#             set_trace()\n",
    "        new_sample_list.extend(split_sample_list)\n",
    "    return new_sample_list"
   ]
  },
  {
   "cell_type": "code",
   "execution_count": 13,
   "metadata": {},
   "outputs": [
    {
     "name": "stderr",
     "output_type": "stream",
     "text": [
      "Splitting: 100%|██████████| 56195/56195 [00:08<00:00, 6895.51it/s]\n",
      "Splitting: 100%|██████████| 4999/4999 [00:00<00:00, 8290.02it/s]\n"
     ]
    }
   ],
   "source": [
    "short_train_data = split_into_short_samples(train_data, sliding_len = config.sliding_len)\n",
    "short_valid_data = split_into_short_samples(valid_data, sliding_len = config.sliding_len)"
   ]
  },
  {
   "cell_type": "code",
   "execution_count": 14,
   "metadata": {},
   "outputs": [
    {
     "name": "stderr",
     "output_type": "stream",
     "text": [
      "Splitting: 100%|██████████| 5000/5000 [00:01<00:00, 3268.71it/s]\n",
      "Splitting: 100%|██████████| 978/978 [00:00<00:00, 5467.13it/s]\n",
      "Splitting: 100%|██████████| 1297/1297 [00:00<00:00, 5290.53it/s]\n",
      "Splitting: 100%|██████████| 3266/3266 [00:00<00:00, 10559.36it/s]\n",
      "Splitting: 100%|██████████| 3244/3244 [00:00<00:00, 10599.09it/s]\n",
      "Splitting: 100%|██████████| 1045/1045 [00:00<00:00, 7275.03it/s]\n",
      "Splitting: 100%|██████████| 312/312 [00:00<00:00, 5228.30it/s]\n",
      "Splitting: 100%|██████████| 291/291 [00:00<00:00, 4614.56it/s]\n",
      "Splitting: 100%|██████████| 108/108 [00:00<00:00, 2738.71it/s]\n"
     ]
    }
   ],
   "source": [
    "short_test_data_dict = {}\n",
    "for file_name, data in test_data_dict.items():\n",
    "    short_test_data = split_into_short_samples(data, sliding_len = config.sliding_len)\n",
    "    short_test_data_dict[file_name] = short_test_data"
   ]
  },
  {
   "cell_type": "code",
   "execution_count": 15,
   "metadata": {},
   "outputs": [
    {
     "name": "stdout",
     "output_type": "stream",
     "text": [
      "train: 75129 valid: 6724\n",
      "test_triples: 6677\n",
      "test_epo_triples: 1294\n",
      "test_seo_triples: 1851\n",
      "test_normal_triples: 4283\n",
      "test_triples_1: 4243\n",
      "test_triples_2: 1415\n",
      "test_triples_3: 448\n",
      "test_triples_4: 387\n",
      "test_triples_5: 184\n"
     ]
    }
   ],
   "source": [
    "print(\"train: {}\".format(len(short_train_data)), \"valid: {}\".format(len(short_valid_data)))\n",
    "for fil_name, data in short_test_data_dict.items():\n",
    "        print(\"{}: {}\".format(fil_name, len(data)))"
   ]
  },
  {
   "cell_type": "markdown",
   "metadata": {},
   "source": [
    "# Tagging"
   ]
  },
  {
   "cell_type": "code",
   "execution_count": 16,
   "metadata": {},
   "outputs": [
    {
     "name": "stderr",
     "output_type": "stream",
     "text": [
      "100%|██████████| 81976/81976 [00:05<00:00, 15143.10it/s]\n"
     ]
    }
   ],
   "source": [
    "from collections import defaultdict\n",
    "rel_set = set()\n",
    "word2num = defaultdict(int)\n",
    "word2idx = {'<PAD>':0, '<UNK>':1}\n",
    "idx2word = {}\n",
    "idx = 2\n",
    "\n",
    "all_data = train_data + valid_data \n",
    "for data in list(short_test_data_dict.values()):\n",
    "    all_data.extend(data)\n",
    "    \n",
    "for sample in tqdm(all_data):\n",
    "    for rel in sample[\"relation_list\"]:\n",
    "        rel_set.add(rel[\"predicate\"])\n",
    "    text = sample['text']\n",
    "    span_list = get_tok2char_span_map(text)\n",
    "    for span in span_list:\n",
    "        word = text[span[0]:span[1]]\n",
    "        word2num[word] += 1\n",
    "\n",
    "#过滤出现次数小于3的word\n",
    "for k,v in word2num.items():\n",
    "    if v < 3:\n",
    "        continue\n",
    "    word2idx[k] = idx\n",
    "    idx += 1\n",
    "for k,v in word2idx.items():\n",
    "    idx2word[v] = k\n",
    "rel_set = sorted(rel_set)"
   ]
  },
  {
   "cell_type": "code",
   "execution_count": 17,
   "metadata": {},
   "outputs": [
    {
     "data": {
      "text/plain": [
       "39708"
      ]
     },
     "execution_count": 17,
     "metadata": {},
     "output_type": "execute_result"
    }
   ],
   "source": [
    "len(word2idx)"
   ]
  },
  {
   "cell_type": "code",
   "execution_count": 18,
   "metadata": {},
   "outputs": [],
   "source": [
    "rel2id = {rel:ind for ind, rel in enumerate(rel_set)}"
   ]
  },
  {
   "cell_type": "code",
   "execution_count": 19,
   "metadata": {},
   "outputs": [],
   "source": [
    "handshaking_tagger = HandshakingTaggingScheme(rel2id = rel2id, max_seq_len = config.max_seq_len)"
   ]
  },
  {
   "cell_type": "code",
   "execution_count": 20,
   "metadata": {},
   "outputs": [],
   "source": [
    "def sample_equal_to(sample1, sample2):\n",
    "    assert sample1[\"id\"] == sample2[\"id\"]\n",
    "    assert sample1[\"text\"] == sample2[\"text\"]\n",
    "    memory_set = set()\n",
    "    for rel in sample2[\"relation_list\"]:\n",
    "        memory = \"{}\\u2E80{}\\u2E80{}\\u2E80{}\\u2E80{}\".format(rel[\"subject\"], \n",
    "                                                             rel[\"predicate\"], \n",
    "                                                             rel[\"object\"], \n",
    "                                                             str(rel[\"subj_span\"]), \n",
    "                                                             str(rel[\"obj_span\"]))\n",
    "        memory_set.add(memory)\n",
    "    for rel in sample1[\"relation_list\"]:\n",
    "        memory = \"{}\\u2E80{}\\u2E80{}\\u2E80{}\\u2E80{}\".format(rel[\"subject\"], \n",
    "                                                             rel[\"predicate\"], \n",
    "                                                             rel[\"object\"], \n",
    "                                                             str(rel[\"subj_span\"]), \n",
    "                                                             str(rel[\"obj_span\"]))\n",
    "        if memory not in memory_set:\n",
    "            set_trace()\n",
    "            return False\n",
    "    return True"
   ]
  },
  {
   "cell_type": "markdown",
   "metadata": {},
   "source": [
    "# Dataset"
   ]
  },
  {
   "cell_type": "code",
   "execution_count": 21,
   "metadata": {},
   "outputs": [],
   "source": [
    "# @specific\n",
    "def get_indexed_train_valid_data(data):\n",
    "    indexed_samples = []\n",
    "    for ind, sample in tqdm(enumerate(data), desc = \"Generate indexed train or valid data\"):\n",
    "        text = sample[\"text\"]\n",
    "        text_id = sample[\"id\"]\n",
    "        \n",
    "        \n",
    "        # tagging\n",
    "        spots_tuple = handshaking_tagger.get_spots(sample)\n",
    "        offset_map = get_tok2char_span_map(text)\n",
    "        input_ids = []\n",
    "        for idx in offset_map:\n",
    "            word = text[idx[0]:idx[1]]\n",
    "            if word not in word2idx:\n",
    "                input_ids.append(word2idx['<UNK>'])\n",
    "            else:\n",
    "                input_ids.append(word2idx[word])\n",
    "        if len(input_ids) < config.max_seq_len:\n",
    "            input_ids.extend([word2idx['<PAD>']] * (config.max_seq_len - len(input_ids)))\n",
    "        input_ids = torch.tensor(input_ids[:config.max_seq_len])\n",
    "        \n",
    "        sample_tp = (text_id,\n",
    "                     text, \n",
    "                     input_ids,\n",
    "                     offset_map,\n",
    "                     spots_tuple,\n",
    "                    )\n",
    "        indexed_samples.append(sample_tp)       \n",
    "    return indexed_samples"
   ]
  },
  {
   "cell_type": "code",
   "execution_count": 22,
   "metadata": {},
   "outputs": [],
   "source": [
    "# @specific\n",
    "def get_indexed_pred_data(data):\n",
    "    indexed_samples = []\n",
    "    for ind, sample in tqdm(enumerate(data), desc = \"Generate indexed pred data\"):\n",
    "        text = sample[\"text\"] \n",
    "        text_id = sample[\"id\"]\n",
    "        # @specific\n",
    "        codes = tokenizer.encode_plus(text, \n",
    "                                    return_offsets_mapping = True, \n",
    "                                    add_special_tokens = False,\n",
    "                                    max_length = max_seq_len, \n",
    "                                    pad_to_max_length = True)\n",
    "        \n",
    "        input_ids = torch.tensor(codes[\"input_ids\"]).long()\n",
    "        attention_mask = torch.tensor(codes[\"attention_mask\"]).long()\n",
    "        token_type_ids = torch.tensor(codes[\"token_type_ids\"]).long()\n",
    "        offset_map = codes[\"offset_mapping\"]\n",
    "\n",
    "        sample_tp = (text_id,\n",
    "                     text, \n",
    "                     input_ids,\n",
    "                     attention_mask,\n",
    "                     token_type_ids,\n",
    "                     offset_map,\n",
    "                     )\n",
    "        indexed_samples.append(sample_tp)       \n",
    "    return indexed_samples"
   ]
  },
  {
   "cell_type": "code",
   "execution_count": 23,
   "metadata": {},
   "outputs": [],
   "source": [
    "class MyDataset(Dataset):\n",
    "    def __init__(self, data):\n",
    "        self.data = data\n",
    "        \n",
    "    def __getitem__(self, index):\n",
    "        return self.data[index]\n",
    "    \n",
    "    def __len__(self):\n",
    "        return len(self.data)"
   ]
  },
  {
   "cell_type": "code",
   "execution_count": 24,
   "metadata": {},
   "outputs": [],
   "source": [
    "def generate_train_dev_batch(batch_data):\n",
    "    text_id_list = []\n",
    "    text_list = []\n",
    "    input_ids_list = []\n",
    "    attention_mask_list = []\n",
    "    token_type_ids_list = [] \n",
    "    offset_map_list = []\n",
    "    ent_spots_list = []\n",
    "    head_rel_spots_list = []\n",
    "    tail_rel_spots_list = []\n",
    "    \n",
    "    for sample in batch_data:\n",
    "        text_id_list.append(sample[0])\n",
    "        text_list.append(sample[1])\n",
    "        input_ids_list.append(sample[2])    \n",
    "        offset_map_list.append(sample[3])\n",
    "        \n",
    "        ent_matrix_spots, head_rel_matrix_spots, tail_rel_matrix_spots = sample[4]\n",
    "        ent_spots_list.append(ent_matrix_spots)\n",
    "        head_rel_spots_list.append(head_rel_matrix_spots)\n",
    "        tail_rel_spots_list.append(tail_rel_matrix_spots)\n",
    "    \n",
    "    # @specific: codes indexed by bert tokenizer\n",
    "    batch_input_ids = torch.stack(input_ids_list, dim = 0)\n",
    "    batch_attention_mask = None\n",
    "    batch_token_type_ids = None\n",
    "\n",
    "    batch_ent_shaking_tag = handshaking_tagger.sharing_spots2shaking_tag4batch(ent_spots_list)\n",
    "    batch_head_rel_shaking_tag = handshaking_tagger.spots2shaking_tag4batch(head_rel_spots_list)\n",
    "    batch_tail_rel_shaking_tag = handshaking_tagger.spots2shaking_tag4batch(tail_rel_spots_list)\n",
    "\n",
    "    return text_id_list, text_list, batch_input_ids, batch_attention_mask, batch_token_type_ids, offset_map_list, batch_ent_shaking_tag, batch_head_rel_shaking_tag, batch_tail_rel_shaking_tag"
   ]
  },
  {
   "cell_type": "code",
   "execution_count": 25,
   "metadata": {},
   "outputs": [],
   "source": [
    "def generate_pred_batch(batch_data):\n",
    "    text_ids = []\n",
    "    text_list = []\n",
    "    input_ids = []\n",
    "    attention_mask = []\n",
    "    token_type_ids = [] \n",
    "    offset_map = []\n",
    "    for sample in batch_data:\n",
    "        text_ids.append(sample[0])\n",
    "        text_list.append(sample[1])\n",
    "        input_ids.append(sample[2])\n",
    "        attention_mask.append(sample[3])        \n",
    "        token_type_ids.append(sample[4])        \n",
    "        offset_map.append(sample[5])\n",
    "    input_ids = torch.stack(input_ids, dim = 0)\n",
    "    attention_mask = torch.stack(attention_mask, dim = 0)\n",
    "    token_type_ids = torch.stack(token_type_ids, dim = 0)\n",
    "    return text_ids, text_list, input_ids, attention_mask, token_type_ids, offset_map"
   ]
  },
  {
   "cell_type": "code",
   "execution_count": 26,
   "metadata": {},
   "outputs": [],
   "source": [
    "# @uni\n",
    "def get_train_dev_dataloader_gen(indexed_train_sample_list, indexed_dev_sample_list, batch_size):\n",
    "    train_dataloader = DataLoader(MyDataset(indexed_train_sample_list), \n",
    "                                      batch_size = batch_size, \n",
    "                                      shuffle = True, \n",
    "                                      num_workers = 6,\n",
    "                                      drop_last = False,\n",
    "                                      collate_fn = generate_train_dev_batch,\n",
    "                                     )\n",
    "    dev_dataloader = DataLoader(MyDataset(indexed_dev_sample_list), \n",
    "                              batch_size = batch_size, \n",
    "                              shuffle = True, \n",
    "                              num_workers = 6,\n",
    "                              drop_last = False,\n",
    "                              collate_fn = generate_train_dev_batch,\n",
    "                             )\n",
    "    return train_dataloader, dev_dataloader"
   ]
  },
  {
   "cell_type": "code",
   "execution_count": 27,
   "metadata": {},
   "outputs": [
    {
     "name": "stderr",
     "output_type": "stream",
     "text": [
      "Generate indexed train or valid data: 75129it [00:10, 6890.49it/s]\n"
     ]
    }
   ],
   "source": [
    "indexed_train_data = get_indexed_train_valid_data(short_train_data)"
   ]
  },
  {
   "cell_type": "code",
   "execution_count": 28,
   "metadata": {},
   "outputs": [
    {
     "name": "stderr",
     "output_type": "stream",
     "text": [
      "Generate indexed train or valid data: 6724it [00:00, 9042.78it/s]\n"
     ]
    }
   ],
   "source": [
    "indexed_valid_data = get_indexed_train_valid_data(short_valid_data)"
   ]
  },
  {
   "cell_type": "code",
   "execution_count": 29,
   "metadata": {},
   "outputs": [],
   "source": [
    "# have a look at dataloader\n",
    "train_dataloader, dev_dataloader = get_train_dev_dataloader_gen(indexed_train_data, indexed_valid_data, 32)"
   ]
  },
  {
   "cell_type": "code",
   "execution_count": 30,
   "metadata": {},
   "outputs": [
    {
     "name": "stdout",
     "output_type": "stream",
     "text": [
      "By comparison , just 57 percent of blacks in Atlanta were born in Georgia .\n",
      "\n",
      "[633, 10365, 12, 1178, 8994, 1330, 39, 5703, 49, 1758, 309, 897, 49, 2054, 16, 0, 0, 0, 0, 0, 0, 0, 0, 0, 0, 0, 0, 0, 0, 0, 0, 0, 0, 0, 0, 0, 0, 0, 0, 0, 0, 0, 0, 0, 0, 0, 0, 0, 0, 0, 0, 0, 0, 0, 0, 0, 0, 0, 0, 0, 0, 0, 0, 0, 0, 0, 0, 0, 0, 0, 0, 0, 0, 0, 0, 0, 0, 0, 0, 0, 0, 0, 0, 0, 0, 0, 0, 0, 0, 0, 0, 0, 0, 0, 0, 0, 0, 0, 0, 0]\n",
      "torch.Size([32, 100])\n",
      "32\n",
      "torch.Size([32, 5050])\n",
      "torch.Size([32, 24, 5050])\n",
      "torch.Size([32, 24, 5050])\n"
     ]
    }
   ],
   "source": [
    "train_data_iter = iter(train_dataloader)\n",
    "batch_data = next(train_data_iter)\n",
    "text_id_list, text_list, batch_input_ids, \\\n",
    "batch_attention_mask, batch_token_type_ids, \\\n",
    "offset_map_list, batch_ent_shaking_tag, \\\n",
    "batch_head_rel_shaking_tag, batch_tail_rel_shaking_tag = batch_data\n",
    "\n",
    "print(text_list[0])\n",
    "print()\n",
    "print(batch_input_ids[0].tolist())\n",
    "print(batch_input_ids.size())\n",
    "# print(batch_attention_mask.size())\n",
    "# print(batch_token_type_ids.size())\n",
    "print(len(offset_map_list))\n",
    "print(batch_ent_shaking_tag.size())\n",
    "print(batch_head_rel_shaking_tag.size())\n",
    "print(batch_tail_rel_shaking_tag.size())"
   ]
  },
  {
   "cell_type": "markdown",
   "metadata": {},
   "source": [
    "# Load Word Embedding Matrix"
   ]
  },
  {
   "cell_type": "code",
   "execution_count": 31,
   "metadata": {},
   "outputs": [],
   "source": [
    "glove = Glove()\n",
    "glove = glove.load(config.word_embedding_path)"
   ]
  },
  {
   "cell_type": "code",
   "execution_count": 32,
   "metadata": {},
   "outputs": [
    {
     "name": "stderr",
     "output_type": "stream",
     "text": [
      "Embedding matrix initializing...: 100%|██████████| 39708/39708 [00:00<00:00, 200474.05it/s]"
     ]
    },
    {
     "name": "stdout",
     "output_type": "stream",
     "text": [
      "0.9999496323159062\n"
     ]
    },
    {
     "name": "stderr",
     "output_type": "stream",
     "text": [
      "\n"
     ]
    }
   ],
   "source": [
    "# prepare embedding matrix\n",
    "word_embedding_init_matrix = np.random.normal(-1, 1, size=(len(word2idx), config.word_embedding_dim))\n",
    "count_in = 0\n",
    "\n",
    "# 在预训练词向量中的用该预训练向量\n",
    "# 不在预训练集里的用随机向量\n",
    "for ind, tok in tqdm(idx2word.items(), desc=\"Embedding matrix initializing...\"):\n",
    "    if tok in glove.dictionary:\n",
    "        count_in += 1\n",
    "        word_embedding_init_matrix[ind] = glove.word_vectors[glove.dictionary[tok]]\n",
    "        \n",
    "print(count_in / len(idx2word)) # 命中预训练词向量的比例"
   ]
  },
  {
   "cell_type": "code",
   "execution_count": 33,
   "metadata": {},
   "outputs": [
    {
     "data": {
      "text/plain": [
       "torch.Size([39708, 100])"
      ]
     },
     "execution_count": 33,
     "metadata": {},
     "output_type": "execute_result"
    }
   ],
   "source": [
    "word_embedding_init_matrix = torch.FloatTensor(word_embedding_init_matrix)\n",
    "word_embedding_init_matrix.size()"
   ]
  },
  {
   "cell_type": "markdown",
   "metadata": {},
   "source": [
    "# Model"
   ]
  },
  {
   "cell_type": "code",
   "execution_count": 34,
   "metadata": {},
   "outputs": [],
   "source": [
    "class RelExtractor(nn.Module):\n",
    "    def __init__(self, init_word_embedding_matrix, hidden_size, dropout, rel_size):\n",
    "        super().__init__()\n",
    "        # BiLSTM encoder\n",
    "        self.word_embeds = nn.Embedding.from_pretrained(init_word_embedding_matrix, freeze = False)\n",
    "        self.dropout = nn.Dropout(dropout)\n",
    "        self.lstm = nn.LSTM(init_word_embedding_matrix.size()[-1], \n",
    "                            hidden_size // 2, \n",
    "                            num_layers = 2, \n",
    "                            bidirectional = True, \n",
    "                            batch_first = True)\n",
    "\n",
    "\n",
    "        self.ent_fc = nn.Linear(hidden_size, 2)\n",
    "        self.head_rel_fc_list = [nn.Linear(hidden_size, 3) for _ in range(rel_size)]\n",
    "        self.tail_rel_fc_list = [nn.Linear(hidden_size, 3) for _ in range(rel_size)]\n",
    "        \n",
    "        for ind, fc in enumerate(self.head_rel_fc_list):\n",
    "            self.register_parameter(\"weight_4_head_rel{}\".format(ind), fc.weight)\n",
    "            self.register_parameter(\"bias_4_head_rel{}\".format(ind), fc.bias)\n",
    "        for ind, fc in enumerate(self.tail_rel_fc_list):\n",
    "            self.register_parameter(\"weight_4_tail_rel{}\".format(ind), fc.weight)\n",
    "            self.register_parameter(\"bias_4_tail_rel{}\".format(ind), fc.bias)\n",
    "            \n",
    "        # conditional layer normaliztion\n",
    "        fake_inputs = torch.zeros([config.batch_size, config.max_seq_len, hidden_size])\n",
    "        self.cond_layer_norm = LayerNorm(fake_inputs.size(), hidden_size, conditional = True)\n",
    "        \n",
    "    def forward(self, input_ids, attention_mask, token_type_ids):\n",
    "        # BiLSTM encoder\n",
    "        embedding = self.word_embeds(input_ids)\n",
    "        outputs, hidden = self.lstm(embedding)\n",
    "        last_hidden_state = self.dropout(outputs)  # last_hidden_state: (batch_size, seq_len, hidden_size) \n",
    "        \n",
    "        # shaking_hiddens: (batch_size, 1 + ... + seq_len, hidden_size)\n",
    "        shaking_hiddens = self.shake_hands_afterwards(last_hidden_state)\n",
    "        \n",
    "        ent_shaking_outputs = self.ent_fc(shaking_hiddens)\n",
    "            \n",
    "        head_rel_shaking_outputs_list = []\n",
    "        for fc in self.head_rel_fc_list:\n",
    "            head_rel_shaking_outputs_list.append(fc(shaking_hiddens))\n",
    "            \n",
    "        tail_rel_shaking_outputs_list = []\n",
    "        for fc in self.tail_rel_fc_list:\n",
    "            tail_rel_shaking_outputs_list.append(fc(shaking_hiddens))\n",
    "        \n",
    "        head_rel_shaking_outputs = torch.stack(head_rel_shaking_outputs_list, dim = 1)\n",
    "        tail_rel_shaking_outputs = torch.stack(tail_rel_shaking_outputs_list, dim = 1)\n",
    "        \n",
    "        return ent_shaking_outputs, head_rel_shaking_outputs, tail_rel_shaking_outputs\n",
    "\n",
    "    def shake_hands_afterwards(self, seq_hiddens):\n",
    "        '''\n",
    "        seq_hiddens: (batch_size, seq_len, hidden_size) (32, 3, 5)\n",
    "        return shake_hands_matrix_hiddens: (batch_size, (1 + seq_len) * seq_len / 2, hidden_size) (32, 5+4+3+2+1, 5)\n",
    "        '''\n",
    "        seq_len = seq_hiddens.size()[-2]\n",
    "        shake_hands_hidden_list = []\n",
    "        for ind in range(seq_len):\n",
    "            hidden_each_step = seq_hiddens[:, ind, :]\n",
    "            # seq_len - ind: only shake afterwards\n",
    "            repeat_hidden_each_step = hidden_each_step[:, None, :].repeat(1, seq_len - ind, 1) \n",
    "    #         shake_hands_hidden = torch.cat([repeat_hidden_each_step, seq_hiddens[:, ind:, :]], dim = -1)\n",
    "            shake_hands_hidden = self.cond_layer_norm(seq_hiddens[:, ind:, :], repeat_hidden_each_step)\n",
    "            shake_hands_hidden_list.append(shake_hands_hidden)\n",
    "        shake_hands_matrix_hiddens = torch.cat(shake_hands_hidden_list, dim = 1)\n",
    "        return shake_hands_matrix_hiddens"
   ]
  },
  {
   "cell_type": "code",
   "execution_count": 35,
   "metadata": {},
   "outputs": [],
   "source": [
    "rel_extractor = RelExtractor(word_embedding_init_matrix, config.rnn_hidden_size, config.dropout, len(rel2id))\n",
    "rel_extractor = rel_extractor.to(device)"
   ]
  },
  {
   "cell_type": "code",
   "execution_count": 36,
   "metadata": {},
   "outputs": [],
   "source": [
    "def bias_loss(weights = None):\n",
    "    if weights is not None:\n",
    "        weights = torch.FloatTensor(weights).to(device)\n",
    "    cross_en = nn.CrossEntropyLoss(weight = weights)  \n",
    "    return lambda pred, target: cross_en(pred.view(-1, pred.size()[-1]), target.view(-1))\n",
    "loss_func = bias_loss()"
   ]
  },
  {
   "cell_type": "code",
   "execution_count": 37,
   "metadata": {},
   "outputs": [],
   "source": [
    "def get_sample_accuracy(pred, truth):\n",
    "    '''\n",
    "    计算所有抽取字段都正确的样本比例\n",
    "    即该batch的输出与truth全等的样本比例\n",
    "    '''\n",
    "    # (batch_size, ..., seq_len, tag_size) -> (batch_size, ..., seq_len)\n",
    "    pred_id = torch.argmax(pred, dim = -1)\n",
    "    # (batch_size, ..., seq_len) -> (batch_size, )，把每个sample压成一条seq\n",
    "    pred_id = pred_id.view(pred_id.size()[0], -1)\n",
    "    truth = truth.view(truth.size()[0], -1)\n",
    "    \n",
    "    # (batch_size, )，每个元素是pred与truth之间tag相同的数量\n",
    "    correct_tag_num = torch.sum(torch.eq(truth, pred_id).float(), dim = 1)\n",
    "\n",
    "    # seq维上所有tag必须正确，所以correct_tag_num必须等于seq的长度才算一个correct的sample\n",
    "    sample_acc_ = torch.eq(correct_tag_num, torch.ones_like(correct_tag_num) * truth.size()[-1]).float()\n",
    "    sample_acc = torch.mean(sample_acc_)\n",
    "    \n",
    "    return sample_acc"
   ]
  },
  {
   "cell_type": "code",
   "execution_count": 38,
   "metadata": {},
   "outputs": [],
   "source": [
    "def get_rel_cpg(text_list, offset_map_list, \n",
    "                 batch_pred_ent_shaking_outputs,\n",
    "                 batch_pred_head_rel_shaking_outputs,\n",
    "                 batch_pred_tail_rel_shaking_outputs,\n",
    "                 batch_gold_ent_shaking_tag,\n",
    "                 batch_gold_head_rel_shaking_tag,\n",
    "                 batch_gold_tail_rel_shaking_tag):\n",
    "    batch_pred_ent_shaking_tag = torch.argmax(batch_pred_ent_shaking_outputs, dim = -1)\n",
    "    batch_pred_head_rel_shaking_tag = torch.argmax(batch_pred_head_rel_shaking_outputs, dim = -1)\n",
    "    batch_pred_tail_rel_shaking_tag = torch.argmax(batch_pred_tail_rel_shaking_outputs, dim = -1)\n",
    "    \n",
    "    correct_num, pred_num, gold_num = 0, 0, 0\n",
    "    for ind in range(len(text_list)):\n",
    "        text = text_list[ind]\n",
    "        offset_map = offset_map_list[ind]\n",
    "        gold_ent_shaking_tag, pred_ent_shaking_tag = batch_gold_ent_shaking_tag[ind], batch_pred_ent_shaking_tag[ind]\n",
    "        gold_head_rel_shaking_tag, pred_head_rel_shaking_tag = batch_gold_head_rel_shaking_tag[ind], batch_pred_head_rel_shaking_tag[ind]\n",
    "        gold_tail_rel_shaking_tag, pred_tail_rel_shaking_tag = batch_gold_tail_rel_shaking_tag[ind], batch_pred_tail_rel_shaking_tag[ind]\n",
    "        \n",
    "        pred_rel_list = handshaking_tagger.decode_rel_fr_shaking_tag(text, \n",
    "                                                  pred_ent_shaking_tag, \n",
    "                                                  pred_head_rel_shaking_tag, \n",
    "                                                  pred_tail_rel_shaking_tag, \n",
    "                                                  offset_map)\n",
    "        gold_rel_list = handshaking_tagger.decode_rel_fr_shaking_tag(text, \n",
    "                                                  gold_ent_shaking_tag, \n",
    "                                                  gold_head_rel_shaking_tag, \n",
    "                                                  gold_tail_rel_shaking_tag, \n",
    "                                                  offset_map)\n",
    "\n",
    "        gold_rel_set = set([\"{}\\u2E80{}\\u2E80{}\".format(rel[\"subject\"], rel[\"predicate\"], rel[\"object\"]) for rel in gold_rel_list])\n",
    "        pred_rel_set = set([\"{}\\u2E80{}\\u2E80{}\".format(rel[\"subject\"], rel[\"predicate\"], rel[\"object\"]) for rel in pred_rel_list])\n",
    "        \n",
    "        for rel_str in pred_rel_set:\n",
    "            if rel_str in gold_rel_set:\n",
    "                correct_num += 1\n",
    "        \n",
    "        pred_num += len(gold_rel_set)\n",
    "        gold_num += len(pred_rel_set)\n",
    "        \n",
    "    return correct_num, pred_num, gold_num"
   ]
  },
  {
   "cell_type": "code",
   "execution_count": 39,
   "metadata": {},
   "outputs": [],
   "source": [
    "def get_scores(correct_num, pred_num, gold_num):\n",
    "    minimini = 1e-10\n",
    "    precision = correct_num / (pred_num + minimini)\n",
    "    recall = correct_num / (gold_num + minimini)\n",
    "    f1 = 2 * precision * recall / (precision + recall + minimini)\n",
    "    return precision, recall, f1"
   ]
  },
  {
   "cell_type": "markdown",
   "metadata": {},
   "source": [
    "# Train"
   ]
  },
  {
   "cell_type": "code",
   "execution_count": 40,
   "metadata": {},
   "outputs": [],
   "source": [
    "# train step\n",
    "def train_step(batch_train_data, optimizer, loss_weights):\n",
    "    text_id_list, text_list, batch_input_ids, \\\n",
    "    batch_attention_mask, batch_token_type_ids, \\\n",
    "    offset_map_list, batch_ent_shaking_tag, \\\n",
    "    batch_head_rel_shaking_tag, batch_tail_rel_shaking_tag = batch_train_data\n",
    "    \n",
    "    batch_input_ids, \\\n",
    "    batch_attention_mask, \\\n",
    "    batch_token_type_ids, \\\n",
    "    batch_ent_shaking_tag, \\\n",
    "    batch_head_rel_shaking_tag, \\\n",
    "    batch_tail_rel_shaking_tag = (batch_input_ids.to(device), \n",
    "                                  None,\n",
    "                                  None,\n",
    "                              batch_ent_shaking_tag.to(device), \n",
    "                              batch_head_rel_shaking_tag.to(device), \n",
    "                              batch_tail_rel_shaking_tag.to(device)\n",
    "                             )\n",
    "\n",
    "    # zero the parameter gradients\n",
    "    optimizer.zero_grad()\n",
    "    \n",
    "    ent_shaking_outputs, \\\n",
    "    head_rel_shaking_outputs, \\\n",
    "    tail_rel_shaking_outputs = rel_extractor(batch_input_ids, \n",
    "                                              batch_attention_mask, \n",
    "                                              batch_token_type_ids, \n",
    "                                             )\n",
    "\n",
    "    w_ent, w_rel = loss_weights[\"ent\"], loss_weights[\"rel\"]\n",
    "    loss = w_ent * loss_func(ent_shaking_outputs, batch_ent_shaking_tag) + \\\n",
    "            w_rel * loss_func(head_rel_shaking_outputs, batch_head_rel_shaking_tag) + \\\n",
    "            w_rel * loss_func(tail_rel_shaking_outputs, batch_tail_rel_shaking_tag)\n",
    "    \n",
    "    # bp time: 2s\n",
    "    loss.backward()\n",
    "    optimizer.step()\n",
    "    \n",
    "    ent_sample_acc = get_sample_accuracy(ent_shaking_outputs, \n",
    "                                          batch_ent_shaking_tag)\n",
    "    head_rel_sample_acc = get_sample_accuracy(head_rel_shaking_outputs, \n",
    "                                             batch_head_rel_shaking_tag)\n",
    "    tail_rel_sample_acc = get_sample_accuracy(tail_rel_shaking_outputs, \n",
    "                                             batch_tail_rel_shaking_tag)\n",
    "    \n",
    "    return loss.item(), ent_sample_acc.item(), head_rel_sample_acc.item(), tail_rel_sample_acc.item()\n",
    "\n",
    "# valid step\n",
    "def valid_step(batch_valid_data):\n",
    "    text_id_list, text_list, batch_input_ids, \\\n",
    "    batch_attention_mask, batch_token_type_ids, \\\n",
    "    offset_map_list, batch_ent_shaking_tag, \\\n",
    "    batch_head_rel_shaking_tag, batch_tail_rel_shaking_tag = batch_valid_data\n",
    "    \n",
    "    batch_input_ids, \\\n",
    "    batch_attention_mask, \\\n",
    "    batch_token_type_ids, \\\n",
    "    batch_ent_shaking_tag, \\\n",
    "    batch_head_rel_shaking_tag, \\\n",
    "    batch_tail_rel_shaking_tag = (batch_input_ids.to(device), \n",
    "                                  None,\n",
    "                                  None,\n",
    "                              batch_ent_shaking_tag.to(device), \n",
    "                              batch_head_rel_shaking_tag.to(device), \n",
    "                              batch_tail_rel_shaking_tag.to(device)\n",
    "                             )\n",
    "    with torch.no_grad():\n",
    "        ent_shaking_outputs, \\\n",
    "        head_rel_shaking_outputs, \\\n",
    "        tail_rel_shaking_outputs = rel_extractor(batch_input_ids, \n",
    "                                                  batch_attention_mask, \n",
    "                                                  batch_token_type_ids, \n",
    "                                                 )\n",
    "    \n",
    "    ent_sample_acc = get_sample_accuracy(ent_shaking_outputs, \n",
    "                                          batch_ent_shaking_tag)\n",
    "    head_rel_sample_acc = get_sample_accuracy(head_rel_shaking_outputs, \n",
    "                                             batch_head_rel_shaking_tag)\n",
    "    tail_rel_sample_acc = get_sample_accuracy(tail_rel_shaking_outputs, \n",
    "                                             batch_tail_rel_shaking_tag)\n",
    "    \n",
    "    rel_cpg = get_rel_cpg(text_list, offset_map_list, \n",
    "                            ent_shaking_outputs,\n",
    "                            head_rel_shaking_outputs,\n",
    "                            tail_rel_shaking_outputs,\n",
    "                            batch_ent_shaking_tag,\n",
    "                            batch_head_rel_shaking_tag,\n",
    "                            batch_tail_rel_shaking_tag)\n",
    "    \n",
    "    return ent_sample_acc.item(), head_rel_sample_acc.item(), tail_rel_sample_acc.item(), rel_cpg"
   ]
  },
  {
   "cell_type": "code",
   "execution_count": null,
   "metadata": {},
   "outputs": [],
   "source": [
    "max_f1 = 0.\n",
    "def train_n_valid(train_dataloader, dev_dataloader, optimizer, scheduler, num_epoch):  \n",
    "    def train(dataloader, ep):\n",
    "        # train\n",
    "        rel_extractor.train()\n",
    "        \n",
    "        t_ep = time.time()\n",
    "        start_lr = optimizer.param_groups[0]['lr']\n",
    "        total_loss, total_ent_sample_acc, total_head_rel_sample_acc, total_tail_rel_sample_acc = 0., 0., 0., 0.\n",
    "        for batch_ind, batch_train_data in enumerate(dataloader):\n",
    "            t_batch = time.time()\n",
    "            z = (2 * len(rel2id) + 1)\n",
    "            steps_per_ep = len(dataloader)\n",
    "            total_steps = config.loss_weight_recover_steps\n",
    "            current_step = steps_per_ep * ep + batch_ind\n",
    "            w_ent = max(1 / z + 1 - current_step / total_steps, 1 / z)\n",
    "            w_rel = min((len(rel2id) / z) * current_step / total_steps, (len(rel2id) / z))\n",
    "            loss_weights = {\"ent\": w_ent, \"rel\": w_rel}\n",
    "            loss, ent_sample_acc, head_rel_sample_acc, tail_rel_sample_acc = train_step(batch_train_data, optimizer, loss_weights)\n",
    "            scheduler.step()\n",
    "            \n",
    "            total_loss += loss\n",
    "            total_ent_sample_acc += ent_sample_acc\n",
    "            total_head_rel_sample_acc += head_rel_sample_acc\n",
    "            total_tail_rel_sample_acc += tail_rel_sample_acc\n",
    "            \n",
    "            avg_loss = total_loss / (batch_ind + 1)\n",
    "            avg_ent_sample_acc = total_ent_sample_acc / (batch_ind + 1)\n",
    "            avg_head_rel_sample_acc = total_head_rel_sample_acc / (batch_ind + 1)\n",
    "            avg_tail_rel_sample_acc = total_tail_rel_sample_acc / (batch_ind + 1)\n",
    "            \n",
    "            batch_print_format = \"\\rEpoch: {}/{}, batch: {}/{}, train_loss: {}, \" + \\\n",
    "                                \"t_ent_sample_acc: {}, t_head_rel_sample_acc: {}, t_tail_rel_sample_acc: {},\" + \\\n",
    "                                 \"lr: {}, batch_time: {}, total_time: {} -------------\"\n",
    "                    \n",
    "            print(batch_print_format.format(ep + 1, num_epoch, \n",
    "                                            batch_ind + 1, len(dataloader), \n",
    "                                            avg_loss, \n",
    "                                            avg_ent_sample_acc,\n",
    "                                            avg_head_rel_sample_acc,\n",
    "                                            avg_tail_rel_sample_acc,\n",
    "                                            optimizer.param_groups[0]['lr'],\n",
    "                                            time.time() - t_batch,\n",
    "                                            time.time() - t_ep,\n",
    "                                           ), end=\"\")\n",
    "            \n",
    "            if batch_ind % config.log_interval == 0:\n",
    "                wandb.log({\n",
    "                    \"train_loss\": avg_loss,\n",
    "                    \"train_ent_seq_acc\": avg_ent_sample_acc,\n",
    "                    \"train_head_rel_acc\": avg_head_rel_sample_acc,\n",
    "                    \"train_tail_rel_acc\": avg_tail_rel_sample_acc,\n",
    "                    \"learning_rate\": optimizer.param_groups[0]['lr'],\n",
    "                    \"time\": time.time() - t_ep,\n",
    "                })\n",
    "        \n",
    "    def valid(dataloader, ep):\n",
    "        # valid\n",
    "        rel_extractor.eval()\n",
    "        \n",
    "        t_ep = time.time()\n",
    "        total_ent_sample_acc, total_head_rel_sample_acc, total_tail_rel_sample_acc = 0., 0., 0.\n",
    "        total_rel_correct_num, total_rel_pred_num, total_rel_gold_num = 0, 0, 0\n",
    "        for batch_ind, batch_valid_data in enumerate(tqdm(dataloader, desc = \"Validating\")):\n",
    "            ent_sample_acc, head_rel_sample_acc, tail_rel_sample_acc, rel_cpg = valid_step(batch_valid_data)\n",
    "\n",
    "            total_ent_sample_acc += ent_sample_acc\n",
    "            total_head_rel_sample_acc += head_rel_sample_acc\n",
    "            total_tail_rel_sample_acc += tail_rel_sample_acc\n",
    "            \n",
    "            total_rel_correct_num += rel_cpg[0]\n",
    "            total_rel_pred_num += rel_cpg[1]\n",
    "            total_rel_gold_num += rel_cpg[2]\n",
    "\n",
    "        avg_ent_sample_acc = total_ent_sample_acc / len(dataloader)\n",
    "        avg_head_rel_sample_acc = total_head_rel_sample_acc / len(dataloader)\n",
    "        avg_tail_rel_sample_acc = total_tail_rel_sample_acc / len(dataloader)\n",
    "        \n",
    "        rel_prf = get_scores(total_rel_correct_num, total_rel_pred_num, total_rel_gold_num)\n",
    "        \n",
    "        log_dict = {\n",
    "                        \"val_ent_seq_acc\": avg_ent_sample_acc,\n",
    "                        \"val_head_rel_acc\": avg_head_rel_sample_acc,\n",
    "                        \"val_tail_rel_acc\": avg_tail_rel_sample_acc,\n",
    "                        \"val_prec\": rel_prf[0],\n",
    "                        \"val_recall\": rel_prf[1],\n",
    "                        \"val_f1\": rel_prf[2],\n",
    "                        \"time\": time.time() - t_ep,\n",
    "                    }\n",
    "        pprint(log_dict)\n",
    "        wandb.log(log_dict)\n",
    "        \n",
    "        return rel_prf[2]\n",
    "        \n",
    "    for ep in range(num_epoch):\n",
    "        train(train_dataloader, ep)   \n",
    "        valid_f1 = valid(dev_dataloader, ep)\n",
    "        \n",
    "        global max_f1\n",
    "        if valid_f1 >= max_f1: \n",
    "            max_f1 = valid_f1\n",
    "            if valid_f1 > 0.5: # save the best model\n",
    "                modle_state_num = len(glob.glob(model_state_dict_dir + \"/model_state_dict_*.pt\"))\n",
    "                torch.save(rel_extractor.state_dict(), os.path.join(model_state_dict_dir, \"model_state_dict_{}.pt\".format(modle_state_num)))\n",
    "                scheduler_state_num = len(glob.glob(schedule_state_dict_dir + \"/scheduler_state_dict_*.pt\"))\n",
    "                torch.save(scheduler.state_dict(), os.path.join(schedule_state_dict_dir, \"scheduler_state_dict_{}.pt\".format(scheduler_state_num))) \n",
    "        print(\"Current avf_f1: {}, Best f1: {}\".format(valid_f1, max_f1))"
   ]
  },
  {
   "cell_type": "code",
   "execution_count": 42,
   "metadata": {},
   "outputs": [],
   "source": [
    "def get_last_state_path(state_dir, pre_fix):\n",
    "    max_file_num = -1\n",
    "    last_state_path = None\n",
    "    for path in glob.glob(state_dir + \"/{}_*.pt\".format(pre_fix)):\n",
    "        file_num = re.search(\"state_dict_(\\d+)\\.pt\", path).group(1)\n",
    "        if int(file_num) > max_file_num:\n",
    "            max_file_num = int(file_num)\n",
    "            last_state_path = path\n",
    "    return last_state_path\n",
    "\n",
    "def get_model_state_path(state_dict_dir, state_dict_num):\n",
    "    return os.path.join(state_dict_dir, \"model_state_dict_{}.pt\".format(state_dict_num))"
   ]
  },
  {
   "cell_type": "code",
   "execution_count": 43,
   "metadata": {},
   "outputs": [
    {
     "name": "stdout",
     "output_type": "stream",
     "text": [
      "preparing dataloader...\n",
      "dataloaders done!\n"
     ]
    }
   ],
   "source": [
    "# dataloader\n",
    "print(\"preparing dataloader...\")\n",
    "train_dataloader, \\\n",
    "dev_dataloader = get_train_dev_dataloader_gen(indexed_train_data, \n",
    "                                            indexed_valid_data, \n",
    "                                            config.batch_size, \n",
    "                                            )\n",
    "print(\"dataloaders done!\")"
   ]
  },
  {
   "cell_type": "code",
   "execution_count": 44,
   "metadata": {},
   "outputs": [],
   "source": [
    "# optimizer\n",
    "init_learning_rate = config.lr\n",
    "optimizer = torch.optim.Adam(rel_extractor.parameters(), lr = init_learning_rate)\n",
    "scheduler = torch.optim.lr_scheduler.CosineAnnealingWarmRestarts(optimizer, len(train_dataloader) * 2)\n",
    "\n",
    "# decay_rate = 0.99\n",
    "# scheduler = torch.optim.lr_scheduler.StepLR(optimizer, step_size = 10, gamma = decay_rate)"
   ]
  },
  {
   "cell_type": "code",
   "execution_count": null,
   "metadata": {},
   "outputs": [
    {
     "name": "stdout",
     "output_type": "stream",
     "text": [
      "Epoch: 1/50, batch: 11008/12522, train_loss: 0.03656578877495891, t_ent_sample_acc: 0.00010598353029033819, t_head_rel_sample_acc: 0.0, t_tail_rel_sample_acc: 0.0,lr: 2.972260250378065e-05, batch_time: 0.8056538105010986, total_time: 9286.342447280884 ---------------"
     ]
    },
    {
     "name": "stderr",
     "output_type": "stream",
     "text": [
      "requests_with_retry encountered retryable exception: ('Connection aborted.', OSError(\"(110, 'ETIMEDOUT')\")). args: ('https://api.wandb.ai/files/wycheng/nyt_single/1b7r0hef/file_stream',), kwargs: {'json': {'files': {'output.log': {'offset': 2, 'content': ['2020-05-31T12:06:21.260693 Epoch: 1/50, batch: 9858/12522, train_loss: 0.04080852666794576, t_ent_sample_acc: 0.00010144045747639707, t_head_rel_sample_acc: 0.0, t_tail_rel_sample_acc: 0.0,lr: 3.320282756549407e-05, batch_time: 0.8884413242340088, total_time: 8321.727261066437 -------------\\r']}, 'wandb-history.jsonl': {'offset': 983, 'content': ['{\"train_loss\": 0.04091999462171378, \"train_ent_seq_acc\": 0.00010171905500989954, \"train_head_rel_acc\": 0.0, \"train_tail_rel_acc\": 0.0, \"learning_rate\": 3.328276665578567e-05, \"time\": 8299.81027173996, \"_runtime\": 8386.520291805267, \"_timestamp\": 1590926758.5055277, \"_step\": 983}\\n', '{\"train_loss\": 0.040878658553348886, \"train_ent_seq_acc\": 0.00010161569249083655, \"train_head_rel_acc\": 0.0, \"train_tail_rel_acc\": 0.0, \"learning_rate\": 3.325317061512556e-05, \"time\": 8307.567762613297, \"_runtime\": 8394.277782917023, \"_timestamp\": 1590926766.2630188, \"_step\": 984}\\n', '{\"train_loss\": 0.040837365751322685, \"train_ent_seq_acc\": 0.00010151253982360394, \"train_head_rel_acc\": 0.0, \"train_tail_rel_acc\": 0.0, \"learning_rate\": 3.3223561587337435e-05, \"time\": 8315.862688779831, \"_runtime\": 8402.572739839554, \"_timestamp\": 1590926774.5579758, \"_step\": 985}\\n']}, 'wandb-summary.json': {'offset': 0, 'content': ['{\"_step\": 985, \"train_ent_seq_acc\": 0.00010151253982360394, \"learning_rate\": 3.3223561587337435e-05, \"train_head_rel_acc\": 0.0, \"time\": 8315.862688779831, \"_timestamp\": 1590926774.5579758, \"train_loss\": 0.040837365751322685, \"train_tail_rel_acc\": 0.0, \"_runtime\": 8402.572739839554}\\n']}}}}\n"
     ]
    },
    {
     "name": "stdout",
     "output_type": "stream",
     "text": [
      "Epoch: 1/50, batch: 12522/12522, train_loss: 0.032167581204237884, t_ent_sample_acc: 0.00010647926633682824, t_head_rel_sample_acc: 0.0, t_tail_rel_sample_acc: 0.0,lr: 2.5003136073156602e-05, batch_time: 0.8934211730957031, total_time: 10497.723140954971 -------------"
     ]
    },
    {
     "name": "stderr",
     "output_type": "stream",
     "text": [
      "Validating: 100%|██████████| 1121/1121 [09:07<00:00,  2.05it/s]"
     ]
    },
    {
     "name": "stdout",
     "output_type": "stream",
     "text": [
      "{'time': 547.9132852554321,\n",
      " 'val_ent_seq_acc': 0.0,\n",
      " 'val_f1': 0.0,\n",
      " 'val_head_rel_acc': 0.0,\n",
      " 'val_prec': 0.0,\n",
      " 'val_recall': 0.0,\n",
      " 'val_tail_rel_acc': 0.0}\n",
      "Current avf_f1: 0.0, Best f1: 0.0\n"
     ]
    },
    {
     "name": "stderr",
     "output_type": "stream",
     "text": [
      "\n"
     ]
    },
    {
     "name": "stdout",
     "output_type": "stream",
     "text": [
      "Epoch: 2/50, batch: 3893/12522, train_loss: 0.00017999773252533636, t_ent_sample_acc: 0.0002568713151303166, t_head_rel_sample_acc: 0.0, t_tail_rel_sample_acc: 0.0,lr: 1.3273549773194261e-05, batch_time: 0.7204787731170654, total_time: 3223.90172457695 ----------------"
     ]
    },
    {
     "name": "stderr",
     "output_type": "stream",
     "text": [
      "requests_with_retry encountered retryable exception: ('Connection aborted.', OSError(\"(104, 'ECONNRESET')\")). args: ('https://api.wandb.ai/files/wycheng/nyt_single/1b7r0hef/file_stream',), kwargs: {'json': {'files': {'output.log': {'offset': 12, 'content': ['2020-05-31T13:33:25.696039 Epoch: 2/50, batch: 3013/12522, train_loss: 0.00018149275159534534, t_ent_sample_acc: 0.0001659475655164823, t_head_rel_sample_acc: 0.0, t_tail_rel_sample_acc: 0.0,lr: 1.577729496269032e-05, batch_time: 0.6488854885101318, total_time: 2500.0317640304565 -------------\\r']}, 'wandb-events.jsonl': {'offset': 416, 'content': ['{\"system.gpu.0.gpu\": 0.0, \"system.gpu.0.memory\": 0.0, \"system.gpu.0.memoryAllocated\": 37.13, \"system.gpu.0.temp\": 39.0, \"system.gpu.process.0.gpu\": 0.0, \"system.gpu.process.0.memory\": 0.0, \"system.gpu.process.0.memoryAllocated\": 37.13, \"system.gpu.process.0.temp\": 39.0, \"system.gpu.0.powerWatts\": 38.52, \"system.gpu.0.powerPercent\": 15.41, \"system.gpu.process.0.powerWatts\": 38.52, \"system.gpu.process.0.powerPercent\": 15.41, \"system.gpu.1.gpu\": 99.8, \"system.gpu.1.memory\": 16.4, \"system.gpu.1.memoryAllocated\": 79.39, \"system.gpu.1.temp\": 48.87, \"system.gpu.process.1.gpu\": 99.8, \"system.gpu.process.1.memory\": 16.4, \"system.gpu.process.1.memoryAllocated\": 79.39, \"system.gpu.process.1.temp\": 48.87, \"system.gpu.1.powerWatts\": 87.01, \"system.gpu.1.powerPercent\": 34.8, \"system.gpu.process.1.powerWatts\": 87.01, \"system.gpu.process.1.powerPercent\": 34.8, \"system.cpu\": 65.09, \"system.memory\": 52.73, \"system.disk\": 83.1, \"system.proc.memory.availableMB\": 60686.81, \"system.proc.memory.rssMB\": 3771.12, \"system.proc.memory.percent\": 2.94, \"system.proc.cpu.threads\": 49.0, \"system.network.sent\": 35736504074, \"system.network.recv\": 32258201991, \"_wandb\": true, \"_timestamp\": 1590931988, \"_runtime\": 13619}\\n']}, 'wandb-history.jsonl': {'offset': 1552, 'content': ['{\"train_loss\": 0.00018172091305354614, \"train_ent_seq_acc\": 0.00016772895501548514, \"train_head_rel_acc\": 0.0, \"train_tail_rel_acc\": 0.0, \"learning_rate\": 1.5870644949165395e-05, \"time\": 2472.149497270584, \"_runtime\": 13605.001975297928, \"_timestamp\": 1590931976.9872112, \"_step\": 1552}\\n', '{\"train_loss\": 0.00018160065614495523, \"train_ent_seq_acc\": 0.000167168176162207, \"train_head_rel_acc\": 0.0, \"train_tail_rel_acc\": 0.0, \"learning_rate\": 1.584145720519693e-05, \"time\": 2480.307677268982, \"_runtime\": 13613.160158872604, \"_timestamp\": 1590931985.1453948, \"_step\": 1553}\\n', '{\"train_loss\": 0.00018150778722987186, \"train_ent_seq_acc\": 0.00016661113458885744, \"train_head_rel_acc\": 0.0, \"train_tail_rel_acc\": 0.0, \"learning_rate\": 1.5812283873043416e-05, \"time\": 2489.6384868621826, \"_runtime\": 13622.490966796875, \"_timestamp\": 1590931994.4762027, \"_step\": 1554}\\n', '{\"train_loss\": 0.00018146187660610813, \"train_ent_seq_acc\": 0.00016605779305917012, \"train_head_rel_acc\": 0.0, \"train_tail_rel_acc\": 0.0, \"learning_rate\": 1.5783124998611804e-05, \"time\": 2498.58660197258, \"_runtime\": 13631.439079999924, \"_timestamp\": 1590932003.424316, \"_step\": 1555}\\n']}, 'wandb-summary.json': {'offset': 0, 'content': ['{\"_step\": 1555, \"train_ent_seq_acc\": 0.00016605779305917012, \"learning_rate\": 1.5783124998611804e-05, \"train_head_rel_acc\": 0.0, \"time\": 2498.58660197258, \"_timestamp\": 1590932003.424316, \"train_loss\": 0.00018146187660610813, \"train_tail_rel_acc\": 0.0, \"_runtime\": 13631.439079999924, \"val_ent_seq_acc\": 0.0, \"val_prec\": 0.0, \"val_f1\": 0.0, \"val_head_rel_acc\": 0.0, \"val_tail_rel_acc\": 0.0, \"val_recall\": 0.0}\\n']}}}}\n"
     ]
    },
    {
     "name": "stdout",
     "output_type": "stream",
     "text": [
      "Epoch: 2/50, batch: 9856/12522, train_loss: 0.00016803078377158166, t_ent_sample_acc: 0.001741747887405966, t_head_rel_sample_acc: 0.0, t_tail_rel_sample_acc: 0.0,lr: 1.3860975900577777e-06, batch_time: 0.8060967922210693, total_time: 8053.326349020004 ----------------"
     ]
    },
    {
     "name": "stderr",
     "output_type": "stream",
     "text": [
      "requests_with_retry encountered retryable exception: ('Connection aborted.', RemoteDisconnected('Remote end closed connection without response')). args: ('https://api.wandb.ai/files/wycheng/nyt_single/1b7r0hef/file_stream',), kwargs: {'json': {'files': {'output.log': {'offset': 13, 'content': ['2020-05-31T15:02:28.710648 Epoch: 2/50, batch: 9592/12522, train_loss: 0.00016829489543733014, t_ent_sample_acc: 0.0016854323549281567, t_head_rel_sample_acc: 0.0, t_tail_rel_sample_acc: 0.0,lr: 1.6708444647002441e-06, batch_time: 0.871382474899292, total_time: 7842.965803384781 -------------\\r']}, 'wandb-events.jsonl': {'offset': 582, 'content': ['{\"system.gpu.0.gpu\": 0.0, \"system.gpu.0.memory\": 0.0, \"system.gpu.0.memoryAllocated\": 63.8, \"system.gpu.0.temp\": 39.33, \"system.gpu.process.0.gpu\": 0.0, \"system.gpu.process.0.memory\": 0.0, \"system.gpu.process.0.memoryAllocated\": 63.8, \"system.gpu.process.0.temp\": 39.33, \"system.gpu.0.powerWatts\": 38.34, \"system.gpu.0.powerPercent\": 15.34, \"system.gpu.process.0.powerWatts\": 38.34, \"system.gpu.process.0.powerPercent\": 15.34, \"system.gpu.1.gpu\": 99.73, \"system.gpu.1.memory\": 18.0, \"system.gpu.1.memoryAllocated\": 79.39, \"system.gpu.1.temp\": 48.8, \"system.gpu.process.1.gpu\": 99.73, \"system.gpu.process.1.memory\": 18.0, \"system.gpu.process.1.memoryAllocated\": 79.39, \"system.gpu.process.1.temp\": 48.8, \"system.gpu.1.powerWatts\": 84.24, \"system.gpu.1.powerPercent\": 33.7, \"system.gpu.process.1.powerWatts\": 84.24, \"system.gpu.process.1.powerPercent\": 33.7, \"system.cpu\": 63.71, \"system.memory\": 53.09, \"system.disk\": 83.1, \"system.proc.memory.availableMB\": 60261.41, \"system.proc.memory.rssMB\": 3771.53, \"system.proc.memory.percent\": 2.94, \"system.proc.cpu.threads\": 49.0, \"system.network.sent\": 35928085992, \"system.network.recv\": 32321537894, \"_wandb\": true, \"_timestamp\": 1590937334, \"_runtime\": 18965}\\n']}, 'wandb-history.jsonl': {'offset': 2210, 'content': ['{\"train_loss\": 0.00016835546007809533, \"train_ent_seq_acc\": 0.0016908970974240016, \"train_head_rel_acc\": 0.0, \"train_tail_rel_acc\": 0.0, \"learning_rate\": 1.7059654040469052e-06, \"time\": 7815.184349775314, \"_runtime\": 18948.036840438843, \"_timestamp\": 1590937320.0220764, \"_step\": 2210}\\n', '{\"train_loss\": 0.00016835039047541825, \"train_ent_seq_acc\": 0.0016891304094108117, \"train_head_rel_acc\": 0.0, \"train_tail_rel_acc\": 0.0, \"learning_rate\": 1.6945975550408333e-06, \"time\": 7824.18111038208, \"_runtime\": 18957.033591270447, \"_timestamp\": 1590937329.0188272, \"_step\": 2211}\\n', '{\"train_loss\": 0.0001683136897661772, \"train_ent_seq_acc\": 0.001687367409296616, \"train_head_rel_acc\": 0.0, \"train_tail_rel_acc\": 0.0, \"learning_rate\": 1.683266379243062e-06, \"time\": 7833.190278053284, \"_runtime\": 18966.042765140533, \"_timestamp\": 1590937338.028001, \"_step\": 2212}\\n', '{\"train_loss\": 0.00016829637995291455, \"train_ent_seq_acc\": 0.0016856080855459157, \"train_head_rel_acc\": 0.0, \"train_tail_rel_acc\": 0.0, \"learning_rate\": 1.6719718944842256e-06, \"time\": 7842.081826448441, \"_runtime\": 18974.93431019783, \"_timestamp\": 1590937346.9195461, \"_step\": 2213}\\n']}, 'wandb-summary.json': {'offset': 0, 'content': ['{\"_step\": 2213, \"train_ent_seq_acc\": 0.0016856080855459157, \"learning_rate\": 1.6719718944842256e-06, \"train_head_rel_acc\": 0.0, \"time\": 7842.081826448441, \"_timestamp\": 1590937346.9195461, \"train_loss\": 0.00016829637995291455, \"train_tail_rel_acc\": 0.0, \"_runtime\": 18974.93431019783, \"val_ent_seq_acc\": 0.0, \"val_prec\": 0.0, \"val_f1\": 0.0, \"val_head_rel_acc\": 0.0, \"val_tail_rel_acc\": 0.0, \"val_recall\": 0.0}\\n']}}}}\n"
     ]
    },
    {
     "name": "stdout",
     "output_type": "stream",
     "text": [
      "Epoch: 2/50, batch: 12522/12522, train_loss: 0.00016473502815983357, t_ent_sample_acc: 0.0027551510164654305, t_head_rel_sample_acc: 0.0, t_tail_rel_sample_acc: 1.330990829210353e-05,lr: 1.9669909867570113e-13, batch_time: 0.5212533473968506, total_time: 10177.973327159882 --------------"
     ]
    },
    {
     "name": "stderr",
     "output_type": "stream",
     "text": [
      "Validating: 100%|██████████| 1121/1121 [05:11<00:00,  3.59it/s]"
     ]
    },
    {
     "name": "stdout",
     "output_type": "stream",
     "text": [
      "{'time': 311.9048628807068,\n",
      " 'val_ent_seq_acc': 0.0029735356223678927,\n",
      " 'val_f1': 0.0,\n",
      " 'val_head_rel_acc': 0.0,\n",
      " 'val_prec': 0.0,\n",
      " 'val_recall': 0.0,\n",
      " 'val_tail_rel_acc': 0.0}\n",
      "Current avf_f1: 0.0, Best f1: 0.0\n"
     ]
    },
    {
     "name": "stderr",
     "output_type": "stream",
     "text": [
      "\n"
     ]
    },
    {
     "name": "stdout",
     "output_type": "stream",
     "text": [
      "Epoch: 3/50, batch: 2372/12522, train_loss: 0.00011359500118122606, t_ent_sample_acc: 0.13989601237149704, t_head_rel_sample_acc: 0.010539629319164443, t_tail_rel_sample_acc: 0.0077290615007205915,lr: 4.890235582840386e-05, batch_time: 0.6524722576141357, total_time: 1659.8620088100433 ---------------"
     ]
    },
    {
     "name": "stderr",
     "output_type": "stream",
     "text": [
      "requests_with_retry encountered retryable exception: ('Connection aborted.', RemoteDisconnected('Remote end closed connection without response')). args: ('https://api.wandb.ai/files/wycheng/nyt_single/1b7r0hef/file_stream',), kwargs: {'json': {'files': {'output.log': {'offset': 23, 'content': ['2020-05-31T16:10:45.268865 Epoch: 3/50, batch: 2080/12522, train_loss: 0.00011662574748662826, t_ent_sample_acc: 0.12371795181758129, t_head_rel_sample_acc: 0.009294872071880561, t_tail_rel_sample_acc: 0.006730769431361785,lr: 4.915462690004166e-05, batch_time: 0.6290020942687988, total_time: 1449.6972665786743 -------------\\r']}, 'wandb-events.jsonl': {'offset': 709, 'content': ['{\"system.gpu.0.gpu\": 0.0, \"system.gpu.0.memory\": 0.0, \"system.gpu.0.memoryAllocated\": 68.73, \"system.gpu.0.temp\": 39.0, \"system.gpu.process.0.gpu\": 0.0, \"system.gpu.process.0.memory\": 0.0, \"system.gpu.process.0.memoryAllocated\": 68.73, \"system.gpu.process.0.temp\": 39.0, \"system.gpu.0.powerWatts\": 38.48, \"system.gpu.0.powerPercent\": 15.39, \"system.gpu.process.0.powerWatts\": 38.48, \"system.gpu.process.0.powerPercent\": 15.39, \"system.gpu.1.gpu\": 99.73, \"system.gpu.1.memory\": 18.8, \"system.gpu.1.memoryAllocated\": 79.39, \"system.gpu.1.temp\": 47.07, \"system.gpu.process.1.gpu\": 99.73, \"system.gpu.process.1.memory\": 18.8, \"system.gpu.process.1.memoryAllocated\": 79.39, \"system.gpu.process.1.temp\": 47.07, \"system.gpu.1.powerWatts\": 78.66, \"system.gpu.1.powerPercent\": 31.46, \"system.gpu.process.1.powerWatts\": 78.66, \"system.gpu.process.1.powerPercent\": 31.46, \"system.cpu\": 60.51, \"system.memory\": 48.2, \"system.disk\": 83.1, \"system.proc.memory.availableMB\": 66487.2, \"system.proc.memory.rssMB\": 3771.12, \"system.proc.memory.percent\": 2.94, \"system.proc.cpu.threads\": 49.0, \"system.network.sent\": 36144330355, \"system.network.recv\": 32396974688, \"_wandb\": true, \"_timestamp\": 1590941425, \"_runtime\": 23056}\\n']}, 'wandb-history.jsonl': {'offset': 2712, 'content': ['{\"train_loss\": 0.0001171609724369078, \"train_ent_seq_acc\": 0.12273395703243076, \"train_head_rel_acc\": 0.0088192065342684, \"train_tail_rel_acc\": 0.006532745580939555, \"learning_rate\": 4.918587448134334e-05, \"time\": 1424.8262965679169, \"_runtime\": 23047.90348315239, \"_timestamp\": 1590941419.888719, \"_step\": 2712}\\n', '{\"train_loss\": 0.00011703255548367689, \"train_ent_seq_acc\": 0.12254185258964397, \"train_head_rel_acc\": 0.008857468165809616, \"train_tail_rel_acc\": 0.00650089406664926, \"learning_rate\": 4.917791743642118e-05, \"time\": 1431.6636481285095, \"_runtime\": 23054.74084186554, \"_timestamp\": 1590941426.7260778, \"_step\": 2713}\\n', '{\"train_loss\": 0.00011685031355313302, \"train_ent_seq_acc\": 0.12356461574445934, \"train_head_rel_acc\": 0.009057092296446717, \"train_tail_rel_acc\": 0.0065502185358230726, \"learning_rate\": 4.916992234530761e-05, \"time\": 1437.8010194301605, \"_runtime\": 23060.87821650505, \"_timestamp\": 1590941432.8634524, \"_step\": 2714}\\n', '{\"train_loss\": 0.0001167333525166511, \"train_ent_seq_acc\": 0.12377273768747792, \"train_head_rel_acc\": 0.009093835777214102, \"train_tail_rel_acc\": 0.00651859024738356, \"learning_rate\": 4.9161889220583654e-05, \"time\": 1443.5662817955017, \"_runtime\": 23066.643468618393, \"_timestamp\": 1590941438.6287045, \"_step\": 2715}\\n']}, 'wandb-summary.json': {'offset': 0, 'content': ['{\"_step\": 2715, \"train_ent_seq_acc\": 0.12377273768747792, \"learning_rate\": 4.9161889220583654e-05, \"train_head_rel_acc\": 0.009093835777214102, \"time\": 1443.5662817955017, \"_timestamp\": 1590941438.6287045, \"train_loss\": 0.0001167333525166511, \"train_tail_rel_acc\": 0.00651859024738356, \"_runtime\": 23066.643468618393, \"val_ent_seq_acc\": 0.0029735356223678927, \"val_prec\": 0.0, \"val_f1\": 0.0, \"val_head_rel_acc\": 0.0, \"val_tail_rel_acc\": 0.0, \"val_recall\": 0.0}\\n']}}}}\n"
     ]
    },
    {
     "name": "stdout",
     "output_type": "stream",
     "text": [
      "Epoch: 3/50, batch: 9753/12522, train_loss: 8.621539278879436e-05, t_ent_sample_acc: 0.3122116339691942, t_head_rel_sample_acc: 0.052906799394937955, t_tail_rel_sample_acc: 0.04779726031571428,lr: 3.3513164837333774e-05, batch_time: 0.7878375053405762, total_time: 6843.363395214081 ------------------"
     ]
    },
    {
     "name": "stderr",
     "output_type": "stream",
     "text": [
      "requests_with_retry encountered retryable exception: ('Connection aborted.', OSError(\"(104, 'ECONNRESET')\")). args: ('https://api.wandb.ai/files/wycheng/nyt_single/1b7r0hef/file_stream',), kwargs: {'json': {'files': {'output.log': {'offset': 24, 'content': ['2020-05-31T17:26:35.135461 Epoch: 3/50, batch: 8555/12522, train_loss: 8.936301008304217e-05, t_ent_sample_acc: 0.29481785171809494, t_head_rel_sample_acc: 0.04537307746677911, t_tail_rel_sample_acc: 0.040736412615332944,lr: 3.693640961599489e-05, batch_time: 0.7549452781677246, total_time: 5999.341523885727 -------------\\r']}, 'wandb-history.jsonl': {'offset': 3360, 'content': ['{\"train_loss\": 8.945788908555474e-05, \"train_ent_seq_acc\": 0.29435121712480655, \"train_head_rel_acc\": 0.04508469400586635, \"train_tail_rel_acc\": 0.04052732580250354, \"learning_rate\": 3.7029988710605325e-05, \"time\": 5974.6858496665955, \"_runtime\": 27597.763036251068, \"_timestamp\": 1590945969.7482722, \"_step\": 3360}\\n', '{\"train_loss\": 8.94299091269592e-05, \"train_ent_seq_acc\": 0.2945141313507386, \"train_head_rel_acc\": 0.04516860207776618, \"train_tail_rel_acc\": 0.0405970394083853, \"learning_rate\": 3.7002488087663815e-05, \"time\": 5982.059471845627, \"_runtime\": 27605.13666701317, \"_timestamp\": 1590945977.121903, \"_step\": 3361}\\n', '{\"train_loss\": 8.940246741605962e-05, \"train_ent_seq_acc\": 0.29467666408745163, \"train_head_rel_acc\": 0.045310854821081756, \"train_tail_rel_acc\": 0.04068610348839375, \"learning_rate\": 3.697496857769616e-05, \"time\": 5989.281588077545, \"_runtime\": 27612.35877275467, \"_timestamp\": 1590945984.3440087, \"_step\": 3362}\\n', '{\"train_loss\": 8.93732419665846e-05, \"train_ent_seq_acc\": 0.29479983488191236, \"train_head_rel_acc\": 0.04535532035844087, \"train_tail_rel_acc\": 0.04073597745907375, \"learning_rate\": 3.6947430224006835e-05, \"time\": 5996.373109102249, \"_runtime\": 27619.45030760765, \"_timestamp\": 1590945991.4355435, \"_step\": 3363}\\n']}, 'wandb-summary.json': {'offset': 0, 'content': ['{\"_step\": 3363, \"train_ent_seq_acc\": 0.29479983488191236, \"learning_rate\": 3.6947430224006835e-05, \"train_head_rel_acc\": 0.04535532035844087, \"time\": 5996.373109102249, \"_timestamp\": 1590945991.4355435, \"train_loss\": 8.93732419665846e-05, \"train_tail_rel_acc\": 0.04073597745907375, \"_runtime\": 27619.45030760765, \"val_ent_seq_acc\": 0.0029735356223678927, \"val_prec\": 0.0, \"val_f1\": 0.0, \"val_head_rel_acc\": 0.0, \"val_tail_rel_acc\": 0.0, \"val_recall\": 0.0}\\n']}}}}\n"
     ]
    },
    {
     "name": "stdout",
     "output_type": "stream",
     "text": [
      "Epoch: 3/50, batch: 12522/12522, train_loss: 8.041741977543175e-05, t_ent_sample_acc: 0.3446201426157782, t_head_rel_sample_acc: 0.07002342736291688, t_tail_rel_sample_acc: 0.06551136846141377,lr: 2.5003136073156602e-05, batch_time: 0.5567879676818848, total_time: 8785.292521238327 -----------------"
     ]
    },
    {
     "name": "stderr",
     "output_type": "stream",
     "text": [
      "Validating: 100%|██████████| 1121/1121 [05:38<00:00,  3.31it/s]"
     ]
    },
    {
     "name": "stdout",
     "output_type": "stream",
     "text": [
      "{'time': 338.3340721130371,\n",
      " 'val_ent_seq_acc': 0.4846863023518027,\n",
      " 'val_f1': 0.39491853075336897,\n",
      " 'val_head_rel_acc': 0.19550996624019717,\n",
      " 'val_prec': 0.26970954356846216,\n",
      " 'val_recall': 0.7371134020618366,\n",
      " 'val_tail_rel_acc': 0.18592031391787806}\n",
      "Current avf_f1: 0.39491853075336897, Best f1: 0.39491853075336897\n"
     ]
    },
    {
     "name": "stderr",
     "output_type": "stream",
     "text": [
      "\n"
     ]
    },
    {
     "name": "stdout",
     "output_type": "stream",
     "text": [
      "Epoch: 4/50, batch: 1274/12522, train_loss: 5.408013140729212e-05, t_ent_sample_acc: 0.49646782883248486, t_head_rel_sample_acc: 0.16915228047073355, t_tail_rel_sample_acc: 0.1620879161816377,lr: 2.1024724531323935e-05, batch_time: 0.8108782768249512, total_time: 898.324224948883 ----------------"
     ]
    },
    {
     "name": "stderr",
     "output_type": "stream",
     "text": [
      "requests_with_retry encountered retryable exception: ('Connection aborted.', OSError(\"(104, 'ECONNRESET')\")). args: ('https://api.wandb.ai/files/wycheng/nyt_single/1b7r0hef/file_stream',), kwargs: {'json': {'files': {'output.log': {'offset': 34, 'content': ['2020-05-31T18:19:34.887396 Epoch: 4/50, batch: 76/12522, train_loss: 5.1800671060750336e-05, t_ent_sample_acc: 0.4912280793252744, t_head_rel_sample_acc: 0.16666667065338084, t_tail_rel_sample_acc: 0.14254386350512505,lr: 2.4764797982476208e-05, batch_time: 0.5155637264251709, total_time: 55.230762004852295 -------------\\r']}, 'wandb-events.jsonl': {'offset': 949, 'content': ['{\"system.gpu.0.gpu\": 0.0, \"system.gpu.0.memory\": 0.0, \"system.gpu.0.memoryAllocated\": 68.73, \"system.gpu.0.temp\": 38.73, \"system.gpu.process.0.gpu\": 0.0, \"system.gpu.process.0.memory\": 0.0, \"system.gpu.process.0.memoryAllocated\": 68.73, \"system.gpu.process.0.temp\": 38.73, \"system.gpu.0.powerWatts\": 38.44, \"system.gpu.0.powerPercent\": 15.38, \"system.gpu.process.0.powerWatts\": 38.44, \"system.gpu.process.0.powerPercent\": 15.38, \"system.gpu.1.gpu\": 98.87, \"system.gpu.1.memory\": 18.33, \"system.gpu.1.memoryAllocated\": 79.39, \"system.gpu.1.temp\": 47.2, \"system.gpu.process.1.gpu\": 98.87, \"system.gpu.process.1.memory\": 18.33, \"system.gpu.process.1.memoryAllocated\": 79.39, \"system.gpu.process.1.temp\": 47.2, \"system.gpu.1.powerWatts\": 82.67, \"system.gpu.1.powerPercent\": 33.07, \"system.gpu.process.1.powerWatts\": 82.67, \"system.gpu.process.1.powerPercent\": 33.07, \"system.cpu\": 60.58, \"system.memory\": 49.69, \"system.disk\": 83.1, \"system.proc.memory.availableMB\": 64628.25, \"system.proc.memory.rssMB\": 3771.18, \"system.proc.memory.percent\": 2.94, \"system.proc.cpu.threads\": 49.0, \"system.network.sent\": 36546020641, \"system.network.recv\": 32555144740, \"_wandb\": true, \"_timestamp\": 1590949154, \"_runtime\": 30785}\\n']}, 'wandb-history.jsonl': {'offset': 3766, 'content': ['{\"train_loss\": 5.267213951234092e-05, \"train_ent_seq_acc\": 0.5000000094495168, \"train_head_rel_acc\": 0.16666667054339154, \"train_tail_rel_acc\": 0.12601626391817883, \"learning_rate\": 2.487455759979611e-05, \"time\": 31.25464391708374, \"_runtime\": 30778.30597472191, \"_timestamp\": 1590949150.2912107, \"_step\": 3766}\\n', '{\"train_loss\": 5.249248744232818e-05, \"train_ent_seq_acc\": 0.4901960874889411, \"train_head_rel_acc\": 0.16339869680357913, \"train_tail_rel_acc\": 0.13071895814409443, \"learning_rate\": 2.48431973698616e-05, \"time\": 38.286582708358765, \"_runtime\": 30785.33795619011, \"_timestamp\": 1590949157.3231921, \"_step\": 3767}\\n', '{\"train_loss\": 5.2351127586186266e-05, \"train_ent_seq_acc\": 0.48907104696406695, \"train_head_rel_acc\": 0.16393443013800948, \"train_tail_rel_acc\": 0.1338797851664121, \"learning_rate\": 2.481183738667054e-05, \"time\": 45.13457679748535, \"_runtime\": 30792.18594431877, \"_timestamp\": 1590949164.1711802, \"_step\": 3768}\\n', '{\"train_loss\": 5.223135934063745e-05, \"train_ent_seq_acc\": 0.4976525915340638, \"train_head_rel_acc\": 0.17136150640501102, \"train_tail_rel_acc\": 0.14553991002096256, \"learning_rate\": 2.478047769957078e-05, \"time\": 52.11703181266785, \"_runtime\": 30799.16838002205, \"_timestamp\": 1590949171.153616, \"_step\": 3769}\\n']}, 'wandb-summary.json': {'offset': 0, 'content': ['{\"_step\": 3769, \"train_ent_seq_acc\": 0.4976525915340638, \"learning_rate\": 2.478047769957078e-05, \"train_head_rel_acc\": 0.17136150640501102, \"time\": 52.11703181266785, \"_timestamp\": 1590949171.153616, \"train_loss\": 5.223135934063745e-05, \"train_tail_rel_acc\": 0.14553991002096256, \"_runtime\": 30799.16838002205, \"val_ent_seq_acc\": 0.4846863023518027, \"val_prec\": 0.26970954356846216, \"val_f1\": 0.39491853075336897, \"val_head_rel_acc\": 0.19550996624019717, \"val_tail_rel_acc\": 0.18592031391787806, \"val_recall\": 0.7371134020618366}\\n']}}}}\n"
     ]
    },
    {
     "name": "stdout",
     "output_type": "stream",
     "text": [
      "Epoch: 4/50, batch: 2862/12522, train_loss: 5.4377927295758786e-05, t_ent_sample_acc: 0.4882366750610616, t_head_rel_sample_acc: 0.17080130872194954, t_tail_rel_sample_acc: 0.16684137390969433,lr: 1.6219068925459912e-05, batch_time: 0.6849148273468018, total_time: 1988.706633090973 ---------------"
     ]
    },
    {
     "name": "stderr",
     "output_type": "stream",
     "text": [
      "requests_with_retry encountered retryable exception: ('Connection aborted.', RemoteDisconnected('Remote end closed connection without response')). args: ('https://api.wandb.ai/files/wycheng/nyt_single/1b7r0hef/file_stream',), kwargs: {'json': {'files': {'output.log': {'offset': 35, 'content': ['2020-05-31T18:48:18.206228 Epoch: 4/50, batch: 2548/12522, train_loss: 5.4261091685935294e-05, t_ent_sample_acc: 0.49038462620374734, t_head_rel_sample_acc: 0.17144165787512503, t_tail_rel_sample_acc: 0.1670591355925733,lr: 1.7147628024223362e-05, batch_time: 0.6140410900115967, total_time: 1778.4491877555847 -------------\\r']}, 'wandb-events.jsonl': {'offset': 1003, 'content': ['{\"system.gpu.0.gpu\": 0.0, \"system.gpu.0.memory\": 0.0, \"system.gpu.0.memoryAllocated\": 68.73, \"system.gpu.0.temp\": 39.0, \"system.gpu.process.0.gpu\": 0.0, \"system.gpu.process.0.memory\": 0.0, \"system.gpu.process.0.memoryAllocated\": 68.73, \"system.gpu.process.0.temp\": 39.0, \"system.gpu.0.powerWatts\": 38.45, \"system.gpu.0.powerPercent\": 15.38, \"system.gpu.process.0.powerWatts\": 38.45, \"system.gpu.process.0.powerPercent\": 15.38, \"system.gpu.1.gpu\": 87.73, \"system.gpu.1.memory\": 14.0, \"system.gpu.1.memoryAllocated\": 79.39, \"system.gpu.1.temp\": 45.33, \"system.gpu.process.1.gpu\": 87.73, \"system.gpu.process.1.memory\": 14.0, \"system.gpu.process.1.memoryAllocated\": 79.39, \"system.gpu.process.1.temp\": 45.33, \"system.gpu.1.powerWatts\": 77.48, \"system.gpu.1.powerPercent\": 30.99, \"system.gpu.process.1.powerWatts\": 77.48, \"system.gpu.process.1.powerPercent\": 30.99, \"system.cpu\": 80.52, \"system.memory\": 46.51, \"system.disk\": 83.1, \"system.proc.memory.availableMB\": 68661.77, \"system.proc.memory.rssMB\": 3771.56, \"system.proc.memory.percent\": 2.94, \"system.proc.cpu.threads\": 49.0, \"system.network.sent\": 36625580657, \"system.network.recv\": 32604904265, \"_wandb\": true, \"_timestamp\": 1590950893, \"_runtime\": 32524}\\n']}, 'wandb-history.jsonl': {'offset': 4013, 'content': ['{\"train_loss\": 5.433246049800234e-05, \"train_ent_seq_acc\": 0.49050844036122804, \"train_head_rel_acc\": 0.17124651961120557, \"train_tail_rel_acc\": 0.1667330455122503, \"learning_rate\": 1.725787458437997e-05, \"time\": 1755.1144778728485, \"_runtime\": 32502.16584968567, \"_timestamp\": 1590950874.1510856, \"_step\": 4013}\\n', '{\"train_loss\": 5.435120299076113e-05, \"train_ent_seq_acc\": 0.4902816450593491, \"train_head_rel_acc\": 0.17122835282033894, \"train_tail_rel_acc\": 0.1666666708948687, \"learning_rate\": 1.722806167058162e-05, \"time\": 1760.852439880371, \"_runtime\": 32507.903811216354, \"_timestamp\": 1590950879.8890471, \"_step\": 4014}\\n', '{\"train_loss\": 5.4358803128537616e-05, \"train_ent_seq_acc\": 0.4903200424115491, \"train_head_rel_acc\": 0.1711444794566487, \"train_tail_rel_acc\": 0.16673252102486563, \"learning_rate\": 1.7198260986647736e-05, \"time\": 1767.6746363639832, \"_runtime\": 32514.726079940796, \"_timestamp\": 1590950886.7113159, \"_step\": 4015}\\n', '{\"train_loss\": 5.429826924106414e-05, \"train_ent_seq_acc\": 0.4902925465647417, \"train_head_rel_acc\": 0.17132363015392174, \"train_tail_rel_acc\": 0.16692903480723073, \"learning_rate\": 1.7168472579472448e-05, \"time\": 1773.9217479228973, \"_runtime\": 32520.973073482513, \"_timestamp\": 1590950892.9583094, \"_step\": 4016}\\n']}, 'wandb-summary.json': {'offset': 0, 'content': ['{\"_step\": 4016, \"train_ent_seq_acc\": 0.4902925465647417, \"learning_rate\": 1.7168472579472448e-05, \"train_head_rel_acc\": 0.17132363015392174, \"time\": 1773.9217479228973, \"_timestamp\": 1590950892.9583094, \"train_loss\": 5.429826924106414e-05, \"train_tail_rel_acc\": 0.16692903480723073, \"_runtime\": 32520.973073482513, \"val_ent_seq_acc\": 0.4846863023518027, \"val_prec\": 0.26970954356846216, \"val_f1\": 0.39491853075336897, \"val_head_rel_acc\": 0.19550996624019717, \"val_tail_rel_acc\": 0.18592031391787806, \"val_recall\": 0.7371134020618366}\\n']}}}}\n"
     ]
    },
    {
     "name": "stdout",
     "output_type": "stream",
     "text": [
      "Epoch: 4/50, batch: 10697/12522, train_loss: 5.2419601632715605e-05, t_ent_sample_acc: 0.5030226656432084, t_head_rel_sample_acc: 0.19030258166207167, t_tail_rel_sample_acc: 0.18754479907835445,lr: 6.52986505087938e-07, batch_time: 0.6772756576538086, total_time: 7201.936656951904 -----------------"
     ]
    },
    {
     "name": "stderr",
     "output_type": "stream",
     "text": [
      "requests_with_retry encountered retryable exception: ('Connection aborted.', OSError(\"(104, 'ECONNRESET')\")). args: ('https://api.wandb.ai/files/wycheng/nyt_single/1b7r0hef/file_stream',), kwargs: {'json': {'files': {'output.log': {'offset': 36, 'content': ['2020-05-31T20:04:38.189610 Epoch: 4/50, batch: 9452/12522, train_loss: 5.251706029235113e-05, t_ent_sample_acc: 0.5009521906592435, t_head_rel_sample_acc: 0.1880201766621345, t_tail_rel_sample_acc: 0.18525180312041453,lr: 1.8322483707151505e-06, batch_time: 0.6926817893981934, total_time: 6358.458678722382 -------------\\r']}, 'wandb-events.jsonl': {'offset': 1145, 'content': ['{\"system.gpu.0.gpu\": 0.0, \"system.gpu.0.memory\": 0.0, \"system.gpu.0.memoryAllocated\": 68.73, \"system.gpu.0.temp\": 38.27, \"system.gpu.process.0.gpu\": 0.0, \"system.gpu.process.0.memory\": 0.0, \"system.gpu.process.0.memoryAllocated\": 68.73, \"system.gpu.process.0.temp\": 38.27, \"system.gpu.0.powerWatts\": 38.45, \"system.gpu.0.powerPercent\": 15.38, \"system.gpu.process.0.powerWatts\": 38.45, \"system.gpu.process.0.powerPercent\": 15.38, \"system.gpu.1.gpu\": 84.07, \"system.gpu.1.memory\": 14.8, \"system.gpu.1.memoryAllocated\": 79.39, \"system.gpu.1.temp\": 45.93, \"system.gpu.process.1.gpu\": 84.07, \"system.gpu.process.1.memory\": 14.8, \"system.gpu.process.1.memoryAllocated\": 79.39, \"system.gpu.process.1.temp\": 45.93, \"system.gpu.1.powerWatts\": 74.0, \"system.gpu.1.powerPercent\": 29.6, \"system.gpu.process.1.powerWatts\": 74.0, \"system.gpu.process.1.powerPercent\": 29.6, \"system.cpu\": 75.58, \"system.memory\": 48.4, \"system.disk\": 83.1, \"system.proc.memory.availableMB\": 66270.87, \"system.proc.memory.rssMB\": 3771.05, \"system.proc.memory.percent\": 2.94, \"system.proc.cpu.threads\": 49.0, \"system.network.sent\": 36844181265, \"system.network.recv\": 32721888961, \"_wandb\": true, \"_timestamp\": 1590955464, \"_runtime\": 37095}\\n']}, 'wandb-history.jsonl': {'offset': 4703, 'content': ['{\"train_loss\": 5.252139243087243e-05, \"train_ent_seq_acc\": 0.500974048700549, \"train_head_rel_acc\": 0.18809549566213846, \"train_tail_rel_acc\": 0.18526193209173777, \"learning_rate\": 1.8808716229419432e-06, \"time\": 6331.036475658417, \"_runtime\": 37078.08778500557, \"_timestamp\": 1590955450.073021, \"_step\": 4703}\\n', '{\"train_loss\": 5.253203951658153e-05, \"train_ent_seq_acc\": 0.5009376328454733, \"train_head_rel_acc\": 0.18810813180195174, \"train_tail_rel_acc\": 0.18525988496851864, \"learning_rate\": 1.868955854664403e-06, \"time\": 6337.676522016525, \"_runtime\": 37084.72783255577, \"_timestamp\": 1590955456.7130685, \"_step\": 4704}\\n', '{\"train_loss\": 5.252426591166534e-05, \"train_ent_seq_acc\": 0.5008836220094702, \"train_head_rel_acc\": 0.18805005228123803, \"train_tail_rel_acc\": 0.18520482553933662, \"learning_rate\": 1.8570764852262195e-06, \"time\": 6344.495892524719, \"_runtime\": 37091.54733085632, \"_timestamp\": 1590955463.5325668, \"_step\": 4705}\\n', '{\"train_loss\": 5.253296008767976e-05, \"train_ent_seq_acc\": 0.500970953570977, \"train_head_rel_acc\": 0.18804505629195284, \"train_tail_rel_acc\": 0.18520284324218353, \"learning_rate\": 1.845233533320692e-06, \"time\": 6351.186327457428, \"_runtime\": 37098.23764371872, \"_timestamp\": 1590955470.2228796, \"_step\": 4706}\\n', '{\"train_loss\": 5.251882833411987e-05, \"train_ent_seq_acc\": 0.5009346565892111, \"train_head_rel_acc\": 0.18798716641736277, \"train_tail_rel_acc\": 0.18521849995705833, \"learning_rate\": 1.8334270175837914e-06, \"time\": 6357.753525257111, \"_runtime\": 37104.80483484268, \"_timestamp\": 1590955476.7900708, \"_step\": 4707}\\n']}, 'wandb-summary.json': {'offset': 0, 'content': ['{\"_step\": 4707, \"train_ent_seq_acc\": 0.5009346565892111, \"learning_rate\": 1.8334270175837914e-06, \"train_head_rel_acc\": 0.18798716641736277, \"time\": 6357.753525257111, \"_timestamp\": 1590955476.7900708, \"train_loss\": 5.251882833411987e-05, \"train_tail_rel_acc\": 0.18521849995705833, \"_runtime\": 37104.80483484268, \"val_ent_seq_acc\": 0.4846863023518027, \"val_prec\": 0.26970954356846216, \"val_f1\": 0.39491853075336897, \"val_head_rel_acc\": 0.19550996624019717, \"val_tail_rel_acc\": 0.18592031391787806, \"val_recall\": 0.7371134020618366}\\n']}}}}\n"
     ]
    },
    {
     "name": "stdout",
     "output_type": "stream",
     "text": [
      "Epoch: 4/50, batch: 12522/12522, train_loss: 5.213044940238321e-05, t_ent_sample_acc: 0.5038465747252437, t_head_rel_sample_acc: 0.19292711959448205, t_tail_rel_sample_acc: 0.19018527853152867,lr: 1.9669909867570113e-13, batch_time: 0.46047019958496094, total_time: 8425.863640546799 ---------------"
     ]
    },
    {
     "name": "stderr",
     "output_type": "stream",
     "text": [
      "Validating: 100%|██████████| 1121/1121 [05:46<00:00,  3.24it/s]"
     ]
    },
    {
     "name": "stdout",
     "output_type": "stream",
     "text": [
      "{'time': 346.1007254123688,\n",
      " 'val_ent_seq_acc': 0.4988849350615977,\n",
      " 'val_f1': 0.4950827834731039,\n",
      " 'val_head_rel_acc': 0.2554267078744419,\n",
      " 'val_prec': 0.37504715201810285,\n",
      " 'val_recall': 0.7281215671914916,\n",
      " 'val_tail_rel_acc': 0.25170978835977476}\n",
      "Current avf_f1: 0.4950827834731039, Best f1: 0.4950827834731039\n"
     ]
    },
    {
     "name": "stderr",
     "output_type": "stream",
     "text": [
      "\n"
     ]
    },
    {
     "name": "stdout",
     "output_type": "stream",
     "text": [
      "Epoch: 5/50, batch: 8240/12522, train_loss: 5.0892831514162924e-05, t_ent_sample_acc: 0.5031755776858879, t_head_rel_sample_acc: 0.213450652236137, t_tail_rel_sample_acc: 0.21088188198910465,lr: 3.779485747706087e-05, batch_time: 0.6702923774719238, total_time: 5366.666801929474 -------------------"
     ]
    },
    {
     "name": "stderr",
     "output_type": "stream",
     "text": [
      "requests_with_retry encountered retryable exception: ('Connection aborted.', OSError(\"(104, 'ECONNRESET')\")). args: ('https://api.wandb.ai/files/wycheng/nyt_single/1b7r0hef/file_stream',), kwargs: {'json': {'files': {'output.log': {'offset': 46, 'content': ['2020-05-31T22:00:15.536104 Epoch: 5/50, batch: 6925/12522, train_loss: 5.1758081120658884e-05, t_ent_sample_acc: 0.4983874961809131, t_head_rel_sample_acc: 0.20637786286402265, t_tail_rel_sample_acc: 0.20418773045393535,lr: 4.1148032568157663e-05, batch_time: 0.568371057510376, total_time: 4523.455011606216 -------------\\r']}, 'wandb-events.jsonl': {'offset': 1361, 'content': ['{\"system.gpu.0.gpu\": 0.0, \"system.gpu.0.memory\": 0.0, \"system.gpu.0.memoryAllocated\": 68.73, \"system.gpu.0.temp\": 39.0, \"system.gpu.process.0.gpu\": 0.0, \"system.gpu.process.0.memory\": 0.0, \"system.gpu.process.0.memoryAllocated\": 68.73, \"system.gpu.process.0.temp\": 39.0, \"system.gpu.0.powerWatts\": 38.49, \"system.gpu.0.powerPercent\": 15.4, \"system.gpu.process.0.powerWatts\": 38.49, \"system.gpu.process.0.powerPercent\": 15.4, \"system.gpu.1.gpu\": 81.67, \"system.gpu.1.memory\": 9.6, \"system.gpu.1.memoryAllocated\": 79.39, \"system.gpu.1.temp\": 46.2, \"system.gpu.process.1.gpu\": 81.67, \"system.gpu.process.1.memory\": 9.6, \"system.gpu.process.1.memoryAllocated\": 79.39, \"system.gpu.process.1.temp\": 46.2, \"system.gpu.1.powerWatts\": 54.07, \"system.gpu.1.powerPercent\": 21.63, \"system.gpu.process.1.powerWatts\": 54.07, \"system.gpu.process.1.powerPercent\": 21.63, \"system.cpu\": 80.23, \"system.memory\": 49.41, \"system.disk\": 83.1, \"system.proc.memory.availableMB\": 64960.63, \"system.proc.memory.rssMB\": 3771.6, \"system.proc.memory.percent\": 2.94, \"system.proc.cpu.threads\": 49.0, \"system.network.sent\": 37173281412, \"system.network.recv\": 32950902925, \"_wandb\": true, \"_timestamp\": 1590962414, \"_runtime\": 44045}\\n']}, 'wandb-history.jsonl': {'offset': 5704, 'content': ['{\"train_loss\": 5.1789675084566416e-05, \"train_ent_seq_acc\": 0.49830452122672353, \"train_head_rel_acc\": 0.20585671172267112, \"train_tail_rel_acc\": 0.20382212368992592, \"learning_rate\": 4.1253126056424426e-05, \"time\": 4495.475271940231, \"_runtime\": 44014.91117453575, \"_timestamp\": 1590962386.8964105, \"_step\": 5704}\\n', '{\"train_loss\": 5.1791381153617816e-05, \"train_ent_seq_acc\": 0.4981860509849117, \"train_head_rel_acc\": 0.2057998403831138, \"train_tail_rel_acc\": 0.20379239101702962, \"learning_rate\": 4.122928453670963e-05, \"time\": 4501.433876514435, \"_runtime\": 44020.86977434158, \"_timestamp\": 1590962392.8550103, \"_step\": 5705}\\n', '{\"train_loss\": 5.178784856575864e-05, \"train_ent_seq_acc\": 0.4981886795350148, \"train_head_rel_acc\": 0.20586388931164204, \"train_tail_rel_acc\": 0.20383519778094797, \"learning_rate\": 4.120541747871316e-05, \"time\": 4508.633362770081, \"_runtime\": 44028.06926035881, \"_timestamp\": 1590962400.0544963, \"_step\": 5706}\\n', '{\"train_loss\": 5.177454776034411e-05, \"train_ent_seq_acc\": 0.49826364889751723, \"train_head_rel_acc\": 0.20609656589504882, \"train_tail_rel_acc\": 0.20395022909481883, \"learning_rate\": 4.118152491999203e-05, \"time\": 4514.801738977432, \"_runtime\": 44034.23766422272, \"_timestamp\": 1590962406.2229002, \"_step\": 5707}\\n', '{\"train_loss\": 5.176019405571368e-05, \"train_ent_seq_acc\": 0.4983624829268149, \"train_head_rel_acc\": 0.20637673269400206, \"train_tail_rel_acc\": 0.20420941579352223, \"learning_rate\": 4.1157606898143414e-05, \"time\": 4520.863782405853, \"_runtime\": 44040.29972457886, \"_timestamp\": 1590962412.2849605, \"_step\": 5708}\\n']}, 'wandb-summary.json': {'offset': 0, 'content': ['{\"_step\": 5708, \"train_ent_seq_acc\": 0.4983624829268149, \"learning_rate\": 4.1157606898143414e-05, \"train_head_rel_acc\": 0.20637673269400206, \"time\": 4520.863782405853, \"_timestamp\": 1590962412.2849605, \"train_loss\": 5.176019405571368e-05, \"train_tail_rel_acc\": 0.20420941579352223, \"_runtime\": 44040.29972457886, \"val_ent_seq_acc\": 0.4988849350615977, \"val_prec\": 0.37504715201810285, \"val_f1\": 0.4950827834731039, \"val_head_rel_acc\": 0.2554267078744419, \"val_tail_rel_acc\": 0.25170978835977476, \"val_recall\": 0.7281215671914916}\\n']}}}}\n"
     ]
    },
    {
     "name": "stdout",
     "output_type": "stream",
     "text": [
      "Epoch: 5/50, batch: 9886/12522, train_loss: 4.973762793476994e-05, t_ent_sample_acc: 0.5095421249944142, t_head_rel_sample_acc: 0.22341358660144311, t_tail_rel_sample_acc: 0.22112078196590496,lr: 3.311982838930932e-05, batch_time: 0.5208020210266113, total_time: 6395.279863834381 ----------------"
     ]
    },
    {
     "name": "stderr",
     "output_type": "stream",
     "text": [
      "requests_with_retry encountered retryable exception: ('Connection aborted.', OSError(\"(104, 'ECONNRESET')\")). args: ('https://api.wandb.ai/files/wycheng/nyt_single/1b7r0hef/file_stream',), kwargs: {'json': {'files': {'output.log': {'offset': 47, 'content': ['2020-05-31T22:19:24.291762 Epoch: 5/50, batch: 8724/12522, train_loss: 5.053159634965932e-05, t_ent_sample_acc: 0.5047952124181962, t_head_rel_sample_acc: 0.21580315342173834, t_tail_rel_sample_acc: 0.21364435777136462,lr: 3.646807809012141e-05, batch_time: 0.661970853805542, total_time: 5672.211590051651 -------------\\r']}, 'wandb-events.jsonl': {'offset': 1396, 'content': ['{\"system.gpu.0.gpu\": 0.0, \"system.gpu.0.memory\": 0.0, \"system.gpu.0.memoryAllocated\": 68.73, \"system.gpu.0.temp\": 38.67, \"system.gpu.process.0.gpu\": 0.0, \"system.gpu.process.0.memory\": 0.0, \"system.gpu.process.0.memoryAllocated\": 68.73, \"system.gpu.process.0.temp\": 38.67, \"system.gpu.0.powerWatts\": 38.43, \"system.gpu.0.powerPercent\": 15.37, \"system.gpu.process.0.powerWatts\": 38.43, \"system.gpu.process.0.powerPercent\": 15.37, \"system.gpu.1.gpu\": 96.13, \"system.gpu.1.memory\": 11.07, \"system.gpu.1.memoryAllocated\": 79.39, \"system.gpu.1.temp\": 46.0, \"system.gpu.process.1.gpu\": 96.13, \"system.gpu.process.1.memory\": 11.07, \"system.gpu.process.1.memoryAllocated\": 79.39, \"system.gpu.process.1.temp\": 46.0, \"system.gpu.1.powerWatts\": 66.1, \"system.gpu.1.powerPercent\": 26.44, \"system.gpu.process.1.powerWatts\": 66.1, \"system.gpu.process.1.powerPercent\": 26.44, \"system.cpu\": 81.63, \"system.memory\": 49.7, \"system.disk\": 83.1, \"system.proc.memory.availableMB\": 64575.29, \"system.proc.memory.rssMB\": 3771.2, \"system.proc.memory.percent\": 2.94, \"system.proc.cpu.threads\": 49.0, \"system.network.sent\": 37234243321, \"system.network.recv\": 32993857364, \"_wandb\": true, \"_timestamp\": 1590963540, \"_runtime\": 45171}\\n']}, 'wandb-history.jsonl': {'offset': 5884, 'content': ['{\"train_loss\": 5.0579343382773236e-05, \"train_ent_seq_acc\": 0.5043965863091181, \"train_head_rel_acc\": 0.21539377684541566, \"train_tail_rel_acc\": 0.2132818849851508, \"learning_rate\": 3.6587736604589364e-05, \"time\": 5644.305290460587, \"_runtime\": 45163.74122929573, \"_timestamp\": 1590963535.7264652, \"_step\": 5884}\\n', '{\"train_loss\": 5.0569770440277334e-05, \"train_ent_seq_acc\": 0.5045832968179272, \"train_head_rel_acc\": 0.21556783379831929, \"train_tail_rel_acc\": 0.21340084113647853, \"learning_rate\": 3.655993900224992e-05, \"time\": 5650.879254579544, \"_runtime\": 45170.315153598785, \"_timestamp\": 1590963542.3003895, \"_step\": 5885}\\n', '{\"train_loss\": 5.055100389355659e-05, \"train_ent_seq_acc\": 0.5047121134921335, \"train_head_rel_acc\": 0.21570318089745644, \"train_tail_rel_acc\": 0.21350036896812327, \"learning_rate\": 3.653212320927627e-05, \"time\": 5657.338302850723, \"_runtime\": 45176.77420806885, \"_timestamp\": 1590963548.759444, \"_step\": 5886}\\n', '{\"train_loss\": 5.0546969268588074e-05, \"train_ent_seq_acc\": 0.5047641028158838, \"train_head_rel_acc\": 0.2157425527532398, \"train_tail_rel_acc\": 0.21358053538969252, \"learning_rate\": 3.650428926943914e-05, \"time\": 5663.806061267853, \"_runtime\": 45183.24198842049, \"_timestamp\": 1590963555.2272243, \"_step\": 5887}\\n', '{\"train_loss\": 5.053602403155399e-05, \"train_ent_seq_acc\": 0.5047395290765668, \"train_head_rel_acc\": 0.21578183432037357, \"train_tail_rel_acc\": 0.21360318509144408, \"learning_rate\": 3.647643722653781e-05, \"time\": 5670.3107323646545, \"_runtime\": 45189.746678590775, \"_timestamp\": 1590963561.7319145, \"_step\": 5888}\\n']}, 'wandb-summary.json': {'offset': 0, 'content': ['{\"_step\": 5888, \"train_ent_seq_acc\": 0.5047395290765668, \"learning_rate\": 3.647643722653781e-05, \"train_head_rel_acc\": 0.21578183432037357, \"time\": 5670.3107323646545, \"_timestamp\": 1590963561.7319145, \"train_loss\": 5.053602403155399e-05, \"train_tail_rel_acc\": 0.21360318509144408, \"_runtime\": 45189.746678590775, \"val_ent_seq_acc\": 0.4988849350615977, \"val_prec\": 0.37504715201810285, \"val_f1\": 0.4950827834731039, \"val_head_rel_acc\": 0.2554267078744419, \"val_tail_rel_acc\": 0.25170978835977476, \"val_recall\": 0.7281215671914916}\\n']}}}}\n"
     ]
    },
    {
     "name": "stdout",
     "output_type": "stream",
     "text": [
      "Epoch: 5/50, batch: 12522/12522, train_loss: 4.842630972867387e-05, t_ent_sample_acc: 0.5160783805039968, t_head_rel_sample_acc: 0.236916365866805, t_tail_rel_sample_acc: 0.23538572646914305,lr: 2.5003136073156602e-05, batch_time: 0.5160801410675049, total_time: 8109.55095911026 ------------------"
     ]
    },
    {
     "name": "stderr",
     "output_type": "stream",
     "text": [
      "Validating: 100%|██████████| 1121/1121 [05:29<00:00,  3.40it/s]"
     ]
    },
    {
     "name": "stdout",
     "output_type": "stream",
     "text": [
      "{'time': 329.7727723121643,\n",
      " 'val_ent_seq_acc': 0.5237882964904557,\n",
      " 'val_f1': 0.6154942704705353,\n",
      " 'val_head_rel_acc': 0.35124889255420744,\n",
      " 'val_prec': 0.5293285552621603,\n",
      " 'val_recall': 0.7351669941060808,\n",
      " 'val_tail_rel_acc': 0.3506541852436355}\n",
      "Current avf_f1: 0.6154942704705353, Best f1: 0.6154942704705353\n"
     ]
    },
    {
     "name": "stderr",
     "output_type": "stream",
     "text": [
      "\n"
     ]
    },
    {
     "name": "stdout",
     "output_type": "stream",
     "text": [
      "Epoch: 6/50, batch: 1719/12522, train_loss: 4.153280778699449e-05, t_ent_sample_acc: 0.5543921019463708, t_head_rel_sample_acc: 0.31142137530343766, t_tail_rel_sample_acc: 0.3162691552688245,lr: 1.9653835388657758e-05, batch_time: 0.601557731628418, total_time: 1103.1781709194183 ----------------"
     ]
    },
    {
     "name": "stderr",
     "output_type": "stream",
     "text": [
      "requests_with_retry encountered retryable exception: ('Connection aborted.', OSError(\"(104, 'ECONNRESET')\")). args: ('https://api.wandb.ai/files/wycheng/nyt_single/1b7r0hef/file_stream',), kwargs: {'json': {'files': {'output.log': {'offset': 57, 'content': ['2020-05-31T23:09:51.349504 Epoch: 6/50, batch: 391/12522, train_loss: 4.212367934822563e-05, t_ent_sample_acc: 0.544757046167503, t_head_rel_sample_acc: 0.30264280244822395, t_tail_rel_sample_acc: 0.30988917936144583,lr: 2.3777419296433202e-05, batch_time: 0.5748865604400635, total_time: 259.4496901035309 -------------\\r']}, 'wandb-history.jsonl': {'offset': 6305, 'content': ['{\"train_loss\": 4.224752869816534e-05, \"train_ent_seq_acc\": 0.545584058532348, \"train_head_rel_acc\": 0.3005698068104578, \"train_tail_rel_acc\": 0.3091168154423733, \"learning_rate\": 2.3902726998205545e-05, \"time\": 234.50519156455994, \"_runtime\": 48193.69064998627, \"_timestamp\": 1590966565.675886, \"_step\": 6305}\\n', '{\"train_loss\": 4.238867695877713e-05, \"train_ent_seq_acc\": 0.5438596619463363, \"train_head_rel_acc\": 0.3000923423638304, \"train_tail_rel_acc\": 0.3084025917125871, \"learning_rate\": 2.3871397359524776e-05, \"time\": 241.11707711219788, \"_runtime\": 48200.30253410339, \"_timestamp\": 1590966572.28777, \"_step\": 6306}\\n', '{\"train_loss\": 4.2218535612861316e-05, \"train_ent_seq_acc\": 0.5435759337603885, \"train_head_rel_acc\": 0.30233603503022877, \"train_tail_rel_acc\": 0.3108715247111822, \"learning_rate\": 2.3840069496804747e-05, \"time\": 247.49153566360474, \"_runtime\": 48206.67698907852, \"_timestamp\": 1590966578.662225, \"_step\": 6307}\\n', '{\"train_loss\": 4.217267885146934e-05, \"train_ent_seq_acc\": 0.5441819901072135, \"train_head_rel_acc\": 0.3027121671854355, \"train_tail_rel_acc\": 0.309711292386055, \"learning_rate\": 2.3808743459342754e-05, \"time\": 253.56671023368835, \"_runtime\": 48212.75217008591, \"_timestamp\": 1590966584.737406, \"_step\": 6308}\\n', '{\"train_loss\": 4.212367934822563e-05, \"train_ent_seq_acc\": 0.544757046167503, \"train_head_rel_acc\": 0.30264280244822395, \"train_tail_rel_acc\": 0.30988917936144583, \"learning_rate\": 2.3777419296433202e-05, \"time\": 259.45174050331116, \"_runtime\": 48218.637202978134, \"_timestamp\": 1590966590.622439, \"_step\": 6309}\\n']}, 'wandb-summary.json': {'offset': 0, 'content': ['{\"_step\": 6309, \"train_ent_seq_acc\": 0.544757046167503, \"learning_rate\": 2.3777419296433202e-05, \"train_head_rel_acc\": 0.30264280244822395, \"time\": 259.45174050331116, \"_timestamp\": 1590966590.622439, \"train_loss\": 4.212367934822563e-05, \"train_tail_rel_acc\": 0.30988917936144583, \"_runtime\": 48218.637202978134, \"val_ent_seq_acc\": 0.5237882964904557, \"val_prec\": 0.5293285552621603, \"val_f1\": 0.6154942704705353, \"val_head_rel_acc\": 0.35124889255420744, \"val_tail_rel_acc\": 0.3506541852436355, \"val_recall\": 0.7351669941060808}\\n']}}}}\n"
     ]
    },
    {
     "name": "stdout",
     "output_type": "stream",
     "text": [
      "Epoch: 6/50, batch: 5424/12522, train_loss: 4.055274690920999e-05, t_ent_sample_acc: 0.5603798070955461, t_head_rel_sample_acc: 0.3193215405249798, t_tail_rel_sample_acc: 0.31990536564691846,lr: 9.274790488224547e-06, batch_time: 0.7595233917236328, total_time: 3497.001211643219 ------------------"
     ]
    },
    {
     "name": "stderr",
     "output_type": "stream",
     "text": [
      "requests_with_retry encountered retryable exception: ('Connection aborted.', OSError(\"(104, 'ECONNRESET')\")). args: ('https://api.wandb.ai/files/wycheng/nyt_single/1b7r0hef/file_stream',), kwargs: {'json': {'files': {'output.log': {'offset': 58, 'content': ['2020-05-31T23:51:45.382953 Epoch: 6/50, batch: 4299/12522, train_loss: 4.0994011793338225e-05, t_ent_sample_acc: 0.5561758683646494, t_head_rel_sample_acc: 0.31608126570205686, t_tail_rel_sample_acc: 0.31759324545401646,lr: 1.216475181315674e-05, batch_time: 0.6422853469848633, total_time: 2773.608177423477 -------------\\r']}, 'wandb-events.jsonl': {'offset': 1569, 'content': ['{\"system.gpu.0.gpu\": 0.0, \"system.gpu.0.memory\": 0.0, \"system.gpu.0.memoryAllocated\": 49.98, \"system.gpu.0.temp\": 39.0, \"system.gpu.process.0.gpu\": 0.0, \"system.gpu.process.0.memory\": 0.0, \"system.gpu.process.0.memoryAllocated\": 49.98, \"system.gpu.process.0.temp\": 39.0, \"system.gpu.0.powerWatts\": 38.69, \"system.gpu.0.powerPercent\": 15.48, \"system.gpu.process.0.powerWatts\": 38.69, \"system.gpu.process.0.powerPercent\": 15.48, \"system.gpu.1.gpu\": 99.47, \"system.gpu.1.memory\": 20.47, \"system.gpu.1.memoryAllocated\": 56.28, \"system.gpu.1.temp\": 47.07, \"system.gpu.process.1.gpu\": 99.47, \"system.gpu.process.1.memory\": 20.47, \"system.gpu.process.1.memoryAllocated\": 56.28, \"system.gpu.process.1.temp\": 47.07, \"system.gpu.1.powerWatts\": 79.15, \"system.gpu.1.powerPercent\": 31.66, \"system.gpu.process.1.powerWatts\": 79.15, \"system.gpu.process.1.powerPercent\": 31.66, \"system.cpu\": 60.46, \"system.memory\": 38.6, \"system.disk\": 83.1, \"system.proc.memory.availableMB\": 78832.66, \"system.proc.memory.rssMB\": 3785.29, \"system.proc.memory.percent\": 2.95, \"system.proc.cpu.threads\": 49.0, \"system.network.sent\": 37483923467, \"system.network.recv\": 33165230802, \"_wandb\": true, \"_timestamp\": 1590969091, \"_runtime\": 50722}\\n']}, 'wandb-history.jsonl': {'offset': 6696, 'content': ['{\"train_loss\": 4.0975097664715846e-05, \"train_ent_seq_acc\": 0.5565203921395102, \"train_head_rel_acc\": 0.3162403256575341, \"train_tail_rel_acc\": 0.3177657893910651, \"learning_rate\": 1.2267162880275524e-05, \"time\": 2748.9189054965973, \"_runtime\": 50708.104346990585, \"_timestamp\": 1590969080.089583, \"_step\": 6696}\\n', '{\"train_loss\": 4.097581142505985e-05, \"train_ent_seq_acc\": 0.5563880568978603, \"train_head_rel_acc\": 0.3160071866876821, \"train_tail_rel_acc\": 0.3174900558745099, \"learning_rate\": 1.2240184453574657e-05, \"time\": 2755.32426738739, \"_runtime\": 50714.50970840454, \"_timestamp\": 1590969086.4949443, \"_step\": 6697}\\n', '{\"train_loss\": 4.098229561130211e-05, \"train_ent_seq_acc\": 0.556334203344532, \"train_head_rel_acc\": 0.3158530003311366, \"train_tail_rel_acc\": 0.3174102691095083, \"learning_rate\": 1.2213226105624798e-05, \"time\": 2761.976956129074, \"_runtime\": 50721.16239929199, \"_timestamp\": 1590969093.1476352, \"_step\": 6698}\\n', '{\"train_loss\": 4.1003778828769265e-05, \"train_ent_seq_acc\": 0.5560087138811655, \"train_head_rel_acc\": 0.31585489656230115, \"train_tail_rel_acc\": 0.31744737717564137, \"learning_rate\": 1.2186287878847439e-05, \"time\": 2768.8821184635162, \"_runtime\": 50728.067641973495, \"_timestamp\": 1590969100.052878, \"_step\": 6699}\\n']}, 'wandb-summary.json': {'offset': 0, 'content': ['{\"_step\": 6699, \"train_ent_seq_acc\": 0.5560087138811655, \"learning_rate\": 1.2186287878847439e-05, \"train_head_rel_acc\": 0.31585489656230115, \"time\": 2768.8821184635162, \"_timestamp\": 1590969100.052878, \"train_loss\": 4.1003778828769265e-05, \"train_tail_rel_acc\": 0.31744737717564137, \"_runtime\": 50728.067641973495, \"val_ent_seq_acc\": 0.5237882964904557, \"val_prec\": 0.5293285552621603, \"val_f1\": 0.6154942704705353, \"val_head_rel_acc\": 0.35124889255420744, \"val_tail_rel_acc\": 0.3506541852436355, \"val_recall\": 0.7351669941060808}\\n']}}}}\n"
     ]
    },
    {
     "name": "stdout",
     "output_type": "stream",
     "text": [
      "Epoch: 6/50, batch: 8392/12522, train_loss: 4.007719253179929e-05, t_ent_sample_acc: 0.5614672840561352, t_head_rel_sample_acc: 0.32634255520864486, t_tail_rel_sample_acc: 0.3260843729701522,lr: 3.282254629069892e-06, batch_time: 0.6841816902160645, total_time: 5408.075725317001 -----------------"
     ]
    },
    {
     "name": "stderr",
     "output_type": "stream",
     "text": [
      "requests_with_retry encountered retryable exception: ('Connection aborted.', RemoteDisconnected('Remote end closed connection without response')). args: ('https://api.wandb.ai/files/wycheng/nyt_single/1b7r0hef/file_stream',), kwargs: {'json': {'files': {'output.log': {'offset': 59, 'content': ['2020-06-01T00:32:09.272159 Epoch: 6/50, batch: 8060/12522, train_loss: 4.0126353115077063e-05, t_ent_sample_acc: 0.5609594842174065, t_head_rel_sample_acc: 0.32553764114493766, t_tail_rel_sample_acc: 0.324937972128761,lr: 3.816654165253619e-06, batch_time: 0.6464824676513672, total_time: 5197.426616191864 -------------\\r']}, 'wandb-events.jsonl': {'offset': 1645, 'content': ['{\"system.gpu.0.gpu\": 0.0, \"system.gpu.0.memory\": 0.0, \"system.gpu.0.memoryAllocated\": 49.98, \"system.gpu.0.temp\": 39.0, \"system.gpu.process.0.gpu\": 0.0, \"system.gpu.process.0.memory\": 0.0, \"system.gpu.process.0.memoryAllocated\": 49.98, \"system.gpu.process.0.temp\": 39.0, \"system.gpu.0.powerWatts\": 38.66, \"system.gpu.0.powerPercent\": 15.46, \"system.gpu.process.0.powerWatts\": 38.66, \"system.gpu.process.0.powerPercent\": 15.46, \"system.gpu.1.gpu\": 98.33, \"system.gpu.1.memory\": 19.53, \"system.gpu.1.memoryAllocated\": 56.28, \"system.gpu.1.temp\": 47.0, \"system.gpu.process.1.gpu\": 98.33, \"system.gpu.process.1.memory\": 19.53, \"system.gpu.process.1.memoryAllocated\": 56.28, \"system.gpu.process.1.temp\": 47.0, \"system.gpu.1.powerWatts\": 75.37, \"system.gpu.1.powerPercent\": 30.15, \"system.gpu.process.1.powerWatts\": 75.37, \"system.gpu.process.1.powerPercent\": 30.15, \"system.cpu\": 60.47, \"system.memory\": 39.7, \"system.disk\": 83.1, \"system.proc.memory.availableMB\": 77446.25, \"system.proc.memory.rssMB\": 3786.06, \"system.proc.memory.percent\": 2.95, \"system.proc.cpu.threads\": 49.0, \"system.network.sent\": 37588792706, \"system.network.recv\": 33198874191, \"_wandb\": true, \"_timestamp\": 1590971525, \"_runtime\": 53156}\\n']}, 'wandb-history.jsonl': {'offset': 7072, 'content': ['{\"train_loss\": 4.014279362767571e-05, \"train_ent_seq_acc\": 0.5609026441712612, \"train_head_rel_acc\": 0.32541662144729316, \"train_tail_rel_acc\": 0.32489715185327106, \"learning_rate\": 3.881859762984974e-06, \"time\": 5172.630471944809, \"_runtime\": 53131.81592011452, \"_timestamp\": 1590971503.801156, \"_step\": 7072}\\n', '{\"train_loss\": 4.0130912883590556e-05, \"train_ent_seq_acc\": 0.5608890684922923, \"train_head_rel_acc\": 0.3255302437292715, \"train_tail_rel_acc\": 0.3249491622147087, \"learning_rate\": 3.865092131065065e-06, \"time\": 5178.792164325714, \"_runtime\": 53137.97761011124, \"_timestamp\": 1590971509.962846, \"_step\": 7073}\\n', '{\"train_loss\": 4.0131835705767344e-05, \"train_ent_seq_acc\": 0.5609584350040222, \"train_head_rel_acc\": 0.32556067497379493, \"train_tail_rel_acc\": 0.3249595890018777, \"learning_rate\": 3.848357756879292e-06, \"time\": 5185.2923793792725, \"_runtime\": 53144.47782468796, \"_timestamp\": 1590971516.4630606, \"_step\": 7074}\\n', '{\"train_loss\": 4.012834808966889e-05, \"train_ent_seq_acc\": 0.5609448237432306, \"train_head_rel_acc\": 0.3254461210827667, \"train_tail_rel_acc\": 0.3248043789869213, \"learning_rate\": 3.831656666760749e-06, \"time\": 5191.6413559913635, \"_runtime\": 53150.82682156563, \"_timestamp\": 1590971522.8120575, \"_step\": 7075}\\n', '{\"train_loss\": 4.012554030912482e-05, \"train_ent_seq_acc\": 0.5609932733116693, \"train_head_rel_acc\": 0.32553860823365155, \"train_tail_rel_acc\": 0.32493901360886757, \"learning_rate\": 3.814988886990131e-06, \"time\": 5198.102839946747, \"_runtime\": 53157.28833031654, \"_timestamp\": 1590971529.2735662, \"_step\": 7076}\\n']}, 'wandb-summary.json': {'offset': 0, 'content': ['{\"_step\": 7075, \"train_ent_seq_acc\": 0.5609448237432306, \"learning_rate\": 3.831656666760749e-06, \"train_head_rel_acc\": 0.3254461210827667, \"time\": 5191.6413559913635, \"_timestamp\": 1590971522.8120575, \"train_loss\": 4.012834808966889e-05, \"train_tail_rel_acc\": 0.3248043789869213, \"_runtime\": 53150.82682156563, \"val_ent_seq_acc\": 0.5237882964904557, \"val_prec\": 0.5293285552621603, \"val_f1\": 0.6154942704705353, \"val_head_rel_acc\": 0.35124889255420744, \"val_tail_rel_acc\": 0.3506541852436355, \"val_recall\": 0.7351669941060808}\\n']}}}}\n"
     ]
    },
    {
     "name": "stdout",
     "output_type": "stream",
     "text": [
      "Epoch: 6/50, batch: 12522/12522, train_loss: 3.95438708042897e-05, t_ent_sample_acc: 0.5644865174336168, t_head_rel_sample_acc: 0.3339056662859351, t_tail_rel_sample_acc: 0.33281425390356245,lr: 1.9669909867570113e-13, batch_time: 0.5409181118011475, total_time: 8235.676361560822 -----------------"
     ]
    },
    {
     "name": "stderr",
     "output_type": "stream",
     "text": [
      "Validating:   5%|▍         | 54/1121 [00:18<04:48,  3.70it/s]requests_with_retry encountered retryable exception: ('Connection aborted.', OSError(\"(110, 'ETIMEDOUT')\")). args: ('https://api.wandb.ai/files/wycheng/nyt_single/1b7r0hef/file_stream',), kwargs: {'json': {'files': {'output.log': {'offset': 60, 'content': ['2020-06-01T01:07:02.733486 Epoch: 6/50, batch: 11179/12522, train_loss: 3.966136397147677e-05, t_ent_sample_acc: 0.5640635852449449, t_head_rel_sample_acc: 0.33243880580678503, t_tail_rel_sample_acc: 0.33181263182903087,lr: 3.5446384935976517e-07, batch_time: 0.6990571022033691, total_time: 7290.857644319534 -------------\\r']}, 'wandb-events.jsonl': {'offset': 1710, 'content': ['{\"system.gpu.0.gpu\": 0.0, \"system.gpu.0.memory\": 0.0, \"system.gpu.0.memoryAllocated\": 49.98, \"system.gpu.0.temp\": 39.0, \"system.gpu.process.0.gpu\": 0.0, \"system.gpu.process.0.memory\": 0.0, \"system.gpu.process.0.memoryAllocated\": 49.98, \"system.gpu.process.0.temp\": 39.0, \"system.gpu.0.powerWatts\": 38.7, \"system.gpu.0.powerPercent\": 15.48, \"system.gpu.process.0.powerWatts\": 38.7, \"system.gpu.process.0.powerPercent\": 15.48, \"system.gpu.1.gpu\": 95.0, \"system.gpu.1.memory\": 13.87, \"system.gpu.1.memoryAllocated\": 56.28, \"system.gpu.1.temp\": 46.4, \"system.gpu.process.1.gpu\": 95.0, \"system.gpu.process.1.memory\": 13.87, \"system.gpu.process.1.memoryAllocated\": 56.28, \"system.gpu.process.1.temp\": 46.4, \"system.gpu.1.powerWatts\": 64.01, \"system.gpu.1.powerPercent\": 25.6, \"system.gpu.process.1.powerWatts\": 64.01, \"system.gpu.process.1.powerPercent\": 25.6, \"system.cpu\": 78.33, \"system.memory\": 40.3, \"system.disk\": 83.1, \"system.proc.memory.availableMB\": 76682.81, \"system.proc.memory.rssMB\": 3785.41, \"system.proc.memory.percent\": 2.95, \"system.proc.cpu.threads\": 49.0, \"system.network.sent\": 37696265015, \"system.network.recv\": 33241113485, \"_wandb\": true, \"_timestamp\": 1590973606, \"_runtime\": 55237}\\n']}, 'wandb-history.jsonl': {'offset': 7384, 'content': ['{\"train_loss\": 3.9667966043859855e-05, \"train_ent_seq_acc\": 0.5641324972910573, \"train_head_rel_acc\": 0.33243575470418224, \"train_tail_rel_acc\": 0.33176256568590645, \"learning_rate\": 3.747403652425263e-07, \"time\": 7264.5562245845795, \"_runtime\": 55223.74172830582, \"_timestamp\": 1590973595.7269642, \"_step\": 7384}\\n', '{\"train_loss\": 3.966991935349003e-05, \"train_ent_seq_acc\": 0.5641048772098687, \"train_head_rel_acc\": 0.33242161329974296, \"train_tail_rel_acc\": 0.3317490279829542, \"learning_rate\": 3.6935017089601563e-07, \"time\": 7271.409914493561, \"_runtime\": 55230.59537935257, \"_timestamp\": 1590973602.5806153, \"_step\": 7385}\\n', '{\"train_loss\": 3.9667485896882406e-05, \"train_ent_seq_acc\": 0.564017574815284, \"train_head_rel_acc\": 0.33246722903936077, \"train_tail_rel_acc\": 0.33181017929241335, \"learning_rate\": 3.6399873515724213e-07, \"time\": 7277.813079595566, \"_runtime\": 55236.99853467941, \"_timestamp\": 1590973608.9837706, \"_step\": 7386}\\n', '{\"train_loss\": 3.966413509386615e-05, \"train_ent_seq_acc\": 0.5640647049815533, \"train_head_rel_acc\": 0.33245308477928087, \"train_tail_rel_acc\": 0.33181154279073494, \"learning_rate\": 3.586860664471836e-07, \"time\": 7285.052144289017, \"_runtime\": 55244.23759675026, \"_timestamp\": 1590973616.2228327, \"_step\": 7387}\\n']}, 'wandb-summary.json': {'offset': 0, 'content': ['{\"_step\": 7387, \"train_ent_seq_acc\": 0.5640647049815533, \"learning_rate\": 3.586860664471836e-07, \"train_head_rel_acc\": 0.33245308477928087, \"time\": 7285.052144289017, \"_timestamp\": 1590973616.2228327, \"train_loss\": 3.966413509386615e-05, \"train_tail_rel_acc\": 0.33181154279073494, \"_runtime\": 55244.23759675026, \"val_ent_seq_acc\": 0.5237882964904557, \"val_prec\": 0.5293285552621603, \"val_f1\": 0.6154942704705353, \"val_head_rel_acc\": 0.35124889255420744, \"val_tail_rel_acc\": 0.3506541852436355, \"val_recall\": 0.7351669941060808}\\n']}}}}\n",
      "Validating: 100%|██████████| 1121/1121 [05:32<00:00,  3.37it/s]"
     ]
    },
    {
     "name": "stdout",
     "output_type": "stream",
     "text": [
      "{'time': 332.6062421798706,\n",
      " 'val_ent_seq_acc': 0.5289919839891124,\n",
      " 'val_f1': 0.6428532235452967,\n",
      " 'val_head_rel_acc': 0.38477550611817124,\n",
      " 'val_prec': 0.5524330441342837,\n",
      " 'val_recall': 0.7686655294580663,\n",
      " 'val_tail_rel_acc': 0.3820993239516982}\n",
      "Current avf_f1: 0.6428532235452967, Best f1: 0.6428532235452967\n"
     ]
    },
    {
     "name": "stderr",
     "output_type": "stream",
     "text": [
      "\n"
     ]
    },
    {
     "name": "stdout",
     "output_type": "stream",
     "text": [
      "Epoch: 7/50, batch: 5300/12522, train_loss: 4.012963701688074e-05, t_ent_sample_acc: 0.5560063024961723, t_head_rel_sample_acc: 0.3279245351170594, t_tail_rel_sample_acc: 0.3277044093861895,lr: 4.4677206380064174e-05, batch_time: 0.7989511489868164, total_time: 3750.3635296821594 ----------------"
     ]
    },
    {
     "name": "stderr",
     "output_type": "stream",
     "text": [
      "requests_with_retry encountered retryable exception: ('Connection aborted.', RemoteDisconnected('Remote end closed connection without response')). args: ('https://api.wandb.ai/files/wycheng/nyt_single/1b7r0hef/file_stream',), kwargs: {'json': {'files': {'output.log': {'offset': 70, 'content': ['2020-06-01T02:27:21.501833 Epoch: 7/50, batch: 5027/12522, train_loss: 4.0150977980879e-05, t_ent_sample_acc: 0.5567270207083769, t_head_rel_sample_acc: 0.32782972635605334, t_tail_rel_sample_acc: 0.32726610328476735,lr: 4.519367240014083e-05, batch_time: 0.6342418193817139, total_time: 3540.8969871997833 -------------\\r']}, 'wandb-events.jsonl': {'offset': 1860, 'content': ['{\"system.gpu.0.gpu\": 0.0, \"system.gpu.0.memory\": 0.0, \"system.gpu.0.memoryAllocated\": 49.98, \"system.gpu.0.temp\": 39.0, \"system.gpu.process.0.gpu\": 0.0, \"system.gpu.process.0.memory\": 0.0, \"system.gpu.process.0.memoryAllocated\": 49.98, \"system.gpu.process.0.temp\": 39.0, \"system.gpu.0.powerWatts\": 38.69, \"system.gpu.0.powerPercent\": 15.48, \"system.gpu.process.0.powerWatts\": 38.69, \"system.gpu.process.0.powerPercent\": 15.48, \"system.gpu.1.gpu\": 99.13, \"system.gpu.1.memory\": 17.93, \"system.gpu.1.memoryAllocated\": 65.3, \"system.gpu.1.temp\": 46.87, \"system.gpu.process.1.gpu\": 99.13, \"system.gpu.process.1.memory\": 17.93, \"system.gpu.process.1.memoryAllocated\": 65.3, \"system.gpu.process.1.temp\": 46.87, \"system.gpu.1.powerWatts\": 81.81, \"system.gpu.1.powerPercent\": 32.73, \"system.gpu.process.1.powerWatts\": 81.81, \"system.gpu.process.1.powerPercent\": 32.73, \"system.cpu\": 71.99, \"system.memory\": 44.38, \"system.disk\": 83.1, \"system.proc.memory.availableMB\": 71411.41, \"system.proc.memory.rssMB\": 3786.07, \"system.proc.memory.percent\": 2.95, \"system.proc.cpu.threads\": 49.0, \"system.network.sent\": 37949638960, \"system.network.recv\": 33360451552, \"_wandb\": true, \"_timestamp\": 1590978428, \"_runtime\": 60059}\\n']}, 'wandb-history.jsonl': {'offset': 8023, 'content': ['{\"train_loss\": 4.0147830609797725e-05, \"train_ent_seq_acc\": 0.5562345687485821, \"train_head_rel_acc\": 0.3278234223252044, \"train_tail_rel_acc\": 0.3273559141746625, \"learning_rate\": 4.5260023329399905e-05, \"time\": 3515.275901556015, \"_runtime\": 60043.21201491356, \"_timestamp\": 1590978415.1972508, \"_step\": 8023}\\n', '{\"train_loss\": 4.0172407083318126e-05, \"train_ent_seq_acc\": 0.5562554287942642, \"train_head_rel_acc\": 0.3277344599506231, \"train_tail_rel_acc\": 0.3273012132954297, \"learning_rate\": 4.5241633903323864e-05, \"time\": 3522.4442241191864, \"_runtime\": 60050.38033890724, \"_timestamp\": 1590978422.3655748, \"_step\": 8024}\\n', '{\"train_loss\": 4.016495157808444e-05, \"train_ent_seq_acc\": 0.5564092462427054, \"train_head_rel_acc\": 0.32794519409617606, \"train_tail_rel_acc\": 0.32744629170825157, \"learning_rate\": 4.522321262516298e-05, \"time\": 3529.579435825348, \"_runtime\": 60057.5155544281, \"_timestamp\": 1590978429.5007904, \"_step\": 8025}\\n', '{\"train_loss\": 4.015476912593709e-05, \"train_ent_seq_acc\": 0.5565956448878313, \"train_head_rel_acc\": 0.32802231315715547, \"train_tail_rel_acc\": 0.32749121048682667, \"learning_rate\": 4.520475952390482e-05, \"time\": 3536.5540447235107, \"_runtime\": 60064.490154743195, \"_timestamp\": 1590978436.4753907, \"_step\": 8026}\\n']}, 'wandb-summary.json': {'offset': 0, 'content': ['{\"_step\": 8026, \"train_ent_seq_acc\": 0.5565956448878313, \"learning_rate\": 4.520475952390482e-05, \"train_head_rel_acc\": 0.32802231315715547, \"time\": 3536.5540447235107, \"_timestamp\": 1590978436.4753907, \"train_loss\": 4.015476912593709e-05, \"train_tail_rel_acc\": 0.32749121048682667, \"_runtime\": 60064.490154743195, \"val_ent_seq_acc\": 0.5289919839891124, \"val_prec\": 0.5524330441342837, \"val_f1\": 0.6428532235452967, \"val_head_rel_acc\": 0.38477550611817124, \"val_tail_rel_acc\": 0.3820993239516982, \"val_recall\": 0.7686655294580663}\\n']}}}}\n"
     ]
    },
    {
     "name": "stdout",
     "output_type": "stream",
     "text": [
      "Epoch: 7/50, batch: 5690/12522, train_loss: 4.005628907611496e-05, t_ent_sample_acc: 0.5572935105391462, t_head_rel_sample_acc: 0.3294376166953144, t_tail_rel_sample_acc: 0.3294376167660229,lr: 4.3899525853221645e-05, batch_time: 0.71490478515625, total_time: 4054.9077825546265 ------------------"
     ]
    },
    {
     "name": "stderr",
     "output_type": "stream",
     "text": [
      "requests_with_retry encountered retryable exception: ('Connection aborted.', RemoteDisconnected('Remote end closed connection without response')). args: ('https://api.wandb.ai/files/wycheng/nyt_single/1b7r0hef/file_stream',), kwargs: {'json': {'files': {'output.log': {'offset': 71, 'content': ['2020-06-01T02:32:25.766904 Epoch: 7/50, batch: 5423/12522, train_loss: 4.0082442123457237e-05, t_ent_sample_acc: 0.556180479060278, t_head_rel_sample_acc: 0.3285389459129851, t_tail_rel_sample_acc: 0.3285389459761838,lr: 4.4436935437641355e-05, batch_time: 0.8171505928039551, total_time: 3844.889486312866 -------------\\r']}, 'wandb-events.jsonl': {'offset': 1869, 'content': ['{\"system.gpu.0.gpu\": 0.0, \"system.gpu.0.memory\": 0.0, \"system.gpu.0.memoryAllocated\": 49.98, \"system.gpu.0.temp\": 39.0, \"system.gpu.process.0.gpu\": 0.0, \"system.gpu.process.0.memory\": 0.0, \"system.gpu.process.0.memoryAllocated\": 49.98, \"system.gpu.process.0.temp\": 39.0, \"system.gpu.0.powerWatts\": 38.74, \"system.gpu.0.powerPercent\": 15.5, \"system.gpu.process.0.powerWatts\": 38.74, \"system.gpu.process.0.powerPercent\": 15.5, \"system.gpu.1.gpu\": 99.53, \"system.gpu.1.memory\": 19.27, \"system.gpu.1.memoryAllocated\": 65.3, \"system.gpu.1.temp\": 47.13, \"system.gpu.process.1.gpu\": 99.53, \"system.gpu.process.1.memory\": 19.27, \"system.gpu.process.1.memoryAllocated\": 65.3, \"system.gpu.process.1.temp\": 47.13, \"system.gpu.1.powerWatts\": 75.89, \"system.gpu.1.powerPercent\": 30.36, \"system.gpu.process.1.powerWatts\": 75.89, \"system.gpu.process.1.powerPercent\": 30.36, \"system.cpu\": 63.61, \"system.memory\": 44.5, \"system.disk\": 83.1, \"system.proc.memory.availableMB\": 71246.77, \"system.proc.memory.rssMB\": 3786.07, \"system.proc.memory.percent\": 2.95, \"system.proc.cpu.threads\": 49.0, \"system.network.sent\": 37968828099, \"system.network.recv\": 33372388654, \"_wandb\": true, \"_timestamp\": 1590978718, \"_runtime\": 60349}\\n']}, 'wandb-history.jsonl': {'offset': 8063, 'content': ['{\"train_loss\": 4.008332395641175e-05, \"train_ent_seq_acc\": 0.5562975460850359, \"train_head_rel_acc\": 0.3284486558083103, \"train_tail_rel_acc\": 0.3282631615322257, \"learning_rate\": 4.449989260365979e-05, \"time\": 3820.6889033317566, \"_runtime\": 60348.625041007996, \"_timestamp\": 1590978720.610277, \"_step\": 8063}\\n', '{\"train_loss\": 4.0074667087833855e-05, \"train_ent_seq_acc\": 0.5561624522083138, \"train_head_rel_acc\": 0.3285502752917185, \"train_tail_rel_acc\": 0.3283342659787941, \"learning_rate\": 4.4480252195036374e-05, \"time\": 3828.7084283828735, \"_runtime\": 60356.644704818726, \"_timestamp\": 1590978728.6299407, \"_step\": 8064}\\n', '{\"train_loss\": 4.007238688857023e-05, \"train_ent_seq_acc\": 0.556151063478361, \"train_head_rel_acc\": 0.3286207177253026, \"train_tail_rel_acc\": 0.3284667105204163, \"learning_rate\": 4.446058113243272e-05, \"time\": 3835.40340590477, \"_runtime\": 60363.33956027031, \"_timestamp\": 1590978735.3247962, \"_step\": 8065}\\n', '{\"train_loss\": 4.008271827033692e-05, \"train_ent_seq_acc\": 0.5561704614014671, \"train_head_rel_acc\": 0.3285371770890211, \"train_tail_rel_acc\": 0.3285371771522431, \"learning_rate\": 4.4440879446803055e-05, \"time\": 3843.2617053985596, \"_runtime\": 60371.197820186615, \"_timestamp\": 1590978743.183056, \"_step\": 8066}\\n']}, 'wandb-summary.json': {'offset': 0, 'content': ['{\"_step\": 8066, \"train_ent_seq_acc\": 0.5561704614014671, \"learning_rate\": 4.4440879446803055e-05, \"train_head_rel_acc\": 0.3285371770890211, \"time\": 3843.2617053985596, \"_timestamp\": 1590978743.183056, \"train_loss\": 4.008271827033692e-05, \"train_tail_rel_acc\": 0.3285371771522431, \"_runtime\": 60371.197820186615, \"val_ent_seq_acc\": 0.5289919839891124, \"val_prec\": 0.5524330441342837, \"val_f1\": 0.6428532235452967, \"val_head_rel_acc\": 0.38477550611817124, \"val_tail_rel_acc\": 0.3820993239516982, \"val_recall\": 0.7686655294580663}\\n']}}}}\n"
     ]
    },
    {
     "name": "stdout",
     "output_type": "stream",
     "text": [
      "Epoch: 7/50, batch: 7995/12522, train_loss: 3.925967338414498e-05, t_ent_sample_acc: 0.5594538385790538, t_head_rel_sample_acc: 0.34125495810036066, t_tail_rel_sample_acc: 0.341338343619182,lr: 3.8448796634591154e-05, batch_time: 0.7012143135070801, total_time: 5785.571732282639 -----------------"
     ]
    },
    {
     "name": "stderr",
     "output_type": "stream",
     "text": [
      "requests_with_retry encountered retryable exception: ('Connection aborted.', OSError(\"(104, 'ECONNRESET')\")). args: ('https://api.wandb.ai/files/wycheng/nyt_single/1b7r0hef/file_stream',), kwargs: {'json': {'files': {'output.log': {'offset': 72, 'content': ['2020-06-01T03:00:43.842839 Epoch: 7/50, batch: 7669/12522, train_loss: 3.931626234392456e-05, t_ent_sample_acc: 0.5595471075933812, t_head_rel_sample_acc: 0.3402442805539957, t_tail_rel_sample_acc: 0.3403964082418139,lr: 3.9299136818177804e-05, batch_time: 0.7819123268127441, total_time: 5543.038354873657 -------------\\r']}, 'wandb-events.jsonl': {'offset': 1922, 'content': ['{\"system.gpu.0.gpu\": 0.0, \"system.gpu.0.memory\": 0.0, \"system.gpu.0.memoryAllocated\": 49.98, \"system.gpu.0.temp\": 39.0, \"system.gpu.process.0.gpu\": 0.0, \"system.gpu.process.0.memory\": 0.0, \"system.gpu.process.0.memoryAllocated\": 49.98, \"system.gpu.process.0.temp\": 39.0, \"system.gpu.0.powerWatts\": 38.74, \"system.gpu.0.powerPercent\": 15.5, \"system.gpu.process.0.powerWatts\": 38.74, \"system.gpu.process.0.powerPercent\": 15.5, \"system.gpu.1.gpu\": 99.2, \"system.gpu.1.memory\": 17.4, \"system.gpu.1.memoryAllocated\": 65.3, \"system.gpu.1.temp\": 47.0, \"system.gpu.process.1.gpu\": 99.2, \"system.gpu.process.1.memory\": 17.4, \"system.gpu.process.1.memoryAllocated\": 65.3, \"system.gpu.process.1.temp\": 47.0, \"system.gpu.1.powerWatts\": 81.19, \"system.gpu.1.powerPercent\": 32.47, \"system.gpu.process.1.powerWatts\": 81.19, \"system.gpu.process.1.powerPercent\": 32.47, \"system.cpu\": 63.75, \"system.memory\": 45.17, \"system.disk\": 83.1, \"system.proc.memory.availableMB\": 70426.32, \"system.proc.memory.rssMB\": 3786.07, \"system.proc.memory.percent\": 2.95, \"system.proc.cpu.threads\": 49.0, \"system.network.sent\": 38055710654, \"system.network.recv\": 33439575972, \"_wandb\": true, \"_timestamp\": 1590980421, \"_runtime\": 62052}\\n']}, 'wandb-history.jsonl': {'offset': 8287, 'content': ['{\"train_loss\": 3.9346707622823116e-05, \"train_ent_seq_acc\": 0.559537863226803, \"train_head_rel_acc\": 0.33988556160774974, \"train_tail_rel_acc\": 0.3399729246339297, \"learning_rate\": 3.939672712395511e-05, \"time\": 5513.463784456253, \"_runtime\": 62041.39988732338, \"_timestamp\": 1590980413.3851233, \"_step\": 8287}\\n', '{\"train_loss\": 3.933611049985768e-05, \"train_ent_seq_acc\": 0.5595690050747301, \"train_head_rel_acc\": 0.3399642351359039, \"train_tail_rel_acc\": 0.3400951081382528, \"learning_rate\": 3.9371077090507825e-05, \"time\": 5521.189630746841, \"_runtime\": 62049.12573289871, \"_timestamp\": 1590980421.1109688, \"_step\": 8288}\\n', '{\"train_loss\": 3.9320997095711135e-05, \"train_ent_seq_acc\": 0.5597089837421982, \"train_head_rel_acc\": 0.3400862703053348, \"train_tail_rel_acc\": 0.340195188602892, \"learning_rate\": 3.9345404442840306e-05, \"time\": 5529.074013471603, \"_runtime\": 62057.010113716125, \"_timestamp\": 1590980428.9953496, \"_step\": 8289}\\n', '{\"train_loss\": 3.931538297483839e-05, \"train_ent_seq_acc\": 0.5596745552877085, \"train_head_rel_acc\": 0.34018623167176015, \"train_tail_rel_acc\": 0.3403167630098551, \"learning_rate\": 3.9319709221350845e-05, \"time\": 5536.9983694553375, \"_runtime\": 62064.934472084045, \"_timestamp\": 1590980436.919708, \"_step\": 8290}\\n']}, 'wandb-summary.json': {'offset': 0, 'content': ['{\"_step\": 8290, \"train_ent_seq_acc\": 0.5596745552877085, \"learning_rate\": 3.9319709221350845e-05, \"train_head_rel_acc\": 0.34018623167176015, \"time\": 5536.9983694553375, \"_timestamp\": 1590980436.919708, \"train_loss\": 3.931538297483839e-05, \"train_tail_rel_acc\": 0.3403167630098551, \"_runtime\": 62064.934472084045, \"val_ent_seq_acc\": 0.5289919839891124, \"val_prec\": 0.5524330441342837, \"val_f1\": 0.6428532235452967, \"val_head_rel_acc\": 0.38477550611817124, \"val_tail_rel_acc\": 0.3820993239516982, \"val_recall\": 0.7686655294580663}\\n']}}}}\n"
     ]
    },
    {
     "name": "stdout",
     "output_type": "stream",
     "text": [
      "Epoch: 7/50, batch: 8565/12522, train_loss: 3.910080835943819e-05, t_ent_sample_acc: 0.5600700658538922, t_head_rel_sample_acc: 0.34409418885671667, t_tail_rel_sample_acc: 0.34405527088249627,lr: 3.6908844953903245e-05, batch_time: 0.6239700317382812, total_time: 6211.006031513214 --------------"
     ]
    },
    {
     "name": "stderr",
     "output_type": "stream",
     "text": [
      "requests_with_retry encountered retryable exception: ('Connection aborted.', RemoteDisconnected('Remote end closed connection without response')). args: ('https://api.wandb.ai/files/wycheng/nyt_single/1b7r0hef/file_stream',), kwargs: {'json': {'files': {'output.log': {'offset': 73, 'content': ['2020-06-01T03:08:22.095440 Epoch: 7/50, batch: 8278/12522, train_loss: 3.915448059948094e-05, t_ent_sample_acc: 0.5600588036803238, t_head_rel_sample_acc: 0.342776039957741, t_tail_rel_sample_acc: 0.3427559063558591,lr: 3.769233192488967e-05, batch_time: 0.7605981826782227, total_time: 6001.462550878525 -------------\\r']}, 'wandb-events.jsonl': {'offset': 1936, 'content': ['{\"system.gpu.0.gpu\": 0.0, \"system.gpu.0.memory\": 0.0, \"system.gpu.0.memoryAllocated\": 49.98, \"system.gpu.0.temp\": 39.0, \"system.gpu.process.0.gpu\": 0.0, \"system.gpu.process.0.memory\": 0.0, \"system.gpu.process.0.memoryAllocated\": 49.98, \"system.gpu.process.0.temp\": 39.0, \"system.gpu.0.powerWatts\": 38.71, \"system.gpu.0.powerPercent\": 15.48, \"system.gpu.process.0.powerWatts\": 38.71, \"system.gpu.process.0.powerPercent\": 15.48, \"system.gpu.1.gpu\": 97.0, \"system.gpu.1.memory\": 14.4, \"system.gpu.1.memoryAllocated\": 65.3, \"system.gpu.1.temp\": 46.53, \"system.gpu.process.1.gpu\": 97.0, \"system.gpu.process.1.memory\": 14.4, \"system.gpu.process.1.memoryAllocated\": 65.3, \"system.gpu.process.1.temp\": 46.53, \"system.gpu.1.powerWatts\": 66.99, \"system.gpu.1.powerPercent\": 26.8, \"system.gpu.process.1.powerWatts\": 66.99, \"system.gpu.process.1.powerPercent\": 26.8, \"system.cpu\": 74.05, \"system.memory\": 45.3, \"system.disk\": 83.1, \"system.proc.memory.availableMB\": 70233.91, \"system.proc.memory.rssMB\": 3786.07, \"system.proc.memory.percent\": 2.95, \"system.proc.cpu.threads\": 49.0, \"system.network.sent\": 38075667365, \"system.network.recv\": 33463160762, \"_wandb\": true, \"_timestamp\": 1590980871, \"_runtime\": 62502}\\n']}, 'wandb-history.jsonl': {'offset': 8348, 'content': ['{\"train_loss\": 3.918768107757838e-05, \"train_ent_seq_acc\": 0.560004867077192, \"train_head_rel_acc\": 0.34231283320499384, \"train_tail_rel_acc\": 0.34235328145505095, \"learning_rate\": 3.77921631507814e-05, \"time\": 5973.095724105835, \"_runtime\": 62501.03182840347, \"_timestamp\": 1590980873.0170643, \"_step\": 8348}\\n', '{\"train_loss\": 3.918406036802611e-05, \"train_ent_seq_acc\": 0.5599523423122877, \"train_head_rel_acc\": 0.34236254900199053, \"train_tail_rel_acc\": 0.3423625490886777, \"learning_rate\": 3.776520882367335e-05, \"time\": 5980.684992790222, \"_runtime\": 62508.62109255791, \"_timestamp\": 1590980880.6063285, \"_step\": 8349}\\n', '{\"train_loss\": 3.917795074527456e-05, \"train_ent_seq_acc\": 0.5598595944675056, \"train_head_rel_acc\": 0.3424524946794168, \"train_tail_rel_acc\": 0.3424323196489634, \"learning_rate\": 3.773823440932744e-05, \"time\": 5988.330895423889, \"_runtime\": 62516.26699590683, \"_timestamp\": 1590980888.2522318, \"_step\": 8350}\\n', '{\"train_loss\": 3.9156493538645095e-05, \"train_ent_seq_acc\": 0.5600693318157354, \"train_head_rel_acc\": 0.3426631272358007, \"train_tail_rel_acc\": 0.34266312732227827, \"learning_rate\": 3.771123995019043e-05, \"time\": 5996.087931394577, \"_runtime\": 62524.024030685425, \"_timestamp\": 1590980896.0092666, \"_step\": 8351}\\n']}, 'wandb-summary.json': {'offset': 0, 'content': ['{\"_step\": 8351, \"train_ent_seq_acc\": 0.5600693318157354, \"learning_rate\": 3.771123995019043e-05, \"train_head_rel_acc\": 0.3426631272358007, \"time\": 5996.087931394577, \"_timestamp\": 1590980896.0092666, \"train_loss\": 3.9156493538645095e-05, \"train_tail_rel_acc\": 0.34266312732227827, \"_runtime\": 62524.024030685425, \"val_ent_seq_acc\": 0.5289919839891124, \"val_prec\": 0.5524330441342837, \"val_f1\": 0.6428532235452967, \"val_head_rel_acc\": 0.38477550611817124, \"val_tail_rel_acc\": 0.3820993239516982, \"val_recall\": 0.7686655294580663}\\n']}}}}\n"
     ]
    },
    {
     "name": "stdout",
     "output_type": "stream",
     "text": [
      "Epoch: 7/50, batch: 12522/12522, train_loss: 3.794481106676563e-05, t_ent_sample_acc: 0.5656844089026364, t_head_rel_sample_acc: 0.36040569342538353, t_tail_rel_sample_acc: 0.3605654123784387,lr: 2.5003136073156602e-05, batch_time: 0.5178542137145996, total_time: 9175.554475069046 ----------------"
     ]
    },
    {
     "name": "stderr",
     "output_type": "stream",
     "text": [
      "Validating: 100%|██████████| 1121/1121 [07:59<00:00,  2.34it/s]"
     ]
    },
    {
     "name": "stdout",
     "output_type": "stream",
     "text": [
      "{'time': 479.6839876174927,\n",
      " 'val_ent_seq_acc': 0.5491376882892544,\n",
      " 'val_f1': 0.6649067624770956,\n",
      " 'val_head_rel_acc': 0.4216473473171163,\n",
      " 'val_prec': 0.5581855903432614,\n",
      " 'val_recall': 0.822083333333322,\n",
      " 'val_tail_rel_acc': 0.4220190393031441}\n",
      "Current avf_f1: 0.6649067624770956, Best f1: 0.6649067624770956\n"
     ]
    },
    {
     "name": "stderr",
     "output_type": "stream",
     "text": [
      "\n"
     ]
    },
    {
     "name": "stdout",
     "output_type": "stream",
     "text": [
      "Epoch: 8/50, batch: 1852/12522, train_loss: 3.285276906222217e-05, t_ent_sample_acc: 0.5948524266867606, t_head_rel_sample_acc: 0.4266558763999532, t_tail_rel_sample_acc: 0.42719583329996075,lr: 1.924714921717239e-05, batch_time: 0.877004861831665, total_time: 1320.021624803543 ------------------"
     ]
    },
    {
     "name": "stderr",
     "output_type": "stream",
     "text": [
      "requests_with_retry encountered retryable exception: ('Connection aborted.', RemoteDisconnected('Remote end closed connection without response')). args: ('https://api.wandb.ai/files/wycheng/nyt_single/1b7r0hef/file_stream',), kwargs: {'json': {'files': {'output.log': {'offset': 83, 'content': ['2020-06-01T04:27:46.183604 Epoch: 8/50, batch: 1570/12522, train_loss: 3.281340072378513e-05, t_ent_sample_acc: 0.5958598875410998, t_head_rel_sample_acc: 0.4256900300550613, t_tail_rel_sample_acc: 0.4263269728915707,lr: 2.011120818566412e-05, batch_time: 0.9075989723205566, total_time: 1109.8697078227997 -------------\\r']}, 'wandb-events.jsonl': {'offset': 2085, 'content': ['{\"system.gpu.0.gpu\": 0.0, \"system.gpu.0.memory\": 0.0, \"system.gpu.0.memoryAllocated\": 49.98, \"system.gpu.0.temp\": 39.0, \"system.gpu.process.0.gpu\": 0.0, \"system.gpu.process.0.memory\": 0.0, \"system.gpu.process.0.memoryAllocated\": 49.98, \"system.gpu.process.0.temp\": 39.0, \"system.gpu.0.powerWatts\": 38.68, \"system.gpu.0.powerPercent\": 15.47, \"system.gpu.process.0.powerWatts\": 38.68, \"system.gpu.process.0.powerPercent\": 15.47, \"system.gpu.1.gpu\": 98.6, \"system.gpu.1.memory\": 16.87, \"system.gpu.1.memoryAllocated\": 58.92, \"system.gpu.1.temp\": 45.6, \"system.gpu.process.1.gpu\": 98.6, \"system.gpu.process.1.memory\": 16.87, \"system.gpu.process.1.memoryAllocated\": 58.92, \"system.gpu.process.1.temp\": 45.6, \"system.gpu.1.powerWatts\": 74.49, \"system.gpu.1.powerPercent\": 29.8, \"system.gpu.process.1.powerWatts\": 74.49, \"system.gpu.process.1.powerPercent\": 29.8, \"system.cpu\": 75.76, \"system.memory\": 39.89, \"system.disk\": 83.1, \"system.proc.memory.availableMB\": 77171.1, \"system.proc.memory.rssMB\": 3785.33, \"system.proc.memory.percent\": 2.95, \"system.proc.cpu.threads\": 49.0, \"system.network.sent\": 38293130008, \"system.network.recv\": 33706215051, \"_wandb\": true, \"_timestamp\": 1590985662, \"_runtime\": 67293}\\n']}, 'wandb-history.jsonl': {'offset': 8931, 'content': ['{\"train_loss\": 3.2828303866777035e-05, \"train_ent_seq_acc\": 0.5963422749301018, \"train_head_rel_acc\": 0.42466798180423476, \"train_tail_rel_acc\": 0.42510342720596717, \"learning_rate\": 2.0231211735937526e-05, \"time\": 1081.3682947158813, \"_runtime\": 67264.91743540764, \"_timestamp\": 1590985636.9026713, \"_step\": 8931}\\n', '{\"train_loss\": 3.279210218962946e-05, \"train_ent_seq_acc\": 0.5973394050236881, \"train_head_rel_acc\": 0.42515683339486876, \"train_tail_rel_acc\": 0.42558945306394874, \"learning_rate\": 2.0200430599152048e-05, \"time\": 1087.7269690036774, \"_runtime\": 67271.27610778809, \"_timestamp\": 1590985643.2613437, \"_step\": 8932}\\n', '{\"train_loss\": 3.279757336931512e-05, \"train_ent_seq_acc\": 0.5975714742772277, \"train_head_rel_acc\": 0.4257468388378044, \"train_tail_rel_acc\": 0.42639158432672747, \"learning_rate\": 2.0169657014933354e-05, \"time\": 1095.3127841949463, \"_runtime\": 67278.8619248867, \"_timestamp\": 1590985650.8471608, \"_step\": 8933}\\n', '{\"train_loss\": 3.27871050032486e-05, \"train_ent_seq_acc\": 0.5966261093391966, \"train_head_rel_acc\": 0.4260089774398297, \"train_tail_rel_acc\": 0.42654282341470784, \"learning_rate\": 2.0138891031706527e-05, \"time\": 1102.8677906990051, \"_runtime\": 67286.41695022583, \"_timestamp\": 1590985658.4021862, \"_step\": 8934}\\n']}, 'wandb-summary.json': {'offset': 0, 'content': ['{\"_step\": 8934, \"train_ent_seq_acc\": 0.5966261093391966, \"learning_rate\": 2.0138891031706527e-05, \"train_head_rel_acc\": 0.4260089774398297, \"time\": 1102.8677906990051, \"_timestamp\": 1590985658.4021862, \"train_loss\": 3.27871050032486e-05, \"train_tail_rel_acc\": 0.42654282341470784, \"_runtime\": 67286.41695022583, \"val_ent_seq_acc\": 0.5491376882892544, \"val_prec\": 0.5581855903432614, \"val_f1\": 0.6649067624770956, \"val_head_rel_acc\": 0.4216473473171163, \"val_tail_rel_acc\": 0.4220190393031441, \"val_recall\": 0.822083333333322}\\n']}}}}\n"
     ]
    },
    {
     "name": "stdout",
     "output_type": "stream",
     "text": [
      "Epoch: 8/50, batch: 7753/12522, train_loss: 3.278598267508431e-05, t_ent_sample_acc: 0.5946515476059394, t_head_rel_sample_acc: 0.43757256176661447, t_tail_rel_sample_acc: 0.43729310010220024,lr: 4.34352590881941e-06, batch_time: 0.7405006885528564, total_time: 5723.933061361313 -----------------"
     ]
    },
    {
     "name": "stderr",
     "output_type": "stream",
     "text": [
      "requests_with_retry encountered retryable exception: ('Connection aborted.', RemoteDisconnected('Remote end closed connection without response')). args: ('https://api.wandb.ai/files/wycheng/nyt_single/1b7r0hef/file_stream',), kwargs: {'json': {'files': {'output.log': {'offset': 84, 'content': ['2020-06-01T05:41:10.475450 Epoch: 8/50, batch: 7477/12522, train_loss: 3.280867995303292e-05, t_ent_sample_acc: 0.5945566552589646, t_head_rel_sample_acc: 0.43722973589561065, t_tail_rel_sample_acc: 0.4368507960960478,lr: 4.843367262943738e-06, batch_time: 0.6609020233154297, total_time: 5514.2429184913635 -------------\\r']}, 'wandb-events.jsonl': {'offset': 2222, 'content': ['{\"system.gpu.0.gpu\": 0.0, \"system.gpu.0.memory\": 0.0, \"system.gpu.0.memoryAllocated\": 49.98, \"system.gpu.0.temp\": 39.0, \"system.gpu.process.0.gpu\": 0.0, \"system.gpu.process.0.memory\": 0.0, \"system.gpu.process.0.memoryAllocated\": 49.98, \"system.gpu.process.0.temp\": 39.0, \"system.gpu.0.powerWatts\": 38.7, \"system.gpu.0.powerPercent\": 15.48, \"system.gpu.process.0.powerWatts\": 38.7, \"system.gpu.process.0.powerPercent\": 15.48, \"system.gpu.1.gpu\": 98.87, \"system.gpu.1.memory\": 16.67, \"system.gpu.1.memoryAllocated\": 58.92, \"system.gpu.1.temp\": 46.87, \"system.gpu.process.1.gpu\": 98.87, \"system.gpu.process.1.memory\": 16.67, \"system.gpu.process.1.memoryAllocated\": 58.92, \"system.gpu.process.1.temp\": 46.87, \"system.gpu.1.powerWatts\": 77.48, \"system.gpu.1.powerPercent\": 30.99, \"system.gpu.process.1.powerWatts\": 77.48, \"system.gpu.process.1.powerPercent\": 30.99, \"system.cpu\": 63.76, \"system.memory\": 41.2, \"system.disk\": 83.1, \"system.proc.memory.availableMB\": 75540.49, \"system.proc.memory.rssMB\": 3785.98, \"system.proc.memory.percent\": 2.95, \"system.proc.cpu.threads\": 49.0, \"system.network.sent\": 38523996226, \"system.network.recv\": 33947190513, \"_wandb\": true, \"_timestamp\": 1590990057, \"_runtime\": 71688}\\n']}, 'wandb-history.jsonl': {'offset': 9522, 'content': ['{\"train_loss\": 3.2807610057446494e-05, \"train_ent_seq_acc\": 0.5947005479963151, \"train_head_rel_acc\": 0.4373292212019427, \"train_tail_rel_acc\": 0.4370380417704022, \"learning_rate\": 4.910358219932082e-06, \"time\": 5487.592560529709, \"_runtime\": 71671.14170312881, \"_timestamp\": 1590990043.126939, \"_step\": 9522}\\n', '{\"train_loss\": 3.280156844363351e-05, \"train_ent_seq_acc\": 0.5946629236963128, \"train_head_rel_acc\": 0.4373462266901038, \"train_tail_rel_acc\": 0.43703306968612743, \"learning_rate\": 4.891708465525249e-06, \"time\": 5494.97607588768, \"_runtime\": 71678.52525544167, \"_timestamp\": 1590990050.5104914, \"_step\": 9523}\\n', '{\"train_loss\": 3.2807277365265385e-05, \"train_ent_seq_acc\": 0.5945807234772951, \"train_head_rel_acc\": 0.43731850982631054, \"train_tail_rel_acc\": 0.43698343416310687, \"learning_rate\": 4.873090353376703e-06, \"time\": 5502.712717056274, \"_runtime\": 71686.26190209389, \"_timestamp\": 1590990058.247138, \"_step\": 9524}\\n', '{\"train_loss\": 3.280792752306301e-05, \"train_ent_seq_acc\": 0.594632594205819, \"train_head_rel_acc\": 0.43735779260810387, \"train_tail_rel_acc\": 0.4369785484819587, \"learning_rate\": 4.85450391278377e-06, \"time\": 5510.291654586792, \"_runtime\": 71693.84080505371, \"_timestamp\": 1590990065.826041, \"_step\": 9525}\\n']}, 'wandb-summary.json': {'offset': 0, 'content': ['{\"_step\": 9525, \"train_ent_seq_acc\": 0.594632594205819, \"learning_rate\": 4.85450391278377e-06, \"train_head_rel_acc\": 0.43735779260810387, \"time\": 5510.291654586792, \"_timestamp\": 1590990065.826041, \"train_loss\": 3.280792752306301e-05, \"train_tail_rel_acc\": 0.4369785484819587, \"_runtime\": 71693.84080505371, \"val_ent_seq_acc\": 0.5491376882892544, \"val_prec\": 0.5581855903432614, \"val_f1\": 0.6649067624770956, \"val_head_rel_acc\": 0.4216473473171163, \"val_tail_rel_acc\": 0.4220190393031441, \"val_recall\": 0.822083333333322}\\n']}}}}\n"
     ]
    },
    {
     "name": "stdout",
     "output_type": "stream",
     "text": [
      "Epoch: 8/50, batch: 9211/12522, train_loss: 3.2697008384281966e-05, t_ent_sample_acc: 0.5958998447914825, t_head_rel_sample_acc: 0.4388050611464859, t_tail_rel_sample_acc: 0.4387145896481971,lr: 2.126801450910601e-06, batch_time: 0.7749180793762207, total_time: 6817.277143716812 -----------------"
     ]
    },
    {
     "name": "stderr",
     "output_type": "stream",
     "text": [
      "requests_with_retry encountered retryable exception: ('Connection aborted.', RemoteDisconnected('Remote end closed connection without response')). args: ('https://api.wandb.ai/files/wycheng/nyt_single/1b7r0hef/file_stream',), kwargs: {'json': {'files': {'output.log': {'offset': 85, 'content': ['2020-06-01T05:59:22.272490 Epoch: 8/50, batch: 8930/12522, train_loss: 3.266693274328354e-05, t_ent_sample_acc: 0.5965099066596015, t_head_rel_sample_acc: 0.4390817561565428, t_tail_rel_sample_acc: 0.4388764557052166,lr: 2.4966188337853024e-06, batch_time: 0.7222583293914795, total_time: 6605.958097219467 -------------\\r']}, 'wandb-events.jsonl': {'offset': 2256, 'content': ['{\"system.gpu.0.gpu\": 0.0, \"system.gpu.0.memory\": 0.0, \"system.gpu.0.memoryAllocated\": 49.98, \"system.gpu.0.temp\": 39.0, \"system.gpu.process.0.gpu\": 0.0, \"system.gpu.process.0.memory\": 0.0, \"system.gpu.process.0.memoryAllocated\": 49.98, \"system.gpu.process.0.temp\": 39.0, \"system.gpu.0.powerWatts\": 38.62, \"system.gpu.0.powerPercent\": 15.45, \"system.gpu.process.0.powerWatts\": 38.62, \"system.gpu.process.0.powerPercent\": 15.45, \"system.gpu.1.gpu\": 99.27, \"system.gpu.1.memory\": 15.47, \"system.gpu.1.memoryAllocated\": 58.92, \"system.gpu.1.temp\": 46.87, \"system.gpu.process.1.gpu\": 99.27, \"system.gpu.process.1.memory\": 15.47, \"system.gpu.process.1.memoryAllocated\": 58.92, \"system.gpu.process.1.temp\": 46.87, \"system.gpu.1.powerWatts\": 76.49, \"system.gpu.1.powerPercent\": 30.6, \"system.gpu.process.1.powerWatts\": 76.49, \"system.gpu.process.1.powerPercent\": 30.6, \"system.cpu\": 63.33, \"system.memory\": 41.6, \"system.disk\": 83.1, \"system.proc.memory.availableMB\": 74959.51, \"system.proc.memory.rssMB\": 3786.07, \"system.proc.memory.percent\": 2.95, \"system.proc.cpu.threads\": 49.0, \"system.network.sent\": 38554826329, \"system.network.recv\": 33995890671, \"_wandb\": true, \"_timestamp\": 1590991147, \"_runtime\": 72778}\\n']}, 'wandb-history.jsonl': {'offset': 9668, 'content': ['{\"train_loss\": 3.2686202120213556e-05, \"train_ent_seq_acc\": 0.596468576489908, \"train_head_rel_acc\": 0.43897690321907357, \"train_tail_rel_acc\": 0.4388645563235699, \"learning_rate\": 2.5363847388762686e-06, \"time\": 6584.318262577057, \"_runtime\": 72767.8674068451, \"_timestamp\": 1590991139.8526428, \"_step\": 9668}\\n', '{\"train_loss\": 3.267718511396353e-05, \"train_ent_seq_acc\": 0.5964912429774681, \"train_head_rel_acc\": 0.43906408734974967, \"train_tail_rel_acc\": 0.4389518665308878, \"learning_rate\": 2.5226387499627995e-06, \"time\": 6591.773848772049, \"_runtime\": 72775.32299113274, \"_timestamp\": 1590991147.308227, \"_step\": 9669}\\n', '{\"train_loss\": 3.2671078543269923e-05, \"train_ent_seq_acc\": 0.5965325411573251, \"train_head_rel_acc\": 0.4390763459705662, \"train_tail_rel_acc\": 0.4389268859323933, \"learning_rate\": 2.508928131258137e-06, \"time\": 6599.315095663071, \"_runtime\": 72782.86424136162, \"_timestamp\": 1590991154.8494773, \"_step\": 9670}\\n', '{\"train_loss\": 3.266738505590611e-05, \"train_ent_seq_acc\": 0.5964617773084622, \"train_head_rel_acc\": 0.43903259237240255, \"train_tail_rel_acc\": 0.4388273149084743, \"learning_rate\": 2.495252904337217e-06, \"time\": 6606.739236831665, \"_runtime\": 72790.28841614723, \"_timestamp\": 1590991162.273652, \"_step\": 9671}\\n']}, 'wandb-summary.json': {'offset': 0, 'content': ['{\"_step\": 9670, \"train_ent_seq_acc\": 0.5965325411573251, \"learning_rate\": 2.508928131258137e-06, \"train_head_rel_acc\": 0.4390763459705662, \"time\": 6599.315095663071, \"_timestamp\": 1590991154.8494773, \"train_loss\": 3.2671078543269923e-05, \"train_tail_rel_acc\": 0.4389268859323933, \"_runtime\": 72782.86424136162, \"val_ent_seq_acc\": 0.5491376882892544, \"val_prec\": 0.5581855903432614, \"val_f1\": 0.6649067624770956, \"val_head_rel_acc\": 0.4216473473171163, \"val_tail_rel_acc\": 0.4220190393031441, \"val_recall\": 0.822083333333322}\\n']}}}}\n"
     ]
    },
    {
     "name": "stdout",
     "output_type": "stream",
     "text": [
      "Epoch: 8/50, batch: 12522/12522, train_loss: 3.23508258959521e-05, t_ent_sample_acc: 0.5977213587674388, t_head_rel_sample_acc: 0.44323325216903453, t_tail_rel_sample_acc: 0.44303360357797295,lr: 1.9669909867570113e-13, batch_time: 0.5699014663696289, total_time: 9300.54733633995 -----------------"
     ]
    },
    {
     "name": "stderr",
     "output_type": "stream",
     "text": [
      "Validating:  81%|████████  | 909/1121 [06:39<01:43,  2.05it/s]requests_with_retry encountered retryable exception: 408 Client Error: Request Timeout for url: https://api.wandb.ai/files/wycheng/nyt_single/1b7r0hef/file_stream. args: ('https://api.wandb.ai/files/wycheng/nyt_single/1b7r0hef/file_stream',), kwargs: {'json': {'files': {'output.log': {'offset': 86, 'content': ['ERROR 2020-06-01T06:49:56.247401 Validating:  69%|██████▊   | 769/1121 [05:39<01:39,  3.53it/s]\\r']}, 'wandb-events.jsonl': {'offset': 2350, 'content': ['{\"system.gpu.0.gpu\": 0.0, \"system.gpu.0.memory\": 0.0, \"system.gpu.0.memoryAllocated\": 49.98, \"system.gpu.0.temp\": 39.0, \"system.gpu.process.0.gpu\": 0.0, \"system.gpu.process.0.memory\": 0.0, \"system.gpu.process.0.memoryAllocated\": 49.98, \"system.gpu.process.0.temp\": 39.0, \"system.gpu.0.powerWatts\": 38.63, \"system.gpu.0.powerPercent\": 15.45, \"system.gpu.process.0.powerWatts\": 38.63, \"system.gpu.process.0.powerPercent\": 15.45, \"system.gpu.1.gpu\": 99.73, \"system.gpu.1.memory\": 18.53, \"system.gpu.1.memoryAllocated\": 58.92, \"system.gpu.1.temp\": 47.4, \"system.gpu.process.1.gpu\": 99.73, \"system.gpu.process.1.memory\": 18.53, \"system.gpu.process.1.memoryAllocated\": 58.92, \"system.gpu.process.1.temp\": 47.4, \"system.gpu.1.powerWatts\": 82.52, \"system.gpu.1.powerPercent\": 33.01, \"system.gpu.process.1.powerWatts\": 82.52, \"system.gpu.process.1.powerPercent\": 33.01, \"system.cpu\": 63.82, \"system.memory\": 41.59, \"system.disk\": 83.1, \"system.proc.memory.availableMB\": 75010.92, \"system.proc.memory.rssMB\": 3786.01, \"system.proc.memory.percent\": 2.95, \"system.proc.cpu.threads\": 50.0, \"system.network.sent\": 38718272591, \"system.network.recv\": 34185278954, \"_wandb\": true, \"_timestamp\": 1590994166, \"_runtime\": 75797}\\n']}}}}\n",
      "Validating: 100%|██████████| 1121/1121 [08:14<00:00,  2.27it/s]\n"
     ]
    },
    {
     "name": "stdout",
     "output_type": "stream",
     "text": [
      "{'time': 494.7848789691925,\n",
      " 'val_ent_seq_acc': 0.55924770870079,\n",
      " 'val_f1': 0.7190894443660859,\n",
      " 'val_head_rel_acc': 0.47204877655491245,\n",
      " 'val_prec': 0.6523953225197977,\n",
      " 'val_recall': 0.8009725599166284,\n",
      " 'val_tail_rel_acc': 0.4732381907905669}\n",
      "Current avf_f1: 0.7190894443660859, Best f1: 0.7190894443660859\n",
      "Epoch: 9/50, batch: 9067/12522, train_loss: 3.297767040586623e-05, t_ent_sample_acc: 0.5896106908757092, t_head_rel_sample_acc: 0.44000221508181947, t_tail_rel_sample_acc: 0.43739201683804574,lr: 3.550193830236311e-05, batch_time: 0.5855588912963867, total_time: 6732.291659355164 ----------------"
     ]
    },
    {
     "name": "stderr",
     "output_type": "stream",
     "text": [
      "requests_with_retry encountered retryable exception: 500 Server Error: Internal Server Error for url: https://api.wandb.ai/files/wycheng/nyt_single/1b7r0hef/file_stream. args: ('https://api.wandb.ai/files/wycheng/nyt_single/1b7r0hef/file_stream',), kwargs: {'json': {'files': {'output.log': {'offset': 96, 'content': ['2020-06-01T08:43:48.112647 Epoch: 9/50, batch: 8990/12522, train_loss: 3.2999553546623076e-05, t_ent_sample_acc: 0.589747882814243, t_head_rel_sample_acc: 0.43956248610217263, t_tail_rel_sample_acc: 0.436985548674331,lr: 3.5720583099719696e-05, batch_time: 0.730588436126709, total_time: 6676.142932653427 -------------\\r']}, 'wandb-events.jsonl': {'offset': 2563, 'content': ['{\"system.gpu.0.gpu\": 0.0, \"system.gpu.0.memory\": 0.0, \"system.gpu.0.memoryAllocated\": 49.98, \"system.gpu.0.temp\": 39.0, \"system.gpu.process.0.gpu\": 0.0, \"system.gpu.process.0.memory\": 0.0, \"system.gpu.process.0.memoryAllocated\": 49.98, \"system.gpu.process.0.temp\": 39.0, \"system.gpu.0.powerWatts\": 38.81, \"system.gpu.0.powerPercent\": 15.52, \"system.gpu.process.0.powerWatts\": 38.81, \"system.gpu.process.0.powerPercent\": 15.52, \"system.gpu.1.gpu\": 99.27, \"system.gpu.1.memory\": 16.73, \"system.gpu.1.memoryAllocated\": 58.92, \"system.gpu.1.temp\": 47.0, \"system.gpu.process.1.gpu\": 99.27, \"system.gpu.process.1.memory\": 16.73, \"system.gpu.process.1.memoryAllocated\": 58.92, \"system.gpu.process.1.temp\": 47.0, \"system.gpu.1.powerWatts\": 74.04, \"system.gpu.1.powerPercent\": 29.62, \"system.gpu.process.1.powerWatts\": 74.04, \"system.gpu.process.1.powerPercent\": 29.62, \"system.cpu\": 63.74, \"system.memory\": 43.0, \"system.disk\": 83.1, \"system.proc.memory.availableMB\": 73179.77, \"system.proc.memory.rssMB\": 3786.07, \"system.proc.memory.percent\": 2.95, \"system.proc.cpu.threads\": 49.0, \"system.network.sent\": 39085355601, \"system.network.recv\": 34638006440, \"_wandb\": true, \"_timestamp\": 1591000998, \"_runtime\": 82630}\\n']}, 'wandb-history.jsonl': {'offset': 10928, 'content': ['{\"train_loss\": 3.3006993730525515e-05, \"train_ent_seq_acc\": 0.5897593422734755, \"train_head_rel_acc\": 0.4393854945242877, \"train_tail_rel_acc\": 0.43681881660336747, \"learning_rate\": 3.580267165014129e-05, \"time\": 6654.429778337479, \"_runtime\": 82633.63804841042, \"_timestamp\": 1591001005.6232843, \"_step\": 10928}\\n', '{\"train_loss\": 3.300847210376693e-05, \"train_ent_seq_acc\": 0.5896035521348814, \"train_head_rel_acc\": 0.43949021846504466, \"train_tail_rel_acc\": 0.4369078232481014, \"learning_rate\": 3.57743813475115e-05, \"time\": 6661.977093219757, \"_runtime\": 82641.18526339531, \"_timestamp\": 1591001013.1704993, \"_step\": 10929}\\n', '{\"train_loss\": 3.3007226147983245e-05, \"train_ent_seq_acc\": 0.5896336858933042, \"train_head_rel_acc\": 0.43946480532024873, \"train_tail_rel_acc\": 0.4368667278068393, \"learning_rate\": 3.5746074090395196e-05, \"time\": 6669.403903722763, \"_runtime\": 82648.61205077171, \"_timestamp\": 1591001020.5972867, \"_step\": 10930}\\n', '{\"train_loss\": 3.299793536579633e-05, \"train_ent_seq_acc\": 0.5897193637908255, \"train_head_rel_acc\": 0.4395877451612798, \"train_tail_rel_acc\": 0.4369925572886481, \"learning_rate\": 3.5717749923336466e-05, \"time\": 6676.92028927803, \"_runtime\": 82656.128439188, \"_timestamp\": 1591001028.113675, \"_step\": 10931}\\n']}, 'wandb-summary.json': {'offset': 0, 'content': ['{\"_step\": 10931, \"train_ent_seq_acc\": 0.5897193637908255, \"learning_rate\": 3.5717749923336466e-05, \"train_head_rel_acc\": 0.4395877451612798, \"time\": 6676.92028927803, \"_timestamp\": 1591001028.113675, \"train_loss\": 3.299793536579633e-05, \"train_tail_rel_acc\": 0.4369925572886481, \"_runtime\": 82656.128439188, \"val_ent_seq_acc\": 0.55924770870079, \"val_prec\": 0.6523953225197977, \"val_f1\": 0.7190894443660859, \"val_head_rel_acc\": 0.47204877655491245, \"val_tail_rel_acc\": 0.4732381907905669, \"val_recall\": 0.8009725599166284}\\n']}}}}\n"
     ]
    },
    {
     "name": "stdout",
     "output_type": "stream",
     "text": [
      "Epoch: 9/50, batch: 9071/12522, train_loss: 3.297471186419149e-05, t_ent_sample_acc: 0.5895711756366285, t_head_rel_sample_acc: 0.44004704562486985, t_tail_rel_sample_acc: 0.4374563719593904,lr: 3.5490553182979005e-05, batch_time: 0.6785256862640381, total_time: 6735.061454534531 -------------"
     ]
    },
    {
     "name": "stderr",
     "output_type": "stream",
     "text": [
      "requests_with_retry encountered retryable exception: 500 Server Error: Internal Server Error for url: https://api.wandb.ai/files/wycheng/nyt_single/1b7r0hef/file_stream. args: ('https://api.wandb.ai/files/wycheng/nyt_single/1b7r0hef/file_stream',), kwargs: {'json': {'files': {'output.log': {'offset': 96, 'content': ['2020-06-01T08:43:48.112647 Epoch: 9/50, batch: 8990/12522, train_loss: 3.2999553546623076e-05, t_ent_sample_acc: 0.589747882814243, t_head_rel_sample_acc: 0.43956248610217263, t_tail_rel_sample_acc: 0.436985548674331,lr: 3.5720583099719696e-05, batch_time: 0.730588436126709, total_time: 6676.142932653427 -------------\\r']}, 'wandb-events.jsonl': {'offset': 2563, 'content': ['{\"system.gpu.0.gpu\": 0.0, \"system.gpu.0.memory\": 0.0, \"system.gpu.0.memoryAllocated\": 49.98, \"system.gpu.0.temp\": 39.0, \"system.gpu.process.0.gpu\": 0.0, \"system.gpu.process.0.memory\": 0.0, \"system.gpu.process.0.memoryAllocated\": 49.98, \"system.gpu.process.0.temp\": 39.0, \"system.gpu.0.powerWatts\": 38.81, \"system.gpu.0.powerPercent\": 15.52, \"system.gpu.process.0.powerWatts\": 38.81, \"system.gpu.process.0.powerPercent\": 15.52, \"system.gpu.1.gpu\": 99.27, \"system.gpu.1.memory\": 16.73, \"system.gpu.1.memoryAllocated\": 58.92, \"system.gpu.1.temp\": 47.0, \"system.gpu.process.1.gpu\": 99.27, \"system.gpu.process.1.memory\": 16.73, \"system.gpu.process.1.memoryAllocated\": 58.92, \"system.gpu.process.1.temp\": 47.0, \"system.gpu.1.powerWatts\": 74.04, \"system.gpu.1.powerPercent\": 29.62, \"system.gpu.process.1.powerWatts\": 74.04, \"system.gpu.process.1.powerPercent\": 29.62, \"system.cpu\": 63.74, \"system.memory\": 43.0, \"system.disk\": 83.1, \"system.proc.memory.availableMB\": 73179.77, \"system.proc.memory.rssMB\": 3786.07, \"system.proc.memory.percent\": 2.95, \"system.proc.cpu.threads\": 49.0, \"system.network.sent\": 39085355601, \"system.network.recv\": 34638006440, \"_wandb\": true, \"_timestamp\": 1591000998, \"_runtime\": 82630}\\n']}, 'wandb-history.jsonl': {'offset': 10928, 'content': ['{\"train_loss\": 3.3006993730525515e-05, \"train_ent_seq_acc\": 0.5897593422734755, \"train_head_rel_acc\": 0.4393854945242877, \"train_tail_rel_acc\": 0.43681881660336747, \"learning_rate\": 3.580267165014129e-05, \"time\": 6654.429778337479, \"_runtime\": 82633.63804841042, \"_timestamp\": 1591001005.6232843, \"_step\": 10928}\\n', '{\"train_loss\": 3.300847210376693e-05, \"train_ent_seq_acc\": 0.5896035521348814, \"train_head_rel_acc\": 0.43949021846504466, \"train_tail_rel_acc\": 0.4369078232481014, \"learning_rate\": 3.57743813475115e-05, \"time\": 6661.977093219757, \"_runtime\": 82641.18526339531, \"_timestamp\": 1591001013.1704993, \"_step\": 10929}\\n', '{\"train_loss\": 3.3007226147983245e-05, \"train_ent_seq_acc\": 0.5896336858933042, \"train_head_rel_acc\": 0.43946480532024873, \"train_tail_rel_acc\": 0.4368667278068393, \"learning_rate\": 3.5746074090395196e-05, \"time\": 6669.403903722763, \"_runtime\": 82648.61205077171, \"_timestamp\": 1591001020.5972867, \"_step\": 10930}\\n', '{\"train_loss\": 3.299793536579633e-05, \"train_ent_seq_acc\": 0.5897193637908255, \"train_head_rel_acc\": 0.4395877451612798, \"train_tail_rel_acc\": 0.4369925572886481, \"learning_rate\": 3.5717749923336466e-05, \"time\": 6676.92028927803, \"_runtime\": 82656.128439188, \"_timestamp\": 1591001028.113675, \"_step\": 10931}\\n']}, 'wandb-summary.json': {'offset': 0, 'content': ['{\"_step\": 10931, \"train_ent_seq_acc\": 0.5897193637908255, \"learning_rate\": 3.5717749923336466e-05, \"train_head_rel_acc\": 0.4395877451612798, \"time\": 6676.92028927803, \"_timestamp\": 1591001028.113675, \"train_loss\": 3.299793536579633e-05, \"train_tail_rel_acc\": 0.4369925572886481, \"_runtime\": 82656.128439188, \"val_ent_seq_acc\": 0.55924770870079, \"val_prec\": 0.6523953225197977, \"val_f1\": 0.7190894443660859, \"val_head_rel_acc\": 0.47204877655491245, \"val_tail_rel_acc\": 0.4732381907905669, \"val_recall\": 0.8009725599166284}\\n']}}}}\n"
     ]
    },
    {
     "name": "stdout",
     "output_type": "stream",
     "text": [
      "Epoch: 9/50, batch: 9078/12522, train_loss: 3.297960834403725e-05, t_ent_sample_acc: 0.5894470295472196, t_head_rel_sample_acc: 0.4399831186250381, t_tail_rel_sample_acc: 0.43739444261659316,lr: 3.547062287025608e-05, batch_time: 0.6551275253295898, total_time: 6739.625695705414 --------------"
     ]
    },
    {
     "name": "stderr",
     "output_type": "stream",
     "text": [
      "requests_with_retry encountered retryable exception: 500 Server Error: Internal Server Error for url: https://api.wandb.ai/files/wycheng/nyt_single/1b7r0hef/file_stream. args: ('https://api.wandb.ai/files/wycheng/nyt_single/1b7r0hef/file_stream',), kwargs: {'json': {'files': {'output.log': {'offset': 96, 'content': ['2020-06-01T08:43:48.112647 Epoch: 9/50, batch: 8990/12522, train_loss: 3.2999553546623076e-05, t_ent_sample_acc: 0.589747882814243, t_head_rel_sample_acc: 0.43956248610217263, t_tail_rel_sample_acc: 0.436985548674331,lr: 3.5720583099719696e-05, batch_time: 0.730588436126709, total_time: 6676.142932653427 -------------\\r']}, 'wandb-events.jsonl': {'offset': 2563, 'content': ['{\"system.gpu.0.gpu\": 0.0, \"system.gpu.0.memory\": 0.0, \"system.gpu.0.memoryAllocated\": 49.98, \"system.gpu.0.temp\": 39.0, \"system.gpu.process.0.gpu\": 0.0, \"system.gpu.process.0.memory\": 0.0, \"system.gpu.process.0.memoryAllocated\": 49.98, \"system.gpu.process.0.temp\": 39.0, \"system.gpu.0.powerWatts\": 38.81, \"system.gpu.0.powerPercent\": 15.52, \"system.gpu.process.0.powerWatts\": 38.81, \"system.gpu.process.0.powerPercent\": 15.52, \"system.gpu.1.gpu\": 99.27, \"system.gpu.1.memory\": 16.73, \"system.gpu.1.memoryAllocated\": 58.92, \"system.gpu.1.temp\": 47.0, \"system.gpu.process.1.gpu\": 99.27, \"system.gpu.process.1.memory\": 16.73, \"system.gpu.process.1.memoryAllocated\": 58.92, \"system.gpu.process.1.temp\": 47.0, \"system.gpu.1.powerWatts\": 74.04, \"system.gpu.1.powerPercent\": 29.62, \"system.gpu.process.1.powerWatts\": 74.04, \"system.gpu.process.1.powerPercent\": 29.62, \"system.cpu\": 63.74, \"system.memory\": 43.0, \"system.disk\": 83.1, \"system.proc.memory.availableMB\": 73179.77, \"system.proc.memory.rssMB\": 3786.07, \"system.proc.memory.percent\": 2.95, \"system.proc.cpu.threads\": 49.0, \"system.network.sent\": 39085355601, \"system.network.recv\": 34638006440, \"_wandb\": true, \"_timestamp\": 1591000998, \"_runtime\": 82630}\\n']}, 'wandb-history.jsonl': {'offset': 10928, 'content': ['{\"train_loss\": 3.3006993730525515e-05, \"train_ent_seq_acc\": 0.5897593422734755, \"train_head_rel_acc\": 0.4393854945242877, \"train_tail_rel_acc\": 0.43681881660336747, \"learning_rate\": 3.580267165014129e-05, \"time\": 6654.429778337479, \"_runtime\": 82633.63804841042, \"_timestamp\": 1591001005.6232843, \"_step\": 10928}\\n', '{\"train_loss\": 3.300847210376693e-05, \"train_ent_seq_acc\": 0.5896035521348814, \"train_head_rel_acc\": 0.43949021846504466, \"train_tail_rel_acc\": 0.4369078232481014, \"learning_rate\": 3.57743813475115e-05, \"time\": 6661.977093219757, \"_runtime\": 82641.18526339531, \"_timestamp\": 1591001013.1704993, \"_step\": 10929}\\n', '{\"train_loss\": 3.3007226147983245e-05, \"train_ent_seq_acc\": 0.5896336858933042, \"train_head_rel_acc\": 0.43946480532024873, \"train_tail_rel_acc\": 0.4368667278068393, \"learning_rate\": 3.5746074090395196e-05, \"time\": 6669.403903722763, \"_runtime\": 82648.61205077171, \"_timestamp\": 1591001020.5972867, \"_step\": 10930}\\n', '{\"train_loss\": 3.299793536579633e-05, \"train_ent_seq_acc\": 0.5897193637908255, \"train_head_rel_acc\": 0.4395877451612798, \"train_tail_rel_acc\": 0.4369925572886481, \"learning_rate\": 3.5717749923336466e-05, \"time\": 6676.92028927803, \"_runtime\": 82656.128439188, \"_timestamp\": 1591001028.113675, \"_step\": 10931}\\n']}, 'wandb-summary.json': {'offset': 0, 'content': ['{\"_step\": 10931, \"train_ent_seq_acc\": 0.5897193637908255, \"learning_rate\": 3.5717749923336466e-05, \"train_head_rel_acc\": 0.4395877451612798, \"time\": 6676.92028927803, \"_timestamp\": 1591001028.113675, \"train_loss\": 3.299793536579633e-05, \"train_tail_rel_acc\": 0.4369925572886481, \"_runtime\": 82656.128439188, \"val_ent_seq_acc\": 0.55924770870079, \"val_prec\": 0.6523953225197977, \"val_f1\": 0.7190894443660859, \"val_head_rel_acc\": 0.47204877655491245, \"val_tail_rel_acc\": 0.4732381907905669, \"val_recall\": 0.8009725599166284}\\n']}}}}\n"
     ]
    },
    {
     "name": "stdout",
     "output_type": "stream",
     "text": [
      "Epoch: 9/50, batch: 9090/12522, train_loss: 3.297631821441137e-05, t_ent_sample_acc: 0.5895856400166932, t_head_rel_sample_acc: 0.4400990191777416, t_tail_rel_sample_acc: 0.43744041989378146,lr: 3.543643784518482e-05, batch_time: 0.7466096878051758, total_time: 6748.684925317764 ----------------"
     ]
    },
    {
     "name": "stderr",
     "output_type": "stream",
     "text": [
      "requests_with_retry encountered retryable exception: 500 Server Error: Internal Server Error for url: https://api.wandb.ai/files/wycheng/nyt_single/1b7r0hef/file_stream. args: ('https://api.wandb.ai/files/wycheng/nyt_single/1b7r0hef/file_stream',), kwargs: {'json': {'files': {'output.log': {'offset': 96, 'content': ['2020-06-01T08:43:48.112647 Epoch: 9/50, batch: 8990/12522, train_loss: 3.2999553546623076e-05, t_ent_sample_acc: 0.589747882814243, t_head_rel_sample_acc: 0.43956248610217263, t_tail_rel_sample_acc: 0.436985548674331,lr: 3.5720583099719696e-05, batch_time: 0.730588436126709, total_time: 6676.142932653427 -------------\\r']}, 'wandb-events.jsonl': {'offset': 2563, 'content': ['{\"system.gpu.0.gpu\": 0.0, \"system.gpu.0.memory\": 0.0, \"system.gpu.0.memoryAllocated\": 49.98, \"system.gpu.0.temp\": 39.0, \"system.gpu.process.0.gpu\": 0.0, \"system.gpu.process.0.memory\": 0.0, \"system.gpu.process.0.memoryAllocated\": 49.98, \"system.gpu.process.0.temp\": 39.0, \"system.gpu.0.powerWatts\": 38.81, \"system.gpu.0.powerPercent\": 15.52, \"system.gpu.process.0.powerWatts\": 38.81, \"system.gpu.process.0.powerPercent\": 15.52, \"system.gpu.1.gpu\": 99.27, \"system.gpu.1.memory\": 16.73, \"system.gpu.1.memoryAllocated\": 58.92, \"system.gpu.1.temp\": 47.0, \"system.gpu.process.1.gpu\": 99.27, \"system.gpu.process.1.memory\": 16.73, \"system.gpu.process.1.memoryAllocated\": 58.92, \"system.gpu.process.1.temp\": 47.0, \"system.gpu.1.powerWatts\": 74.04, \"system.gpu.1.powerPercent\": 29.62, \"system.gpu.process.1.powerWatts\": 74.04, \"system.gpu.process.1.powerPercent\": 29.62, \"system.cpu\": 63.74, \"system.memory\": 43.0, \"system.disk\": 83.1, \"system.proc.memory.availableMB\": 73179.77, \"system.proc.memory.rssMB\": 3786.07, \"system.proc.memory.percent\": 2.95, \"system.proc.cpu.threads\": 49.0, \"system.network.sent\": 39085355601, \"system.network.recv\": 34638006440, \"_wandb\": true, \"_timestamp\": 1591000998, \"_runtime\": 82630}\\n']}, 'wandb-history.jsonl': {'offset': 10928, 'content': ['{\"train_loss\": 3.3006993730525515e-05, \"train_ent_seq_acc\": 0.5897593422734755, \"train_head_rel_acc\": 0.4393854945242877, \"train_tail_rel_acc\": 0.43681881660336747, \"learning_rate\": 3.580267165014129e-05, \"time\": 6654.429778337479, \"_runtime\": 82633.63804841042, \"_timestamp\": 1591001005.6232843, \"_step\": 10928}\\n', '{\"train_loss\": 3.300847210376693e-05, \"train_ent_seq_acc\": 0.5896035521348814, \"train_head_rel_acc\": 0.43949021846504466, \"train_tail_rel_acc\": 0.4369078232481014, \"learning_rate\": 3.57743813475115e-05, \"time\": 6661.977093219757, \"_runtime\": 82641.18526339531, \"_timestamp\": 1591001013.1704993, \"_step\": 10929}\\n', '{\"train_loss\": 3.3007226147983245e-05, \"train_ent_seq_acc\": 0.5896336858933042, \"train_head_rel_acc\": 0.43946480532024873, \"train_tail_rel_acc\": 0.4368667278068393, \"learning_rate\": 3.5746074090395196e-05, \"time\": 6669.403903722763, \"_runtime\": 82648.61205077171, \"_timestamp\": 1591001020.5972867, \"_step\": 10930}\\n', '{\"train_loss\": 3.299793536579633e-05, \"train_ent_seq_acc\": 0.5897193637908255, \"train_head_rel_acc\": 0.4395877451612798, \"train_tail_rel_acc\": 0.4369925572886481, \"learning_rate\": 3.5717749923336466e-05, \"time\": 6676.92028927803, \"_runtime\": 82656.128439188, \"_timestamp\": 1591001028.113675, \"_step\": 10931}\\n']}, 'wandb-summary.json': {'offset': 0, 'content': ['{\"_step\": 10931, \"train_ent_seq_acc\": 0.5897193637908255, \"learning_rate\": 3.5717749923336466e-05, \"train_head_rel_acc\": 0.4395877451612798, \"time\": 6676.92028927803, \"_timestamp\": 1591001028.113675, \"train_loss\": 3.299793536579633e-05, \"train_tail_rel_acc\": 0.4369925572886481, \"_runtime\": 82656.128439188, \"val_ent_seq_acc\": 0.55924770870079, \"val_prec\": 0.6523953225197977, \"val_f1\": 0.7190894443660859, \"val_head_rel_acc\": 0.47204877655491245, \"val_tail_rel_acc\": 0.4732381907905669, \"val_recall\": 0.8009725599166284}\\n']}}}}\n"
     ]
    },
    {
     "name": "stdout",
     "output_type": "stream",
     "text": [
      "Epoch: 9/50, batch: 9153/12522, train_loss: 3.296823282275561e-05, t_ent_sample_acc: 0.5896063369505394, t_head_rel_sample_acc: 0.440128928761228, t_tail_rel_sample_acc: 0.4375068375475092,lr: 3.5256580279916155e-05, batch_time: 0.7715029716491699, total_time: 6798.701800107956 -----------------"
     ]
    },
    {
     "name": "stderr",
     "output_type": "stream",
     "text": [
      "requests_with_retry encountered retryable exception: 500 Server Error: Internal Server Error for url: https://api.wandb.ai/files/wycheng/nyt_single/1b7r0hef/file_stream. args: ('https://api.wandb.ai/files/wycheng/nyt_single/1b7r0hef/file_stream',), kwargs: {'json': {'files': {'output.log': {'offset': 96, 'content': ['2020-06-01T08:43:48.112647 Epoch: 9/50, batch: 8990/12522, train_loss: 3.2999553546623076e-05, t_ent_sample_acc: 0.589747882814243, t_head_rel_sample_acc: 0.43956248610217263, t_tail_rel_sample_acc: 0.436985548674331,lr: 3.5720583099719696e-05, batch_time: 0.730588436126709, total_time: 6676.142932653427 -------------\\r']}, 'wandb-events.jsonl': {'offset': 2563, 'content': ['{\"system.gpu.0.gpu\": 0.0, \"system.gpu.0.memory\": 0.0, \"system.gpu.0.memoryAllocated\": 49.98, \"system.gpu.0.temp\": 39.0, \"system.gpu.process.0.gpu\": 0.0, \"system.gpu.process.0.memory\": 0.0, \"system.gpu.process.0.memoryAllocated\": 49.98, \"system.gpu.process.0.temp\": 39.0, \"system.gpu.0.powerWatts\": 38.81, \"system.gpu.0.powerPercent\": 15.52, \"system.gpu.process.0.powerWatts\": 38.81, \"system.gpu.process.0.powerPercent\": 15.52, \"system.gpu.1.gpu\": 99.27, \"system.gpu.1.memory\": 16.73, \"system.gpu.1.memoryAllocated\": 58.92, \"system.gpu.1.temp\": 47.0, \"system.gpu.process.1.gpu\": 99.27, \"system.gpu.process.1.memory\": 16.73, \"system.gpu.process.1.memoryAllocated\": 58.92, \"system.gpu.process.1.temp\": 47.0, \"system.gpu.1.powerWatts\": 74.04, \"system.gpu.1.powerPercent\": 29.62, \"system.gpu.process.1.powerWatts\": 74.04, \"system.gpu.process.1.powerPercent\": 29.62, \"system.cpu\": 63.74, \"system.memory\": 43.0, \"system.disk\": 83.1, \"system.proc.memory.availableMB\": 73179.77, \"system.proc.memory.rssMB\": 3786.07, \"system.proc.memory.percent\": 2.95, \"system.proc.cpu.threads\": 49.0, \"system.network.sent\": 39085355601, \"system.network.recv\": 34638006440, \"_wandb\": true, \"_timestamp\": 1591000998, \"_runtime\": 82630}\\n']}, 'wandb-history.jsonl': {'offset': 10928, 'content': ['{\"train_loss\": 3.3006993730525515e-05, \"train_ent_seq_acc\": 0.5897593422734755, \"train_head_rel_acc\": 0.4393854945242877, \"train_tail_rel_acc\": 0.43681881660336747, \"learning_rate\": 3.580267165014129e-05, \"time\": 6654.429778337479, \"_runtime\": 82633.63804841042, \"_timestamp\": 1591001005.6232843, \"_step\": 10928}\\n', '{\"train_loss\": 3.300847210376693e-05, \"train_ent_seq_acc\": 0.5896035521348814, \"train_head_rel_acc\": 0.43949021846504466, \"train_tail_rel_acc\": 0.4369078232481014, \"learning_rate\": 3.57743813475115e-05, \"time\": 6661.977093219757, \"_runtime\": 82641.18526339531, \"_timestamp\": 1591001013.1704993, \"_step\": 10929}\\n', '{\"train_loss\": 3.3007226147983245e-05, \"train_ent_seq_acc\": 0.5896336858933042, \"train_head_rel_acc\": 0.43946480532024873, \"train_tail_rel_acc\": 0.4368667278068393, \"learning_rate\": 3.5746074090395196e-05, \"time\": 6669.403903722763, \"_runtime\": 82648.61205077171, \"_timestamp\": 1591001020.5972867, \"_step\": 10930}\\n', '{\"train_loss\": 3.299793536579633e-05, \"train_ent_seq_acc\": 0.5897193637908255, \"train_head_rel_acc\": 0.4395877451612798, \"train_tail_rel_acc\": 0.4369925572886481, \"learning_rate\": 3.5717749923336466e-05, \"time\": 6676.92028927803, \"_runtime\": 82656.128439188, \"_timestamp\": 1591001028.113675, \"_step\": 10931}\\n']}, 'wandb-summary.json': {'offset': 0, 'content': ['{\"_step\": 10931, \"train_ent_seq_acc\": 0.5897193637908255, \"learning_rate\": 3.5717749923336466e-05, \"train_head_rel_acc\": 0.4395877451612798, \"time\": 6676.92028927803, \"_timestamp\": 1591001028.113675, \"train_loss\": 3.299793536579633e-05, \"train_tail_rel_acc\": 0.4369925572886481, \"_runtime\": 82656.128439188, \"val_ent_seq_acc\": 0.55924770870079, \"val_prec\": 0.6523953225197977, \"val_f1\": 0.7190894443660859, \"val_head_rel_acc\": 0.47204877655491245, \"val_tail_rel_acc\": 0.4732381907905669, \"val_recall\": 0.8009725599166284}\\n']}}}}\n"
     ]
    },
    {
     "name": "stdout",
     "output_type": "stream",
     "text": [
      "Epoch: 9/50, batch: 10050/12522, train_loss: 3.269019279784755e-05, t_ent_sample_acc: 0.591857394669483, t_head_rel_sample_acc: 0.44313433774223376, t_tail_rel_sample_acc: 0.4406467754271493,lr: 3.2631712071140645e-05, batch_time: 0.6706485748291016, total_time: 7470.236391067505 ----------------"
     ]
    },
    {
     "name": "stderr",
     "output_type": "stream",
     "text": [
      "requests_with_retry encountered retryable exception: ('Connection aborted.', RemoteDisconnected('Remote end closed connection without response')). args: ('https://api.wandb.ai/files/wycheng/nyt_single/1b7r0hef/file_stream',), kwargs: {'json': {'files': {'output.log': {'offset': 101, 'content': ['2020-06-01T08:53:31.309359 Epoch: 9/50, batch: 9770/12522, train_loss: 3.278901766244773e-05, t_ent_sample_acc: 0.5905151974062837, t_head_rel_sample_acc: 0.4416581464704496, t_tail_rel_sample_acc: 0.43906517466539735,lr: 3.346301854608715e-05, batch_time: 0.7562236785888672, total_time: 7259.350607395172 -------------\\r']}, 'wandb-events.jsonl': {'offset': 2582, 'content': ['{\"system.gpu.0.gpu\": 0.0, \"system.gpu.0.memory\": 0.0, \"system.gpu.0.memoryAllocated\": 49.98, \"system.gpu.0.temp\": 39.0, \"system.gpu.process.0.gpu\": 0.0, \"system.gpu.process.0.memory\": 0.0, \"system.gpu.process.0.memoryAllocated\": 49.98, \"system.gpu.process.0.temp\": 39.0, \"system.gpu.0.powerWatts\": 38.74, \"system.gpu.0.powerPercent\": 15.5, \"system.gpu.process.0.powerWatts\": 38.74, \"system.gpu.process.0.powerPercent\": 15.5, \"system.gpu.1.gpu\": 99.13, \"system.gpu.1.memory\": 17.8, \"system.gpu.1.memoryAllocated\": 58.92, \"system.gpu.1.temp\": 46.8, \"system.gpu.process.1.gpu\": 99.13, \"system.gpu.process.1.memory\": 17.8, \"system.gpu.process.1.memoryAllocated\": 58.92, \"system.gpu.process.1.temp\": 46.8, \"system.gpu.1.powerWatts\": 75.11, \"system.gpu.1.powerPercent\": 30.04, \"system.gpu.process.1.powerWatts\": 75.11, \"system.gpu.process.1.powerPercent\": 30.04, \"system.cpu\": 67.6, \"system.memory\": 43.2, \"system.disk\": 83.1, \"system.proc.memory.availableMB\": 72892.2, \"system.proc.memory.rssMB\": 3786.07, \"system.proc.memory.percent\": 2.95, \"system.proc.cpu.threads\": 49.0, \"system.network.sent\": 39139497055, \"system.network.recv\": 34698040477, \"_wandb\": true, \"_timestamp\": 1591001608, \"_runtime\": 83239}\\n']}, 'wandb-history.jsonl': {'offset': 11006, 'content': ['{\"train_loss\": 3.28125465809721e-05, \"train_ent_seq_acc\": 0.5901687175766691, \"train_head_rel_acc\": 0.4414844564919892, \"train_tail_rel_acc\": 0.43881532588560423, \"learning_rate\": 3.3548538923369836e-05, \"time\": 7237.12696146965, \"_runtime\": 83216.3351149559, \"_timestamp\": 1591001588.320351, \"_step\": 11006}\\n', '{\"train_loss\": 3.2804894459387396e-05, \"train_ent_seq_acc\": 0.5902300767226899, \"train_head_rel_acc\": 0.44149318949318755, \"train_tail_rel_acc\": 0.43887807297108783, \"learning_rate\": 3.351906186013027e-05, \"time\": 7244.770341157913, \"_runtime\": 83223.97850012779, \"_timestamp\": 1591001595.963736, \"_step\": 11007}\\n', '{\"train_loss\": 3.279465584667628e-05, \"train_ent_seq_acc\": 0.5903766839191106, \"train_head_rel_acc\": 0.4415702036234727, \"train_tail_rel_acc\": 0.4389577662480096, \"learning_rate\": 3.3489571391358196e-05, \"time\": 7252.615862369537, \"_runtime\": 83231.82404327393, \"_timestamp\": 1591001603.8092792, \"_step\": 11008}\\n', '{\"train_loss\": 3.2786432812773035e-05, \"train_ent_seq_acc\": 0.5905571055838084, \"train_head_rel_acc\": 0.44168117467023105, \"train_tail_rel_acc\": 0.4391055255198037, \"learning_rate\": 3.346006756345961e-05, \"time\": 7260.117075681686, \"_runtime\": 83239.32526230812, \"_timestamp\": 1591001611.3104982, \"_step\": 11009}\\n']}, 'wandb-summary.json': {'offset': 0, 'content': ['{\"_step\": 11008, \"train_ent_seq_acc\": 0.5903766839191106, \"learning_rate\": 3.3489571391358196e-05, \"train_head_rel_acc\": 0.4415702036234727, \"time\": 7252.615862369537, \"_timestamp\": 1591001603.8092792, \"train_loss\": 3.279465584667628e-05, \"train_tail_rel_acc\": 0.4389577662480096, \"_runtime\": 83231.82404327393, \"val_ent_seq_acc\": 0.55924770870079, \"val_prec\": 0.6523953225197977, \"val_f1\": 0.7190894443660859, \"val_head_rel_acc\": 0.47204877655491245, \"val_tail_rel_acc\": 0.4732381907905669, \"val_recall\": 0.8009725599166284}\\n']}}}}\n"
     ]
    },
    {
     "name": "stdout",
     "output_type": "stream",
     "text": [
      "Epoch: 9/50, batch: 10575/12522, train_loss: 3.262769342923555e-05, t_ent_sample_acc: 0.5931127021385987, t_head_rel_sample_acc: 0.44523247595656285, t_tail_rel_sample_acc: 0.4426792843502464,lr: 3.104845311159759e-05, batch_time: 0.7836534976959229, total_time: 7863.465853214264 -----------------"
     ]
    },
    {
     "name": "stderr",
     "output_type": "stream",
     "text": [
      "requests_with_retry encountered retryable exception: ('Connection aborted.', RemoteDisconnected('Remote end closed connection without response')). args: ('https://api.wandb.ai/files/wycheng/nyt_single/1b7r0hef/file_stream',), kwargs: {'json': {'files': {'output.log': {'offset': 102, 'content': ['2020-06-01T09:00:05.346891 Epoch: 9/50, batch: 10289/12522, train_loss: 3.269825291121999e-05, t_ent_sample_acc: 0.5923154326955041, t_head_rel_sample_acc: 0.44405028965066734, t_tail_rel_sample_acc: 0.4414261278000016,lr: 3.1914645287486544e-05, batch_time: 0.7806963920593262, total_time: 7653.430941104889 -------------\\r']}, 'wandb-events.jsonl': {'offset': 2594, 'content': ['{\"system.gpu.0.gpu\": 0.0, \"system.gpu.0.memory\": 0.0, \"system.gpu.0.memoryAllocated\": 49.98, \"system.gpu.0.temp\": 39.0, \"system.gpu.process.0.gpu\": 0.0, \"system.gpu.process.0.memory\": 0.0, \"system.gpu.process.0.memoryAllocated\": 49.98, \"system.gpu.process.0.temp\": 39.0, \"system.gpu.0.powerWatts\": 38.52, \"system.gpu.0.powerPercent\": 15.41, \"system.gpu.process.0.powerWatts\": 38.52, \"system.gpu.process.0.powerPercent\": 15.41, \"system.gpu.1.gpu\": 99.4, \"system.gpu.1.memory\": 15.6, \"system.gpu.1.memoryAllocated\": 58.92, \"system.gpu.1.temp\": 46.87, \"system.gpu.process.1.gpu\": 99.4, \"system.gpu.process.1.memory\": 15.6, \"system.gpu.process.1.memoryAllocated\": 58.92, \"system.gpu.process.1.temp\": 46.87, \"system.gpu.1.powerWatts\": 72.75, \"system.gpu.1.powerPercent\": 29.1, \"system.gpu.process.1.powerWatts\": 72.75, \"system.gpu.process.1.powerPercent\": 29.1, \"system.cpu\": 63.69, \"system.memory\": 43.4, \"system.disk\": 83.1, \"system.proc.memory.availableMB\": 72714.12, \"system.proc.memory.rssMB\": 3785.39, \"system.proc.memory.percent\": 2.95, \"system.proc.cpu.threads\": 49.0, \"system.network.sent\": 39156849359, \"system.network.recv\": 34726038341, \"_wandb\": true, \"_timestamp\": 1591001993, \"_runtime\": 83624}\\n']}, 'wandb-history.jsonl': {'offset': 11057, 'content': ['{\"train_loss\": 3.27073467363223e-05, \"train_ent_seq_acc\": 0.5921048502138958, \"train_head_rel_acc\": 0.4437128179056588, \"train_tail_rel_acc\": 0.4411764798696629, \"learning_rate\": 3.2029088129956276e-05, \"time\": 7624.761395454407, \"_runtime\": 83603.96955728531, \"_timestamp\": 1591001975.9547932, \"_step\": 11057}\\n', '{\"train_loss\": 3.270474240843667e-05, \"train_ent_seq_acc\": 0.5921775154865992, \"train_head_rel_acc\": 0.44380015883282165, \"train_tail_rel_acc\": 0.4412338071579985, \"learning_rate\": 3.199898697163406e-05, \"time\": 7632.180675268173, \"_runtime\": 83611.3888926506, \"_timestamp\": 1591001983.3741286, \"_step\": 11058}\\n', '{\"train_loss\": 3.270641446715012e-05, \"train_ent_seq_acc\": 0.5922013585145698, \"train_head_rel_acc\": 0.44382242202068206, \"train_tail_rel_acc\": 0.4412423420623823, \"learning_rate\": 3.1968874799757904e-05, \"time\": 7639.544772863388, \"_runtime\": 83618.75292921066, \"_timestamp\": 1591001990.7381651, \"_step\": 11059}\\n', '{\"train_loss\": 3.2700541836497973e-05, \"train_ent_seq_acc\": 0.5922737885583597, \"train_head_rel_acc\": 0.44397433097782724, \"train_tail_rel_acc\": 0.44136433830933514, \"learning_rate\": 3.1938751661712085e-05, \"time\": 7647.299688577652, \"_runtime\": 83626.50783801079, \"_timestamp\": 1591001998.493074, \"_step\": 11060}\\n']}, 'wandb-summary.json': {'offset': 0, 'content': ['{\"_step\": 11060, \"train_ent_seq_acc\": 0.5922737885583597, \"learning_rate\": 3.1938751661712085e-05, \"train_head_rel_acc\": 0.44397433097782724, \"time\": 7647.299688577652, \"_timestamp\": 1591001998.493074, \"train_loss\": 3.2700541836497973e-05, \"train_tail_rel_acc\": 0.44136433830933514, \"_runtime\": 83626.50783801079, \"val_ent_seq_acc\": 0.55924770870079, \"val_prec\": 0.6523953225197977, \"val_f1\": 0.7190894443660859, \"val_head_rel_acc\": 0.47204877655491245, \"val_tail_rel_acc\": 0.4732381907905669, \"val_recall\": 0.8009725599166284}\\n']}}}}\n"
     ]
    },
    {
     "name": "stdout",
     "output_type": "stream",
     "text": [
      "Epoch: 9/50, batch: 12522/12522, train_loss: 3.23019502655247e-05, t_ent_sample_acc: 0.5947266294802555, t_head_rel_sample_acc: 0.45030081353878143, t_tail_rel_sample_acc: 0.44789172014981066,lr: 2.5003136073156602e-05, batch_time: 0.5261039733886719, total_time: 9336.009167194366 ----------------"
     ]
    },
    {
     "name": "stderr",
     "output_type": "stream",
     "text": [
      "Validating: 100%|██████████| 1121/1121 [08:27<00:00,  2.21it/s]"
     ]
    },
    {
     "name": "stdout",
     "output_type": "stream",
     "text": [
      "{'time': 507.99725794792175,\n",
      " 'val_ent_seq_acc': 0.5656408105680285,\n",
      " 'val_f1': 0.7496153451139834,\n",
      " 'val_head_rel_acc': 0.5176182095755646,\n",
      " 'val_prec': 0.6891738966427698,\n",
      " 'val_recall': 0.821677535417126,\n",
      " 'val_tail_rel_acc': 0.519253654167867}\n",
      "Current avf_f1: 0.7496153451139834, Best f1: 0.7496153451139834\n"
     ]
    },
    {
     "name": "stderr",
     "output_type": "stream",
     "text": [
      "\n"
     ]
    },
    {
     "name": "stdout",
     "output_type": "stream",
     "text": [
      "Epoch: 10/50, batch: 2761/12522, train_loss: 2.871366658567575e-05, t_ent_sample_acc: 0.6140891137933956, t_head_rel_sample_acc: 0.5018713138309435, t_tail_rel_sample_acc: 0.5035615226187079,lr: 1.6516328306976757e-05, batch_time: 0.8948502540588379, total_time: 2023.7700617313385 ---------------"
     ]
    },
    {
     "name": "stderr",
     "output_type": "stream",
     "text": [
      "requests_with_retry encountered retryable exception: ('Connection aborted.', RemoteDisconnected('Remote end closed connection without response')). args: ('https://api.wandb.ai/files/wycheng/nyt_single/1b7r0hef/file_stream',), kwargs: {'json': {'files': {'output.log': {'offset': 112, 'content': ['2020-06-01T10:06:50.442647 Epoch: 10/50, batch: 2472/12522, train_loss: 2.871957496309471e-05, t_ent_sample_acc: 0.6140776855033192, t_head_rel_sample_acc: 0.5012810250810531, t_tail_rel_sample_acc: 0.5033711005593002,lr: 1.7374260922714885e-05, batch_time: 0.7570328712463379, total_time: 1814.0514290332794 -------------\\r']}, 'wandb-history.jsonl': {'offset': 11529, 'content': ['{\"train_loss\": 2.8693713679641976e-05, \"train_ent_seq_acc\": 0.6140134531141848, \"train_head_rel_acc\": 0.5009598355082905, \"train_tail_rel_acc\": 0.5028794844458987, \"learning_rate\": 1.749681253627453e-05, \"time\": 1784.3584685325623, \"_runtime\": 87607.99229741096, \"_timestamp\": 1591005979.9775333, \"_step\": 11529}\\n', '{\"train_loss\": 2.8678198840028463e-05, \"train_ent_seq_acc\": 0.6143657126994663, \"train_head_rel_acc\": 0.5014338496338389, \"train_tail_rel_acc\": 0.5032773563445274, \"learning_rate\": 1.746690347404321e-05, \"time\": 1791.116156578064, \"_runtime\": 87614.74997925758, \"_timestamp\": 1591005986.7352152, \"_step\": 11530}\\n', '{\"train_loss\": 2.8734974928494502e-05, \"train_ent_seq_acc\": 0.6142391016754701, \"train_head_rel_acc\": 0.5014959990929604, \"train_tail_rel_acc\": 0.5033999838083921, \"learning_rate\": 1.743700626583666e-05, \"time\": 1797.9164817333221, \"_runtime\": 87621.5503282547, \"_timestamp\": 1591005993.5355642, \"_step\": 11531}\\n', '{\"train_loss\": 2.870206623431559e-05, \"train_ent_seq_acc\": 0.6145875816517659, \"train_head_rel_acc\": 0.5017608129145023, \"train_tail_rel_acc\": 0.50379250731133, \"learning_rate\": 1.7407120958700915e-05, \"time\": 1805.6087415218353, \"_runtime\": 87629.24261593819, \"_timestamp\": 1591006001.2278519, \"_step\": 11532}\\n', '{\"train_loss\": 2.871522158282825e-05, \"train_ent_seq_acc\": 0.6141913011820873, \"train_head_rel_acc\": 0.501281543504801, \"train_tail_rel_acc\": 0.5033724648250061, \"learning_rate\": 1.7377247599663266e-05, \"time\": 1813.2829830646515, \"_runtime\": 87636.91681146622, \"_timestamp\": 1591006008.9020474, \"_step\": 11533}\\n']}, 'wandb-summary.json': {'offset': 0, 'content': ['{\"_step\": 11533, \"train_ent_seq_acc\": 0.6141913011820873, \"learning_rate\": 1.7377247599663266e-05, \"train_head_rel_acc\": 0.501281543504801, \"time\": 1813.2829830646515, \"_timestamp\": 1591006008.9020474, \"train_loss\": 2.871522158282825e-05, \"train_tail_rel_acc\": 0.5033724648250061, \"_runtime\": 87636.91681146622, \"val_ent_seq_acc\": 0.5656408105680285, \"val_prec\": 0.6891738966427698, \"val_f1\": 0.7496153451139834, \"val_head_rel_acc\": 0.5176182095755646, \"val_tail_rel_acc\": 0.519253654167867, \"val_recall\": 0.821677535417126}\\n']}}}}\n"
     ]
    },
    {
     "name": "stdout",
     "output_type": "stream",
     "text": [
      "Epoch: 10/50, batch: 9766/12522, train_loss: 2.797835477747475e-05, t_ent_sample_acc: 0.6242405786612911, t_head_rel_sample_acc: 0.5124070018960173, t_tail_rel_sample_acc: 0.5135674906630217,lr: 1.4802762224881612e-06, batch_time: 0.782620906829834, total_time: 7182.916284561157 ----------------"
     ]
    },
    {
     "name": "stderr",
     "output_type": "stream",
     "text": [
      "requests_with_retry encountered retryable exception: ('Connection aborted.', OSError(\"(104, 'ECONNRESET')\")). args: ('https://api.wandb.ai/files/wycheng/nyt_single/1b7r0hef/file_stream',), kwargs: {'json': {'files': {'output.log': {'offset': 113, 'content': ['2020-06-01T11:32:17.385611 Epoch: 10/50, batch: 9443/12522, train_loss: 2.803080535818271e-05, t_ent_sample_acc: 0.6237248210669397, t_head_rel_sample_acc: 0.5120900960247181, t_tail_rel_sample_acc: 0.5132373302960364,lr: 1.8428693146844755e-06, batch_time: 0.6025581359863281, total_time: 6940.847803592682 -------------\\r']}, 'wandb-events.jsonl': {'offset': 2879, 'content': ['{\"system.gpu.0.gpu\": 0.0, \"system.gpu.0.memory\": 0.0, \"system.gpu.0.memoryAllocated\": 31.67, \"system.gpu.0.temp\": 39.0, \"system.gpu.process.0.gpu\": 0.0, \"system.gpu.process.0.memory\": 0.0, \"system.gpu.process.0.memoryAllocated\": 31.67, \"system.gpu.process.0.temp\": 39.0, \"system.gpu.0.powerWatts\": 38.64, \"system.gpu.0.powerPercent\": 15.46, \"system.gpu.process.0.powerWatts\": 38.64, \"system.gpu.process.0.powerPercent\": 15.46, \"system.gpu.1.gpu\": 99.33, \"system.gpu.1.memory\": 15.93, \"system.gpu.1.memoryAllocated\": 58.92, \"system.gpu.1.temp\": 46.8, \"system.gpu.process.1.gpu\": 99.33, \"system.gpu.process.1.memory\": 15.93, \"system.gpu.process.1.memoryAllocated\": 58.92, \"system.gpu.process.1.temp\": 46.8, \"system.gpu.1.powerWatts\": 69.72, \"system.gpu.1.powerPercent\": 27.89, \"system.gpu.process.1.powerWatts\": 69.72, \"system.gpu.process.1.powerPercent\": 27.89, \"system.cpu\": 63.81, \"system.memory\": 37.0, \"system.disk\": 83.1, \"system.proc.memory.availableMB\": 80903.61, \"system.proc.memory.rssMB\": 3786.08, \"system.proc.memory.percent\": 2.95, \"system.proc.cpu.threads\": 49.0, \"system.network.sent\": 39643055450, \"system.network.recv\": 35132050075, \"_wandb\": true, \"_timestamp\": 1591011132, \"_runtime\": 92763}\\n']}, 'wandb-history.jsonl': {'offset': 12227, 'content': ['{\"train_loss\": 2.8036162432028955e-05, \"train_ent_seq_acc\": 0.6237736143691927, \"train_head_rel_acc\": 0.5122551740517387, \"train_tail_rel_acc\": 0.5133885994653319, \"learning_rate\": 1.8808716229419432e-06, \"time\": 6917.776098251343, \"_runtime\": 92741.40991568565, \"_timestamp\": 1591011113.3951516, \"_step\": 12227}\\n', '{\"train_loss\": 2.8033593302871727e-05, \"train_ent_seq_acc\": 0.6237837616273165, \"train_head_rel_acc\": 0.5121537108366156, \"train_tail_rel_acc\": 0.5133036241392436, \"learning_rate\": 1.868955854664403e-06, \"time\": 6925.276312589645, \"_runtime\": 92748.91013407707, \"_timestamp\": 1591011120.89537, \"_step\": 12228}\\n', '{\"train_loss\": 2.8032016940438437e-05, \"train_ent_seq_acc\": 0.6237762151549672, \"train_head_rel_acc\": 0.51208780722203, \"train_tail_rel_acc\": 0.5132365012336998, \"learning_rate\": 1.8570764852262195e-06, \"time\": 6931.9963846206665, \"_runtime\": 92755.63021826744, \"_timestamp\": 1591011127.6154542, \"_step\": 12229}\\n', '{\"train_loss\": 2.8029086835416775e-05, \"train_ent_seq_acc\": 0.6237863381700538, \"train_head_rel_acc\": 0.5121456177043228, \"train_tail_rel_acc\": 0.5132930950080044, \"learning_rate\": 1.845233533320692e-06, \"time\": 6939.54688668251, \"_runtime\": 92763.1807334423, \"_timestamp\": 1591011135.1659694, \"_step\": 12230}\\n']}, 'wandb-summary.json': {'offset': 0, 'content': ['{\"_step\": 12230, \"train_ent_seq_acc\": 0.6237863381700538, \"learning_rate\": 1.845233533320692e-06, \"train_head_rel_acc\": 0.5121456177043228, \"time\": 6939.54688668251, \"_timestamp\": 1591011135.1659694, \"train_loss\": 2.8029086835416775e-05, \"train_tail_rel_acc\": 0.5132930950080044, \"_runtime\": 92763.1807334423, \"val_ent_seq_acc\": 0.5656408105680285, \"val_prec\": 0.6891738966427698, \"val_f1\": 0.7496153451139834, \"val_head_rel_acc\": 0.5176182095755646, \"val_tail_rel_acc\": 0.519253654167867, \"val_recall\": 0.821677535417126}\\n']}}}}\n"
     ]
    },
    {
     "name": "stdout",
     "output_type": "stream",
     "text": [
      "Epoch: 10/50, batch: 12522/12522, train_loss: 2.8007027741892203e-05, t_ent_sample_acc: 0.6233163127487336, t_head_rel_sample_acc: 0.5142815429512028, t_tail_rel_sample_acc: 0.5152398562780243,lr: 1.9669909867570113e-13, batch_time: 0.5844829082489014, total_time: 9230.153789281845 --------------"
     ]
    },
    {
     "name": "stderr",
     "output_type": "stream",
     "text": [
      "Validating:  98%|█████████▊| 1099/1121 [08:20<00:11,  1.86it/s]requests_with_retry encountered retryable exception: ('Connection aborted.', OSError(\"(104, 'ECONNRESET')\")). args: ('https://api.wandb.ai/files/wycheng/nyt_single/1b7r0hef/file_stream',), kwargs: {'json': {'files': {'output.log': {'offset': 114, 'content': ['2020-06-01T12:04:43.720038 Epoch: 10/50, batch: 12057/12522, train_loss: 2.803574033404073e-05, t_ent_sample_acc: 0.6236764419688864, t_head_rel_sample_acc: 0.5138094170632188, t_tail_rel_sample_acc: 0.514929098552551,lr: 4.270222722905504e-08, batch_time: 0.6713340282440186, total_time: 8887.44466972351 -------------\\r']}, 'wandb-history.jsonl': {'offset': 12488, 'content': ['{\"train_loss\": 2.804356361995718e-05, \"train_ent_seq_acc\": 0.6235615611770527, \"train_head_rel_acc\": 0.5137121266473224, \"train_tail_rel_acc\": 0.5148490259355519, \"learning_rate\": 4.955258108784722e-08, \"time\": 8859.864610671997, \"_runtime\": 94683.4984600544, \"_timestamp\": 1591013055.483696, \"_step\": 12488}\\n', '{\"train_loss\": 2.8042931513667227e-05, \"train_ent_seq_acc\": 0.6235558302456399, \"train_head_rel_acc\": 0.5136591700229965, \"train_tail_rel_acc\": 0.5148089774396986, \"learning_rate\": 4.7598658545863764e-08, \"time\": 8867.565103530884, \"_runtime\": 94691.19892859459, \"_timestamp\": 1591013063.1841645, \"_step\": 12489}\\n', '{\"train_loss\": 2.803557958527839e-05, \"train_ent_seq_acc\": 0.6236470000196974, \"train_head_rel_acc\": 0.5137724005228538, \"train_tail_rel_acc\": 0.514907411433377, \"learning_rate\": 4.568400091740921e-08, \"time\": 8875.246581792831, \"_runtime\": 94698.88040280342, \"_timestamp\": 1591013070.8656387, \"_step\": 12490}\\n', '{\"train_loss\": 2.8034713280786103e-05, \"train_ent_seq_acc\": 0.6236550378142606, \"train_head_rel_acc\": 0.5138162925472182, \"train_tail_rel_acc\": 0.5149365315068046, \"learning_rate\": 4.3808611215367944e-08, \"time\": 8883.412671089172, \"_runtime\": 94707.04648828506, \"_timestamp\": 1591013079.0317242, \"_step\": 12491}\\n']}, 'wandb-summary.json': {'offset': 0, 'content': ['{\"_step\": 12491, \"train_ent_seq_acc\": 0.6236550378142606, \"learning_rate\": 4.3808611215367944e-08, \"train_head_rel_acc\": 0.5138162925472182, \"time\": 8883.412671089172, \"_timestamp\": 1591013079.0317242, \"train_loss\": 2.8034713280786103e-05, \"train_tail_rel_acc\": 0.5149365315068046, \"_runtime\": 94707.04648828506, \"val_ent_seq_acc\": 0.5656408105680285, \"val_prec\": 0.6891738966427698, \"val_f1\": 0.7496153451139834, \"val_head_rel_acc\": 0.5176182095755646, \"val_tail_rel_acc\": 0.519253654167867, \"val_recall\": 0.821677535417126}\\n']}}}}\n",
      "Validating: 100%|██████████| 1121/1121 [08:32<00:00,  2.19it/s]"
     ]
    },
    {
     "name": "stdout",
     "output_type": "stream",
     "text": [
      "{'time': 512.0776994228363,\n",
      " 'val_ent_seq_acc': 0.5743384018314406,\n",
      " 'val_f1': 0.7561098259584604,\n",
      " 'val_head_rel_acc': 0.5266874930775666,\n",
      " 'val_prec': 0.7089777442474471,\n",
      " 'val_recall': 0.809954751131213,\n",
      " 'val_tail_rel_acc': 0.5260927861126058}\n",
      "Current avf_f1: 0.7561098259584604, Best f1: 0.7561098259584604\n"
     ]
    },
    {
     "name": "stderr",
     "output_type": "stream",
     "text": [
      "\n"
     ]
    },
    {
     "name": "stdout",
     "output_type": "stream",
     "text": [
      "Epoch: 11/50, batch: 637/12522, train_loss: 2.9055083981505478e-05, t_ent_sample_acc: 0.6104134126585357, t_head_rel_sample_acc: 0.48927264271108095, t_tail_rel_sample_acc: 0.4924123606277598,lr: 4.9920478195607335e-05, batch_time: 0.7342188358306885, total_time: 472.654794216156 ----------------"
     ]
    },
    {
     "name": "stderr",
     "output_type": "stream",
     "text": [
      "requests_with_retry encountered retryable exception: ('Connection aborted.', RemoteDisconnected('Remote end closed connection without response')). args: ('https://api.wandb.ai/files/wycheng/nyt_single/1b7r0hef/file_stream',), kwargs: {'json': {'files': {'output.log': {'offset': 124, 'content': ['2020-06-01T12:23:21.165616 Epoch: 11/50, batch: 350/12522, train_loss: 2.933489236706269e-05, t_ent_sample_acc: 0.5947619205713273, t_head_rel_sample_acc: 0.4785714383210455, t_tail_rel_sample_acc: 0.48095239090068,lr: 4.9976045679550634e-05, batch_time: 0.759840726852417, total_time: 262.15660548210144 -------------\\r']}, 'wandb-events.jsonl': {'offset': 2974, 'content': ['{\"system.gpu.0.gpu\": 0.0, \"system.gpu.0.memory\": 0.0, \"system.gpu.0.memoryAllocated\": 31.67, \"system.gpu.0.temp\": 39.0, \"system.gpu.process.0.gpu\": 0.0, \"system.gpu.process.0.memory\": 0.0, \"system.gpu.process.0.memoryAllocated\": 31.67, \"system.gpu.process.0.temp\": 39.0, \"system.gpu.0.powerWatts\": 38.66, \"system.gpu.0.powerPercent\": 15.47, \"system.gpu.process.0.powerWatts\": 38.66, \"system.gpu.process.0.powerPercent\": 15.47, \"system.gpu.1.gpu\": 99.27, \"system.gpu.1.memory\": 18.53, \"system.gpu.1.memoryAllocated\": 58.92, \"system.gpu.1.temp\": 46.67, \"system.gpu.process.1.gpu\": 99.27, \"system.gpu.process.1.memory\": 18.53, \"system.gpu.process.1.memoryAllocated\": 58.92, \"system.gpu.process.1.temp\": 46.67, \"system.gpu.1.powerWatts\": 71.48, \"system.gpu.1.powerPercent\": 28.59, \"system.gpu.process.1.powerWatts\": 71.48, \"system.gpu.process.1.powerPercent\": 28.59, \"system.cpu\": 63.61, \"system.memory\": 37.0, \"system.disk\": 83.1, \"system.proc.memory.availableMB\": 80919.27, \"system.proc.memory.rssMB\": 3786.06, \"system.proc.memory.percent\": 2.95, \"system.proc.cpu.threads\": 49.0, \"system.network.sent\": 39812714755, \"system.network.recv\": 35190256958, \"_wandb\": true, \"_timestamp\": 1591014173, \"_runtime\": 95804}\\n']}, 'wandb-history.jsonl': {'offset': 12572, 'content': ['{\"train_loss\": 2.9218268707077995e-05, \"train_ent_seq_acc\": 0.5965732248308503, \"train_head_rel_acc\": 0.4807892103340024, \"train_tail_rel_acc\": 0.4833852646878204, \"learning_rate\": 4.9979860716894e-05, \"time\": 239.9575707912445, \"_runtime\": 95806.1880531311, \"_timestamp\": 1591014178.173289, \"_step\": 12572}\\n', '{\"train_loss\": 2.914371401406726e-05, \"train_ent_seq_acc\": 0.5971802779644998, \"train_head_rel_acc\": 0.48086607231114203, \"train_tail_rel_acc\": 0.48338369601982956, \"learning_rate\": 4.997858252699162e-05, \"time\": 247.66084170341492, \"_runtime\": 95813.89132452011, \"_timestamp\": 1591014185.8765604, \"_step\": 12573}\\n', '{\"train_loss\": 2.9349154917121445e-05, \"train_ent_seq_acc\": 0.597751726633992, \"train_head_rel_acc\": 0.4799609092061471, \"train_tail_rel_acc\": 0.4814271851281616, \"learning_rate\": 4.9977265030977185e-05, \"time\": 255.2030475139618, \"_runtime\": 95821.4335296154, \"_timestamp\": 1591014193.4187655, \"_step\": 12574}\\n', '{\"train_loss\": 2.927501641235535e-05, \"train_ent_seq_acc\": 0.595441611319186, \"train_head_rel_acc\": 0.4800569897788203, \"train_tail_rel_acc\": 0.4819563253228141, \"learning_rate\": 4.9975908230923915e-05, \"time\": 262.9509086608887, \"_runtime\": 95829.18138957024, \"_timestamp\": 1591014201.1666255, \"_step\": 12575}\\n']}, 'wandb-summary.json': {'offset': 0, 'content': ['{\"_step\": 12575, \"train_ent_seq_acc\": 0.595441611319186, \"learning_rate\": 4.9975908230923915e-05, \"train_head_rel_acc\": 0.4800569897788203, \"time\": 262.9509086608887, \"_timestamp\": 1591014201.1666255, \"train_loss\": 2.927501641235535e-05, \"train_tail_rel_acc\": 0.4819563253228141, \"_runtime\": 95829.18138957024, \"val_ent_seq_acc\": 0.5743384018314406, \"val_prec\": 0.7089777442474471, \"val_f1\": 0.7561098259584604, \"val_head_rel_acc\": 0.5266874930775666, \"val_tail_rel_acc\": 0.5260927861126058, \"val_recall\": 0.809954751131213}\\n']}}}}\n"
     ]
    },
    {
     "name": "stdout",
     "output_type": "stream",
     "text": [
      "Epoch: 11/50, batch: 3061/12522, train_loss: 2.957383006801237e-05, t_ent_sample_acc: 0.6094958233515915, t_head_rel_sample_acc: 0.48736797324760567, t_tail_rel_sample_acc: 0.4872590766861251,lr: 4.8180692679403205e-05, batch_time: 0.7000739574432373, total_time: 2294.291922569275 ----------------"
     ]
    },
    {
     "name": "stderr",
     "output_type": "stream",
     "text": [
      "requests_with_retry encountered retryable exception: ('Connection aborted.', RemoteDisconnected('Remote end closed connection without response')). args: ('https://api.wandb.ai/files/wycheng/nyt_single/1b7r0hef/file_stream',), kwargs: {'json': {'files': {'output.log': {'offset': 125, 'content': ['2020-06-01T12:53:43.098670 Epoch: 11/50, batch: 2788/12522, train_loss: 2.9618358306768228e-05, t_ent_sample_acc: 0.6092778732906626, t_head_rel_sample_acc: 0.4869081885467044, t_tail_rel_sample_acc: 0.4870277488419794,lr: 4.848766411488337e-05, batch_time: 0.8062024116516113, total_time: 2084.2066147327423 -------------\\r']}, 'wandb-events.jsonl': {'offset': 3031, 'content': ['{\"system.gpu.0.gpu\": 0.0, \"system.gpu.0.memory\": 0.0, \"system.gpu.0.memoryAllocated\": 31.67, \"system.gpu.0.temp\": 39.0, \"system.gpu.process.0.gpu\": 0.0, \"system.gpu.process.0.memory\": 0.0, \"system.gpu.process.0.memoryAllocated\": 31.67, \"system.gpu.process.0.temp\": 39.0, \"system.gpu.0.powerWatts\": 38.61, \"system.gpu.0.powerPercent\": 15.44, \"system.gpu.process.0.powerWatts\": 38.61, \"system.gpu.process.0.powerPercent\": 15.44, \"system.gpu.1.gpu\": 99.27, \"system.gpu.1.memory\": 13.27, \"system.gpu.1.memoryAllocated\": 58.92, \"system.gpu.1.temp\": 46.33, \"system.gpu.process.1.gpu\": 99.27, \"system.gpu.process.1.memory\": 13.27, \"system.gpu.process.1.memoryAllocated\": 58.92, \"system.gpu.process.1.temp\": 46.33, \"system.gpu.1.powerWatts\": 75.23, \"system.gpu.1.powerPercent\": 30.09, \"system.gpu.process.1.powerWatts\": 75.23, \"system.gpu.process.1.powerPercent\": 30.09, \"system.cpu\": 63.69, \"system.memory\": 37.9, \"system.disk\": 83.1, \"system.proc.memory.availableMB\": 79717.01, \"system.proc.memory.rssMB\": 3786.09, \"system.proc.memory.percent\": 2.95, \"system.proc.cpu.threads\": 49.0, \"system.network.sent\": 39910368128, \"system.network.recv\": 35238777361, \"_wandb\": true, \"_timestamp\": 1591015997, \"_runtime\": 97628}\\n']}, 'wandb-history.jsonl': {'offset': 12815, 'content': ['{\"train_loss\": 2.9577941602187478e-05, \"train_ent_seq_acc\": 0.6099600303784062, \"train_head_rel_acc\": 0.48721678030139876, \"train_tail_rel_acc\": 0.48758028476336185, \"learning_rate\": 4.852715645355845e-05, \"time\": 2056.05806016922, \"_runtime\": 97622.28855252266, \"_timestamp\": 1591015994.2737885, \"_step\": 12815}\\n', '{\"train_loss\": 2.9612120061545135e-05, \"train_ent_seq_acc\": 0.6096824980362824, \"train_head_rel_acc\": 0.4866594335429265, \"train_tail_rel_acc\": 0.4868405276409572, \"learning_rate\": 4.851653279301599e-05, \"time\": 2063.4472024440765, \"_runtime\": 97629.67768979073, \"_timestamp\": 1591016001.6629257, \"_step\": 12816}\\n', '{\"train_loss\": 2.96020041342514e-05, \"train_ent_seq_acc\": 0.6094069688038807, \"train_head_rel_acc\": 0.4868278706204973, \"train_tail_rel_acc\": 0.48694816440913874, \"learning_rate\": 4.8505872127032095e-05, \"time\": 2071.09640789032, \"_runtime\": 97637.32688951492, \"_timestamp\": 1591016009.3121254, \"_step\": 12817}\\n', '{\"train_loss\": 2.9601956549622422e-05, \"train_ent_seq_acc\": 0.6093132125092513, \"train_head_rel_acc\": 0.486695443933407, \"train_tail_rel_acc\": 0.48687523564860274, \"learning_rate\": 4.84951744723823e-05, \"time\": 2078.569274663925, \"_runtime\": 97644.79975914955, \"_timestamp\": 1591016016.784995, \"_step\": 12818}\\n']}, 'wandb-summary.json': {'offset': 0, 'content': ['{\"_step\": 12818, \"train_ent_seq_acc\": 0.6093132125092513, \"learning_rate\": 4.84951744723823e-05, \"train_head_rel_acc\": 0.486695443933407, \"time\": 2078.569274663925, \"_timestamp\": 1591016016.784995, \"train_loss\": 2.9601956549622422e-05, \"train_tail_rel_acc\": 0.48687523564860274, \"_runtime\": 97644.79975914955, \"val_ent_seq_acc\": 0.5743384018314406, \"val_prec\": 0.7089777442474471, \"val_f1\": 0.7561098259584604, \"val_head_rel_acc\": 0.5266874930775666, \"val_tail_rel_acc\": 0.5260927861126058, \"val_recall\": 0.809954751131213}\\n']}}}}\n"
     ]
    },
    {
     "name": "stdout",
     "output_type": "stream",
     "text": [
      "Epoch: 11/50, batch: 6456/12522, train_loss: 2.9565024708936143e-05, t_ent_sample_acc: 0.6098719694463552, t_head_rel_sample_acc: 0.4914549880925349, t_tail_rel_sample_acc: 0.4908095937905443,lr: 4.2242275073451335e-05, batch_time: 0.7512955665588379, total_time: 4844.479728937149 ----------------"
     ]
    },
    {
     "name": "stderr",
     "output_type": "stream",
     "text": [
      "requests_with_retry encountered retryable exception: ('Connection aborted.', RemoteDisconnected('Remote end closed connection without response')). args: ('https://api.wandb.ai/files/wycheng/nyt_single/1b7r0hef/file_stream',), kwargs: {'json': {'files': {'output.log': {'offset': 126, 'content': ['2020-06-01T13:36:13.653576 Epoch: 11/50, batch: 6175/12522, train_loss: 2.9497799966413904e-05, t_ent_sample_acc: 0.6104453598680767, t_head_rel_sample_acc: 0.4915519676276064, t_tail_rel_sample_acc: 0.49133604336122755,lr: 4.286953881717185e-05, batch_time: 0.7646033763885498, total_time: 4634.669785261154 -------------\\r']}, 'wandb-events.jsonl': {'offset': 3111, 'content': ['{\"system.gpu.0.gpu\": 0.0, \"system.gpu.0.memory\": 0.0, \"system.gpu.0.memoryAllocated\": 31.67, \"system.gpu.0.temp\": 39.0, \"system.gpu.process.0.gpu\": 0.0, \"system.gpu.process.0.memory\": 0.0, \"system.gpu.process.0.memoryAllocated\": 31.67, \"system.gpu.process.0.temp\": 39.0, \"system.gpu.0.powerWatts\": 38.61, \"system.gpu.0.powerPercent\": 15.44, \"system.gpu.process.0.powerWatts\": 38.61, \"system.gpu.process.0.powerPercent\": 15.44, \"system.gpu.1.gpu\": 99.2, \"system.gpu.1.memory\": 18.13, \"system.gpu.1.memoryAllocated\": 58.92, \"system.gpu.1.temp\": 46.67, \"system.gpu.process.1.gpu\": 99.2, \"system.gpu.process.1.memory\": 18.13, \"system.gpu.process.1.memoryAllocated\": 58.92, \"system.gpu.process.1.temp\": 46.67, \"system.gpu.1.powerWatts\": 75.72, \"system.gpu.1.powerPercent\": 30.29, \"system.gpu.process.1.powerWatts\": 75.72, \"system.gpu.process.1.powerPercent\": 30.29, \"system.cpu\": 63.34, \"system.memory\": 38.71, \"system.disk\": 83.1, \"system.proc.memory.availableMB\": 78661.17, \"system.proc.memory.rssMB\": 3786.11, \"system.proc.memory.percent\": 2.95, \"system.proc.cpu.threads\": 49.0, \"system.network.sent\": 40053980105, \"system.network.recv\": 35325944015, \"_wandb\": true, \"_timestamp\": 1591018560, \"_runtime\": 100191}\\n']}, 'wandb-history.jsonl': {'offset': 13154, 'content': ['{\"train_loss\": 2.9504246740172013e-05, \"train_ent_seq_acc\": 0.6105140471008076, \"train_head_rel_acc\": 0.4915323345334265, \"train_tail_rel_acc\": 0.4913423547812111, \"learning_rate\": 4.2943945059844033e-05, \"time\": 4608.710112810135, \"_runtime\": 100174.94059610367, \"_timestamp\": 1591018546.925832, \"_step\": 13154}\\n', '{\"train_loss\": 2.9499303421980917e-05, \"train_ent_seq_acc\": 0.6104427621706078, \"train_head_rel_acc\": 0.49149190914173513, \"train_tail_rel_acc\": 0.49130223825188735, \"learning_rate\": 4.2922094694030876e-05, \"time\": 4616.345792531967, \"_runtime\": 100182.5763502121, \"_timestamp\": 1591018554.5615861, \"_step\": 13155}\\n', '{\"train_loss\": 2.9505578120370992e-05, \"train_ent_seq_acc\": 0.6103987605264871, \"train_head_rel_acc\": 0.4914516149824305, \"train_tail_rel_acc\": 0.49120814817483077, \"learning_rate\": 4.290021612614254e-05, \"time\": 4624.017860651016, \"_runtime\": 100190.24836683273, \"_timestamp\": 1591018562.2336028, \"_step\": 13156}\\n', '{\"train_loss\": 2.9503039333887135e-05, \"train_ent_seq_acc\": 0.6104359256353858, \"train_head_rel_acc\": 0.49143845946432185, \"train_tail_rel_acc\": 0.4912494032889281, \"learning_rate\": 4.287830939060699e-05, \"time\": 4631.619526147842, \"_runtime\": 100197.85002040863, \"_timestamp\": 1591018569.8352563, \"_step\": 13157}\\n']}, 'wandb-summary.json': {'offset': 0, 'content': ['{\"_step\": 13157, \"train_ent_seq_acc\": 0.6104359256353858, \"learning_rate\": 4.287830939060699e-05, \"train_head_rel_acc\": 0.49143845946432185, \"time\": 4631.619526147842, \"_timestamp\": 1591018569.8352563, \"train_loss\": 2.9503039333887135e-05, \"train_tail_rel_acc\": 0.4912494032889281, \"_runtime\": 100197.85002040863, \"val_ent_seq_acc\": 0.5743384018314406, \"val_prec\": 0.7089777442474471, \"val_f1\": 0.7561098259584604, \"val_head_rel_acc\": 0.5266874930775666, \"val_tail_rel_acc\": 0.5260927861126058, \"val_recall\": 0.809954751131213}\\n']}}}}\n"
     ]
    },
    {
     "name": "stdout",
     "output_type": "stream",
     "text": [
      "Epoch: 11/50, batch: 6911/12522, train_loss: 2.9398551854223504e-05, t_ent_sample_acc: 0.6117301079893471, t_head_rel_sample_acc: 0.49300632936627453, t_tail_rel_sample_acc: 0.4925481227821249,lr: 4.118152491999203e-05, batch_time: 0.6625211238861084, total_time: 5178.604049921036 ---------------"
     ]
    },
    {
     "name": "stderr",
     "output_type": "stream",
     "text": [
      "requests_with_retry encountered retryable exception: ('Connection aborted.', RemoteDisconnected('Remote end closed connection without response')). args: ('https://api.wandb.ai/files/wycheng/nyt_single/1b7r0hef/file_stream',), kwargs: {'json': {'files': {'output.log': {'offset': 127, 'content': ['2020-06-01T13:41:47.807359 Epoch: 11/50, batch: 6623/12522, train_loss: 2.9482572783368167e-05, t_ent_sample_acc: 0.6102471343748846, t_head_rel_sample_acc: 0.4919724301882926, t_tail_rel_sample_acc: 0.4916201227474083,lr: 4.1859288783628196e-05, batch_time: 0.7413148880004883, total_time: 4968.863818645477 -------------\\r']}, 'wandb-events.jsonl': {'offset': 3121, 'content': ['{\"system.gpu.0.gpu\": 0.0, \"system.gpu.0.memory\": 0.0, \"system.gpu.0.memoryAllocated\": 31.67, \"system.gpu.0.temp\": 39.0, \"system.gpu.process.0.gpu\": 0.0, \"system.gpu.process.0.memory\": 0.0, \"system.gpu.process.0.memoryAllocated\": 31.67, \"system.gpu.process.0.temp\": 39.0, \"system.gpu.0.powerWatts\": 38.57, \"system.gpu.0.powerPercent\": 15.43, \"system.gpu.process.0.powerWatts\": 38.57, \"system.gpu.process.0.powerPercent\": 15.43, \"system.gpu.1.gpu\": 96.47, \"system.gpu.1.memory\": 14.07, \"system.gpu.1.memoryAllocated\": 58.92, \"system.gpu.1.temp\": 46.13, \"system.gpu.process.1.gpu\": 96.47, \"system.gpu.process.1.memory\": 14.07, \"system.gpu.process.1.memoryAllocated\": 58.92, \"system.gpu.process.1.temp\": 46.13, \"system.gpu.1.powerWatts\": 59.95, \"system.gpu.1.powerPercent\": 23.98, \"system.gpu.process.1.powerWatts\": 59.95, \"system.gpu.process.1.powerPercent\": 23.98, \"system.cpu\": 82.39, \"system.memory\": 38.82, \"system.disk\": 83.1, \"system.proc.memory.availableMB\": 78511.12, \"system.proc.memory.rssMB\": 3786.11, \"system.proc.memory.percent\": 2.95, \"system.proc.cpu.threads\": 49.0, \"system.network.sent\": 40069636104, \"system.network.recv\": 35336558060, \"_wandb\": true, \"_timestamp\": 1591018880, \"_runtime\": 100511}\\n']}, 'wandb-history.jsonl': {'offset': 13199, 'content': ['{\"train_loss\": 2.9485890526682296e-05, \"train_ent_seq_acc\": 0.6099732115134504, \"train_head_rel_acc\": 0.49175644638261273, \"train_tail_rel_acc\": 0.49142771545572067, \"learning_rate\": 4.193325361374625e-05, \"time\": 4944.37468624115, \"_runtime\": 100510.60516738892, \"_timestamp\": 1591018882.5904033, \"_step\": 13199}\\n', '{\"train_loss\": 2.9490998387756742e-05, \"train_ent_seq_acc\": 0.6101095951013431, \"train_head_rel_acc\": 0.4917436860340361, \"train_tail_rel_acc\": 0.49144070180929567, \"learning_rate\": 4.191016885901938e-05, \"time\": 4951.952481985092, \"_runtime\": 100518.1829650402, \"_timestamp\": 1591018890.168201, \"_step\": 13200}\\n', '{\"train_loss\": 2.9487461518673824e-05, \"train_ent_seq_acc\": 0.6101951450808221, \"train_head_rel_acc\": 0.4918570168335523, \"train_tail_rel_acc\": 0.49155449091198045, \"learning_rate\": 4.188705749457633e-05, \"time\": 4959.49040389061, \"_runtime\": 100525.72088384628, \"_timestamp\": 1591018897.7061198, \"_step\": 13201}\\n', '{\"train_loss\": 2.948221402392933e-05, \"train_ent_seq_acc\": 0.6102804366311824, \"train_head_rel_acc\": 0.49197000530691165, \"train_tail_rel_acc\": 0.4916427638744627, \"learning_rate\": 4.1863919556784954e-05, \"time\": 4967.31543970108, \"_runtime\": 100533.54592585564, \"_timestamp\": 1591018905.5311618, \"_step\": 13202}\\n']}, 'wandb-summary.json': {'offset': 0, 'content': ['{\"_step\": 13202, \"train_ent_seq_acc\": 0.6102804366311824, \"learning_rate\": 4.1863919556784954e-05, \"train_head_rel_acc\": 0.49197000530691165, \"time\": 4967.31543970108, \"_timestamp\": 1591018905.5311618, \"train_loss\": 2.948221402392933e-05, \"train_tail_rel_acc\": 0.4916427638744627, \"_runtime\": 100533.54592585564, \"val_ent_seq_acc\": 0.5743384018314406, \"val_prec\": 0.7089777442474471, \"val_f1\": 0.7561098259584604, \"val_head_rel_acc\": 0.5266874930775666, \"val_tail_rel_acc\": 0.5260927861126058, \"val_recall\": 0.809954751131213}\\n']}}}}\n"
     ]
    },
    {
     "name": "stdout",
     "output_type": "stream",
     "text": [
      "Epoch: 11/50, batch: 12522/12522, train_loss: 2.8557523000858175e-05, t_ent_sample_acc: 0.6177261512601, t_head_rel_sample_acc: 0.5070808825437548, t_tail_rel_sample_acc: 0.5074402500497915,lr: 2.5003136073156602e-05, batch_time: 0.5467045307159424, total_time: 9359.693904399872 ------------------"
     ]
    },
    {
     "name": "stderr",
     "output_type": "stream",
     "text": [
      "Validating: 100%|██████████| 1121/1121 [08:32<00:00,  2.19it/s]"
     ]
    },
    {
     "name": "stdout",
     "output_type": "stream",
     "text": [
      "{'time': 512.376101732254,\n",
      " 'val_ent_seq_acc': 0.5820695949015503,\n",
      " 'val_f1': 0.7647384583905377,\n",
      " 'val_head_rel_acc': 0.5392506818065252,\n",
      " 'val_prec': 0.7162391550358288,\n",
      " 'val_recall': 0.820282967923093,\n",
      " 'val_tail_rel_acc': 0.5376152367755624}\n",
      "Current avf_f1: 0.7647384583905377, Best f1: 0.7647384583905377\n"
     ]
    },
    {
     "name": "stderr",
     "output_type": "stream",
     "text": [
      "\n"
     ]
    },
    {
     "name": "stdout",
     "output_type": "stream",
     "text": [
      "Epoch: 12/50, batch: 660/12522, train_loss: 2.5974621196107336e-05, t_ent_sample_acc: 0.6308080985690608, t_head_rel_sample_acc: 0.5429293062199246, t_tail_rel_sample_acc: 0.5429293057683743,lr: 2.2935680855967478e-05, batch_time: 0.6708071231842041, total_time: 498.67262387275696 --------------"
     ]
    },
    {
     "name": "stderr",
     "output_type": "stream",
     "text": [
      "requests_with_retry encountered retryable exception: ('Connection aborted.', RemoteDisconnected('Remote end closed connection without response')). args: ('https://api.wandb.ai/files/wycheng/nyt_single/1b7r0hef/file_stream',), kwargs: {'json': {'files': {'output.log': {'offset': 137, 'content': ['2020-06-01T15:08:20.214306 Epoch: 12/50, batch: 381/12522, train_loss: 2.633593044802684e-05, t_ent_sample_acc: 0.6281714963083818, t_head_rel_sample_acc: 0.5437445450877267, t_tail_rel_sample_acc: 0.545056880693736,lr: 2.3808743459342754e-05, batch_time: 0.6976492404937744, total_time: 288.78534626960754 -------------\\r']}, 'wandb-events.jsonl': {'offset': 3283, 'content': ['{\"system.gpu.0.gpu\": 0.0, \"system.gpu.0.memory\": 0.0, \"system.gpu.0.memoryAllocated\": 31.67, \"system.gpu.0.temp\": 39.0, \"system.gpu.process.0.gpu\": 0.0, \"system.gpu.process.0.memory\": 0.0, \"system.gpu.process.0.memoryAllocated\": 31.67, \"system.gpu.process.0.temp\": 39.0, \"system.gpu.0.powerWatts\": 38.63, \"system.gpu.0.powerPercent\": 15.45, \"system.gpu.process.0.powerWatts\": 38.63, \"system.gpu.process.0.powerPercent\": 15.45, \"system.gpu.1.gpu\": 98.53, \"system.gpu.1.memory\": 15.53, \"system.gpu.1.memoryAllocated\": 58.92, \"system.gpu.1.temp\": 47.0, \"system.gpu.process.1.gpu\": 98.53, \"system.gpu.process.1.memory\": 15.53, \"system.gpu.process.1.memoryAllocated\": 58.92, \"system.gpu.process.1.temp\": 47.0, \"system.gpu.1.powerWatts\": 82.57, \"system.gpu.1.powerPercent\": 33.03, \"system.gpu.process.1.powerWatts\": 82.57, \"system.gpu.process.1.powerPercent\": 33.03, \"system.cpu\": 63.77, \"system.memory\": 42.19, \"system.disk\": 83.1, \"system.proc.memory.availableMB\": 74261.66, \"system.proc.memory.rssMB\": 3786.07, \"system.proc.memory.percent\": 2.95, \"system.proc.cpu.threads\": 49.0, \"system.network.sent\": 40352877217, \"system.network.recv\": 35535179443, \"_wandb\": true, \"_timestamp\": 1591024071, \"_runtime\": 105702}\\n']}, 'wandb-history.jsonl': {'offset': 13828, 'content': ['{\"train_loss\": 2.620421359059896e-05, \"train_ent_seq_acc\": 0.6217008974195576, \"train_head_rel_acc\": 0.5425220072881217, \"train_tail_rel_acc\": 0.5434995239868192, \"learning_rate\": 2.3934058363546965e-05, \"time\": 262.19207191467285, \"_runtime\": 105700.9890742302, \"_timestamp\": 1591024072.9743102, \"_step\": 13828}\\n', '{\"train_loss\": 2.6016944103733806e-05, \"train_ent_seq_acc\": 0.6225071400828511, \"train_head_rel_acc\": 0.5427350558956124, \"train_tail_rel_acc\": 0.5436847231157145, \"learning_rate\": 2.3902726998205545e-05, \"time\": 268.81317806243896, \"_runtime\": 105707.61029958725, \"_timestamp\": 1591024079.5955355, \"_step\": 13829}\\n', '{\"train_loss\": 2.6484996768510662e-05, \"train_ent_seq_acc\": 0.6251154377272254, \"train_head_rel_acc\": 0.5433979816631597, \"train_tail_rel_acc\": 0.543859661822504, \"learning_rate\": 2.3871397359524776e-05, \"time\": 276.2697596549988, \"_runtime\": 105715.06676316261, \"_timestamp\": 1591024087.051999, \"_step\": 13830}\\n', '{\"train_loss\": 2.636624071844731e-05, \"train_ent_seq_acc\": 0.6271338900224861, \"train_head_rel_acc\": 0.5449236429364213, \"train_tail_rel_acc\": 0.545372878806289, \"learning_rate\": 2.3840069496804747e-05, \"time\": 282.45370507240295, \"_runtime\": 105721.25068473816, \"_timestamp\": 1591024093.2359207, \"_step\": 13831}\\n', '{\"train_loss\": 2.633593044802684e-05, \"train_ent_seq_acc\": 0.6281714963083818, \"train_head_rel_acc\": 0.5437445450877267, \"train_tail_rel_acc\": 0.545056880693736, \"learning_rate\": 2.3808743459342754e-05, \"time\": 288.78730368614197, \"_runtime\": 105727.58427429199, \"_timestamp\": 1591024099.5695102, \"_step\": 13832}\\n']}, 'wandb-summary.json': {'offset': 0, 'content': ['{\"_step\": 13831, \"train_ent_seq_acc\": 0.6271338900224861, \"learning_rate\": 2.3840069496804747e-05, \"train_head_rel_acc\": 0.5449236429364213, \"time\": 282.45370507240295, \"_timestamp\": 1591024093.2359207, \"train_loss\": 2.636624071844731e-05, \"train_tail_rel_acc\": 0.545372878806289, \"_runtime\": 105721.25068473816, \"val_ent_seq_acc\": 0.5820695949015503, \"val_prec\": 0.7162391550358288, \"val_f1\": 0.7647384583905377, \"val_head_rel_acc\": 0.5392506818065252, \"val_tail_rel_acc\": 0.5376152367755624, \"val_recall\": 0.820282967923093}\\n']}}}}\n"
     ]
    },
    {
     "name": "stdout",
     "output_type": "stream",
     "text": [
      "Epoch: 12/50, batch: 2983/12522, train_loss: 2.575196520077275e-05, t_ent_sample_acc: 0.6390099621662308, t_head_rel_sample_acc: 0.5513465325983427, t_tail_rel_sample_acc: 0.5508995553940045,lr: 1.5864806249630805e-05, batch_time: 0.7917656898498535, total_time: 2194.8648941516876 --------------"
     ]
    },
    {
     "name": "stderr",
     "output_type": "stream",
     "text": [
      "requests_with_retry encountered retryable exception: ('Connection aborted.', OSError(\"(110, 'ETIMEDOUT')\")). args: ('https://api.wandb.ai/files/wycheng/nyt_single/1b7r0hef/file_stream',), kwargs: {'json': {'files': {'output.log': {'offset': 138, 'content': ['2020-06-01T15:24:03.127920 Epoch: 12/50, batch: 1652/12522, train_loss: 2.6098219768782897e-05, t_ent_sample_acc: 0.6347861350232118, t_head_rel_sample_acc: 0.5495359295162826, t_tail_rel_sample_acc: 0.5480226121626379,lr: 1.9859278115594455e-05, batch_time: 0.6518650054931641, total_time: 1231.666652917862 -------------\\r']}, 'wandb-events.jsonl': {'offset': 3313, 'content': ['{\"system.gpu.0.gpu\": 0.0, \"system.gpu.0.memory\": 0.0, \"system.gpu.0.memoryAllocated\": 40.43, \"system.gpu.0.temp\": 39.0, \"system.gpu.process.0.gpu\": 0.0, \"system.gpu.process.0.memory\": 0.0, \"system.gpu.process.0.memoryAllocated\": 40.43, \"system.gpu.process.0.temp\": 39.0, \"system.gpu.0.powerWatts\": 38.7, \"system.gpu.0.powerPercent\": 15.48, \"system.gpu.process.0.powerWatts\": 38.7, \"system.gpu.process.0.powerPercent\": 15.48, \"system.gpu.1.gpu\": 99.47, \"system.gpu.1.memory\": 12.6, \"system.gpu.1.memoryAllocated\": 58.92, \"system.gpu.1.temp\": 46.07, \"system.gpu.process.1.gpu\": 99.47, \"system.gpu.process.1.memory\": 12.6, \"system.gpu.process.1.memoryAllocated\": 58.92, \"system.gpu.process.1.temp\": 46.07, \"system.gpu.1.powerWatts\": 65.93, \"system.gpu.1.powerPercent\": 26.37, \"system.gpu.process.1.powerWatts\": 65.93, \"system.gpu.process.1.powerPercent\": 26.37, \"system.cpu\": 63.85, \"system.memory\": 40.49, \"system.disk\": 83.1, \"system.proc.memory.availableMB\": 76428.28, \"system.proc.memory.rssMB\": 3786.1, \"system.proc.memory.percent\": 2.95, \"system.proc.cpu.threads\": 49.0, \"system.network.sent\": 40398513806, \"system.network.recv\": 35573231275, \"_wandb\": true, \"_timestamp\": 1591025034, \"_runtime\": 106665}\\n']}, 'wandb-history.jsonl': {'offset': 13955, 'content': ['{\"train_loss\": 2.6190543793475325e-05, \"train_ent_seq_acc\": 0.6339747740532728, \"train_head_rel_acc\": 0.5483136902141837, \"train_tail_rel_acc\": 0.546658403510118, \"learning_rate\": 1.998517682448676e-05, \"time\": 1203.4676868915558, \"_runtime\": 106642.26466178894, \"_timestamp\": 1591025014.2498977, \"_step\": 13955}\\n', '{\"train_loss\": 2.6159155298644907e-05, \"train_ent_seq_acc\": 0.6341764514531566, \"train_head_rel_acc\": 0.5483240931674627, \"train_tail_rel_acc\": 0.546987469552256, \"learning_rate\": 1.9954457463462736e-05, \"time\": 1210.2615928649902, \"_runtime\": 106649.05856442451, \"_timestamp\": 1591025021.0438004, \"_step\": 13956}\\n', '{\"train_loss\": 2.6109929192765845e-05, \"train_ent_seq_acc\": 0.6342734690278239, \"train_head_rel_acc\": 0.5488453026219133, \"train_tail_rel_acc\": 0.5475168740873612, \"learning_rate\": 1.9923746042067e-05, \"time\": 1216.9700765609741, \"_runtime\": 106655.76704931259, \"_timestamp\": 1591025027.7522852, \"_step\": 13957}\\n', '{\"train_loss\": 2.6126086327912728e-05, \"train_ent_seq_acc\": 0.6346739964613023, \"train_head_rel_acc\": 0.5491570314933875, \"train_tail_rel_acc\": 0.5477351341158206, \"learning_rate\": 1.9893042608626802e-05, \"time\": 1224.3013334274292, \"_runtime\": 106663.09833598137, \"_timestamp\": 1591025035.083572, \"_step\": 13958}\\n', '{\"train_loss\": 2.6081953433510917e-05, \"train_ent_seq_acc\": 0.6348677741116571, \"train_head_rel_acc\": 0.5496668820215816, \"train_tail_rel_acc\": 0.5481526480614236, \"learning_rate\": 1.9862347211456852e-05, \"time\": 1230.9920375347137, \"_runtime\": 106669.78911781311, \"_timestamp\": 1591025041.7743537, \"_step\": 13959}\\n']}, 'wandb-summary.json': {'offset': 0, 'content': ['{\"_step\": 13959, \"train_ent_seq_acc\": 0.6348677741116571, \"learning_rate\": 1.9862347211456852e-05, \"train_head_rel_acc\": 0.5496668820215816, \"time\": 1230.9920375347137, \"_timestamp\": 1591025041.7743537, \"train_loss\": 2.6081953433510917e-05, \"train_tail_rel_acc\": 0.5481526480614236, \"_runtime\": 106669.78911781311, \"val_ent_seq_acc\": 0.5820695949015503, \"val_prec\": 0.7162391550358288, \"val_f1\": 0.7647384583905377, \"val_head_rel_acc\": 0.5392506818065252, \"val_tail_rel_acc\": 0.5376152367755624, \"val_recall\": 0.820282967923093}\\n']}}}}\n"
     ]
    },
    {
     "name": "stdout",
     "output_type": "stream",
     "text": [
      "Epoch: 12/50, batch: 4965/12522, train_loss: 2.5647461861698643e-05, t_ent_sample_acc: 0.6387714168306324, t_head_rel_sample_acc: 0.5520980326100539, t_tail_rel_sample_acc: 0.5529036721794267,lr: 1.04192638559489e-05, batch_time: 0.772702693939209, total_time: 3707.7394144535065 ----------------"
     ]
    },
    {
     "name": "stderr",
     "output_type": "stream",
     "text": [
      "requests_with_retry encountered retryable exception: ('Connection aborted.', OSError(\"(110, 'ETIMEDOUT')\")). args: ('https://api.wandb.ai/files/wycheng/nyt_single/1b7r0hef/file_stream',), kwargs: {'json': {'files': {'output.log': {'offset': 139, 'content': ['2020-06-01T15:49:14.906545 Epoch: 12/50, batch: 3699/12522, train_loss: 2.5603826567224407e-05, t_ent_sample_acc: 0.6395422358123248, t_head_rel_sample_acc: 0.5539785661699643, t_tail_rel_sample_acc: 0.5551500540910523,lr: 1.3814286414130131e-05, batch_time: 0.7496240139007568, total_time: 2743.421560525894 -------------\\r']}, 'wandb-events.jsonl': {'offset': 3360, 'content': ['{\"system.gpu.0.gpu\": 0.0, \"system.gpu.0.memory\": 0.0, \"system.gpu.0.memoryAllocated\": 40.43, \"system.gpu.0.temp\": 39.0, \"system.gpu.process.0.gpu\": 0.0, \"system.gpu.process.0.memory\": 0.0, \"system.gpu.process.0.memoryAllocated\": 40.43, \"system.gpu.process.0.temp\": 39.0, \"system.gpu.0.powerWatts\": 38.58, \"system.gpu.0.powerPercent\": 15.43, \"system.gpu.process.0.powerWatts\": 38.58, \"system.gpu.process.0.powerPercent\": 15.43, \"system.gpu.1.gpu\": 99.33, \"system.gpu.1.memory\": 14.8, \"system.gpu.1.memoryAllocated\": 58.92, \"system.gpu.1.temp\": 46.4, \"system.gpu.process.1.gpu\": 99.33, \"system.gpu.process.1.memory\": 14.8, \"system.gpu.process.1.memoryAllocated\": 58.92, \"system.gpu.process.1.temp\": 46.4, \"system.gpu.1.powerWatts\": 72.57, \"system.gpu.1.powerPercent\": 29.03, \"system.gpu.process.1.powerWatts\": 72.57, \"system.gpu.process.1.powerPercent\": 29.03, \"system.cpu\": 63.68, \"system.memory\": 41.2, \"system.disk\": 83.1, \"system.proc.memory.availableMB\": 75524.18, \"system.proc.memory.rssMB\": 3786.12, \"system.proc.memory.percent\": 2.95, \"system.proc.cpu.threads\": 49.0, \"system.network.sent\": 40457053312, \"system.network.recv\": 35639559595, \"_wandb\": true, \"_timestamp\": 1591026541, \"_runtime\": 108172}\\n']}, 'wandb-history.jsonl': {'offset': 14160, 'content': ['{\"train_loss\": 2.562157852204592e-05, \"train_ent_seq_acc\": 0.6391241180256917, \"train_head_rel_acc\": 0.5538104476823862, \"train_tail_rel_acc\": 0.5549030454879704, \"learning_rate\": 1.3920989869601223e-05, \"time\": 2714.0434579849243, \"_runtime\": 108152.84053206444, \"_timestamp\": 1591026524.825768, \"_step\": 14160}\\n', '{\"train_loss\": 2.5626131868727775e-05, \"train_ent_seq_acc\": 0.6391083436704273, \"train_head_rel_acc\": 0.5538000678641047, \"train_tail_rel_acc\": 0.5548442884715433, \"learning_rate\": 1.3892885506475103e-05, \"time\": 2721.7467980384827, \"_runtime\": 108160.5438246727, \"_timestamp\": 1591026532.5290606, \"_step\": 14161}\\n', '{\"train_loss\": 2.5613060379943314e-05, \"train_ent_seq_acc\": 0.6392284876762347, \"train_head_rel_acc\": 0.5538350219952933, \"train_tail_rel_acc\": 0.5549669609068852, \"learning_rate\": 1.3864798621421904e-05, \"time\": 2729.7250502109528, \"_runtime\": 108168.52202868462, \"_timestamp\": 1591026540.5072646, \"_step\": 14162}\\n', '{\"train_loss\": 2.560681722881456e-05, \"train_ent_seq_acc\": 0.6392576709143419, \"train_head_rel_acc\": 0.5539149416071133, \"train_tail_rel_acc\": 0.5550889686513031, \"learning_rate\": 1.3836729258638942e-05, \"time\": 2737.5167937278748, \"_runtime\": 108176.31377029419, \"_timestamp\": 1591026548.2990062, \"_step\": 14163}\\n']}, 'wandb-summary.json': {'offset': 0, 'content': ['{\"_step\": 14163, \"train_ent_seq_acc\": 0.6392576709143419, \"learning_rate\": 1.3836729258638942e-05, \"train_head_rel_acc\": 0.5539149416071133, \"time\": 2737.5167937278748, \"_timestamp\": 1591026548.2990062, \"train_loss\": 2.560681722881456e-05, \"train_tail_rel_acc\": 0.5550889686513031, \"_runtime\": 108176.31377029419, \"val_ent_seq_acc\": 0.5820695949015503, \"val_prec\": 0.7162391550358288, \"val_f1\": 0.7647384583905377, \"val_head_rel_acc\": 0.5392506818065252, \"val_tail_rel_acc\": 0.5376152367755624, \"val_recall\": 0.820282967923093}\\n']}}}}\n"
     ]
    },
    {
     "name": "stdout",
     "output_type": "stream",
     "text": [
      "Epoch: 12/50, batch: 5797/12522, train_loss: 2.5515770011932064e-05, t_ent_sample_acc: 0.6389511985852427, t_head_rel_sample_acc: 0.5514634137644487, t_tail_rel_sample_acc: 0.5526709349808949,lr: 8.382966885877266e-06, batch_time: 0.7817816734313965, total_time: 4345.582892179489 ---------------"
     ]
    }
   ],
   "source": [
    "epoch_num = config.epochs\n",
    "\n",
    "# load the last best state (if any)\n",
    "model_last_state_path = get_last_state_path(model_state_dict_dir, \"model_state_dict\")\n",
    "if model_last_state_path is not None:\n",
    "    rel_extractor.load_state_dict(torch.load(model_last_state_path))\n",
    "    print(\"------------model state {} loaded ----------------\".format(model_last_state_path.split(\"/\")[-1]))\n",
    "    \n",
    "scheduler_last_state_path = get_last_state_path(schedule_state_dict_dir, \"scheduler_state_dict\")  \n",
    "if scheduler_last_state_path is not None:\n",
    "    scheduler.load_state_dict(torch.load(scheduler_last_state_path))\n",
    "    print(\"------------scheduler state {} loaded ----------------\".format(scheduler_last_state_path.split(\"/\")[-1]))\n",
    "\n",
    "train_n_valid(train_dataloader, dev_dataloader, optimizer, scheduler, epoch_num)"
   ]
  },
  {
   "cell_type": "markdown",
   "metadata": {},
   "source": [
    "# Prediction"
   ]
  },
  {
   "cell_type": "code",
   "execution_count": null,
   "metadata": {},
   "outputs": [],
   "source": [
    "model_state_path = get_last_state_path(model_state_dict_dir)\n",
    "# model_state_path = get_state_path(model_state_dict_dir, 16)\n",
    "rel_extractor.load_state_dict(torch.load(model_state_path))\n",
    "rel_extractor.eval()\n",
    "print(\"------------model state {} loaded ----------------\".format(model_state_path.split(\"/\")[-1]))"
   ]
  },
  {
   "cell_type": "code",
   "execution_count": null,
   "metadata": {},
   "outputs": [],
   "source": [
    "def filter_duplicates(rel_list):\n",
    "    rel_memory_set = set()\n",
    "    filtered_rel_list = []\n",
    "    for rel in rel_list:\n",
    "        rel_memory = \"{}\\u2E80\\{}\\u2E80\\{}\\u2E80\\{}\\u2E80{}\".format(*rel.values())\n",
    "        if rel_memory not in rel_memory_set:\n",
    "            filtered_rel_list.append(rel)\n",
    "            rel_memory_set.add(rel_memory)\n",
    "    return filtered_rel_list"
   ]
  },
  {
   "cell_type": "code",
   "execution_count": null,
   "metadata": {},
   "outputs": [],
   "source": [
    "def predict(short_test_data):\n",
    "    '''\n",
    "    short_test_data: seq_len <= max_seq_len\n",
    "    '''\n",
    "    indexed_test_data = get_indexed_train_valid_data(short_test_data)\n",
    "    test_dataloader = DataLoader(MyDataset(indexed_test_data), \n",
    "                              batch_size = batch_size, \n",
    "                              shuffle = False, \n",
    "                              num_workers = 0,\n",
    "                              drop_last = False,\n",
    "                              collate_fn = generate_pred_batch,\n",
    "                             )\n",
    "    short_pred_sample_list = []\n",
    "    for batch_test_data in tqdm(test_dataloader, desc = \"Predicting\"):\n",
    "        text_id_list, text_list, batch_input_ids, \\\n",
    "        batch_attention_mask, batch_token_type_ids, \\\n",
    "        offset_map_list = batch_test_data\n",
    "\n",
    "        batch_input_ids, \\\n",
    "        batch_attention_mask, \\\n",
    "        batch_token_type_ids = (batch_input_ids.to(device), \n",
    "                                  batch_attention_mask.to(device), \n",
    "                                  batch_token_type_ids.to(device)\n",
    "                                 )\n",
    "        with torch.no_grad():\n",
    "            batch_ent_shaking_outputs, \\\n",
    "            batch_head_rel_shaking_outputs, \\\n",
    "            batch_tail_rel_shaking_outputs = rel_extractor(batch_input_ids, \n",
    "                                                              batch_attention_mask, \n",
    "                                                              batch_token_type_ids, \n",
    "                                                             )\n",
    "\n",
    "        batch_ent_shaking_tag, \\\n",
    "        batch_head_rel_shaking_tag, \\\n",
    "        batch_tail_rel_shaking_tag = torch.argmax(batch_ent_shaking_outputs, dim = -1), \\\n",
    "                                     torch.argmax(batch_head_rel_shaking_outputs, dim = -1), \\\n",
    "                                     torch.argmax(batch_tail_rel_shaking_outputs, dim = -1)\n",
    "\n",
    "        for ind in range(len(text_list)):\n",
    "            text, offset_map = text_list[ind], offset_map_list[ind]\n",
    "            ent_shaking_tag, \\\n",
    "            head_rel_shaking_tag, \\\n",
    "            tail_rel_shaking_tag = batch_ent_shaking_tag[ind], \\\n",
    "                                    batch_head_rel_shaking_tag[ind], \\\n",
    "                                    batch_tail_rel_shaking_tag[ind]\n",
    "            rel_list = handshaking_tagger.decode_rel_fr_shaking_tag(text, \n",
    "                                                  ent_shaking_tag, \n",
    "                                                  head_rel_shaking_tag, \n",
    "                                                  tail_rel_shaking_tag, \n",
    "                                                  offset_map)\n",
    "            short_pred_sample_list.append({\n",
    "                \"text\": text,\n",
    "                \"id\": text_id_list[ind],\n",
    "                \"relation_list\": rel_list,\n",
    "            })\n",
    "    # merge\n",
    "    text_id2rel_list = {}\n",
    "    for sample in short_pred_sample_list:\n",
    "        text_id = sample[\"id\"]\n",
    "        if text_id not in text_id2rel_list:\n",
    "            text_id2rel_list[text_id] = sample[\"relation_list\"]\n",
    "        else:\n",
    "            text_id2rel_list[text_id].extend(sample[\"relation_list\"])\n",
    "\n",
    "    text_id2text = {sample[\"id\"]:sample[\"text\"] for sample in test_data}\n",
    "    merged_pred_sample_list = []\n",
    "    for text_id, rel_list in text_id2rel_list.items():\n",
    "        merged_pred_sample_list.append({\n",
    "            \"id\": text_id,\n",
    "            \"text\": text_id2text[text_id],\n",
    "            \"relation_list\": filter_duplicates(rel_list),\n",
    "        })\n",
    "    return merged_pred_sample_list"
   ]
  },
  {
   "cell_type": "code",
   "execution_count": null,
   "metadata": {},
   "outputs": [],
   "source": [
    "pred_sample_list = predict(short_test_data)"
   ]
  },
  {
   "cell_type": "code",
   "execution_count": null,
   "metadata": {},
   "outputs": [],
   "source": [
    "len([s for s in pred_sample_list if len(s[\"relation_list\"]) > 0])"
   ]
  },
  {
   "cell_type": "code",
   "execution_count": null,
   "metadata": {},
   "outputs": [],
   "source": [
    "text_id2gold_n_pred = {}\n",
    "for sample in test_data:\n",
    "    text_id = sample[\"id\"]\n",
    "    text_id2gold_n_pred[text_id] = {\n",
    "        \"gold_relation_list\": sample[\"relation_list\"],\n",
    "    }\n",
    "def get_test_prf(pred_sample_list):\n",
    "    for sample in pred_sample_list:\n",
    "        text_id = sample[\"id\"]\n",
    "        text_id2gold_n_pred[text_id][\"pred_relation_list\"] = sample[\"relation_list\"]\n",
    "\n",
    "    correct_num, pred_num, gold_num = 0, 0, 0\n",
    "    for gold_n_pred in text_id2gold_n_pred.values():\n",
    "        gold_rel_list = gold_n_pred[\"gold_relation_list\"]\n",
    "        pred_rel_list = gold_n_pred[\"pred_relation_list\"] if \"pred_relation_list\" in gold_n_pred else []\n",
    "        gold_rel_set = set([\"{}\\u2E80{}\\u2E80{}\".format(rel[\"subject\"], rel[\"predicate\"], rel[\"object\"]) for rel in gold_rel_list])\n",
    "        pred_rel_set = set([\"{}\\u2E80{}\\u2E80{}\".format(rel[\"subject\"], rel[\"predicate\"], rel[\"object\"]) for rel in pred_rel_list])\n",
    "\n",
    "        for rel_str in pred_rel_set:\n",
    "            if rel_str in gold_rel_set:\n",
    "                correct_num += 1\n",
    "\n",
    "        pred_num += len(gold_rel_set)\n",
    "        gold_num += len(pred_rel_set)\n",
    "\n",
    "    prf = get_scores(correct_num, pred_num, gold_num)\n",
    "#     print(prf)\n",
    "    return prf"
   ]
  },
  {
   "cell_type": "code",
   "execution_count": null,
   "metadata": {},
   "outputs": [],
   "source": [
    "# model state 16: (0.9112068965517129, 0.9034188034187924, 0.9072961372890456)\n",
    "# model state 17: (0.9060344827586095, 0.9096191889218483, 0.9078232970872052)\n",
    "# 18: (0.9178571428571316, 0.904600072824361, 0.9111803899493801)\n",
    "get_test_prf(pred_sample_list)"
   ]
  }
 ],
 "metadata": {
  "kernelspec": {
   "display_name": "Python 3",
   "language": "python",
   "name": "python3"
  },
  "language_info": {
   "codemirror_mode": {
    "name": "ipython",
    "version": 3
   },
   "file_extension": ".py",
   "mimetype": "text/x-python",
   "name": "python",
   "nbconvert_exporter": "python",
   "pygments_lexer": "ipython3",
   "version": "3.7.4"
  }
 },
 "nbformat": 4,
 "nbformat_minor": 2
}
