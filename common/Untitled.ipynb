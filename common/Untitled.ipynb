{
 "cells": [
  {
   "cell_type": "code",
   "execution_count": 7,
   "metadata": {},
   "outputs": [],
   "source": [
    "import torch\n",
    "import torch.nn as nn\n",
    "import torch.nn.functional as F\n",
    "import math\n",
    "from common.components import LayerNorm\n",
    "from IPython.core.debugger import set_trace\n",
    "import os"
   ]
  },
  {
   "cell_type": "code",
   "execution_count": 2,
   "metadata": {},
   "outputs": [],
   "source": [
    "os.environ[\"CUDA_VISIBLE_DEVICES\"] = \"0\"\n",
    "device = torch.device(\"cuda:0\" if torch.cuda.is_available() else \"cpu\")"
   ]
  },
  {
   "cell_type": "code",
   "execution_count": null,
   "metadata": {},
   "outputs": [],
   "source": [
    "# 长度固定512不合理，#处再想想其他处理"
   ]
  },
  {
   "cell_type": "code",
   "execution_count": 11,
   "metadata": {},
   "outputs": [],
   "source": [
    "class CLNEncoder(nn.Module):\n",
    "    def __init__(self, max_seq_len, voc_size, hidden_size, layers, fake_input):\n",
    "        super().__init__()\n",
    "        self.layers = layers\n",
    "        self.max_seq_len = max_seq_len\n",
    "        # word embedding\n",
    "        self.word_emb = nn.Embedding(voc_size, hidden_size)\n",
    "        # position fc\n",
    "        self.context_fc = nn.Linear(max_seq_len, 1) # \n",
    "        # conditional layer normalization\n",
    "        self.cln = LayerNorm(fake_input.size(), fake_input.size()[-1], conditional = True)\n",
    "        # position embedding\n",
    "        self.position_emb = torch.zeros([max_seq_len, hidden_size]).to(fake_input.device)\n",
    "        for d in range(max_seq_len):\n",
    "            for i in range(hidden_size):\n",
    "                if i % 2 == 0:\n",
    "                    self.position_emb[d][i] = math.sin(d / 10000**(i / hidden_size))\n",
    "                else:\n",
    "                    self.position_emb[d][i] = math.cos(d / 10000**((i - 1) / hidden_size))\n",
    "                    \n",
    "    def forward(self, input_ids):\n",
    "#         # padding\n",
    "#         # input_ids (batch_size, seq_len) -> (batch_size, max_seq_len)\n",
    "#         input_ids = F.pad(input_ids, (0, self.max_seq_len - input_ids.size()[-1]))\n",
    "        seq_len = input_ids.size()[1]\n",
    "        assert input_ids.size()[1] <= self.max_seq_len\n",
    "    \n",
    "        # input_embbedings (batch_size, seq_len, hidden_size)\n",
    "        input_embbedings = self.word_emb(input_ids)\n",
    "        \n",
    "        input_hiddens = input_embbedings\n",
    "        for i in range(self.layers):\n",
    "            # position embbedding\n",
    "            input_hiddens = input_hiddens + self.position_emb[None, :seq_len, :].repeat(input_hiddens.size()[0], 1, 1)\n",
    "            # context: (batch_size, hidden_size)\n",
    "            context = torch.tanh(self.context_fc(input_hiddens.permute(0, 2, 1))).view(input_hiddens.size()[0], input_hiddens.size()[2])\n",
    "            # repeat_context: (batch_size, seq_len, hidden_size)\n",
    "            repeat_context = context[:,None,:].repeat(1, input_hiddens.size()[1], 1)\n",
    "            input_hiddens = self.cln(input_hiddens, repeat_context)\n",
    "        \n",
    "        output = input_hiddens\n",
    "        return output"
   ]
  },
  {
   "cell_type": "code",
   "execution_count": 12,
   "metadata": {},
   "outputs": [],
   "source": [
    "batch_size = 32\n",
    "max_seq_len = 512\n",
    "hidden_size = 768\n",
    "voc_size = 30000\n",
    "layer_num = 12\n",
    "fake_input = torch.zeros([batch_size, max_seq_len, hidden_size]).to(device)\n",
    "encoder = CLNEncoder(max_seq_len, voc_size, hidden_size, layer_num, fake_input).to(device)"
   ]
  },
  {
   "cell_type": "code",
   "execution_count": 10,
   "metadata": {},
   "outputs": [
    {
     "name": "stdout",
     "output_type": "stream",
     "text": [
      "torch.Size([48, 512, 768])\n"
     ]
    }
   ],
   "source": [
    "inputs = torch.randint(voc_size, (48, 128)).to(device)\n",
    "output = encoder(inputs)\n",
    "print(output.size())"
   ]
  },
  {
   "cell_type": "code",
   "execution_count": null,
   "metadata": {},
   "outputs": [],
   "source": []
  }
 ],
 "metadata": {
  "kernelspec": {
   "display_name": "Python (machine_learning)",
   "language": "python",
   "name": "machine_learning"
  },
  "language_info": {
   "codemirror_mode": {
    "name": "ipython",
    "version": 3
   },
   "file_extension": ".py",
   "mimetype": "text/x-python",
   "name": "python",
   "nbconvert_exporter": "python",
   "pygments_lexer": "ipython3",
   "version": "3.6.9"
  }
 },
 "nbformat": 4,
 "nbformat_minor": 2
}
