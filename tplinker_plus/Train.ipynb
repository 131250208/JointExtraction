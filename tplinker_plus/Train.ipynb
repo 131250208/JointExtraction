{
 "cells": [
  {
   "cell_type": "code",
   "execution_count": 1,
   "metadata": {},
   "outputs": [],
   "source": [
    "import json\n",
    "import os\n",
    "from tqdm import tqdm\n",
    "import re\n",
    "from IPython.core.debugger import set_trace\n",
    "from pprint import pprint\n",
    "import unicodedata\n",
    "from transformers import AutoModel, BertTokenizerFast\n",
    "import copy\n",
    "import torch\n",
    "import torch.nn as nn\n",
    "import torch.nn.functional as F\n",
    "from torch.utils.data import DataLoader, Dataset\n",
    "import torch.optim as optim\n",
    "import glob\n",
    "import time\n",
    "import logging\n",
    "from common.utils import Preprocessor, DefaultLogger\n",
    "from tplinker_plus import (HandshakingTaggingScheme,\n",
    "                          DataMaker4Bert, \n",
    "                          DataMaker4BiLSTM, \n",
    "                          TPLinkerPlusBert, \n",
    "                          TPLinkerPlusBiLSTM,\n",
    "                          MetricsCalculator)\n",
    "import wandb\n",
    "from glove import Glove\n",
    "import numpy as np\n",
    "import config"
   ]
  },
  {
   "cell_type": "code",
   "execution_count": 2,
   "metadata": {},
   "outputs": [],
   "source": [
    "config = config.train_config\n",
    "hyper_parameters = config[\"hyper_parameters\"]"
   ]
  },
  {
   "cell_type": "code",
   "execution_count": 3,
   "metadata": {},
   "outputs": [],
   "source": [
    "os.environ[\"CUDA_VISIBLE_DEVICES\"] = str(config[\"device_num\"])\n",
    "device = torch.device(\"cuda:0\" if torch.cuda.is_available() else \"cpu\")"
   ]
  },
  {
   "cell_type": "code",
   "execution_count": 4,
   "metadata": {},
   "outputs": [],
   "source": [
    "# for reproductivity\n",
    "torch.manual_seed(hyper_parameters[\"seed\"]) # pytorch random seed\n",
    "torch.backends.cudnn.deterministic = True"
   ]
  },
  {
   "cell_type": "code",
   "execution_count": 5,
   "metadata": {},
   "outputs": [],
   "source": [
    "data_home = config[\"data_home\"]\n",
    "experiment_name = config[\"exp_name\"]    \n",
    "train_data_path = os.path.join(data_home, experiment_name, config[\"train_data\"])\n",
    "valid_data_path = os.path.join(data_home, experiment_name, config[\"valid_data\"])\n",
    "rel2id_path = os.path.join(data_home, experiment_name, config[\"rel2id\"])"
   ]
  },
  {
   "cell_type": "code",
   "execution_count": 6,
   "metadata": {},
   "outputs": [
    {
     "name": "stdout",
     "output_type": "stream",
     "text": [
      "project: xf_event_extr_t1, run_name: TP1+cln+BERT+g7, run_id: 6Ec05VsY\n",
      "\n",
      "--------------hypter_parameters------------------- \n",
      "{\n",
      "    \"shaking_type\": \"cln\",\n",
      "    \"dist_emb_size\": -1,\n",
      "    \"ent_add_dist\": false,\n",
      "    \"rel_add_dist\": false,\n",
      "    \"match_pattern\": \"whole_text\",\n",
      "    \"lr\": 5e-05,\n",
      "    \"batch_size\": 8,\n",
      "    \"epochs\": 100,\n",
      "    \"seed\": 2333,\n",
      "    \"log_interval\": 10,\n",
      "    \"max_seq_len\": 100,\n",
      "    \"sliding_len\": 20,\n",
      "    \"loss_weight_recover_steps\": 16000,\n",
      "    \"scheduler\": \"CAWR\",\n",
      "    \"tok_pair_sample_rate\": 1,\n",
      "    \"T_mult\": 1,\n",
      "    \"rewarm_epoch_num\": 2\n",
      "}\n",
      "-----------------------------------------\n"
     ]
    }
   ],
   "source": [
    "if config[\"logger\"] == \"wandb\":\n",
    "    # init wandb\n",
    "    wandb.init(project = experiment_name, \n",
    "               name = config[\"run_name\"],\n",
    "               config = hyper_parameters # Initialize config\n",
    "              )\n",
    "\n",
    "    wandb.config.note = config[\"note\"]          \n",
    "\n",
    "    model_state_dict_dir = wandb.run.dir\n",
    "    logger = wandb\n",
    "else:\n",
    "    logger = DefaultLogger(config[\"log_path\"], experiment_name, config[\"run_name\"], config[\"run_id\"], hyper_parameters)\n",
    "    model_state_dict_dir = config[\"path_to_save_model\"]\n",
    "    if not os.path.exists(model_state_dict_dir):\n",
    "        os.makedirs(model_state_dict_dir)"
   ]
  },
  {
   "cell_type": "markdown",
   "metadata": {},
   "source": [
    "# Load Data"
   ]
  },
  {
   "cell_type": "code",
   "execution_count": 7,
   "metadata": {},
   "outputs": [],
   "source": [
    "train_data = json.load(open(train_data_path, \"r\", encoding = \"utf-8\"))\n",
    "valid_data = json.load(open(valid_data_path, \"r\", encoding = \"utf-8\"))"
   ]
  },
  {
   "cell_type": "markdown",
   "metadata": {},
   "source": [
    "# Split"
   ]
  },
  {
   "cell_type": "code",
   "execution_count": 8,
   "metadata": {},
   "outputs": [],
   "source": [
    "# @specific\n",
    "if config[\"encoder\"] == \"BERT\":\n",
    "    tokenizer = BertTokenizerFast.from_pretrained(config[\"bert_path\"], add_special_tokens = False, do_lower_case = False)\n",
    "    tokenize = tokenizer.tokenize\n",
    "    get_tok2char_span_map = lambda text: tokenizer.encode_plus(text, return_offsets_mapping = True, add_special_tokens = False)[\"offset_mapping\"]\n",
    "elif config[\"encoder\"] in {\"BiLSTM\", }:\n",
    "    tokenize = lambda text: text.split(\" \")\n",
    "    def get_tok2char_span_map(text):\n",
    "        tokens = text.split(\" \")\n",
    "        tok2char_span = []\n",
    "        char_num = 0\n",
    "        for tok in tokens:\n",
    "            tok2char_span.append((char_num, char_num + len(tok)))\n",
    "            char_num += len(tok) + 1 # +1: whitespace\n",
    "        return tok2char_span"
   ]
  },
  {
   "cell_type": "code",
   "execution_count": 9,
   "metadata": {},
   "outputs": [],
   "source": [
    "preprocessor = Preprocessor(tokenize_func = tokenize, \n",
    "                            get_tok2char_span_map_func = get_tok2char_span_map)"
   ]
  },
  {
   "cell_type": "code",
   "execution_count": 10,
   "metadata": {},
   "outputs": [
    {
     "data": {
      "text/plain": [
       "386"
      ]
     },
     "execution_count": 10,
     "metadata": {},
     "output_type": "execute_result"
    }
   ],
   "source": [
    "# train and valid max token num\n",
    "max_tok_num = 0\n",
    "all_data = train_data + valid_data \n",
    "    \n",
    "for sample in all_data:\n",
    "    tokens = tokenize(sample[\"text\"])\n",
    "    max_tok_num = max(max_tok_num, len(tokens))\n",
    "max_tok_num"
   ]
  },
  {
   "cell_type": "code",
   "execution_count": 11,
   "metadata": {},
   "outputs": [
    {
     "name": "stderr",
     "output_type": "stream",
     "text": [
      "Splitting into subtexts: 100%|██████████| 5040/5040 [00:04<00:00, 1101.35it/s]\n",
      "Splitting into subtexts: 100%|██████████| 715/715 [00:00<00:00, 1164.96it/s]\n"
     ]
    }
   ],
   "source": [
    "if max_tok_num > hyper_parameters[\"max_seq_len\"]:\n",
    "    train_data = preprocessor.split_into_short_samples(train_data, \n",
    "                                                          hyper_parameters[\"max_seq_len\"], \n",
    "                                                          sliding_len = hyper_parameters[\"sliding_len\"], \n",
    "                                                          encoder = config[\"encoder\"]\n",
    "                                                         )\n",
    "    valid_data = preprocessor.split_into_short_samples(valid_data, \n",
    "                                                          hyper_parameters[\"max_seq_len\"], \n",
    "                                                          sliding_len = hyper_parameters[\"sliding_len\"], \n",
    "                                                          encoder = config[\"encoder\"]\n",
    "                                                         )"
   ]
  },
  {
   "cell_type": "code",
   "execution_count": 12,
   "metadata": {
    "scrolled": true
   },
   "outputs": [
    {
     "name": "stdout",
     "output_type": "stream",
     "text": [
      "train: 6080 valid: 861\n"
     ]
    }
   ],
   "source": [
    "print(\"train: {}\".format(len(train_data)), \"valid: {}\".format(len(valid_data)))"
   ]
  },
  {
   "cell_type": "markdown",
   "metadata": {},
   "source": [
    "# Tagger (Decoder)"
   ]
  },
  {
   "cell_type": "code",
   "execution_count": 13,
   "metadata": {},
   "outputs": [],
   "source": [
    "max_seq_len = min(max_tok_num, hyper_parameters[\"max_seq_len\"])\n",
    "rel2id = json.load(open(rel2id_path, \"r\", encoding = \"utf-8\"))\n",
    "handshaking_tagger = HandshakingTaggingScheme(rel2id, max_seq_len)\n",
    "tag_size = handshaking_tagger.get_tag_size()"
   ]
  },
  {
   "cell_type": "code",
   "execution_count": 14,
   "metadata": {},
   "outputs": [],
   "source": [
    "def sample_equal_to(sample1, sample2):\n",
    "    assert sample1[\"id\"] == sample2[\"id\"]\n",
    "    assert sample1[\"text\"] == sample2[\"text\"]\n",
    "    memory_set = set()\n",
    "    for rel in sample2[\"relation_list\"]:\n",
    "        memory = \"{}\\u2E80{}\\u2E80{}\\u2E80{}\\u2E80{}\\u2E80{}\\u2E80{}\".format(rel[\"subject\"], \n",
    "                                                             rel[\"predicate\"], \n",
    "                                                             rel[\"object\"], \n",
    "                                                             *rel[\"subj_tok_span\"], \n",
    "                                                             *rel[\"obj_tok_span\"])\n",
    "        memory_set.add(memory)\n",
    "    for rel in sample1[\"relation_list\"]:\n",
    "        memory = \"{}\\u2E80{}\\u2E80{}\\u2E80{}\\u2E80{}\\u2E80{}\\u2E80{}\".format(rel[\"subject\"], \n",
    "                                                             rel[\"predicate\"], \n",
    "                                                             rel[\"object\"], \n",
    "                                                             *rel[\"subj_tok_span\"], \n",
    "                                                             *rel[\"obj_tok_span\"])\n",
    "        if memory not in memory_set:\n",
    "            set_trace()\n",
    "            return False\n",
    "    return True"
   ]
  },
  {
   "cell_type": "code",
   "execution_count": 15,
   "metadata": {},
   "outputs": [],
   "source": [
    "# # check tagging and decoding\n",
    "# batch_size = hyper_parameters[\"batch_size\"]\n",
    "# for idx in tqdm(range(0, len(train_data), batch_size), desc = \"check tagging and decoding\"):\n",
    "#     batch_matrix_spots = []\n",
    "#     batch_data = train_data[idx:idx + batch_size]\n",
    "#     for sample in batch_data:\n",
    "#         matrix_spots = handshaking_tagger.get_spots(sample)\n",
    "# #         %timeit shaking_tagger.get_spots(sample)\n",
    "#         batch_matrix_spots.append(matrix_spots)\n",
    "    \n",
    "#     # tagging\n",
    "#     # batch_shaking_tag: (batch_size, rel_id, seq_len, seq_len)\n",
    "#     batch_shaking_tag = handshaking_tagger.spots2shaking_tag4batch(batch_matrix_spots)\n",
    "# #     %timeit shaking_tagger.spots2shaking_tag4batch(batch_matrix_spots) #0.3s\n",
    "    \n",
    "#     for batch_idx in range(len(batch_data)):\n",
    "#         gold_sample = batch_data[batch_idx]\n",
    "#         shaking_tag = batch_shaking_tag[batch_idx]\n",
    "#         # decode\n",
    "#         text = batch_data[batch_idx][\"text\"]\n",
    "#         tok2char_span = get_tok2char_span_map(text)\n",
    "#         rel_list = handshaking_tagger.decode_rel(text, shaking_tag, tok2char_span)\n",
    "#         pred_sample = {\n",
    "#             \"text\": text,\n",
    "#             \"id\": gold_sample[\"id\"],\n",
    "#             \"relation_list\": rel_list,\n",
    "#         }\n",
    "        \n",
    "        \n",
    "#         if not sample_equal_to(pred_sample, gold_sample) or not sample_equal_to(gold_sample, pred_sample):\n",
    "#             set_trace()"
   ]
  },
  {
   "cell_type": "markdown",
   "metadata": {},
   "source": [
    "# Dataset"
   ]
  },
  {
   "cell_type": "code",
   "execution_count": 16,
   "metadata": {},
   "outputs": [],
   "source": [
    "if config[\"encoder\"] == \"BERT\":\n",
    "    tokenizer = BertTokenizerFast.from_pretrained(config[\"bert_path\"], add_special_tokens = False, do_lower_case = False)\n",
    "    data_maker = DataMaker4Bert(tokenizer, handshaking_tagger)\n",
    "    \n",
    "elif config[\"encoder\"] in {\"BiLSTM\", }:\n",
    "    token2idx_path = os.path.join(data_home, experiment_name, config[\"token2idx\"])\n",
    "    token2idx = json.load(open(token2idx_path, \"r\", encoding = \"utf-8\"))\n",
    "    idx2token = {idx:tok for tok, idx in token2idx.items()}\n",
    "    def text2indices(text, max_seq_len):\n",
    "        input_ids = []\n",
    "        tokens = text.split(\" \")\n",
    "        for tok in tokens:\n",
    "            if tok not in token2idx:\n",
    "                input_ids.append(token2idx['<UNK>'])\n",
    "            else:\n",
    "                input_ids.append(token2idx[tok])\n",
    "        if len(input_ids) < max_seq_len:\n",
    "            input_ids.extend([token2idx['<PAD>']] * (max_seq_len - len(input_ids)))\n",
    "        input_ids = torch.tensor(input_ids[:max_seq_len])\n",
    "        return input_ids\n",
    "    data_maker = DataMaker4BiLSTM(text2indices, get_tok2char_span_map, handshaking_tagger)"
   ]
  },
  {
   "cell_type": "code",
   "execution_count": 17,
   "metadata": {},
   "outputs": [],
   "source": [
    "class MyDataset(Dataset):\n",
    "    def __init__(self, data):\n",
    "        self.data = data\n",
    "        \n",
    "    def __getitem__(self, index):\n",
    "        return self.data[index]\n",
    "    \n",
    "    def __len__(self):\n",
    "        return len(self.data)"
   ]
  },
  {
   "cell_type": "code",
   "execution_count": 18,
   "metadata": {},
   "outputs": [
    {
     "name": "stderr",
     "output_type": "stream",
     "text": [
      "Generate indexed train or valid data: 6080it [00:03, 1568.25it/s]\n",
      "Generate indexed train or valid data: 861it [00:00, 1763.42it/s]\n"
     ]
    }
   ],
   "source": [
    "indexed_train_data = data_maker.get_indexed_data(train_data, max_seq_len)\n",
    "indexed_valid_data = data_maker.get_indexed_data(valid_data, max_seq_len)"
   ]
  },
  {
   "cell_type": "code",
   "execution_count": 19,
   "metadata": {},
   "outputs": [],
   "source": [
    "train_dataloader = DataLoader(MyDataset(indexed_train_data), \n",
    "                                  batch_size = hyper_parameters[\"batch_size\"], \n",
    "                                  shuffle = True, \n",
    "                                  num_workers = 6,\n",
    "                                  drop_last = False,\n",
    "                                  collate_fn = data_maker.generate_batch,\n",
    "                                 )\n",
    "valid_dataloader = DataLoader(MyDataset(indexed_valid_data), \n",
    "                          batch_size = hyper_parameters[\"batch_size\"], \n",
    "                          shuffle = True, \n",
    "                          num_workers = 6,\n",
    "                          drop_last = False,\n",
    "                          collate_fn = data_maker.generate_batch,\n",
    "                         )"
   ]
  },
  {
   "cell_type": "code",
   "execution_count": 20,
   "metadata": {},
   "outputs": [],
   "source": [
    "# # have a look at dataloader\n",
    "# train_data_iter = iter(train_dataloader)\n",
    "# batch_data = next(train_data_iter)\n",
    "# text_id_list, text_list, batch_input_ids, \\\n",
    "# batch_attention_mask, batch_token_type_ids, \\\n",
    "# tok2char_span_list, batch_shaking_tag = batch_data\n",
    "\n",
    "# print(text_list[0])\n",
    "# print()\n",
    "# print(tokenizer.decode(batch_input_ids[0].tolist()))\n",
    "# print(batch_input_ids.size())\n",
    "# print(batch_attention_mask.size())\n",
    "# print(batch_token_type_ids.size())\n",
    "# print(len(tok2char_span_list))\n",
    "# print(batch_shaking_tag.size())\n",
    "\n",
    "# # decode \n",
    "# idx = 2\n",
    "# print(text_list[idx])\n",
    "# shaking_tag = batch_shaking_tag[idx]\n",
    "# text = text_list[idx]\n",
    "# tok2char_span = tok2char_span_list[idx]\n",
    "# handshaking_tagger.decode_rel(text, shaking_tag, tok2char_span)"
   ]
  },
  {
   "cell_type": "markdown",
   "metadata": {},
   "source": [
    "# Model"
   ]
  },
  {
   "cell_type": "code",
   "execution_count": 21,
   "metadata": {},
   "outputs": [],
   "source": [
    "if config[\"encoder\"] == \"BERT\":\n",
    "    roberta = AutoModel.from_pretrained(config[\"bert_path\"])\n",
    "    hidden_size = roberta.config.hidden_size\n",
    "    fake_inputs = torch.zeros([hyper_parameters[\"batch_size\"], max_seq_len, hidden_size]).to(device)\n",
    "    rel_extractor = TPLinkerPlusBert(roberta, \n",
    "                                     tag_size,\n",
    "                                     fake_inputs,\n",
    "                                     hyper_parameters[\"shaking_type\"],\n",
    "                                     hyper_parameters[\"dist_emb_size\"],\n",
    "                                     hyper_parameters[\"tok_pair_sample_rate\"]\n",
    "                                    )\n",
    "    \n",
    "elif config[\"encoder\"] in {\"BiLSTM\", }:\n",
    "    glove = Glove()\n",
    "    glove = glove.load(config[\"pretrained_word_embedding_path\"])\n",
    "    \n",
    "    # prepare embedding matrix\n",
    "    word_embedding_init_matrix = np.random.normal(-1, 1, size=(len(token2idx), hyper_parameters[\"word_embedding_dim\"]))\n",
    "    count_in = 0\n",
    "\n",
    "    # 在预训练词向量中的用该预训练向量\n",
    "    # 不在预训练集里的用随机向量\n",
    "    for ind, tok in tqdm(idx2token.items(), desc=\"Embedding matrix initializing...\"):\n",
    "        if tok in glove.dictionary:\n",
    "            count_in += 1\n",
    "            word_embedding_init_matrix[ind] = glove.word_vectors[glove.dictionary[tok]]\n",
    "\n",
    "    print(\"{:.4f} tokens are in the pretrain word embedding matrix\".format(count_in / len(idx2token))) # 命中预训练词向量的比例\n",
    "    word_embedding_init_matrix = torch.FloatTensor(word_embedding_init_matrix)\n",
    "    \n",
    "    fake_inputs = torch.zeros([hyper_parameters[\"batch_size\"], max_seq_len, hyper_parameters[\"dec_hidden_size\"]]).to(device)\n",
    "    rel_extractor = TPLinkerPlusBiLSTM(word_embedding_init_matrix, \n",
    "                                       hyper_parameters[\"emb_dropout\"], \n",
    "                                       hyper_parameters[\"enc_hidden_size\"], \n",
    "                                       hyper_parameters[\"dec_hidden_size\"],\n",
    "                                       hyper_parameters[\"rnn_dropout\"],\n",
    "                                       tag_size, \n",
    "                                       fake_inputs,\n",
    "                                       hyper_parameters[\"shaking_type\"],\n",
    "                                       hyper_parameters[\"dist_emb_size\"],\n",
    "                                       hyper_parameters[\"tok_pair_sample_rate\"],\n",
    "                                      )\n",
    "\n",
    "rel_extractor = rel_extractor.to(device)"
   ]
  },
  {
   "cell_type": "code",
   "execution_count": 22,
   "metadata": {},
   "outputs": [],
   "source": [
    "# # test outputs\n",
    "# rel_extractor.train()\n",
    "# with torch.no_grad():\n",
    "#     outputs, sampled_tok_pair_indices = rel_extractor(batch_input_ids.to(device), \n",
    "#                                    batch_attention_mask.to(device), \n",
    "#                                    batch_token_type_ids.to(device),\n",
    "#                                 )\n",
    "# print(outputs.size())\n",
    "# if rel_extractor.training:\n",
    "#     print(sampled_tok_pair_indices.size())"
   ]
  },
  {
   "cell_type": "markdown",
   "metadata": {},
   "source": [
    "# Metrics"
   ]
  },
  {
   "cell_type": "code",
   "execution_count": 23,
   "metadata": {},
   "outputs": [],
   "source": [
    "# loss func\n",
    "def multilabel_categorical_crossentropy(y_pred, y_true):\n",
    "    \"\"\"\n",
    "    y_true and y_pred have the same shape，elements in y_true are either 0 or 1，\n",
    "         1 tags positive classes，0 tags negtive classes(means tok-pair does not have this type of link).\n",
    "    \"\"\"\n",
    "    y_pred = (1 - 2 * y_true) * y_pred # -1 -> pos classes, 1 -> neg classes\n",
    "    y_pred_neg = y_pred - y_true * 1e12 # mask the pred outputs of pos classes\n",
    "    y_pred_pos = y_pred - (1 - y_true) * 1e12 # mask the pred outputs of neg classes\n",
    "    zeros = torch.zeros_like(y_pred[..., :1]) # st - st\n",
    "    y_pred_neg = torch.cat([y_pred_neg, zeros], dim = -1)\n",
    "    y_pred_pos = torch.cat([y_pred_pos, zeros], dim = -1)\n",
    "    neg_loss = torch.logsumexp(y_pred_neg, dim = -1) # +1: si - (-1), make -1 > si\n",
    "    pos_loss = torch.logsumexp(y_pred_pos, dim = -1) # +1: 1 - sj, make sj > 1\n",
    "    return (neg_loss + pos_loss).mean()\n",
    "loss_func = multilabel_categorical_crossentropy"
   ]
  },
  {
   "cell_type": "code",
   "execution_count": 24,
   "metadata": {},
   "outputs": [],
   "source": [
    "metrics = MetricsCalculator(handshaking_tagger)"
   ]
  },
  {
   "cell_type": "markdown",
   "metadata": {},
   "source": [
    "# Train"
   ]
  },
  {
   "cell_type": "code",
   "execution_count": 25,
   "metadata": {},
   "outputs": [],
   "source": [
    "# train step\n",
    "def train_step(batch_train_data, optimizer):\n",
    "    if config[\"encoder\"] == \"BERT\":\n",
    "        sample_list, batch_input_ids, \\\n",
    "        batch_attention_mask, batch_token_type_ids, \\\n",
    "        tok2char_span_list, batch_shaking_tag = batch_train_data\n",
    "        \n",
    "        batch_input_ids, \\\n",
    "        batch_attention_mask, \\\n",
    "        batch_token_type_ids, \\\n",
    "        batch_shaking_tag = (batch_input_ids.to(device), \n",
    "                              batch_attention_mask.to(device), \n",
    "                              batch_token_type_ids.to(device), \n",
    "                              batch_shaking_tag.to(device)\n",
    "                             )\n",
    "        \n",
    "    elif config[\"encoder\"] in {\"BiLSTM\", }:\n",
    "        sample_list, batch_input_ids, \\\n",
    "        tok2char_span_list, batch_shaking_tag = batch_train_data\n",
    "        \n",
    "        batch_input_ids, \\\n",
    "        batch_shaking_tag = (batch_input_ids.to(device), \n",
    "                              batch_shaking_tag.to(device)\n",
    "                            )\n",
    "    \n",
    "\n",
    "    # zero the parameter gradients\n",
    "    optimizer.zero_grad()\n",
    "    if config[\"encoder\"] == \"BERT\":\n",
    "        pred_small_shaking_outputs, sampled_tok_pair_indices = rel_extractor(batch_input_ids, \n",
    "                                                                            batch_attention_mask, \n",
    "                                                                            batch_token_type_ids\n",
    "                                                                             )\n",
    "    elif config[\"encoder\"] in {\"BiLSTM\", }:\n",
    "        pred_small_shaking_outputs, sampled_tok_pair_indices = rel_extractor(batch_input_ids)\n",
    "\n",
    "    # sampled_tok_pair_indices: (batch_size, ~segment_len)\n",
    "    # batch_small_shaking_tag: (batch_size, ~segment_len, tag_size)\n",
    "    batch_small_shaking_tag = batch_shaking_tag.gather(1, sampled_tok_pair_indices[:, :, None].repeat(1, 1, tag_size))\n",
    "    \n",
    "    loss = loss_func(pred_small_shaking_outputs, batch_small_shaking_tag)\n",
    "#     set_trace()\n",
    "#     t1 = time.time()\n",
    "    loss.backward()\n",
    "    optimizer.step()\n",
    "#     print(\"bp: {}\".format(time.time() - t1))\n",
    "    pred_small_shaking_tag = (pred_small_shaking_outputs > 0.).long()\n",
    "    sample_acc = metrics.get_sample_accuracy(pred_small_shaking_tag,\n",
    "                                             batch_small_shaking_tag)\n",
    "    \n",
    "    return loss.item(), sample_acc.item()\n",
    "\n",
    "# valid step\n",
    "def valid_step(batch_valid_data):\n",
    "    if config[\"encoder\"] == \"BERT\":\n",
    "        sample_list, batch_input_ids, \\\n",
    "        batch_attention_mask, batch_token_type_ids, \\\n",
    "        tok2char_span_list, batch_shaking_tag = batch_valid_data\n",
    "        \n",
    "        batch_input_ids, \\\n",
    "        batch_attention_mask, \\\n",
    "        batch_token_type_ids, \\\n",
    "        batch_shaking_tag = (batch_input_ids.to(device), \n",
    "                              batch_attention_mask.to(device), \n",
    "                              batch_token_type_ids.to(device), \n",
    "                              batch_shaking_tag.to(device)\n",
    "                             )\n",
    "        \n",
    "    elif config[\"encoder\"] in {\"BiLSTM\", }:\n",
    "        sample_list, batch_input_ids, \\\n",
    "        tok2char_span_list, batch_shaking_tag = batch_valid_data\n",
    "        \n",
    "        batch_input_ids, \\\n",
    "        batch_shaking_tag = (batch_input_ids.to(device), \n",
    "                              batch_shaking_tag.to(device)\n",
    "                             )\n",
    "    with torch.no_grad():\n",
    "        if config[\"encoder\"] == \"BERT\":\n",
    "            pred_shaking_outputs, _ = rel_extractor(batch_input_ids, \n",
    "                                      batch_attention_mask, \n",
    "                                      batch_token_type_ids, \n",
    "                                     )\n",
    "        elif config[\"encoder\"] in {\"BiLSTM\", }:\n",
    "            pred_shaking_outputs, _ = rel_extractor(batch_input_ids)\n",
    "            \n",
    "    pred_shaking_tag = (pred_shaking_outputs > 0.).long()\n",
    "    sample_acc = metrics.get_sample_accuracy(pred_shaking_tag,\n",
    "                                             batch_shaking_tag)\n",
    "    \n",
    "    rel_cpg = metrics.get_rel_cpg(sample_list, \n",
    "                                  tok2char_span_list, \n",
    "                                  pred_shaking_tag,\n",
    "                                  hyper_parameters[\"match_pattern\"])\n",
    "    return sample_acc.item(), rel_cpg"
   ]
  },
  {
   "cell_type": "code",
   "execution_count": 26,
   "metadata": {},
   "outputs": [],
   "source": [
    "max_f1 = 0.\n",
    "def train_n_valid(train_dataloader, dev_dataloader, optimizer, scheduler, num_epoch):  \n",
    "    def train(dataloader, ep):\n",
    "        # train\n",
    "        rel_extractor.train()\n",
    "        \n",
    "        t_ep = time.time()\n",
    "        total_loss, total_sample_acc = 0., 0.\n",
    "        for batch_ind, batch_train_data in enumerate(dataloader):\n",
    "            t_batch = time.time()\n",
    "            \n",
    "            loss, sample_acc = train_step(batch_train_data, optimizer)\n",
    "            \n",
    "            total_loss += loss\n",
    "            total_sample_acc += sample_acc\n",
    "            \n",
    "            avg_loss = total_loss / (batch_ind + 1)\n",
    "            \n",
    "            # scheduler\n",
    "            if hyper_parameters[\"scheduler\"] == \"ReduceLROnPlateau\":\n",
    "                scheduler.step(avg_loss)\n",
    "            else:\n",
    "                scheduler.step()\n",
    "                \n",
    "            avg_sample_acc = total_sample_acc / (batch_ind + 1)\n",
    "            \n",
    "            batch_print_format = \"\\rproject: {}, run_name: {}, Epoch: {}/{}, batch: {}/{}, train_loss: {}, \" + \\\n",
    "                                \"t_sample_acc: {},\" + \\\n",
    "                                 \"lr: {}, batch_time: {}, total_time: {} -------------\"\n",
    "                    \n",
    "            print(batch_print_format.format(experiment_name, config[\"run_name\"], \n",
    "                                            ep + 1, num_epoch, \n",
    "                                            batch_ind + 1, len(dataloader), \n",
    "                                            avg_loss, \n",
    "                                            avg_sample_acc,\n",
    "                                            optimizer.param_groups[0]['lr'],\n",
    "                                            time.time() - t_batch,\n",
    "                                            time.time() - t_ep,\n",
    "                                           ), end=\"\")\n",
    "            \n",
    "            if config[\"logger\"] == \"wandb\" and batch_ind % hyper_parameters[\"log_interval\"] == 0:\n",
    "                logger.log({\n",
    "                    \"train_loss\": avg_loss,\n",
    "                    \"train_small_shaking_seq_acc\": avg_sample_acc,\n",
    "                    \"learning_rate\": optimizer.param_groups[0]['lr'],\n",
    "                    \"time\": time.time() - t_ep,\n",
    "                })\n",
    "                \n",
    "        if config[\"logger\"] != \"wandb\": # only log once for training if logger is not wandb\n",
    "                logger.log({\n",
    "                    \"train_loss\": avg_loss,\n",
    "                    \"train_small_shaking_seq_acc\": avg_sample_acc,\n",
    "                    \"learning_rate\": optimizer.param_groups[0]['lr'],\n",
    "                    \"time\": time.time() - t_ep,\n",
    "                }) \n",
    "            \n",
    "        \n",
    "    def valid(dataloader, ep):\n",
    "        # valid\n",
    "        rel_extractor.eval()\n",
    "        \n",
    "        t_ep = time.time()\n",
    "        total_sample_acc = 0.\n",
    "        total_rel_correct_num, total_rel_pred_num, total_rel_gold_num = 0, 0, 0\n",
    "        for batch_ind, batch_valid_data in enumerate(tqdm(dataloader, desc = \"Validating\")):\n",
    "            sample_acc, rel_cpg = valid_step(batch_valid_data)\n",
    "\n",
    "            total_sample_acc += sample_acc\n",
    "           \n",
    "            total_rel_correct_num += rel_cpg[0]\n",
    "            total_rel_pred_num += rel_cpg[1]\n",
    "            total_rel_gold_num += rel_cpg[2]\n",
    "\n",
    "        avg_sample_acc = total_sample_acc / len(dataloader)\n",
    "        \n",
    "        rel_prf = metrics.get_prf_scores(total_rel_correct_num, total_rel_pred_num, total_rel_gold_num)\n",
    "        \n",
    "        log_dict = {\n",
    "                        \"val_shaking_tag_acc\": avg_sample_acc,\n",
    "                        \"val_prec\": rel_prf[0],\n",
    "                        \"val_recall\": rel_prf[1],\n",
    "                        \"val_f1\": rel_prf[2],\n",
    "                        \"time\": time.time() - t_ep,\n",
    "                    }\n",
    "        logger.log(log_dict)\n",
    "        pprint(log_dict)\n",
    "        \n",
    "        return rel_prf[2]\n",
    "        \n",
    "    for ep in range(num_epoch):\n",
    "        train(train_dataloader, ep)   \n",
    "        valid_f1 = valid(valid_dataloader, ep)\n",
    "        \n",
    "        global max_f1\n",
    "        if valid_f1 >= max_f1: \n",
    "            max_f1 = valid_f1\n",
    "            if valid_f1 > config[\"f1_2_save\"]: # save the best model\n",
    "                modle_state_num = len(glob.glob(model_state_dict_dir + \"/model_state_dict_*.pt\"))\n",
    "                torch.save(rel_extractor.state_dict(), os.path.join(model_state_dict_dir, \"model_state_dict_{}.pt\".format(modle_state_num)))\n",
    "#                 scheduler_state_num = len(glob.glob(schedule_state_dict_dir + \"/scheduler_state_dict_*.pt\"))\n",
    "#                 torch.save(scheduler.state_dict(), os.path.join(schedule_state_dict_dir, \"scheduler_state_dict_{}.pt\".format(scheduler_state_num))) \n",
    "        print(\"Current avf_f1: {}, Best f1: {}\".format(valid_f1, max_f1))"
   ]
  },
  {
   "cell_type": "code",
   "execution_count": 27,
   "metadata": {},
   "outputs": [],
   "source": [
    "# optimizer\n",
    "init_learning_rate = float(hyper_parameters[\"lr\"])\n",
    "optimizer = torch.optim.Adam(rel_extractor.parameters(), lr = init_learning_rate)"
   ]
  },
  {
   "cell_type": "code",
   "execution_count": 28,
   "metadata": {},
   "outputs": [],
   "source": [
    "if hyper_parameters[\"scheduler\"] == \"CAWR\":\n",
    "    T_mult = hyper_parameters[\"T_mult\"]\n",
    "    rewarm_epoch_num = hyper_parameters[\"rewarm_epoch_num\"]\n",
    "    scheduler = torch.optim.lr_scheduler.CosineAnnealingWarmRestarts(optimizer, len(train_dataloader) * rewarm_epoch_num, T_mult)\n",
    "    \n",
    "elif hyper_parameters[\"scheduler\"] == \"Step\":\n",
    "    decay_rate = hyper_parameters[\"decay_rate\"]\n",
    "    decay_steps = hyper_parameters[\"decay_steps\"]\n",
    "    scheduler = torch.optim.lr_scheduler.StepLR(optimizer, step_size = decay_steps, gamma = decay_rate)\n",
    "\n",
    "elif hyper_parameters[\"scheduler\"] == \"ReduceLROnPlateau\":\n",
    "    scheduler = torch.optim.lr_scheduler.ReduceLROnPlateau(optimizer, \"min\", verbose = True, patience = 6)"
   ]
  },
  {
   "cell_type": "code",
   "execution_count": 29,
   "metadata": {
    "scrolled": true
   },
   "outputs": [
    {
     "name": "stdout",
     "output_type": "stream",
     "text": [
      "project: xf_event_extr_t1, run_name: TP1+cln+BERT+g7, Epoch: 1/100, batch: 759/760, train_loss: 0.056961679427451374, t_sample_acc: 0.0,lr: 2.5051670895014352e-05, batch_time: 0.7396047115325928, total_time: 565.042977809906 ---------------"
     ]
    },
    {
     "name": "stderr",
     "output_type": "stream",
     "text": [
      "\r",
      "Validating:   0%|          | 0/108 [00:00<?, ?it/s]"
     ]
    },
    {
     "name": "stdout",
     "output_type": "stream",
     "text": [
      "\r",
      "project: xf_event_extr_t1, run_name: TP1+cln+BERT+g7, Epoch: 1/100, batch: 760/760, train_loss: 0.056915750897391454, t_sample_acc: 0.0,lr: 2.5e-05, batch_time: 0.7573404312133789, total_time: 565.8072199821472 -------------{'train_loss': 0.056915750897391454, 'train_small_shaking_seq_acc': 0.0, 'learning_rate': 2.5e-05, 'time': 565.940628528595}\n"
     ]
    },
    {
     "name": "stderr",
     "output_type": "stream",
     "text": [
      "Validating: 100%|██████████| 108/108 [00:29<00:00,  3.71it/s]"
     ]
    },
    {
     "name": "stdout",
     "output_type": "stream",
     "text": [
      "{'val_shaking_tag_acc': 0.0, 'val_prec': 0.0, 'val_recall': 0.0, 'val_f1': 0.0, 'time': 29.13723611831665}\n",
      "{'time': 29.13723611831665,\n",
      " 'val_f1': 0.0,\n",
      " 'val_prec': 0.0,\n",
      " 'val_recall': 0.0,\n",
      " 'val_shaking_tag_acc': 0.0}\n",
      "Current avf_f1: 0.0, Best f1: 0.0\n"
     ]
    },
    {
     "name": "stderr",
     "output_type": "stream",
     "text": [
      "\n"
     ]
    },
    {
     "name": "stdout",
     "output_type": "stream",
     "text": [
      "project: xf_event_extr_t1, run_name: TP1+cln+BERT+g7, Epoch: 2/100, batch: 759/760, train_loss: 0.025096128316785114, t_sample_acc: 0.0,lr: 5.339768485712604e-11, batch_time: 0.7427947521209717, total_time: 557.8038251399994 ---------------"
     ]
    },
    {
     "name": "stderr",
     "output_type": "stream",
     "text": [
      "\r",
      "Validating:   0%|          | 0/108 [00:00<?, ?it/s]"
     ]
    },
    {
     "name": "stdout",
     "output_type": "stream",
     "text": [
      "\r",
      "project: xf_event_extr_t1, run_name: TP1+cln+BERT+g7, Epoch: 2/100, batch: 760/760, train_loss: 0.02508879383707321, t_sample_acc: 0.0,lr: 5e-05, batch_time: 0.7615745067596436, total_time: 558.5724487304688 -------------{'train_loss': 0.02508879383707321, 'train_small_shaking_seq_acc': 0.0, 'learning_rate': 5e-05, 'time': 558.712856054306}\n"
     ]
    },
    {
     "name": "stderr",
     "output_type": "stream",
     "text": [
      "Validating: 100%|██████████| 108/108 [00:29<00:00,  3.62it/s]"
     ]
    },
    {
     "name": "stdout",
     "output_type": "stream",
     "text": [
      "{'val_shaking_tag_acc': 0.0, 'val_prec': 0.0, 'val_recall': 0.0, 'val_f1': 0.0, 'time': 29.82162594795227}\n",
      "{'time': 29.82162594795227,\n",
      " 'val_f1': 0.0,\n",
      " 'val_prec': 0.0,\n",
      " 'val_recall': 0.0,\n",
      " 'val_shaking_tag_acc': 0.0}\n",
      "Current avf_f1: 0.0, Best f1: 0.0\n"
     ]
    },
    {
     "name": "stderr",
     "output_type": "stream",
     "text": [
      "\n"
     ]
    },
    {
     "name": "stdout",
     "output_type": "stream",
     "text": [
      "project: xf_event_extr_t1, run_name: TP1+cln+BERT+g7, Epoch: 3/100, batch: 759/760, train_loss: 0.019526621325577122, t_sample_acc: 0.0,lr: 2.5051670895014352e-05, batch_time: 0.697108268737793, total_time: 562.8107359409332 ---------------"
     ]
    },
    {
     "name": "stderr",
     "output_type": "stream",
     "text": [
      "\r",
      "Validating:   0%|          | 0/108 [00:00<?, ?it/s]"
     ]
    },
    {
     "name": "stdout",
     "output_type": "stream",
     "text": [
      "\r",
      "project: xf_event_extr_t1, run_name: TP1+cln+BERT+g7, Epoch: 3/100, batch: 760/760, train_loss: 0.01951745958435104, t_sample_acc: 0.0,lr: 2.5e-05, batch_time: 0.7263484001159668, total_time: 563.5403091907501 -------------{'train_loss': 0.01951745958435104, 'train_small_shaking_seq_acc': 0.0, 'learning_rate': 2.5e-05, 'time': 563.6993312835693}\n"
     ]
    },
    {
     "name": "stderr",
     "output_type": "stream",
     "text": [
      "Validating: 100%|██████████| 108/108 [00:29<00:00,  3.66it/s]"
     ]
    },
    {
     "name": "stdout",
     "output_type": "stream",
     "text": [
      "{'val_shaking_tag_acc': 0.0, 'val_prec': 0.0, 'val_recall': 0.0, 'val_f1': 0.0, 'time': 29.50072693824768}\n",
      "{'time': 29.50072693824768,\n",
      " 'val_f1': 0.0,\n",
      " 'val_prec': 0.0,\n",
      " 'val_recall': 0.0,\n",
      " 'val_shaking_tag_acc': 0.0}\n",
      "Current avf_f1: 0.0, Best f1: 0.0\n"
     ]
    },
    {
     "name": "stderr",
     "output_type": "stream",
     "text": [
      "\n"
     ]
    },
    {
     "name": "stdout",
     "output_type": "stream",
     "text": [
      "project: xf_event_extr_t1, run_name: TP1+cln+BERT+g7, Epoch: 4/100, batch: 759/760, train_loss: 0.01484743085700886, t_sample_acc: 0.0,lr: 5.339768485712604e-11, batch_time: 0.7749035358428955, total_time: 562.420209646225 -----------------"
     ]
    },
    {
     "name": "stderr",
     "output_type": "stream",
     "text": [
      "\r",
      "Validating:   0%|          | 0/108 [00:00<?, ?it/s]"
     ]
    },
    {
     "name": "stdout",
     "output_type": "stream",
     "text": [
      "\r",
      "project: xf_event_extr_t1, run_name: TP1+cln+BERT+g7, Epoch: 4/100, batch: 760/760, train_loss: 0.014842574398866609, t_sample_acc: 0.0,lr: 5e-05, batch_time: 0.7735834121704102, total_time: 563.196685552597 -------------{'train_loss': 0.014842574398866609, 'train_small_shaking_seq_acc': 0.0, 'learning_rate': 5e-05, 'time': 563.3196129798889}\n"
     ]
    },
    {
     "name": "stderr",
     "output_type": "stream",
     "text": [
      "Validating: 100%|██████████| 108/108 [00:29<00:00,  3.66it/s]\n"
     ]
    },
    {
     "name": "stdout",
     "output_type": "stream",
     "text": [
      "{'val_shaking_tag_acc': 0.0, 'val_prec': 0.999999999975, 'val_recall': 0.0011037527593818679, 'val_f1': 0.002205071664608721, 'time': 29.518080472946167}\n",
      "{'time': 29.518080472946167,\n",
      " 'val_f1': 0.002205071664608721,\n",
      " 'val_prec': 0.999999999975,\n",
      " 'val_recall': 0.0011037527593818679,\n",
      " 'val_shaking_tag_acc': 0.0}\n",
      "Current avf_f1: 0.002205071664608721, Best f1: 0.002205071664608721\n",
      "project: xf_event_extr_t1, run_name: TP1+cln+BERT+g7, Epoch: 5/100, batch: 759/760, train_loss: 0.014088680869525444, t_sample_acc: 0.0,lr: 2.5051670895014352e-05, batch_time: 0.7148494720458984, total_time: 558.1649749279022 --------------"
     ]
    },
    {
     "name": "stderr",
     "output_type": "stream",
     "text": [
      "\r",
      "Validating:   0%|          | 0/108 [00:00<?, ?it/s]"
     ]
    },
    {
     "name": "stdout",
     "output_type": "stream",
     "text": [
      "\r",
      "project: xf_event_extr_t1, run_name: TP1+cln+BERT+g7, Epoch: 5/100, batch: 760/760, train_loss: 0.014081274963131076, t_sample_acc: 0.0,lr: 2.5e-05, batch_time: 0.734581470489502, total_time: 558.9025695323944 -------------{'train_loss': 0.014081274963131076, 'train_small_shaking_seq_acc': 0.0, 'learning_rate': 2.5e-05, 'time': 559.0524599552155}\n"
     ]
    },
    {
     "name": "stderr",
     "output_type": "stream",
     "text": [
      "Validating: 100%|██████████| 108/108 [00:30<00:00,  3.59it/s]\n"
     ]
    },
    {
     "name": "stdout",
     "output_type": "stream",
     "text": [
      "{'val_shaking_tag_acc': 0.0, 'val_prec': 0.849999999997875, 'val_recall': 0.009381898454745878, 'val_f1': 0.018558951962904916, 'time': 30.08860206604004}\n",
      "{'time': 30.08860206604004,\n",
      " 'val_f1': 0.018558951962904916,\n",
      " 'val_prec': 0.849999999997875,\n",
      " 'val_recall': 0.009381898454745878,\n",
      " 'val_shaking_tag_acc': 0.0}\n",
      "Current avf_f1: 0.018558951962904916, Best f1: 0.018558951962904916\n",
      "project: xf_event_extr_t1, run_name: TP1+cln+BERT+g7, Epoch: 6/100, batch: 759/760, train_loss: 0.012209930573129961, t_sample_acc: 0.00016469038208168644,lr: 5.339768485712604e-11, batch_time: 0.7504370212554932, total_time: 564.3122262954712 ---------------"
     ]
    },
    {
     "name": "stderr",
     "output_type": "stream",
     "text": [
      "\r",
      "Validating:   0%|          | 0/108 [00:00<?, ?it/s]"
     ]
    },
    {
     "name": "stdout",
     "output_type": "stream",
     "text": [
      "\r",
      "project: xf_event_extr_t1, run_name: TP1+cln+BERT+g7, Epoch: 6/100, batch: 760/760, train_loss: 0.01220606343367284, t_sample_acc: 0.0001644736842105263,lr: 5e-05, batch_time: 0.7483384609222412, total_time: 565.0637538433075 -------------{'train_loss': 0.01220606343367284, 'train_small_shaking_seq_acc': 0.0001644736842105263, 'learning_rate': 5e-05, 'time': 565.1988344192505}\n"
     ]
    },
    {
     "name": "stderr",
     "output_type": "stream",
     "text": [
      "Validating: 100%|██████████| 108/108 [00:30<00:00,  3.60it/s]\n"
     ]
    },
    {
     "name": "stdout",
     "output_type": "stream",
     "text": [
      "{'val_shaking_tag_acc': 0.0, 'val_prec': 0.7267441860460891, 'val_recall': 0.03449227373068337, 'val_f1': 0.06585879872685603, 'time': 30.014597415924072}\n",
      "{'time': 30.014597415924072,\n",
      " 'val_f1': 0.06585879872685603,\n",
      " 'val_prec': 0.7267441860460891,\n",
      " 'val_recall': 0.03449227373068337,\n",
      " 'val_shaking_tag_acc': 0.0}\n",
      "Current avf_f1: 0.06585879872685603, Best f1: 0.06585879872685603\n",
      "project: xf_event_extr_t1, run_name: TP1+cln+BERT+g7, Epoch: 7/100, batch: 759/760, train_loss: 0.012357588051861258, t_sample_acc: 0.0,lr: 2.5051670895014352e-05, batch_time: 0.7414717674255371, total_time: 560.4704275131226 --------------"
     ]
    },
    {
     "name": "stderr",
     "output_type": "stream",
     "text": [
      "\r",
      "Validating:   0%|          | 0/108 [00:00<?, ?it/s]"
     ]
    },
    {
     "name": "stdout",
     "output_type": "stream",
     "text": [
      "\r",
      "project: xf_event_extr_t1, run_name: TP1+cln+BERT+g7, Epoch: 7/100, batch: 760/760, train_loss: 0.012356114933438795, t_sample_acc: 0.0,lr: 2.5e-05, batch_time: 0.7350401878356934, total_time: 561.2084851264954 -------------{'train_loss': 0.012356114933438795, 'train_small_shaking_seq_acc': 0.0, 'learning_rate': 2.5e-05, 'time': 561.3885655403137}\n"
     ]
    },
    {
     "name": "stderr",
     "output_type": "stream",
     "text": [
      "Validating: 100%|██████████| 108/108 [00:29<00:00,  3.61it/s]\n"
     ]
    },
    {
     "name": "stdout",
     "output_type": "stream",
     "text": [
      "{'val_shaking_tag_acc': 0.0, 'val_prec': 0.7911392405058284, 'val_recall': 0.03449227373068337, 'val_f1': 0.06610259121356607, 'time': 29.919551372528076}\n",
      "{'time': 29.919551372528076,\n",
      " 'val_f1': 0.06610259121356607,\n",
      " 'val_prec': 0.7911392405058284,\n",
      " 'val_recall': 0.03449227373068337,\n",
      " 'val_shaking_tag_acc': 0.0}\n",
      "Current avf_f1: 0.06610259121356607, Best f1: 0.06610259121356607\n",
      "project: xf_event_extr_t1, run_name: TP1+cln+BERT+g7, Epoch: 8/100, batch: 759/760, train_loss: 0.010419961115976057, t_sample_acc: 0.002635046113306983,lr: 5.339768485712604e-11, batch_time: 0.774982213973999, total_time: 560.911945104599 ------------------"
     ]
    },
    {
     "name": "stderr",
     "output_type": "stream",
     "text": [
      "\r",
      "Validating:   0%|          | 0/108 [00:00<?, ?it/s]"
     ]
    },
    {
     "name": "stdout",
     "output_type": "stream",
     "text": [
      "\r",
      "project: xf_event_extr_t1, run_name: TP1+cln+BERT+g7, Epoch: 8/100, batch: 760/760, train_loss: 0.010414592226918198, t_sample_acc: 0.002631578947368421,lr: 5e-05, batch_time: 0.732612133026123, total_time: 561.6480588912964 -------------{'train_loss': 0.010414592226918198, 'train_small_shaking_seq_acc': 0.002631578947368421, 'learning_rate': 5e-05, 'time': 561.8019998073578}\n"
     ]
    },
    {
     "name": "stderr",
     "output_type": "stream",
     "text": [
      "Validating: 100%|██████████| 108/108 [00:30<00:00,  3.52it/s]\n"
     ]
    },
    {
     "name": "stdout",
     "output_type": "stream",
     "text": [
      "{'val_shaking_tag_acc': 0.006944444444444444, 'val_prec': 0.7236842105261571, 'val_recall': 0.0910596026490041, 'val_f1': 0.1617647058624903, 'time': 30.66804027557373}\n",
      "{'time': 30.66804027557373,\n",
      " 'val_f1': 0.1617647058624903,\n",
      " 'val_prec': 0.7236842105261571,\n",
      " 'val_recall': 0.0910596026490041,\n",
      " 'val_shaking_tag_acc': 0.006944444444444444}\n",
      "Current avf_f1: 0.1617647058624903, Best f1: 0.1617647058624903\n",
      "project: xf_event_extr_t1, run_name: TP1+cln+BERT+g7, Epoch: 9/100, batch: 759/760, train_loss: 0.010760786315507215, t_sample_acc: 0.003787878787878788,lr: 2.5051670895014352e-05, batch_time: 0.7678074836730957, total_time: 561.8839004039764 ---------------"
     ]
    },
    {
     "name": "stderr",
     "output_type": "stream",
     "text": [
      "\r",
      "Validating:   0%|          | 0/108 [00:00<?, ?it/s]"
     ]
    },
    {
     "name": "stdout",
     "output_type": "stream",
     "text": [
      "\r",
      "project: xf_event_extr_t1, run_name: TP1+cln+BERT+g7, Epoch: 9/100, batch: 760/760, train_loss: 0.010758346066148462, t_sample_acc: 0.0037828947368421053,lr: 2.5e-05, batch_time: 0.7466440200805664, total_time: 562.6341896057129 -------------{'train_loss': 0.010758346066148462, 'train_small_shaking_seq_acc': 0.0037828947368421053, 'learning_rate': 2.5e-05, 'time': 562.7770504951477}\n"
     ]
    },
    {
     "name": "stderr",
     "output_type": "stream",
     "text": [
      "Validating: 100%|██████████| 108/108 [00:30<00:00,  3.54it/s]\n"
     ]
    },
    {
     "name": "stdout",
     "output_type": "stream",
     "text": [
      "{'val_shaking_tag_acc': 0.009259259259259259, 'val_prec': 0.7118902439023305, 'val_recall': 0.12886313465783308, 'val_f1': 0.21822429903945453, 'time': 30.485166311264038}\n",
      "{'time': 30.485166311264038,\n",
      " 'val_f1': 0.21822429903945453,\n",
      " 'val_prec': 0.7118902439023305,\n",
      " 'val_recall': 0.12886313465783308,\n",
      " 'val_shaking_tag_acc': 0.009259259259259259}\n",
      "Current avf_f1: 0.21822429903945453, Best f1: 0.21822429903945453\n",
      "project: xf_event_extr_t1, run_name: TP1+cln+BERT+g7, Epoch: 10/100, batch: 759/760, train_loss: 0.008466676024509023, t_sample_acc: 0.023221343873517788,lr: 5.339768485712604e-11, batch_time: 0.7577683925628662, total_time: 559.2757813930511 ---------------"
     ]
    },
    {
     "name": "stderr",
     "output_type": "stream",
     "text": [
      "\r",
      "Validating:   0%|          | 0/108 [00:00<?, ?it/s]"
     ]
    },
    {
     "name": "stdout",
     "output_type": "stream",
     "text": [
      "\r",
      "project: xf_event_extr_t1, run_name: TP1+cln+BERT+g7, Epoch: 10/100, batch: 760/760, train_loss: 0.008467403256126042, t_sample_acc: 0.02319078947368421,lr: 5e-05, batch_time: 0.7285542488098145, total_time: 560.0114102363586 -------------{'train_loss': 0.008467403256126042, 'train_small_shaking_seq_acc': 0.02319078947368421, 'learning_rate': 5e-05, 'time': 560.1722123622894}\n"
     ]
    },
    {
     "name": "stderr",
     "output_type": "stream",
     "text": [
      "Validating: 100%|██████████| 108/108 [00:30<00:00,  3.49it/s]\n"
     ]
    },
    {
     "name": "stdout",
     "output_type": "stream",
     "text": [
      "{'val_shaking_tag_acc': 0.024305555555555556, 'val_prec': 0.7104072398189242, 'val_recall': 0.17328918322295328, 'val_f1': 0.27861579411220366, 'time': 30.90976357460022}\n",
      "{'time': 30.90976357460022,\n",
      " 'val_f1': 0.27861579411220366,\n",
      " 'val_prec': 0.7104072398189242,\n",
      " 'val_recall': 0.17328918322295328,\n",
      " 'val_shaking_tag_acc': 0.024305555555555556}\n",
      "Current avf_f1: 0.27861579411220366, Best f1: 0.27861579411220366\n",
      "project: xf_event_extr_t1, run_name: TP1+cln+BERT+g7, Epoch: 11/100, batch: 759/760, train_loss: 0.008991995026334158, t_sample_acc: 0.015974967061923584,lr: 2.5051670895014352e-05, batch_time: 0.7443351745605469, total_time: 560.714617729187 ---------------"
     ]
    },
    {
     "name": "stderr",
     "output_type": "stream",
     "text": [
      "\r",
      "Validating:   0%|          | 0/108 [00:00<?, ?it/s]"
     ]
    },
    {
     "name": "stdout",
     "output_type": "stream",
     "text": [
      "\r",
      "project: xf_event_extr_t1, run_name: TP1+cln+BERT+g7, Epoch: 11/100, batch: 760/760, train_loss: 0.008990055538321795, t_sample_acc: 0.015953947368421054,lr: 2.5e-05, batch_time: 0.747136116027832, total_time: 561.4646642208099 -------------{'train_loss': 0.008990055538321795, 'train_small_shaking_seq_acc': 0.015953947368421054, 'learning_rate': 2.5e-05, 'time': 561.6084377765656}\n"
     ]
    },
    {
     "name": "stderr",
     "output_type": "stream",
     "text": [
      "Validating: 100%|██████████| 108/108 [00:30<00:00,  3.52it/s]\n"
     ]
    },
    {
     "name": "stdout",
     "output_type": "stream",
     "text": [
      "{'val_shaking_tag_acc': 0.04120370373129845, 'val_prec': 0.6478873239436083, 'val_recall': 0.2157836644591552, 'val_f1': 0.3237424963400637, 'time': 30.65800380706787}\n",
      "{'time': 30.65800380706787,\n",
      " 'val_f1': 0.3237424963400637,\n",
      " 'val_prec': 0.6478873239436083,\n",
      " 'val_recall': 0.2157836644591552,\n",
      " 'val_shaking_tag_acc': 0.04120370373129845}\n",
      "Current avf_f1: 0.3237424963400637, Best f1: 0.3237424963400637\n",
      "project: xf_event_extr_t1, run_name: TP1+cln+BERT+g7, Epoch: 12/100, batch: 759/760, train_loss: 0.006631493407678306, t_sample_acc: 0.0716403162055336,lr: 5.339768485712604e-11, batch_time: 0.745913028717041, total_time: 561.7991807460785 ------------------"
     ]
    },
    {
     "name": "stderr",
     "output_type": "stream",
     "text": [
      "\r",
      "Validating:   0%|          | 0/108 [00:00<?, ?it/s]"
     ]
    },
    {
     "name": "stdout",
     "output_type": "stream",
     "text": [
      "\r",
      "project: xf_event_extr_t1, run_name: TP1+cln+BERT+g7, Epoch: 12/100, batch: 760/760, train_loss: 0.006632896574630745, t_sample_acc: 0.07171052631578947,lr: 5e-05, batch_time: 0.7521746158599854, total_time: 562.5549199581146 -------------{'train_loss': 0.006632896574630745, 'train_small_shaking_seq_acc': 0.07171052631578947, 'learning_rate': 5e-05, 'time': 562.696802854538}\n"
     ]
    },
    {
     "name": "stderr",
     "output_type": "stream",
     "text": [
      "Validating: 100%|██████████| 108/108 [00:30<00:00,  3.51it/s]\n"
     ]
    },
    {
     "name": "stdout",
     "output_type": "stream",
     "text": [
      "{'val_shaking_tag_acc': 0.04861111111111111, 'val_prec': 0.6759735488610819, 'val_recall': 0.2538631346578296, 'val_f1': 0.3691073219261869, 'time': 30.783947467803955}\n",
      "{'time': 30.783947467803955,\n",
      " 'val_f1': 0.3691073219261869,\n",
      " 'val_prec': 0.6759735488610819,\n",
      " 'val_recall': 0.2538631346578296,\n",
      " 'val_shaking_tag_acc': 0.04861111111111111}\n",
      "Current avf_f1: 0.3691073219261869, Best f1: 0.3691073219261869\n",
      "project: xf_event_extr_t1, run_name: TP1+cln+BERT+g7, Epoch: 13/100, batch: 759/760, train_loss: 0.0073806604806687165, t_sample_acc: 0.04808959156785244,lr: 2.5051670895014352e-05, batch_time: 0.7639968395233154, total_time: 560.5123534202576 ---------------"
     ]
    },
    {
     "name": "stderr",
     "output_type": "stream",
     "text": [
      "\r",
      "Validating:   0%|          | 0/108 [00:00<?, ?it/s]"
     ]
    },
    {
     "name": "stdout",
     "output_type": "stream",
     "text": [
      "\r",
      "project: xf_event_extr_t1, run_name: TP1+cln+BERT+g7, Epoch: 13/100, batch: 760/760, train_loss: 0.007379267668339276, t_sample_acc: 0.04802631578947368,lr: 2.5e-05, batch_time: 0.7397968769073486, total_time: 561.2588913440704 -------------{'train_loss': 0.007379267668339276, 'train_small_shaking_seq_acc': 0.04802631578947368, 'learning_rate': 2.5e-05, 'time': 561.3955299854279}\n"
     ]
    },
    {
     "name": "stderr",
     "output_type": "stream",
     "text": [
      "Validating: 100%|██████████| 108/108 [00:30<00:00,  3.49it/s]\n"
     ]
    },
    {
     "name": "stdout",
     "output_type": "stream",
     "text": [
      "{'val_shaking_tag_acc': 0.06782407410166881, 'val_prec': 0.6564885496182751, 'val_recall': 0.26103752759381177, 'val_f1': 0.3735439288832613, 'time': 30.985431909561157}\n",
      "{'time': 30.985431909561157,\n",
      " 'val_f1': 0.3735439288832613,\n",
      " 'val_prec': 0.6564885496182751,\n",
      " 'val_recall': 0.26103752759381177,\n",
      " 'val_shaking_tag_acc': 0.06782407410166881}\n",
      "Current avf_f1: 0.3735439288832613, Best f1: 0.3735439288832613\n",
      "project: xf_event_extr_t1, run_name: TP1+cln+BERT+g7, Epoch: 14/100, batch: 759/760, train_loss: 0.005139889009051486, t_sample_acc: 0.12944664031620554,lr: 5.339768485712604e-11, batch_time: 0.7578363418579102, total_time: 561.366926908493 -----------------"
     ]
    },
    {
     "name": "stderr",
     "output_type": "stream",
     "text": [
      "\r",
      "Validating:   0%|          | 0/108 [00:00<?, ?it/s]"
     ]
    },
    {
     "name": "stdout",
     "output_type": "stream",
     "text": [
      "\r",
      "project: xf_event_extr_t1, run_name: TP1+cln+BERT+g7, Epoch: 14/100, batch: 760/760, train_loss: 0.0051410224319337625, t_sample_acc: 0.1294407894736842,lr: 5e-05, batch_time: 0.7082712650299072, total_time: 562.0780992507935 -------------{'train_loss': 0.0051410224319337625, 'train_small_shaking_seq_acc': 0.1294407894736842, 'learning_rate': 5e-05, 'time': 562.2582399845123}\n"
     ]
    },
    {
     "name": "stderr",
     "output_type": "stream",
     "text": [
      "Validating: 100%|██████████| 108/108 [00:30<00:00,  3.53it/s]\n"
     ]
    },
    {
     "name": "stdout",
     "output_type": "stream",
     "text": [
      "{'val_shaking_tag_acc': 0.08055555558315029, 'val_prec': 0.6731266149870366, 'val_recall': 0.28752759381897663, 'val_f1': 0.40293890173684915, 'time': 30.563615798950195}\n",
      "{'time': 30.563615798950195,\n",
      " 'val_f1': 0.40293890173684915,\n",
      " 'val_prec': 0.6731266149870366,\n",
      " 'val_recall': 0.28752759381897663,\n",
      " 'val_shaking_tag_acc': 0.08055555558315029}\n",
      "Current avf_f1: 0.40293890173684915, Best f1: 0.40293890173684915\n",
      "project: xf_event_extr_t1, run_name: TP1+cln+BERT+g7, Epoch: 15/100, batch: 759/760, train_loss: 0.006022125486547081, t_sample_acc: 0.09090909090909091,lr: 2.5051670895014352e-05, batch_time: 0.7631962299346924, total_time: 561.6374475955963 ---------------"
     ]
    },
    {
     "name": "stderr",
     "output_type": "stream",
     "text": [
      "\r",
      "Validating:   0%|          | 0/108 [00:00<?, ?it/s]"
     ]
    },
    {
     "name": "stdout",
     "output_type": "stream",
     "text": [
      "\r",
      "project: xf_event_extr_t1, run_name: TP1+cln+BERT+g7, Epoch: 15/100, batch: 760/760, train_loss: 0.0060196317337134755, t_sample_acc: 0.09111842105263158,lr: 2.5e-05, batch_time: 0.7680966854095459, total_time: 562.4087271690369 -------------{'train_loss': 0.0060196317337134755, 'train_small_shaking_seq_acc': 0.09111842105263158, 'learning_rate': 2.5e-05, 'time': 562.5489070415497}\n"
     ]
    },
    {
     "name": "stderr",
     "output_type": "stream",
     "text": [
      "Validating: 100%|██████████| 108/108 [00:31<00:00,  3.46it/s]\n"
     ]
    },
    {
     "name": "stdout",
     "output_type": "stream",
     "text": [
      "{'val_shaking_tag_acc': 0.06828703703703703, 'val_prec': 0.6100558659217536, 'val_recall': 0.30132450331124994, 'val_f1': 0.40339859618771384, 'time': 31.192477703094482}\n",
      "{'time': 31.192477703094482,\n",
      " 'val_f1': 0.40339859618771384,\n",
      " 'val_prec': 0.6100558659217536,\n",
      " 'val_recall': 0.30132450331124994,\n",
      " 'val_shaking_tag_acc': 0.06828703703703703}\n",
      "Current avf_f1: 0.40339859618771384, Best f1: 0.40339859618771384\n",
      "project: xf_event_extr_t1, run_name: TP1+cln+BERT+g7, Epoch: 16/100, batch: 759/760, train_loss: 0.003865596619575764, t_sample_acc: 0.1953227931488801,lr: 5.339768485712604e-11, batch_time: 0.770526647567749, total_time: 559.4920825958252 ------------------"
     ]
    },
    {
     "name": "stderr",
     "output_type": "stream",
     "text": [
      "\r",
      "Validating:   0%|          | 0/108 [00:00<?, ?it/s]"
     ]
    },
    {
     "name": "stdout",
     "output_type": "stream",
     "text": [
      "\r",
      "project: xf_event_extr_t1, run_name: TP1+cln+BERT+g7, Epoch: 16/100, batch: 760/760, train_loss: 0.0038642291671988605, t_sample_acc: 0.19539473684210526,lr: 5e-05, batch_time: 0.7576203346252441, total_time: 560.2557444572449 -------------{'train_loss': 0.0038642291671988605, 'train_small_shaking_seq_acc': 0.19539473684210526, 'learning_rate': 5e-05, 'time': 560.4189095497131}\n"
     ]
    },
    {
     "name": "stderr",
     "output_type": "stream",
     "text": [
      "Validating: 100%|██████████| 108/108 [00:30<00:00,  3.59it/s]\n"
     ]
    },
    {
     "name": "stdout",
     "output_type": "stream",
     "text": [
      "{'val_shaking_tag_acc': 0.09606481481481481, 'val_prec': 0.6284648187632927, 'val_recall': 0.3253311258278056, 'val_f1': 0.42872727268230754, 'time': 30.11206340789795}\n",
      "{'time': 30.11206340789795,\n",
      " 'val_f1': 0.42872727268230754,\n",
      " 'val_prec': 0.6284648187632927,\n",
      " 'val_recall': 0.3253311258278056,\n",
      " 'val_shaking_tag_acc': 0.09606481481481481}\n",
      "Current avf_f1: 0.42872727268230754, Best f1: 0.42872727268230754\n",
      "project: xf_event_extr_t1, run_name: TP1+cln+BERT+g7, Epoch: 17/100, batch: 759/760, train_loss: 0.004868703738789961, t_sample_acc: 0.12714097496706192,lr: 2.5051670895014352e-05, batch_time: 0.7674403190612793, total_time: 560.8202335834503 ---------------"
     ]
    },
    {
     "name": "stderr",
     "output_type": "stream",
     "text": [
      "\r",
      "Validating:   0%|          | 0/108 [00:00<?, ?it/s]"
     ]
    },
    {
     "name": "stdout",
     "output_type": "stream",
     "text": [
      "\r",
      "project: xf_event_extr_t1, run_name: TP1+cln+BERT+g7, Epoch: 17/100, batch: 760/760, train_loss: 0.004869867194333653, t_sample_acc: 0.12697368421052632,lr: 2.5e-05, batch_time: 0.7764785289764404, total_time: 561.599764585495 -------------{'train_loss': 0.004869867194333653, 'train_small_shaking_seq_acc': 0.12697368421052632, 'learning_rate': 2.5e-05, 'time': 561.7848012447357}\n"
     ]
    },
    {
     "name": "stderr",
     "output_type": "stream",
     "text": [
      "Validating: 100%|██████████| 108/108 [00:30<00:00,  3.51it/s]"
     ]
    },
    {
     "name": "stdout",
     "output_type": "stream",
     "text": [
      "{'val_shaking_tag_acc': 0.09375, 'val_prec': 0.6723910171730071, 'val_recall': 0.2809050772626854, 'val_f1': 0.3962631373659684, 'time': 30.739408254623413}\n",
      "{'time': 30.739408254623413,\n",
      " 'val_f1': 0.3962631373659684,\n",
      " 'val_prec': 0.6723910171730071,\n",
      " 'val_recall': 0.2809050772626854,\n",
      " 'val_shaking_tag_acc': 0.09375}\n",
      "Current avf_f1: 0.3962631373659684, Best f1: 0.42872727268230754\n"
     ]
    },
    {
     "name": "stderr",
     "output_type": "stream",
     "text": [
      "\n"
     ]
    },
    {
     "name": "stdout",
     "output_type": "stream",
     "text": [
      "project: xf_event_extr_t1, run_name: TP1+cln+BERT+g7, Epoch: 18/100, batch: 759/760, train_loss: 0.003000985148788598, t_sample_acc: 0.25461133069828723,lr: 5.339768485712604e-11, batch_time: 0.7496688365936279, total_time: 561.7428212165833 ----------------"
     ]
    },
    {
     "name": "stderr",
     "output_type": "stream",
     "text": [
      "\r",
      "Validating:   0%|          | 0/108 [00:00<?, ?it/s]"
     ]
    },
    {
     "name": "stdout",
     "output_type": "stream",
     "text": [
      "\r",
      "project: xf_event_extr_t1, run_name: TP1+cln+BERT+g7, Epoch: 18/100, batch: 760/760, train_loss: 0.002999693764324643, t_sample_acc: 0.25476973684210524,lr: 5e-05, batch_time: 0.7481215000152588, total_time: 562.4977214336395 -------------{'train_loss': 0.002999693764324643, 'train_small_shaking_seq_acc': 0.25476973684210524, 'learning_rate': 5e-05, 'time': 562.639098405838}\n"
     ]
    },
    {
     "name": "stderr",
     "output_type": "stream",
     "text": [
      "Validating: 100%|██████████| 108/108 [00:30<00:00,  3.53it/s]\n"
     ]
    },
    {
     "name": "stdout",
     "output_type": "stream",
     "text": [
      "{'val_shaking_tag_acc': 0.10717592595352067, 'val_prec': 0.6253203485391786, 'val_recall': 0.33664459161146976, 'val_f1': 0.43766816138946457, 'time': 30.591774702072144}\n",
      "{'time': 30.591774702072144,\n",
      " 'val_f1': 0.43766816138946457,\n",
      " 'val_prec': 0.6253203485391786,\n",
      " 'val_recall': 0.33664459161146976,\n",
      " 'val_shaking_tag_acc': 0.10717592595352067}\n",
      "Current avf_f1: 0.43766816138946457, Best f1: 0.43766816138946457\n",
      "project: xf_event_extr_t1, run_name: TP1+cln+BERT+g7, Epoch: 19/100, batch: 759/760, train_loss: 0.003968739133464401, t_sample_acc: 0.1724308300395257,lr: 2.5051670895014352e-05, batch_time: 0.698847770690918, total_time: 562.4180128574371 -----------------"
     ]
    },
    {
     "name": "stderr",
     "output_type": "stream",
     "text": [
      "\r",
      "Validating:   0%|          | 0/108 [00:00<?, ?it/s]"
     ]
    },
    {
     "name": "stdout",
     "output_type": "stream",
     "text": [
      "\r",
      "project: xf_event_extr_t1, run_name: TP1+cln+BERT+g7, Epoch: 19/100, batch: 760/760, train_loss: 0.003968330528617738, t_sample_acc: 0.1725328947368421,lr: 2.5e-05, batch_time: 0.7480769157409668, total_time: 563.168744802475 -------------{'train_loss': 0.003968330528617738, 'train_small_shaking_seq_acc': 0.1725328947368421, 'learning_rate': 2.5e-05, 'time': 563.3030169010162}\n"
     ]
    },
    {
     "name": "stderr",
     "output_type": "stream",
     "text": [
      "Validating: 100%|██████████| 108/108 [00:31<00:00,  3.48it/s]"
     ]
    },
    {
     "name": "stdout",
     "output_type": "stream",
     "text": [
      "{'val_shaking_tag_acc': 0.0817129629905577, 'val_prec': 0.6336418072944674, 'val_recall': 0.3211920529801236, 'val_f1': 0.42629555022085747, 'time': 31.04047703742981}\n",
      "{'time': 31.04047703742981,\n",
      " 'val_f1': 0.42629555022085747,\n",
      " 'val_prec': 0.6336418072944674,\n",
      " 'val_recall': 0.3211920529801236,\n",
      " 'val_shaking_tag_acc': 0.0817129629905577}\n",
      "Current avf_f1: 0.42629555022085747, Best f1: 0.43766816138946457\n"
     ]
    },
    {
     "name": "stderr",
     "output_type": "stream",
     "text": [
      "\n"
     ]
    },
    {
     "name": "stdout",
     "output_type": "stream",
     "text": [
      "project: xf_event_extr_t1, run_name: TP1+cln+BERT+g7, Epoch: 20/100, batch: 759/760, train_loss: 0.0023498433642932955, t_sample_acc: 0.34057971014492755,lr: 5.339768485712604e-11, batch_time: 0.4848644733428955, total_time: 514.308844089508 ----------------"
     ]
    },
    {
     "name": "stderr",
     "output_type": "stream",
     "text": [
      "\r",
      "Validating:   0%|          | 0/108 [00:00<?, ?it/s]"
     ]
    },
    {
     "name": "stdout",
     "output_type": "stream",
     "text": [
      "\r",
      "project: xf_event_extr_t1, run_name: TP1+cln+BERT+g7, Epoch: 20/100, batch: 760/760, train_loss: 0.0023485545446946116, t_sample_acc: 0.34095394736842105,lr: 5e-05, batch_time: 0.478360652923584, total_time: 514.7937145233154 -------------{'train_loss': 0.0023485545446946116, 'train_small_shaking_seq_acc': 0.34095394736842105, 'learning_rate': 5e-05, 'time': 514.9779922962189}\n"
     ]
    },
    {
     "name": "stderr",
     "output_type": "stream",
     "text": [
      "Validating: 100%|██████████| 108/108 [00:14<00:00,  7.54it/s]\n"
     ]
    },
    {
     "name": "stdout",
     "output_type": "stream",
     "text": [
      "{'val_shaking_tag_acc': 0.11921296296296297, 'val_prec': 0.6248780487804573, 'val_recall': 0.3534768211920432, 'val_f1': 0.45153330978816386, 'time': 14.3284592628479}\n",
      "{'time': 14.3284592628479,\n",
      " 'val_f1': 0.45153330978816386,\n",
      " 'val_prec': 0.6248780487804573,\n",
      " 'val_recall': 0.3534768211920432,\n",
      " 'val_shaking_tag_acc': 0.11921296296296297}\n",
      "Current avf_f1: 0.45153330978816386, Best f1: 0.45153330978816386\n",
      "project: xf_event_extr_t1, run_name: TP1+cln+BERT+g7, Epoch: 21/100, batch: 759/760, train_loss: 0.003321851966967033, t_sample_acc: 0.2271080368906456,lr: 2.5051670895014352e-05, batch_time: 0.4699437618255615, total_time: 368.5213418006897 -----------------"
     ]
    },
    {
     "name": "stderr",
     "output_type": "stream",
     "text": [
      "\r",
      "Validating:   0%|          | 0/108 [00:00<?, ?it/s]"
     ]
    },
    {
     "name": "stdout",
     "output_type": "stream",
     "text": [
      "\r",
      "project: xf_event_extr_t1, run_name: TP1+cln+BERT+g7, Epoch: 21/100, batch: 760/760, train_loss: 0.0033212667007127923, t_sample_acc: 0.22697368421052633,lr: 2.5e-05, batch_time: 0.4938852787017822, total_time: 369.02194476127625 -------------{'train_loss': 0.0033212667007127923, 'train_small_shaking_seq_acc': 0.22697368421052633, 'learning_rate': 2.5e-05, 'time': 369.1571958065033}\n"
     ]
    },
    {
     "name": "stderr",
     "output_type": "stream",
     "text": [
      "Validating: 100%|██████████| 108/108 [00:13<00:00,  7.88it/s]"
     ]
    },
    {
     "name": "stdout",
     "output_type": "stream",
     "text": [
      "{'val_shaking_tag_acc': 0.11018518524037467, 'val_prec': 0.5868820362212145, 'val_recall': 0.33084988962471495, 'val_f1': 0.4231515792727403, 'time': 13.711748361587524}\n",
      "{'time': 13.711748361587524,\n",
      " 'val_f1': 0.4231515792727403,\n",
      " 'val_prec': 0.5868820362212145,\n",
      " 'val_recall': 0.33084988962471495,\n",
      " 'val_shaking_tag_acc': 0.11018518524037467}\n",
      "Current avf_f1: 0.4231515792727403, Best f1: 0.45153330978816386\n"
     ]
    },
    {
     "name": "stderr",
     "output_type": "stream",
     "text": [
      "\n"
     ]
    },
    {
     "name": "stdout",
     "output_type": "stream",
     "text": [
      "project: xf_event_extr_t1, run_name: TP1+cln+BERT+g7, Epoch: 22/100, batch: 759/760, train_loss: 0.001825162427158927, t_sample_acc: 0.4257246376811594,lr: 5.339768485712604e-11, batch_time: 0.4754040241241455, total_time: 370.1713275909424 ------------------"
     ]
    },
    {
     "name": "stderr",
     "output_type": "stream",
     "text": [
      "\r",
      "Validating:   0%|          | 0/108 [00:00<?, ?it/s]"
     ]
    },
    {
     "name": "stdout",
     "output_type": "stream",
     "text": [
      "\r",
      "project: xf_event_extr_t1, run_name: TP1+cln+BERT+g7, Epoch: 22/100, batch: 760/760, train_loss: 0.0018241319391228516, t_sample_acc: 0.42582236842105264,lr: 5e-05, batch_time: 0.47763967514038086, total_time: 370.6540496349335 -------------{'train_loss': 0.0018241319391228516, 'train_small_shaking_seq_acc': 0.42582236842105264, 'learning_rate': 5e-05, 'time': 370.7953324317932}\n"
     ]
    },
    {
     "name": "stderr",
     "output_type": "stream",
     "text": [
      "Validating: 100%|██████████| 108/108 [00:14<00:00,  7.64it/s]"
     ]
    },
    {
     "name": "stdout",
     "output_type": "stream",
     "text": [
      "{'val_shaking_tag_acc': 0.11458333333333333, 'val_prec': 0.5949308755760094, 'val_recall': 0.3562362030904979, 'val_f1': 0.44563341382955723, 'time': 14.143948316574097}\n",
      "{'time': 14.143948316574097,\n",
      " 'val_f1': 0.44563341382955723,\n",
      " 'val_prec': 0.5949308755760094,\n",
      " 'val_recall': 0.3562362030904979,\n",
      " 'val_shaking_tag_acc': 0.11458333333333333}\n",
      "Current avf_f1: 0.44563341382955723, Best f1: 0.45153330978816386\n"
     ]
    },
    {
     "name": "stderr",
     "output_type": "stream",
     "text": [
      "\n"
     ]
    },
    {
     "name": "stdout",
     "output_type": "stream",
     "text": [
      "project: xf_event_extr_t1, run_name: TP1+cln+BERT+g7, Epoch: 23/100, batch: 759/760, train_loss: 0.0028142744313839, t_sample_acc: 0.26399868247694336,lr: 2.5051670895014352e-05, batch_time: 0.4712250232696533, total_time: 366.95712780952454 -----------------"
     ]
    },
    {
     "name": "stderr",
     "output_type": "stream",
     "text": [
      "\r",
      "Validating:   0%|          | 0/108 [00:00<?, ?it/s]"
     ]
    },
    {
     "name": "stdout",
     "output_type": "stream",
     "text": [
      "\r",
      "project: xf_event_extr_t1, run_name: TP1+cln+BERT+g7, Epoch: 23/100, batch: 760/760, train_loss: 0.002816889838638752, t_sample_acc: 0.2636513157894737,lr: 2.5e-05, batch_time: 0.4761521816253662, total_time: 367.4361324310303 -------------{'train_loss': 0.002816889838638752, 'train_small_shaking_seq_acc': 0.2636513157894737, 'learning_rate': 2.5e-05, 'time': 367.57246804237366}\n"
     ]
    },
    {
     "name": "stderr",
     "output_type": "stream",
     "text": [
      "Validating: 100%|██████████| 108/108 [00:13<00:00,  8.07it/s]"
     ]
    },
    {
     "name": "stdout",
     "output_type": "stream",
     "text": [
      "{'val_shaking_tag_acc': 0.10162037059112831, 'val_prec': 0.5555066079294909, 'val_recall': 0.34795805739513386, 'val_f1': 0.4278927722634487, 'time': 13.388592958450317}\n",
      "{'time': 13.388592958450317,\n",
      " 'val_f1': 0.4278927722634487,\n",
      " 'val_prec': 0.5555066079294909,\n",
      " 'val_recall': 0.34795805739513386,\n",
      " 'val_shaking_tag_acc': 0.10162037059112831}\n",
      "Current avf_f1: 0.4278927722634487, Best f1: 0.45153330978816386\n"
     ]
    },
    {
     "name": "stderr",
     "output_type": "stream",
     "text": [
      "\n"
     ]
    },
    {
     "name": "stdout",
     "output_type": "stream",
     "text": [
      "project: xf_event_extr_t1, run_name: TP1+cln+BERT+g7, Epoch: 24/100, batch: 759/760, train_loss: 0.0015088990514943675, t_sample_acc: 0.4827075098814229,lr: 5.339768485712604e-11, batch_time: 0.4772660732269287, total_time: 369.40681433677673 ----------------"
     ]
    },
    {
     "name": "stderr",
     "output_type": "stream",
     "text": [
      "\r",
      "Validating:   0%|          | 0/108 [00:00<?, ?it/s]"
     ]
    },
    {
     "name": "stdout",
     "output_type": "stream",
     "text": [
      "\r",
      "project: xf_event_extr_t1, run_name: TP1+cln+BERT+g7, Epoch: 24/100, batch: 760/760, train_loss: 0.0015075548012598455, t_sample_acc: 0.4830592105263158,lr: 5e-05, batch_time: 0.47147703170776367, total_time: 369.88145661354065 -------------{'train_loss': 0.0015075548012598455, 'train_small_shaking_seq_acc': 0.4830592105263158, 'learning_rate': 5e-05, 'time': 370.0044186115265}\n"
     ]
    },
    {
     "name": "stderr",
     "output_type": "stream",
     "text": [
      "Validating: 100%|██████████| 108/108 [00:13<00:00,  7.82it/s]"
     ]
    },
    {
     "name": "stdout",
     "output_type": "stream",
     "text": [
      "{'val_shaking_tag_acc': 0.12222222224981696, 'val_prec': 0.5984396512161267, 'val_recall': 0.35982339955848897, 'val_f1': 0.44942271234322784, 'time': 13.807682514190674}\n",
      "{'time': 13.807682514190674,\n",
      " 'val_f1': 0.44942271234322784,\n",
      " 'val_prec': 0.5984396512161267,\n",
      " 'val_recall': 0.35982339955848897,\n",
      " 'val_shaking_tag_acc': 0.12222222224981696}\n",
      "Current avf_f1: 0.44942271234322784, Best f1: 0.45153330978816386\n"
     ]
    },
    {
     "name": "stderr",
     "output_type": "stream",
     "text": [
      "\n"
     ]
    },
    {
     "name": "stdout",
     "output_type": "stream",
     "text": [
      "project: xf_event_extr_t1, run_name: TP1+cln+BERT+g7, Epoch: 25/100, batch: 759/760, train_loss: 0.002343927787470218, t_sample_acc: 0.32460474308300397,lr: 2.5051670895014352e-05, batch_time: 0.4742724895477295, total_time: 367.1219506263733 ----------------"
     ]
    },
    {
     "name": "stderr",
     "output_type": "stream",
     "text": [
      "\r",
      "Validating:   0%|          | 0/108 [00:00<?, ?it/s]"
     ]
    },
    {
     "name": "stdout",
     "output_type": "stream",
     "text": [
      "\r",
      "project: xf_event_extr_t1, run_name: TP1+cln+BERT+g7, Epoch: 25/100, batch: 760/760, train_loss: 0.0023438759237730043, t_sample_acc: 0.325,lr: 2.5e-05, batch_time: 0.46438121795654297, total_time: 367.58948040008545 -------------{'train_loss': 0.0023438759237730043, 'train_small_shaking_seq_acc': 0.325, 'learning_rate': 2.5e-05, 'time': 367.73637223243713}\n"
     ]
    },
    {
     "name": "stderr",
     "output_type": "stream",
     "text": [
      "Validating: 100%|██████████| 108/108 [00:14<00:00,  7.68it/s]"
     ]
    },
    {
     "name": "stdout",
     "output_type": "stream",
     "text": [
      "{'val_shaking_tag_acc': 0.08680555555555555, 'val_prec': 0.5508326029798181, 'val_recall': 0.346854304635752, 'val_f1': 0.42566881133082657, 'time': 14.070077657699585}\n",
      "{'time': 14.070077657699585,\n",
      " 'val_f1': 0.42566881133082657,\n",
      " 'val_prec': 0.5508326029798181,\n",
      " 'val_recall': 0.346854304635752,\n",
      " 'val_shaking_tag_acc': 0.08680555555555555}\n",
      "Current avf_f1: 0.42566881133082657, Best f1: 0.45153330978816386\n"
     ]
    },
    {
     "name": "stderr",
     "output_type": "stream",
     "text": [
      "\n"
     ]
    },
    {
     "name": "stdout",
     "output_type": "stream",
     "text": [
      "project: xf_event_extr_t1, run_name: TP1+cln+BERT+g7, Epoch: 26/100, batch: 759/760, train_loss: 0.0012346974941604306, t_sample_acc: 0.5503952569169961,lr: 5.339768485712604e-11, batch_time: 0.4749927520751953, total_time: 369.90259194374084 ---------------"
     ]
    },
    {
     "name": "stderr",
     "output_type": "stream",
     "text": [
      "\r",
      "Validating:   0%|          | 0/108 [00:00<?, ?it/s]"
     ]
    },
    {
     "name": "stdout",
     "output_type": "stream",
     "text": [
      "\r",
      "project: xf_event_extr_t1, run_name: TP1+cln+BERT+g7, Epoch: 26/100, batch: 760/760, train_loss: 0.0012365706003421159, t_sample_acc: 0.5501644736842105,lr: 5e-05, batch_time: 0.4713175296783447, total_time: 370.3766655921936 -------------{'train_loss': 0.0012365706003421159, 'train_small_shaking_seq_acc': 0.5501644736842105, 'learning_rate': 5e-05, 'time': 370.5207531452179}\n"
     ]
    },
    {
     "name": "stderr",
     "output_type": "stream",
     "text": [
      "Validating: 100%|██████████| 108/108 [00:14<00:00,  7.53it/s]"
     ]
    },
    {
     "name": "stdout",
     "output_type": "stream",
     "text": [
      "{'val_shaking_tag_acc': 0.11921296296296297, 'val_prec': 0.5949252378794474, 'val_recall': 0.36230684326709817, 'val_f1': 0.4503515691520455, 'time': 14.35081934928894}\n",
      "{'time': 14.35081934928894,\n",
      " 'val_f1': 0.4503515691520455,\n",
      " 'val_prec': 0.5949252378794474,\n",
      " 'val_recall': 0.36230684326709817,\n",
      " 'val_shaking_tag_acc': 0.11921296296296297}\n",
      "Current avf_f1: 0.4503515691520455, Best f1: 0.45153330978816386\n"
     ]
    },
    {
     "name": "stderr",
     "output_type": "stream",
     "text": [
      "\n"
     ]
    },
    {
     "name": "stdout",
     "output_type": "stream",
     "text": [
      "project: xf_event_extr_t1, run_name: TP1+cln+BERT+g7, Epoch: 27/100, batch: 759/760, train_loss: 0.0020941429257775412, t_sample_acc: 0.35886034255599475,lr: 2.5051670895014352e-05, batch_time: 0.4905543327331543, total_time: 368.3266043663025 ---------------"
     ]
    },
    {
     "name": "stderr",
     "output_type": "stream",
     "text": [
      "\r",
      "Validating:   0%|          | 0/108 [00:00<?, ?it/s]"
     ]
    },
    {
     "name": "stdout",
     "output_type": "stream",
     "text": [
      "\r",
      "project: xf_event_extr_t1, run_name: TP1+cln+BERT+g7, Epoch: 27/100, batch: 760/760, train_loss: 0.002092390503457864, t_sample_acc: 0.35904605263157896,lr: 2.5e-05, batch_time: 0.4681236743927002, total_time: 368.79794669151306 -------------{'train_loss': 0.002092390503457864, 'train_small_shaking_seq_acc': 0.35904605263157896, 'learning_rate': 2.5e-05, 'time': 368.9485652446747}\n"
     ]
    },
    {
     "name": "stderr",
     "output_type": "stream",
     "text": [
      "Validating: 100%|██████████| 108/108 [00:13<00:00,  7.74it/s]"
     ]
    },
    {
     "name": "stdout",
     "output_type": "stream",
     "text": [
      "{'val_shaking_tag_acc': 0.10648148148148148, 'val_prec': 0.5853773584905384, 'val_recall': 0.34243929359822456, 'val_f1': 0.43210306402026527, 'time': 13.95610499382019}\n",
      "{'time': 13.95610499382019,\n",
      " 'val_f1': 0.43210306402026527,\n",
      " 'val_prec': 0.5853773584905384,\n",
      " 'val_recall': 0.34243929359822456,\n",
      " 'val_shaking_tag_acc': 0.10648148148148148}\n",
      "Current avf_f1: 0.43210306402026527, Best f1: 0.45153330978816386\n"
     ]
    },
    {
     "name": "stderr",
     "output_type": "stream",
     "text": [
      "\n"
     ]
    },
    {
     "name": "stdout",
     "output_type": "stream",
     "text": [
      "project: xf_event_extr_t1, run_name: TP1+cln+BERT+g7, Epoch: 28/100, batch: 759/760, train_loss: 0.0010753406755331252, t_sample_acc: 0.5867918313570487,lr: 5.339768485712604e-11, batch_time: 0.47760868072509766, total_time: 368.5947058200836 ---------------"
     ]
    },
    {
     "name": "stderr",
     "output_type": "stream",
     "text": [
      "\r",
      "Validating:   0%|          | 0/108 [00:00<?, ?it/s]"
     ]
    },
    {
     "name": "stdout",
     "output_type": "stream",
     "text": [
      "\r",
      "project: xf_event_extr_t1, run_name: TP1+cln+BERT+g7, Epoch: 28/100, batch: 760/760, train_loss: 0.0010753801821345788, t_sample_acc: 0.5866776315789474,lr: 5e-05, batch_time: 0.47252607345581055, total_time: 369.07435369491577 -------------{'train_loss': 0.0010753801821345788, 'train_small_shaking_seq_acc': 0.5866776315789474, 'learning_rate': 5e-05, 'time': 369.22541666030884}\n"
     ]
    },
    {
     "name": "stderr",
     "output_type": "stream",
     "text": [
      "Validating: 100%|██████████| 108/108 [00:14<00:00,  7.57it/s]\n"
     ]
    },
    {
     "name": "stdout",
     "output_type": "stream",
     "text": [
      "{'val_shaking_tag_acc': 0.1284722222222222, 'val_prec': 0.59320518551629, 'val_recall': 0.3661699779249347, 'val_f1': 0.4528237501660589, 'time': 14.271153450012207}\n",
      "{'time': 14.271153450012207,\n",
      " 'val_f1': 0.4528237501660589,\n",
      " 'val_prec': 0.59320518551629,\n",
      " 'val_recall': 0.3661699779249347,\n",
      " 'val_shaking_tag_acc': 0.1284722222222222}\n",
      "Current avf_f1: 0.4528237501660589, Best f1: 0.4528237501660589\n",
      "project: xf_event_extr_t1, run_name: TP1+cln+BERT+g7, Epoch: 29/100, batch: 759/760, train_loss: 0.0018310517742985992, t_sample_acc: 0.4137022397891963,lr: 2.5051670895014352e-05, batch_time: 0.4775888919830322, total_time: 369.22404050827026 ---------------"
     ]
    },
    {
     "name": "stderr",
     "output_type": "stream",
     "text": [
      "\r",
      "Validating:   0%|          | 0/108 [00:00<?, ?it/s]"
     ]
    },
    {
     "name": "stdout",
     "output_type": "stream",
     "text": [
      "\r",
      "project: xf_event_extr_t1, run_name: TP1+cln+BERT+g7, Epoch: 29/100, batch: 760/760, train_loss: 0.0018319345769621004, t_sample_acc: 0.4136513157894737,lr: 2.5e-05, batch_time: 0.48546290397644043, total_time: 369.7126348018646 -------------{'train_loss': 0.0018319345769621004, 'train_small_shaking_seq_acc': 0.4136513157894737, 'learning_rate': 2.5e-05, 'time': 369.8420979976654}\n"
     ]
    },
    {
     "name": "stderr",
     "output_type": "stream",
     "text": [
      "Validating: 100%|██████████| 108/108 [00:14<00:00,  7.71it/s]"
     ]
    },
    {
     "name": "stdout",
     "output_type": "stream",
     "text": [
      "{'val_shaking_tag_acc': 0.11226851851851852, 'val_prec': 0.5756097560975354, 'val_recall': 0.35816777041941616, 'val_f1': 0.4415716958193402, 'time': 14.015626430511475}\n",
      "{'time': 14.015626430511475,\n",
      " 'val_f1': 0.4415716958193402,\n",
      " 'val_prec': 0.5756097560975354,\n",
      " 'val_recall': 0.35816777041941616,\n",
      " 'val_shaking_tag_acc': 0.11226851851851852}\n",
      "Current avf_f1: 0.4415716958193402, Best f1: 0.4528237501660589\n"
     ]
    },
    {
     "name": "stderr",
     "output_type": "stream",
     "text": [
      "\n"
     ]
    },
    {
     "name": "stdout",
     "output_type": "stream",
     "text": [
      "project: xf_event_extr_t1, run_name: TP1+cln+BERT+g7, Epoch: 30/100, batch: 759/760, train_loss: 0.0008988616366558036, t_sample_acc: 0.6355401844532279,lr: 5.339768485712604e-11, batch_time: 0.48615121841430664, total_time: 370.2939476966858 ---------------"
     ]
    },
    {
     "name": "stderr",
     "output_type": "stream",
     "text": [
      "\r",
      "Validating:   0%|          | 0/108 [00:00<?, ?it/s]"
     ]
    },
    {
     "name": "stdout",
     "output_type": "stream",
     "text": [
      "\r",
      "project: xf_event_extr_t1, run_name: TP1+cln+BERT+g7, Epoch: 30/100, batch: 760/760, train_loss: 0.0008990932872668629, t_sample_acc: 0.6355263157894737,lr: 5e-05, batch_time: 0.4756481647491455, total_time: 370.7772800922394 -------------{'train_loss': 0.0008990932872668629, 'train_small_shaking_seq_acc': 0.6355263157894737, 'learning_rate': 5e-05, 'time': 370.91458010673523}\n"
     ]
    },
    {
     "name": "stderr",
     "output_type": "stream",
     "text": [
      "Validating: 100%|██████████| 108/108 [00:14<00:00,  7.52it/s]\n"
     ]
    },
    {
     "name": "stdout",
     "output_type": "stream",
     "text": [
      "{'val_shaking_tag_acc': 0.12222222224981696, 'val_prec': 0.5692243536279996, 'val_recall': 0.3766556291390625, 'val_f1': 0.4533377614930736, 'time': 14.36752200126648}\n",
      "{'time': 14.36752200126648,\n",
      " 'val_f1': 0.4533377614930736,\n",
      " 'val_prec': 0.5692243536279996,\n",
      " 'val_recall': 0.3766556291390625,\n",
      " 'val_shaking_tag_acc': 0.12222222224981696}\n",
      "Current avf_f1: 0.4533377614930736, Best f1: 0.4533377614930736\n",
      "project: xf_event_extr_t1, run_name: TP1+cln+BERT+g7, Epoch: 31/100, batch: 759/760, train_loss: 0.0016330864699534416, t_sample_acc: 0.44235836627140973,lr: 2.5051670895014352e-05, batch_time: 0.48328685760498047, total_time: 369.6661808490753 --------------"
     ]
    },
    {
     "name": "stderr",
     "output_type": "stream",
     "text": [
      "\r",
      "Validating:   0%|          | 0/108 [00:00<?, ?it/s]"
     ]
    },
    {
     "name": "stdout",
     "output_type": "stream",
     "text": [
      "\r",
      "project: xf_event_extr_t1, run_name: TP1+cln+BERT+g7, Epoch: 31/100, batch: 760/760, train_loss: 0.001632391198137683, t_sample_acc: 0.44226973684210524,lr: 2.5e-05, batch_time: 0.46905088424682617, total_time: 370.141996383667 -------------{'train_loss': 0.001632391198137683, 'train_small_shaking_seq_acc': 0.44226973684210524, 'learning_rate': 2.5e-05, 'time': 370.32838892936707}\n"
     ]
    },
    {
     "name": "stderr",
     "output_type": "stream",
     "text": [
      "Validating: 100%|██████████| 108/108 [00:13<00:00,  7.73it/s]"
     ]
    },
    {
     "name": "stdout",
     "output_type": "stream",
     "text": [
      "{'val_shaking_tag_acc': 0.1076388888888889, 'val_prec': 0.5792626728110332, 'val_recall': 0.346854304635752, 'val_f1': 0.4338971349203412, 'time': 13.967155933380127}\n",
      "{'time': 13.967155933380127,\n",
      " 'val_f1': 0.4338971349203412,\n",
      " 'val_prec': 0.5792626728110332,\n",
      " 'val_recall': 0.346854304635752,\n",
      " 'val_shaking_tag_acc': 0.1076388888888889}\n",
      "Current avf_f1: 0.4338971349203412, Best f1: 0.4533377614930736\n"
     ]
    },
    {
     "name": "stderr",
     "output_type": "stream",
     "text": [
      "\n"
     ]
    },
    {
     "name": "stdout",
     "output_type": "stream",
     "text": [
      "project: xf_event_extr_t1, run_name: TP1+cln+BERT+g7, Epoch: 32/100, batch: 760/760, train_loss: 0.0007974866377408992, t_sample_acc: 0.66875,lr: 5e-05, batch_time: 0.4720025062561035, total_time: 372.6431384086609 -------------.1678776741028 ---------------"
     ]
    },
    {
     "name": "stderr",
     "output_type": "stream",
     "text": [
      "\r",
      "Validating:   0%|          | 0/108 [00:00<?, ?it/s]"
     ]
    },
    {
     "name": "stdout",
     "output_type": "stream",
     "text": [
      "{'train_loss': 0.0007974866377408992, 'train_small_shaking_seq_acc': 0.66875, 'learning_rate': 5e-05, 'time': 372.84924817085266}\n"
     ]
    },
    {
     "name": "stderr",
     "output_type": "stream",
     "text": [
      "Validating: 100%|██████████| 108/108 [00:14<00:00,  7.66it/s]"
     ]
    },
    {
     "name": "stdout",
     "output_type": "stream",
     "text": [
      "{'val_shaking_tag_acc': 0.11990740743500215, 'val_prec': 0.5870141342755925, 'val_recall': 0.3667218543046256, 'val_f1': 0.4514266303874348, 'time': 14.107771158218384}\n",
      "{'time': 14.107771158218384,\n",
      " 'val_f1': 0.4514266303874348,\n",
      " 'val_prec': 0.5870141342755925,\n",
      " 'val_recall': 0.3667218543046256,\n",
      " 'val_shaking_tag_acc': 0.11990740743500215}\n",
      "Current avf_f1: 0.4514266303874348, Best f1: 0.4533377614930736\n"
     ]
    },
    {
     "name": "stderr",
     "output_type": "stream",
     "text": [
      "\n"
     ]
    },
    {
     "name": "stdout",
     "output_type": "stream",
     "text": [
      "project: xf_event_extr_t1, run_name: TP1+cln+BERT+g7, Epoch: 33/100, batch: 759/760, train_loss: 0.0014956446641526027, t_sample_acc: 0.4685441370223979,lr: 2.5051670895014352e-05, batch_time: 0.47012805938720703, total_time: 368.0828833580017 ---------------"
     ]
    },
    {
     "name": "stderr",
     "output_type": "stream",
     "text": [
      "\r",
      "Validating:   0%|          | 0/108 [00:00<?, ?it/s]"
     ]
    },
    {
     "name": "stdout",
     "output_type": "stream",
     "text": [
      "\r",
      "project: xf_event_extr_t1, run_name: TP1+cln+BERT+g7, Epoch: 33/100, batch: 760/760, train_loss: 0.0014940220077206553, t_sample_acc: 0.46875,lr: 2.5e-05, batch_time: 0.4803028106689453, total_time: 368.5698711872101 -------------{'train_loss': 0.0014940220077206553, 'train_small_shaking_seq_acc': 0.46875, 'learning_rate': 2.5e-05, 'time': 368.7086637020111}\n"
     ]
    },
    {
     "name": "stderr",
     "output_type": "stream",
     "text": [
      "Validating: 100%|██████████| 108/108 [00:13<00:00,  7.73it/s]"
     ]
    },
    {
     "name": "stdout",
     "output_type": "stream",
     "text": [
      "{'val_shaking_tag_acc': 0.11018518524037467, 'val_prec': 0.5677392040643282, 'val_recall': 0.3700331125827712, 'val_f1': 0.4480454393107105, 'time': 13.983877897262573}\n",
      "{'time': 13.983877897262573,\n",
      " 'val_f1': 0.4480454393107105,\n",
      " 'val_prec': 0.5677392040643282,\n",
      " 'val_recall': 0.3700331125827712,\n",
      " 'val_shaking_tag_acc': 0.11018518524037467}\n",
      "Current avf_f1: 0.4480454393107105, Best f1: 0.4533377614930736\n"
     ]
    },
    {
     "name": "stderr",
     "output_type": "stream",
     "text": [
      "\n"
     ]
    },
    {
     "name": "stdout",
     "output_type": "stream",
     "text": [
      "project: xf_event_extr_t1, run_name: TP1+cln+BERT+g7, Epoch: 34/100, batch: 759/760, train_loss: 0.0007180530363842037, t_sample_acc: 0.6999341238471674,lr: 5.339768485712604e-11, batch_time: 0.4860117435455322, total_time: 369.64038920402527 ---------------"
     ]
    },
    {
     "name": "stderr",
     "output_type": "stream",
     "text": [
      "\r",
      "Validating:   0%|          | 0/108 [00:00<?, ?it/s]"
     ]
    },
    {
     "name": "stdout",
     "output_type": "stream",
     "text": [
      "\r",
      "project: xf_event_extr_t1, run_name: TP1+cln+BERT+g7, Epoch: 34/100, batch: 760/760, train_loss: 0.0007175163568693901, t_sample_acc: 0.7001644736842105,lr: 5e-05, batch_time: 0.4712717533111572, total_time: 370.1148295402527 -------------{'train_loss': 0.0007175163568693901, 'train_small_shaking_seq_acc': 0.7001644736842105, 'learning_rate': 5e-05, 'time': 370.2640428543091}\n"
     ]
    },
    {
     "name": "stderr",
     "output_type": "stream",
     "text": [
      "Validating: 100%|██████████| 108/108 [00:14<00:00,  7.66it/s]"
     ]
    },
    {
     "name": "stdout",
     "output_type": "stream",
     "text": [
      "{'val_shaking_tag_acc': 0.11226851851851852, 'val_prec': 0.578697714532101, 'val_recall': 0.3703090507726167, 'val_f1': 0.45162375899664947, 'time': 14.109134674072266}\n",
      "{'time': 14.109134674072266,\n",
      " 'val_f1': 0.45162375899664947,\n",
      " 'val_prec': 0.578697714532101,\n",
      " 'val_recall': 0.3703090507726167,\n",
      " 'val_shaking_tag_acc': 0.11226851851851852}\n",
      "Current avf_f1: 0.45162375899664947, Best f1: 0.4533377614930736\n"
     ]
    },
    {
     "name": "stderr",
     "output_type": "stream",
     "text": [
      "\n"
     ]
    },
    {
     "name": "stdout",
     "output_type": "stream",
     "text": [
      "project: xf_event_extr_t1, run_name: TP1+cln+BERT+g7, Epoch: 35/100, batch: 759/760, train_loss: 0.0013927900501767238, t_sample_acc: 0.5008234519104084,lr: 2.5051670895014352e-05, batch_time: 0.4781920909881592, total_time: 369.86652088165283 ---------------"
     ]
    },
    {
     "name": "stderr",
     "output_type": "stream",
     "text": [
      "\r",
      "Validating:   0%|          | 0/108 [00:00<?, ?it/s]"
     ]
    },
    {
     "name": "stdout",
     "output_type": "stream",
     "text": [
      "\r",
      "project: xf_event_extr_t1, run_name: TP1+cln+BERT+g7, Epoch: 35/100, batch: 760/760, train_loss: 0.0013924944503167737, t_sample_acc: 0.5008223684210527,lr: 2.5e-05, batch_time: 0.4776182174682617, total_time: 370.3476812839508 -------------{'train_loss': 0.0013924944503167737, 'train_small_shaking_seq_acc': 0.5008223684210527, 'learning_rate': 2.5e-05, 'time': 370.46511030197144}\n"
     ]
    },
    {
     "name": "stderr",
     "output_type": "stream",
     "text": [
      "Validating: 100%|██████████| 108/108 [00:13<00:00,  7.82it/s]"
     ]
    },
    {
     "name": "stdout",
     "output_type": "stream",
     "text": [
      "{'val_shaking_tag_acc': 0.10486111113870586, 'val_prec': 0.6079685194293848, 'val_recall': 0.3410596026489972, 'val_f1': 0.436980731790602, 'time': 13.808763027191162}\n",
      "{'time': 13.808763027191162,\n",
      " 'val_f1': 0.436980731790602,\n",
      " 'val_prec': 0.6079685194293848,\n",
      " 'val_recall': 0.3410596026489972,\n",
      " 'val_shaking_tag_acc': 0.10486111113870586}\n",
      "Current avf_f1: 0.436980731790602, Best f1: 0.4533377614930736\n"
     ]
    },
    {
     "name": "stderr",
     "output_type": "stream",
     "text": [
      "\n"
     ]
    },
    {
     "name": "stdout",
     "output_type": "stream",
     "text": [
      "project: xf_event_extr_t1, run_name: TP1+cln+BERT+g7, Epoch: 36/100, batch: 759/760, train_loss: 0.0006450820856667688, t_sample_acc: 0.7205204216073782,lr: 5.339768485712604e-11, batch_time: 0.47377848625183105, total_time: 367.82640385627747 --------------"
     ]
    },
    {
     "name": "stderr",
     "output_type": "stream",
     "text": [
      "\r",
      "Validating:   0%|          | 0/108 [00:00<?, ?it/s]"
     ]
    },
    {
     "name": "stdout",
     "output_type": "stream",
     "text": [
      "\r",
      "project: xf_event_extr_t1, run_name: TP1+cln+BERT+g7, Epoch: 36/100, batch: 760/760, train_loss: 0.0006445127483522428, t_sample_acc: 0.7205592105263158,lr: 5e-05, batch_time: 0.46854615211486816, total_time: 368.3014302253723 -------------{'train_loss': 0.0006445127483522428, 'train_small_shaking_seq_acc': 0.7205592105263158, 'learning_rate': 5e-05, 'time': 368.4424741268158}\n"
     ]
    },
    {
     "name": "stderr",
     "output_type": "stream",
     "text": [
      "Validating: 100%|██████████| 108/108 [00:14<00:00,  7.71it/s]\n"
     ]
    },
    {
     "name": "stdout",
     "output_type": "stream",
     "text": [
      "{'val_shaking_tag_acc': 0.12731481481481483, 'val_prec': 0.5953002610965799, 'val_recall': 0.3774834437085989, 'val_f1': 0.4620060789798468, 'time': 14.014710426330566}\n",
      "{'time': 14.014710426330566,\n",
      " 'val_f1': 0.4620060789798468,\n",
      " 'val_prec': 0.5953002610965799,\n",
      " 'val_recall': 0.3774834437085989,\n",
      " 'val_shaking_tag_acc': 0.12731481481481483}\n",
      "Current avf_f1: 0.4620060789798468, Best f1: 0.4620060789798468\n",
      "project: xf_event_extr_t1, run_name: TP1+cln+BERT+g7, Epoch: 37/100, batch: 759/760, train_loss: 0.0012003464240701815, t_sample_acc: 0.5359025032938076,lr: 2.5051670895014352e-05, batch_time: 0.49391913414001465, total_time: 370.5712523460388 --------------"
     ]
    },
    {
     "name": "stderr",
     "output_type": "stream",
     "text": [
      "\r",
      "Validating:   0%|          | 0/108 [00:00<?, ?it/s]"
     ]
    },
    {
     "name": "stdout",
     "output_type": "stream",
     "text": [
      "\r",
      "project: xf_event_extr_t1, run_name: TP1+cln+BERT+g7, Epoch: 37/100, batch: 760/760, train_loss: 0.0012010998100729347, t_sample_acc: 0.5355263157894737,lr: 2.5e-05, batch_time: 0.4783141613006592, total_time: 371.05705857276917 -------------{'train_loss': 0.0012010998100729347, 'train_small_shaking_seq_acc': 0.5355263157894737, 'learning_rate': 2.5e-05, 'time': 371.1700563430786}\n"
     ]
    },
    {
     "name": "stderr",
     "output_type": "stream",
     "text": [
      "Validating: 100%|██████████| 108/108 [00:14<00:00,  7.71it/s]"
     ]
    },
    {
     "name": "stdout",
     "output_type": "stream",
     "text": [
      "{'val_shaking_tag_acc': 0.11875000002759474, 'val_prec': 0.5623669646657913, 'val_recall': 0.3645143487858619, 'val_f1': 0.4423237903423522, 'time': 14.019823551177979}\n",
      "{'time': 14.019823551177979,\n",
      " 'val_f1': 0.4423237903423522,\n",
      " 'val_prec': 0.5623669646657913,\n",
      " 'val_recall': 0.3645143487858619,\n",
      " 'val_shaking_tag_acc': 0.11875000002759474}\n",
      "Current avf_f1: 0.4423237903423522, Best f1: 0.4620060789798468\n"
     ]
    },
    {
     "name": "stderr",
     "output_type": "stream",
     "text": [
      "\n"
     ]
    },
    {
     "name": "stdout",
     "output_type": "stream",
     "text": [
      "project: xf_event_extr_t1, run_name: TP1+cln+BERT+g7, Epoch: 38/100, batch: 759/760, train_loss: 0.0005611814684948542, t_sample_acc: 0.746870882740448,lr: 5.339768485712604e-11, batch_time: 0.47243213653564453, total_time: 371.35550904273987 ---------------"
     ]
    },
    {
     "name": "stderr",
     "output_type": "stream",
     "text": [
      "\r",
      "Validating:   0%|          | 0/108 [00:00<?, ?it/s]"
     ]
    },
    {
     "name": "stdout",
     "output_type": "stream",
     "text": [
      "\r",
      "project: xf_event_extr_t1, run_name: TP1+cln+BERT+g7, Epoch: 38/100, batch: 760/760, train_loss: 0.0005609084098308046, t_sample_acc: 0.746875,lr: 5e-05, batch_time: 0.49409961700439453, total_time: 371.8528206348419 -------------{'train_loss': 0.0005609084098308046, 'train_small_shaking_seq_acc': 0.746875, 'learning_rate': 5e-05, 'time': 372.0187191963196}\n"
     ]
    },
    {
     "name": "stderr",
     "output_type": "stream",
     "text": [
      "Validating: 100%|██████████| 108/108 [00:14<00:00,  7.69it/s]\n"
     ]
    },
    {
     "name": "stdout",
     "output_type": "stream",
     "text": [
      "{'val_shaking_tag_acc': 0.1268518518794466, 'val_prec': 0.5879396984924377, 'val_recall': 0.3874172185430357, 'val_f1': 0.46706586821557083, 'time': 14.043431520462036}\n",
      "{'time': 14.043431520462036,\n",
      " 'val_f1': 0.46706586821557083,\n",
      " 'val_prec': 0.5879396984924377,\n",
      " 'val_recall': 0.3874172185430357,\n",
      " 'val_shaking_tag_acc': 0.1268518518794466}\n",
      "Current avf_f1: 0.46706586821557083, Best f1: 0.46706586821557083\n",
      "project: xf_event_extr_t1, run_name: TP1+cln+BERT+g7, Epoch: 39/100, batch: 759/760, train_loss: 0.0011049024387482784, t_sample_acc: 0.5825098814229249,lr: 2.5051670895014352e-05, batch_time: 0.4722757339477539, total_time: 366.93589067459106 --------------"
     ]
    },
    {
     "name": "stderr",
     "output_type": "stream",
     "text": [
      "\r",
      "Validating:   0%|          | 0/108 [00:00<?, ?it/s]"
     ]
    },
    {
     "name": "stdout",
     "output_type": "stream",
     "text": [
      "\r",
      "project: xf_event_extr_t1, run_name: TP1+cln+BERT+g7, Epoch: 39/100, batch: 760/760, train_loss: 0.0011037750686850095, t_sample_acc: 0.5828947368421052,lr: 2.5e-05, batch_time: 0.47027111053466797, total_time: 367.41277146339417 -------------{'train_loss': 0.0011037750686850095, 'train_small_shaking_seq_acc': 0.5828947368421052, 'learning_rate': 2.5e-05, 'time': 367.5394616127014}\n"
     ]
    },
    {
     "name": "stderr",
     "output_type": "stream",
     "text": [
      "Validating: 100%|██████████| 108/108 [00:13<00:00,  7.73it/s]"
     ]
    },
    {
     "name": "stdout",
     "output_type": "stream",
     "text": [
      "{'val_shaking_tag_acc': 0.12222222224981696, 'val_prec': 0.5422290782876767, 'val_recall': 0.3879690949227266, 'val_f1': 0.4523081871799273, 'time': 13.977398157119751}\n",
      "{'time': 13.977398157119751,\n",
      " 'val_f1': 0.4523081871799273,\n",
      " 'val_prec': 0.5422290782876767,\n",
      " 'val_recall': 0.3879690949227266,\n",
      " 'val_shaking_tag_acc': 0.12222222224981696}\n",
      "Current avf_f1: 0.4523081871799273, Best f1: 0.46706586821557083\n"
     ]
    },
    {
     "name": "stderr",
     "output_type": "stream",
     "text": [
      "\n"
     ]
    },
    {
     "name": "stdout",
     "output_type": "stream",
     "text": [
      "project: xf_event_extr_t1, run_name: TP1+cln+BERT+g7, Epoch: 40/100, batch: 759/760, train_loss: 0.0005150344252249754, t_sample_acc: 0.7712450592885376,lr: 5.339768485712604e-11, batch_time: 0.4848449230194092, total_time: 370.7974953651428 ----------------"
     ]
    },
    {
     "name": "stderr",
     "output_type": "stream",
     "text": [
      "\r",
      "Validating:   0%|          | 0/108 [00:00<?, ?it/s]"
     ]
    },
    {
     "name": "stdout",
     "output_type": "stream",
     "text": [
      "\r",
      "project: xf_event_extr_t1, run_name: TP1+cln+BERT+g7, Epoch: 40/100, batch: 760/760, train_loss: 0.0005145491314088327, t_sample_acc: 0.7713815789473685,lr: 5e-05, batch_time: 0.48239994049072266, total_time: 371.28704714775085 -------------{'train_loss': 0.0005145491314088327, 'train_small_shaking_seq_acc': 0.7713815789473685, 'learning_rate': 5e-05, 'time': 371.438351392746}\n"
     ]
    },
    {
     "name": "stderr",
     "output_type": "stream",
     "text": [
      "Validating: 100%|██████████| 108/108 [00:13<00:00,  7.72it/s]"
     ]
    },
    {
     "name": "stdout",
     "output_type": "stream",
     "text": [
      "{'val_shaking_tag_acc': 0.13611111113870586, 'val_prec': 0.5757575757575522, 'val_recall': 0.3879690949227266, 'val_f1': 0.46356742494364045, 'time': 13.99845004081726}\n",
      "{'time': 13.99845004081726,\n",
      " 'val_f1': 0.46356742494364045,\n",
      " 'val_prec': 0.5757575757575522,\n",
      " 'val_recall': 0.3879690949227266,\n",
      " 'val_shaking_tag_acc': 0.13611111113870586}\n",
      "Current avf_f1: 0.46356742494364045, Best f1: 0.46706586821557083\n"
     ]
    },
    {
     "name": "stderr",
     "output_type": "stream",
     "text": [
      "\n"
     ]
    },
    {
     "name": "stdout",
     "output_type": "stream",
     "text": [
      "project: xf_event_extr_t1, run_name: TP1+cln+BERT+g7, Epoch: 41/100, batch: 759/760, train_loss: 0.0010645509658212472, t_sample_acc: 0.5846508563899868,lr: 2.5051670895014352e-05, batch_time: 0.473663330078125, total_time: 369.67072772979736 ---------------"
     ]
    },
    {
     "name": "stderr",
     "output_type": "stream",
     "text": [
      "\r",
      "Validating:   0%|          | 0/108 [00:00<?, ?it/s]"
     ]
    },
    {
     "name": "stdout",
     "output_type": "stream",
     "text": [
      "\r",
      "project: xf_event_extr_t1, run_name: TP1+cln+BERT+g7, Epoch: 41/100, batch: 760/760, train_loss: 0.001065115390625387, t_sample_acc: 0.5845394736842106,lr: 2.5e-05, batch_time: 0.47214174270629883, total_time: 370.1457679271698 -------------{'train_loss': 0.001065115390625387, 'train_small_shaking_seq_acc': 0.5845394736842106, 'learning_rate': 2.5e-05, 'time': 370.2894024848938}\n"
     ]
    },
    {
     "name": "stderr",
     "output_type": "stream",
     "text": [
      "Validating: 100%|██████████| 108/108 [00:13<00:00,  7.73it/s]"
     ]
    },
    {
     "name": "stdout",
     "output_type": "stream",
     "text": [
      "{'val_shaking_tag_acc': 0.11875000002759474, 'val_prec': 0.5565438373570285, 'val_recall': 0.3625827814569436, 'val_f1': 0.43909774431311416, 'time': 13.973894596099854}\n",
      "{'time': 13.973894596099854,\n",
      " 'val_f1': 0.43909774431311416,\n",
      " 'val_prec': 0.5565438373570285,\n",
      " 'val_recall': 0.3625827814569436,\n",
      " 'val_shaking_tag_acc': 0.11875000002759474}\n",
      "Current avf_f1: 0.43909774431311416, Best f1: 0.46706586821557083\n"
     ]
    },
    {
     "name": "stderr",
     "output_type": "stream",
     "text": [
      "\n"
     ]
    },
    {
     "name": "stdout",
     "output_type": "stream",
     "text": [
      "project: xf_event_extr_t1, run_name: TP1+cln+BERT+g7, Epoch: 42/100, batch: 759/760, train_loss: 0.0004681032551413118, t_sample_acc: 0.7839262187088274,lr: 5.339768485712604e-11, batch_time: 0.4791562557220459, total_time: 371.50286984443665 ----------------"
     ]
    },
    {
     "name": "stderr",
     "output_type": "stream",
     "text": [
      "\r",
      "Validating:   0%|          | 0/108 [00:00<?, ?it/s]"
     ]
    },
    {
     "name": "stdout",
     "output_type": "stream",
     "text": [
      "\r",
      "project: xf_event_extr_t1, run_name: TP1+cln+BERT+g7, Epoch: 42/100, batch: 760/760, train_loss: 0.00046779895393875016, t_sample_acc: 0.7840460526315789,lr: 5e-05, batch_time: 0.48061442375183105, total_time: 371.98702788352966 -------------{'train_loss': 0.00046779895393875016, 'train_small_shaking_seq_acc': 0.7840460526315789, 'learning_rate': 5e-05, 'time': 372.12319254875183}\n"
     ]
    },
    {
     "name": "stderr",
     "output_type": "stream",
     "text": [
      "Validating: 100%|██████████| 108/108 [00:13<00:00,  7.80it/s]"
     ]
    },
    {
     "name": "stdout",
     "output_type": "stream",
     "text": [
      "{'val_shaking_tag_acc': 0.1321759259811154, 'val_prec': 0.5836837678721369, 'val_recall': 0.3830022075055082, 'val_f1': 0.46251249578686116, 'time': 13.842998504638672}\n",
      "{'time': 13.842998504638672,\n",
      " 'val_f1': 0.46251249578686116,\n",
      " 'val_prec': 0.5836837678721369,\n",
      " 'val_recall': 0.3830022075055082,\n",
      " 'val_shaking_tag_acc': 0.1321759259811154}\n",
      "Current avf_f1: 0.46251249578686116, Best f1: 0.46706586821557083\n"
     ]
    },
    {
     "name": "stderr",
     "output_type": "stream",
     "text": [
      "\n"
     ]
    },
    {
     "name": "stdout",
     "output_type": "stream",
     "text": [
      "project: xf_event_extr_t1, run_name: TP1+cln+BERT+g7, Epoch: 43/100, batch: 759/760, train_loss: 0.0010113824992555292, t_sample_acc: 0.5955204216073782,lr: 2.5051670895014352e-05, batch_time: 0.4704456329345703, total_time: 370.5459110736847 ---------------"
     ]
    },
    {
     "name": "stderr",
     "output_type": "stream",
     "text": [
      "\r",
      "Validating:   0%|          | 0/108 [00:00<?, ?it/s]"
     ]
    },
    {
     "name": "stdout",
     "output_type": "stream",
     "text": [
      "\r",
      "project: xf_event_extr_t1, run_name: TP1+cln+BERT+g7, Epoch: 43/100, batch: 760/760, train_loss: 0.0010113559256943088, t_sample_acc: 0.5953947368421053,lr: 2.5e-05, batch_time: 0.4707205295562744, total_time: 371.02336597442627 -------------{'train_loss': 0.0010113559256943088, 'train_small_shaking_seq_acc': 0.5953947368421053, 'learning_rate': 2.5e-05, 'time': 371.1682970523834}\n"
     ]
    },
    {
     "name": "stderr",
     "output_type": "stream",
     "text": [
      "Validating: 100%|██████████| 108/108 [00:13<00:00,  7.77it/s]"
     ]
    },
    {
     "name": "stdout",
     "output_type": "stream",
     "text": [
      "{'val_shaking_tag_acc': 0.11527777780537252, 'val_prec': 0.5872378402498623, 'val_recall': 0.36313465783663457, 'val_f1': 0.44876385332019886, 'time': 13.90073847770691}\n",
      "{'time': 13.90073847770691,\n",
      " 'val_f1': 0.44876385332019886,\n",
      " 'val_prec': 0.5872378402498623,\n",
      " 'val_recall': 0.36313465783663457,\n",
      " 'val_shaking_tag_acc': 0.11527777780537252}\n",
      "Current avf_f1: 0.44876385332019886, Best f1: 0.46706586821557083\n"
     ]
    },
    {
     "name": "stderr",
     "output_type": "stream",
     "text": [
      "\n"
     ]
    },
    {
     "name": "stdout",
     "output_type": "stream",
     "text": [
      "project: xf_event_extr_t1, run_name: TP1+cln+BERT+g7, Epoch: 44/100, batch: 759/760, train_loss: 0.0004434218802919571, t_sample_acc: 0.7943017127799736,lr: 5.339768485712604e-11, batch_time: 0.48787975311279297, total_time: 367.18712282180786 ---------------"
     ]
    },
    {
     "name": "stderr",
     "output_type": "stream",
     "text": [
      "\r",
      "Validating:   0%|          | 0/108 [00:00<?, ?it/s]"
     ]
    },
    {
     "name": "stdout",
     "output_type": "stream",
     "text": [
      "\r",
      "project: xf_event_extr_t1, run_name: TP1+cln+BERT+g7, Epoch: 44/100, batch: 760/760, train_loss: 0.00044340485819702733, t_sample_acc: 0.7944078947368421,lr: 5e-05, batch_time: 0.4843287467956543, total_time: 367.6784129142761 -------------{'train_loss': 0.00044340485819702733, 'train_small_shaking_seq_acc': 0.7944078947368421, 'learning_rate': 5e-05, 'time': 367.84488821029663}\n"
     ]
    },
    {
     "name": "stderr",
     "output_type": "stream",
     "text": [
      "Validating: 100%|██████████| 108/108 [00:13<00:00,  7.79it/s]"
     ]
    },
    {
     "name": "stdout",
     "output_type": "stream",
     "text": [
      "{'val_shaking_tag_acc': 0.13657407407407407, 'val_prec': 0.5716652858326192, 'val_recall': 0.3807947019867445, 'val_f1': 0.45710500160817036, 'time': 13.871863842010498}\n",
      "{'time': 13.871863842010498,\n",
      " 'val_f1': 0.45710500160817036,\n",
      " 'val_prec': 0.5716652858326192,\n",
      " 'val_recall': 0.3807947019867445,\n",
      " 'val_shaking_tag_acc': 0.13657407407407407}\n",
      "Current avf_f1: 0.45710500160817036, Best f1: 0.46706586821557083\n"
     ]
    },
    {
     "name": "stderr",
     "output_type": "stream",
     "text": [
      "\n"
     ]
    },
    {
     "name": "stdout",
     "output_type": "stream",
     "text": [
      "project: xf_event_extr_t1, run_name: TP1+cln+BERT+g7, Epoch: 45/100, batch: 759/760, train_loss: 0.0008819041478991003, t_sample_acc: 0.6202239789196311,lr: 2.5051670895014352e-05, batch_time: 0.473557710647583, total_time: 368.74566626548767 ---------------"
     ]
    },
    {
     "name": "stderr",
     "output_type": "stream",
     "text": [
      "\r",
      "Validating:   0%|          | 0/108 [00:00<?, ?it/s]"
     ]
    },
    {
     "name": "stdout",
     "output_type": "stream",
     "text": [
      "\r",
      "project: xf_event_extr_t1, run_name: TP1+cln+BERT+g7, Epoch: 45/100, batch: 760/760, train_loss: 0.0008823894551991735, t_sample_acc: 0.6202302631578948,lr: 2.5e-05, batch_time: 0.48025035858154297, total_time: 369.2328817844391 -------------{'train_loss': 0.0008823894551991735, 'train_small_shaking_seq_acc': 0.6202302631578948, 'learning_rate': 2.5e-05, 'time': 369.35732412338257}\n"
     ]
    },
    {
     "name": "stderr",
     "output_type": "stream",
     "text": [
      "Validating: 100%|██████████| 108/108 [00:14<00:00,  7.69it/s]"
     ]
    },
    {
     "name": "stdout",
     "output_type": "stream",
     "text": [
      "{'val_shaking_tag_acc': 0.11342592592592593, 'val_prec': 0.5675077467905901, 'val_recall': 0.3537527593818887, 'val_f1': 0.4358320584262449, 'time': 14.051224946975708}\n",
      "{'time': 14.051224946975708,\n",
      " 'val_f1': 0.4358320584262449,\n",
      " 'val_prec': 0.5675077467905901,\n",
      " 'val_recall': 0.3537527593818887,\n",
      " 'val_shaking_tag_acc': 0.11342592592592593}\n",
      "Current avf_f1: 0.4358320584262449, Best f1: 0.46706586821557083\n"
     ]
    },
    {
     "name": "stderr",
     "output_type": "stream",
     "text": [
      "\n"
     ]
    },
    {
     "name": "stdout",
     "output_type": "stream",
     "text": [
      "project: xf_event_extr_t1, run_name: TP1+cln+BERT+g7, Epoch: 46/100, batch: 759/760, train_loss: 0.0004168499648003202, t_sample_acc: 0.803030303030303,lr: 5.339768485712604e-11, batch_time: 0.4793970584869385, total_time: 365.94024753570557 -----------------"
     ]
    },
    {
     "name": "stderr",
     "output_type": "stream",
     "text": [
      "\r",
      "Validating:   0%|          | 0/108 [00:00<?, ?it/s]"
     ]
    },
    {
     "name": "stdout",
     "output_type": "stream",
     "text": [
      "\r",
      "project: xf_event_extr_t1, run_name: TP1+cln+BERT+g7, Epoch: 46/100, batch: 760/760, train_loss: 0.00041631968457103973, t_sample_acc: 0.8032894736842106,lr: 5e-05, batch_time: 0.47110533714294434, total_time: 366.418879032135 -------------{'train_loss': 0.00041631968457103973, 'train_small_shaking_seq_acc': 0.8032894736842106, 'learning_rate': 5e-05, 'time': 366.5518124103546}\n"
     ]
    },
    {
     "name": "stderr",
     "output_type": "stream",
     "text": [
      "Validating: 100%|██████████| 108/108 [00:13<00:00,  7.81it/s]"
     ]
    },
    {
     "name": "stdout",
     "output_type": "stream",
     "text": [
      "{'val_shaking_tag_acc': 0.11805555555555555, 'val_prec': 0.5613382899628021, 'val_recall': 0.3749999999999897, 'val_f1': 0.44962779151524074, 'time': 13.841093063354492}\n",
      "{'time': 13.841093063354492,\n",
      " 'val_f1': 0.44962779151524074,\n",
      " 'val_prec': 0.5613382899628021,\n",
      " 'val_recall': 0.3749999999999897,\n",
      " 'val_shaking_tag_acc': 0.11805555555555555}\n",
      "Current avf_f1: 0.44962779151524074, Best f1: 0.46706586821557083\n"
     ]
    },
    {
     "name": "stderr",
     "output_type": "stream",
     "text": [
      "\n"
     ]
    },
    {
     "name": "stdout",
     "output_type": "stream",
     "text": [
      "project: xf_event_extr_t1, run_name: TP1+cln+BERT+g7, Epoch: 47/100, batch: 759/760, train_loss: 0.0008755537634917707, t_sample_acc: 0.6246706192358367,lr: 2.5051670895014352e-05, batch_time: 0.47007250785827637, total_time: 368.95889925956726 -------------"
     ]
    },
    {
     "name": "stderr",
     "output_type": "stream",
     "text": [
      "\r",
      "Validating:   0%|          | 0/108 [00:00<?, ?it/s]"
     ]
    },
    {
     "name": "stdout",
     "output_type": "stream",
     "text": [
      "\r",
      "project: xf_event_extr_t1, run_name: TP1+cln+BERT+g7, Epoch: 47/100, batch: 760/760, train_loss: 0.0008759551701754581, t_sample_acc: 0.6248355263157894,lr: 2.5e-05, batch_time: 0.47983336448669434, total_time: 369.4422826766968 -------------{'train_loss': 0.0008759551701754581, 'train_small_shaking_seq_acc': 0.6248355263157894, 'learning_rate': 2.5e-05, 'time': 369.62397027015686}\n"
     ]
    },
    {
     "name": "stderr",
     "output_type": "stream",
     "text": [
      "Validating: 100%|██████████| 108/108 [00:13<00:00,  7.82it/s]"
     ]
    },
    {
     "name": "stdout",
     "output_type": "stream",
     "text": [
      "{'val_shaking_tag_acc': 0.12962962962962962, 'val_prec': 0.6005639097744079, 'val_recall': 0.3526490066225068, 'val_f1': 0.44436717658758085, 'time': 13.811660766601562}\n",
      "{'time': 13.811660766601562,\n",
      " 'val_f1': 0.44436717658758085,\n",
      " 'val_prec': 0.6005639097744079,\n",
      " 'val_recall': 0.3526490066225068,\n",
      " 'val_shaking_tag_acc': 0.12962962962962962}\n",
      "Current avf_f1: 0.44436717658758085, Best f1: 0.46706586821557083\n"
     ]
    },
    {
     "name": "stderr",
     "output_type": "stream",
     "text": [
      "\n"
     ]
    },
    {
     "name": "stdout",
     "output_type": "stream",
     "text": [
      "project: xf_event_extr_t1, run_name: TP1+cln+BERT+g7, Epoch: 48/100, batch: 759/760, train_loss: 0.0003779267209152241, t_sample_acc: 0.8191699604743083,lr: 5.339768485712604e-11, batch_time: 0.48106861114501953, total_time: 368.5055499076843 ----------------"
     ]
    },
    {
     "name": "stderr",
     "output_type": "stream",
     "text": [
      "\r",
      "Validating:   0%|          | 0/108 [00:00<?, ?it/s]"
     ]
    },
    {
     "name": "stdout",
     "output_type": "stream",
     "text": [
      "\r",
      "project: xf_event_extr_t1, run_name: TP1+cln+BERT+g7, Epoch: 48/100, batch: 760/760, train_loss: 0.0003781677935625052, t_sample_acc: 0.819078947368421,lr: 5e-05, batch_time: 0.49773621559143066, total_time: 369.01007747650146 -------------{'train_loss': 0.0003781677935625052, 'train_small_shaking_seq_acc': 0.819078947368421, 'learning_rate': 5e-05, 'time': 369.17457914352417}\n"
     ]
    },
    {
     "name": "stderr",
     "output_type": "stream",
     "text": [
      "Validating: 100%|██████████| 108/108 [00:13<00:00,  7.83it/s]"
     ]
    },
    {
     "name": "stdout",
     "output_type": "stream",
     "text": [
      "{'val_shaking_tag_acc': 0.12407407412926356, 'val_prec': 0.5701790920449575, 'val_recall': 0.3777593818984443, 'val_f1': 0.45443983397694143, 'time': 13.79276967048645}\n",
      "{'time': 13.79276967048645,\n",
      " 'val_f1': 0.45443983397694143,\n",
      " 'val_prec': 0.5701790920449575,\n",
      " 'val_recall': 0.3777593818984443,\n",
      " 'val_shaking_tag_acc': 0.12407407412926356}\n",
      "Current avf_f1: 0.45443983397694143, Best f1: 0.46706586821557083\n"
     ]
    },
    {
     "name": "stderr",
     "output_type": "stream",
     "text": [
      "\n"
     ]
    },
    {
     "name": "stdout",
     "output_type": "stream",
     "text": [
      "project: xf_event_extr_t1, run_name: TP1+cln+BERT+g7, Epoch: 49/100, batch: 759/760, train_loss: 0.0008196994436174163, t_sample_acc: 0.6487154150197628,lr: 2.5051670895014352e-05, batch_time: 0.4748854637145996, total_time: 370.15574836730957 --------------"
     ]
    },
    {
     "name": "stderr",
     "output_type": "stream",
     "text": [
      "\r",
      "Validating:   0%|          | 0/108 [00:00<?, ?it/s]"
     ]
    },
    {
     "name": "stdout",
     "output_type": "stream",
     "text": [
      "\r",
      "project: xf_event_extr_t1, run_name: TP1+cln+BERT+g7, Epoch: 49/100, batch: 760/760, train_loss: 0.0008189962868240592, t_sample_acc: 0.6490131578947368,lr: 2.5e-05, batch_time: 0.5078487396240234, total_time: 370.66676020622253 -------------{'train_loss': 0.0008189962868240592, 'train_small_shaking_seq_acc': 0.6490131578947368, 'learning_rate': 2.5e-05, 'time': 370.8256356716156}\n"
     ]
    },
    {
     "name": "stderr",
     "output_type": "stream",
     "text": [
      "Validating: 100%|██████████| 108/108 [00:13<00:00,  7.75it/s]"
     ]
    },
    {
     "name": "stdout",
     "output_type": "stream",
     "text": [
      "{'val_shaking_tag_acc': 0.11921296296296297, 'val_prec': 0.5562579013906213, 'val_recall': 0.3642384105960164, 'val_f1': 0.44022011000718864, 'time': 13.934831857681274}\n",
      "{'time': 13.934831857681274,\n",
      " 'val_f1': 0.44022011000718864,\n",
      " 'val_prec': 0.5562579013906213,\n",
      " 'val_recall': 0.3642384105960164,\n",
      " 'val_shaking_tag_acc': 0.11921296296296297}\n",
      "Current avf_f1: 0.44022011000718864, Best f1: 0.46706586821557083\n"
     ]
    },
    {
     "name": "stderr",
     "output_type": "stream",
     "text": [
      "\n"
     ]
    },
    {
     "name": "stdout",
     "output_type": "stream",
     "text": [
      "project: xf_event_extr_t1, run_name: TP1+cln+BERT+g7, Epoch: 50/100, batch: 760/760, train_loss: 0.00036145490570962274, t_sample_acc: 0.8231907894736842,lr: 5e-05, batch_time: 0.4768257141113281, total_time: 369.09164357185364 -------------89 ---------------"
     ]
    },
    {
     "name": "stderr",
     "output_type": "stream",
     "text": [
      "\r",
      "Validating:   0%|          | 0/108 [00:00<?, ?it/s]"
     ]
    },
    {
     "name": "stdout",
     "output_type": "stream",
     "text": [
      "{'train_loss': 0.00036145490570962274, 'train_small_shaking_seq_acc': 0.8231907894736842, 'learning_rate': 5e-05, 'time': 369.29764795303345}\n"
     ]
    },
    {
     "name": "stderr",
     "output_type": "stream",
     "text": [
      "Validating: 100%|██████████| 108/108 [00:14<00:00,  7.28it/s]"
     ]
    },
    {
     "name": "stdout",
     "output_type": "stream",
     "text": [
      "{'val_shaking_tag_acc': 0.13078703703703703, 'val_prec': 0.574223734581005, 'val_recall': 0.3725165562913804, 'val_f1': 0.45188284514053895, 'time': 14.842835903167725}\n",
      "{'time': 14.842835903167725,\n",
      " 'val_f1': 0.45188284514053895,\n",
      " 'val_prec': 0.574223734581005,\n",
      " 'val_recall': 0.3725165562913804,\n",
      " 'val_shaking_tag_acc': 0.13078703703703703}\n",
      "Current avf_f1: 0.45188284514053895, Best f1: 0.46706586821557083\n"
     ]
    },
    {
     "name": "stderr",
     "output_type": "stream",
     "text": [
      "\n"
     ]
    },
    {
     "name": "stdout",
     "output_type": "stream",
     "text": [
      "project: xf_event_extr_t1, run_name: TP1+cln+BERT+g7, Epoch: 51/100, batch: 759/760, train_loss: 0.0007996605789599741, t_sample_acc: 0.6595849802371542,lr: 2.5051670895014352e-05, batch_time: 0.47490429878234863, total_time: 369.8282220363617 ---------------"
     ]
    },
    {
     "name": "stderr",
     "output_type": "stream",
     "text": [
      "\r",
      "Validating:   0%|          | 0/108 [00:00<?, ?it/s]"
     ]
    },
    {
     "name": "stdout",
     "output_type": "stream",
     "text": [
      "\r",
      "project: xf_event_extr_t1, run_name: TP1+cln+BERT+g7, Epoch: 51/100, batch: 760/760, train_loss: 0.0007991151136952554, t_sample_acc: 0.6597039473684211,lr: 2.5e-05, batch_time: 0.47444725036621094, total_time: 370.3063039779663 -------------{'train_loss': 0.0007991151136952554, 'train_small_shaking_seq_acc': 0.6597039473684211, 'learning_rate': 2.5e-05, 'time': 370.45290637016296}\n"
     ]
    },
    {
     "name": "stderr",
     "output_type": "stream",
     "text": [
      "Validating: 100%|██████████| 108/108 [00:13<00:00,  7.75it/s]"
     ]
    },
    {
     "name": "stdout",
     "output_type": "stream",
     "text": [
      "{'val_shaking_tag_acc': 0.13310185185185186, 'val_prec': 0.5575630252100606, 'val_recall': 0.3661699779249347, 'val_f1': 0.44203864085819444, 'time': 13.936912536621094}\n",
      "{'time': 13.936912536621094,\n",
      " 'val_f1': 0.44203864085819444,\n",
      " 'val_prec': 0.5575630252100606,\n",
      " 'val_recall': 0.3661699779249347,\n",
      " 'val_shaking_tag_acc': 0.13310185185185186}\n",
      "Current avf_f1: 0.44203864085819444, Best f1: 0.46706586821557083\n"
     ]
    },
    {
     "name": "stderr",
     "output_type": "stream",
     "text": [
      "\n"
     ]
    },
    {
     "name": "stdout",
     "output_type": "stream",
     "text": [
      "project: xf_event_extr_t1, run_name: TP1+cln+BERT+g7, Epoch: 52/100, batch: 759/760, train_loss: 0.00034130192126022405, t_sample_acc: 0.8402503293807642,lr: 5.339768485712604e-11, batch_time: 0.48330259323120117, total_time: 369.43751430511475 --------------"
     ]
    },
    {
     "name": "stderr",
     "output_type": "stream",
     "text": [
      "\r",
      "Validating:   0%|          | 0/108 [00:00<?, ?it/s]"
     ]
    },
    {
     "name": "stdout",
     "output_type": "stream",
     "text": [
      "\r",
      "project: xf_event_extr_t1, run_name: TP1+cln+BERT+g7, Epoch: 52/100, batch: 760/760, train_loss: 0.00034134424076790696, t_sample_acc: 0.8401315789473685,lr: 5e-05, batch_time: 0.485823392868042, total_time: 369.926504611969 -------------{'train_loss': 0.00034134424076790696, 'train_small_shaking_seq_acc': 0.8401315789473685, 'learning_rate': 5e-05, 'time': 370.0451650619507}\n"
     ]
    },
    {
     "name": "stderr",
     "output_type": "stream",
     "text": [
      "Validating: 100%|██████████| 108/108 [00:13<00:00,  7.98it/s]"
     ]
    },
    {
     "name": "stdout",
     "output_type": "stream",
     "text": [
      "{'val_shaking_tag_acc': 0.13657407407407407, 'val_prec': 0.5620647275706447, 'val_recall': 0.3785871964679807, 'val_f1': 0.4524319867614504, 'time': 13.537902355194092}\n",
      "{'time': 13.537902355194092,\n",
      " 'val_f1': 0.4524319867614504,\n",
      " 'val_prec': 0.5620647275706447,\n",
      " 'val_recall': 0.3785871964679807,\n",
      " 'val_shaking_tag_acc': 0.13657407407407407}\n",
      "Current avf_f1: 0.4524319867614504, Best f1: 0.46706586821557083\n"
     ]
    },
    {
     "name": "stderr",
     "output_type": "stream",
     "text": [
      "\n"
     ]
    },
    {
     "name": "stdout",
     "output_type": "stream",
     "text": [
      "project: xf_event_extr_t1, run_name: TP1+cln+BERT+g7, Epoch: 53/100, batch: 759/760, train_loss: 0.0006730983571267282, t_sample_acc: 0.6897233201581028,lr: 2.5051670895014352e-05, batch_time: 0.47002100944519043, total_time: 370.17338371276855 -------------"
     ]
    },
    {
     "name": "stderr",
     "output_type": "stream",
     "text": [
      "\r",
      "Validating:   0%|          | 0/108 [00:00<?, ?it/s]"
     ]
    },
    {
     "name": "stdout",
     "output_type": "stream",
     "text": [
      "\r",
      "project: xf_event_extr_t1, run_name: TP1+cln+BERT+g7, Epoch: 53/100, batch: 760/760, train_loss: 0.0006725383841321194, t_sample_acc: 0.6898026315789474,lr: 2.5e-05, batch_time: 0.47439098358154297, total_time: 370.65058851242065 -------------{'train_loss': 0.0006725383841321194, 'train_small_shaking_seq_acc': 0.6898026315789474, 'learning_rate': 2.5e-05, 'time': 370.79208993911743}\n"
     ]
    },
    {
     "name": "stderr",
     "output_type": "stream",
     "text": [
      "Validating: 100%|██████████| 108/108 [00:13<00:00,  7.85it/s]"
     ]
    },
    {
     "name": "stdout",
     "output_type": "stream",
     "text": [
      "{'val_shaking_tag_acc': 0.12731481481481483, 'val_prec': 0.5709172259507574, 'val_recall': 0.3520971302428159, 'val_f1': 0.43556920971555346, 'time': 13.759594440460205}\n",
      "{'time': 13.759594440460205,\n",
      " 'val_f1': 0.43556920971555346,\n",
      " 'val_prec': 0.5709172259507574,\n",
      " 'val_recall': 0.3520971302428159,\n",
      " 'val_shaking_tag_acc': 0.12731481481481483}\n",
      "Current avf_f1: 0.43556920971555346, Best f1: 0.46706586821557083\n"
     ]
    },
    {
     "name": "stderr",
     "output_type": "stream",
     "text": [
      "\n"
     ]
    },
    {
     "name": "stdout",
     "output_type": "stream",
     "text": [
      "project: xf_event_extr_t1, run_name: TP1+cln+BERT+g7, Epoch: 54/100, batch: 760/760, train_loss: 0.0002982910886789556, t_sample_acc: 0.8485197368421052,lr: 5e-05, batch_time: 0.4695162773132324, total_time: 370.2107574939728 -------------{'train_loss': 0.0002982910886789556, 'train_small_shaking_seq_acc': 0.8485197368421052, 'learning_rate': 5e-05, 'time': 370.4058699607849}\n"
     ]
    },
    {
     "name": "stderr",
     "output_type": "stream",
     "text": [
      "Validating: 100%|██████████| 108/108 [00:14<00:00,  7.62it/s]"
     ]
    },
    {
     "name": "stdout",
     "output_type": "stream",
     "text": [
      "{'val_shaking_tag_acc': 0.13379629632389103, 'val_prec': 0.5749574105621561, 'val_recall': 0.3725165562913804, 'val_f1': 0.4521098459000236, 'time': 14.189386129379272}\n",
      "{'time': 14.189386129379272,\n",
      " 'val_f1': 0.4521098459000236,\n",
      " 'val_prec': 0.5749574105621561,\n",
      " 'val_recall': 0.3725165562913804,\n",
      " 'val_shaking_tag_acc': 0.13379629632389103}\n",
      "Current avf_f1: 0.4521098459000236, Best f1: 0.46706586821557083\n"
     ]
    },
    {
     "name": "stderr",
     "output_type": "stream",
     "text": [
      "\n"
     ]
    },
    {
     "name": "stdout",
     "output_type": "stream",
     "text": [
      "project: xf_event_extr_t1, run_name: TP1+cln+BERT+g7, Epoch: 55/100, batch: 759/760, train_loss: 0.0007559080379621944, t_sample_acc: 0.6706192358366272,lr: 2.5051670895014352e-05, batch_time: 0.48699235916137695, total_time: 369.0679862499237 --------------"
     ]
    },
    {
     "name": "stderr",
     "output_type": "stream",
     "text": [
      "\r",
      "Validating:   0%|          | 0/108 [00:00<?, ?it/s]"
     ]
    },
    {
     "name": "stdout",
     "output_type": "stream",
     "text": [
      "\r",
      "project: xf_event_extr_t1, run_name: TP1+cln+BERT+g7, Epoch: 55/100, batch: 760/760, train_loss: 0.0007551200216946534, t_sample_acc: 0.6708881578947369,lr: 2.5e-05, batch_time: 0.48084473609924316, total_time: 369.5555102825165 -------------{'train_loss': 0.0007551200216946534, 'train_small_shaking_seq_acc': 0.6708881578947369, 'learning_rate': 2.5e-05, 'time': 369.7060432434082}\n"
     ]
    },
    {
     "name": "stderr",
     "output_type": "stream",
     "text": [
      "Validating: 100%|██████████| 108/108 [00:14<00:00,  7.61it/s]"
     ]
    },
    {
     "name": "stdout",
     "output_type": "stream",
     "text": [
      "{'val_shaking_tag_acc': 0.11689814814814815, 'val_prec': 0.5765883376849184, 'val_recall': 0.36561810154524377, 'val_f1': 0.44748395807474767, 'time': 14.19501805305481}\n",
      "{'time': 14.19501805305481,\n",
      " 'val_f1': 0.44748395807474767,\n",
      " 'val_prec': 0.5765883376849184,\n",
      " 'val_recall': 0.36561810154524377,\n",
      " 'val_shaking_tag_acc': 0.11689814814814815}\n",
      "Current avf_f1: 0.44748395807474767, Best f1: 0.46706586821557083\n"
     ]
    },
    {
     "name": "stderr",
     "output_type": "stream",
     "text": [
      "\n"
     ]
    },
    {
     "name": "stdout",
     "output_type": "stream",
     "text": [
      "project: xf_event_extr_t1, run_name: TP1+cln+BERT+g7, Epoch: 56/100, batch: 759/760, train_loss: 0.00032900587495403403, t_sample_acc: 0.8387681159420289,lr: 5.339768485712604e-11, batch_time: 0.47287917137145996, total_time: 370.24527883529663 --------------"
     ]
    },
    {
     "name": "stderr",
     "output_type": "stream",
     "text": [
      "\r",
      "Validating:   0%|          | 0/108 [00:00<?, ?it/s]"
     ]
    },
    {
     "name": "stdout",
     "output_type": "stream",
     "text": [
      "\r",
      "project: xf_event_extr_t1, run_name: TP1+cln+BERT+g7, Epoch: 56/100, batch: 760/760, train_loss: 0.0003286118692178781, t_sample_acc: 0.8389802631578948,lr: 5e-05, batch_time: 0.47110867500305176, total_time: 370.71991515159607 -------------{'train_loss': 0.0003286118692178781, 'train_small_shaking_seq_acc': 0.8389802631578948, 'learning_rate': 5e-05, 'time': 370.8885700702667}\n"
     ]
    },
    {
     "name": "stderr",
     "output_type": "stream",
     "text": [
      "Validating: 100%|██████████| 108/108 [00:14<00:00,  7.45it/s]"
     ]
    },
    {
     "name": "stdout",
     "output_type": "stream",
     "text": [
      "{'val_shaking_tag_acc': 0.1400462962962963, 'val_prec': 0.5881094952950989, 'val_recall': 0.3794150110375171, 'val_f1': 0.46125461249843625, 'time': 14.498579025268555}\n",
      "{'time': 14.498579025268555,\n",
      " 'val_f1': 0.46125461249843625,\n",
      " 'val_prec': 0.5881094952950989,\n",
      " 'val_recall': 0.3794150110375171,\n",
      " 'val_shaking_tag_acc': 0.1400462962962963}\n",
      "Current avf_f1: 0.46125461249843625, Best f1: 0.46706586821557083\n"
     ]
    },
    {
     "name": "stderr",
     "output_type": "stream",
     "text": [
      "\n"
     ]
    },
    {
     "name": "stdout",
     "output_type": "stream",
     "text": [
      "project: xf_event_extr_t1, run_name: TP1+cln+BERT+g7, Epoch: 57/100, batch: 759/760, train_loss: 0.0006567899017394479, t_sample_acc: 0.7055335968379447,lr: 2.5051670895014352e-05, batch_time: 0.47797250747680664, total_time: 370.0792531967163 ---------------"
     ]
    },
    {
     "name": "stderr",
     "output_type": "stream",
     "text": [
      "\r",
      "Validating:   0%|          | 0/108 [00:00<?, ?it/s]"
     ]
    },
    {
     "name": "stdout",
     "output_type": "stream",
     "text": [
      "\r",
      "project: xf_event_extr_t1, run_name: TP1+cln+BERT+g7, Epoch: 57/100, batch: 760/760, train_loss: 0.0006561276181448767, t_sample_acc: 0.7055921052631579,lr: 2.5e-05, batch_time: 0.4603874683380127, total_time: 370.5463137626648 -------------{'train_loss': 0.0006561276181448767, 'train_small_shaking_seq_acc': 0.7055921052631579, 'learning_rate': 2.5e-05, 'time': 370.69421434402466}\n"
     ]
    },
    {
     "name": "stderr",
     "output_type": "stream",
     "text": [
      "Validating: 100%|██████████| 108/108 [00:14<00:00,  7.71it/s]"
     ]
    },
    {
     "name": "stdout",
     "output_type": "stream",
     "text": [
      "{'val_shaking_tag_acc': 0.13425925925925927, 'val_prec': 0.5505940188447132, 'val_recall': 0.3708609271523076, 'val_f1': 0.4431986809081943, 'time': 14.010261297225952}\n",
      "{'time': 14.010261297225952,\n",
      " 'val_f1': 0.4431986809081943,\n",
      " 'val_prec': 0.5505940188447132,\n",
      " 'val_recall': 0.3708609271523076,\n",
      " 'val_shaking_tag_acc': 0.13425925925925927}\n",
      "Current avf_f1: 0.4431986809081943, Best f1: 0.46706586821557083\n"
     ]
    },
    {
     "name": "stderr",
     "output_type": "stream",
     "text": [
      "\n"
     ]
    },
    {
     "name": "stdout",
     "output_type": "stream",
     "text": [
      "project: xf_event_extr_t1, run_name: TP1+cln+BERT+g7, Epoch: 58/100, batch: 759/760, train_loss: 0.00030156350265061235, t_sample_acc: 0.8509552042160737,lr: 5.339768485712604e-11, batch_time: 0.4719045162200928, total_time: 368.281152009964 -----------------"
     ]
    },
    {
     "name": "stderr",
     "output_type": "stream",
     "text": [
      "\r",
      "Validating:   0%|          | 0/108 [00:00<?, ?it/s]"
     ]
    },
    {
     "name": "stdout",
     "output_type": "stream",
     "text": [
      "\r",
      "project: xf_event_extr_t1, run_name: TP1+cln+BERT+g7, Epoch: 58/100, batch: 760/760, train_loss: 0.00030153702137962875, t_sample_acc: 0.8506578947368421,lr: 5e-05, batch_time: 0.4716775417327881, total_time: 368.7559733390808 -------------{'train_loss': 0.00030153702137962875, 'train_small_shaking_seq_acc': 0.8506578947368421, 'learning_rate': 5e-05, 'time': 368.90348720550537}\n"
     ]
    },
    {
     "name": "stderr",
     "output_type": "stream",
     "text": [
      "Validating: 100%|██████████| 108/108 [00:13<00:00,  7.90it/s]"
     ]
    },
    {
     "name": "stdout",
     "output_type": "stream",
     "text": [
      "{'val_shaking_tag_acc': 0.14421296299055772, 'val_prec': 0.5780228758169699, 'val_recall': 0.3904525386313358, 'val_f1': 0.4660737812430327, 'time': 13.666141033172607}\n",
      "{'time': 13.666141033172607,\n",
      " 'val_f1': 0.4660737812430327,\n",
      " 'val_prec': 0.5780228758169699,\n",
      " 'val_recall': 0.3904525386313358,\n",
      " 'val_shaking_tag_acc': 0.14421296299055772}\n",
      "Current avf_f1: 0.4660737812430327, Best f1: 0.46706586821557083\n"
     ]
    },
    {
     "name": "stderr",
     "output_type": "stream",
     "text": [
      "\n"
     ]
    },
    {
     "name": "stdout",
     "output_type": "stream",
     "text": [
      "project: xf_event_extr_t1, run_name: TP1+cln+BERT+g7, Epoch: 59/100, batch: 759/760, train_loss: 0.0006638947800258707, t_sample_acc: 0.6940052700922266,lr: 2.5051670895014352e-05, batch_time: 0.47370338439941406, total_time: 369.2580900192261 --------------"
     ]
    },
    {
     "name": "stderr",
     "output_type": "stream",
     "text": [
      "\r",
      "Validating:   0%|          | 0/108 [00:00<?, ?it/s]"
     ]
    },
    {
     "name": "stdout",
     "output_type": "stream",
     "text": [
      "\r",
      "project: xf_event_extr_t1, run_name: TP1+cln+BERT+g7, Epoch: 59/100, batch: 760/760, train_loss: 0.000663412216576226, t_sample_acc: 0.694078947368421,lr: 2.5e-05, batch_time: 0.47121262550354004, total_time: 369.7327609062195 -------------{'train_loss': 0.000663412216576226, 'train_small_shaking_seq_acc': 0.694078947368421, 'learning_rate': 2.5e-05, 'time': 369.8711144924164}\n"
     ]
    },
    {
     "name": "stderr",
     "output_type": "stream",
     "text": [
      "Validating: 100%|██████████| 108/108 [00:14<00:00,  7.69it/s]"
     ]
    },
    {
     "name": "stdout",
     "output_type": "stream",
     "text": [
      "{'val_shaking_tag_acc': 0.11412037039796512, 'val_prec': 0.555827220863873, 'val_recall': 0.37637969094921697, 'val_f1': 0.4488318525349245, 'time': 14.05109977722168}\n",
      "{'time': 14.05109977722168,\n",
      " 'val_f1': 0.4488318525349245,\n",
      " 'val_prec': 0.555827220863873,\n",
      " 'val_recall': 0.37637969094921697,\n",
      " 'val_shaking_tag_acc': 0.11412037039796512}\n",
      "Current avf_f1: 0.4488318525349245, Best f1: 0.46706586821557083\n"
     ]
    },
    {
     "name": "stderr",
     "output_type": "stream",
     "text": [
      "\n"
     ]
    },
    {
     "name": "stdout",
     "output_type": "stream",
     "text": [
      "project: xf_event_extr_t1, run_name: TP1+cln+BERT+g7, Epoch: 60/100, batch: 759/760, train_loss: 0.00026583820997766645, t_sample_acc: 0.8646245059288538,lr: 5.339768485712604e-11, batch_time: 0.468764066696167, total_time: 368.9803910255432 -----------------"
     ]
    },
    {
     "name": "stderr",
     "output_type": "stream",
     "text": [
      "\r",
      "Validating:   0%|          | 0/108 [00:00<?, ?it/s]"
     ]
    },
    {
     "name": "stdout",
     "output_type": "stream",
     "text": [
      "\r",
      "project: xf_event_extr_t1, run_name: TP1+cln+BERT+g7, Epoch: 60/100, batch: 760/760, train_loss: 0.0002660011706977553, t_sample_acc: 0.8644736842105263,lr: 5e-05, batch_time: 0.4722714424133301, total_time: 369.4595682621002 -------------{'train_loss': 0.0002660011706977553, 'train_small_shaking_seq_acc': 0.8644736842105263, 'learning_rate': 5e-05, 'time': 369.60759568214417}\n"
     ]
    },
    {
     "name": "stderr",
     "output_type": "stream",
     "text": [
      "Validating: 100%|██████████| 108/108 [00:14<00:00,  7.62it/s]"
     ]
    },
    {
     "name": "stdout",
     "output_type": "stream",
     "text": [
      "{'val_shaking_tag_acc': 0.14074074076833548, 'val_prec': 0.5661375661375431, 'val_recall': 0.3838300220750446, 'val_f1': 0.4574905442701951, 'time': 14.184092283248901}\n",
      "{'time': 14.184092283248901,\n",
      " 'val_f1': 0.4574905442701951,\n",
      " 'val_prec': 0.5661375661375431,\n",
      " 'val_recall': 0.3838300220750446,\n",
      " 'val_shaking_tag_acc': 0.14074074076833548}\n",
      "Current avf_f1: 0.4574905442701951, Best f1: 0.46706586821557083\n"
     ]
    },
    {
     "name": "stderr",
     "output_type": "stream",
     "text": [
      "\n"
     ]
    },
    {
     "name": "stdout",
     "output_type": "stream",
     "text": [
      "project: xf_event_extr_t1, run_name: TP1+cln+BERT+g7, Epoch: 61/100, batch: 759/760, train_loss: 0.0006190963245415079, t_sample_acc: 0.7149209486166008,lr: 2.5051670895014352e-05, batch_time: 0.47605276107788086, total_time: 368.3391501903534 ---------------"
     ]
    },
    {
     "name": "stderr",
     "output_type": "stream",
     "text": [
      "\r",
      "Validating:   0%|          | 0/108 [00:00<?, ?it/s]"
     ]
    },
    {
     "name": "stdout",
     "output_type": "stream",
     "text": [
      "\r",
      "project: xf_event_extr_t1, run_name: TP1+cln+BERT+g7, Epoch: 61/100, batch: 760/760, train_loss: 0.0006183842539892219, t_sample_acc: 0.7152960526315789,lr: 2.5e-05, batch_time: 0.47582554817199707, total_time: 368.8184690475464 -------------{'train_loss': 0.0006183842539892219, 'train_small_shaking_seq_acc': 0.7152960526315789, 'learning_rate': 2.5e-05, 'time': 368.96030592918396}\n"
     ]
    },
    {
     "name": "stderr",
     "output_type": "stream",
     "text": [
      "Validating: 100%|██████████| 108/108 [00:13<00:00,  7.83it/s]"
     ]
    },
    {
     "name": "stdout",
     "output_type": "stream",
     "text": [
      "{'val_shaking_tag_acc': 0.12407407412926356, 'val_prec': 0.5537700865265532, 'val_recall': 0.3708609271523076, 'val_f1': 0.44422409514281946, 'time': 13.798121452331543}\n",
      "{'time': 13.798121452331543,\n",
      " 'val_f1': 0.44422409514281946,\n",
      " 'val_prec': 0.5537700865265532,\n",
      " 'val_recall': 0.3708609271523076,\n",
      " 'val_shaking_tag_acc': 0.12407407412926356}\n",
      "Current avf_f1: 0.44422409514281946, Best f1: 0.46706586821557083\n"
     ]
    },
    {
     "name": "stderr",
     "output_type": "stream",
     "text": [
      "\n"
     ]
    },
    {
     "name": "stdout",
     "output_type": "stream",
     "text": [
      "project: xf_event_extr_t1, run_name: TP1+cln+BERT+g7, Epoch: 62/100, batch: 759/760, train_loss: 0.0002792457446146761, t_sample_acc: 0.8585309617918313,lr: 5.339768485712604e-11, batch_time: 0.47073864936828613, total_time: 370.91089963912964 ---------------"
     ]
    },
    {
     "name": "stderr",
     "output_type": "stream",
     "text": [
      "\r",
      "Validating:   0%|          | 0/108 [00:00<?, ?it/s]"
     ]
    },
    {
     "name": "stdout",
     "output_type": "stream",
     "text": [
      "\r",
      "project: xf_event_extr_t1, run_name: TP1+cln+BERT+g7, Epoch: 62/100, batch: 760/760, train_loss: 0.0002803022406684058, t_sample_acc: 0.8583881578947369,lr: 5e-05, batch_time: 0.48415517807006836, total_time: 371.3982005119324 -------------{'train_loss': 0.0002803022406684058, 'train_small_shaking_seq_acc': 0.8583881578947369, 'learning_rate': 5e-05, 'time': 371.57840275764465}\n"
     ]
    },
    {
     "name": "stderr",
     "output_type": "stream",
     "text": [
      "Validating: 100%|██████████| 108/108 [00:14<00:00,  7.59it/s]"
     ]
    },
    {
     "name": "stdout",
     "output_type": "stream",
     "text": [
      "{'val_shaking_tag_acc': 0.15115740743500214, 'val_prec': 0.581483033095912, 'val_recall': 0.3830022075055082, 'val_f1': 0.46181999662486867, 'time': 14.241644382476807}\n",
      "{'time': 14.241644382476807,\n",
      " 'val_f1': 0.46181999662486867,\n",
      " 'val_prec': 0.581483033095912,\n",
      " 'val_recall': 0.3830022075055082,\n",
      " 'val_shaking_tag_acc': 0.15115740743500214}\n",
      "Current avf_f1: 0.46181999662486867, Best f1: 0.46706586821557083\n"
     ]
    },
    {
     "name": "stderr",
     "output_type": "stream",
     "text": [
      "\n"
     ]
    },
    {
     "name": "stdout",
     "output_type": "stream",
     "text": [
      "project: xf_event_extr_t1, run_name: TP1+cln+BERT+g7, Epoch: 63/100, batch: 760/760, train_loss: 0.0006122152700240086, t_sample_acc: 0.7233552631578948,lr: 2.5e-05, batch_time: 0.48279333114624023, total_time: 368.5034191608429 -------------2 --------------"
     ]
    },
    {
     "name": "stderr",
     "output_type": "stream",
     "text": [
      "\r",
      "Validating:   0%|          | 0/108 [00:00<?, ?it/s]"
     ]
    },
    {
     "name": "stdout",
     "output_type": "stream",
     "text": [
      "{'train_loss': 0.0006122152700240086, 'train_small_shaking_seq_acc': 0.7233552631578948, 'learning_rate': 2.5e-05, 'time': 368.7119824886322}\n"
     ]
    },
    {
     "name": "stderr",
     "output_type": "stream",
     "text": [
      "Validating: 100%|██████████| 108/108 [00:13<00:00,  7.75it/s]"
     ]
    },
    {
     "name": "stdout",
     "output_type": "stream",
     "text": [
      "{'val_shaking_tag_acc': 0.1284722222222222, 'val_prec': 0.5419278996864991, 'val_recall': 0.3816225165562809, 'val_f1': 0.4478626942520101, 'time': 13.938645601272583}\n",
      "{'time': 13.938645601272583,\n",
      " 'val_f1': 0.4478626942520101,\n",
      " 'val_prec': 0.5419278996864991,\n",
      " 'val_recall': 0.3816225165562809,\n",
      " 'val_shaking_tag_acc': 0.1284722222222222}\n",
      "Current avf_f1: 0.4478626942520101, Best f1: 0.46706586821557083\n"
     ]
    },
    {
     "name": "stderr",
     "output_type": "stream",
     "text": [
      "\n"
     ]
    },
    {
     "name": "stdout",
     "output_type": "stream",
     "text": [
      "project: xf_event_extr_t1, run_name: TP1+cln+BERT+g7, Epoch: 64/100, batch: 759/760, train_loss: 0.00025272965911496084, t_sample_acc: 0.866600790513834,lr: 5.339768485712604e-11, batch_time: 0.4791889190673828, total_time: 368.52230429649353 ----------------"
     ]
    },
    {
     "name": "stderr",
     "output_type": "stream",
     "text": [
      "\r",
      "Validating:   0%|          | 0/108 [00:00<?, ?it/s]"
     ]
    },
    {
     "name": "stdout",
     "output_type": "stream",
     "text": [
      "\r",
      "project: xf_event_extr_t1, run_name: TP1+cln+BERT+g7, Epoch: 64/100, batch: 760/760, train_loss: 0.00025241397352805217, t_sample_acc: 0.8667763157894737,lr: 5e-05, batch_time: 0.47019314765930176, total_time: 368.99569058418274 -------------{'train_loss': 0.00025241397352805217, 'train_small_shaking_seq_acc': 0.8667763157894737, 'learning_rate': 5e-05, 'time': 369.1329894065857}\n"
     ]
    },
    {
     "name": "stderr",
     "output_type": "stream",
     "text": [
      "Validating: 100%|██████████| 108/108 [00:13<00:00,  7.75it/s]"
     ]
    },
    {
     "name": "stdout",
     "output_type": "stream",
     "text": [
      "{'val_shaking_tag_acc': 0.13032407410166882, 'val_prec': 0.5739202657807071, 'val_recall': 0.3813465783664354, 'val_f1': 0.45822281162310424, 'time': 13.944839715957642}\n",
      "{'time': 13.944839715957642,\n",
      " 'val_f1': 0.45822281162310424,\n",
      " 'val_prec': 0.5739202657807071,\n",
      " 'val_recall': 0.3813465783664354,\n",
      " 'val_shaking_tag_acc': 0.13032407410166882}\n",
      "Current avf_f1: 0.45822281162310424, Best f1: 0.46706586821557083\n"
     ]
    },
    {
     "name": "stderr",
     "output_type": "stream",
     "text": [
      "\n"
     ]
    },
    {
     "name": "stdout",
     "output_type": "stream",
     "text": [
      "project: xf_event_extr_t1, run_name: TP1+cln+BERT+g7, Epoch: 65/100, batch: 759/760, train_loss: 0.0005604858189400412, t_sample_acc: 0.7445652173913043,lr: 2.5051670895014352e-05, batch_time: 0.47303223609924316, total_time: 370.27906036376953 --------------"
     ]
    },
    {
     "name": "stderr",
     "output_type": "stream",
     "text": [
      "\r",
      "Validating:   0%|          | 0/108 [00:00<?, ?it/s]"
     ]
    },
    {
     "name": "stdout",
     "output_type": "stream",
     "text": [
      "\r",
      "project: xf_event_extr_t1, run_name: TP1+cln+BERT+g7, Epoch: 65/100, batch: 760/760, train_loss: 0.000560205915374318, t_sample_acc: 0.7445723684210527,lr: 2.5e-05, batch_time: 0.4915897846221924, total_time: 370.77345085144043 -------------{'train_loss': 0.000560205915374318, 'train_small_shaking_seq_acc': 0.7445723684210527, 'learning_rate': 2.5e-05, 'time': 370.92183685302734}\n"
     ]
    },
    {
     "name": "stderr",
     "output_type": "stream",
     "text": [
      "Validating: 100%|██████████| 108/108 [00:14<00:00,  7.66it/s]"
     ]
    },
    {
     "name": "stdout",
     "output_type": "stream",
     "text": [
      "{'val_shaking_tag_acc': 0.12268518518518519, 'val_prec': 0.5843240863055665, 'val_recall': 0.3661699779249347, 'val_f1': 0.45021204405779247, 'time': 14.105289459228516}\n",
      "{'time': 14.105289459228516,\n",
      " 'val_f1': 0.45021204405779247,\n",
      " 'val_prec': 0.5843240863055665,\n",
      " 'val_recall': 0.3661699779249347,\n",
      " 'val_shaking_tag_acc': 0.12268518518518519}\n",
      "Current avf_f1: 0.45021204405779247, Best f1: 0.46706586821557083\n"
     ]
    },
    {
     "name": "stderr",
     "output_type": "stream",
     "text": [
      "\n"
     ]
    },
    {
     "name": "stdout",
     "output_type": "stream",
     "text": [
      "project: xf_event_extr_t1, run_name: TP1+cln+BERT+g7, Epoch: 66/100, batch: 759/760, train_loss: 0.00023729576772107708, t_sample_acc: 0.8761528326745718,lr: 5.339768485712604e-11, batch_time: 0.4701395034790039, total_time: 370.0915162563324 ----------------"
     ]
    },
    {
     "name": "stderr",
     "output_type": "stream",
     "text": [
      "\r",
      "Validating:   0%|          | 0/108 [00:00<?, ?it/s]"
     ]
    },
    {
     "name": "stdout",
     "output_type": "stream",
     "text": [
      "\r",
      "project: xf_event_extr_t1, run_name: TP1+cln+BERT+g7, Epoch: 66/100, batch: 760/760, train_loss: 0.00023701353299034771, t_sample_acc: 0.8763157894736842,lr: 5e-05, batch_time: 0.4686005115509033, total_time: 370.5632436275482 -------------{'train_loss': 0.00023701353299034771, 'train_small_shaking_seq_acc': 0.8763157894736842, 'learning_rate': 5e-05, 'time': 370.71171498298645}\n"
     ]
    },
    {
     "name": "stderr",
     "output_type": "stream",
     "text": [
      "Validating: 100%|██████████| 108/108 [00:14<00:00,  7.60it/s]"
     ]
    },
    {
     "name": "stdout",
     "output_type": "stream",
     "text": [
      "{'val_shaking_tag_acc': 0.1453703703979651, 'val_prec': 0.5775933609958267, 'val_recall': 0.3841059602648901, 'val_f1': 0.4613854822191615, 'time': 14.206462860107422}\n",
      "{'time': 14.206462860107422,\n",
      " 'val_f1': 0.4613854822191615,\n",
      " 'val_prec': 0.5775933609958267,\n",
      " 'val_recall': 0.3841059602648901,\n",
      " 'val_shaking_tag_acc': 0.1453703703979651}\n",
      "Current avf_f1: 0.4613854822191615, Best f1: 0.46706586821557083\n"
     ]
    },
    {
     "name": "stderr",
     "output_type": "stream",
     "text": [
      "\n"
     ]
    },
    {
     "name": "stdout",
     "output_type": "stream",
     "text": [
      "project: xf_event_extr_t1, run_name: TP1+cln+BERT+g7, Epoch: 67/100, batch: 759/760, train_loss: 0.0005625903062517791, t_sample_acc: 0.7308959156785244,lr: 2.5051670895014352e-05, batch_time: 0.47382211685180664, total_time: 369.1805274486542 ---------------"
     ]
    },
    {
     "name": "stderr",
     "output_type": "stream",
     "text": [
      "\r",
      "Validating:   0%|          | 0/108 [00:00<?, ?it/s]"
     ]
    },
    {
     "name": "stdout",
     "output_type": "stream",
     "text": [
      "\r",
      "project: xf_event_extr_t1, run_name: TP1+cln+BERT+g7, Epoch: 67/100, batch: 760/760, train_loss: 0.0005618908967993488, t_sample_acc: 0.73125,lr: 2.5e-05, batch_time: 0.4724276065826416, total_time: 369.6600124835968 -------------{'train_loss': 0.0005618908967993488, 'train_small_shaking_seq_acc': 0.73125, 'learning_rate': 2.5e-05, 'time': 369.7820072174072}\n"
     ]
    },
    {
     "name": "stderr",
     "output_type": "stream",
     "text": [
      "Validating: 100%|██████████| 108/108 [00:13<00:00,  7.80it/s]"
     ]
    },
    {
     "name": "stdout",
     "output_type": "stream",
     "text": [
      "{'val_shaking_tag_acc': 0.12037037037037036, 'val_prec': 0.5787700084245755, 'val_recall': 0.3791390728476717, 'val_f1': 0.4581527175246805, 'time': 13.857115745544434}\n",
      "{'time': 13.857115745544434,\n",
      " 'val_f1': 0.4581527175246805,\n",
      " 'val_prec': 0.5787700084245755,\n",
      " 'val_recall': 0.3791390728476717,\n",
      " 'val_shaking_tag_acc': 0.12037037037037036}\n",
      "Current avf_f1: 0.4581527175246805, Best f1: 0.46706586821557083\n"
     ]
    },
    {
     "name": "stderr",
     "output_type": "stream",
     "text": [
      "\n"
     ]
    },
    {
     "name": "stdout",
     "output_type": "stream",
     "text": [
      "project: xf_event_extr_t1, run_name: TP1+cln+BERT+g7, Epoch: 68/100, batch: 759/760, train_loss: 0.00021749955963910398, t_sample_acc: 0.8797760210803689,lr: 5.339768485712604e-11, batch_time: 0.47032856941223145, total_time: 367.51285433769226 --------------"
     ]
    },
    {
     "name": "stderr",
     "output_type": "stream",
     "text": [
      "\r",
      "Validating:   0%|          | 0/108 [00:00<?, ?it/s]"
     ]
    },
    {
     "name": "stdout",
     "output_type": "stream",
     "text": [
      "\r",
      "project: xf_event_extr_t1, run_name: TP1+cln+BERT+g7, Epoch: 68/100, batch: 760/760, train_loss: 0.0002172343788207567, t_sample_acc: 0.8799342105263158,lr: 5e-05, batch_time: 0.47344279289245605, total_time: 367.98945450782776 -------------{'train_loss': 0.0002172343788207567, 'train_small_shaking_seq_acc': 0.8799342105263158, 'learning_rate': 5e-05, 'time': 368.16295337677}\n"
     ]
    },
    {
     "name": "stderr",
     "output_type": "stream",
     "text": [
      "Validating: 100%|██████████| 108/108 [00:14<00:00,  7.68it/s]"
     ]
    },
    {
     "name": "stdout",
     "output_type": "stream",
     "text": [
      "{'val_shaking_tag_acc': 0.14351851851851852, 'val_prec': 0.5809128630705153, 'val_recall': 0.3863134657836538, 'val_f1': 0.4640371229218461, 'time': 14.074996709823608}\n",
      "{'time': 14.074996709823608,\n",
      " 'val_f1': 0.4640371229218461,\n",
      " 'val_prec': 0.5809128630705153,\n",
      " 'val_recall': 0.3863134657836538,\n",
      " 'val_shaking_tag_acc': 0.14351851851851852}\n",
      "Current avf_f1: 0.4640371229218461, Best f1: 0.46706586821557083\n"
     ]
    },
    {
     "name": "stderr",
     "output_type": "stream",
     "text": [
      "\n"
     ]
    },
    {
     "name": "stdout",
     "output_type": "stream",
     "text": [
      "project: xf_event_extr_t1, run_name: TP1+cln+BERT+g7, Epoch: 69/100, batch: 759/760, train_loss: 0.0005413254426279026, t_sample_acc: 0.7338603425559947,lr: 2.5051670895014352e-05, batch_time: 0.46990299224853516, total_time: 368.4322497844696 ---------------"
     ]
    },
    {
     "name": "stderr",
     "output_type": "stream",
     "text": [
      "\r",
      "Validating:   0%|          | 0/108 [00:00<?, ?it/s]"
     ]
    },
    {
     "name": "stdout",
     "output_type": "stream",
     "text": [
      "\r",
      "project: xf_event_extr_t1, run_name: TP1+cln+BERT+g7, Epoch: 69/100, batch: 760/760, train_loss: 0.0005407250226372334, t_sample_acc: 0.7342105263157894,lr: 2.5e-05, batch_time: 0.4700767993927002, total_time: 368.9091110229492 -------------{'train_loss': 0.0005407250226372334, 'train_small_shaking_seq_acc': 0.7342105263157894, 'learning_rate': 2.5e-05, 'time': 369.06597805023193}\n"
     ]
    },
    {
     "name": "stderr",
     "output_type": "stream",
     "text": [
      "Validating: 100%|██████████| 108/108 [00:14<00:00,  7.60it/s]"
     ]
    },
    {
     "name": "stdout",
     "output_type": "stream",
     "text": [
      "{'val_shaking_tag_acc': 0.1087962962962963, 'val_prec': 0.5686512758201471, 'val_recall': 0.3874172185430357, 'val_f1': 0.4608567207789603, 'time': 14.218778610229492}\n",
      "{'time': 14.218778610229492,\n",
      " 'val_f1': 0.4608567207789603,\n",
      " 'val_prec': 0.5686512758201471,\n",
      " 'val_recall': 0.3874172185430357,\n",
      " 'val_shaking_tag_acc': 0.1087962962962963}\n",
      "Current avf_f1: 0.4608567207789603, Best f1: 0.46706586821557083\n"
     ]
    },
    {
     "name": "stderr",
     "output_type": "stream",
     "text": [
      "\n"
     ]
    },
    {
     "name": "stdout",
     "output_type": "stream",
     "text": [
      "project: xf_event_extr_t1, run_name: TP1+cln+BERT+g7, Epoch: 70/100, batch: 759/760, train_loss: 0.0002120945731463946, t_sample_acc: 0.8863636363636364,lr: 5.339768485712604e-11, batch_time: 0.4737968444824219, total_time: 370.5374710559845 -----------------"
     ]
    },
    {
     "name": "stderr",
     "output_type": "stream",
     "text": [
      "\r",
      "Validating:   0%|          | 0/108 [00:00<?, ?it/s]"
     ]
    },
    {
     "name": "stdout",
     "output_type": "stream",
     "text": [
      "\r",
      "project: xf_event_extr_t1, run_name: TP1+cln+BERT+g7, Epoch: 70/100, batch: 760/760, train_loss: 0.00021183734078458895, t_sample_acc: 0.8865131578947368,lr: 5e-05, batch_time: 0.4750967025756836, total_time: 371.01569056510925 -------------{'train_loss': 0.00021183734078458895, 'train_small_shaking_seq_acc': 0.8865131578947368, 'learning_rate': 5e-05, 'time': 371.18404603004456}\n"
     ]
    },
    {
     "name": "stderr",
     "output_type": "stream",
     "text": [
      "Validating: 100%|██████████| 108/108 [00:14<00:00,  7.68it/s]\n"
     ]
    },
    {
     "name": "stdout",
     "output_type": "stream",
     "text": [
      "{'val_shaking_tag_acc': 0.14768518521277993, 'val_prec': 0.5901639344262047, 'val_recall': 0.3874172185430357, 'val_f1': 0.4677661168936643, 'time': 14.058021068572998}\n",
      "{'time': 14.058021068572998,\n",
      " 'val_f1': 0.4677661168936643,\n",
      " 'val_prec': 0.5901639344262047,\n",
      " 'val_recall': 0.3874172185430357,\n",
      " 'val_shaking_tag_acc': 0.14768518521277993}\n",
      "Current avf_f1: 0.4677661168936643, Best f1: 0.4677661168936643\n",
      "project: xf_event_extr_t1, run_name: TP1+cln+BERT+g7, Epoch: 71/100, batch: 759/760, train_loss: 0.000517778037641085, t_sample_acc: 0.7524703557312253,lr: 2.5051670895014352e-05, batch_time: 0.4833810329437256, total_time: 368.1008336544037 -----------------"
     ]
    },
    {
     "name": "stderr",
     "output_type": "stream",
     "text": [
      "\r",
      "Validating:   0%|          | 0/108 [00:00<?, ?it/s]"
     ]
    },
    {
     "name": "stdout",
     "output_type": "stream",
     "text": [
      "\r",
      "project: xf_event_extr_t1, run_name: TP1+cln+BERT+g7, Epoch: 71/100, batch: 760/760, train_loss: 0.0005176820195126646, t_sample_acc: 0.7524671052631579,lr: 2.5e-05, batch_time: 0.4768238067626953, total_time: 368.5805518627167 -------------{'train_loss': 0.0005176820195126646, 'train_small_shaking_seq_acc': 0.7524671052631579, 'learning_rate': 2.5e-05, 'time': 368.72213888168335}\n"
     ]
    },
    {
     "name": "stderr",
     "output_type": "stream",
     "text": [
      "Validating: 100%|██████████| 108/108 [00:14<00:00,  7.68it/s]"
     ]
    },
    {
     "name": "stdout",
     "output_type": "stream",
     "text": [
      "{'val_shaking_tag_acc': 0.12962962962962962, 'val_prec': 0.5888347363756938, 'val_recall': 0.3667218543046256, 'val_f1': 0.4519639516615792, 'time': 14.073294162750244}\n",
      "{'time': 14.073294162750244,\n",
      " 'val_f1': 0.4519639516615792,\n",
      " 'val_prec': 0.5888347363756938,\n",
      " 'val_recall': 0.3667218543046256,\n",
      " 'val_shaking_tag_acc': 0.12962962962962962}\n",
      "Current avf_f1: 0.4519639516615792, Best f1: 0.4677661168936643\n"
     ]
    },
    {
     "name": "stderr",
     "output_type": "stream",
     "text": [
      "\n"
     ]
    },
    {
     "name": "stdout",
     "output_type": "stream",
     "text": [
      "project: xf_event_extr_t1, run_name: TP1+cln+BERT+g7, Epoch: 72/100, batch: 760/760, train_loss: 0.00021366281676657643, t_sample_acc: 0.8847039473684211,lr: 5e-05, batch_time: 0.47517895698547363, total_time: 372.6942882537842 ------------- -----------------"
     ]
    },
    {
     "name": "stderr",
     "output_type": "stream",
     "text": [
      "\r",
      "Validating:   0%|          | 0/108 [00:00<?, ?it/s]"
     ]
    },
    {
     "name": "stdout",
     "output_type": "stream",
     "text": [
      "{'train_loss': 0.00021366281676657643, 'train_small_shaking_seq_acc': 0.8847039473684211, 'learning_rate': 5e-05, 'time': 372.9083662033081}\n"
     ]
    },
    {
     "name": "stderr",
     "output_type": "stream",
     "text": [
      "Validating: 100%|██████████| 108/108 [00:13<00:00,  7.75it/s]"
     ]
    },
    {
     "name": "stdout",
     "output_type": "stream",
     "text": [
      "{'val_shaking_tag_acc': 0.1418981481757429, 'val_prec': 0.5975032285837022, 'val_recall': 0.3830022075055082, 'val_f1': 0.46678997809261596, 'time': 13.944955825805664}\n",
      "{'time': 13.944955825805664,\n",
      " 'val_f1': 0.46678997809261596,\n",
      " 'val_prec': 0.5975032285837022,\n",
      " 'val_recall': 0.3830022075055082,\n",
      " 'val_shaking_tag_acc': 0.1418981481757429}\n",
      "Current avf_f1: 0.46678997809261596, Best f1: 0.4677661168936643\n"
     ]
    },
    {
     "name": "stderr",
     "output_type": "stream",
     "text": [
      "\n"
     ]
    },
    {
     "name": "stdout",
     "output_type": "stream",
     "text": [
      "project: xf_event_extr_t1, run_name: TP1+cln+BERT+g7, Epoch: 73/100, batch: 759/760, train_loss: 0.0005362736333519792, t_sample_acc: 0.7455533596837944,lr: 2.5051670895014352e-05, batch_time: 0.4698343276977539, total_time: 368.464213848114 -----------------"
     ]
    },
    {
     "name": "stderr",
     "output_type": "stream",
     "text": [
      "\r",
      "Validating:   0%|          | 0/108 [00:00<?, ?it/s]"
     ]
    },
    {
     "name": "stdout",
     "output_type": "stream",
     "text": [
      "\r",
      "project: xf_event_extr_t1, run_name: TP1+cln+BERT+g7, Epoch: 73/100, batch: 760/760, train_loss: 0.0005355860268201995, t_sample_acc: 0.7458881578947368,lr: 2.5e-05, batch_time: 0.4723091125488281, total_time: 368.94002866744995 -------------{'train_loss': 0.0005355860268201995, 'train_small_shaking_seq_acc': 0.7458881578947368, 'learning_rate': 2.5e-05, 'time': 369.06539034843445}\n"
     ]
    },
    {
     "name": "stderr",
     "output_type": "stream",
     "text": [
      "Validating: 100%|██████████| 108/108 [00:13<00:00,  7.72it/s]"
     ]
    },
    {
     "name": "stdout",
     "output_type": "stream",
     "text": [
      "{'val_shaking_tag_acc': 0.11250000005518948, 'val_prec': 0.5688437775816165, 'val_recall': 0.35568432671080696, 'val_f1': 0.4376910016504359, 'time': 14.001741170883179}\n",
      "{'time': 14.001741170883179,\n",
      " 'val_f1': 0.4376910016504359,\n",
      " 'val_prec': 0.5688437775816165,\n",
      " 'val_recall': 0.35568432671080696,\n",
      " 'val_shaking_tag_acc': 0.11250000005518948}\n",
      "Current avf_f1: 0.4376910016504359, Best f1: 0.4677661168936643\n"
     ]
    },
    {
     "name": "stderr",
     "output_type": "stream",
     "text": [
      "\n"
     ]
    },
    {
     "name": "stdout",
     "output_type": "stream",
     "text": [
      "project: xf_event_extr_t1, run_name: TP1+cln+BERT+g7, Epoch: 74/100, batch: 759/760, train_loss: 0.00019833827485904, t_sample_acc: 0.8937747035573123,lr: 5.339768485712604e-11, batch_time: 0.47032809257507324, total_time: 370.09892320632935 -----------------"
     ]
    },
    {
     "name": "stderr",
     "output_type": "stream",
     "text": [
      "\r",
      "Validating:   0%|          | 0/108 [00:00<?, ?it/s]"
     ]
    },
    {
     "name": "stdout",
     "output_type": "stream",
     "text": [
      "\r",
      "project: xf_event_extr_t1, run_name: TP1+cln+BERT+g7, Epoch: 74/100, batch: 760/760, train_loss: 0.00019810026501231373, t_sample_acc: 0.8939144736842105,lr: 5e-05, batch_time: 0.4748344421386719, total_time: 370.5804603099823 -------------{'train_loss': 0.00019810026501231373, 'train_small_shaking_seq_acc': 0.8939144736842105, 'learning_rate': 5e-05, 'time': 370.72956371307373}\n"
     ]
    },
    {
     "name": "stderr",
     "output_type": "stream",
     "text": [
      "Validating: 100%|██████████| 108/108 [00:13<00:00,  7.94it/s]"
     ]
    },
    {
     "name": "stdout",
     "output_type": "stream",
     "text": [
      "{'val_shaking_tag_acc': 0.1388888888888889, 'val_prec': 0.579588408231811, 'val_recall': 0.3807947019867445, 'val_f1': 0.4596169857972561, 'time': 13.606177568435669}\n",
      "{'time': 13.606177568435669,\n",
      " 'val_f1': 0.4596169857972561,\n",
      " 'val_prec': 0.579588408231811,\n",
      " 'val_recall': 0.3807947019867445,\n",
      " 'val_shaking_tag_acc': 0.1388888888888889}\n",
      "Current avf_f1: 0.4596169857972561, Best f1: 0.4677661168936643\n"
     ]
    },
    {
     "name": "stderr",
     "output_type": "stream",
     "text": [
      "\n"
     ]
    },
    {
     "name": "stdout",
     "output_type": "stream",
     "text": [
      "project: xf_event_extr_t1, run_name: TP1+cln+BERT+g7, Epoch: 75/100, batch: 759/760, train_loss: 0.0005472725312315698, t_sample_acc: 0.7480237154150198,lr: 2.5051670895014352e-05, batch_time: 0.47072315216064453, total_time: 369.55392360687256 --------------"
     ]
    },
    {
     "name": "stderr",
     "output_type": "stream",
     "text": [
      "\r",
      "Validating:   0%|          | 0/108 [00:00<?, ?it/s]"
     ]
    },
    {
     "name": "stdout",
     "output_type": "stream",
     "text": [
      "\r",
      "project: xf_event_extr_t1, run_name: TP1+cln+BERT+g7, Epoch: 75/100, batch: 760/760, train_loss: 0.000546666865968267, t_sample_acc: 0.7481907894736842,lr: 2.5e-05, batch_time: 0.4753873348236084, total_time: 370.0321235656738 -------------{'train_loss': 0.000546666865968267, 'train_small_shaking_seq_acc': 0.7481907894736842, 'learning_rate': 2.5e-05, 'time': 370.21436882019043}\n"
     ]
    },
    {
     "name": "stderr",
     "output_type": "stream",
     "text": [
      "Validating: 100%|██████████| 108/108 [00:14<00:00,  7.44it/s]"
     ]
    },
    {
     "name": "stdout",
     "output_type": "stream",
     "text": [
      "{'val_shaking_tag_acc': 0.12037037037037036, 'val_prec': 0.5700972447325539, 'val_recall': 0.3882450331125721, 'val_f1': 0.4619172685007018, 'time': 14.522894859313965}\n",
      "{'time': 14.522894859313965,\n",
      " 'val_f1': 0.4619172685007018,\n",
      " 'val_prec': 0.5700972447325539,\n",
      " 'val_recall': 0.3882450331125721,\n",
      " 'val_shaking_tag_acc': 0.12037037037037036}\n",
      "Current avf_f1: 0.4619172685007018, Best f1: 0.4677661168936643\n"
     ]
    },
    {
     "name": "stderr",
     "output_type": "stream",
     "text": [
      "\n"
     ]
    },
    {
     "name": "stdout",
     "output_type": "stream",
     "text": [
      "project: xf_event_extr_t1, run_name: TP1+cln+BERT+g7, Epoch: 76/100, batch: 759/760, train_loss: 0.00020117013459687496, t_sample_acc: 0.891798418972332,lr: 5.339768485712604e-11, batch_time: 0.4733853340148926, total_time: 369.22610330581665 ----------------"
     ]
    },
    {
     "name": "stderr",
     "output_type": "stream",
     "text": [
      "\r",
      "Validating:   0%|          | 0/108 [00:00<?, ?it/s]"
     ]
    },
    {
     "name": "stdout",
     "output_type": "stream",
     "text": [
      "\r",
      "project: xf_event_extr_t1, run_name: TP1+cln+BERT+g7, Epoch: 76/100, batch: 760/760, train_loss: 0.00020130381169954155, t_sample_acc: 0.8916118421052631,lr: 5e-05, batch_time: 0.4692983627319336, total_time: 369.70218420028687 -------------{'train_loss': 0.00020130381169954155, 'train_small_shaking_seq_acc': 0.8916118421052631, 'learning_rate': 5e-05, 'time': 369.8793613910675}\n"
     ]
    },
    {
     "name": "stderr",
     "output_type": "stream",
     "text": [
      "Validating: 100%|██████████| 108/108 [00:13<00:00,  7.87it/s]\n"
     ]
    },
    {
     "name": "stdout",
     "output_type": "stream",
     "text": [
      "{'val_shaking_tag_acc': 0.14814814814814814, 'val_prec': 0.5810483870967508, 'val_recall': 0.39762693156731793, 'val_f1': 0.47214941017454554, 'time': 13.728060245513916}\n",
      "{'time': 13.728060245513916,\n",
      " 'val_f1': 0.47214941017454554,\n",
      " 'val_prec': 0.5810483870967508,\n",
      " 'val_recall': 0.39762693156731793,\n",
      " 'val_shaking_tag_acc': 0.14814814814814814}\n",
      "Current avf_f1: 0.47214941017454554, Best f1: 0.47214941017454554\n",
      "project: xf_event_extr_t1, run_name: TP1+cln+BERT+g7, Epoch: 77/100, batch: 759/760, train_loss: 0.0004760467686639449, t_sample_acc: 0.7765151515151515,lr: 2.5051670895014352e-05, batch_time: 0.4808011054992676, total_time: 370.0838439464569 ----------------"
     ]
    },
    {
     "name": "stderr",
     "output_type": "stream",
     "text": [
      "\r",
      "Validating:   0%|          | 0/108 [00:00<?, ?it/s]"
     ]
    },
    {
     "name": "stdout",
     "output_type": "stream",
     "text": [
      "\r",
      "project: xf_event_extr_t1, run_name: TP1+cln+BERT+g7, Epoch: 77/100, batch: 760/760, train_loss: 0.0004755003799453717, t_sample_acc: 0.7768092105263158,lr: 2.5e-05, batch_time: 0.47019028663635254, total_time: 370.55718183517456 -------------{'train_loss': 0.0004755003799453717, 'train_small_shaking_seq_acc': 0.7768092105263158, 'learning_rate': 2.5e-05, 'time': 370.732426404953}\n"
     ]
    },
    {
     "name": "stderr",
     "output_type": "stream",
     "text": [
      "Validating: 100%|██████████| 108/108 [00:13<00:00,  7.86it/s]"
     ]
    },
    {
     "name": "stdout",
     "output_type": "stream",
     "text": [
      "{'val_shaking_tag_acc': 0.1268518518794466, 'val_prec': 0.6271617497456445, 'val_recall': 0.3402317880794608, 'val_f1': 0.44114490156440067, 'time': 13.736005783081055}\n",
      "{'time': 13.736005783081055,\n",
      " 'val_f1': 0.44114490156440067,\n",
      " 'val_prec': 0.6271617497456445,\n",
      " 'val_recall': 0.3402317880794608,\n",
      " 'val_shaking_tag_acc': 0.1268518518794466}\n",
      "Current avf_f1: 0.44114490156440067, Best f1: 0.47214941017454554\n"
     ]
    },
    {
     "name": "stderr",
     "output_type": "stream",
     "text": [
      "\n"
     ]
    },
    {
     "name": "stdout",
     "output_type": "stream",
     "text": [
      "project: xf_event_extr_t1, run_name: TP1+cln+BERT+g7, Epoch: 78/100, batch: 759/760, train_loss: 0.0001790453160890458, t_sample_acc: 0.8997035573122529,lr: 5.339768485712604e-11, batch_time: 0.4651792049407959, total_time: 367.95360469818115 ----------------"
     ]
    },
    {
     "name": "stderr",
     "output_type": "stream",
     "text": [
      "\r",
      "Validating:   0%|          | 0/108 [00:00<?, ?it/s]"
     ]
    },
    {
     "name": "stdout",
     "output_type": "stream",
     "text": [
      "\r",
      "project: xf_event_extr_t1, run_name: TP1+cln+BERT+g7, Epoch: 78/100, batch: 760/760, train_loss: 0.00017886347676973233, t_sample_acc: 0.8998355263157894,lr: 5e-05, batch_time: 0.45952725410461426, total_time: 368.41976261138916 -------------{'train_loss': 0.00017886347676973233, 'train_small_shaking_seq_acc': 0.8998355263157894, 'learning_rate': 5e-05, 'time': 368.55328941345215}\n"
     ]
    },
    {
     "name": "stderr",
     "output_type": "stream",
     "text": [
      "Validating: 100%|██████████| 108/108 [00:13<00:00,  7.94it/s]"
     ]
    },
    {
     "name": "stdout",
     "output_type": "stream",
     "text": [
      "{'val_shaking_tag_acc': 0.14421296299055772, 'val_prec': 0.5875370919881057, 'val_recall': 0.3824503311258173, 'val_f1': 0.46331271932377244, 'time': 13.602215051651001}\n",
      "{'time': 13.602215051651001,\n",
      " 'val_f1': 0.46331271932377244,\n",
      " 'val_prec': 0.5875370919881057,\n",
      " 'val_recall': 0.3824503311258173,\n",
      " 'val_shaking_tag_acc': 0.14421296299055772}\n",
      "Current avf_f1: 0.46331271932377244, Best f1: 0.47214941017454554\n"
     ]
    },
    {
     "name": "stderr",
     "output_type": "stream",
     "text": [
      "\n"
     ]
    },
    {
     "name": "stdout",
     "output_type": "stream",
     "text": [
      "project: xf_event_extr_t1, run_name: TP1+cln+BERT+g7, Epoch: 79/100, batch: 759/760, train_loss: 0.00045474301118096855, t_sample_acc: 0.7806324110671937,lr: 2.5051670895014352e-05, batch_time: 0.4705967903137207, total_time: 369.6265516281128 ---------------"
     ]
    },
    {
     "name": "stderr",
     "output_type": "stream",
     "text": [
      "\r",
      "Validating:   0%|          | 0/108 [00:00<?, ?it/s]"
     ]
    },
    {
     "name": "stdout",
     "output_type": "stream",
     "text": [
      "\r",
      "project: xf_event_extr_t1, run_name: TP1+cln+BERT+g7, Epoch: 79/100, batch: 760/760, train_loss: 0.00045499100634144367, t_sample_acc: 0.7807565789473684,lr: 2.5e-05, batch_time: 0.4657752513885498, total_time: 370.0954122543335 -------------{'train_loss': 0.00045499100634144367, 'train_small_shaking_seq_acc': 0.7807565789473684, 'learning_rate': 2.5e-05, 'time': 370.2355406284332}\n"
     ]
    },
    {
     "name": "stderr",
     "output_type": "stream",
     "text": [
      "Validating: 100%|██████████| 108/108 [00:14<00:00,  7.65it/s]"
     ]
    },
    {
     "name": "stdout",
     "output_type": "stream",
     "text": [
      "{'val_shaking_tag_acc': 0.11921296296296297, 'val_prec': 0.5568910256410033, 'val_recall': 0.3835540838851991, 'val_f1': 0.4542483659647556, 'time': 14.116976022720337}\n",
      "{'time': 14.116976022720337,\n",
      " 'val_f1': 0.4542483659647556,\n",
      " 'val_prec': 0.5568910256410033,\n",
      " 'val_recall': 0.3835540838851991,\n",
      " 'val_shaking_tag_acc': 0.11921296296296297}\n",
      "Current avf_f1: 0.4542483659647556, Best f1: 0.47214941017454554\n"
     ]
    },
    {
     "name": "stderr",
     "output_type": "stream",
     "text": [
      "\n"
     ]
    },
    {
     "name": "stdout",
     "output_type": "stream",
     "text": [
      "project: xf_event_extr_t1, run_name: TP1+cln+BERT+g7, Epoch: 80/100, batch: 759/760, train_loss: 0.00018892061546602127, t_sample_acc: 0.8993741765480896,lr: 5.339768485712604e-11, batch_time: 0.4687802791595459, total_time: 368.4747676849365 ----------------"
     ]
    },
    {
     "name": "stderr",
     "output_type": "stream",
     "text": [
      "\r",
      "Validating:   0%|          | 0/108 [00:00<?, ?it/s]"
     ]
    },
    {
     "name": "stdout",
     "output_type": "stream",
     "text": [
      "\r",
      "project: xf_event_extr_t1, run_name: TP1+cln+BERT+g7, Epoch: 80/100, batch: 760/760, train_loss: 0.00018873435762699093, t_sample_acc: 0.8995065789473684,lr: 5e-05, batch_time: 0.4669802188873291, total_time: 368.94842076301575 -------------{'train_loss': 0.00018873435762699093, 'train_small_shaking_seq_acc': 0.8995065789473684, 'learning_rate': 5e-05, 'time': 369.0809020996094}\n"
     ]
    },
    {
     "name": "stderr",
     "output_type": "stream",
     "text": [
      "Validating: 100%|██████████| 108/108 [00:13<00:00,  7.83it/s]"
     ]
    },
    {
     "name": "stdout",
     "output_type": "stream",
     "text": [
      "{'val_shaking_tag_acc': 0.14351851851851852, 'val_prec': 0.5796387520525214, 'val_recall': 0.3896247240617994, 'val_f1': 0.4660066006119722, 'time': 13.806464672088623}\n",
      "{'time': 13.806464672088623,\n",
      " 'val_f1': 0.4660066006119722,\n",
      " 'val_prec': 0.5796387520525214,\n",
      " 'val_recall': 0.3896247240617994,\n",
      " 'val_shaking_tag_acc': 0.14351851851851852}\n",
      "Current avf_f1: 0.4660066006119722, Best f1: 0.47214941017454554\n"
     ]
    },
    {
     "name": "stderr",
     "output_type": "stream",
     "text": [
      "\n"
     ]
    },
    {
     "name": "stdout",
     "output_type": "stream",
     "text": [
      "project: xf_event_extr_t1, run_name: TP1+cln+BERT+g7, Epoch: 81/100, batch: 760/760, train_loss: 0.0004448171004322663, t_sample_acc: 0.7824013157894737,lr: 2.5e-05, batch_time: 0.47060275077819824, total_time: 368.67912197113037 -----------------------------"
     ]
    },
    {
     "name": "stderr",
     "output_type": "stream",
     "text": [
      "\r",
      "Validating:   0%|          | 0/108 [00:00<?, ?it/s]"
     ]
    },
    {
     "name": "stdout",
     "output_type": "stream",
     "text": [
      "{'train_loss': 0.0004448171004322663, 'train_small_shaking_seq_acc': 0.7824013157894737, 'learning_rate': 2.5e-05, 'time': 368.92862820625305}\n"
     ]
    },
    {
     "name": "stderr",
     "output_type": "stream",
     "text": [
      "Validating: 100%|██████████| 108/108 [00:14<00:00,  7.66it/s]"
     ]
    },
    {
     "name": "stdout",
     "output_type": "stream",
     "text": [
      "{'val_shaking_tag_acc': 0.13773148148148148, 'val_prec': 0.598368087035331, 'val_recall': 0.3642384105960164, 'val_f1': 0.45283018863218766, 'time': 14.105294466018677}\n",
      "{'time': 14.105294466018677,\n",
      " 'val_f1': 0.45283018863218766,\n",
      " 'val_prec': 0.598368087035331,\n",
      " 'val_recall': 0.3642384105960164,\n",
      " 'val_shaking_tag_acc': 0.13773148148148148}\n",
      "Current avf_f1: 0.45283018863218766, Best f1: 0.47214941017454554\n"
     ]
    },
    {
     "name": "stderr",
     "output_type": "stream",
     "text": [
      "\n"
     ]
    },
    {
     "name": "stdout",
     "output_type": "stream",
     "text": [
      "project: xf_event_extr_t1, run_name: TP1+cln+BERT+g7, Epoch: 82/100, batch: 759/760, train_loss: 0.00018501180894011995, t_sample_acc: 0.8952569169960475,lr: 5.339768485712604e-11, batch_time: 0.4700660705566406, total_time: 368.7768979072571 ----------------"
     ]
    },
    {
     "name": "stderr",
     "output_type": "stream",
     "text": [
      "\r",
      "Validating:   0%|          | 0/108 [00:00<?, ?it/s]"
     ]
    },
    {
     "name": "stdout",
     "output_type": "stream",
     "text": [
      "\r",
      "project: xf_event_extr_t1, run_name: TP1+cln+BERT+g7, Epoch: 82/100, batch: 760/760, train_loss: 0.00018483703549439893, t_sample_acc: 0.8953947368421052,lr: 5e-05, batch_time: 0.4895198345184326, total_time: 369.26968479156494 -------------{'train_loss': 0.00018483703549439893, 'train_small_shaking_seq_acc': 0.8953947368421052, 'learning_rate': 5e-05, 'time': 369.4475202560425}\n"
     ]
    },
    {
     "name": "stderr",
     "output_type": "stream",
     "text": [
      "Validating: 100%|██████████| 108/108 [00:14<00:00,  7.70it/s]"
     ]
    },
    {
     "name": "stdout",
     "output_type": "stream",
     "text": [
      "{'val_shaking_tag_acc': 0.13495370373129845, 'val_prec': 0.5816283924843181, 'val_recall': 0.3843818984547355, 'val_f1': 0.4628675859298064, 'time': 14.025703191757202}\n",
      "{'time': 14.025703191757202,\n",
      " 'val_f1': 0.4628675859298064,\n",
      " 'val_prec': 0.5816283924843181,\n",
      " 'val_recall': 0.3843818984547355,\n",
      " 'val_shaking_tag_acc': 0.13495370373129845}\n",
      "Current avf_f1: 0.4628675859298064, Best f1: 0.47214941017454554\n"
     ]
    },
    {
     "name": "stderr",
     "output_type": "stream",
     "text": [
      "\n"
     ]
    },
    {
     "name": "stdout",
     "output_type": "stream",
     "text": [
      "project: xf_event_extr_t1, run_name: TP1+cln+BERT+g7, Epoch: 83/100, batch: 759/760, train_loss: 0.0004162991365238729, t_sample_acc: 0.7868906455862977,lr: 2.5051670895014352e-05, batch_time: 0.4801058769226074, total_time: 368.2557518482208 ----------------"
     ]
    },
    {
     "name": "stderr",
     "output_type": "stream",
     "text": [
      "\r",
      "Validating:   0%|          | 0/108 [00:00<?, ?it/s]"
     ]
    },
    {
     "name": "stdout",
     "output_type": "stream",
     "text": [
      "\r",
      "project: xf_event_extr_t1, run_name: TP1+cln+BERT+g7, Epoch: 83/100, batch: 760/760, train_loss: 0.00041607738442890927, t_sample_acc: 0.7870065789473685,lr: 2.5e-05, batch_time: 0.4873955249786377, total_time: 368.7466034889221 -------------{'train_loss': 0.00041607738442890927, 'train_small_shaking_seq_acc': 0.7870065789473685, 'learning_rate': 2.5e-05, 'time': 368.8887462615967}\n"
     ]
    },
    {
     "name": "stderr",
     "output_type": "stream",
     "text": [
      "Validating: 100%|██████████| 108/108 [00:13<00:00,  7.76it/s]"
     ]
    },
    {
     "name": "stdout",
     "output_type": "stream",
     "text": [
      "{'val_shaking_tag_acc': 0.13310185185185186, 'val_prec': 0.5630320226996124, 'val_recall': 0.3832781456953537, 'val_f1': 0.4560827449854453, 'time': 13.922316789627075}\n",
      "{'time': 13.922316789627075,\n",
      " 'val_f1': 0.4560827449854453,\n",
      " 'val_prec': 0.5630320226996124,\n",
      " 'val_recall': 0.3832781456953537,\n",
      " 'val_shaking_tag_acc': 0.13310185185185186}\n",
      "Current avf_f1: 0.4560827449854453, Best f1: 0.47214941017454554\n"
     ]
    },
    {
     "name": "stderr",
     "output_type": "stream",
     "text": [
      "\n"
     ]
    },
    {
     "name": "stdout",
     "output_type": "stream",
     "text": [
      "project: xf_event_extr_t1, run_name: TP1+cln+BERT+g7, Epoch: 84/100, batch: 759/760, train_loss: 0.00017826505099725418, t_sample_acc: 0.9038208168642952,lr: 5.339768485712604e-11, batch_time: 0.4743764400482178, total_time: 368.34247517585754 ---------------"
     ]
    },
    {
     "name": "stderr",
     "output_type": "stream",
     "text": [
      "\r",
      "Validating:   0%|          | 0/108 [00:00<?, ?it/s]"
     ]
    },
    {
     "name": "stdout",
     "output_type": "stream",
     "text": [
      "\r",
      "project: xf_event_extr_t1, run_name: TP1+cln+BERT+g7, Epoch: 84/100, batch: 760/760, train_loss: 0.0001788952375971133, t_sample_acc: 0.9036184210526316,lr: 5e-05, batch_time: 0.47048497200012207, total_time: 368.816522359848 -------------{'train_loss': 0.0001788952375971133, 'train_small_shaking_seq_acc': 0.9036184210526316, 'learning_rate': 5e-05, 'time': 368.9628140926361}\n"
     ]
    },
    {
     "name": "stderr",
     "output_type": "stream",
     "text": [
      "Validating: 100%|██████████| 108/108 [00:14<00:00,  7.70it/s]"
     ]
    },
    {
     "name": "stdout",
     "output_type": "stream",
     "text": [
      "{'val_shaking_tag_acc': 0.13773148148148148, 'val_prec': 0.5821398483571785, 'val_recall': 0.3813465783664354, 'val_f1': 0.460820273376631, 'time': 14.026275634765625}\n",
      "{'time': 14.026275634765625,\n",
      " 'val_f1': 0.460820273376631,\n",
      " 'val_prec': 0.5821398483571785,\n",
      " 'val_recall': 0.3813465783664354,\n",
      " 'val_shaking_tag_acc': 0.13773148148148148}\n",
      "Current avf_f1: 0.460820273376631, Best f1: 0.47214941017454554\n"
     ]
    },
    {
     "name": "stderr",
     "output_type": "stream",
     "text": [
      "\n"
     ]
    },
    {
     "name": "stdout",
     "output_type": "stream",
     "text": [
      "project: xf_event_extr_t1, run_name: TP1+cln+BERT+g7, Epoch: 85/100, batch: 759/760, train_loss: 0.00040319458887339476, t_sample_acc: 0.7947957839262187,lr: 2.5051670895014352e-05, batch_time: 0.46611833572387695, total_time: 369.76113653182983 -------------"
     ]
    },
    {
     "name": "stderr",
     "output_type": "stream",
     "text": [
      "\r",
      "Validating:   0%|          | 0/108 [00:00<?, ?it/s]"
     ]
    },
    {
     "name": "stdout",
     "output_type": "stream",
     "text": [
      "\r",
      "project: xf_event_extr_t1, run_name: TP1+cln+BERT+g7, Epoch: 85/100, batch: 760/760, train_loss: 0.000403122277435542, t_sample_acc: 0.7949013157894737,lr: 2.5e-05, batch_time: 0.4730091094970703, total_time: 370.23709058761597 -------------{'train_loss': 0.000403122277435542, 'train_small_shaking_seq_acc': 0.7949013157894737, 'learning_rate': 2.5e-05, 'time': 370.39938855171204}\n"
     ]
    },
    {
     "name": "stderr",
     "output_type": "stream",
     "text": [
      "Validating: 100%|██████████| 108/108 [00:14<00:00,  7.64it/s]"
     ]
    },
    {
     "name": "stdout",
     "output_type": "stream",
     "text": [
      "{'val_shaking_tag_acc': 0.1430555555831503, 'val_prec': 0.5684167011161402, 'val_recall': 0.3794150110375171, 'val_f1': 0.45507198406582383, 'time': 14.136737585067749}\n",
      "{'time': 14.136737585067749,\n",
      " 'val_f1': 0.45507198406582383,\n",
      " 'val_prec': 0.5684167011161402,\n",
      " 'val_recall': 0.3794150110375171,\n",
      " 'val_shaking_tag_acc': 0.1430555555831503}\n",
      "Current avf_f1: 0.45507198406582383, Best f1: 0.47214941017454554\n"
     ]
    },
    {
     "name": "stderr",
     "output_type": "stream",
     "text": [
      "\n"
     ]
    },
    {
     "name": "stdout",
     "output_type": "stream",
     "text": [
      "project: xf_event_extr_t1, run_name: TP1+cln+BERT+g7, Epoch: 86/100, batch: 759/760, train_loss: 0.00016398456049188212, t_sample_acc: 0.9109025032938076,lr: 5.339768485712604e-11, batch_time: 0.4849889278411865, total_time: 369.19138503074646 ---------------"
     ]
    },
    {
     "name": "stderr",
     "output_type": "stream",
     "text": [
      "\r",
      "Validating:   0%|          | 0/108 [00:00<?, ?it/s]"
     ]
    },
    {
     "name": "stdout",
     "output_type": "stream",
     "text": [
      "\r",
      "project: xf_event_extr_t1, run_name: TP1+cln+BERT+g7, Epoch: 86/100, batch: 760/760, train_loss: 0.000163807027797403, t_sample_acc: 0.9110197368421052,lr: 5e-05, batch_time: 0.47128772735595703, total_time: 369.6694073677063 -------------{'train_loss': 0.000163807027797403, 'train_small_shaking_seq_acc': 0.9110197368421052, 'learning_rate': 5e-05, 'time': 369.812890291214}\n"
     ]
    },
    {
     "name": "stderr",
     "output_type": "stream",
     "text": [
      "Validating: 100%|██████████| 108/108 [00:13<00:00,  7.85it/s]"
     ]
    },
    {
     "name": "stdout",
     "output_type": "stream",
     "text": [
      "{'val_shaking_tag_acc': 0.15069444449963393, 'val_prec': 0.5757825370675216, 'val_recall': 0.3857615894039629, 'val_f1': 0.46199603432074116, 'time': 13.751832723617554}\n",
      "{'time': 13.751832723617554,\n",
      " 'val_f1': 0.46199603432074116,\n",
      " 'val_prec': 0.5757825370675216,\n",
      " 'val_recall': 0.3857615894039629,\n",
      " 'val_shaking_tag_acc': 0.15069444449963393}\n",
      "Current avf_f1: 0.46199603432074116, Best f1: 0.47214941017454554\n"
     ]
    },
    {
     "name": "stderr",
     "output_type": "stream",
     "text": [
      "\n"
     ]
    },
    {
     "name": "stdout",
     "output_type": "stream",
     "text": [
      "project: xf_event_extr_t1, run_name: TP1+cln+BERT+g7, Epoch: 87/100, batch: 759/760, train_loss: 0.00041546877008186704, t_sample_acc: 0.7919960474308301,lr: 2.5051670895014352e-05, batch_time: 0.4741666316986084, total_time: 368.8657865524292 ---------------"
     ]
    },
    {
     "name": "stderr",
     "output_type": "stream",
     "text": [
      "\r",
      "Validating:   0%|          | 0/108 [00:00<?, ?it/s]"
     ]
    },
    {
     "name": "stdout",
     "output_type": "stream",
     "text": [
      "\r",
      "project: xf_event_extr_t1, run_name: TP1+cln+BERT+g7, Epoch: 87/100, batch: 760/760, train_loss: 0.0004149608210848567, t_sample_acc: 0.7922697368421052,lr: 2.5e-05, batch_time: 0.47989654541015625, total_time: 369.3485372066498 -------------{'train_loss': 0.0004149608210848567, 'train_small_shaking_seq_acc': 0.7922697368421052, 'learning_rate': 2.5e-05, 'time': 369.4869804382324}\n"
     ]
    },
    {
     "name": "stderr",
     "output_type": "stream",
     "text": [
      "Validating: 100%|██████████| 108/108 [00:14<00:00,  7.50it/s]"
     ]
    },
    {
     "name": "stdout",
     "output_type": "stream",
     "text": [
      "{'val_shaking_tag_acc': 0.13032407410166882, 'val_prec': 0.5565040650406278, 'val_recall': 0.3777593818984443, 'val_f1': 0.4500328730616116, 'time': 14.406784534454346}\n",
      "{'time': 14.406784534454346,\n",
      " 'val_f1': 0.4500328730616116,\n",
      " 'val_prec': 0.5565040650406278,\n",
      " 'val_recall': 0.3777593818984443,\n",
      " 'val_shaking_tag_acc': 0.13032407410166882}\n",
      "Current avf_f1: 0.4500328730616116, Best f1: 0.47214941017454554\n"
     ]
    },
    {
     "name": "stderr",
     "output_type": "stream",
     "text": [
      "\n"
     ]
    },
    {
     "name": "stdout",
     "output_type": "stream",
     "text": [
      "project: xf_event_extr_t1, run_name: TP1+cln+BERT+g7, Epoch: 88/100, batch: 759/760, train_loss: 0.00016857316706935424, t_sample_acc: 0.9085968379446641,lr: 5.339768485712604e-11, batch_time: 0.4727895259857178, total_time: 370.8451898097992 ----------------"
     ]
    },
    {
     "name": "stderr",
     "output_type": "stream",
     "text": [
      "\r",
      "Validating:   0%|          | 0/108 [00:00<?, ?it/s]"
     ]
    },
    {
     "name": "stdout",
     "output_type": "stream",
     "text": [
      "\r",
      "project: xf_event_extr_t1, run_name: TP1+cln+BERT+g7, Epoch: 88/100, batch: 760/760, train_loss: 0.00016837688711581522, t_sample_acc: 0.9087171052631579,lr: 5e-05, batch_time: 0.4755227565765381, total_time: 371.327250957489 -------------{'train_loss': 0.00016837688711581522, 'train_small_shaking_seq_acc': 0.9087171052631579, 'learning_rate': 5e-05, 'time': 371.4653742313385}\n"
     ]
    },
    {
     "name": "stderr",
     "output_type": "stream",
     "text": [
      "Validating: 100%|██████████| 108/108 [00:13<00:00,  7.75it/s]"
     ]
    },
    {
     "name": "stdout",
     "output_type": "stream",
     "text": [
      "{'val_shaking_tag_acc': 0.14351851851851852, 'val_prec': 0.5628078817733759, 'val_recall': 0.3783112582781353, 'val_f1': 0.4524752474766592, 'time': 13.937728643417358}\n",
      "{'time': 13.937728643417358,\n",
      " 'val_f1': 0.4524752474766592,\n",
      " 'val_prec': 0.5628078817733759,\n",
      " 'val_recall': 0.3783112582781353,\n",
      " 'val_shaking_tag_acc': 0.14351851851851852}\n",
      "Current avf_f1: 0.4524752474766592, Best f1: 0.47214941017454554\n"
     ]
    },
    {
     "name": "stderr",
     "output_type": "stream",
     "text": [
      "\n"
     ]
    },
    {
     "name": "stdout",
     "output_type": "stream",
     "text": [
      "project: xf_event_extr_t1, run_name: TP1+cln+BERT+g7, Epoch: 89/100, batch: 759/760, train_loss: 0.00041741274954755335, t_sample_acc: 0.7939723320158103,lr: 2.5051670895014352e-05, batch_time: 0.4704594612121582, total_time: 368.0819389820099 ---------------"
     ]
    },
    {
     "name": "stderr",
     "output_type": "stream",
     "text": [
      "\r",
      "Validating:   0%|          | 0/108 [00:00<?, ?it/s]"
     ]
    },
    {
     "name": "stdout",
     "output_type": "stream",
     "text": [
      "\r",
      "project: xf_event_extr_t1, run_name: TP1+cln+BERT+g7, Epoch: 89/100, batch: 760/760, train_loss: 0.0004168703018457994, t_sample_acc: 0.7942434210526316,lr: 2.5e-05, batch_time: 0.4389002323150635, total_time: 368.5270960330963 -------------{'train_loss': 0.0004168703018457994, 'train_small_shaking_seq_acc': 0.7942434210526316, 'learning_rate': 2.5e-05, 'time': 368.7131607532501}\n"
     ]
    },
    {
     "name": "stderr",
     "output_type": "stream",
     "text": [
      "Validating: 100%|██████████| 108/108 [00:13<00:00,  7.77it/s]"
     ]
    },
    {
     "name": "stdout",
     "output_type": "stream",
     "text": [
      "{'val_shaking_tag_acc': 0.13194444444444445, 'val_prec': 0.5515245079119818, 'val_recall': 0.39431567328917233, 'val_f1': 0.4598551890100954, 'time': 13.898579120635986}\n",
      "{'time': 13.898579120635986,\n",
      " 'val_f1': 0.4598551890100954,\n",
      " 'val_prec': 0.5515245079119818,\n",
      " 'val_recall': 0.39431567328917233,\n",
      " 'val_shaking_tag_acc': 0.13194444444444445}\n",
      "Current avf_f1: 0.4598551890100954, Best f1: 0.47214941017454554\n"
     ]
    },
    {
     "name": "stderr",
     "output_type": "stream",
     "text": [
      "\n"
     ]
    },
    {
     "name": "stdout",
     "output_type": "stream",
     "text": [
      "project: xf_event_extr_t1, run_name: TP1+cln+BERT+g7, Epoch: 90/100, batch: 759/760, train_loss: 0.00016881206459657398, t_sample_acc: 0.9115612648221344,lr: 5.339768485712604e-11, batch_time: 0.46976494789123535, total_time: 368.9881784915924 ---------------"
     ]
    },
    {
     "name": "stderr",
     "output_type": "stream",
     "text": [
      "\r",
      "Validating:   0%|          | 0/108 [00:00<?, ?it/s]"
     ]
    },
    {
     "name": "stdout",
     "output_type": "stream",
     "text": [
      "\r",
      "project: xf_event_extr_t1, run_name: TP1+cln+BERT+g7, Epoch: 90/100, batch: 760/760, train_loss: 0.0001686024879231091, t_sample_acc: 0.9116776315789473,lr: 5e-05, batch_time: 0.4686768054962158, total_time: 369.4597098827362 -------------{'train_loss': 0.0001686024879231091, 'train_small_shaking_seq_acc': 0.9116776315789473, 'learning_rate': 5e-05, 'time': 369.6525638103485}\n"
     ]
    },
    {
     "name": "stderr",
     "output_type": "stream",
     "text": [
      "Validating: 100%|██████████| 108/108 [00:13<00:00,  7.79it/s]"
     ]
    },
    {
     "name": "stdout",
     "output_type": "stream",
     "text": [
      "{'val_shaking_tag_acc': 0.14467592592592593, 'val_prec': 0.5816453079784795, 'val_recall': 0.3882450331125721, 'val_f1': 0.46566275024156395, 'time': 13.864224672317505}\n",
      "{'time': 13.864224672317505,\n",
      " 'val_f1': 0.46566275024156395,\n",
      " 'val_prec': 0.5816453079784795,\n",
      " 'val_recall': 0.3882450331125721,\n",
      " 'val_shaking_tag_acc': 0.14467592592592593}\n",
      "Current avf_f1: 0.46566275024156395, Best f1: 0.47214941017454554\n"
     ]
    },
    {
     "name": "stderr",
     "output_type": "stream",
     "text": [
      "\n"
     ]
    },
    {
     "name": "stdout",
     "output_type": "stream",
     "text": [
      "project: xf_event_extr_t1, run_name: TP1+cln+BERT+g7, Epoch: 91/100, batch: 759/760, train_loss: 0.0004244262185339423, t_sample_acc: 0.794631093544137,lr: 2.5051670895014352e-05, batch_time: 0.47414255142211914, total_time: 366.99768900871277 ---------------"
     ]
    },
    {
     "name": "stderr",
     "output_type": "stream",
     "text": [
      "\r",
      "Validating:   0%|          | 0/108 [00:00<?, ?it/s]"
     ]
    },
    {
     "name": "stdout",
     "output_type": "stream",
     "text": [
      "\r",
      "project: xf_event_extr_t1, run_name: TP1+cln+BERT+g7, Epoch: 91/100, batch: 760/760, train_loss: 0.00042433777667180326, t_sample_acc: 0.7947368421052632,lr: 2.5e-05, batch_time: 0.4683210849761963, total_time: 367.4726357460022 -------------{'train_loss': 0.00042433777667180326, 'train_small_shaking_seq_acc': 0.7947368421052632, 'learning_rate': 2.5e-05, 'time': 367.6400532722473}\n"
     ]
    },
    {
     "name": "stderr",
     "output_type": "stream",
     "text": [
      "Validating: 100%|██████████| 108/108 [00:13<00:00,  7.92it/s]"
     ]
    },
    {
     "name": "stdout",
     "output_type": "stream",
     "text": [
      "{'val_shaking_tag_acc': 0.13495370373129845, 'val_prec': 0.5839449541284135, 'val_recall': 0.35126931567327946, 'val_f1': 0.4386629909937414, 'time': 13.631366729736328}\n",
      "{'time': 13.631366729736328,\n",
      " 'val_f1': 0.4386629909937414,\n",
      " 'val_prec': 0.5839449541284135,\n",
      " 'val_recall': 0.35126931567327946,\n",
      " 'val_shaking_tag_acc': 0.13495370373129845}\n",
      "Current avf_f1: 0.4386629909937414, Best f1: 0.47214941017454554\n"
     ]
    },
    {
     "name": "stderr",
     "output_type": "stream",
     "text": [
      "\n"
     ]
    },
    {
     "name": "stdout",
     "output_type": "stream",
     "text": [
      "project: xf_event_extr_t1, run_name: TP1+cln+BERT+g7, Epoch: 92/100, batch: 759/760, train_loss: 0.0001573211986577568, t_sample_acc: 0.91600790513834,lr: 5.339768485712604e-11, batch_time: 0.48473310470581055, total_time: 370.3073925971985 ------------------"
     ]
    },
    {
     "name": "stderr",
     "output_type": "stream",
     "text": [
      "\r",
      "Validating:   0%|          | 0/108 [00:00<?, ?it/s]"
     ]
    },
    {
     "name": "stdout",
     "output_type": "stream",
     "text": [
      "\r",
      "project: xf_event_extr_t1, run_name: TP1+cln+BERT+g7, Epoch: 92/100, batch: 760/760, train_loss: 0.00015714090455763821, t_sample_acc: 0.9161184210526315,lr: 5e-05, batch_time: 0.46843791007995605, total_time: 370.7788870334625 -------------{'train_loss': 0.00015714090455763821, 'train_small_shaking_seq_acc': 0.9161184210526315, 'learning_rate': 5e-05, 'time': 370.91768622398376}\n"
     ]
    },
    {
     "name": "stderr",
     "output_type": "stream",
     "text": [
      "Validating: 100%|██████████| 108/108 [00:13<00:00,  7.81it/s]"
     ]
    },
    {
     "name": "stdout",
     "output_type": "stream",
     "text": [
      "{'val_shaking_tag_acc': 0.1527777777777778, 'val_prec': 0.5777223607647307, 'val_recall': 0.3835540838851991, 'val_f1': 0.4610281923235007, 'time': 13.826887845993042}\n",
      "{'time': 13.826887845993042,\n",
      " 'val_f1': 0.4610281923235007,\n",
      " 'val_prec': 0.5777223607647307,\n",
      " 'val_recall': 0.3835540838851991,\n",
      " 'val_shaking_tag_acc': 0.1527777777777778}\n",
      "Current avf_f1: 0.4610281923235007, Best f1: 0.47214941017454554\n"
     ]
    },
    {
     "name": "stderr",
     "output_type": "stream",
     "text": [
      "\n"
     ]
    },
    {
     "name": "stdout",
     "output_type": "stream",
     "text": [
      "project: xf_event_extr_t1, run_name: TP1+cln+BERT+g7, Epoch: 93/100, batch: 759/760, train_loss: 0.00041389826790389617, t_sample_acc: 0.7969367588932806,lr: 2.5051670895014352e-05, batch_time: 0.4977858066558838, total_time: 370.0635838508606 ---------------"
     ]
    },
    {
     "name": "stderr",
     "output_type": "stream",
     "text": [
      "\r",
      "Validating:   0%|          | 0/108 [00:00<?, ?it/s]"
     ]
    },
    {
     "name": "stdout",
     "output_type": "stream",
     "text": [
      "\r",
      "project: xf_event_extr_t1, run_name: TP1+cln+BERT+g7, Epoch: 93/100, batch: 760/760, train_loss: 0.0004142905477046473, t_sample_acc: 0.7967105263157894,lr: 2.5e-05, batch_time: 0.4775235652923584, total_time: 370.54434275627136 -------------{'train_loss': 0.0004142905477046473, 'train_small_shaking_seq_acc': 0.7967105263157894, 'learning_rate': 2.5e-05, 'time': 370.7248623371124}\n"
     ]
    },
    {
     "name": "stderr",
     "output_type": "stream",
     "text": [
      "Validating: 100%|██████████| 108/108 [00:14<00:00,  7.59it/s]"
     ]
    },
    {
     "name": "stdout",
     "output_type": "stream",
     "text": [
      "{'val_shaking_tag_acc': 0.14328703725779499, 'val_prec': 0.5788288288288027, 'val_recall': 0.3545805739514251, 'val_f1': 0.43976728263596465, 'time': 14.237161636352539}\n",
      "{'time': 14.237161636352539,\n",
      " 'val_f1': 0.43976728263596465,\n",
      " 'val_prec': 0.5788288288288027,\n",
      " 'val_recall': 0.3545805739514251,\n",
      " 'val_shaking_tag_acc': 0.14328703725779499}\n",
      "Current avf_f1: 0.43976728263596465, Best f1: 0.47214941017454554\n"
     ]
    },
    {
     "name": "stderr",
     "output_type": "stream",
     "text": [
      "\n"
     ]
    },
    {
     "name": "stdout",
     "output_type": "stream",
     "text": [
      "project: xf_event_extr_t1, run_name: TP1+cln+BERT+g7, Epoch: 94/100, batch: 759/760, train_loss: 0.00014909776035957427, t_sample_acc: 0.9145256916996047,lr: 5.339768485712604e-11, batch_time: 0.4716310501098633, total_time: 369.6730327606201 ----------------"
     ]
    },
    {
     "name": "stderr",
     "output_type": "stream",
     "text": [
      "\r",
      "Validating:   0%|          | 0/108 [00:00<?, ?it/s]"
     ]
    },
    {
     "name": "stdout",
     "output_type": "stream",
     "text": [
      "\r",
      "project: xf_event_extr_t1, run_name: TP1+cln+BERT+g7, Epoch: 94/100, batch: 760/760, train_loss: 0.00014892164942771638, t_sample_acc: 0.9146381578947368,lr: 5e-05, batch_time: 0.46869516372680664, total_time: 370.1480760574341 -------------{'train_loss': 0.00014892164942771638, 'train_small_shaking_seq_acc': 0.9146381578947368, 'learning_rate': 5e-05, 'time': 370.29072308540344}\n"
     ]
    },
    {
     "name": "stderr",
     "output_type": "stream",
     "text": [
      "Validating: 100%|██████████| 108/108 [00:14<00:00,  7.57it/s]\n"
     ]
    },
    {
     "name": "stdout",
     "output_type": "stream",
     "text": [
      "{'val_shaking_tag_acc': 0.14074074076833548, 'val_prec': 0.5753542292829293, 'val_recall': 0.36975717439292577, 'val_f1': 0.4501931798616404, 'time': 14.268676280975342}\n",
      "{'time': 14.268676280975342,\n",
      " 'val_f1': 0.4501931798616404,\n",
      " 'val_prec': 0.5753542292829293,\n",
      " 'val_recall': 0.36975717439292577,\n",
      " 'val_shaking_tag_acc': 0.14074074076833548}\n",
      "Current avf_f1: 0.4501931798616404, Best f1: 0.47214941017454554\n",
      "project: xf_event_extr_t1, run_name: TP1+cln+BERT+g7, Epoch: 95/100, batch: 759/760, train_loss: 0.0004064932800558887, t_sample_acc: 0.8071475625823452,lr: 2.5051670895014352e-05, batch_time: 0.4717104434967041, total_time: 369.9268538951874 ----------------"
     ]
    },
    {
     "name": "stderr",
     "output_type": "stream",
     "text": [
      "\r",
      "Validating:   0%|          | 0/108 [00:00<?, ?it/s]"
     ]
    },
    {
     "name": "stdout",
     "output_type": "stream",
     "text": [
      "\r",
      "project: xf_event_extr_t1, run_name: TP1+cln+BERT+g7, Epoch: 95/100, batch: 760/760, train_loss: 0.0004066788328002172, t_sample_acc: 0.8070723684210527,lr: 2.5e-05, batch_time: 0.47275710105895996, total_time: 370.40636801719666 -------------{'train_loss': 0.0004066788328002172, 'train_small_shaking_seq_acc': 0.8070723684210527, 'learning_rate': 2.5e-05, 'time': 370.5282814502716}\n"
     ]
    },
    {
     "name": "stderr",
     "output_type": "stream",
     "text": [
      "Validating: 100%|██████████| 108/108 [00:13<00:00,  7.90it/s]"
     ]
    },
    {
     "name": "stdout",
     "output_type": "stream",
     "text": [
      "{'val_shaking_tag_acc': 0.12222222224981696, 'val_prec': 0.5409582689335185, 'val_recall': 0.3863134657836538, 'val_f1': 0.45074050220507866, 'time': 13.681772947311401}\n",
      "{'time': 13.681772947311401,\n",
      " 'val_f1': 0.45074050220507866,\n",
      " 'val_prec': 0.5409582689335185,\n",
      " 'val_recall': 0.3863134657836538,\n",
      " 'val_shaking_tag_acc': 0.12222222224981696}\n",
      "Current avf_f1: 0.45074050220507866, Best f1: 0.47214941017454554\n"
     ]
    },
    {
     "name": "stderr",
     "output_type": "stream",
     "text": [
      "\n"
     ]
    },
    {
     "name": "stdout",
     "output_type": "stream",
     "text": [
      "project: xf_event_extr_t1, run_name: TP1+cln+BERT+g7, Epoch: 96/100, batch: 759/760, train_loss: 0.00015839334745595303, t_sample_acc: 0.9112318840579711,lr: 5.339768485712604e-11, batch_time: 0.4743475914001465, total_time: 369.99680519104004 ---------------"
     ]
    },
    {
     "name": "stderr",
     "output_type": "stream",
     "text": [
      "\r",
      "Validating:   0%|          | 0/108 [00:00<?, ?it/s]"
     ]
    },
    {
     "name": "stdout",
     "output_type": "stream",
     "text": [
      "\r",
      "project: xf_event_extr_t1, run_name: TP1+cln+BERT+g7, Epoch: 96/100, batch: 760/760, train_loss: 0.00015931070869418075, t_sample_acc: 0.9110197368421052,lr: 5e-05, batch_time: 0.4691164493560791, total_time: 370.47218775749207 -------------{'train_loss': 0.00015931070869418075, 'train_small_shaking_seq_acc': 0.9110197368421052, 'learning_rate': 5e-05, 'time': 370.6210045814514}\n"
     ]
    },
    {
     "name": "stderr",
     "output_type": "stream",
     "text": [
      "Validating: 100%|██████████| 108/108 [00:14<00:00,  7.41it/s]"
     ]
    },
    {
     "name": "stdout",
     "output_type": "stream",
     "text": [
      "{'val_shaking_tag_acc': 0.15162037037037038, 'val_prec': 0.5642105263157657, 'val_recall': 0.36975717439292577, 'val_f1': 0.44674112347273925, 'time': 14.588756799697876}\n",
      "{'time': 14.588756799697876,\n",
      " 'val_f1': 0.44674112347273925,\n",
      " 'val_prec': 0.5642105263157657,\n",
      " 'val_recall': 0.36975717439292577,\n",
      " 'val_shaking_tag_acc': 0.15162037037037038}\n",
      "Current avf_f1: 0.44674112347273925, Best f1: 0.47214941017454554\n"
     ]
    },
    {
     "name": "stderr",
     "output_type": "stream",
     "text": [
      "\n"
     ]
    },
    {
     "name": "stdout",
     "output_type": "stream",
     "text": [
      "project: xf_event_extr_t1, run_name: TP1+cln+BERT+g7, Epoch: 97/100, batch: 759/760, train_loss: 0.0003124674273566069, t_sample_acc: 0.8405797101449275,lr: 2.5051670895014352e-05, batch_time: 0.4645576477050781, total_time: 370.61440992355347 ---------------"
     ]
    },
    {
     "name": "stderr",
     "output_type": "stream",
     "text": [
      "\r",
      "Validating:   0%|          | 0/108 [00:00<?, ?it/s]"
     ]
    },
    {
     "name": "stdout",
     "output_type": "stream",
     "text": [
      "\r",
      "project: xf_event_extr_t1, run_name: TP1+cln+BERT+g7, Epoch: 97/100, batch: 760/760, train_loss: 0.00031218131718057854, t_sample_acc: 0.840625,lr: 2.5e-05, batch_time: 0.4641578197479248, total_time: 371.08578085899353 -------------{'train_loss': 0.00031218131718057854, 'train_small_shaking_seq_acc': 0.840625, 'learning_rate': 2.5e-05, 'time': 371.2401473522186}\n"
     ]
    },
    {
     "name": "stderr",
     "output_type": "stream",
     "text": [
      "Validating: 100%|██████████| 108/108 [00:14<00:00,  7.57it/s]"
     ]
    },
    {
     "name": "stdout",
     "output_type": "stream",
     "text": [
      "{'val_shaking_tag_acc': 0.12962962962962962, 'val_prec': 0.5602660016624871, 'val_recall': 0.3719646799116895, 'val_f1': 0.44709784406479464, 'time': 14.269753694534302}\n",
      "{'time': 14.269753694534302,\n",
      " 'val_f1': 0.44709784406479464,\n",
      " 'val_prec': 0.5602660016624871,\n",
      " 'val_recall': 0.3719646799116895,\n",
      " 'val_shaking_tag_acc': 0.12962962962962962}\n",
      "Current avf_f1: 0.44709784406479464, Best f1: 0.47214941017454554\n"
     ]
    },
    {
     "name": "stderr",
     "output_type": "stream",
     "text": [
      "\n"
     ]
    },
    {
     "name": "stdout",
     "output_type": "stream",
     "text": [
      "project: xf_event_extr_t1, run_name: TP1+cln+BERT+g7, Epoch: 98/100, batch: 759/760, train_loss: 0.0001268482625261385, t_sample_acc: 0.9235836627140975,lr: 5.339768485712604e-11, batch_time: 0.5102758407592773, total_time: 372.03628492355347 ----------------"
     ]
    },
    {
     "name": "stderr",
     "output_type": "stream",
     "text": [
      "\r",
      "Validating:   0%|          | 0/108 [00:00<?, ?it/s]"
     ]
    },
    {
     "name": "stdout",
     "output_type": "stream",
     "text": [
      "\r",
      "project: xf_event_extr_t1, run_name: TP1+cln+BERT+g7, Epoch: 98/100, batch: 760/760, train_loss: 0.00012842616816298783, t_sample_acc: 0.9235197368421053,lr: 5e-05, batch_time: 0.516895055770874, total_time: 372.5564594268799 -------------{'train_loss': 0.00012842616816298783, 'train_small_shaking_seq_acc': 0.9235197368421053, 'learning_rate': 5e-05, 'time': 372.68304443359375}\n"
     ]
    },
    {
     "name": "stderr",
     "output_type": "stream",
     "text": [
      "Validating: 100%|██████████| 108/108 [00:14<00:00,  7.29it/s]"
     ]
    },
    {
     "name": "stdout",
     "output_type": "stream",
     "text": [
      "{'val_shaking_tag_acc': 0.1444444446652024, 'val_prec': 0.5778790389394955, 'val_recall': 0.3849337748344265, 'val_f1': 0.4620735342348678, 'time': 14.809163331985474}\n",
      "{'time': 14.809163331985474,\n",
      " 'val_f1': 0.4620735342348678,\n",
      " 'val_prec': 0.5778790389394955,\n",
      " 'val_recall': 0.3849337748344265,\n",
      " 'val_shaking_tag_acc': 0.1444444446652024}\n",
      "Current avf_f1: 0.4620735342348678, Best f1: 0.47214941017454554\n"
     ]
    },
    {
     "name": "stderr",
     "output_type": "stream",
     "text": [
      "\n"
     ]
    },
    {
     "name": "stdout",
     "output_type": "stream",
     "text": [
      "project: xf_event_extr_t1, run_name: TP1+cln+BERT+g7, Epoch: 99/100, batch: 759/760, train_loss: 0.00032328817699896916, t_sample_acc: 0.8306982872200264,lr: 2.5051670895014352e-05, batch_time: 0.47127795219421387, total_time: 370.58039474487305 -------------"
     ]
    },
    {
     "name": "stderr",
     "output_type": "stream",
     "text": [
      "\r",
      "Validating:   0%|          | 0/108 [00:00<?, ?it/s]"
     ]
    },
    {
     "name": "stdout",
     "output_type": "stream",
     "text": [
      "\r",
      "project: xf_event_extr_t1, run_name: TP1+cln+BERT+g7, Epoch: 99/100, batch: 760/760, train_loss: 0.00032345219829189295, t_sample_acc: 0.8307565789473684,lr: 2.5e-05, batch_time: 0.4703207015991211, total_time: 371.05345726013184 -------------{'train_loss': 0.00032345219829189295, 'train_small_shaking_seq_acc': 0.8307565789473684, 'learning_rate': 2.5e-05, 'time': 371.2310883998871}\n"
     ]
    },
    {
     "name": "stderr",
     "output_type": "stream",
     "text": [
      "Validating: 100%|██████████| 108/108 [00:14<00:00,  7.56it/s]"
     ]
    },
    {
     "name": "stdout",
     "output_type": "stream",
     "text": [
      "{'val_shaking_tag_acc': 0.14583333333333334, 'val_prec': 0.5972602739725754, 'val_recall': 0.3609271523178708, 'val_f1': 0.4499484003658229, 'time': 14.288562297821045}\n",
      "{'time': 14.288562297821045,\n",
      " 'val_f1': 0.4499484003658229,\n",
      " 'val_prec': 0.5972602739725754,\n",
      " 'val_recall': 0.3609271523178708,\n",
      " 'val_shaking_tag_acc': 0.14583333333333334}\n",
      "Current avf_f1: 0.4499484003658229, Best f1: 0.47214941017454554\n"
     ]
    },
    {
     "name": "stderr",
     "output_type": "stream",
     "text": [
      "\n"
     ]
    },
    {
     "name": "stdout",
     "output_type": "stream",
     "text": [
      "project: xf_event_extr_t1, run_name: TP1+cln+BERT+g7, Epoch: 100/100, batch: 759/760, train_loss: 0.000146584930031636, t_sample_acc: 0.91600790513834,lr: 5.339768485712604e-11, batch_time: 0.47422242164611816, total_time: 369.7029585838318 -------------------"
     ]
    },
    {
     "name": "stderr",
     "output_type": "stream",
     "text": [
      "\r",
      "Validating:   0%|          | 0/108 [00:00<?, ?it/s]"
     ]
    },
    {
     "name": "stdout",
     "output_type": "stream",
     "text": [
      "\r",
      "project: xf_event_extr_t1, run_name: TP1+cln+BERT+g7, Epoch: 100/100, batch: 760/760, train_loss: 0.00014640990236081938, t_sample_acc: 0.9161184210526315,lr: 5e-05, batch_time: 0.4691011905670166, total_time: 370.1787896156311 -------------{'train_loss': 0.00014640990236081938, 'train_small_shaking_seq_acc': 0.9161184210526315, 'learning_rate': 5e-05, 'time': 370.3398356437683}\n"
     ]
    },
    {
     "name": "stderr",
     "output_type": "stream",
     "text": [
      "Validating: 100%|██████████| 108/108 [00:13<00:00,  7.73it/s]"
     ]
    },
    {
     "name": "stdout",
     "output_type": "stream",
     "text": [
      "{'val_shaking_tag_acc': 0.1597222222222222, 'val_prec': 0.583676834295112, 'val_recall': 0.3907284768211813, 'val_f1': 0.46809917350566405, 'time': 13.968750238418579}\n",
      "{'time': 13.968750238418579,\n",
      " 'val_f1': 0.46809917350566405,\n",
      " 'val_prec': 0.583676834295112,\n",
      " 'val_recall': 0.3907284768211813,\n",
      " 'val_shaking_tag_acc': 0.1597222222222222}\n",
      "Current avf_f1: 0.46809917350566405, Best f1: 0.47214941017454554\n"
     ]
    },
    {
     "name": "stderr",
     "output_type": "stream",
     "text": [
      "\n"
     ]
    }
   ],
   "source": [
    "if not config[\"fr_scratch\"]:\n",
    "    model_state_path = config[\"model_state_dict_path\"]\n",
    "    rel_extractor.load_state_dict(torch.load(model_state_path))\n",
    "    print(\"------------model state {} loaded ----------------\".format(model_state_path.split(\"/\")[-1]))\n",
    "\n",
    "\n",
    "train_n_valid(train_dataloader, valid_dataloader, optimizer, scheduler, hyper_parameters[\"epochs\"])"
   ]
  }
 ],
 "metadata": {
  "kernelspec": {
   "display_name": "Python 3",
   "language": "python",
   "name": "python3"
  },
  "language_info": {
   "codemirror_mode": {
    "name": "ipython",
    "version": 3
   },
   "file_extension": ".py",
   "mimetype": "text/x-python",
   "name": "python",
   "nbconvert_exporter": "python",
   "pygments_lexer": "ipython3",
   "version": "3.6.9"
  }
 },
 "nbformat": 4,
 "nbformat_minor": 2
}
